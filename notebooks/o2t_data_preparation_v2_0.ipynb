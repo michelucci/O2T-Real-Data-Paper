{
  "nbformat": 4,
  "nbformat_minor": 0,
  "metadata": {
    "kernelspec": {
      "name": "python3",
      "display_name": "Python 3"
    },
    "language_info": {
      "codemirror_mode": {
        "name": "ipython",
        "version": 3
      },
      "file_extension": ".py",
      "mimetype": "text/x-python",
      "name": "python",
      "nbconvert_exporter": "python",
      "pygments_lexer": "ipython3",
      "version": "3.7.2"
    },
    "colab": {
      "name": "o2t_data_preparation v2.0.ipynb",
      "provenance": [],
      "collapsed_sections": [],
      "include_colab_link": true
    },
    "accelerator": "GPU"
  },
  "cells": [
    {
      "cell_type": "markdown",
      "metadata": {
        "id": "view-in-github",
        "colab_type": "text"
      },
      "source": [
        "<a href=\"https://colab.research.google.com/github/michelucci/O2T-Real-Data-Paper/blob/master/notebooks/o2t_data_preparation_v2_0.ipynb\" target=\"_parent\"><img src=\"https://colab.research.google.com/assets/colab-badge.svg\" alt=\"Open In Colab\"/></a>"
      ]
    },
    {
      "cell_type": "markdown",
      "metadata": {
        "id": "He4RexDVpZy9",
        "colab_type": "text"
      },
      "source": [
        "# Data preparation\n",
        "\n",
        "This notebook has the goal of reading the data in the original format and put it in a more reasonable format (pandas). So that we could actually work with them.\n",
        "\n",
        "Version 0.1 - 2.6.2019"
      ]
    },
    {
      "cell_type": "code",
      "metadata": {
        "id": "2d86cKE_pZy_",
        "colab_type": "code",
        "colab": {}
      },
      "source": [
        "import numpy as np\n",
        "import pandas as pd\n",
        "import matplotlib.pyplot as plt\n",
        "import re\n",
        "from os import walk"
      ],
      "execution_count": 0,
      "outputs": []
    },
    {
      "cell_type": "code",
      "metadata": {
        "id": "K9P1DpOyqYq6",
        "colab_type": "code",
        "outputId": "1e5b9c00-19a1-4489-ef5d-42f8d75caece",
        "colab": {
          "base_uri": "https://localhost:8080/",
          "height": 703
        }
      },
      "source": [
        "!pip install tensorflow-gpu\n",
        "import tensorflow as tf"
      ],
      "execution_count": 2,
      "outputs": [
        {
          "output_type": "stream",
          "text": [
            "Collecting tensorflow-gpu\n",
            "\u001b[?25l  Downloading https://files.pythonhosted.org/packages/25/44/47f0722aea081697143fbcf5d2aa60d1aee4aaacb5869aee2b568974777b/tensorflow_gpu-2.0.0-cp36-cp36m-manylinux2010_x86_64.whl (380.8MB)\n",
            "\u001b[K     |████████████████████████████████| 380.8MB 47kB/s \n",
            "\u001b[?25hRequirement already satisfied: wrapt>=1.11.1 in /usr/local/lib/python3.6/dist-packages (from tensorflow-gpu) (1.11.2)\n",
            "Requirement already satisfied: numpy<2.0,>=1.16.0 in /usr/local/lib/python3.6/dist-packages (from tensorflow-gpu) (1.17.3)\n",
            "Requirement already satisfied: grpcio>=1.8.6 in /usr/local/lib/python3.6/dist-packages (from tensorflow-gpu) (1.15.0)\n",
            "Collecting tensorboard<2.1.0,>=2.0.0\n",
            "\u001b[?25l  Downloading https://files.pythonhosted.org/packages/9b/a6/e8ffa4e2ddb216449d34cfcb825ebb38206bee5c4553d69e7bc8bc2c5d64/tensorboard-2.0.0-py3-none-any.whl (3.8MB)\n",
            "\u001b[K     |████████████████████████████████| 3.8MB 29.3MB/s \n",
            "\u001b[?25hRequirement already satisfied: gast==0.2.2 in /usr/local/lib/python3.6/dist-packages (from tensorflow-gpu) (0.2.2)\n",
            "Requirement already satisfied: absl-py>=0.7.0 in /usr/local/lib/python3.6/dist-packages (from tensorflow-gpu) (0.8.1)\n",
            "Requirement already satisfied: opt-einsum>=2.3.2 in /usr/local/lib/python3.6/dist-packages (from tensorflow-gpu) (3.1.0)\n",
            "Requirement already satisfied: keras-applications>=1.0.8 in /usr/local/lib/python3.6/dist-packages (from tensorflow-gpu) (1.0.8)\n",
            "Requirement already satisfied: astor>=0.6.0 in /usr/local/lib/python3.6/dist-packages (from tensorflow-gpu) (0.8.0)\n",
            "Requirement already satisfied: keras-preprocessing>=1.0.5 in /usr/local/lib/python3.6/dist-packages (from tensorflow-gpu) (1.1.0)\n",
            "Collecting tensorflow-estimator<2.1.0,>=2.0.0\n",
            "\u001b[?25l  Downloading https://files.pythonhosted.org/packages/fc/08/8b927337b7019c374719145d1dceba21a8bb909b93b1ad6f8fb7d22c1ca1/tensorflow_estimator-2.0.1-py2.py3-none-any.whl (449kB)\n",
            "\u001b[K     |████████████████████████████████| 450kB 46.4MB/s \n",
            "\u001b[?25hRequirement already satisfied: termcolor>=1.1.0 in /usr/local/lib/python3.6/dist-packages (from tensorflow-gpu) (1.1.0)\n",
            "Requirement already satisfied: six>=1.10.0 in /usr/local/lib/python3.6/dist-packages (from tensorflow-gpu) (1.12.0)\n",
            "Requirement already satisfied: google-pasta>=0.1.6 in /usr/local/lib/python3.6/dist-packages (from tensorflow-gpu) (0.1.7)\n",
            "Requirement already satisfied: protobuf>=3.6.1 in /usr/local/lib/python3.6/dist-packages (from tensorflow-gpu) (3.10.0)\n",
            "Requirement already satisfied: wheel>=0.26 in /usr/local/lib/python3.6/dist-packages (from tensorflow-gpu) (0.33.6)\n",
            "Requirement already satisfied: werkzeug>=0.11.15 in /usr/local/lib/python3.6/dist-packages (from tensorboard<2.1.0,>=2.0.0->tensorflow-gpu) (0.16.0)\n",
            "Requirement already satisfied: setuptools>=41.0.0 in /usr/local/lib/python3.6/dist-packages (from tensorboard<2.1.0,>=2.0.0->tensorflow-gpu) (41.4.0)\n",
            "Requirement already satisfied: markdown>=2.6.8 in /usr/local/lib/python3.6/dist-packages (from tensorboard<2.1.0,>=2.0.0->tensorflow-gpu) (3.1.1)\n",
            "Requirement already satisfied: h5py in /usr/local/lib/python3.6/dist-packages (from keras-applications>=1.0.8->tensorflow-gpu) (2.8.0)\n",
            "\u001b[31mERROR: tensorflow 1.15.0 has requirement tensorboard<1.16.0,>=1.15.0, but you'll have tensorboard 2.0.0 which is incompatible.\u001b[0m\n",
            "\u001b[31mERROR: tensorflow 1.15.0 has requirement tensorflow-estimator==1.15.1, but you'll have tensorflow-estimator 2.0.1 which is incompatible.\u001b[0m\n",
            "Installing collected packages: tensorboard, tensorflow-estimator, tensorflow-gpu\n",
            "  Found existing installation: tensorboard 1.15.0\n",
            "    Uninstalling tensorboard-1.15.0:\n",
            "      Successfully uninstalled tensorboard-1.15.0\n",
            "  Found existing installation: tensorflow-estimator 1.15.1\n",
            "    Uninstalling tensorflow-estimator-1.15.1:\n",
            "      Successfully uninstalled tensorflow-estimator-1.15.1\n",
            "Successfully installed tensorboard-2.0.0 tensorflow-estimator-2.0.1 tensorflow-gpu-2.0.0\n"
          ],
          "name": "stdout"
        }
      ]
    },
    {
      "cell_type": "code",
      "metadata": {
        "id": "oWqZ-Mo9qhv0",
        "colab_type": "code",
        "outputId": "119603ba-09dc-4dd5-fd94-200652b9e57f",
        "colab": {
          "base_uri": "https://localhost:8080/",
          "height": 35
        }
      },
      "source": [
        "from google.colab import drive\n",
        "drive.mount('/content/drive')"
      ],
      "execution_count": 190,
      "outputs": [
        {
          "output_type": "stream",
          "text": [
            "Mounted at /content/drive\n"
          ],
          "name": "stdout"
        }
      ]
    },
    {
      "cell_type": "code",
      "metadata": {
        "id": "IyV-OUsNqyqb",
        "colab_type": "code",
        "colab": {}
      },
      "source": [
        "root_folder = \"/content/drive/My Drive/data/O2T/\""
      ],
      "execution_count": 0,
      "outputs": []
    },
    {
      "cell_type": "markdown",
      "metadata": {
        "id": "UmnjucJApZzB",
        "colab_type": "text"
      },
      "source": [
        "## Functions"
      ]
    },
    {
      "cell_type": "code",
      "metadata": {
        "id": "vdprfyzwpZzC",
        "colab_type": "code",
        "colab": {}
      },
      "source": [
        "def read_data_file(name):\n",
        "    d = {}\n",
        "    with open(name, encoding=\"iso8859-1\") as f:\n",
        "        for line in f:\n",
        "            if (\"=\" in line):\n",
        "                (key, val) = line.split('=')\n",
        "                d[key] = val\n",
        "    return d"
      ],
      "execution_count": 0,
      "outputs": []
    },
    {
      "cell_type": "code",
      "metadata": {
        "id": "tGIzOztapZzE",
        "colab_type": "code",
        "colab": {}
      },
      "source": [
        "def print_dict(d):\n",
        "    for key, val in d.items():\n",
        "        print (key)\n",
        "        print (val)\n",
        "        print (\"----\")"
      ],
      "execution_count": 0,
      "outputs": []
    },
    {
      "cell_type": "code",
      "metadata": {
        "id": "KZl1dFaipZzG",
        "colab_type": "code",
        "colab": {}
      },
      "source": [
        "def convert_dictionary(d):\n",
        "    d_ = {'T': -1, 'O2': -1, 'iter':-1, 'freq':[0], 'data': [0]}\n",
        "    d_['T'] = int(d['Temperature (°C)'].rstrip())\n",
        "    d_['O2'] = int(d['Concentration O2Air (%)'].rstrip())\n",
        "    d_['iter'] = int(d['Iterations'].rstrip())\n",
        "    d_['freq'] = np.array(re.sub(r'\\<.*\\>', '', d['Frequency (Hz)']).rstrip().split(\",\"))\n",
        "    d_['data'] = np.array(re.sub(r'\\<.*\\>', '', d['Phi Comp (°)']).rstrip().split(\",\")).reshape(d_['iter'], d_['freq'].shape[0])\n",
        "    \n",
        "    d_['freq'] = [d_['freq']]\n",
        "    d_['data'] = [d_['data']]\n",
        "    \n",
        "    p = pd.DataFrame.from_dict(d_)\n",
        "    return p"
      ],
      "execution_count": 0,
      "outputs": []
    },
    {
      "cell_type": "code",
      "metadata": {
        "id": "p0g-ByTZpZzI",
        "colab_type": "code",
        "colab": {}
      },
      "source": [
        "def generate_dataframe_from_directory(path):\n",
        "    df = pd.DataFrame()\n",
        "\n",
        "    for (dirpath, dirnames, filenames) in walk(path):\n",
        "        for filename in filenames:\n",
        "            # Read the files\n",
        "            if (filename.lower().endswith('txt') and filename.lower().startswith('temp')):\n",
        "                #print('Reading '+filename)\n",
        "                d = read_data_file(root_folder+filename)\n",
        "                p = convert_dictionary(d)\n",
        "                df = df.append(p)\n",
        "                \n",
        "    return df"
      ],
      "execution_count": 0,
      "outputs": []
    },
    {
      "cell_type": "markdown",
      "metadata": {
        "id": "gYgdJvQYpZzK",
        "colab_type": "text"
      },
      "source": [
        "## Study and test data format"
      ]
    },
    {
      "cell_type": "code",
      "metadata": {
        "id": "1GPJ02BFpZzL",
        "colab_type": "code",
        "outputId": "fe48d3e0-b8b7-49ff-cb4e-72895c38dd54",
        "colab": {
          "base_uri": "https://localhost:8080/",
          "height": 685
        }
      },
      "source": [
        "d = read_data_file(root_folder + \"Reference.txt\")\n",
        "print_dict(d)"
      ],
      "execution_count": 9,
      "outputs": [
        {
          "output_type": "stream",
          "text": [
            "MGI RWA Section Options\n",
            "2.0.1 %04Y%02m%02d %02H%02M%S%25u*~\u001b|.\u0017%d*~\u001b|.\u0017,*~\u001b|.\u0017%#_13g\n",
            "\n",
            "----\n",
            "File\n",
            "C:\\Projekte\\LuminescenceAI\\RealProbe5mm\\Data\\Temp_25deg_Conc_100perc.txt\n",
            "\n",
            "----\n",
            "Date, Time\n",
            "26.04.2019, 12:52\n",
            "\n",
            "----\n",
            "Temperature (°C)\n",
            "25\n",
            "\n",
            "----\n",
            "Concentration O2Air (%)\n",
            "100\n",
            "\n",
            "----\n",
            "Iterations\n",
            "1\n",
            "\n",
            "----\n",
            "Frequency (Hz)\n",
            "<50>200,300,400,500,600,700,800,900,1000,1250,1500,1750,2000,2250,2500,2750,3000,3250,3500,3750,4000,4250,4500,4750,5000,5250,5500,5750,6000,6250,6500,6750,7000,7250,7500,7750,8000,8250,8500,8750,9000,9250,9500,9750,10000,11000,12000,13000,14000,15000\n",
            "\n",
            "----\n",
            "Phi Comp (°)\n",
            "<50>-0.354,-0.57,-0.786,-0.99,-1.194,-1.404,-1.602,-1.8,-1.998,-2.502,-3,-3.51,-4.002,-4.506,-5.016,-5.508,-6.012,-6.516,-7.014,-7.512,-8.004,-8.502,-9,-9.492,-9.984,-10.482,-10.974,-11.466,-11.952,-12.444,-12.93,-13.416,-13.902,-14.388,-14.874,-15.36,-15.84,-16.32,-16.8,-17.274,-17.754,-18.234,-18.702,-19.176,-19.644,-21.522,-23.37,-25.2,-26.994,-28.776\n",
            "\n",
            "----\n",
            "R (V)\n",
            "<50>0.298922,0.298952,0.298983,0.298922,0.298861,0.29883,0.29883,0.29883,0.298769,0.298738,0.298647,0.298555,0.298464,0.298311,0.298128,0.298006,0.297823,0.29764,0.297426,0.297213,0.296968,0.296785,0.296511,0.296236,0.295931,0.295656,0.295321,0.294954,0.29468,0.294313,0.293917,0.29355,0.293184,0.292757,0.29233,0.291933,0.291445,0.291018,0.29059,0.290133,0.289644,0.289125,0.288637,0.288088,0.2876,0.285402,0.283022,0.280519,0.277895,0.275179\n",
            "\n",
            "----\n"
          ],
          "name": "stdout"
        }
      ]
    },
    {
      "cell_type": "code",
      "metadata": {
        "id": "FO1PzrZ0pZzN",
        "colab_type": "code",
        "colab": {}
      },
      "source": [
        "d = read_data_file(root_folder + \"Temp_5deg_Conc_0perc.txt\")\n",
        "d = convert_dictionary(d)"
      ],
      "execution_count": 0,
      "outputs": []
    },
    {
      "cell_type": "markdown",
      "metadata": {
        "id": "umaECFz5FMbC",
        "colab_type": "text"
      },
      "source": [
        "## Load the reference file"
      ]
    },
    {
      "cell_type": "markdown",
      "metadata": {
        "id": "AUkxLwzdFICA",
        "colab_type": "text"
      },
      "source": [
        "We load now the reference file. This needs to be subtracted by all other measurements."
      ]
    },
    {
      "cell_type": "code",
      "metadata": {
        "id": "x5uc32NoE_Yf",
        "colab_type": "code",
        "colab": {}
      },
      "source": [
        "ref = read_data_file(root_folder + \"Reference.txt\")\n",
        "ref = convert_dictionary(ref)\n",
        "ref_data = ref.data[0].astype(np.float)"
      ],
      "execution_count": 0,
      "outputs": []
    },
    {
      "cell_type": "markdown",
      "metadata": {
        "id": "pojx-sMspZzP",
        "colab_type": "text"
      },
      "source": [
        "# Loop over files in the directory"
      ]
    },
    {
      "cell_type": "code",
      "metadata": {
        "id": "4pMZmTgtpZzQ",
        "colab_type": "code",
        "colab": {}
      },
      "source": [
        "df = generate_dataframe_from_directory(root_folder)"
      ],
      "execution_count": 0,
      "outputs": []
    },
    {
      "cell_type": "code",
      "metadata": {
        "id": "ADnIo58bpZzS",
        "colab_type": "code",
        "outputId": "14a75b73-2613-468b-b6ef-555c47f21db8",
        "colab": {
          "base_uri": "https://localhost:8080/",
          "height": 204
        }
      },
      "source": [
        "df.head()"
      ],
      "execution_count": 13,
      "outputs": [
        {
          "output_type": "execute_result",
          "data": {
            "text/html": [
              "<div>\n",
              "<style scoped>\n",
              "    .dataframe tbody tr th:only-of-type {\n",
              "        vertical-align: middle;\n",
              "    }\n",
              "\n",
              "    .dataframe tbody tr th {\n",
              "        vertical-align: top;\n",
              "    }\n",
              "\n",
              "    .dataframe thead th {\n",
              "        text-align: right;\n",
              "    }\n",
              "</style>\n",
              "<table border=\"1\" class=\"dataframe\">\n",
              "  <thead>\n",
              "    <tr style=\"text-align: right;\">\n",
              "      <th></th>\n",
              "      <th>T</th>\n",
              "      <th>O2</th>\n",
              "      <th>iter</th>\n",
              "      <th>freq</th>\n",
              "      <th>data</th>\n",
              "    </tr>\n",
              "  </thead>\n",
              "  <tbody>\n",
              "    <tr>\n",
              "      <th>0</th>\n",
              "      <td>5</td>\n",
              "      <td>0</td>\n",
              "      <td>20</td>\n",
              "      <td>[200, 300, 400, 500, 600, 700, 800, 900, 1000,...</td>\n",
              "      <td>[[-4.83, -7.23, -9.594, -11.922, -14.202, -16....</td>\n",
              "    </tr>\n",
              "    <tr>\n",
              "      <th>0</th>\n",
              "      <td>5</td>\n",
              "      <td>10</td>\n",
              "      <td>20</td>\n",
              "      <td>[200, 300, 400, 500, 600, 700, 800, 900, 1000,...</td>\n",
              "      <td>[[-3.714, -5.562, -7.398, -9.204, -10.998, -12...</td>\n",
              "    </tr>\n",
              "    <tr>\n",
              "      <th>0</th>\n",
              "      <td>5</td>\n",
              "      <td>15</td>\n",
              "      <td>20</td>\n",
              "      <td>[200, 300, 400, 500, 600, 700, 800, 900, 1000,...</td>\n",
              "      <td>[[-3.402, -5.106, -6.786, -8.46, -10.092, -11....</td>\n",
              "    </tr>\n",
              "    <tr>\n",
              "      <th>0</th>\n",
              "      <td>5</td>\n",
              "      <td>20</td>\n",
              "      <td>20</td>\n",
              "      <td>[200, 300, 400, 500, 600, 700, 800, 900, 1000,...</td>\n",
              "      <td>[[-3.174, -4.746, -6.318, -7.866, -9.402, -10....</td>\n",
              "    </tr>\n",
              "    <tr>\n",
              "      <th>0</th>\n",
              "      <td>5</td>\n",
              "      <td>5</td>\n",
              "      <td>20</td>\n",
              "      <td>[200, 300, 400, 500, 600, 700, 800, 900, 1000,...</td>\n",
              "      <td>[[-4.122, -6.168, -8.19, -10.194, -12.174, -14...</td>\n",
              "    </tr>\n",
              "  </tbody>\n",
              "</table>\n",
              "</div>"
            ],
            "text/plain": [
              "   T  ...                                               data\n",
              "0  5  ...  [[-4.83, -7.23, -9.594, -11.922, -14.202, -16....\n",
              "0  5  ...  [[-3.714, -5.562, -7.398, -9.204, -10.998, -12...\n",
              "0  5  ...  [[-3.402, -5.106, -6.786, -8.46, -10.092, -11....\n",
              "0  5  ...  [[-3.174, -4.746, -6.318, -7.866, -9.402, -10....\n",
              "0  5  ...  [[-4.122, -6.168, -8.19, -10.194, -12.174, -14...\n",
              "\n",
              "[5 rows x 5 columns]"
            ]
          },
          "metadata": {
            "tags": []
          },
          "execution_count": 13
        }
      ]
    },
    {
      "cell_type": "code",
      "metadata": {
        "id": "aqY3ClE3G1-U",
        "colab_type": "code",
        "colab": {
          "base_uri": "https://localhost:8080/",
          "height": 233
        },
        "outputId": "622ece91-d430-4e3d-8cb2-02f9a4c5d3ff"
      },
      "source": [
        "df.data[0].iloc[0]\n",
        "\n",
        "df.data[0]"
      ],
      "execution_count": 29,
      "outputs": [
        {
          "output_type": "execute_result",
          "data": {
            "text/plain": [
              "0    [[-4.83, -7.23, -9.594, -11.922, -14.202, -16....\n",
              "0    [[-3.714, -5.562, -7.398, -9.204, -10.998, -12...\n",
              "0    [[-3.402, -5.106, -6.786, -8.46, -10.092, -11....\n",
              "0    [[-3.174, -4.746, -6.318, -7.866, -9.402, -10....\n",
              "0    [[-4.122, -6.168, -8.19, -10.194, -12.174, -14...\n",
              "                           ...                        \n",
              "0    [[-1.626, -2.436, -3.246, -4.056, -4.854, -5.6...\n",
              "0    [[-1.446, -2.184, -2.916, -3.636, -4.338, -5.0...\n",
              "0    [[-1.41, -2.136, -2.838, -3.546, -4.248, -4.93...\n",
              "0    [[-1.386, -2.082, -2.766, -3.462, -4.146, -4.8...\n",
              "0    [[-1.362, -2.034, -2.7, -3.384, -4.044, -4.704...\n",
              "Name: data, Length: 189, dtype: object"
            ]
          },
          "metadata": {
            "tags": []
          },
          "execution_count": 29
        }
      ]
    },
    {
      "cell_type": "markdown",
      "metadata": {
        "id": "zJmsbGnnOMYD",
        "colab_type": "text"
      },
      "source": [
        "# Creation of the dataframe with just values for [O2]=0 % air\n",
        "\n",
        "__note__: we will average the 20 measurements into one and use that to divide the other data."
      ]
    },
    {
      "cell_type": "code",
      "metadata": {
        "id": "TxosjpTDORXD",
        "colab_type": "code",
        "colab": {
          "base_uri": "https://localhost:8080/",
          "height": 328
        },
        "outputId": "090f039b-2cd0-429b-bf47-39aae2444e4d"
      },
      "source": [
        "df_zero = df[df['O2'] == 0]\n",
        "df_zero"
      ],
      "execution_count": 86,
      "outputs": [
        {
          "output_type": "execute_result",
          "data": {
            "text/html": [
              "<div>\n",
              "<style scoped>\n",
              "    .dataframe tbody tr th:only-of-type {\n",
              "        vertical-align: middle;\n",
              "    }\n",
              "\n",
              "    .dataframe tbody tr th {\n",
              "        vertical-align: top;\n",
              "    }\n",
              "\n",
              "    .dataframe thead th {\n",
              "        text-align: right;\n",
              "    }\n",
              "</style>\n",
              "<table border=\"1\" class=\"dataframe\">\n",
              "  <thead>\n",
              "    <tr style=\"text-align: right;\">\n",
              "      <th></th>\n",
              "      <th>T</th>\n",
              "      <th>O2</th>\n",
              "      <th>iter</th>\n",
              "      <th>freq</th>\n",
              "      <th>data</th>\n",
              "    </tr>\n",
              "  </thead>\n",
              "  <tbody>\n",
              "    <tr>\n",
              "      <th>0</th>\n",
              "      <td>5</td>\n",
              "      <td>0</td>\n",
              "      <td>20</td>\n",
              "      <td>[200, 300, 400, 500, 600, 700, 800, 900, 1000,...</td>\n",
              "      <td>[[-4.83, -7.23, -9.594, -11.922, -14.202, -16....</td>\n",
              "    </tr>\n",
              "    <tr>\n",
              "      <th>0</th>\n",
              "      <td>10</td>\n",
              "      <td>0</td>\n",
              "      <td>20</td>\n",
              "      <td>[200, 300, 400, 500, 600, 700, 800, 900, 1000,...</td>\n",
              "      <td>[[-4.728, -7.062, -9.372, -11.646, -13.884, -1...</td>\n",
              "    </tr>\n",
              "    <tr>\n",
              "      <th>0</th>\n",
              "      <td>15</td>\n",
              "      <td>0</td>\n",
              "      <td>20</td>\n",
              "      <td>[200, 300, 400, 500, 600, 700, 800, 900, 1000,...</td>\n",
              "      <td>[[-4.626, -6.918, -9.174, -11.406, -13.59, -15...</td>\n",
              "    </tr>\n",
              "    <tr>\n",
              "      <th>0</th>\n",
              "      <td>20</td>\n",
              "      <td>0</td>\n",
              "      <td>20</td>\n",
              "      <td>[200, 300, 400, 500, 600, 700, 800, 900, 1000,...</td>\n",
              "      <td>[[-4.53, -6.768, -8.988, -11.172, -13.32, -15....</td>\n",
              "    </tr>\n",
              "    <tr>\n",
              "      <th>0</th>\n",
              "      <td>25</td>\n",
              "      <td>0</td>\n",
              "      <td>20</td>\n",
              "      <td>[200, 300, 400, 500, 600, 700, 800, 900, 1000,...</td>\n",
              "      <td>[[-4.428, -6.63, -8.796, -10.95, -13.056, -15....</td>\n",
              "    </tr>\n",
              "    <tr>\n",
              "      <th>0</th>\n",
              "      <td>30</td>\n",
              "      <td>0</td>\n",
              "      <td>20</td>\n",
              "      <td>[200, 300, 400, 500, 600, 700, 800, 900, 1000,...</td>\n",
              "      <td>[[-4.338, -6.492, -8.616, -10.716, -12.78, -14...</td>\n",
              "    </tr>\n",
              "    <tr>\n",
              "      <th>0</th>\n",
              "      <td>35</td>\n",
              "      <td>0</td>\n",
              "      <td>20</td>\n",
              "      <td>[200, 300, 400, 500, 600, 700, 800, 900, 1000,...</td>\n",
              "      <td>[[-4.242, -6.354, -8.43, -10.5, -12.516, -14.5...</td>\n",
              "    </tr>\n",
              "    <tr>\n",
              "      <th>0</th>\n",
              "      <td>40</td>\n",
              "      <td>0</td>\n",
              "      <td>20</td>\n",
              "      <td>[200, 300, 400, 500, 600, 700, 800, 900, 1000,...</td>\n",
              "      <td>[[-4.146, -6.21, -8.25, -10.26, -12.252, -14.1...</td>\n",
              "    </tr>\n",
              "    <tr>\n",
              "      <th>0</th>\n",
              "      <td>45</td>\n",
              "      <td>0</td>\n",
              "      <td>20</td>\n",
              "      <td>[200, 300, 400, 500, 600, 700, 800, 900, 1000,...</td>\n",
              "      <td>[[-4.05, -6.078, -8.07, -10.038, -11.982, -13....</td>\n",
              "    </tr>\n",
              "  </tbody>\n",
              "</table>\n",
              "</div>"
            ],
            "text/plain": [
              "    T  ...                                               data\n",
              "0   5  ...  [[-4.83, -7.23, -9.594, -11.922, -14.202, -16....\n",
              "0  10  ...  [[-4.728, -7.062, -9.372, -11.646, -13.884, -1...\n",
              "0  15  ...  [[-4.626, -6.918, -9.174, -11.406, -13.59, -15...\n",
              "0  20  ...  [[-4.53, -6.768, -8.988, -11.172, -13.32, -15....\n",
              "0  25  ...  [[-4.428, -6.63, -8.796, -10.95, -13.056, -15....\n",
              "0  30  ...  [[-4.338, -6.492, -8.616, -10.716, -12.78, -14...\n",
              "0  35  ...  [[-4.242, -6.354, -8.43, -10.5, -12.516, -14.5...\n",
              "0  40  ...  [[-4.146, -6.21, -8.25, -10.26, -12.252, -14.1...\n",
              "0  45  ...  [[-4.05, -6.078, -8.07, -10.038, -11.982, -13....\n",
              "\n",
              "[9 rows x 5 columns]"
            ]
          },
          "metadata": {
            "tags": []
          },
          "execution_count": 86
        }
      ]
    },
    {
      "cell_type": "markdown",
      "metadata": {
        "id": "KkKYcQhcOl4q",
        "colab_type": "text"
      },
      "source": [
        "Now we can average for each values of $T$ the 20 measurements contained into `data`"
      ]
    },
    {
      "cell_type": "code",
      "metadata": {
        "id": "J8Qt79RlOre4",
        "colab_type": "code",
        "colab": {
          "base_uri": "https://localhost:8080/",
          "height": 145
        },
        "outputId": "5df81006-b435-47f0-a999-93c6c042b939"
      },
      "source": [
        "average_data = []\n",
        "for index, row in df_zero.iterrows():\n",
        "  #print(np.array(row['data']))\n",
        "  avg_ = np.mean(np.array(row['data']).astype(np.float), axis = 0)\n",
        "  #print(avg_)\n",
        "  average_data.append(avg_)\n",
        "\n",
        "df_zero['average'] = average_data"
      ],
      "execution_count": 101,
      "outputs": [
        {
          "output_type": "stream",
          "text": [
            "/usr/local/lib/python3.6/dist-packages/ipykernel_launcher.py:8: SettingWithCopyWarning: \n",
            "A value is trying to be set on a copy of a slice from a DataFrame.\n",
            "Try using .loc[row_indexer,col_indexer] = value instead\n",
            "\n",
            "See the caveats in the documentation: http://pandas.pydata.org/pandas-docs/stable/user_guide/indexing.html#returning-a-view-versus-a-copy\n",
            "  \n"
          ],
          "name": "stderr"
        }
      ]
    },
    {
      "cell_type": "code",
      "metadata": {
        "id": "Gy75cM60Pu7P",
        "colab_type": "code",
        "colab": {
          "base_uri": "https://localhost:8080/",
          "height": 204
        },
        "outputId": "9a8b515e-5ff6-41b9-bf7b-f2690dcd3913"
      },
      "source": [
        "df_zero.head()"
      ],
      "execution_count": 102,
      "outputs": [
        {
          "output_type": "execute_result",
          "data": {
            "text/html": [
              "<div>\n",
              "<style scoped>\n",
              "    .dataframe tbody tr th:only-of-type {\n",
              "        vertical-align: middle;\n",
              "    }\n",
              "\n",
              "    .dataframe tbody tr th {\n",
              "        vertical-align: top;\n",
              "    }\n",
              "\n",
              "    .dataframe thead th {\n",
              "        text-align: right;\n",
              "    }\n",
              "</style>\n",
              "<table border=\"1\" class=\"dataframe\">\n",
              "  <thead>\n",
              "    <tr style=\"text-align: right;\">\n",
              "      <th></th>\n",
              "      <th>T</th>\n",
              "      <th>O2</th>\n",
              "      <th>iter</th>\n",
              "      <th>freq</th>\n",
              "      <th>data</th>\n",
              "      <th>average</th>\n",
              "    </tr>\n",
              "  </thead>\n",
              "  <tbody>\n",
              "    <tr>\n",
              "      <th>0</th>\n",
              "      <td>5</td>\n",
              "      <td>0</td>\n",
              "      <td>20</td>\n",
              "      <td>[200, 300, 400, 500, 600, 700, 800, 900, 1000,...</td>\n",
              "      <td>[[-4.83, -7.23, -9.594, -11.922, -14.202, -16....</td>\n",
              "      <td>[-4.836899999999999, -7.229700000000001, -9.59...</td>\n",
              "    </tr>\n",
              "    <tr>\n",
              "      <th>0</th>\n",
              "      <td>10</td>\n",
              "      <td>0</td>\n",
              "      <td>20</td>\n",
              "      <td>[200, 300, 400, 500, 600, 700, 800, 900, 1000,...</td>\n",
              "      <td>[[-4.728, -7.062, -9.372, -11.646, -13.884, -1...</td>\n",
              "      <td>[-4.724099999999998, -7.064099999999999, -9.37...</td>\n",
              "    </tr>\n",
              "    <tr>\n",
              "      <th>0</th>\n",
              "      <td>15</td>\n",
              "      <td>0</td>\n",
              "      <td>20</td>\n",
              "      <td>[200, 300, 400, 500, 600, 700, 800, 900, 1000,...</td>\n",
              "      <td>[[-4.626, -6.918, -9.174, -11.406, -13.59, -15...</td>\n",
              "      <td>[-4.6248000000000005, -6.916800000000004, -9.1...</td>\n",
              "    </tr>\n",
              "    <tr>\n",
              "      <th>0</th>\n",
              "      <td>20</td>\n",
              "      <td>0</td>\n",
              "      <td>20</td>\n",
              "      <td>[200, 300, 400, 500, 600, 700, 800, 900, 1000,...</td>\n",
              "      <td>[[-4.53, -6.768, -8.988, -11.172, -13.32, -15....</td>\n",
              "      <td>[-4.5288, -6.7734, -8.991299999999999, -11.179...</td>\n",
              "    </tr>\n",
              "    <tr>\n",
              "      <th>0</th>\n",
              "      <td>25</td>\n",
              "      <td>0</td>\n",
              "      <td>20</td>\n",
              "      <td>[200, 300, 400, 500, 600, 700, 800, 900, 1000,...</td>\n",
              "      <td>[[-4.428, -6.63, -8.796, -10.95, -13.056, -15....</td>\n",
              "      <td>[-4.432199999999999, -6.632399999999999, -8.80...</td>\n",
              "    </tr>\n",
              "  </tbody>\n",
              "</table>\n",
              "</div>"
            ],
            "text/plain": [
              "    T  ...                                            average\n",
              "0   5  ...  [-4.836899999999999, -7.229700000000001, -9.59...\n",
              "0  10  ...  [-4.724099999999998, -7.064099999999999, -9.37...\n",
              "0  15  ...  [-4.6248000000000005, -6.916800000000004, -9.1...\n",
              "0  20  ...  [-4.5288, -6.7734, -8.991299999999999, -11.179...\n",
              "0  25  ...  [-4.432199999999999, -6.632399999999999, -8.80...\n",
              "\n",
              "[5 rows x 6 columns]"
            ]
          },
          "metadata": {
            "tags": []
          },
          "execution_count": 102
        }
      ]
    },
    {
      "cell_type": "markdown",
      "metadata": {
        "id": "Ez7Wgmm-FdG0",
        "colab_type": "text"
      },
      "source": [
        "# Transformation of the dataframe\n",
        "\n",
        "Now we need to create two numpy arrays. One with the \"expected values\" containing $T$ and $O2$ and one with all the measurements.\n",
        "\n",
        "We have a certain amount of iterations contained in the column `iter` therefore we will need do duplicate the values of $T$ and $O2$ `iter` times."
      ]
    },
    {
      "cell_type": "code",
      "metadata": {
        "id": "jEEM5fejTQHf",
        "colab_type": "code",
        "colab": {
          "base_uri": "https://localhost:8080/",
          "height": 143
        },
        "outputId": "6de2d3cd-9dc8-48dd-e934-0e379bc51804"
      },
      "source": [
        "x = df.iloc[0]['freq'].astype(np.float)\n",
        "x"
      ],
      "execution_count": 143,
      "outputs": [
        {
          "output_type": "execute_result",
          "data": {
            "text/plain": [
              "array([  200.,   300.,   400.,   500.,   600.,   700.,   800.,   900.,\n",
              "        1000.,  1250.,  1500.,  1750.,  2000.,  2250.,  2500.,  2750.,\n",
              "        3000.,  3250.,  3500.,  3750.,  4000.,  4250.,  4500.,  4750.,\n",
              "        5000.,  5250.,  5500.,  5750.,  6000.,  6250.,  6500.,  6750.,\n",
              "        7000.,  7250.,  7500.,  7750.,  8000.,  8250.,  8500.,  8750.,\n",
              "        9000.,  9250.,  9500.,  9750., 10000., 11000., 12000., 13000.,\n",
              "       14000., 15000.])"
            ]
          },
          "metadata": {
            "tags": []
          },
          "execution_count": 143
        }
      ]
    },
    {
      "cell_type": "code",
      "metadata": {
        "id": "KSRg2o3iFusx",
        "colab_type": "code",
        "colab": {
          "base_uri": "https://localhost:8080/",
          "height": 53
        },
        "outputId": "9c614d8b-3cd0-42c5-bf19-a41ca232a389"
      },
      "source": [
        "'targets = []\n",
        "train_data = []\n",
        "for index, row in df.iterrows():\n",
        "  list_ = [[row['T'], row['O2']]]*row['iter']\n",
        "  #print(np.array(list_).shape)\n",
        "  targets.extend(list_)\n",
        "\n",
        "  # Then we need to create a list with all the measurements. \n",
        "  # There are row['iter'] of them.\n",
        "  data_ = row['data'] # Shape (20,50)\n",
        "  assert (data_.shape) == (row['iter'], len(row.freq)), \"Size mismatch.\"\n",
        "  \n",
        "  for i in range(0, row['iter']):\n",
        "    train_data.append(data_[i])\n",
        "\n",
        "train_data_np = np.array(train_data).astype(np.float)\n",
        "train_targets_np = np.array(targets).astype(np.float)\n",
        "\n",
        "print(train_data_np.shape)\n",
        "print(train_targets_np.shape)"
      ],
      "execution_count": 142,
      "outputs": [
        {
          "output_type": "stream",
          "text": [
            "(3780, 50)\n",
            "(3780, 2)\n"
          ],
          "name": "stdout"
        }
      ]
    },
    {
      "cell_type": "code",
      "metadata": {
        "id": "V25m1DcjT4PQ",
        "colab_type": "code",
        "colab": {
          "base_uri": "https://localhost:8080/",
          "height": 161
        },
        "outputId": "72c6c44b-cacb-4b93-b187-08d7ebf37aa6"
      },
      "source": [
        "# quick check to see how the data looks like. So far so good.\n",
        "train_data_np[0]"
      ],
      "execution_count": 151,
      "outputs": [
        {
          "output_type": "execute_result",
          "data": {
            "text/plain": [
              "array([ -4.83 ,  -7.23 ,  -9.594, -11.922, -14.202, -16.44 , -18.618,\n",
              "       -20.736, -22.788, -27.63 , -32.046, -36.03 , -39.63 , -42.864,\n",
              "       -45.768, -48.396, -50.76 , -52.89 , -54.828, -56.586, -58.194,\n",
              "       -59.664, -61.002, -62.244, -63.384, -64.434, -65.418, -66.324,\n",
              "       -67.17 , -67.95 , -68.688, -69.378, -70.026, -70.638, -71.214,\n",
              "       -71.754, -72.264, -72.75 , -73.206, -73.644, -74.052, -74.442,\n",
              "       -74.82 , -75.174, -75.516, -76.722, -77.754, -78.63 , -79.386,\n",
              "       -80.046])"
            ]
          },
          "metadata": {
            "tags": []
          },
          "execution_count": 151
        }
      ]
    },
    {
      "cell_type": "code",
      "metadata": {
        "id": "Aqmo1q6XLBwa",
        "colab_type": "code",
        "colab": {
          "base_uri": "https://localhost:8080/",
          "height": 35
        },
        "outputId": "6d36db42-821f-4bfd-db22-9d6425f6cee9"
      },
      "source": [
        "train_targets_np[0]"
      ],
      "execution_count": 84,
      "outputs": [
        {
          "output_type": "execute_result",
          "data": {
            "text/plain": [
              "array([5., 0.])"
            ]
          },
          "metadata": {
            "tags": []
          },
          "execution_count": 84
        }
      ]
    },
    {
      "cell_type": "markdown",
      "metadata": {
        "id": "i-H-JjlyFVQa",
        "colab_type": "text"
      },
      "source": [
        "# Subtracting the reference\n",
        "\n",
        "Now let's first subtract the reference."
      ]
    },
    {
      "cell_type": "code",
      "metadata": {
        "id": "0XEPfaHdKolE",
        "colab_type": "code",
        "colab": {}
      },
      "source": [
        "for i in range (train_data_np.shape[0]):\n",
        "  train_data_np[i] = train_data_np[i] - ref_data"
      ],
      "execution_count": 0,
      "outputs": []
    },
    {
      "cell_type": "markdown",
      "metadata": {
        "id": "yh-QLtmZFZ27",
        "colab_type": "text"
      },
      "source": [
        "# diving by the values at 0 %"
      ]
    },
    {
      "cell_type": "code",
      "metadata": {
        "id": "2wFfAGS7QQpN",
        "colab_type": "code",
        "colab": {
          "base_uri": "https://localhost:8080/",
          "height": 143
        },
        "outputId": "d2aa9f64-42d5-43c6-a427-211a57bfafef"
      },
      "source": [
        "print(df_zero['average'].iloc[0])"
      ],
      "execution_count": 108,
      "outputs": [
        {
          "output_type": "stream",
          "text": [
            "[ -4.8369  -7.2297  -9.594  -11.9247 -14.2095 -16.4418 -18.6228 -20.7408\n",
            " -22.7976 -27.6357 -32.0511 -36.0372 -39.6381 -42.8721 -45.7737 -48.4029\n",
            " -50.7621 -52.8975 -54.8355 -56.5935 -58.2027 -59.6712 -61.0116 -62.2533\n",
            " -63.3939 -64.4454 -65.424  -66.3297 -67.1757 -67.9602 -68.6994 -69.3885\n",
            " -70.0353 -70.6458 -71.2182 -71.7591 -72.267  -72.7542 -73.2078 -73.6461\n",
            " -74.0538 -74.4444 -74.8224 -75.1773 -75.519  -76.7265 -77.754  -78.6324\n",
            " -79.3923 -80.0517]\n"
          ],
          "name": "stdout"
        }
      ]
    },
    {
      "cell_type": "code",
      "metadata": {
        "id": "0FsAK2nvQ7G3",
        "colab_type": "code",
        "colab": {
          "base_uri": "https://localhost:8080/",
          "height": 143
        },
        "outputId": "75ec8579-307d-446e-a667-e67471c16bbf"
      },
      "source": [
        "print(df_zero[(df_zero['T'] == 10)]['average'].iloc[0])"
      ],
      "execution_count": 174,
      "outputs": [
        {
          "output_type": "stream",
          "text": [
            "[ -4.7241  -7.0641  -9.3771 -11.6538 -13.8894 -16.0752 -18.2106 -20.292\n",
            " -22.3092 -27.0684 -31.419  -35.3547 -38.9226 -42.1329 -45.0192 -47.637\n",
            " -49.992  -52.1295 -54.0684 -55.833  -57.4467 -58.926  -60.2736 -61.5258\n",
            " -62.6766 -63.7377 -64.7244 -65.643  -66.4953 -67.2909 -68.0385 -68.7381\n",
            " -69.3933 -70.0116 -70.596  -71.1426 -71.6604 -72.1524 -72.615  -73.0596\n",
            " -73.4745 -73.8732 -74.2569 -74.6184 -74.9631 -76.1961 -77.2464 -78.144\n",
            " -78.9216 -79.5969]\n"
          ],
          "name": "stdout"
        }
      ]
    },
    {
      "cell_type": "code",
      "metadata": {
        "id": "m5M6Edy6VZa8",
        "colab_type": "code",
        "colab": {
          "base_uri": "https://localhost:8080/",
          "height": 125
        },
        "outputId": "5beec9b0-8f57-4fc4-ce14-b23186d2ff4e"
      },
      "source": [
        "print(train_data_np[1])"
      ],
      "execution_count": 171,
      "outputs": [
        {
          "output_type": "stream",
          "text": [
            "[ -4.836  -7.23   -9.594 -11.922 -14.214 -16.44  -18.618 -20.736 -22.794\n",
            " -27.636 -32.046 -36.036 -39.63  -42.864 -45.768 -48.396 -50.754 -52.89\n",
            " -54.828 -56.586 -58.194 -59.664 -61.008 -62.25  -63.39  -64.44  -65.418\n",
            " -66.324 -67.17  -67.956 -68.694 -69.384 -70.032 -70.644 -71.214 -71.754\n",
            " -72.264 -72.75  -73.206 -73.644 -74.052 -74.442 -74.82  -75.174 -75.516\n",
            " -76.722 -77.754 -78.636 -79.392 -80.046]\n"
          ],
          "name": "stdout"
        }
      ]
    },
    {
      "cell_type": "code",
      "metadata": {
        "id": "FUocclHaNm9Y",
        "colab_type": "code",
        "colab": {}
      },
      "source": [
        "train_data_norm = []\n",
        "\n",
        "for i in range (train_data_np.shape[0]):\n",
        "  # for each values of T and O2 identify the right dataset\n",
        "\n",
        "  T_ = train_targets_np[i][0]\n",
        "  zero_ = df_zero[(df_zero['T'] == T_)].iloc[0]\n",
        "  \n",
        "\n",
        "  #res_ = np.divide(train_data_np[i], zero_['average'])\n",
        "  res_ = np.divide(zero_['average'], train_data_np[i])\n",
        "  \n",
        "  train_data_norm.append(res_)\n",
        "  \n",
        "\n",
        "train_data_norm_np = np.array(train_data_norm)\n",
        "#print(train_data_norm_np.shape)\n",
        "#print(train_data_norm_np[0])\n",
        "#print(train_data_np[0])"
      ],
      "execution_count": 0,
      "outputs": []
    },
    {
      "cell_type": "markdown",
      "metadata": {
        "id": "k-mHjHGyTJz5",
        "colab_type": "text"
      },
      "source": [
        "Now let's print one to check how it looks like."
      ]
    },
    {
      "cell_type": "code",
      "metadata": {
        "id": "ybosMo1DThba",
        "colab_type": "code",
        "colab": {
          "base_uri": "https://localhost:8080/",
          "height": 197
        },
        "outputId": "39da2083-bd20-441a-c1b8-53a9e3dc1b5d"
      },
      "source": [
        "train_data_norm_np[23]"
      ],
      "execution_count": 181,
      "outputs": [
        {
          "output_type": "execute_result",
          "data": {
            "text/plain": [
              "array([1.30024194, 1.3012419 , 1.29894395, 1.29644488, 1.2934189 ,\n",
              "       1.28894638, 1.28468543, 1.28077066, 1.27588986, 1.26363512,\n",
              "       1.25072583, 1.23762621, 1.22453197, 1.21210348, 1.20027533,\n",
              "       1.18931889, 1.17897854, 1.16941902, 1.16053968, 1.15238241,\n",
              "       1.14486605, 1.13776456, 1.1314788 , 1.12545287, 1.12007315,\n",
              "       1.1150109 , 1.1102739 , 1.10582675, 1.10185513, 1.09808047,\n",
              "       1.09453207, 1.09132302, 1.08824818, 1.08518894, 1.08250798,\n",
              "       1.07999368, 1.07761474, 1.07535474, 1.07320785, 1.07115368,\n",
              "       1.06915281, 1.06739504, 1.06575506, 1.06389997, 1.06251055,\n",
              "       1.05701356, 1.05237941, 1.04851588, 1.04510307, 1.04242128])"
            ]
          },
          "metadata": {
            "tags": []
          },
          "execution_count": 181
        }
      ]
    },
    {
      "cell_type": "code",
      "metadata": {
        "id": "I7bbZRY1TMaD",
        "colab_type": "code",
        "colab": {
          "base_uri": "https://localhost:8080/",
          "height": 265
        },
        "outputId": "fdafae4f-93b8-40fb-ca2e-ea206cc6ff1e"
      },
      "source": [
        "plt.plot(x, train_data_norm_np[23])\n",
        "plt.show()"
      ],
      "execution_count": 182,
      "outputs": [
        {
          "output_type": "display_data",
          "data": {
            "image/png": "[encoded data removed]",
            "text/plain": [
              "<Figure size 432x288 with 1 Axes>"
            ]
          },
          "metadata": {
            "tags": []
          }
        }
      ]
    },
    {
      "cell_type": "markdown",
      "metadata": {
        "id": "oj3b36oJs-_b",
        "colab_type": "text"
      },
      "source": [
        "# Save the data"
      ]
    },
    {
      "cell_type": "markdown",
      "metadata": {
        "id": "7iLPQNP_YFr3",
        "colab_type": "text"
      },
      "source": [
        "## Save data"
      ]
    },
    {
      "cell_type": "code",
      "metadata": {
        "id": "w6cPH6jSYL-J",
        "colab_type": "code",
        "colab": {}
      },
      "source": [
        "np.savetxt(root_folder + 'train_data.csv', train_data_norm_np, delimiter=',')"
      ],
      "execution_count": 0,
      "outputs": []
    },
    {
      "cell_type": "code",
      "metadata": {
        "id": "y3hmqyweYipe",
        "colab_type": "code",
        "colab": {
          "base_uri": "https://localhost:8080/",
          "height": 35
        },
        "outputId": "9323bb11-4933-4b5b-eab2-081845f9188c"
      },
      "source": [
        "!ls /content/drive/"
      ],
      "execution_count": 191,
      "outputs": [
        {
          "output_type": "stream",
          "text": [
            "'My Drive'\n"
          ],
          "name": "stdout"
        }
      ]
    },
    {
      "cell_type": "markdown",
      "metadata": {
        "id": "pBR6HCYgYKBf",
        "colab_type": "text"
      },
      "source": [
        "## Save targets"
      ]
    },
    {
      "cell_type": "code",
      "metadata": {
        "id": "AauywICjYLEw",
        "colab_type": "code",
        "colab": {}
      },
      "source": [
        "np.savetxt(root_folder + 'train_targets.csv', train_targets_np, delimiter=',')"
      ],
      "execution_count": 0,
      "outputs": []
    },
    {
      "cell_type": "code",
      "metadata": {
        "id": "9xsE3SraY-7o",
        "colab_type": "code",
        "colab": {
          "base_uri": "https://localhost:8080/",
          "height": 143
        },
        "outputId": "3fdd293d-7425-4ead-ed47-03c44719cc3d"
      },
      "source": [
        "x"
      ],
      "execution_count": 195,
      "outputs": [
        {
          "output_type": "execute_result",
          "data": {
            "text/plain": [
              "array([  200.,   300.,   400.,   500.,   600.,   700.,   800.,   900.,\n",
              "        1000.,  1250.,  1500.,  1750.,  2000.,  2250.,  2500.,  2750.,\n",
              "        3000.,  3250.,  3500.,  3750.,  4000.,  4250.,  4500.,  4750.,\n",
              "        5000.,  5250.,  5500.,  5750.,  6000.,  6250.,  6500.,  6750.,\n",
              "        7000.,  7250.,  7500.,  7750.,  8000.,  8250.,  8500.,  8750.,\n",
              "        9000.,  9250.,  9500.,  9750., 10000., 11000., 12000., 13000.,\n",
              "       14000., 15000.])"
            ]
          },
          "metadata": {
            "tags": []
          },
          "execution_count": 195
        }
      ]
    }
  ]
}