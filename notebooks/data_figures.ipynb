{
 "cells": [
  {
   "cell_type": "markdown",
   "metadata": {
    "colab_type": "text",
    "id": "view-in-github"
   },
   "source": [
    "<a href=\"https://colab.research.google.com/github/michelucci/O2T-Real-Data-Paper/blob/master/notebooks/O2_prediction_model_Network_C_v2_O2T_Paper.ipynb\" target=\"_parent\"><img src=\"https://colab.research.google.com/assets/colab-badge.svg\" alt=\"Open In Colab\"/></a>"
   ]
  },
  {
   "cell_type": "markdown",
   "metadata": {
    "colab_type": "text",
    "id": "czCW0XAgZvEm"
   },
   "source": [
    "# Code related to the paper on the prediction of $[O2]$ and $T$ at the same time with MTL - Network C"
   ]
  },
  {
   "cell_type": "code",
   "execution_count": 2,
   "metadata": {
    "colab": {
     "base_uri": "https://localhost:8080/",
     "height": 82
    },
    "colab_type": "code",
    "id": "2Tp3iYK_ZvEo",
    "outputId": "cc5ad6d8-ffa9-486b-86c8-4f77b51c0dbc"
   },
   "outputs": [
    {
     "data": {
      "text/html": [
       "<p style=\"color: red;\">\n",
       "The default version of TensorFlow in Colab will soon switch to TensorFlow 2.x.<br>\n",
       "We recommend you <a href=\"https://www.tensorflow.org/guide/migrate\" target=\"_blank\">upgrade</a> now \n",
       "or ensure your notebook will continue to use TensorFlow 1.x via the <code>%tensorflow_version 1.x</code> magic:\n",
       "<a href=\"https://colab.research.google.com/notebooks/tensorflow_version.ipynb\" target=\"_blank\">more info</a>.</p>\n"
      ],
      "text/plain": [
       "<IPython.core.display.HTML object>"
      ]
     },
     "metadata": {
      "tags": []
     },
     "output_type": "display_data"
    },
    {
     "name": "stderr",
     "output_type": "stream",
     "text": [
      "Using TensorFlow backend.\n"
     ]
    }
   ],
   "source": [
    "import numpy as np\n",
    "import pandas as pd\n",
    "\n",
    "import matplotlib.pyplot as plt\n",
    "\n",
    "import tensorflow as tf\n",
    "\n",
    "# Keras\n",
    "\n",
    "from tensorflow.keras.models import Sequential\n",
    "\n",
    "#from tensorflow.keras.layers import Activation\n",
    "from tensorflow.keras.optimizers import SGD\n",
    "from tensorflow.keras.optimizers import Adam\n",
    "from tensorflow.keras.layers import Dense\n",
    "from tensorflow.keras import Model\n",
    "\n",
    "from tensorflow.keras import layers\n",
    "import tensorflow.keras as keras\n",
    "\n",
    "from keras.utils.vis_utils import plot_model\n",
    "\n",
    "import tensorflow.keras.backend as K\n",
    "\n",
    "from numpy import random\n",
    "\n",
    "from scipy.interpolate import interp1d\n",
    "\n",
    "from matplotlib.lines import Line2D\n",
    "\n",
    "import seaborn as sns"
   ]
  },
  {
   "cell_type": "markdown",
   "metadata": {
    "colab_type": "text",
    "id": "gr8mzs4gZvEv"
   },
   "source": [
    "# Read the files"
   ]
  },
  {
   "cell_type": "code",
   "execution_count": 3,
   "metadata": {
    "colab": {
     "base_uri": "https://localhost:8080/",
     "height": 127
    },
    "colab_type": "code",
    "id": "ktBIU99yaC9x",
    "outputId": "c83faa66-b116-48e2-cb65-70ee513eba87"
   },
   "outputs": [
    {
     "name": "stdout",
     "output_type": "stream",
     "text": [
      "Go to this URL in a browser: https://accounts.google.com/o/oauth2/auth?client_id=947318989803-6bn6qk8qdgf4n4g3pfee6491hc0brc4i.apps.googleusercontent.com&redirect_uri=urn%3Aietf%3Awg%3Aoauth%3A2.0%3Aoob&scope=email%20https%3A%2F%2Fwww.googleapis.com%2Fauth%2Fdocs.test%20https%3A%2F%2Fwww.googleapis.com%2Fauth%2Fdrive%20https%3A%2F%2Fwww.googleapis.com%2Fauth%2Fdrive.photos.readonly%20https%3A%2F%2Fwww.googleapis.com%2Fauth%2Fpeopleapi.readonly&response_type=code\n",
      "\n",
      "Enter your authorization code:\n",
      "··········\n",
      "Mounted at /content/gdrive\n"
     ]
    }
   ],
   "source": [
    "from google.colab import drive\n",
    "drive.mount('/content/gdrive')"
   ]
  },
  {
   "cell_type": "code",
   "execution_count": null,
   "metadata": {
    "colab": {},
    "colab_type": "code",
    "id": "585dLmzDZvEw"
   },
   "outputs": [],
   "source": [
    "train_data_df = pd.read_csv('/content/gdrive/My Drive/data/O2T/train_data.csv', header = None)\n",
    "train_target_df = pd.read_csv('/content/gdrive/My Drive/data/O2T/train_targets.csv', names=['T', 'O2'], header = None)"
   ]
  },
  {
   "cell_type": "code",
   "execution_count": 5,
   "metadata": {
    "colab": {
     "base_uri": "https://localhost:8080/",
     "height": 224
    },
    "colab_type": "code",
    "id": "nQhfDxlDZvE0",
    "outputId": "eec23715-158d-4e4f-8db0-c7a57aaaa8d9"
   },
   "outputs": [
    {
     "data": {
      "text/html": [
       "<div>\n",
       "<style scoped>\n",
       "    .dataframe tbody tr th:only-of-type {\n",
       "        vertical-align: middle;\n",
       "    }\n",
       "\n",
       "    .dataframe tbody tr th {\n",
       "        vertical-align: top;\n",
       "    }\n",
       "\n",
       "    .dataframe thead th {\n",
       "        text-align: right;\n",
       "    }\n",
       "</style>\n",
       "<table border=\"1\" class=\"dataframe\">\n",
       "  <thead>\n",
       "    <tr style=\"text-align: right;\">\n",
       "      <th></th>\n",
       "      <th>0</th>\n",
       "      <th>1</th>\n",
       "      <th>2</th>\n",
       "      <th>3</th>\n",
       "      <th>4</th>\n",
       "      <th>5</th>\n",
       "      <th>6</th>\n",
       "      <th>7</th>\n",
       "      <th>8</th>\n",
       "      <th>9</th>\n",
       "      <th>10</th>\n",
       "      <th>11</th>\n",
       "      <th>12</th>\n",
       "      <th>13</th>\n",
       "      <th>14</th>\n",
       "      <th>15</th>\n",
       "      <th>16</th>\n",
       "      <th>17</th>\n",
       "      <th>18</th>\n",
       "      <th>19</th>\n",
       "      <th>20</th>\n",
       "      <th>21</th>\n",
       "      <th>22</th>\n",
       "      <th>23</th>\n",
       "      <th>24</th>\n",
       "      <th>25</th>\n",
       "      <th>26</th>\n",
       "      <th>27</th>\n",
       "      <th>28</th>\n",
       "      <th>29</th>\n",
       "      <th>30</th>\n",
       "      <th>31</th>\n",
       "      <th>32</th>\n",
       "      <th>33</th>\n",
       "      <th>34</th>\n",
       "      <th>35</th>\n",
       "      <th>36</th>\n",
       "      <th>37</th>\n",
       "      <th>38</th>\n",
       "      <th>39</th>\n",
       "      <th>40</th>\n",
       "      <th>41</th>\n",
       "      <th>42</th>\n",
       "      <th>43</th>\n",
       "      <th>44</th>\n",
       "      <th>45</th>\n",
       "      <th>46</th>\n",
       "      <th>47</th>\n",
       "      <th>48</th>\n",
       "      <th>49</th>\n",
       "    </tr>\n",
       "  </thead>\n",
       "  <tbody>\n",
       "    <tr>\n",
       "      <th>0</th>\n",
       "      <td>1.001429</td>\n",
       "      <td>0.999959</td>\n",
       "      <td>1.000000</td>\n",
       "      <td>1.000226</td>\n",
       "      <td>1.000528</td>\n",
       "      <td>1.000109</td>\n",
       "      <td>1.000258</td>\n",
       "      <td>1.000231</td>\n",
       "      <td>1.000421</td>\n",
       "      <td>1.000206</td>\n",
       "      <td>1.000159</td>\n",
       "      <td>1.000200</td>\n",
       "      <td>1.000204</td>\n",
       "      <td>1.000189</td>\n",
       "      <td>1.000125</td>\n",
       "      <td>1.000143</td>\n",
       "      <td>1.000041</td>\n",
       "      <td>1.000142</td>\n",
       "      <td>1.000137</td>\n",
       "      <td>1.000133</td>\n",
       "      <td>1.000149</td>\n",
       "      <td>1.000121</td>\n",
       "      <td>1.000157</td>\n",
       "      <td>1.000149</td>\n",
       "      <td>1.000156</td>\n",
       "      <td>1.000177</td>\n",
       "      <td>1.000092</td>\n",
       "      <td>1.000086</td>\n",
       "      <td>1.000085</td>\n",
       "      <td>1.000150</td>\n",
       "      <td>1.000166</td>\n",
       "      <td>1.000151</td>\n",
       "      <td>1.000133</td>\n",
       "      <td>1.000110</td>\n",
       "      <td>1.000059</td>\n",
       "      <td>1.000071</td>\n",
       "      <td>1.000042</td>\n",
       "      <td>1.000058</td>\n",
       "      <td>1.000025</td>\n",
       "      <td>1.000029</td>\n",
       "      <td>1.000024</td>\n",
       "      <td>1.000032</td>\n",
       "      <td>1.000032</td>\n",
       "      <td>1.000044</td>\n",
       "      <td>1.00004</td>\n",
       "      <td>1.000059</td>\n",
       "      <td>1.000000</td>\n",
       "      <td>1.000031</td>\n",
       "      <td>1.000079</td>\n",
       "      <td>1.000071</td>\n",
       "    </tr>\n",
       "    <tr>\n",
       "      <th>1</th>\n",
       "      <td>1.000186</td>\n",
       "      <td>0.999959</td>\n",
       "      <td>1.000000</td>\n",
       "      <td>1.000226</td>\n",
       "      <td>0.999683</td>\n",
       "      <td>1.000109</td>\n",
       "      <td>1.000258</td>\n",
       "      <td>1.000231</td>\n",
       "      <td>1.000158</td>\n",
       "      <td>0.999989</td>\n",
       "      <td>1.000159</td>\n",
       "      <td>1.000033</td>\n",
       "      <td>1.000204</td>\n",
       "      <td>1.000189</td>\n",
       "      <td>1.000125</td>\n",
       "      <td>1.000143</td>\n",
       "      <td>1.000160</td>\n",
       "      <td>1.000142</td>\n",
       "      <td>1.000137</td>\n",
       "      <td>1.000133</td>\n",
       "      <td>1.000149</td>\n",
       "      <td>1.000121</td>\n",
       "      <td>1.000059</td>\n",
       "      <td>1.000053</td>\n",
       "      <td>1.000062</td>\n",
       "      <td>1.000084</td>\n",
       "      <td>1.000092</td>\n",
       "      <td>1.000086</td>\n",
       "      <td>1.000085</td>\n",
       "      <td>1.000062</td>\n",
       "      <td>1.000079</td>\n",
       "      <td>1.000065</td>\n",
       "      <td>1.000047</td>\n",
       "      <td>1.000025</td>\n",
       "      <td>1.000059</td>\n",
       "      <td>1.000071</td>\n",
       "      <td>1.000042</td>\n",
       "      <td>1.000058</td>\n",
       "      <td>1.000025</td>\n",
       "      <td>1.000029</td>\n",
       "      <td>1.000024</td>\n",
       "      <td>1.000032</td>\n",
       "      <td>1.000032</td>\n",
       "      <td>1.000044</td>\n",
       "      <td>1.00004</td>\n",
       "      <td>1.000059</td>\n",
       "      <td>1.000000</td>\n",
       "      <td>0.999954</td>\n",
       "      <td>1.000004</td>\n",
       "      <td>1.000071</td>\n",
       "    </tr>\n",
       "    <tr>\n",
       "      <th>2</th>\n",
       "      <td>1.000186</td>\n",
       "      <td>0.999959</td>\n",
       "      <td>0.999375</td>\n",
       "      <td>0.999723</td>\n",
       "      <td>1.000528</td>\n",
       "      <td>1.000109</td>\n",
       "      <td>0.999936</td>\n",
       "      <td>0.999942</td>\n",
       "      <td>1.000158</td>\n",
       "      <td>1.000206</td>\n",
       "      <td>1.000159</td>\n",
       "      <td>1.000033</td>\n",
       "      <td>1.000204</td>\n",
       "      <td>1.000049</td>\n",
       "      <td>1.000125</td>\n",
       "      <td>1.000143</td>\n",
       "      <td>1.000041</td>\n",
       "      <td>1.000142</td>\n",
       "      <td>1.000137</td>\n",
       "      <td>1.000133</td>\n",
       "      <td>1.000046</td>\n",
       "      <td>1.000121</td>\n",
       "      <td>1.000059</td>\n",
       "      <td>1.000053</td>\n",
       "      <td>1.000062</td>\n",
       "      <td>1.000084</td>\n",
       "      <td>1.000092</td>\n",
       "      <td>1.000086</td>\n",
       "      <td>0.999996</td>\n",
       "      <td>1.000062</td>\n",
       "      <td>1.000079</td>\n",
       "      <td>1.000065</td>\n",
       "      <td>1.000047</td>\n",
       "      <td>1.000025</td>\n",
       "      <td>0.999975</td>\n",
       "      <td>0.999987</td>\n",
       "      <td>1.000042</td>\n",
       "      <td>1.000058</td>\n",
       "      <td>1.000025</td>\n",
       "      <td>1.000029</td>\n",
       "      <td>1.000024</td>\n",
       "      <td>1.000032</td>\n",
       "      <td>1.000032</td>\n",
       "      <td>1.000044</td>\n",
       "      <td>1.00004</td>\n",
       "      <td>0.999980</td>\n",
       "      <td>1.000077</td>\n",
       "      <td>1.000031</td>\n",
       "      <td>1.000004</td>\n",
       "      <td>0.999921</td>\n",
       "    </tr>\n",
       "    <tr>\n",
       "      <th>3</th>\n",
       "      <td>1.001429</td>\n",
       "      <td>0.999129</td>\n",
       "      <td>1.001252</td>\n",
       "      <td>1.000226</td>\n",
       "      <td>1.000106</td>\n",
       "      <td>1.000475</td>\n",
       "      <td>1.000258</td>\n",
       "      <td>0.999942</td>\n",
       "      <td>0.999895</td>\n",
       "      <td>0.999989</td>\n",
       "      <td>1.000159</td>\n",
       "      <td>1.000200</td>\n",
       "      <td>1.000053</td>\n",
       "      <td>1.000049</td>\n",
       "      <td>0.999993</td>\n",
       "      <td>1.000019</td>\n",
       "      <td>1.000160</td>\n",
       "      <td>1.000028</td>\n",
       "      <td>1.000027</td>\n",
       "      <td>1.000027</td>\n",
       "      <td>1.000149</td>\n",
       "      <td>1.000121</td>\n",
       "      <td>1.000059</td>\n",
       "      <td>1.000053</td>\n",
       "      <td>1.000062</td>\n",
       "      <td>1.000084</td>\n",
       "      <td>1.000092</td>\n",
       "      <td>1.000086</td>\n",
       "      <td>0.999996</td>\n",
       "      <td>1.000062</td>\n",
       "      <td>0.999991</td>\n",
       "      <td>1.000065</td>\n",
       "      <td>1.000047</td>\n",
       "      <td>1.000025</td>\n",
       "      <td>1.000059</td>\n",
       "      <td>1.000071</td>\n",
       "      <td>0.999958</td>\n",
       "      <td>1.000058</td>\n",
       "      <td>1.000025</td>\n",
       "      <td>1.000029</td>\n",
       "      <td>1.000024</td>\n",
       "      <td>1.000032</td>\n",
       "      <td>1.000032</td>\n",
       "      <td>1.000044</td>\n",
       "      <td>1.00004</td>\n",
       "      <td>0.999980</td>\n",
       "      <td>1.000077</td>\n",
       "      <td>1.000031</td>\n",
       "      <td>0.999928</td>\n",
       "      <td>0.999921</td>\n",
       "    </tr>\n",
       "    <tr>\n",
       "      <th>4</th>\n",
       "      <td>0.998947</td>\n",
       "      <td>0.999959</td>\n",
       "      <td>1.000626</td>\n",
       "      <td>1.000226</td>\n",
       "      <td>1.000106</td>\n",
       "      <td>1.000109</td>\n",
       "      <td>1.000258</td>\n",
       "      <td>0.999942</td>\n",
       "      <td>1.000158</td>\n",
       "      <td>0.999989</td>\n",
       "      <td>1.000159</td>\n",
       "      <td>1.000033</td>\n",
       "      <td>1.000053</td>\n",
       "      <td>1.000049</td>\n",
       "      <td>0.999993</td>\n",
       "      <td>1.000019</td>\n",
       "      <td>1.000041</td>\n",
       "      <td>1.000028</td>\n",
       "      <td>1.000027</td>\n",
       "      <td>1.000027</td>\n",
       "      <td>1.000046</td>\n",
       "      <td>1.000020</td>\n",
       "      <td>1.000059</td>\n",
       "      <td>1.000053</td>\n",
       "      <td>0.999967</td>\n",
       "      <td>0.999991</td>\n",
       "      <td>1.000000</td>\n",
       "      <td>0.999995</td>\n",
       "      <td>1.000085</td>\n",
       "      <td>1.000062</td>\n",
       "      <td>1.000079</td>\n",
       "      <td>1.000065</td>\n",
       "      <td>0.999961</td>\n",
       "      <td>1.000025</td>\n",
       "      <td>1.000059</td>\n",
       "      <td>0.999987</td>\n",
       "      <td>1.000042</td>\n",
       "      <td>1.000058</td>\n",
       "      <td>1.000025</td>\n",
       "      <td>1.000029</td>\n",
       "      <td>1.000024</td>\n",
       "      <td>0.999952</td>\n",
       "      <td>1.000032</td>\n",
       "      <td>1.000044</td>\n",
       "      <td>1.00004</td>\n",
       "      <td>0.999980</td>\n",
       "      <td>1.000000</td>\n",
       "      <td>0.999954</td>\n",
       "      <td>0.999928</td>\n",
       "      <td>0.999996</td>\n",
       "    </tr>\n",
       "  </tbody>\n",
       "</table>\n",
       "</div>"
      ],
      "text/plain": [
       "         0         1         2   ...        47        48        49\n",
       "0  1.001429  0.999959  1.000000  ...  1.000031  1.000079  1.000071\n",
       "1  1.000186  0.999959  1.000000  ...  0.999954  1.000004  1.000071\n",
       "2  1.000186  0.999959  0.999375  ...  1.000031  1.000004  0.999921\n",
       "3  1.001429  0.999129  1.001252  ...  1.000031  0.999928  0.999921\n",
       "4  0.998947  0.999959  1.000626  ...  0.999954  0.999928  0.999996\n",
       "\n",
       "[5 rows x 50 columns]"
      ]
     },
     "execution_count": 5,
     "metadata": {
      "tags": []
     },
     "output_type": "execute_result"
    }
   ],
   "source": [
    "train_data_df.head()"
   ]
  },
  {
   "cell_type": "code",
   "execution_count": 6,
   "metadata": {
    "colab": {
     "base_uri": "https://localhost:8080/",
     "height": 204
    },
    "colab_type": "code",
    "id": "pxznLqEdaYGd",
    "outputId": "32bdef47-5b00-49b4-ff7f-d23fcc45cae1"
   },
   "outputs": [
    {
     "data": {
      "text/html": [
       "<div>\n",
       "<style scoped>\n",
       "    .dataframe tbody tr th:only-of-type {\n",
       "        vertical-align: middle;\n",
       "    }\n",
       "\n",
       "    .dataframe tbody tr th {\n",
       "        vertical-align: top;\n",
       "    }\n",
       "\n",
       "    .dataframe thead th {\n",
       "        text-align: right;\n",
       "    }\n",
       "</style>\n",
       "<table border=\"1\" class=\"dataframe\">\n",
       "  <thead>\n",
       "    <tr style=\"text-align: right;\">\n",
       "      <th></th>\n",
       "      <th>T</th>\n",
       "      <th>O2</th>\n",
       "    </tr>\n",
       "  </thead>\n",
       "  <tbody>\n",
       "    <tr>\n",
       "      <th>0</th>\n",
       "      <td>5.0</td>\n",
       "      <td>0.0</td>\n",
       "    </tr>\n",
       "    <tr>\n",
       "      <th>1</th>\n",
       "      <td>5.0</td>\n",
       "      <td>0.0</td>\n",
       "    </tr>\n",
       "    <tr>\n",
       "      <th>2</th>\n",
       "      <td>5.0</td>\n",
       "      <td>0.0</td>\n",
       "    </tr>\n",
       "    <tr>\n",
       "      <th>3</th>\n",
       "      <td>5.0</td>\n",
       "      <td>0.0</td>\n",
       "    </tr>\n",
       "    <tr>\n",
       "      <th>4</th>\n",
       "      <td>5.0</td>\n",
       "      <td>0.0</td>\n",
       "    </tr>\n",
       "  </tbody>\n",
       "</table>\n",
       "</div>"
      ],
      "text/plain": [
       "     T   O2\n",
       "0  5.0  0.0\n",
       "1  5.0  0.0\n",
       "2  5.0  0.0\n",
       "3  5.0  0.0\n",
       "4  5.0  0.0"
      ]
     },
     "execution_count": 6,
     "metadata": {
      "tags": []
     },
     "output_type": "execute_result"
    }
   ],
   "source": [
    "train_target_df.head()"
   ]
  },
  {
   "cell_type": "code",
   "execution_count": null,
   "metadata": {
    "colab": {},
    "colab_type": "code",
    "id": "5_8nAYJFZvE2"
   },
   "outputs": [],
   "source": [
    "train_target_df[['O2']] = train_target_df[['O2']]/100.0\n",
    "train_target_df[['T']] = train_target_df[['T']]/45.0"
   ]
  },
  {
   "cell_type": "markdown",
   "metadata": {
    "colab_type": "text",
    "id": "dHMEf3fIZvE7"
   },
   "source": [
    "Note that the values for $T$ are going from 0 to 1. To obtin the actual temperature in Celsius degrees, you need to multiply by $45$."
   ]
  },
  {
   "cell_type": "code",
   "execution_count": 8,
   "metadata": {
    "colab": {
     "base_uri": "https://localhost:8080/",
     "height": 71
    },
    "colab_type": "code",
    "id": "6lGCP7m5ZvE7",
    "outputId": "022d8fb4-876a-41b1-d332-50e550ceeb4e"
   },
   "outputs": [
    {
     "name": "stdout",
     "output_type": "stream",
     "text": [
      "[0.11111111 0.22222222 0.33333333 0.44444444 0.55555556 0.66666667\n",
      " 0.77777778 0.88888889 1.        ]\n",
      "[ 5. 10. 15. 20. 25. 30. 35. 40. 45.]\n"
     ]
    }
   ],
   "source": [
    "print(train_target_df['T'].unique())\n",
    "print(train_target_df['T'].unique()*45)"
   ]
  },
  {
   "cell_type": "markdown",
   "metadata": {
    "colab_type": "text",
    "id": "ZcPxObX6ZvE9"
   },
   "source": [
    "## Dimensions"
   ]
  },
  {
   "cell_type": "code",
   "execution_count": 9,
   "metadata": {
    "colab": {
     "base_uri": "https://localhost:8080/",
     "height": 35
    },
    "colab_type": "code",
    "id": "iq3EzwubZvE-",
    "outputId": "e68a7651-d672-4e74-b8af-61f568197cf8"
   },
   "outputs": [
    {
     "data": {
      "text/plain": [
       "(3780, 50)"
      ]
     },
     "execution_count": 9,
     "metadata": {
      "tags": []
     },
     "output_type": "execute_result"
    }
   ],
   "source": [
    "train_data_df.shape"
   ]
  },
  {
   "cell_type": "code",
   "execution_count": 10,
   "metadata": {
    "colab": {
     "base_uri": "https://localhost:8080/",
     "height": 35
    },
    "colab_type": "code",
    "id": "DrV36zyBZvFB",
    "outputId": "2281b8ad-2796-4f1e-fcc1-4be29dd05ffd"
   },
   "outputs": [
    {
     "data": {
      "text/plain": [
       "(420, 2)"
      ]
     },
     "execution_count": 10,
     "metadata": {
      "tags": []
     },
     "output_type": "execute_result"
    }
   ],
   "source": [
    "train_target_df[train_target_df['T'] == 5./45.].shape"
   ]
  },
  {
   "cell_type": "markdown",
   "metadata": {
    "colab_type": "text",
    "id": "MBa0TH6rZvFD"
   },
   "source": [
    "To check how many values we have for each temperature we can do easily with ```groupby()```."
   ]
  },
  {
   "cell_type": "code",
   "execution_count": 11,
   "metadata": {
    "colab": {
     "base_uri": "https://localhost:8080/",
     "height": 215
    },
    "colab_type": "code",
    "id": "kkXJq1UDZvFD",
    "outputId": "63b88eca-ee32-4d9a-e80b-25fcf1818980"
   },
   "outputs": [
    {
     "data": {
      "text/plain": [
       "T\n",
       "0.111111    21\n",
       "0.222222    21\n",
       "0.333333    21\n",
       "0.444444    21\n",
       "0.555556    21\n",
       "0.666667    21\n",
       "0.777778    21\n",
       "0.888889    21\n",
       "1.000000    21\n",
       "Name: O2, dtype: int64"
      ]
     },
     "execution_count": 11,
     "metadata": {
      "tags": []
     },
     "output_type": "execute_result"
    }
   ],
   "source": [
    "train_target_df.groupby('T')['O2'].nunique()"
   ]
  },
  {
   "cell_type": "markdown",
   "metadata": {
    "colab_type": "text",
    "id": "6oK-zfT_ZvFF"
   },
   "source": [
    "Each of the temperature has 5000 observations."
   ]
  },
  {
   "cell_type": "markdown",
   "metadata": {
    "colab_type": "text",
    "id": "fSqYdC5uZvFF"
   },
   "source": [
    "## Reset the index"
   ]
  },
  {
   "cell_type": "code",
   "execution_count": null,
   "metadata": {
    "colab": {},
    "colab_type": "code",
    "id": "30duZuryZvFF"
   },
   "outputs": [],
   "source": [
    "train_data_df = train_data_df.reset_index(drop = True);\n",
    "train_target_df = train_target_df.reset_index(drop = True);"
   ]
  },
  {
   "cell_type": "markdown",
   "metadata": {
    "colab_type": "text",
    "id": "w72f8KBRZvFG"
   },
   "source": [
    "The unique values of the temperature ($T$) are, as expected"
   ]
  },
  {
   "cell_type": "code",
   "execution_count": 13,
   "metadata": {
    "colab": {
     "base_uri": "https://localhost:8080/",
     "height": 35
    },
    "colab_type": "code",
    "id": "YdlvVhd6ZvFH",
    "outputId": "f9185658-f591-41a3-8b56-dd79377e783f"
   },
   "outputs": [
    {
     "data": {
      "text/plain": [
       "array([ 5., 10., 15., 20., 25., 30., 35., 40., 45.])"
      ]
     },
     "execution_count": 13,
     "metadata": {
      "tags": []
     },
     "output_type": "execute_result"
    }
   ],
   "source": [
    "np.unique(train_target_df['T'])*45"
   ]
  },
  {
   "cell_type": "markdown",
   "metadata": {
    "colab_type": "text",
    "id": "_AGqcSlqZvFI"
   },
   "source": [
    "# Frequency values"
   ]
  },
  {
   "cell_type": "code",
   "execution_count": null,
   "metadata": {
    "colab": {},
    "colab_type": "code",
    "id": "j6DEKz4GZvFI"
   },
   "outputs": [],
   "source": [
    "wred = [  200.,   300.,   400.,   500.,   600.,   700.,   800.,   900.,\n",
    "        1000.,  1250.,  1500.,  1750.,  2000.,  2250.,  2500.,  2750.,\n",
    "        3000.,  3250.,  3500.,  3750.,  4000.,  4250.,  4500.,  4750.,\n",
    "        5000.,  5250.,  5500.,  5750.,  6000.,  6250.,  6500.,  6750.,\n",
    "        7000.,  7250.,  7500.,  7750.,  8000.,  8250.,  8500.,  8750.,\n",
    "        9000.,  9250.,  9500.,  9750., 10000., 11000., 12000., 13000.,\n",
    "       14000., 15000.]"
   ]
  },
  {
   "cell_type": "markdown",
   "metadata": {
    "colab_type": "text",
    "id": "H3moo3oEZvFJ"
   },
   "source": [
    "# Dataset split"
   ]
  },
  {
   "cell_type": "code",
   "execution_count": null,
   "metadata": {
    "colab": {},
    "colab_type": "code",
    "id": "syS1hclTZvFK"
   },
   "outputs": [],
   "source": [
    "np.random.seed(42)\n",
    "rnd = np.random.rand(len(train_target_df)) < 0.8"
   ]
  },
  {
   "cell_type": "code",
   "execution_count": null,
   "metadata": {
    "colab": {},
    "colab_type": "code",
    "id": "7Kt_BJZFZvFL"
   },
   "outputs": [],
   "source": [
    "data_train = train_data_df[rnd]\n",
    "data_dev = train_data_df[~rnd]\n",
    "targets_train = train_target_df[rnd]\n",
    "targets_dev = train_target_df[~rnd]"
   ]
  },
  {
   "cell_type": "code",
   "execution_count": 17,
   "metadata": {
    "colab": {
     "base_uri": "https://localhost:8080/",
     "height": 53
    },
    "colab_type": "code",
    "id": "BwflCkBrZvFL",
    "outputId": "4bf9ba84-bcda-4a5a-b2ab-89bda87b80dd"
   },
   "outputs": [
    {
     "name": "stdout",
     "output_type": "stream",
     "text": [
      "Number of training data observations is  (3024, 50)\n",
      "Number of dev      data observations is  (756, 50)\n"
     ]
    }
   ],
   "source": [
    "print('Number of training data observations is ', data_train.shape)\n",
    "print('Number of dev      data observations is ', data_dev.shape)"
   ]
  },
  {
   "cell_type": "markdown",
   "metadata": {
    "colab_type": "text",
    "id": "HWgTxCDuZvFQ"
   },
   "source": [
    "## Helper Functions"
   ]
  },
  {
   "cell_type": "code",
   "execution_count": null,
   "metadata": {
    "colab": {},
    "colab_type": "code",
    "id": "ycNFsXOaZvFR"
   },
   "outputs": [],
   "source": [
    "def MAE_T_list_generator(targets_dev, preds_df):\n",
    "    T_values = targets_dev['T'].unique()*45.0\n",
    "    MAE_list = []\n",
    "    MAE_xticks = T_values\n",
    "    MAE_boxplot = []\n",
    "    for T_ in T_values:\n",
    "        elmts = (targets_dev['T'] == T_/45.0)\n",
    "        tmp_ = targets_dev[elmts]\n",
    "        tmp2_ = preds_df[elmts]\n",
    "        mae_ = np.mean(45.0*np.abs(tmp2_['T'].values- tmp_['T'].values))\n",
    "\n",
    "        MAE_boxplot.append(list(45.0*np.abs(tmp_['T'].values-tmp2_['T'].values)))\n",
    "\n",
    "        MAE_list.append(mae_)\n",
    "        \n",
    "    return MAE_boxplot, MAE_list, MAE_xticks"
   ]
  },
  {
   "cell_type": "code",
   "execution_count": null,
   "metadata": {
    "colab": {},
    "colab_type": "code",
    "id": "7ESrffFUZvFV"
   },
   "outputs": [],
   "source": [
    "def MAE_O2_list_generator(step, targets_dev, preds_df):\n",
    "    breaks = np.arange(step,101.0, step)\n",
    "    MAE_list = []\n",
    "    MAE_xticks = []\n",
    "    MAE_boxplot = []\n",
    "    for O2_ in breaks:\n",
    "        elmts = (targets_dev['O2'] < O2_/100.0) & (targets_dev['O2'] >= (O2_-step)/100.0)\n",
    "        tmp_ = targets_dev[elmts]\n",
    "        tmp2_ = preds_df[elmts]\n",
    "        mae_ = np.mean(100*np.abs(tmp2_['O2'].values- tmp_['O2'].values))\n",
    "\n",
    "        #print (\"MAE for range [\", int(O2_), \",\", int(O2_-step), \"] is\", mae_)\n",
    "\n",
    "        MAE_boxplot.append(list(100.0*np.abs(tmp_['O2'].values-tmp2_['O2'].values)))\n",
    "\n",
    "        MAE_list.append(mae_)\n",
    "        MAE_xticks.append(\"[\"+ str(int(O2_-step))+ \",\"+ str(int(O2_))+ \"]\")\n",
    "    \n",
    "    return MAE_boxplot, MAE_list, MAE_xticks"
   ]
  },
  {
   "cell_type": "code",
   "execution_count": null,
   "metadata": {
    "colab": {},
    "colab_type": "code",
    "id": "ix9iIYTcZvFW"
   },
   "outputs": [],
   "source": [
    "# Get predictions\n",
    "def get_predictions(model, targets_dev, data_dev):\n",
    "    preds = model.predict(data_dev)\n",
    "    preds_df = pd.DataFrame(preds)\n",
    "    preds_df.columns = ['O2', 'T']\n",
    "    targets_dev_ = targets_dev.reset_index(drop = True)\n",
    "    preds_df_ = preds_df.reset_index(drop = True)\n",
    "    \n",
    "    return targets_dev_, preds_df_"
   ]
  },
  {
   "cell_type": "code",
   "execution_count": null,
   "metadata": {
    "colab": {},
    "colab_type": "code",
    "id": "xY5mtw2DZvFW"
   },
   "outputs": [],
   "source": [
    "class CustomCallback(keras.callbacks.Callback):\n",
    "    def on_epoch_end(self, epoch, logs={}):\n",
    "        if (epoch % 1000 == 0):\n",
    "            print (\"Just finished epoch\", epoch)\n",
    "            print (logs)\n",
    "            return\n",
    "        \n",
    "class CustomCallbackProgress(keras.callbacks.Callback):\n",
    "    \n",
    "    def __init__(self, totalEpochs, step):\n",
    "        self.step = 0\n",
    "        self.totalEpochs = totalEpochs\n",
    "        self.step = step\n",
    "        \n",
    "        \n",
    "    def on_epoch_end(self, epoch, logs={}):\n",
    "        if (epoch % 200 == 0):\n",
    "            i = int(epoch / 200)\n",
    "            \n",
    "            if (i > 0):\n",
    "                numberOfEquals = int(self.totalEpochs/200*i)\n",
    "                percent = 100/(self.totalEpochs/200)*i\n",
    "            else:\n",
    "                numberOfEquals = 0\n",
    "                percent = 0\n",
    "                \n",
    "                \n",
    "            print (\"\\r[%-20s] %d%%\" % ('='*i, percent), end='')\n",
    "            \n",
    "            if(percent == 100):\n",
    "                print('')\n",
    "        "
   ]
  },
  {
   "cell_type": "code",
   "execution_count": null,
   "metadata": {
    "colab": {},
    "colab_type": "code",
    "id": "pvugRkk3ZvFX"
   },
   "outputs": [],
   "source": [
    "def reset_keras():\n",
    "    K.get_session().close()\n",
    "    K.set_session(tf.Session())\n",
    "    K.get_session().run(tf.global_variables_initializer())"
   ]
  },
  {
   "cell_type": "code",
   "execution_count": null,
   "metadata": {
    "colab": {},
    "colab_type": "code",
    "id": "hf_xjlejZvFZ"
   },
   "outputs": [],
   "source": [
    "def average_runs(n_iter, model_):\n",
    "    MAE_O2_boxplot_avg = [0]*9\n",
    "    MAE_T_boxplot_avg = [0]*5\n",
    "\n",
    "    for i in range(n_iter):\n",
    "        print (\"Training iteration \", i)\n",
    "        \n",
    "        model_.fit(data_train, targets_train, epochs=4001, batch_size=1000,verbose = 0,\n",
    "             validation_data= (data_dev, targets_dev), callbacks = [CustomCallbackProgress(4000,200)])\n",
    "\n",
    "        print(\"Getting predictions for iteration \",i)\n",
    "        targets_dev_, preds_df_ = get_predictions(model_, targets_dev, data_dev)\n",
    "        targets_train_, preds_train_ = get_predictions(model_, targets_train, data_train)\n",
    "\n",
    "        print(\"Generating MAE lists for iteration \", i)\n",
    "        MAE_boxplot_, MAE_list_, MAE_xticks_ = MAE_O2_list_generator(10.0, targets_dev_, preds_df_)\n",
    "        MAE_T_boxplot_, MAE_T_list_, MAE_T_xticks_ = MAE_T_list_generator(targets_dev_, preds_df_)\n",
    "        #MAE_boxplot_train_, MAE_list_train_, MAE_xticks_train_ = MAE_list_generator(10.0, targets_train_, preds_train_)\n",
    "\n",
    "        for j in range(len(MAE_boxplot_)):\n",
    "            MAE_O2_boxplot_avg[j] = MAE_O2_boxplot_avg[j] + np.array(MAE_boxplot_[j])/n_iter\n",
    "            \n",
    "        for j in range(len(MAE_T_boxplot_)):\n",
    "            MAE_T_boxplot_avg[j] = MAE_T_boxplot_avg[j] + np.array(MAE_T_boxplot_[j])/n_iter\n",
    "\n",
    "    return MAE_O2_boxplot_avg, MAE_T_boxplot_avg"
   ]
  },
  {
   "cell_type": "code",
   "execution_count": null,
   "metadata": {
    "colab": {},
    "colab_type": "code",
    "id": "i5JVJPB1ZvFZ"
   },
   "outputs": [],
   "source": [
    "def get_mae(MAE_boxplot_):\n",
    "    flat_list = [item for sublist in MAE_boxplot_ for item in sublist]\n",
    "    return np.mean(flat_list)"
   ]
  },
  {
   "cell_type": "markdown",
   "metadata": {
    "colab_type": "text",
    "id": "qubDL3VCZvFb"
   },
   "source": [
    "# Random Seed to get reproducible results"
   ]
  },
  {
   "cell_type": "code",
   "execution_count": null,
   "metadata": {
    "colab": {},
    "colab_type": "code",
    "id": "jd131E5PZvFc"
   },
   "outputs": [],
   "source": [
    "K.clear_session()\n",
    "\n",
    "from numpy.random import seed\n",
    "seed(42)\n",
    "from tensorflow import set_random_seed\n",
    "set_random_seed(42)"
   ]
  },
  {
   "cell_type": "markdown",
   "metadata": {
    "colab_type": "text",
    "id": "3jXoqPciZvFd"
   },
   "source": [
    "# Network C"
   ]
  },
  {
   "cell_type": "code",
   "execution_count": null,
   "metadata": {
    "colab": {},
    "colab_type": "code",
    "id": "ivJYtwZTZvFe"
   },
   "outputs": [],
   "source": [
    "class CustomCallback_(keras.callbacks.Callback):\n",
    "    def on_epoch_end(self, epoch, logs={}):\n",
    "        if (epoch % 500 == 0):\n",
    "            print (\"Just finished epoch\", epoch)\n",
    "            #print(logs)\n",
    "            print (\"Validation MAE_O2 = \", 100*float(logs.get(\"val_O2_output_mean_absolute_error\")))\n",
    "            print (\"Validation MAE_T = \", 45*float(logs.get(\"val_T_output_mean_absolute_error\")))\n",
    "            print (\"Training   MAE_O2 = \", 100*float(logs.get(\"O2_output_mean_absolute_error\")))\n",
    "            print (\"Training   MAE_T = \", 45*float(logs.get(\"T_output_mean_absolute_error\")))\n",
    "            \n",
    "            return"
   ]
  },
  {
   "cell_type": "code",
   "execution_count": null,
   "metadata": {
    "colab": {},
    "colab_type": "code",
    "id": "zolxZDx0ZvFe"
   },
   "outputs": [],
   "source": [
    "K.clear_session()"
   ]
  },
  {
   "cell_type": "code",
   "execution_count": null,
   "metadata": {
    "colab": {},
    "colab_type": "code",
    "id": "Iy4UkWvnZvFf"
   },
   "outputs": [],
   "source": [
    "input_x = keras.layers.Input(shape = (50,))\n",
    "lay1 = layers.Dense(50,  activation='sigmoid', dtype = tf.float32)(input_x)\n",
    "lay2 = layers.Dense(50, activation='sigmoid')(lay1)\n",
    "lay3 = layers.Dense(50, activation='sigmoid')(lay2)\n",
    "outboth = layers.Dense(2, activation='sigmoid',name=\"both_output\")(lay3)\n",
    "\n",
    "lay4 = layers.Dense(5, activation='sigmoid')(lay3)\n",
    "lay5 = layers.Dense(5, activation='sigmoid')(lay4)\n",
    "outo2 = layers.Dense(1, activation = 'sigmoid',name=\"O2_output\")(lay5)\n",
    "\n",
    "\n",
    "lay6 = layers.Dense(5, activation='sigmoid')(lay3)\n",
    "lay7 = layers.Dense(5, activation='sigmoid')(lay6)\n",
    "outT = layers.Dense(1, activation = 'sigmoid', name = \"T_output\")(lay7)\n",
    "\n",
    "#model = Model(input_x, outl)\n",
    "\n",
    "model4 = Model(\n",
    "    inputs=input_x,\n",
    "    outputs=[outboth, outo2, outT])"
   ]
  },
  {
   "cell_type": "code",
   "execution_count": 41,
   "metadata": {
    "colab": {
     "base_uri": "https://localhost:8080/",
     "height": 557
    },
    "colab_type": "code",
    "id": "vUcbGBnxZvFf",
    "outputId": "9946374a-ec63-480f-ae0a-2eb59e9cc154"
   },
   "outputs": [
    {
     "name": "stdout",
     "output_type": "stream",
     "text": [
      "Model: \"model\"\n",
      "__________________________________________________________________________________________________\n",
      "Layer (type)                    Output Shape         Param #     Connected to                     \n",
      "==================================================================================================\n",
      "input_1 (InputLayer)            [(None, 50)]         0                                            \n",
      "__________________________________________________________________________________________________\n",
      "dense (Dense)                   (None, 50)           2550        input_1[0][0]                    \n",
      "__________________________________________________________________________________________________\n",
      "dense_1 (Dense)                 (None, 50)           2550        dense[0][0]                      \n",
      "__________________________________________________________________________________________________\n",
      "dense_2 (Dense)                 (None, 50)           2550        dense_1[0][0]                    \n",
      "__________________________________________________________________________________________________\n",
      "dense_3 (Dense)                 (None, 5)            255         dense_2[0][0]                    \n",
      "__________________________________________________________________________________________________\n",
      "dense_5 (Dense)                 (None, 5)            255         dense_2[0][0]                    \n",
      "__________________________________________________________________________________________________\n",
      "dense_4 (Dense)                 (None, 5)            30          dense_3[0][0]                    \n",
      "__________________________________________________________________________________________________\n",
      "dense_6 (Dense)                 (None, 5)            30          dense_5[0][0]                    \n",
      "__________________________________________________________________________________________________\n",
      "both_output (Dense)             (None, 2)            102         dense_2[0][0]                    \n",
      "__________________________________________________________________________________________________\n",
      "O2_output (Dense)               (None, 1)            6           dense_4[0][0]                    \n",
      "__________________________________________________________________________________________________\n",
      "T_output (Dense)                (None, 1)            6           dense_6[0][0]                    \n",
      "==================================================================================================\n",
      "Total params: 8,334\n",
      "Trainable params: 8,334\n",
      "Non-trainable params: 0\n",
      "__________________________________________________________________________________________________\n"
     ]
    }
   ],
   "source": [
    "model4.summary()"
   ]
  },
  {
   "cell_type": "code",
   "execution_count": null,
   "metadata": {
    "colab": {},
    "colab_type": "code",
    "id": "GaxNArMlZvFg"
   },
   "outputs": [],
   "source": [
    "losses = {\n",
    "        \"both_output\": \"mse\",\n",
    "        \"O2_output\": \"mse\",\n",
    "        \"T_output\": \"mse\"\n",
    "}\n",
    "\n",
    "lossWeights = {\"both_output\": 0.3, \"O2_output\": 5.0, \"T_output\": 5.0}\n",
    "\n",
    "opt = Adam(lr=0.001)\n",
    "\n",
    "model4.compile(optimizer=opt, loss=losses, loss_weights=lossWeights,\n",
    "        metrics=[\"mae\"])"
   ]
  },
  {
   "cell_type": "code",
   "execution_count": null,
   "metadata": {
    "colab": {},
    "colab_type": "code",
    "id": "QAR-gIrbZvFh"
   },
   "outputs": [],
   "source": [
    "targets_train_O2 = targets_train['O2']\n",
    "targets_dev_O2 = targets_dev['O2']\n",
    "targets_train_T = targets_train['T']\n",
    "targets_dev_T = targets_dev['T']"
   ]
  },
  {
   "cell_type": "markdown",
   "metadata": {
    "colab_type": "text",
    "id": "-do_u4EDZvFh"
   },
   "source": [
    "### WORKING HERE"
   ]
  },
  {
   "cell_type": "code",
   "execution_count": 44,
   "metadata": {
    "colab": {
     "base_uri": "https://localhost:8080/",
     "height": 35
    },
    "colab_type": "code",
    "id": "oer0AVqBVNmu",
    "outputId": "9d528933-0856-4a53-bffa-9cb361d7754c"
   },
   "outputs": [
    {
     "data": {
      "text/plain": [
       "(3024, 2)"
      ]
     },
     "execution_count": 44,
     "metadata": {
      "tags": []
     },
     "output_type": "execute_result"
    }
   ],
   "source": [
    "targets_train.shape"
   ]
  },
  {
   "cell_type": "code",
   "execution_count": 45,
   "metadata": {
    "colab": {
     "base_uri": "https://localhost:8080/",
     "height": 1000
    },
    "colab_type": "code",
    "id": "5SOLycrnZvFh",
    "outputId": "395a8a6d-324e-4068-ab11-115d1dd7daeb"
   },
   "outputs": [
    {
     "name": "stdout",
     "output_type": "stream",
     "text": [
      "Just finished epoch 0\n",
      "Validation MAE_O2 =  31.164255738258362\n",
      "Validation MAE_T =  11.252462267875671\n",
      "Training   MAE_O2 =  31.91887140274048\n",
      "Training   MAE_T =  11.105931848287582\n",
      "Just finished epoch 500\n",
      "Validation MAE_O2 =  12.091540545225143\n",
      "Validation MAE_T =  11.209492608904839\n",
      "Training   MAE_O2 =  12.09312528371811\n",
      "Training   MAE_T =  11.087427288293839\n",
      "Just finished epoch 1000\n",
      "Validation MAE_O2 =  8.157561719417572\n",
      "Validation MAE_T =  10.269100740551949\n",
      "Training   MAE_O2 =  8.341240882873535\n",
      "Training   MAE_T =  10.195425152778625\n",
      "Just finished epoch 1500\n",
      "Validation MAE_O2 =  9.085649251937866\n",
      "Validation MAE_T =  7.593473866581917\n",
      "Training   MAE_O2 =  9.56302210688591\n",
      "Training   MAE_T =  7.539181262254715\n",
      "Just finished epoch 2000\n",
      "Validation MAE_O2 =  5.659490078687668\n",
      "Validation MAE_T =  3.269851841032505\n",
      "Training   MAE_O2 =  5.789197608828545\n",
      "Training   MAE_T =  3.085775189101696\n",
      "Just finished epoch 2500\n",
      "Validation MAE_O2 =  3.2722141593694687\n",
      "Validation MAE_T =  2.995113506913185\n",
      "Training   MAE_O2 =  3.384822979569435\n",
      "Training   MAE_T =  2.839703969657421\n",
      "Just finished epoch 3000\n",
      "Validation MAE_O2 =  2.3456593975424767\n",
      "Validation MAE_T =  2.717646025121212\n",
      "Training   MAE_O2 =  2.4390581995248795\n",
      "Training   MAE_T =  2.747741248458624\n",
      "Just finished epoch 3500\n",
      "Validation MAE_O2 =  1.9745947793126106\n",
      "Validation MAE_T =  2.474663369357586\n",
      "Training   MAE_O2 =  2.0873283967375755\n",
      "Training   MAE_T =  2.427197825163603\n",
      "Just finished epoch 4000\n",
      "Validation MAE_O2 =  1.7530657351016998\n",
      "Validation MAE_T =  2.3634016513824463\n",
      "Training   MAE_O2 =  1.8580162897706032\n",
      "Training   MAE_T =  2.324877753853798\n",
      "Just finished epoch 4500\n",
      "Validation MAE_O2 =  1.5705600380897522\n",
      "Validation MAE_T =  2.637373376637697\n",
      "Training   MAE_O2 =  1.669558323919773\n",
      "Training   MAE_T =  2.5165133737027645\n",
      "Just finished epoch 5000\n",
      "Validation MAE_O2 =  1.4327996410429478\n",
      "Validation MAE_T =  2.9117031767964363\n",
      "Training   MAE_O2 =  1.5234170481562614\n",
      "Training   MAE_T =  3.021683134138584\n",
      "Just finished epoch 5500\n",
      "Validation MAE_O2 =  1.2842615135014057\n",
      "Validation MAE_T =  2.166435308754444\n",
      "Training   MAE_O2 =  1.3695742934942245\n",
      "Training   MAE_T =  2.156006880104542\n",
      "Just finished epoch 6000\n",
      "Validation MAE_O2 =  1.138510275632143\n",
      "Validation MAE_T =  2.146785445511341\n",
      "Training   MAE_O2 =  1.2139963917434216\n",
      "Training   MAE_T =  2.131874207407236\n",
      "Just finished epoch 6500\n",
      "Validation MAE_O2 =  1.0246462188661098\n",
      "Validation MAE_T =  2.076261453330517\n",
      "Training   MAE_O2 =  1.0891612619161606\n",
      "Training   MAE_T =  2.0669085904955864\n",
      "Just finished epoch 7000\n",
      "Validation MAE_O2 =  0.9422146715223789\n",
      "Validation MAE_T =  2.089412994682789\n",
      "Training   MAE_O2 =  0.9958371520042419\n",
      "Training   MAE_T =  2.073979564011097\n",
      "Just finished epoch 7500\n",
      "Validation MAE_O2 =  0.8774646557867527\n",
      "Validation MAE_T =  1.999862752854824\n",
      "Training   MAE_O2 =  0.9243782609701157\n",
      "Training   MAE_T =  1.9940289482474327\n",
      "Just finished epoch 8000\n",
      "Validation MAE_O2 =  0.8347410708665848\n",
      "Validation MAE_T =  2.2218631580471992\n",
      "Training   MAE_O2 =  0.8671040646731853\n",
      "Training   MAE_T =  2.2393649071455\n",
      "Just finished epoch 8500\n",
      "Validation MAE_O2 =  0.7933400571346283\n",
      "Validation MAE_T =  2.269392404705286\n",
      "Training   MAE_O2 =  0.8162711746990681\n",
      "Training   MAE_T =  2.2544338926672935\n",
      "Just finished epoch 9000\n",
      "Validation MAE_O2 =  0.757027231156826\n",
      "Validation MAE_T =  2.2458342276513577\n",
      "Training   MAE_O2 =  0.7736960425972939\n",
      "Training   MAE_T =  2.2310708463191986\n",
      "Just finished epoch 9500\n",
      "Validation MAE_O2 =  0.7272655144333839\n",
      "Validation MAE_T =  2.2226812317967415\n",
      "Training   MAE_O2 =  0.7404252886772156\n",
      "Training   MAE_T =  2.2096047922968864\n",
      "Just finished epoch 10000\n",
      "Validation MAE_O2 =  0.7014761678874493\n",
      "Validation MAE_T =  2.200332898646593\n",
      "Training   MAE_O2 =  0.714006507769227\n",
      "Training   MAE_T =  2.1894020587205887\n",
      "Just finished epoch 10500\n",
      "Validation MAE_O2 =  0.6777032744139433\n",
      "Validation MAE_T =  2.1778933703899384\n",
      "Training   MAE_O2 =  0.6919782143086195\n",
      "Training   MAE_T =  2.1691953018307686\n",
      "Just finished epoch 11000\n",
      "Validation MAE_O2 =  0.6539870053529739\n",
      "Validation MAE_T =  2.1559834107756615\n",
      "Training   MAE_O2 =  0.6712732370942831\n",
      "Training   MAE_T =  2.1494420059025288\n",
      "Just finished epoch 11500\n",
      "Validation MAE_O2 =  0.6299638655036688\n",
      "Validation MAE_T =  2.134169340133667\n",
      "Training   MAE_O2 =  0.6500184070318937\n",
      "Training   MAE_T =  2.129401210695505\n",
      "Just finished epoch 12000\n",
      "Validation MAE_O2 =  0.6044084206223488\n",
      "Validation MAE_T =  2.1119556203484535\n",
      "Training   MAE_O2 =  0.6276535801589489\n",
      "Training   MAE_T =  2.109069898724556\n",
      "Just finished epoch 12500\n",
      "Validation MAE_O2 =  0.5790139082819223\n",
      "Validation MAE_T =  2.0894919522106647\n",
      "Training   MAE_O2 =  0.6050984840840101\n",
      "Training   MAE_T =  2.0882132090628147\n",
      "Just finished epoch 13000\n",
      "Validation MAE_O2 =  0.5563986953347921\n",
      "Validation MAE_T =  2.066621594130993\n",
      "Training   MAE_O2 =  0.585299264639616\n",
      "Training   MAE_T =  2.0667394436895847\n",
      "Just finished epoch 13500\n",
      "Validation MAE_O2 =  0.5377789027988911\n",
      "Validation MAE_T =  2.0425527915358543\n",
      "Training   MAE_O2 =  0.5702374968677759\n",
      "Training   MAE_T =  2.0440400764346123\n",
      "Just finished epoch 14000\n",
      "Validation MAE_O2 =  0.523441145196557\n",
      "Validation MAE_T =  2.0182829909026623\n",
      "Training   MAE_O2 =  0.5582197103649378\n",
      "Training   MAE_T =  2.0213589817285538\n",
      "Just finished epoch 14500\n",
      "Validation MAE_O2 =  0.5112051498144865\n",
      "Validation MAE_T =  1.9912320747971535\n",
      "Training   MAE_O2 =  0.5471518263220787\n",
      "Training   MAE_T =  1.9960714504122734\n",
      "Just finished epoch 15000\n",
      "Validation MAE_O2 =  0.49928859807550907\n",
      "Validation MAE_T =  1.9610915891826153\n",
      "Training   MAE_O2 =  0.5357006099075079\n",
      "Training   MAE_T =  1.9680341519415379\n",
      "Just finished epoch 15500\n",
      "Validation MAE_O2 =  0.4855391103774309\n",
      "Validation MAE_T =  1.869704369455576\n",
      "Training   MAE_O2 =  0.521303853020072\n",
      "Training   MAE_T =  1.8752479925751686\n",
      "Just finished epoch 16000\n",
      "Validation MAE_O2 =  0.5053654313087463\n",
      "Validation MAE_T =  2.6007452979683876\n",
      "Training   MAE_O2 =  0.5532858427613974\n",
      "Training   MAE_T =  2.6833070442080498\n",
      "Just finished epoch 16500\n",
      "Validation MAE_O2 =  0.4707882646471262\n",
      "Validation MAE_T =  1.722591407597065\n",
      "Training   MAE_O2 =  0.4914164077490568\n",
      "Training   MAE_T =  1.6804292611777782\n",
      "Just finished epoch 17000\n",
      "Validation MAE_O2 =  0.4455859772861004\n",
      "Validation MAE_T =  1.4444862306118011\n",
      "Training   MAE_O2 =  0.47617205418646336\n",
      "Training   MAE_T =  1.474734004586935\n",
      "Just finished epoch 17500\n",
      "Validation MAE_O2 =  0.4393862560391426\n",
      "Validation MAE_T =  1.5823199227452278\n",
      "Training   MAE_O2 =  0.4758416209369898\n",
      "Training   MAE_T =  1.6058983840048313\n",
      "Just finished epoch 18000\n",
      "Validation MAE_O2 =  0.4355969373136759\n",
      "Validation MAE_T =  1.4247108064591885\n",
      "Training   MAE_O2 =  0.46231173910200596\n",
      "Training   MAE_T =  1.479104831814766\n",
      "Just finished epoch 18500\n",
      "Validation MAE_O2 =  0.4319388419389725\n",
      "Validation MAE_T =  1.5422284416854382\n",
      "Training   MAE_O2 =  0.4596124403178692\n",
      "Training   MAE_T =  1.5202676877379417\n",
      "Just finished epoch 19000\n",
      "Validation MAE_O2 =  0.4269505850970745\n",
      "Validation MAE_T =  1.3795414008200169\n",
      "Training   MAE_O2 =  0.44651487842202187\n",
      "Training   MAE_T =  1.3744726963341236\n",
      "Just finished epoch 19500\n",
      "Validation MAE_O2 =  0.41839410550892353\n",
      "Validation MAE_T =  1.7415098659694195\n",
      "Training   MAE_O2 =  0.45622801408171654\n",
      "Training   MAE_T =  1.9292425364255905\n"
     ]
    }
   ],
   "source": [
    "H = model4.fit(data_train,\n",
    "        {\"both_output\": targets_train, \"O2_output\": targets_train_O2, \"T_output\": targets_train_T},\n",
    "        validation_data=(data_dev,\n",
    "            {\"both_output\": targets_dev, \"O2_output\": targets_dev_O2, \"T_output\": targets_dev_T}),\n",
    "        epochs=20000, batch_size = 19983,\n",
    "        verbose=0, callbacks = [CustomCallback_()])"
   ]
  },
  {
   "cell_type": "code",
   "execution_count": null,
   "metadata": {
    "colab": {},
    "colab_type": "code",
    "id": "M-UMGLNJZvFi"
   },
   "outputs": [],
   "source": [
    "(O2T, O2, T) = model4.predict(data_dev)\n",
    "preds_exp_df = pd.DataFrame(O2T)\n",
    "preds_exp_df.columns = ['O2', 'T']\n",
    "preds_exp_o2_df = pd.DataFrame(O2[:,0])\n",
    "preds_exp_o2_df.columns = ['O2']\n",
    "\n",
    "preds_exp_T_df = pd.DataFrame(T[:,0])\n",
    "preds_exp_T_df.columns = ['T']"
   ]
  },
  {
   "cell_type": "code",
   "execution_count": null,
   "metadata": {
    "colab": {},
    "colab_type": "code",
    "id": "TAQKhZDjZvFi"
   },
   "outputs": [],
   "source": [
    "targets_dev = targets_dev.reset_index(drop = True)\n",
    "preds_exp_o2_df = preds_exp_o2_df.reset_index(drop = True)\n",
    "preds_exp_T_df = preds_exp_T_df.reset_index(drop = True)"
   ]
  },
  {
   "cell_type": "code",
   "execution_count": null,
   "metadata": {
    "colab": {},
    "colab_type": "code",
    "id": "mzVtcUYsZvFj"
   },
   "outputs": [],
   "source": [
    "MAE_boxplot_C, MAE_list_C, MAE_xticks_C = MAE_O2_list_generator(10.0, targets_dev, preds_exp_o2_df)\n",
    "MAET_boxplot_C_MTL, MAET_list_C_MTL, MAET_xticks_C_MTL = MAE_T_list_generator(targets_dev, preds_exp_T_df)"
   ]
  },
  {
   "cell_type": "code",
   "execution_count": 56,
   "metadata": {
    "colab": {
     "base_uri": "https://localhost:8080/",
     "height": 197
    },
    "colab_type": "code",
    "id": "XeoJZecyZvFj",
    "outputId": "7e78f0e9-41ec-4bbd-dffe-2258a145120e"
   },
   "outputs": [
    {
     "data": {
      "text/plain": [
       "[0.42530722523990433,\n",
       " 0.28590303200941836,\n",
       " 0.2873900571426787,\n",
       " 0.36511211328103454,\n",
       " 0.4360578298568729,\n",
       " 0.4227788283907134,\n",
       " 0.34746043093792783,\n",
       " 0.22095763683319117,\n",
       " 0.30416345890657653,\n",
       " 0.4357298711935686]"
      ]
     },
     "execution_count": 56,
     "metadata": {
      "tags": []
     },
     "output_type": "execute_result"
    }
   ],
   "source": [
    "MAE_list_C"
   ]
  },
  {
   "cell_type": "code",
   "execution_count": 57,
   "metadata": {
    "colab": {
     "base_uri": "https://localhost:8080/",
     "height": 35
    },
    "colab_type": "code",
    "id": "TPq8KP8FZvFk",
    "outputId": "d8b6af4a-487c-48f5-ac8b-b54b2b8a4eb5"
   },
   "outputs": [
    {
     "data": {
      "text/plain": [
       "0.35308604837918867"
      ]
     },
     "execution_count": 57,
     "metadata": {
      "tags": []
     },
     "output_type": "execute_result"
    }
   ],
   "source": [
    "np.mean(MAE_list_C) \n",
    "# 64/32/32 -->\n",
    "# 50       -->\n",
    "# 80       -->"
   ]
  },
  {
   "cell_type": "code",
   "execution_count": 58,
   "metadata": {
    "colab": {
     "base_uri": "https://localhost:8080/",
     "height": 443
    },
    "colab_type": "code",
    "id": "ic8H7_tdZvFk",
    "outputId": "3e9744f5-3694-4d8b-e73c-b8778d5d7982"
   },
   "outputs": [
    {
     "data": {
      "text/plain": [
       "<matplotlib.legend.Legend at 0x7f1d2de0e6d8>"
      ]
     },
     "execution_count": 58,
     "metadata": {
      "tags": []
     },
     "output_type": "execute_result"
    },
    {
     "data": {
      "text/plain": [
       "<Figure size 432x288 with 0 Axes>"
      ]
     },
     "metadata": {
      "tags": []
     },
     "output_type": "display_data"
    },
    {
     "data": {
      "image/png": "[encoded data removed]",
      "text/plain": [
       "<Figure size 576x360 with 1 Axes>"
      ]
     },
     "metadata": {
      "tags": []
     },
     "output_type": "display_data"
    }
   ],
   "source": [
    "maxx = 4.0\n",
    "\n",
    "plt.rc('font', family='arial')\n",
    "plt.rc('xtick', labelsize='x-small')\n",
    "plt.rc('ytick', labelsize='x-small')\n",
    "    \n",
    "plt.tight_layout()\n",
    "\n",
    "fig = plt.figure(figsize=(8, 5))\n",
    "\n",
    "ax = fig.add_subplot(1, 1, 1)\n",
    "\n",
    "#bp = ax.scatter(range(1,len(MAE_xticks50)+1),MAE_list50, s = 60, color = 'black', label = 'Network A (50/50/50)')\n",
    "#bp = ax.scatter(range(1,len(MAE_xticks_MTL)+1),MAE_list_MTL, s = 60, color = 'red', label = 'Network B (MTL)')\n",
    "bp = ax.scatter(range(1,len(MAE_xticks_C)+1),MAE_list_C, s = 60, color = 'blue', label = 'Network C (MTL)')\n",
    "plt.ylim(0, 2)\n",
    "plt.xticks(range(1,len(MAE_xticks_C)+1), MAE_xticks_C, size='small', rotation = 'vertical')\n",
    "#plt.grid()\n",
    "plt.ylabel('Mean Absolute Error (% air)', fontsize = 16)\n",
    "plt.xlabel('$[O_2]$ ranges', fontsize = 16)\n",
    "plt.tick_params(labelsize=16)\n",
    "plt.legend(loc = 'upper left', fontsize = 16)\n",
    "#plt.xlim(0,9.5)\n",
    "\n",
    "\n",
    "#fig.savefig('Figures/absolute_error_for_T_boxplots.eps', format='eps', dpi=300,bbox_inches='tight')"
   ]
  },
  {
   "cell_type": "code",
   "execution_count": 64,
   "metadata": {
    "colab": {
     "base_uri": "https://localhost:8080/",
     "height": 443
    },
    "colab_type": "code",
    "id": "etGRCxNYdQXu",
    "outputId": "da4a0bc9-dd64-43fd-8d96-7753f9d333af"
   },
   "outputs": [
    {
     "data": {
      "text/plain": [
       "(-0.1, 45)"
      ]
     },
     "execution_count": 64,
     "metadata": {
      "tags": []
     },
     "output_type": "execute_result"
    },
    {
     "data": {
      "text/plain": [
       "<Figure size 432x288 with 0 Axes>"
      ]
     },
     "metadata": {
      "tags": []
     },
     "output_type": "display_data"
    },
    {
     "data": {
      "image/png": "[encoded data removed]",
      "text/plain": [
       "<Figure size 1152x360 with 2 Axes>"
      ]
     },
     "metadata": {
      "tags": []
     },
     "output_type": "display_data"
    }
   ],
   "source": [
    "maxy = 5.0\n",
    "\n",
    "\n",
    "plt.rc('font', family='arial')\n",
    "plt.rc('xtick', labelsize='x-small')\n",
    "plt.rc('ytick', labelsize='x-small')\n",
    "    \n",
    "plt.tight_layout()\n",
    "\n",
    "fig = plt.figure(figsize=(16, 5))\n",
    "\n",
    "\n",
    "\n",
    "ax = fig.add_subplot(1, 2, 1)\n",
    "\n",
    "\n",
    "bp = ax.boxplot(MAE_boxplot_C, whis = 'range')\n",
    "ax.set_xticklabels([5, 15, 25, 35, 45])\n",
    "\n",
    "for whisker in bp['whiskers']:\n",
    "    whisker.set(color = 'black', linewidth = 2)\n",
    "for cap in bp['caps']:\n",
    "    cap.set(color = 'black', linewidth = 2)\n",
    "for box in bp['boxes']:\n",
    "    box.set(color = 'black', linewidth = 2)\n",
    "for median in bp['medians']:\n",
    "    median.set(color = 'red', linewidth = 2)\n",
    "for outl in bp['fliers']:\n",
    "    outl.set(linewidth = 0, ms = 0, mew = 1.4, markerfacecolor = 'none')\n",
    "    \n",
    "#plt.ylim(-0.2, 2.9)\n",
    "    \n",
    "#ax.text(1, 1.5, 'Value for $[O_2] = 100$ % Air', fontsize = 18)\n",
    "\n",
    "legend_elements = [\n",
    "                  Line2D([0], [0],  lw = 2, color='red', label='Network C',\n",
    "                          markerfacecolor='none', markeredgewidth=1.4, markersize=8)]\n",
    "ax.legend(handles=legend_elements, loc='upper left', fontsize = 16)\n",
    "\n",
    "plt.xticks(range(1,len(MAE_xticks_C)+1), MAE_xticks_C, size='small', rotation = 'vertical')\n",
    "\n",
    "#plt.grid()\n",
    "\n",
    "plt.ylabel('Absolute Error (% air)', fontsize = 16)\n",
    "plt.xlabel('$[O_2]$ ranges (% air)', fontsize = 16)\n",
    "plt.tick_params(labelsize=16)\n",
    "plt.ylim(-0.1,maxy)\n",
    "\n",
    "\n",
    "\n",
    "\n",
    "ax = fig.add_subplot(1, 2, 2)\n",
    "\n",
    "\n",
    "bp = ax.boxplot(MAET_boxplot_C_MTL, whis = 'range')\n",
    "ax.set_xticklabels([5, 15, 25, 35, 45])\n",
    "\n",
    "for whisker in bp['whiskers']:\n",
    "    whisker.set(color = 'black', linewidth = 2)\n",
    "for cap in bp['caps']:\n",
    "    cap.set(color = 'black', linewidth = 2)\n",
    "for box in bp['boxes']:\n",
    "    box.set(color = 'black', linewidth = 2)\n",
    "for median in bp['medians']:\n",
    "    median.set(color = 'red', linewidth = 2)\n",
    "for outl in bp['fliers']:\n",
    "    outl.set(linewidth = 0, ms = 0, mew = 1.4, markerfacecolor = 'none')\n",
    "    \n",
    "#plt.ylim(-0.2, 2.9)\n",
    "    \n",
    "#ax.text(1, 1.5, 'Value for $[O_2] = 100$ % Air', fontsize = 18)\n",
    "\n",
    "legend_elements = [\n",
    "                  Line2D([0], [0],  lw = 2, color='red', label='Network C',\n",
    "                          markerfacecolor='none', markeredgewidth=1.4, markersize=8)]\n",
    "ax.legend(handles=legend_elements, loc='upper left', fontsize = 16)\n",
    "\n",
    "plt.xticks(range(1,len(MAET_xticks_C_MTL)+1), MAET_xticks_C_MTL, size='small', rotation = 'vertical')\n",
    "\n",
    "#plt.grid()\n",
    "\n",
    "plt.ylabel('Absolute Error ($^\\circ$ C)', fontsize = 16)\n",
    "plt.xlabel('T ($^\\circ$ C)', fontsize = 16)\n",
    "plt.tick_params(labelsize=16)\n",
    "plt.ylim(-0.1,45)\n"
   ]
  },
  {
   "cell_type": "code",
   "execution_count": null,
   "metadata": {
    "colab": {},
    "colab_type": "code",
    "id": "ZaXv4N3XPgO8"
   },
   "outputs": [],
   "source": [
    "pdo2 = pd.DataFrame({'MAE_list': MAE_list_C, 'MAE_xticks': MAE_xticks_C, 'MAE_boxplot': MAE_boxplot_C})\n",
    "pdT = pd.DataFrame({'MAET_list': MAET_list_C_MTL,'MAET_boxplot': MAET_boxplot_C_MTL, 'MAET_xticks':MAET_xticks_C_MTL})\n",
    "pdo2.to_csv('/content/gdrive/My Drive/data/netc_O2.csv')\n",
    "pdT.to_csv('/content/gdrive/My Drive/data/netc_T.csv')"
   ]
  },
  {
   "cell_type": "code",
   "execution_count": 65,
   "metadata": {
    "colab": {
     "base_uri": "https://localhost:8080/",
     "height": 35
    },
    "colab_type": "code",
    "id": "KqiYyQDqP2Vq",
    "outputId": "b4d2c13c-ec0c-48fc-ccd1-a8bebc36ec93"
   },
   "outputs": [
    {
     "data": {
      "text/plain": [
       "0.35308604837918867"
      ]
     },
     "execution_count": 65,
     "metadata": {
      "tags": []
     },
     "output_type": "execute_result"
    }
   ],
   "source": [
    "np.mean(MAE_list_C)"
   ]
  },
  {
   "cell_type": "code",
   "execution_count": 66,
   "metadata": {
    "colab": {
     "base_uri": "https://localhost:8080/",
     "height": 35
    },
    "colab_type": "code",
    "id": "nKhkjo7Wtk_k",
    "outputId": "8aaa38bf-5b67-4c20-8468-ccde92757795"
   },
   "outputs": [
    {
     "data": {
      "text/plain": [
       "1.2910670954574734"
      ]
     },
     "execution_count": 66,
     "metadata": {
      "tags": []
     },
     "output_type": "execute_result"
    }
   ],
   "source": [
    "np.mean(MAET_list_C_MTL)"
   ]
  },
  {
   "cell_type": "code",
   "execution_count": null,
   "metadata": {
    "colab": {},
    "colab_type": "code",
    "id": "wML_1MgiIn3-"
   },
   "outputs": [],
   "source": [
    "MAE_boxplot_C_flat = [item for sublist in MAE_boxplot_C for item in sublist]\n",
    "MAET_boxplot_C_MTL_flat = [item for sublist in MAET_boxplot_C_MTL for item in sublist]\n",
    "#type(MAE_boxplot_C)"
   ]
  },
  {
   "cell_type": "code",
   "execution_count": 75,
   "metadata": {
    "colab": {
     "base_uri": "https://localhost:8080/",
     "height": 373
    },
    "colab_type": "code",
    "id": "o60W8avLIZmv",
    "outputId": "fc55f5e4-dd8c-4601-b26e-78067e8c34c1"
   },
   "outputs": [
    {
     "data": {
      "text/plain": [
       "<Figure size 432x288 with 0 Axes>"
      ]
     },
     "metadata": {
      "tags": []
     },
     "output_type": "display_data"
    },
    {
     "data": {
      "image/png": "[encoded data removed]",
      "text/plain": [
       "<Figure size 1152x360 with 2 Axes>"
      ]
     },
     "metadata": {
      "tags": []
     },
     "output_type": "display_data"
    }
   ],
   "source": [
    "\n",
    "    \n",
    "plt.tight_layout()\n",
    "\n",
    "fig = plt.figure(figsize=(16, 5))\n",
    "\n",
    "\n",
    "\n",
    "ax = fig.add_subplot(1, 2, 1)\n",
    "\n",
    "\n",
    "sns.distplot(MAE_boxplot_C_flat, color = 'black', hist = False, label = 'AE$_{[O_2]}$ KDE')\n",
    "\n",
    "\n",
    "ax.legend( fontsize = 16)\n",
    "\n",
    "#plt.xticks(range(1,len(neta50_O2['MAE_xticks'])+1), neta50_O2['MAE_xticks'], size='small', rotation = 'vertical')\n",
    "\n",
    "#plt.grid()\n",
    "\n",
    "plt.ylabel('Counts (normalized)', fontsize = 16)\n",
    "plt.xlabel('AE$_{[O_2]}$ (% air)', fontsize = 16)\n",
    "plt.tick_params(labelsize=16)\n",
    "plt.ylim(0, 2)\n",
    "plt.xlim(0, 20)\n",
    "\n",
    "\n",
    "ax = fig.add_subplot(1, 2,2)\n",
    "# MAE_boxplot_C, MAE_list_C, MAE_xticks_C\n",
    "sns.distplot(MAET_boxplot_C_MTL_flat,  color = 'black', hist = False, label = 'Temperature KDE')\n",
    "    \n",
    "#plt.ylim(-0.2, 2.9)\n",
    "    \n",
    "#ax.text(1, 1.5, 'Value for $[O_2] = 100$ % Air', fontsize = 18)\n",
    "\n",
    "plt.xlabel('T (C)', fontsize = 16)\n",
    "plt.tick_params(labelsize=16)\n",
    "ax.legend( fontsize = 16)\n",
    "plt.ylim(0, 1.0)\n",
    "plt.xlim(0, 20)\n",
    "\n",
    "\n",
    "\n",
    "\n",
    "plt.show()\n",
    "\n",
    "#fig.savefig('/content/gdrive/My Drive/plot3.eps', format='eps', dpi=300,bbox_inches='tight')\n",
    "\n",
    "\n",
    "\n",
    "#fig.savefig('Figures/absolute_error_for_T_boxplots.eps', format='eps', dpi=300,bbox_inches='tight')"
   ]
  },
  {
   "cell_type": "markdown",
   "metadata": {
    "colab_type": "text",
    "id": "m7C-IbK3ZvFw"
   },
   "source": [
    "# VERSIONS"
   ]
  },
  {
   "cell_type": "code",
   "execution_count": 76,
   "metadata": {
    "colab": {
     "base_uri": "https://localhost:8080/",
     "height": 53
    },
    "colab_type": "code",
    "id": "WrPML1U5ZvFx",
    "outputId": "d0049d44-9ee6-408e-9dae-4da7a635d6f6"
   },
   "outputs": [
    {
     "name": "stdout",
     "output_type": "stream",
     "text": [
      "1.15.0\n",
      "2.2.4-tf\n"
     ]
    }
   ],
   "source": [
    "import tensorflow as tf\n",
    "from tensorflow.keras import layers\n",
    "\n",
    "print(tf.VERSION)\n",
    "print(tf.keras.__version__)"
   ]
  },
  {
   "cell_type": "code",
   "execution_count": null,
   "metadata": {
    "colab": {},
    "colab_type": "code",
    "id": "wOiy_88tJv10"
   },
   "outputs": [],
   "source": [
    "p"
   ]
  }
 ],
 "metadata": {
  "accelerator": "GPU",
  "colab": {
   "collapsed_sections": [],
   "include_colab_link": true,
   "name": "O2 prediction model - Network C v2 O2T Paper.ipynb",
   "provenance": []
  },
  "kernelspec": {
   "display_name": "Python 3",
   "language": "python",
   "name": "python3"
  },
  "language_info": {
   "codemirror_mode": {
    "name": "ipython",
    "version": 3
   },
   "file_extension": ".py",
   "mimetype": "text/x-python",
   "name": "python",
   "nbconvert_exporter": "python",
   "pygments_lexer": "ipython3",
   "version": "3.7.2"
  }
 },
 "nbformat": 4,
 "nbformat_minor": 2
}
