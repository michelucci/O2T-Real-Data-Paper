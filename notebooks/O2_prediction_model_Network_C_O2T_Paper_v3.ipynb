{
  "nbformat": 4,
  "nbformat_minor": 0,
  "metadata": {
    "accelerator": "GPU",
    "colab": {
      "name": "O2 prediction model - Network C O2T Paper-v3.ipynb",
      "provenance": [],
      "collapsed_sections": [],
      "include_colab_link": true
    },
    "kernelspec": {
      "display_name": "Python 3",
      "language": "python",
      "name": "python3"
    },
    "language_info": {
      "codemirror_mode": {
        "name": "ipython",
        "version": 3
      },
      "file_extension": ".py",
      "mimetype": "text/x-python",
      "name": "python",
      "nbconvert_exporter": "python",
      "pygments_lexer": "ipython3",
      "version": "3.7.2"
    }
  },
  "cells": [
    {
      "cell_type": "markdown",
      "metadata": {
        "id": "view-in-github",
        "colab_type": "text"
      },
      "source": [
        "<a href=\"https://colab.research.google.com/github/michelucci/O2T-Real-Data-Paper/blob/master/notebooks/O2_prediction_model_Network_C_O2T_Paper_v3.ipynb\" target=\"_parent\"><img src=\"https://colab.research.google.com/assets/colab-badge.svg\" alt=\"Open In Colab\"/></a>"
      ]
    },
    {
      "cell_type": "markdown",
      "metadata": {
        "colab_type": "text",
        "id": "czCW0XAgZvEm"
      },
      "source": [
        "# Code related to the paper on the prediction of $[O2]$ and $T$ at the same time with MTL - Network C  \n",
        "\n",
        "Author: Umberto Michelucci\n",
        "\n",
        "**Version 2.0**\n",
        "\n",
        "\n",
        "## Dataset 1 -- $\\theta / 90$"
      ]
    },
    {
      "cell_type": "markdown",
      "metadata": {
        "id": "6hnmirGd2Trf",
        "colab_type": "text"
      },
      "source": [
        "We first import the libraries we need. Many are non necessary but are useful to write shorter code. For example one you have imported `keras` you don't need to `from tensorflow.keras.models import Sequential` but this makes some of the code shorter. In fact instead of writing `keras.models.Sequential()` you can simply use `Sequential()`."
      ]
    },
    {
      "cell_type": "code",
      "metadata": {
        "colab_type": "code",
        "id": "2Tp3iYK_ZvEo",
        "outputId": "f980561f-3563-491c-b878-a40692af4e5e",
        "colab": {
          "base_uri": "https://localhost:8080/",
          "height": 53
        }
      },
      "source": [
        "# Basics\n",
        "import numpy as np\n",
        "import pandas as pd\n",
        "\n",
        "# for timing measurements\n",
        "import time\n",
        "\n",
        "# Only in Google Colab\n",
        "%tensorflow_version 2.x\n",
        "\n",
        "import tensorflow as tf\n",
        "\n",
        "# Keras\n",
        "from tensorflow.keras.models import Sequential\n",
        "from tensorflow.keras.optimizers import SGD\n",
        "from tensorflow.keras.optimizers import Adam\n",
        "from tensorflow.keras.layers import Dense\n",
        "from tensorflow.keras import Model\n",
        "from tensorflow.keras import layers\n",
        "import tensorflow.keras as keras\n",
        "import tensorflow.keras.backend as K\n",
        "\n",
        "# Various\n",
        "from numpy import random\n",
        "from scipy.interpolate import interp1d\n",
        "\n",
        "# Plotting\n",
        "import matplotlib.pyplot as plt\n",
        "from matplotlib.lines import Line2D\n",
        "import seaborn as sns\n",
        "\n",
        "\n",
        "\n",
        "print(tf.__version__)"
      ],
      "execution_count": 1,
      "outputs": [
        {
          "output_type": "stream",
          "text": [
            "TensorFlow 2.x selected.\n",
            "2.1.0\n"
          ],
          "name": "stdout"
        }
      ]
    },
    {
      "cell_type": "markdown",
      "metadata": {
        "id": "QF-Rsiyz2Trj",
        "colab_type": "text"
      },
      "source": [
        "# Input data load\n",
        "\n",
        "Depending if you are running this code on Google Colab or locally run the appropriate cells. Note that if you want to run the notebook on Colab, you will need to have the files in the appropriate directory. In particular you need\n",
        "\n",
        "`../data/train_data1.csv`\n",
        "\n",
        "`../data/train_targets1.csv`\n"
      ]
    },
    {
      "cell_type": "markdown",
      "metadata": {
        "colab_type": "text",
        "id": "gr8mzs4gZvEv"
      },
      "source": [
        "## Read the files (Google Drive)"
      ]
    },
    {
      "cell_type": "code",
      "metadata": {
        "colab_type": "code",
        "id": "ktBIU99yaC9x",
        "outputId": "870b1ef2-8065-47ea-bab6-490f6abb276b",
        "colab": {
          "base_uri": "https://localhost:8080/",
          "height": 35
        }
      },
      "source": [
        "from google.colab import drive\n",
        "drive.mount('/content/gdrive')"
      ],
      "execution_count": 2,
      "outputs": [
        {
          "output_type": "stream",
          "text": [
            "Drive already mounted at /content/gdrive; to attempt to forcibly remount, call drive.mount(\"/content/gdrive\", force_remount=True).\n"
          ],
          "name": "stdout"
        }
      ]
    },
    {
      "cell_type": "code",
      "metadata": {
        "id": "EpTMRzu62jL7",
        "colab_type": "code",
        "colab": {
          "base_uri": "https://localhost:8080/",
          "height": 35
        },
        "outputId": "d17ec5b2-2c74-42c5-9ee8-bc2235e022b4"
      },
      "source": [
        "root_dir = \"/content/gdrive/My Drive/Datasets/O2TRealData\"\n",
        "!ls /content/gdrive/My\\ Drive/Datasets/O2TRealData"
      ],
      "execution_count": 3,
      "outputs": [
        {
          "output_type": "stream",
          "text": [
            "train_data1.csv  train_targets1.csv\n"
          ],
          "name": "stdout"
        }
      ]
    },
    {
      "cell_type": "markdown",
      "metadata": {
        "id": "_jU_1csB2Trn",
        "colab_type": "text"
      },
      "source": [
        "## Read the files (Google Drive)\n",
        "\n",
        "Note that this line, **at the moment**, is exactly the same as the local one, since the location of the files is the same. This may change depending on where the files are saved in google drive. "
      ]
    },
    {
      "cell_type": "code",
      "metadata": {
        "colab_type": "code",
        "id": "585dLmzDZvEw",
        "colab": {}
      },
      "source": [
        "train_data_df = pd.read_csv(root_dir + '/train_data1.csv', header = None)\n",
        "train_target_df = pd.read_csv(root_dir + '/train_targets1.csv', names=['T', 'O2'], header = None)"
      ],
      "execution_count": 0,
      "outputs": []
    },
    {
      "cell_type": "markdown",
      "metadata": {
        "id": "9goVSn3u2Trr",
        "colab_type": "text"
      },
      "source": [
        "## Read the files (Local files)"
      ]
    },
    {
      "cell_type": "code",
      "metadata": {
        "id": "vfNicw2l2Trt",
        "colab_type": "code",
        "colab": {
          "base_uri": "https://localhost:8080/",
          "height": 411
        },
        "outputId": "8bcda8d2-4374-4651-a813-1e6d41967021"
      },
      "source": [
        "train_data_df = pd.read_csv('../data/train_data1.csv', header = None)\n",
        "train_target_df = pd.read_csv('../data/train_targets1.csv', names=['T', 'O2'], header = None)"
      ],
      "execution_count": 5,
      "outputs": [
        {
          "output_type": "error",
          "ename": "FileNotFoundError",
          "evalue": "ignored",
          "traceback": [
            "\u001b[0;31m---------------------------------------------------------------------------\u001b[0m",
            "\u001b[0;31mFileNotFoundError\u001b[0m                         Traceback (most recent call last)",
            "\u001b[0;32m<ipython-input-5-c95695ac9a1d>\u001b[0m in \u001b[0;36m<module>\u001b[0;34m()\u001b[0m\n\u001b[0;32m----> 1\u001b[0;31m \u001b[0mtrain_data_df\u001b[0m \u001b[0;34m=\u001b[0m \u001b[0mpd\u001b[0m\u001b[0;34m.\u001b[0m\u001b[0mread_csv\u001b[0m\u001b[0;34m(\u001b[0m\u001b[0;34m'../data/train_data1.csv'\u001b[0m\u001b[0;34m,\u001b[0m \u001b[0mheader\u001b[0m \u001b[0;34m=\u001b[0m \u001b[0;32mNone\u001b[0m\u001b[0;34m)\u001b[0m\u001b[0;34m\u001b[0m\u001b[0;34m\u001b[0m\u001b[0m\n\u001b[0m\u001b[1;32m      2\u001b[0m \u001b[0mtrain_target_df\u001b[0m \u001b[0;34m=\u001b[0m \u001b[0mpd\u001b[0m\u001b[0;34m.\u001b[0m\u001b[0mread_csv\u001b[0m\u001b[0;34m(\u001b[0m\u001b[0;34m'../data/train_targets1.csv'\u001b[0m\u001b[0;34m,\u001b[0m \u001b[0mnames\u001b[0m\u001b[0;34m=\u001b[0m\u001b[0;34m[\u001b[0m\u001b[0;34m'T'\u001b[0m\u001b[0;34m,\u001b[0m \u001b[0;34m'O2'\u001b[0m\u001b[0;34m]\u001b[0m\u001b[0;34m,\u001b[0m \u001b[0mheader\u001b[0m \u001b[0;34m=\u001b[0m \u001b[0;32mNone\u001b[0m\u001b[0;34m)\u001b[0m\u001b[0;34m\u001b[0m\u001b[0;34m\u001b[0m\u001b[0m\n",
            "\u001b[0;32m/usr/local/lib/python3.6/dist-packages/pandas/io/parsers.py\u001b[0m in \u001b[0;36mparser_f\u001b[0;34m(filepath_or_buffer, sep, delimiter, header, names, index_col, usecols, squeeze, prefix, mangle_dupe_cols, dtype, engine, converters, true_values, false_values, skipinitialspace, skiprows, skipfooter, nrows, na_values, keep_default_na, na_filter, verbose, skip_blank_lines, parse_dates, infer_datetime_format, keep_date_col, date_parser, dayfirst, cache_dates, iterator, chunksize, compression, thousands, decimal, lineterminator, quotechar, quoting, doublequote, escapechar, comment, encoding, dialect, error_bad_lines, warn_bad_lines, delim_whitespace, low_memory, memory_map, float_precision)\u001b[0m\n\u001b[1;32m    683\u001b[0m         )\n\u001b[1;32m    684\u001b[0m \u001b[0;34m\u001b[0m\u001b[0m\n\u001b[0;32m--> 685\u001b[0;31m         \u001b[0;32mreturn\u001b[0m \u001b[0m_read\u001b[0m\u001b[0;34m(\u001b[0m\u001b[0mfilepath_or_buffer\u001b[0m\u001b[0;34m,\u001b[0m \u001b[0mkwds\u001b[0m\u001b[0;34m)\u001b[0m\u001b[0;34m\u001b[0m\u001b[0;34m\u001b[0m\u001b[0m\n\u001b[0m\u001b[1;32m    686\u001b[0m \u001b[0;34m\u001b[0m\u001b[0m\n\u001b[1;32m    687\u001b[0m     \u001b[0mparser_f\u001b[0m\u001b[0;34m.\u001b[0m\u001b[0m__name__\u001b[0m \u001b[0;34m=\u001b[0m \u001b[0mname\u001b[0m\u001b[0;34m\u001b[0m\u001b[0;34m\u001b[0m\u001b[0m\n",
            "\u001b[0;32m/usr/local/lib/python3.6/dist-packages/pandas/io/parsers.py\u001b[0m in \u001b[0;36m_read\u001b[0;34m(filepath_or_buffer, kwds)\u001b[0m\n\u001b[1;32m    455\u001b[0m \u001b[0;34m\u001b[0m\u001b[0m\n\u001b[1;32m    456\u001b[0m     \u001b[0;31m# Create the parser.\u001b[0m\u001b[0;34m\u001b[0m\u001b[0;34m\u001b[0m\u001b[0;34m\u001b[0m\u001b[0m\n\u001b[0;32m--> 457\u001b[0;31m     \u001b[0mparser\u001b[0m \u001b[0;34m=\u001b[0m \u001b[0mTextFileReader\u001b[0m\u001b[0;34m(\u001b[0m\u001b[0mfp_or_buf\u001b[0m\u001b[0;34m,\u001b[0m \u001b[0;34m**\u001b[0m\u001b[0mkwds\u001b[0m\u001b[0;34m)\u001b[0m\u001b[0;34m\u001b[0m\u001b[0;34m\u001b[0m\u001b[0m\n\u001b[0m\u001b[1;32m    458\u001b[0m \u001b[0;34m\u001b[0m\u001b[0m\n\u001b[1;32m    459\u001b[0m     \u001b[0;32mif\u001b[0m \u001b[0mchunksize\u001b[0m \u001b[0;32mor\u001b[0m \u001b[0miterator\u001b[0m\u001b[0;34m:\u001b[0m\u001b[0;34m\u001b[0m\u001b[0;34m\u001b[0m\u001b[0m\n",
            "\u001b[0;32m/usr/local/lib/python3.6/dist-packages/pandas/io/parsers.py\u001b[0m in \u001b[0;36m__init__\u001b[0;34m(self, f, engine, **kwds)\u001b[0m\n\u001b[1;32m    893\u001b[0m             \u001b[0mself\u001b[0m\u001b[0;34m.\u001b[0m\u001b[0moptions\u001b[0m\u001b[0;34m[\u001b[0m\u001b[0;34m\"has_index_names\"\u001b[0m\u001b[0;34m]\u001b[0m \u001b[0;34m=\u001b[0m \u001b[0mkwds\u001b[0m\u001b[0;34m[\u001b[0m\u001b[0;34m\"has_index_names\"\u001b[0m\u001b[0;34m]\u001b[0m\u001b[0;34m\u001b[0m\u001b[0;34m\u001b[0m\u001b[0m\n\u001b[1;32m    894\u001b[0m \u001b[0;34m\u001b[0m\u001b[0m\n\u001b[0;32m--> 895\u001b[0;31m         \u001b[0mself\u001b[0m\u001b[0;34m.\u001b[0m\u001b[0m_make_engine\u001b[0m\u001b[0;34m(\u001b[0m\u001b[0mself\u001b[0m\u001b[0;34m.\u001b[0m\u001b[0mengine\u001b[0m\u001b[0;34m)\u001b[0m\u001b[0;34m\u001b[0m\u001b[0;34m\u001b[0m\u001b[0m\n\u001b[0m\u001b[1;32m    896\u001b[0m \u001b[0;34m\u001b[0m\u001b[0m\n\u001b[1;32m    897\u001b[0m     \u001b[0;32mdef\u001b[0m \u001b[0mclose\u001b[0m\u001b[0;34m(\u001b[0m\u001b[0mself\u001b[0m\u001b[0;34m)\u001b[0m\u001b[0;34m:\u001b[0m\u001b[0;34m\u001b[0m\u001b[0;34m\u001b[0m\u001b[0m\n",
            "\u001b[0;32m/usr/local/lib/python3.6/dist-packages/pandas/io/parsers.py\u001b[0m in \u001b[0;36m_make_engine\u001b[0;34m(self, engine)\u001b[0m\n\u001b[1;32m   1133\u001b[0m     \u001b[0;32mdef\u001b[0m \u001b[0m_make_engine\u001b[0m\u001b[0;34m(\u001b[0m\u001b[0mself\u001b[0m\u001b[0;34m,\u001b[0m \u001b[0mengine\u001b[0m\u001b[0;34m=\u001b[0m\u001b[0;34m\"c\"\u001b[0m\u001b[0;34m)\u001b[0m\u001b[0;34m:\u001b[0m\u001b[0;34m\u001b[0m\u001b[0;34m\u001b[0m\u001b[0m\n\u001b[1;32m   1134\u001b[0m         \u001b[0;32mif\u001b[0m \u001b[0mengine\u001b[0m \u001b[0;34m==\u001b[0m \u001b[0;34m\"c\"\u001b[0m\u001b[0;34m:\u001b[0m\u001b[0;34m\u001b[0m\u001b[0;34m\u001b[0m\u001b[0m\n\u001b[0;32m-> 1135\u001b[0;31m             \u001b[0mself\u001b[0m\u001b[0;34m.\u001b[0m\u001b[0m_engine\u001b[0m \u001b[0;34m=\u001b[0m \u001b[0mCParserWrapper\u001b[0m\u001b[0;34m(\u001b[0m\u001b[0mself\u001b[0m\u001b[0;34m.\u001b[0m\u001b[0mf\u001b[0m\u001b[0;34m,\u001b[0m \u001b[0;34m**\u001b[0m\u001b[0mself\u001b[0m\u001b[0;34m.\u001b[0m\u001b[0moptions\u001b[0m\u001b[0;34m)\u001b[0m\u001b[0;34m\u001b[0m\u001b[0;34m\u001b[0m\u001b[0m\n\u001b[0m\u001b[1;32m   1136\u001b[0m         \u001b[0;32melse\u001b[0m\u001b[0;34m:\u001b[0m\u001b[0;34m\u001b[0m\u001b[0;34m\u001b[0m\u001b[0m\n\u001b[1;32m   1137\u001b[0m             \u001b[0;32mif\u001b[0m \u001b[0mengine\u001b[0m \u001b[0;34m==\u001b[0m \u001b[0;34m\"python\"\u001b[0m\u001b[0;34m:\u001b[0m\u001b[0;34m\u001b[0m\u001b[0;34m\u001b[0m\u001b[0m\n",
            "\u001b[0;32m/usr/local/lib/python3.6/dist-packages/pandas/io/parsers.py\u001b[0m in \u001b[0;36m__init__\u001b[0;34m(self, src, **kwds)\u001b[0m\n\u001b[1;32m   1915\u001b[0m         \u001b[0mkwds\u001b[0m\u001b[0;34m[\u001b[0m\u001b[0;34m\"usecols\"\u001b[0m\u001b[0;34m]\u001b[0m \u001b[0;34m=\u001b[0m \u001b[0mself\u001b[0m\u001b[0;34m.\u001b[0m\u001b[0musecols\u001b[0m\u001b[0;34m\u001b[0m\u001b[0;34m\u001b[0m\u001b[0m\n\u001b[1;32m   1916\u001b[0m \u001b[0;34m\u001b[0m\u001b[0m\n\u001b[0;32m-> 1917\u001b[0;31m         \u001b[0mself\u001b[0m\u001b[0;34m.\u001b[0m\u001b[0m_reader\u001b[0m \u001b[0;34m=\u001b[0m \u001b[0mparsers\u001b[0m\u001b[0;34m.\u001b[0m\u001b[0mTextReader\u001b[0m\u001b[0;34m(\u001b[0m\u001b[0msrc\u001b[0m\u001b[0;34m,\u001b[0m \u001b[0;34m**\u001b[0m\u001b[0mkwds\u001b[0m\u001b[0;34m)\u001b[0m\u001b[0;34m\u001b[0m\u001b[0;34m\u001b[0m\u001b[0m\n\u001b[0m\u001b[1;32m   1918\u001b[0m         \u001b[0mself\u001b[0m\u001b[0;34m.\u001b[0m\u001b[0munnamed_cols\u001b[0m \u001b[0;34m=\u001b[0m \u001b[0mself\u001b[0m\u001b[0;34m.\u001b[0m\u001b[0m_reader\u001b[0m\u001b[0;34m.\u001b[0m\u001b[0munnamed_cols\u001b[0m\u001b[0;34m\u001b[0m\u001b[0;34m\u001b[0m\u001b[0m\n\u001b[1;32m   1919\u001b[0m \u001b[0;34m\u001b[0m\u001b[0m\n",
            "\u001b[0;32mpandas/_libs/parsers.pyx\u001b[0m in \u001b[0;36mpandas._libs.parsers.TextReader.__cinit__\u001b[0;34m()\u001b[0m\n",
            "\u001b[0;32mpandas/_libs/parsers.pyx\u001b[0m in \u001b[0;36mpandas._libs.parsers.TextReader._setup_parser_source\u001b[0;34m()\u001b[0m\n",
            "\u001b[0;31mFileNotFoundError\u001b[0m: [Errno 2] File b'../data/train_data1.csv' does not exist: b'../data/train_data1.csv'"
          ]
        }
      ]
    },
    {
      "cell_type": "code",
      "metadata": {
        "id": "res0tl3S2Trw",
        "colab_type": "code",
        "outputId": "27652957-a4c9-488e-b4c1-13d5f602d66e",
        "colab": {
          "base_uri": "https://localhost:8080/",
          "height": 35
        }
      },
      "source": [
        "train_data_df.shape"
      ],
      "execution_count": 6,
      "outputs": [
        {
          "output_type": "execute_result",
          "data": {
            "text/plain": [
              "(3780, 50)"
            ]
          },
          "metadata": {
            "tags": []
          },
          "execution_count": 6
        }
      ]
    },
    {
      "cell_type": "code",
      "metadata": {
        "colab_type": "code",
        "id": "nQhfDxlDZvE0",
        "outputId": "45cab1d7-19ae-46c6-e86a-b8600560a3a3",
        "colab": {
          "base_uri": "https://localhost:8080/",
          "height": 224
        }
      },
      "source": [
        "train_data_df.head()"
      ],
      "execution_count": 7,
      "outputs": [
        {
          "output_type": "execute_result",
          "data": {
            "text/html": [
              "<div>\n",
              "<style scoped>\n",
              "    .dataframe tbody tr th:only-of-type {\n",
              "        vertical-align: middle;\n",
              "    }\n",
              "\n",
              "    .dataframe tbody tr th {\n",
              "        vertical-align: top;\n",
              "    }\n",
              "\n",
              "    .dataframe thead th {\n",
              "        text-align: right;\n",
              "    }\n",
              "</style>\n",
              "<table border=\"1\" class=\"dataframe\">\n",
              "  <thead>\n",
              "    <tr style=\"text-align: right;\">\n",
              "      <th></th>\n",
              "      <th>0</th>\n",
              "      <th>1</th>\n",
              "      <th>2</th>\n",
              "      <th>3</th>\n",
              "      <th>4</th>\n",
              "      <th>5</th>\n",
              "      <th>6</th>\n",
              "      <th>7</th>\n",
              "      <th>8</th>\n",
              "      <th>9</th>\n",
              "      <th>10</th>\n",
              "      <th>11</th>\n",
              "      <th>12</th>\n",
              "      <th>13</th>\n",
              "      <th>14</th>\n",
              "      <th>15</th>\n",
              "      <th>16</th>\n",
              "      <th>17</th>\n",
              "      <th>18</th>\n",
              "      <th>19</th>\n",
              "      <th>20</th>\n",
              "      <th>21</th>\n",
              "      <th>22</th>\n",
              "      <th>23</th>\n",
              "      <th>24</th>\n",
              "      <th>25</th>\n",
              "      <th>26</th>\n",
              "      <th>27</th>\n",
              "      <th>28</th>\n",
              "      <th>29</th>\n",
              "      <th>30</th>\n",
              "      <th>31</th>\n",
              "      <th>32</th>\n",
              "      <th>33</th>\n",
              "      <th>34</th>\n",
              "      <th>35</th>\n",
              "      <th>36</th>\n",
              "      <th>37</th>\n",
              "      <th>38</th>\n",
              "      <th>39</th>\n",
              "      <th>40</th>\n",
              "      <th>41</th>\n",
              "      <th>42</th>\n",
              "      <th>43</th>\n",
              "      <th>44</th>\n",
              "      <th>45</th>\n",
              "      <th>46</th>\n",
              "      <th>47</th>\n",
              "      <th>48</th>\n",
              "      <th>49</th>\n",
              "    </tr>\n",
              "  </thead>\n",
              "  <tbody>\n",
              "    <tr>\n",
              "      <th>0</th>\n",
              "      <td>-0.026933</td>\n",
              "      <td>-0.040467</td>\n",
              "      <td>-0.053667</td>\n",
              "      <td>-0.067067</td>\n",
              "      <td>-0.080400</td>\n",
              "      <td>-0.093333</td>\n",
              "      <td>-0.106267</td>\n",
              "      <td>-0.119067</td>\n",
              "      <td>-0.131733</td>\n",
              "      <td>-0.162200</td>\n",
              "      <td>-0.191667</td>\n",
              "      <td>-0.219667</td>\n",
              "      <td>-0.2464</td>\n",
              "      <td>-0.271667</td>\n",
              "      <td>-0.295600</td>\n",
              "      <td>-0.318467</td>\n",
              "      <td>-0.339933</td>\n",
              "      <td>-0.360400</td>\n",
              "      <td>-0.379733</td>\n",
              "      <td>-0.398067</td>\n",
              "      <td>-0.4156</td>\n",
              "      <td>-0.432133</td>\n",
              "      <td>-0.447867</td>\n",
              "      <td>-0.462933</td>\n",
              "      <td>-0.477133</td>\n",
              "      <td>-0.490667</td>\n",
              "      <td>-0.503667</td>\n",
              "      <td>-0.516067</td>\n",
              "      <td>-0.527800</td>\n",
              "      <td>-0.539133</td>\n",
              "      <td>-0.549933</td>\n",
              "      <td>-0.560267</td>\n",
              "      <td>-0.570200</td>\n",
              "      <td>-0.579600</td>\n",
              "      <td>-0.588867</td>\n",
              "      <td>-0.597533</td>\n",
              "      <td>-0.605867</td>\n",
              "      <td>-0.614067</td>\n",
              "      <td>-0.621733</td>\n",
              "      <td>-0.629267</td>\n",
              "      <td>-0.636400</td>\n",
              "      <td>-0.643267</td>\n",
              "      <td>-0.650067</td>\n",
              "      <td>-0.656533</td>\n",
              "      <td>-0.6628</td>\n",
              "      <td>-0.685600</td>\n",
              "      <td>-0.705667</td>\n",
              "      <td>-0.723333</td>\n",
              "      <td>-0.739133</td>\n",
              "      <td>-0.753067</td>\n",
              "    </tr>\n",
              "    <tr>\n",
              "      <th>1</th>\n",
              "      <td>-0.027000</td>\n",
              "      <td>-0.040400</td>\n",
              "      <td>-0.053800</td>\n",
              "      <td>-0.067133</td>\n",
              "      <td>-0.080333</td>\n",
              "      <td>-0.093333</td>\n",
              "      <td>-0.106267</td>\n",
              "      <td>-0.119000</td>\n",
              "      <td>-0.131600</td>\n",
              "      <td>-0.162133</td>\n",
              "      <td>-0.191667</td>\n",
              "      <td>-0.219600</td>\n",
              "      <td>-0.2464</td>\n",
              "      <td>-0.271667</td>\n",
              "      <td>-0.295600</td>\n",
              "      <td>-0.318467</td>\n",
              "      <td>-0.339933</td>\n",
              "      <td>-0.360400</td>\n",
              "      <td>-0.379667</td>\n",
              "      <td>-0.398067</td>\n",
              "      <td>-0.4156</td>\n",
              "      <td>-0.432200</td>\n",
              "      <td>-0.447800</td>\n",
              "      <td>-0.462867</td>\n",
              "      <td>-0.477133</td>\n",
              "      <td>-0.490667</td>\n",
              "      <td>-0.503733</td>\n",
              "      <td>-0.516000</td>\n",
              "      <td>-0.527867</td>\n",
              "      <td>-0.539133</td>\n",
              "      <td>-0.549933</td>\n",
              "      <td>-0.560267</td>\n",
              "      <td>-0.570200</td>\n",
              "      <td>-0.579667</td>\n",
              "      <td>-0.588867</td>\n",
              "      <td>-0.597533</td>\n",
              "      <td>-0.605867</td>\n",
              "      <td>-0.613933</td>\n",
              "      <td>-0.621733</td>\n",
              "      <td>-0.629200</td>\n",
              "      <td>-0.636333</td>\n",
              "      <td>-0.643267</td>\n",
              "      <td>-0.650067</td>\n",
              "      <td>-0.656533</td>\n",
              "      <td>-0.6628</td>\n",
              "      <td>-0.685600</td>\n",
              "      <td>-0.705667</td>\n",
              "      <td>-0.723333</td>\n",
              "      <td>-0.739133</td>\n",
              "      <td>-0.753067</td>\n",
              "    </tr>\n",
              "    <tr>\n",
              "      <th>2</th>\n",
              "      <td>-0.027000</td>\n",
              "      <td>-0.040467</td>\n",
              "      <td>-0.053667</td>\n",
              "      <td>-0.067133</td>\n",
              "      <td>-0.080333</td>\n",
              "      <td>-0.093333</td>\n",
              "      <td>-0.106200</td>\n",
              "      <td>-0.119000</td>\n",
              "      <td>-0.131667</td>\n",
              "      <td>-0.162200</td>\n",
              "      <td>-0.191733</td>\n",
              "      <td>-0.219733</td>\n",
              "      <td>-0.2464</td>\n",
              "      <td>-0.271667</td>\n",
              "      <td>-0.295600</td>\n",
              "      <td>-0.318467</td>\n",
              "      <td>-0.340000</td>\n",
              "      <td>-0.360400</td>\n",
              "      <td>-0.379733</td>\n",
              "      <td>-0.398067</td>\n",
              "      <td>-0.4156</td>\n",
              "      <td>-0.432200</td>\n",
              "      <td>-0.447867</td>\n",
              "      <td>-0.462933</td>\n",
              "      <td>-0.477200</td>\n",
              "      <td>-0.490667</td>\n",
              "      <td>-0.503733</td>\n",
              "      <td>-0.516000</td>\n",
              "      <td>-0.527867</td>\n",
              "      <td>-0.539133</td>\n",
              "      <td>-0.550000</td>\n",
              "      <td>-0.560267</td>\n",
              "      <td>-0.570200</td>\n",
              "      <td>-0.579667</td>\n",
              "      <td>-0.588867</td>\n",
              "      <td>-0.597533</td>\n",
              "      <td>-0.606000</td>\n",
              "      <td>-0.614067</td>\n",
              "      <td>-0.621800</td>\n",
              "      <td>-0.629333</td>\n",
              "      <td>-0.636467</td>\n",
              "      <td>-0.643400</td>\n",
              "      <td>-0.650200</td>\n",
              "      <td>-0.656533</td>\n",
              "      <td>-0.6628</td>\n",
              "      <td>-0.685600</td>\n",
              "      <td>-0.705667</td>\n",
              "      <td>-0.723467</td>\n",
              "      <td>-0.739133</td>\n",
              "      <td>-0.753067</td>\n",
              "    </tr>\n",
              "    <tr>\n",
              "      <th>3</th>\n",
              "      <td>-0.027000</td>\n",
              "      <td>-0.040400</td>\n",
              "      <td>-0.053867</td>\n",
              "      <td>-0.067267</td>\n",
              "      <td>-0.080267</td>\n",
              "      <td>-0.093400</td>\n",
              "      <td>-0.106267</td>\n",
              "      <td>-0.119000</td>\n",
              "      <td>-0.131733</td>\n",
              "      <td>-0.162200</td>\n",
              "      <td>-0.191667</td>\n",
              "      <td>-0.219667</td>\n",
              "      <td>-0.2464</td>\n",
              "      <td>-0.271667</td>\n",
              "      <td>-0.295600</td>\n",
              "      <td>-0.318467</td>\n",
              "      <td>-0.340000</td>\n",
              "      <td>-0.360400</td>\n",
              "      <td>-0.379800</td>\n",
              "      <td>-0.398133</td>\n",
              "      <td>-0.4156</td>\n",
              "      <td>-0.432200</td>\n",
              "      <td>-0.447867</td>\n",
              "      <td>-0.462933</td>\n",
              "      <td>-0.477200</td>\n",
              "      <td>-0.490733</td>\n",
              "      <td>-0.503733</td>\n",
              "      <td>-0.516067</td>\n",
              "      <td>-0.527867</td>\n",
              "      <td>-0.539200</td>\n",
              "      <td>-0.550000</td>\n",
              "      <td>-0.560267</td>\n",
              "      <td>-0.570267</td>\n",
              "      <td>-0.579667</td>\n",
              "      <td>-0.588800</td>\n",
              "      <td>-0.597533</td>\n",
              "      <td>-0.606000</td>\n",
              "      <td>-0.614067</td>\n",
              "      <td>-0.621800</td>\n",
              "      <td>-0.629333</td>\n",
              "      <td>-0.636467</td>\n",
              "      <td>-0.643400</td>\n",
              "      <td>-0.650200</td>\n",
              "      <td>-0.656667</td>\n",
              "      <td>-0.6628</td>\n",
              "      <td>-0.685600</td>\n",
              "      <td>-0.705667</td>\n",
              "      <td>-0.723333</td>\n",
              "      <td>-0.739133</td>\n",
              "      <td>-0.753067</td>\n",
              "    </tr>\n",
              "    <tr>\n",
              "      <th>4</th>\n",
              "      <td>-0.027067</td>\n",
              "      <td>-0.040467</td>\n",
              "      <td>-0.053733</td>\n",
              "      <td>-0.067133</td>\n",
              "      <td>-0.080400</td>\n",
              "      <td>-0.093333</td>\n",
              "      <td>-0.106333</td>\n",
              "      <td>-0.119067</td>\n",
              "      <td>-0.131667</td>\n",
              "      <td>-0.162333</td>\n",
              "      <td>-0.191667</td>\n",
              "      <td>-0.219600</td>\n",
              "      <td>-0.2464</td>\n",
              "      <td>-0.271667</td>\n",
              "      <td>-0.295667</td>\n",
              "      <td>-0.318533</td>\n",
              "      <td>-0.340067</td>\n",
              "      <td>-0.360467</td>\n",
              "      <td>-0.379867</td>\n",
              "      <td>-0.398133</td>\n",
              "      <td>-0.4156</td>\n",
              "      <td>-0.432200</td>\n",
              "      <td>-0.447867</td>\n",
              "      <td>-0.462933</td>\n",
              "      <td>-0.477200</td>\n",
              "      <td>-0.490733</td>\n",
              "      <td>-0.503733</td>\n",
              "      <td>-0.516067</td>\n",
              "      <td>-0.527867</td>\n",
              "      <td>-0.539200</td>\n",
              "      <td>-0.550000</td>\n",
              "      <td>-0.560267</td>\n",
              "      <td>-0.570200</td>\n",
              "      <td>-0.579733</td>\n",
              "      <td>-0.588867</td>\n",
              "      <td>-0.597600</td>\n",
              "      <td>-0.605933</td>\n",
              "      <td>-0.614067</td>\n",
              "      <td>-0.621800</td>\n",
              "      <td>-0.629333</td>\n",
              "      <td>-0.636467</td>\n",
              "      <td>-0.643400</td>\n",
              "      <td>-0.650133</td>\n",
              "      <td>-0.656600</td>\n",
              "      <td>-0.6628</td>\n",
              "      <td>-0.685733</td>\n",
              "      <td>-0.705667</td>\n",
              "      <td>-0.723467</td>\n",
              "      <td>-0.739133</td>\n",
              "      <td>-0.753267</td>\n",
              "    </tr>\n",
              "  </tbody>\n",
              "</table>\n",
              "</div>"
            ],
            "text/plain": [
              "         0         1         2   ...        47        48        49\n",
              "0 -0.026933 -0.040467 -0.053667  ... -0.723333 -0.739133 -0.753067\n",
              "1 -0.027000 -0.040400 -0.053800  ... -0.723333 -0.739133 -0.753067\n",
              "2 -0.027000 -0.040467 -0.053667  ... -0.723467 -0.739133 -0.753067\n",
              "3 -0.027000 -0.040400 -0.053867  ... -0.723333 -0.739133 -0.753067\n",
              "4 -0.027067 -0.040467 -0.053733  ... -0.723467 -0.739133 -0.753267\n",
              "\n",
              "[5 rows x 50 columns]"
            ]
          },
          "metadata": {
            "tags": []
          },
          "execution_count": 7
        }
      ]
    },
    {
      "cell_type": "code",
      "metadata": {
        "colab_type": "code",
        "id": "pxznLqEdaYGd",
        "outputId": "2e36ce99-9ddb-4348-fc40-afa5a16fa3ee",
        "colab": {
          "base_uri": "https://localhost:8080/",
          "height": 204
        }
      },
      "source": [
        "train_target_df.head()"
      ],
      "execution_count": 8,
      "outputs": [
        {
          "output_type": "execute_result",
          "data": {
            "text/html": [
              "<div>\n",
              "<style scoped>\n",
              "    .dataframe tbody tr th:only-of-type {\n",
              "        vertical-align: middle;\n",
              "    }\n",
              "\n",
              "    .dataframe tbody tr th {\n",
              "        vertical-align: top;\n",
              "    }\n",
              "\n",
              "    .dataframe thead th {\n",
              "        text-align: right;\n",
              "    }\n",
              "</style>\n",
              "<table border=\"1\" class=\"dataframe\">\n",
              "  <thead>\n",
              "    <tr style=\"text-align: right;\">\n",
              "      <th></th>\n",
              "      <th>T</th>\n",
              "      <th>O2</th>\n",
              "    </tr>\n",
              "  </thead>\n",
              "  <tbody>\n",
              "    <tr>\n",
              "      <th>0</th>\n",
              "      <td>20.0</td>\n",
              "      <td>35.0</td>\n",
              "    </tr>\n",
              "    <tr>\n",
              "      <th>1</th>\n",
              "      <td>20.0</td>\n",
              "      <td>35.0</td>\n",
              "    </tr>\n",
              "    <tr>\n",
              "      <th>2</th>\n",
              "      <td>20.0</td>\n",
              "      <td>35.0</td>\n",
              "    </tr>\n",
              "    <tr>\n",
              "      <th>3</th>\n",
              "      <td>20.0</td>\n",
              "      <td>35.0</td>\n",
              "    </tr>\n",
              "    <tr>\n",
              "      <th>4</th>\n",
              "      <td>20.0</td>\n",
              "      <td>35.0</td>\n",
              "    </tr>\n",
              "  </tbody>\n",
              "</table>\n",
              "</div>"
            ],
            "text/plain": [
              "      T    O2\n",
              "0  20.0  35.0\n",
              "1  20.0  35.0\n",
              "2  20.0  35.0\n",
              "3  20.0  35.0\n",
              "4  20.0  35.0"
            ]
          },
          "metadata": {
            "tags": []
          },
          "execution_count": 8
        }
      ]
    },
    {
      "cell_type": "markdown",
      "metadata": {
        "id": "kgXPSibJ2Tr4",
        "colab_type": "text"
      },
      "source": [
        "Note that `T` is measured in degree centigrade ($^\\circ \\ C$), and the oxygen concentration $[O_2]$ in % Air. We normlize to have a maximum of one. This would not be strictly necessary."
      ]
    },
    {
      "cell_type": "code",
      "metadata": {
        "colab_type": "code",
        "id": "5_8nAYJFZvE2",
        "colab": {}
      },
      "source": [
        "train_target_df[['O2']] = train_target_df[['O2']]/100.0\n",
        "train_target_df[['T']] = train_target_df[['T']]/45.0"
      ],
      "execution_count": 0,
      "outputs": []
    },
    {
      "cell_type": "markdown",
      "metadata": {
        "colab_type": "text",
        "id": "dHMEf3fIZvE7"
      },
      "source": [
        "Note that the values for $T$ are going from 0 to 1. To obtin the actual temperature in Celsius degrees, you need to multiply by $45$."
      ]
    },
    {
      "cell_type": "code",
      "metadata": {
        "colab_type": "code",
        "id": "6lGCP7m5ZvE7",
        "outputId": "832df463-b150-4244-ca54-f52ff6704ee9",
        "colab": {
          "base_uri": "https://localhost:8080/",
          "height": 71
        }
      },
      "source": [
        "print(train_target_df['T'].unique())\n",
        "print(train_target_df['T'].unique()*45)"
      ],
      "execution_count": 10,
      "outputs": [
        {
          "output_type": "stream",
          "text": [
            "[0.44444444 0.55555556 0.22222222 0.66666667 0.77777778 0.33333333\n",
            " 0.88888889 1.         0.11111111]\n",
            "[20. 25. 10. 30. 35. 15. 40. 45.  5.]\n"
          ],
          "name": "stdout"
        }
      ]
    },
    {
      "cell_type": "markdown",
      "metadata": {
        "colab_type": "text",
        "id": "ZcPxObX6ZvE9"
      },
      "source": [
        "## Dataset Dimensions Checks"
      ]
    },
    {
      "cell_type": "code",
      "metadata": {
        "colab_type": "code",
        "id": "iq3EzwubZvE-",
        "outputId": "e5623559-bca0-4d3f-8771-21071b9b4786",
        "colab": {
          "base_uri": "https://localhost:8080/",
          "height": 35
        }
      },
      "source": [
        "train_data_df.shape"
      ],
      "execution_count": 11,
      "outputs": [
        {
          "output_type": "execute_result",
          "data": {
            "text/plain": [
              "(3780, 50)"
            ]
          },
          "metadata": {
            "tags": []
          },
          "execution_count": 11
        }
      ]
    },
    {
      "cell_type": "code",
      "metadata": {
        "colab_type": "code",
        "id": "DrV36zyBZvFB",
        "outputId": "13453c92-55e5-4355-c4ce-9a45b35560ff",
        "colab": {
          "base_uri": "https://localhost:8080/",
          "height": 35
        }
      },
      "source": [
        "train_target_df[train_target_df['T'] == 5./45.].shape"
      ],
      "execution_count": 12,
      "outputs": [
        {
          "output_type": "execute_result",
          "data": {
            "text/plain": [
              "(420, 2)"
            ]
          },
          "metadata": {
            "tags": []
          },
          "execution_count": 12
        }
      ]
    },
    {
      "cell_type": "markdown",
      "metadata": {
        "colab_type": "text",
        "id": "MBa0TH6rZvFD"
      },
      "source": [
        "To check how many values we have for each temperature we can do easily with ```groupby()```."
      ]
    },
    {
      "cell_type": "code",
      "metadata": {
        "colab_type": "code",
        "id": "kkXJq1UDZvFD",
        "outputId": "c9060ef6-fe19-41ad-c1d5-d88526120035",
        "colab": {
          "base_uri": "https://localhost:8080/",
          "height": 359
        }
      },
      "source": [
        "train_target_df.groupby('T').count()"
      ],
      "execution_count": 13,
      "outputs": [
        {
          "output_type": "execute_result",
          "data": {
            "text/html": [
              "<div>\n",
              "<style scoped>\n",
              "    .dataframe tbody tr th:only-of-type {\n",
              "        vertical-align: middle;\n",
              "    }\n",
              "\n",
              "    .dataframe tbody tr th {\n",
              "        vertical-align: top;\n",
              "    }\n",
              "\n",
              "    .dataframe thead th {\n",
              "        text-align: right;\n",
              "    }\n",
              "</style>\n",
              "<table border=\"1\" class=\"dataframe\">\n",
              "  <thead>\n",
              "    <tr style=\"text-align: right;\">\n",
              "      <th></th>\n",
              "      <th>O2</th>\n",
              "    </tr>\n",
              "    <tr>\n",
              "      <th>T</th>\n",
              "      <th></th>\n",
              "    </tr>\n",
              "  </thead>\n",
              "  <tbody>\n",
              "    <tr>\n",
              "      <th>0.111111</th>\n",
              "      <td>420</td>\n",
              "    </tr>\n",
              "    <tr>\n",
              "      <th>0.222222</th>\n",
              "      <td>420</td>\n",
              "    </tr>\n",
              "    <tr>\n",
              "      <th>0.333333</th>\n",
              "      <td>420</td>\n",
              "    </tr>\n",
              "    <tr>\n",
              "      <th>0.444444</th>\n",
              "      <td>420</td>\n",
              "    </tr>\n",
              "    <tr>\n",
              "      <th>0.555556</th>\n",
              "      <td>420</td>\n",
              "    </tr>\n",
              "    <tr>\n",
              "      <th>0.666667</th>\n",
              "      <td>420</td>\n",
              "    </tr>\n",
              "    <tr>\n",
              "      <th>0.777778</th>\n",
              "      <td>420</td>\n",
              "    </tr>\n",
              "    <tr>\n",
              "      <th>0.888889</th>\n",
              "      <td>420</td>\n",
              "    </tr>\n",
              "    <tr>\n",
              "      <th>1.000000</th>\n",
              "      <td>420</td>\n",
              "    </tr>\n",
              "  </tbody>\n",
              "</table>\n",
              "</div>"
            ],
            "text/plain": [
              "           O2\n",
              "T            \n",
              "0.111111  420\n",
              "0.222222  420\n",
              "0.333333  420\n",
              "0.444444  420\n",
              "0.555556  420\n",
              "0.666667  420\n",
              "0.777778  420\n",
              "0.888889  420\n",
              "1.000000  420"
            ]
          },
          "metadata": {
            "tags": []
          },
          "execution_count": 13
        }
      ]
    },
    {
      "cell_type": "markdown",
      "metadata": {
        "colab_type": "text",
        "id": "6oK-zfT_ZvFF"
      },
      "source": [
        "Each of the temperature has 420 observations."
      ]
    },
    {
      "cell_type": "code",
      "metadata": {
        "id": "-QEgl7jX2TsJ",
        "colab_type": "code",
        "outputId": "87137488-486b-4fa0-95ca-44049ced4105",
        "colab": {
          "base_uri": "https://localhost:8080/",
          "height": 359
        }
      },
      "source": [
        "train_target_df.groupby('T').nunique()"
      ],
      "execution_count": 14,
      "outputs": [
        {
          "output_type": "execute_result",
          "data": {
            "text/html": [
              "<div>\n",
              "<style scoped>\n",
              "    .dataframe tbody tr th:only-of-type {\n",
              "        vertical-align: middle;\n",
              "    }\n",
              "\n",
              "    .dataframe tbody tr th {\n",
              "        vertical-align: top;\n",
              "    }\n",
              "\n",
              "    .dataframe thead th {\n",
              "        text-align: right;\n",
              "    }\n",
              "</style>\n",
              "<table border=\"1\" class=\"dataframe\">\n",
              "  <thead>\n",
              "    <tr style=\"text-align: right;\">\n",
              "      <th></th>\n",
              "      <th>T</th>\n",
              "      <th>O2</th>\n",
              "    </tr>\n",
              "    <tr>\n",
              "      <th>T</th>\n",
              "      <th></th>\n",
              "      <th></th>\n",
              "    </tr>\n",
              "  </thead>\n",
              "  <tbody>\n",
              "    <tr>\n",
              "      <th>0.111111</th>\n",
              "      <td>1</td>\n",
              "      <td>21</td>\n",
              "    </tr>\n",
              "    <tr>\n",
              "      <th>0.222222</th>\n",
              "      <td>1</td>\n",
              "      <td>21</td>\n",
              "    </tr>\n",
              "    <tr>\n",
              "      <th>0.333333</th>\n",
              "      <td>1</td>\n",
              "      <td>21</td>\n",
              "    </tr>\n",
              "    <tr>\n",
              "      <th>0.444444</th>\n",
              "      <td>1</td>\n",
              "      <td>21</td>\n",
              "    </tr>\n",
              "    <tr>\n",
              "      <th>0.555556</th>\n",
              "      <td>1</td>\n",
              "      <td>21</td>\n",
              "    </tr>\n",
              "    <tr>\n",
              "      <th>0.666667</th>\n",
              "      <td>1</td>\n",
              "      <td>21</td>\n",
              "    </tr>\n",
              "    <tr>\n",
              "      <th>0.777778</th>\n",
              "      <td>1</td>\n",
              "      <td>21</td>\n",
              "    </tr>\n",
              "    <tr>\n",
              "      <th>0.888889</th>\n",
              "      <td>1</td>\n",
              "      <td>21</td>\n",
              "    </tr>\n",
              "    <tr>\n",
              "      <th>1.000000</th>\n",
              "      <td>1</td>\n",
              "      <td>21</td>\n",
              "    </tr>\n",
              "  </tbody>\n",
              "</table>\n",
              "</div>"
            ],
            "text/plain": [
              "          T  O2\n",
              "T              \n",
              "0.111111  1  21\n",
              "0.222222  1  21\n",
              "0.333333  1  21\n",
              "0.444444  1  21\n",
              "0.555556  1  21\n",
              "0.666667  1  21\n",
              "0.777778  1  21\n",
              "0.888889  1  21\n",
              "1.000000  1  21"
            ]
          },
          "metadata": {
            "tags": []
          },
          "execution_count": 14
        }
      ]
    },
    {
      "cell_type": "markdown",
      "metadata": {
        "id": "VTgsBFfm2TsL",
        "colab_type": "text"
      },
      "source": [
        "And each temperature has 21 unique values of oxygen concentration."
      ]
    },
    {
      "cell_type": "code",
      "metadata": {
        "id": "FJOpZ-nj2TsM",
        "colab_type": "code",
        "outputId": "4ccbc16f-4fb4-48e1-ea67-6bb776915f19",
        "colab": {
          "base_uri": "https://localhost:8080/",
          "height": 53
        }
      },
      "source": [
        "np.sort(train_target_df[train_target_df['T'] == 5./45.]['O2'].unique())*100"
      ],
      "execution_count": 15,
      "outputs": [
        {
          "output_type": "execute_result",
          "data": {
            "text/plain": [
              "array([  0.,   5.,  10.,  15.,  20.,  25.,  30.,  35.,  40.,  45.,  50.,\n",
              "        55.,  60.,  65.,  70.,  75.,  80.,  85.,  90.,  95., 100.])"
            ]
          },
          "metadata": {
            "tags": []
          },
          "execution_count": 15
        }
      ]
    },
    {
      "cell_type": "markdown",
      "metadata": {
        "colab_type": "text",
        "id": "fSqYdC5uZvFF"
      },
      "source": [
        "## Reset the index"
      ]
    },
    {
      "cell_type": "code",
      "metadata": {
        "colab_type": "code",
        "id": "30duZuryZvFF",
        "colab": {}
      },
      "source": [
        "train_data_df = train_data_df.reset_index(drop = True);\n",
        "train_target_df = train_target_df.reset_index(drop = True);"
      ],
      "execution_count": 0,
      "outputs": []
    },
    {
      "cell_type": "markdown",
      "metadata": {
        "colab_type": "text",
        "id": "w72f8KBRZvFG"
      },
      "source": [
        "The unique values of the temperature ($T$) are, as expected"
      ]
    },
    {
      "cell_type": "code",
      "metadata": {
        "colab_type": "code",
        "id": "YdlvVhd6ZvFH",
        "outputId": "221f63b2-5924-4c5d-c203-458ef2edcc21",
        "colab": {
          "base_uri": "https://localhost:8080/",
          "height": 35
        }
      },
      "source": [
        "np.unique(train_target_df['T'])*45"
      ],
      "execution_count": 17,
      "outputs": [
        {
          "output_type": "execute_result",
          "data": {
            "text/plain": [
              "array([ 5., 10., 15., 20., 25., 30., 35., 40., 45.])"
            ]
          },
          "metadata": {
            "tags": []
          },
          "execution_count": 17
        }
      ]
    },
    {
      "cell_type": "markdown",
      "metadata": {
        "colab_type": "text",
        "id": "_AGqcSlqZvFI"
      },
      "source": [
        "# Frequency values"
      ]
    },
    {
      "cell_type": "code",
      "metadata": {
        "colab_type": "code",
        "id": "j6DEKz4GZvFI",
        "colab": {}
      },
      "source": [
        "wred = [  200.,   300.,   400.,   500.,   600.,   700.,   800.,   900.,\n",
        "        1000.,  1250.,  1500.,  1750.,  2000.,  2250.,  2500.,  2750.,\n",
        "        3000.,  3250.,  3500.,  3750.,  4000.,  4250.,  4500.,  4750.,\n",
        "        5000.,  5250.,  5500.,  5750.,  6000.,  6250.,  6500.,  6750.,\n",
        "        7000.,  7250.,  7500.,  7750.,  8000.,  8250.,  8500.,  8750.,\n",
        "        9000.,  9250.,  9500.,  9750., 10000., 11000., 12000., 13000.,\n",
        "       14000., 15000.]"
      ],
      "execution_count": 0,
      "outputs": []
    },
    {
      "cell_type": "markdown",
      "metadata": {
        "colab_type": "text",
        "id": "H3moo3oEZvFJ"
      },
      "source": [
        "# Dataset split"
      ]
    },
    {
      "cell_type": "code",
      "metadata": {
        "colab_type": "code",
        "id": "syS1hclTZvFK",
        "colab": {}
      },
      "source": [
        "np.random.seed(42)\n",
        "rnd = np.random.rand(len(train_target_df)) < 0.8"
      ],
      "execution_count": 0,
      "outputs": []
    },
    {
      "cell_type": "markdown",
      "metadata": {
        "id": "Dw1JEWMH2Tsa",
        "colab_type": "text"
      },
      "source": [
        "Note that the values of $\\theta$ are negative in the original dataset, and therefore we convert it to positive. This was a test to see if learning was more efficient. A complete comparison has not have been done and is not clear if this really brings benefits. At the moment the working hypothesis is that positive values works better."
      ]
    },
    {
      "cell_type": "code",
      "metadata": {
        "colab_type": "code",
        "id": "7Kt_BJZFZvFL",
        "colab": {}
      },
      "source": [
        "data_train = -train_data_df[rnd]\n",
        "data_dev = -train_data_df[~rnd]\n",
        "targets_train = train_target_df[rnd]\n",
        "targets_dev = train_target_df[~rnd]"
      ],
      "execution_count": 0,
      "outputs": []
    },
    {
      "cell_type": "markdown",
      "metadata": {
        "id": "ZQo6dWSZ2Tsd",
        "colab_type": "text"
      },
      "source": [
        "Since the inputs are measurements of a phase divided by 90, the values will remain below 1."
      ]
    },
    {
      "cell_type": "code",
      "metadata": {
        "id": "04MKZ6ak2Tsd",
        "colab_type": "code",
        "outputId": "cbc33c67-ea7b-4296-b794-24266c758395",
        "colab": {
          "base_uri": "https://localhost:8080/",
          "height": 53
        }
      },
      "source": [
        "print(np.max(np.max(data_train)))\n",
        "print(np.min(np.min(data_train)))"
      ],
      "execution_count": 21,
      "outputs": [
        {
          "output_type": "stream",
          "text": [
            "0.8895333333333335\n",
            "0.015\n"
          ],
          "name": "stdout"
        }
      ]
    },
    {
      "cell_type": "code",
      "metadata": {
        "colab_type": "code",
        "id": "BwflCkBrZvFL",
        "outputId": "15571a04-1cfe-4b47-a6d2-9b65cea3f0be",
        "colab": {
          "base_uri": "https://localhost:8080/",
          "height": 53
        }
      },
      "source": [
        "print('Number of training data observations is ', data_train.shape)\n",
        "print('Number of dev      data observations is ', data_dev.shape)"
      ],
      "execution_count": 22,
      "outputs": [
        {
          "output_type": "stream",
          "text": [
            "Number of training data observations is  (3024, 50)\n",
            "Number of dev      data observations is  (756, 50)\n"
          ],
          "name": "stdout"
        }
      ]
    },
    {
      "cell_type": "markdown",
      "metadata": {
        "id": "sHOTP-_C2Tsh",
        "colab_type": "text"
      },
      "source": [
        "# Plot 1"
      ]
    },
    {
      "cell_type": "markdown",
      "metadata": {
        "id": "Q9OEgp9q2Tsi",
        "colab_type": "text"
      },
      "source": [
        "Let's check some data observations to get an idea of how they looks like."
      ]
    },
    {
      "cell_type": "code",
      "metadata": {
        "id": "ZFLtfsMu2Tsj",
        "colab_type": "code",
        "outputId": "9a2a41c9-b2e0-4a29-aeaf-d79ab4a8d7db",
        "colab": {
          "base_uri": "https://localhost:8080/",
          "height": 71
        }
      },
      "source": [
        "train_target_df[(train_target_df['T'] == 5./45.) & (train_target_df['O2'] == 5./100.)].iloc[0]"
      ],
      "execution_count": 23,
      "outputs": [
        {
          "output_type": "execute_result",
          "data": {
            "text/plain": [
              "T     0.111111\n",
              "O2    0.050000\n",
              "Name: 1760, dtype: float64"
            ]
          },
          "metadata": {
            "tags": []
          },
          "execution_count": 23
        }
      ]
    },
    {
      "cell_type": "code",
      "metadata": {
        "id": "bm_2ckU62Tsl",
        "colab_type": "code",
        "outputId": "f0bc7f9a-3915-4e53-d02c-1ba560b55f5a",
        "colab": {
          "base_uri": "https://localhost:8080/",
          "height": 344
        }
      },
      "source": [
        "fig = plt.figure(figsize=(16, 5))\n",
        "\n",
        "\n",
        "\n",
        "ax = fig.add_subplot(1, 2, 1)\n",
        "\n",
        "ax.plot(wred, -train_data_df[(train_target_df['T'] == 5./45.) & (train_target_df['O2'] == 5./100.)].iloc[0], label = '$T=5, [O_2]=5 \\%$' )\n",
        "ax.plot(wred, -train_data_df[(train_target_df['T'] == 5./45.) & (train_target_df['O2'] == 25./100.)].iloc[0], label = '$T=5, [O_2]=25 \\%$' )\n",
        "ax.plot(wred, -train_data_df[(train_target_df['T'] == 5./45.) & (train_target_df['O2'] == 45./100.)].iloc[0], label = '$T=5, [O_2]=45 \\%$' )\n",
        "ax.legend(fontsize = 16)\n",
        "ax.tick_params(labelsize=16)\n",
        "plt.xlabel ('Frequency (Hz)', fontsize = 16)\n",
        "plt.ylabel (r'$\\theta / 90$', fontsize = 16)\n",
        "\n",
        "\n",
        "ax2 = fig.add_subplot(1, 2, 2)\n",
        "\n",
        "\n",
        "ax2.plot(wred, -train_data_df[(train_target_df['T'] == 5./45.) & (train_target_df['O2'] == 5./100.)].iloc[0], label = '$T=5, [O_2]=5 \\%$' )\n",
        "ax2.plot(wred, -train_data_df[(train_target_df['T'] == 25./45.) & (train_target_df['O2'] == 5./100.)].iloc[0], label = '$T=25, [O_2]=5 \\%$' )\n",
        "ax2.plot(wred, -train_data_df[(train_target_df['T'] == 45./45.) & (train_target_df['O2'] == 5./100.)].iloc[0], label = '$T=45, [O_2]=5 \\%$' )\n",
        "ax2.legend(fontsize = 16)\n",
        "ax2.tick_params(labelsize=16)\n",
        "plt.xlabel ('Frequency (Hz)', fontsize = 16)\n",
        "plt.ylabel (r'$\\theta / 90$', fontsize = 16)\n",
        "plt.show()"
      ],
      "execution_count": 24,
      "outputs": [
        {
          "output_type": "display_data",
          "data": {
            "image/png": "[encoded data removed]",
            "text/plain": [
              "<Figure size 1152x360 with 2 Axes>"
            ]
          },
          "metadata": {
            "tags": []
          }
        }
      ]
    },
    {
      "cell_type": "code",
      "metadata": {
        "id": "lgTN9TFn2Tso",
        "colab_type": "code",
        "outputId": "1a8d8107-accd-413c-fdf4-e1c548aaca0c",
        "colab": {
          "base_uri": "https://localhost:8080/",
          "height": 307
        }
      },
      "source": [
        "plt.plot(wred, -train_data_df[(train_target_df['T'] == 5./45.) & (train_target_df['O2'] == 5./100.)].iloc[0], label = '$T=5, [O_2]=5 \\%$' )\n",
        "plt.plot(wred, -train_data_df[(train_target_df['T'] == 15./45.) & (train_target_df['O2'] == 5./100.)].iloc[0], label = '$T=15, [O_2]=5 \\%$' )\n",
        "#plt.plot(wred, -train_data_df[(train_target_df['T'] == 5./45.) & (train_target_df['O2'] == 45./100.)].iloc[0], label = '$T=5, [O_2]=45 \\%$' )\n",
        "plt.legend(fontsize = 16)\n",
        "plt.tick_params(labelsize=16)\n",
        "plt.xlabel ('Frequency (Hz)', fontsize = 16)\n",
        "plt.ylabel (r'$\\theta / 90$', fontsize = 16)"
      ],
      "execution_count": 25,
      "outputs": [
        {
          "output_type": "execute_result",
          "data": {
            "text/plain": [
              "Text(0, 0.5, '$\\\\theta / 90$')"
            ]
          },
          "metadata": {
            "tags": []
          },
          "execution_count": 25
        },
        {
          "output_type": "display_data",
          "data": {
            "image/png": "[encoded data removed]",
            "text/plain": [
              "<Figure size 432x288 with 1 Axes>"
            ]
          },
          "metadata": {
            "tags": []
          }
        }
      ]
    },
    {
      "cell_type": "markdown",
      "metadata": {
        "id": "2xK3NNdK2Tsq",
        "colab_type": "text"
      },
      "source": [
        "**NOTE**: looking at how similar those two curves are, we expect that detecting the temperature will be more difficult."
      ]
    },
    {
      "cell_type": "markdown",
      "metadata": {
        "colab_type": "text",
        "id": "HWgTxCDuZvFQ"
      },
      "source": [
        "## Helper Functions"
      ]
    },
    {
      "cell_type": "code",
      "metadata": {
        "colab_type": "code",
        "id": "ycNFsXOaZvFR",
        "colab": {}
      },
      "source": [
        "def MAE_T_list_generator(targets_dev, preds_df):\n",
        "    T_values = targets_dev['T'].unique()*45.0\n",
        "    MAE_list = []\n",
        "    MAE_xticks = T_values\n",
        "    MAE_boxplot = []\n",
        "    for T_ in T_values:\n",
        "        elmts = (targets_dev['T'] == T_/45.0)\n",
        "        tmp_ = targets_dev[elmts]\n",
        "        tmp2_ = preds_df[elmts]\n",
        "        mae_ = np.mean(45.0*np.abs(tmp2_['T'].values- tmp_['T'].values))\n",
        "\n",
        "        MAE_boxplot.append(list(45.0*np.abs(tmp_['T'].values-tmp2_['T'].values)))\n",
        "\n",
        "        MAE_list.append(mae_)\n",
        "        \n",
        "    return MAE_boxplot, MAE_list, MAE_xticks"
      ],
      "execution_count": 0,
      "outputs": []
    },
    {
      "cell_type": "code",
      "metadata": {
        "colab_type": "code",
        "id": "7ESrffFUZvFV",
        "colab": {}
      },
      "source": [
        "def MAE_O2_list_generator(step, targets_dev, preds_df):\n",
        "    breaks = np.arange(step,101.0, step)\n",
        "    MAE_list = []\n",
        "    MAE_xticks = []\n",
        "    MAE_boxplot = []\n",
        "    for O2_ in breaks:\n",
        "        elmts = (targets_dev['O2'] < O2_/100.0) & (targets_dev['O2'] >= (O2_-step)/100.0)\n",
        "        tmp_ = targets_dev[elmts]\n",
        "        tmp2_ = preds_df[elmts]\n",
        "        mae_ = np.mean(100*np.abs(tmp2_['O2'].values- tmp_['O2'].values))\n",
        "\n",
        "        #print (\"MAE for range [\", int(O2_), \",\", int(O2_-step), \"] is\", mae_)\n",
        "\n",
        "        MAE_boxplot.append(list(100.0*np.abs(tmp_['O2'].values-tmp2_['O2'].values)))\n",
        "\n",
        "        MAE_list.append(mae_)\n",
        "        MAE_xticks.append(\"[\"+ str(int(O2_-step))+ \",\"+ str(int(O2_))+ \"]\")\n",
        "    \n",
        "    return MAE_boxplot, MAE_list, MAE_xticks"
      ],
      "execution_count": 0,
      "outputs": []
    },
    {
      "cell_type": "code",
      "metadata": {
        "colab_type": "code",
        "id": "ix9iIYTcZvFW",
        "colab": {}
      },
      "source": [
        "# Get predictions\n",
        "def get_predictions(model, targets_dev, data_dev):\n",
        "    preds = model.predict(data_dev)\n",
        "    preds_df = pd.DataFrame(preds)\n",
        "    preds_df.columns = ['O2', 'T']\n",
        "    targets_dev_ = targets_dev.reset_index(drop = True)\n",
        "    preds_df_ = preds_df.reset_index(drop = True)\n",
        "    \n",
        "    return targets_dev_, preds_df_"
      ],
      "execution_count": 0,
      "outputs": []
    },
    {
      "cell_type": "code",
      "metadata": {
        "colab_type": "code",
        "id": "xY5mtw2DZvFW",
        "colab": {}
      },
      "source": [
        "class CustomCallback(keras.callbacks.Callback):\n",
        "    def on_epoch_end(self, epoch, logs={}):\n",
        "        if (epoch % 1000 == 0):\n",
        "            print (\"Just finished epoch\", epoch)\n",
        "            print (logs)\n",
        "            return\n",
        "        \n",
        "class CustomCallbackProgress(keras.callbacks.Callback):\n",
        "    \n",
        "    def __init__(self, totalEpochs, step):\n",
        "        self.step = 0\n",
        "        self.totalEpochs = totalEpochs\n",
        "        self.step = step\n",
        "        \n",
        "        \n",
        "    def on_epoch_end(self, epoch, logs={}):\n",
        "        if (epoch % 200 == 0):\n",
        "            i = int(epoch / 200)\n",
        "            \n",
        "            if (i > 0):\n",
        "                numberOfEquals = int(self.totalEpochs/200*i)\n",
        "                percent = 100/(self.totalEpochs/200)*i\n",
        "            else:\n",
        "                numberOfEquals = 0\n",
        "                percent = 0\n",
        "                \n",
        "                \n",
        "            print (\"\\r[%-20s] %d%%\" % ('='*i, percent), end='')\n",
        "            \n",
        "            if(percent == 100):\n",
        "                print('')\n",
        "        "
      ],
      "execution_count": 0,
      "outputs": []
    },
    {
      "cell_type": "code",
      "metadata": {
        "colab_type": "code",
        "id": "pvugRkk3ZvFX",
        "colab": {}
      },
      "source": [
        "def reset_keras():\n",
        "    K.get_session().close()\n",
        "    K.set_session(tf.Session())\n",
        "    K.get_session().run(tf.global_variables_initializer())"
      ],
      "execution_count": 0,
      "outputs": []
    },
    {
      "cell_type": "code",
      "metadata": {
        "colab_type": "code",
        "id": "hf_xjlejZvFZ",
        "colab": {}
      },
      "source": [
        "def average_runs(n_iter, model_):\n",
        "    MAE_O2_boxplot_avg = [0]*9\n",
        "    MAE_T_boxplot_avg = [0]*5\n",
        "\n",
        "    for i in range(n_iter):\n",
        "        print (\"Training iteration \", i)\n",
        "        \n",
        "        model_.fit(data_train, targets_train, epochs=4001, batch_size=1000,verbose = 0,\n",
        "             validation_data= (data_dev, targets_dev), callbacks = [CustomCallbackProgress(4000,200)])\n",
        "\n",
        "        print(\"Getting predictions for iteration \",i)\n",
        "        targets_dev_, preds_df_ = get_predictions(model_, targets_dev, data_dev)\n",
        "        targets_train_, preds_train_ = get_predictions(model_, targets_train, data_train)\n",
        "\n",
        "        print(\"Generating MAE lists for iteration \", i)\n",
        "        MAE_boxplot_, MAE_list_, MAE_xticks_ = MAE_O2_list_generator(10.0, targets_dev_, preds_df_)\n",
        "        MAE_T_boxplot_, MAE_T_list_, MAE_T_xticks_ = MAE_T_list_generator(targets_dev_, preds_df_)\n",
        "        #MAE_boxplot_train_, MAE_list_train_, MAE_xticks_train_ = MAE_list_generator(10.0, targets_train_, preds_train_)\n",
        "\n",
        "        for j in range(len(MAE_boxplot_)):\n",
        "            MAE_O2_boxplot_avg[j] = MAE_O2_boxplot_avg[j] + np.array(MAE_boxplot_[j])/n_iter\n",
        "            \n",
        "        for j in range(len(MAE_T_boxplot_)):\n",
        "            MAE_T_boxplot_avg[j] = MAE_T_boxplot_avg[j] + np.array(MAE_T_boxplot_[j])/n_iter\n",
        "\n",
        "    return MAE_O2_boxplot_avg, MAE_T_boxplot_avg"
      ],
      "execution_count": 0,
      "outputs": []
    },
    {
      "cell_type": "code",
      "metadata": {
        "colab_type": "code",
        "id": "i5JVJPB1ZvFZ",
        "colab": {}
      },
      "source": [
        "def get_mae(MAE_boxplot_):\n",
        "    flat_list = [item for sublist in MAE_boxplot_ for item in sublist]\n",
        "    return np.mean(flat_list)"
      ],
      "execution_count": 0,
      "outputs": []
    },
    {
      "cell_type": "markdown",
      "metadata": {
        "colab_type": "text",
        "id": "qubDL3VCZvFb"
      },
      "source": [
        "# Random Seed to get reproducible results"
      ]
    },
    {
      "cell_type": "code",
      "metadata": {
        "colab_type": "code",
        "id": "jd131E5PZvFc",
        "colab": {}
      },
      "source": [
        "K.clear_session()\n",
        "\n",
        "from numpy.random import seed\n",
        "seed(42)\n",
        "#from tensorflow import set_random_seed\n",
        "#set_random_seed(42)"
      ],
      "execution_count": 0,
      "outputs": []
    },
    {
      "cell_type": "markdown",
      "metadata": {
        "colab_type": "text",
        "id": "3jXoqPciZvFd"
      },
      "source": [
        "# Network C"
      ]
    },
    {
      "cell_type": "code",
      "metadata": {
        "colab_type": "code",
        "id": "ivJYtwZTZvFe",
        "colab": {}
      },
      "source": [
        "class CustomCallback_(keras.callbacks.Callback):\n",
        "    def on_epoch_end(self, epoch, logs={}):\n",
        "        #print(logs)\n",
        "        if (epoch % 1000 == 0):\n",
        "            print (\"Just finished epoch\", epoch)\n",
        "            #print(logs)\n",
        "            print (\"Loss.             = \", float(logs.get(\"O2_output_loss\")))\n",
        "            print (\"Validation MAE_O2 = \", 100*float(logs.get(\"val_O2_output_mae\")))\n",
        "            print (\"Validation MAE_T  = \", 45*float(logs.get(\"val_T_output_mae\")))\n",
        "            print (\"Training   MAE_O2 = \", 100*float(logs.get(\"O2_output_mae\")))\n",
        "            print (\"Training   MAE_T  = \", 45*float(logs.get(\"T_output_mae\")))\n",
        "            \n",
        "            return\n",
        "\n",
        "class CustomCallback_epochs_count(keras.callbacks.Callback):\n",
        "    def on_epoch_end(self, epoch, logs={}):\n",
        "        \n",
        "        if (epoch % 100 == 0):\n",
        "            print (\"Just finished epoch\", epoch)\n",
        "            \n",
        "            return\n",
        "\n",
        "import datetime\n",
        "class CustomCallback_measure_time(keras.callbacks.Callback):\n",
        "\n",
        "    def __init__(self, n):\n",
        "      self.number_of_epochs = n\n",
        "\n",
        "    def on_epoch_begin(self, epoch, logs={}):\n",
        "          self.batch_start_time = datetime.datetime.now()\n",
        "\n",
        "    def on_epoch_end(self, epoch, logs={}):\n",
        "      single_epoch_time_elapsed = datetime.datetime.now() - self.batch_start_time\n",
        "      if ((epoch % self.number_of_epochs == 0) & (epoch > 0)):\n",
        "        estimate_multiple_epochs_time_elapsed = single_epoch_time_elapsed * self.number_of_epochs\n",
        "        estimate_multiple_epochs_time_elapsed = estimate_multiple_epochs_time_elapsed.total_seconds()\n",
        "        msg = str(self.number_of_epochs) + \"epochs - Estimated time to run: {:.2f} seconds\"\n",
        "        print(msg.format(estimate_multiple_epochs_time_elapsed))"
      ],
      "execution_count": 0,
      "outputs": []
    },
    {
      "cell_type": "code",
      "metadata": {
        "colab_type": "code",
        "id": "zolxZDx0ZvFe",
        "colab": {}
      },
      "source": [
        "K.clear_session()"
      ],
      "execution_count": 0,
      "outputs": []
    },
    {
      "cell_type": "code",
      "metadata": {
        "colab_type": "code",
        "id": "Iy4UkWvnZvFf",
        "colab": {}
      },
      "source": [
        "input_x = keras.layers.Input(shape = (50,))\n",
        "lay1 = layers.Dense(50,  activation='sigmoid', dtype = tf.float32)(input_x)\n",
        "lay2 = layers.Dense(50, activation='sigmoid')(lay1)\n",
        "lay3 = layers.Dense(50, activation='sigmoid')(lay2)\n",
        "lay4 = layers.Dense(50, activation='sigmoid')(lay3)\n",
        "outboth = layers.Dense(2, activation='sigmoid',name=\"both_output\")(lay4)\n",
        "\n",
        "lay4 = layers.Dense(15, activation='sigmoid')(lay3)\n",
        "lay5 = layers.Dense(15, activation='sigmoid')(lay4)\n",
        "lay6 = layers.Dense(15, activation='sigmoid')(lay5)\n",
        "outo2 = layers.Dense(1, activation = 'sigmoid',name=\"O2_output\")(lay6)\n",
        "\n",
        "\n",
        "lay6 = layers.Dense(15, activation='sigmoid')(lay3)\n",
        "lay7 = layers.Dense(15, activation='sigmoid')(lay6)\n",
        "lay8 = layers.Dense(15, activation='sigmoid')(lay7)\n",
        "outT = layers.Dense(1, activation = 'sigmoid', name = \"T_output\")(lay8)\n",
        "\n",
        "#model = Model(input_x, outl)\n",
        "\n",
        "model4 = Model(\n",
        "    inputs=input_x,\n",
        "    outputs=[outboth, outo2, outT])"
      ],
      "execution_count": 0,
      "outputs": []
    },
    {
      "cell_type": "code",
      "metadata": {
        "colab_type": "code",
        "id": "vUcbGBnxZvFf",
        "outputId": "c5ef84c9-7bea-4c3a-a1b4-4b8eadbabf9b",
        "colab": {
          "base_uri": "https://localhost:8080/",
          "height": 665
        }
      },
      "source": [
        "model4.summary()"
      ],
      "execution_count": 75,
      "outputs": [
        {
          "output_type": "stream",
          "text": [
            "Model: \"model\"\n",
            "__________________________________________________________________________________________________\n",
            "Layer (type)                    Output Shape         Param #     Connected to                     \n",
            "==================================================================================================\n",
            "input_1 (InputLayer)            [(None, 50)]         0                                            \n",
            "__________________________________________________________________________________________________\n",
            "dense (Dense)                   (None, 50)           2550        input_1[0][0]                    \n",
            "__________________________________________________________________________________________________\n",
            "dense_1 (Dense)                 (None, 50)           2550        dense[0][0]                      \n",
            "__________________________________________________________________________________________________\n",
            "dense_2 (Dense)                 (None, 50)           2550        dense_1[0][0]                    \n",
            "__________________________________________________________________________________________________\n",
            "dense_4 (Dense)                 (None, 15)           765         dense_2[0][0]                    \n",
            "__________________________________________________________________________________________________\n",
            "dense_7 (Dense)                 (None, 15)           765         dense_2[0][0]                    \n",
            "__________________________________________________________________________________________________\n",
            "dense_5 (Dense)                 (None, 15)           240         dense_4[0][0]                    \n",
            "__________________________________________________________________________________________________\n",
            "dense_8 (Dense)                 (None, 15)           240         dense_7[0][0]                    \n",
            "__________________________________________________________________________________________________\n",
            "dense_3 (Dense)                 (None, 50)           2550        dense_2[0][0]                    \n",
            "__________________________________________________________________________________________________\n",
            "dense_6 (Dense)                 (None, 15)           240         dense_5[0][0]                    \n",
            "__________________________________________________________________________________________________\n",
            "dense_9 (Dense)                 (None, 15)           240         dense_8[0][0]                    \n",
            "__________________________________________________________________________________________________\n",
            "both_output (Dense)             (None, 2)            102         dense_3[0][0]                    \n",
            "__________________________________________________________________________________________________\n",
            "O2_output (Dense)               (None, 1)            16          dense_6[0][0]                    \n",
            "__________________________________________________________________________________________________\n",
            "T_output (Dense)                (None, 1)            16          dense_9[0][0]                    \n",
            "==================================================================================================\n",
            "Total params: 12,824\n",
            "Trainable params: 12,824\n",
            "Non-trainable params: 0\n",
            "__________________________________________________________________________________________________\n"
          ],
          "name": "stdout"
        }
      ]
    },
    {
      "cell_type": "code",
      "metadata": {
        "colab_type": "code",
        "id": "GaxNArMlZvFg",
        "colab": {}
      },
      "source": [
        "losses = {\n",
        "        \"both_output\": \"mse\",\n",
        "        \"O2_output\": \"mse\",\n",
        "        \"T_output\": \"mse\"\n",
        "}\n",
        "\n",
        "lossWeights = {\"both_output\": 0.3, \"O2_output\": 5.0, \"T_output\": 5.0}\n",
        "\n",
        "opt = Adam(lr=0.001)\n",
        "#opt = SGD(lr = 0.001)\n",
        "\n",
        "#opt = SGD(lr=1e-3, momentum=0.9, decay=1e-2/epochs)\n",
        "\n",
        "model4.compile(optimizer=opt, loss=losses, loss_weights=lossWeights,\n",
        "        metrics=[\"mae\"])"
      ],
      "execution_count": 0,
      "outputs": []
    },
    {
      "cell_type": "code",
      "metadata": {
        "colab_type": "code",
        "id": "QAR-gIrbZvFh",
        "colab": {}
      },
      "source": [
        "targets_train_O2 = targets_train['O2']\n",
        "targets_dev_O2 = targets_dev['O2']\n",
        "targets_train_T = targets_train['T']\n",
        "targets_dev_T = targets_dev['T']"
      ],
      "execution_count": 0,
      "outputs": []
    },
    {
      "cell_type": "markdown",
      "metadata": {
        "colab_type": "text",
        "id": "-do_u4EDZvFh"
      },
      "source": [
        "### WORKING HERE"
      ]
    },
    {
      "cell_type": "code",
      "metadata": {
        "colab_type": "code",
        "id": "5SOLycrnZvFh",
        "outputId": "20aee6ff-daf1-4e38-fb4c-96975f3390c2",
        "colab": {
          "base_uri": "https://localhost:8080/",
          "height": 555
        }
      },
      "source": [
        "#def lr_scheduler(epoch, lr):\n",
        "#    decay_rate = 0.5\n",
        "#    decay_step = 3000\n",
        "#    if epoch % decay_step == 0 and epoch:\n",
        "#        return lr * decay_rate\n",
        "#    return lr\n",
        "\n",
        "#reduce_lr = tf.keras.callbacks.LearningRateScheduler(lr_scheduler)\n",
        "start = time.time()\n",
        "\n",
        "H = model4.fit(data_train,\n",
        "        {\"both_output\": targets_train, \"O2_output\": targets_train_O2, \"T_output\": targets_train_T},\n",
        "        validation_data=(data_dev,\n",
        "            {\"both_output\": targets_dev, \"O2_output\": targets_dev_O2, \"T_output\": targets_dev_T}),\n",
        "        epochs=2001, batch_size = 32,\n",
        "        verbose=0, callbacks = [CustomCallback_(), CustomCallback_measure_time(100)])\n",
        "\n",
        "end = time.time()\n",
        "print (\"%.2gs\" % (end-start))"
      ],
      "execution_count": 79,
      "outputs": [
        {
          "output_type": "stream",
          "text": [
            "Just finished epoch 0\n",
            "Loss.             =  0.010623621754348278\n",
            "Validation MAE_O2 =  8.49073976278305\n",
            "Validation MAE_T  =  10.215756297111511\n",
            "Training   MAE_O2 =  8.32386463880539\n",
            "Training   MAE_T  =  9.921839833259583\n",
            "100epochs - Estimated time to run: 67.74 seconds\n",
            "100epochs - Estimated time to run: 63.36 seconds\n",
            "100epochs - Estimated time to run: 69.86 seconds\n"
          ],
          "name": "stdout"
        },
        {
          "output_type": "error",
          "ename": "KeyboardInterrupt",
          "evalue": "ignored",
          "traceback": [
            "\u001b[0;31m---------------------------------------------------------------------------\u001b[0m",
            "\u001b[0;31mKeyboardInterrupt\u001b[0m                         Traceback (most recent call last)",
            "\u001b[0;32m<ipython-input-79-8030af1f71ba>\u001b[0m in \u001b[0;36m<module>\u001b[0;34m()\u001b[0m\n\u001b[1;32m      6\u001b[0m             {\"both_output\": targets_dev, \"O2_output\": targets_dev_O2, \"T_output\": targets_dev_T}),\n\u001b[1;32m      7\u001b[0m         \u001b[0mepochs\u001b[0m\u001b[0;34m=\u001b[0m\u001b[0;36m2001\u001b[0m\u001b[0;34m,\u001b[0m \u001b[0mbatch_size\u001b[0m \u001b[0;34m=\u001b[0m \u001b[0;36m32\u001b[0m\u001b[0;34m,\u001b[0m\u001b[0;34m\u001b[0m\u001b[0;34m\u001b[0m\u001b[0m\n\u001b[0;32m----> 8\u001b[0;31m         verbose=0, callbacks = [CustomCallback_(), CustomCallback_measure_time(100)])\n\u001b[0m\u001b[1;32m      9\u001b[0m \u001b[0;34m\u001b[0m\u001b[0m\n\u001b[1;32m     10\u001b[0m \u001b[0mend\u001b[0m \u001b[0;34m=\u001b[0m \u001b[0mtime\u001b[0m\u001b[0;34m.\u001b[0m\u001b[0mtime\u001b[0m\u001b[0;34m(\u001b[0m\u001b[0;34m)\u001b[0m\u001b[0;34m\u001b[0m\u001b[0;34m\u001b[0m\u001b[0m\n",
            "\u001b[0;32m/tensorflow-2.1.0/python3.6/tensorflow_core/python/keras/engine/training.py\u001b[0m in \u001b[0;36mfit\u001b[0;34m(self, x, y, batch_size, epochs, verbose, callbacks, validation_split, validation_data, shuffle, class_weight, sample_weight, initial_epoch, steps_per_epoch, validation_steps, validation_freq, max_queue_size, workers, use_multiprocessing, **kwargs)\u001b[0m\n\u001b[1;32m    817\u001b[0m         \u001b[0mmax_queue_size\u001b[0m\u001b[0;34m=\u001b[0m\u001b[0mmax_queue_size\u001b[0m\u001b[0;34m,\u001b[0m\u001b[0;34m\u001b[0m\u001b[0;34m\u001b[0m\u001b[0m\n\u001b[1;32m    818\u001b[0m         \u001b[0mworkers\u001b[0m\u001b[0;34m=\u001b[0m\u001b[0mworkers\u001b[0m\u001b[0;34m,\u001b[0m\u001b[0;34m\u001b[0m\u001b[0;34m\u001b[0m\u001b[0m\n\u001b[0;32m--> 819\u001b[0;31m         use_multiprocessing=use_multiprocessing)\n\u001b[0m\u001b[1;32m    820\u001b[0m \u001b[0;34m\u001b[0m\u001b[0m\n\u001b[1;32m    821\u001b[0m   def evaluate(self,\n",
            "\u001b[0;32m/tensorflow-2.1.0/python3.6/tensorflow_core/python/keras/engine/training_v2.py\u001b[0m in \u001b[0;36mfit\u001b[0;34m(self, model, x, y, batch_size, epochs, verbose, callbacks, validation_split, validation_data, shuffle, class_weight, sample_weight, initial_epoch, steps_per_epoch, validation_steps, validation_freq, max_queue_size, workers, use_multiprocessing, **kwargs)\u001b[0m\n\u001b[1;32m    340\u001b[0m                 \u001b[0mmode\u001b[0m\u001b[0;34m=\u001b[0m\u001b[0mModeKeys\u001b[0m\u001b[0;34m.\u001b[0m\u001b[0mTRAIN\u001b[0m\u001b[0;34m,\u001b[0m\u001b[0;34m\u001b[0m\u001b[0;34m\u001b[0m\u001b[0m\n\u001b[1;32m    341\u001b[0m                 \u001b[0mtraining_context\u001b[0m\u001b[0;34m=\u001b[0m\u001b[0mtraining_context\u001b[0m\u001b[0;34m,\u001b[0m\u001b[0;34m\u001b[0m\u001b[0;34m\u001b[0m\u001b[0m\n\u001b[0;32m--> 342\u001b[0;31m                 total_epochs=epochs)\n\u001b[0m\u001b[1;32m    343\u001b[0m             \u001b[0mcbks\u001b[0m\u001b[0;34m.\u001b[0m\u001b[0mmake_logs\u001b[0m\u001b[0;34m(\u001b[0m\u001b[0mmodel\u001b[0m\u001b[0;34m,\u001b[0m \u001b[0mepoch_logs\u001b[0m\u001b[0;34m,\u001b[0m \u001b[0mtraining_result\u001b[0m\u001b[0;34m,\u001b[0m \u001b[0mModeKeys\u001b[0m\u001b[0;34m.\u001b[0m\u001b[0mTRAIN\u001b[0m\u001b[0;34m)\u001b[0m\u001b[0;34m\u001b[0m\u001b[0;34m\u001b[0m\u001b[0m\n\u001b[1;32m    344\u001b[0m \u001b[0;34m\u001b[0m\u001b[0m\n",
            "\u001b[0;32m/tensorflow-2.1.0/python3.6/tensorflow_core/python/keras/engine/training_v2.py\u001b[0m in \u001b[0;36mrun_one_epoch\u001b[0;34m(model, iterator, execution_function, dataset_size, batch_size, strategy, steps_per_epoch, num_samples, mode, training_context, total_epochs)\u001b[0m\n\u001b[1;32m    126\u001b[0m         step=step, mode=mode, size=current_batch_size) as batch_logs:\n\u001b[1;32m    127\u001b[0m       \u001b[0;32mtry\u001b[0m\u001b[0;34m:\u001b[0m\u001b[0;34m\u001b[0m\u001b[0;34m\u001b[0m\u001b[0m\n\u001b[0;32m--> 128\u001b[0;31m         \u001b[0mbatch_outs\u001b[0m \u001b[0;34m=\u001b[0m \u001b[0mexecution_function\u001b[0m\u001b[0;34m(\u001b[0m\u001b[0miterator\u001b[0m\u001b[0;34m)\u001b[0m\u001b[0;34m\u001b[0m\u001b[0;34m\u001b[0m\u001b[0m\n\u001b[0m\u001b[1;32m    129\u001b[0m       \u001b[0;32mexcept\u001b[0m \u001b[0;34m(\u001b[0m\u001b[0mStopIteration\u001b[0m\u001b[0;34m,\u001b[0m \u001b[0merrors\u001b[0m\u001b[0;34m.\u001b[0m\u001b[0mOutOfRangeError\u001b[0m\u001b[0;34m)\u001b[0m\u001b[0;34m:\u001b[0m\u001b[0;34m\u001b[0m\u001b[0;34m\u001b[0m\u001b[0m\n\u001b[1;32m    130\u001b[0m         \u001b[0;31m# TODO(kaftan): File bug about tf function and errors.OutOfRangeError?\u001b[0m\u001b[0;34m\u001b[0m\u001b[0;34m\u001b[0m\u001b[0;34m\u001b[0m\u001b[0m\n",
            "\u001b[0;32m/tensorflow-2.1.0/python3.6/tensorflow_core/python/keras/engine/training_v2_utils.py\u001b[0m in \u001b[0;36mexecution_function\u001b[0;34m(input_fn)\u001b[0m\n\u001b[1;32m     96\u001b[0m     \u001b[0;31m# `numpy` translates Tensors to values in Eager mode.\u001b[0m\u001b[0;34m\u001b[0m\u001b[0;34m\u001b[0m\u001b[0;34m\u001b[0m\u001b[0m\n\u001b[1;32m     97\u001b[0m     return nest.map_structure(_non_none_constant_value,\n\u001b[0;32m---> 98\u001b[0;31m                               distributed_function(input_fn))\n\u001b[0m\u001b[1;32m     99\u001b[0m \u001b[0;34m\u001b[0m\u001b[0m\n\u001b[1;32m    100\u001b[0m   \u001b[0;32mreturn\u001b[0m \u001b[0mexecution_function\u001b[0m\u001b[0;34m\u001b[0m\u001b[0;34m\u001b[0m\u001b[0m\n",
            "\u001b[0;32m/tensorflow-2.1.0/python3.6/tensorflow_core/python/eager/def_function.py\u001b[0m in \u001b[0;36m__call__\u001b[0;34m(self, *args, **kwds)\u001b[0m\n\u001b[1;32m    566\u001b[0m         \u001b[0mxla_context\u001b[0m\u001b[0;34m.\u001b[0m\u001b[0mExit\u001b[0m\u001b[0;34m(\u001b[0m\u001b[0;34m)\u001b[0m\u001b[0;34m\u001b[0m\u001b[0;34m\u001b[0m\u001b[0m\n\u001b[1;32m    567\u001b[0m     \u001b[0;32melse\u001b[0m\u001b[0;34m:\u001b[0m\u001b[0;34m\u001b[0m\u001b[0;34m\u001b[0m\u001b[0m\n\u001b[0;32m--> 568\u001b[0;31m       \u001b[0mresult\u001b[0m \u001b[0;34m=\u001b[0m \u001b[0mself\u001b[0m\u001b[0;34m.\u001b[0m\u001b[0m_call\u001b[0m\u001b[0;34m(\u001b[0m\u001b[0;34m*\u001b[0m\u001b[0margs\u001b[0m\u001b[0;34m,\u001b[0m \u001b[0;34m**\u001b[0m\u001b[0mkwds\u001b[0m\u001b[0;34m)\u001b[0m\u001b[0;34m\u001b[0m\u001b[0;34m\u001b[0m\u001b[0m\n\u001b[0m\u001b[1;32m    569\u001b[0m \u001b[0;34m\u001b[0m\u001b[0m\n\u001b[1;32m    570\u001b[0m     \u001b[0;32mif\u001b[0m \u001b[0mtracing_count\u001b[0m \u001b[0;34m==\u001b[0m \u001b[0mself\u001b[0m\u001b[0;34m.\u001b[0m\u001b[0m_get_tracing_count\u001b[0m\u001b[0;34m(\u001b[0m\u001b[0;34m)\u001b[0m\u001b[0;34m:\u001b[0m\u001b[0;34m\u001b[0m\u001b[0;34m\u001b[0m\u001b[0m\n",
            "\u001b[0;32m/tensorflow-2.1.0/python3.6/tensorflow_core/python/eager/def_function.py\u001b[0m in \u001b[0;36m_call\u001b[0;34m(self, *args, **kwds)\u001b[0m\n\u001b[1;32m    597\u001b[0m       \u001b[0;31m# In this case we have created variables on the first call, so we run the\u001b[0m\u001b[0;34m\u001b[0m\u001b[0;34m\u001b[0m\u001b[0;34m\u001b[0m\u001b[0m\n\u001b[1;32m    598\u001b[0m       \u001b[0;31m# defunned version which is guaranteed to never create variables.\u001b[0m\u001b[0;34m\u001b[0m\u001b[0;34m\u001b[0m\u001b[0;34m\u001b[0m\u001b[0m\n\u001b[0;32m--> 599\u001b[0;31m       \u001b[0;32mreturn\u001b[0m \u001b[0mself\u001b[0m\u001b[0;34m.\u001b[0m\u001b[0m_stateless_fn\u001b[0m\u001b[0;34m(\u001b[0m\u001b[0;34m*\u001b[0m\u001b[0margs\u001b[0m\u001b[0;34m,\u001b[0m \u001b[0;34m**\u001b[0m\u001b[0mkwds\u001b[0m\u001b[0;34m)\u001b[0m  \u001b[0;31m# pylint: disable=not-callable\u001b[0m\u001b[0;34m\u001b[0m\u001b[0;34m\u001b[0m\u001b[0m\n\u001b[0m\u001b[1;32m    600\u001b[0m     \u001b[0;32melif\u001b[0m \u001b[0mself\u001b[0m\u001b[0;34m.\u001b[0m\u001b[0m_stateful_fn\u001b[0m \u001b[0;32mis\u001b[0m \u001b[0;32mnot\u001b[0m \u001b[0;32mNone\u001b[0m\u001b[0;34m:\u001b[0m\u001b[0;34m\u001b[0m\u001b[0;34m\u001b[0m\u001b[0m\n\u001b[1;32m    601\u001b[0m       \u001b[0;31m# Release the lock early so that multiple threads can perform the call\u001b[0m\u001b[0;34m\u001b[0m\u001b[0;34m\u001b[0m\u001b[0;34m\u001b[0m\u001b[0m\n",
            "\u001b[0;32m/tensorflow-2.1.0/python3.6/tensorflow_core/python/eager/function.py\u001b[0m in \u001b[0;36m__call__\u001b[0;34m(self, *args, **kwargs)\u001b[0m\n\u001b[1;32m   2361\u001b[0m     \u001b[0;32mwith\u001b[0m \u001b[0mself\u001b[0m\u001b[0;34m.\u001b[0m\u001b[0m_lock\u001b[0m\u001b[0;34m:\u001b[0m\u001b[0;34m\u001b[0m\u001b[0;34m\u001b[0m\u001b[0m\n\u001b[1;32m   2362\u001b[0m       \u001b[0mgraph_function\u001b[0m\u001b[0;34m,\u001b[0m \u001b[0margs\u001b[0m\u001b[0;34m,\u001b[0m \u001b[0mkwargs\u001b[0m \u001b[0;34m=\u001b[0m \u001b[0mself\u001b[0m\u001b[0;34m.\u001b[0m\u001b[0m_maybe_define_function\u001b[0m\u001b[0;34m(\u001b[0m\u001b[0margs\u001b[0m\u001b[0;34m,\u001b[0m \u001b[0mkwargs\u001b[0m\u001b[0;34m)\u001b[0m\u001b[0;34m\u001b[0m\u001b[0;34m\u001b[0m\u001b[0m\n\u001b[0;32m-> 2363\u001b[0;31m     \u001b[0;32mreturn\u001b[0m \u001b[0mgraph_function\u001b[0m\u001b[0;34m.\u001b[0m\u001b[0m_filtered_call\u001b[0m\u001b[0;34m(\u001b[0m\u001b[0margs\u001b[0m\u001b[0;34m,\u001b[0m \u001b[0mkwargs\u001b[0m\u001b[0;34m)\u001b[0m  \u001b[0;31m# pylint: disable=protected-access\u001b[0m\u001b[0;34m\u001b[0m\u001b[0;34m\u001b[0m\u001b[0m\n\u001b[0m\u001b[1;32m   2364\u001b[0m \u001b[0;34m\u001b[0m\u001b[0m\n\u001b[1;32m   2365\u001b[0m   \u001b[0;34m@\u001b[0m\u001b[0mproperty\u001b[0m\u001b[0;34m\u001b[0m\u001b[0;34m\u001b[0m\u001b[0m\n",
            "\u001b[0;32m/tensorflow-2.1.0/python3.6/tensorflow_core/python/eager/function.py\u001b[0m in \u001b[0;36m_filtered_call\u001b[0;34m(self, args, kwargs)\u001b[0m\n\u001b[1;32m   1609\u001b[0m          if isinstance(t, (ops.Tensor,\n\u001b[1;32m   1610\u001b[0m                            resource_variable_ops.BaseResourceVariable))),\n\u001b[0;32m-> 1611\u001b[0;31m         self.captured_inputs)\n\u001b[0m\u001b[1;32m   1612\u001b[0m \u001b[0;34m\u001b[0m\u001b[0m\n\u001b[1;32m   1613\u001b[0m   \u001b[0;32mdef\u001b[0m \u001b[0m_call_flat\u001b[0m\u001b[0;34m(\u001b[0m\u001b[0mself\u001b[0m\u001b[0;34m,\u001b[0m \u001b[0margs\u001b[0m\u001b[0;34m,\u001b[0m \u001b[0mcaptured_inputs\u001b[0m\u001b[0;34m,\u001b[0m \u001b[0mcancellation_manager\u001b[0m\u001b[0;34m=\u001b[0m\u001b[0;32mNone\u001b[0m\u001b[0;34m)\u001b[0m\u001b[0;34m:\u001b[0m\u001b[0;34m\u001b[0m\u001b[0;34m\u001b[0m\u001b[0m\n",
            "\u001b[0;32m/tensorflow-2.1.0/python3.6/tensorflow_core/python/eager/function.py\u001b[0m in \u001b[0;36m_call_flat\u001b[0;34m(self, args, captured_inputs, cancellation_manager)\u001b[0m\n\u001b[1;32m   1690\u001b[0m       \u001b[0;31m# No tape is watching; skip to running the function.\u001b[0m\u001b[0;34m\u001b[0m\u001b[0;34m\u001b[0m\u001b[0;34m\u001b[0m\u001b[0m\n\u001b[1;32m   1691\u001b[0m       return self._build_call_outputs(self._inference_function.call(\n\u001b[0;32m-> 1692\u001b[0;31m           ctx, args, cancellation_manager=cancellation_manager))\n\u001b[0m\u001b[1;32m   1693\u001b[0m     forward_backward = self._select_forward_and_backward_functions(\n\u001b[1;32m   1694\u001b[0m         \u001b[0margs\u001b[0m\u001b[0;34m,\u001b[0m\u001b[0;34m\u001b[0m\u001b[0;34m\u001b[0m\u001b[0m\n",
            "\u001b[0;32m/tensorflow-2.1.0/python3.6/tensorflow_core/python/eager/function.py\u001b[0m in \u001b[0;36mcall\u001b[0;34m(self, ctx, args, cancellation_manager)\u001b[0m\n\u001b[1;32m    543\u001b[0m               \u001b[0minputs\u001b[0m\u001b[0;34m=\u001b[0m\u001b[0margs\u001b[0m\u001b[0;34m,\u001b[0m\u001b[0;34m\u001b[0m\u001b[0;34m\u001b[0m\u001b[0m\n\u001b[1;32m    544\u001b[0m               \u001b[0mattrs\u001b[0m\u001b[0;34m=\u001b[0m\u001b[0;34m(\u001b[0m\u001b[0;34m\"executor_type\"\u001b[0m\u001b[0;34m,\u001b[0m \u001b[0mexecutor_type\u001b[0m\u001b[0;34m,\u001b[0m \u001b[0;34m\"config_proto\"\u001b[0m\u001b[0;34m,\u001b[0m \u001b[0mconfig\u001b[0m\u001b[0;34m)\u001b[0m\u001b[0;34m,\u001b[0m\u001b[0;34m\u001b[0m\u001b[0;34m\u001b[0m\u001b[0m\n\u001b[0;32m--> 545\u001b[0;31m               ctx=ctx)\n\u001b[0m\u001b[1;32m    546\u001b[0m         \u001b[0;32melse\u001b[0m\u001b[0;34m:\u001b[0m\u001b[0;34m\u001b[0m\u001b[0;34m\u001b[0m\u001b[0m\n\u001b[1;32m    547\u001b[0m           outputs = execute.execute_with_cancellation(\n",
            "\u001b[0;32m/tensorflow-2.1.0/python3.6/tensorflow_core/python/eager/execute.py\u001b[0m in \u001b[0;36mquick_execute\u001b[0;34m(op_name, num_outputs, inputs, attrs, ctx, name)\u001b[0m\n\u001b[1;32m     59\u001b[0m     tensors = pywrap_tensorflow.TFE_Py_Execute(ctx._handle, device_name,\n\u001b[1;32m     60\u001b[0m                                                \u001b[0mop_name\u001b[0m\u001b[0;34m,\u001b[0m \u001b[0minputs\u001b[0m\u001b[0;34m,\u001b[0m \u001b[0mattrs\u001b[0m\u001b[0;34m,\u001b[0m\u001b[0;34m\u001b[0m\u001b[0;34m\u001b[0m\u001b[0m\n\u001b[0;32m---> 61\u001b[0;31m                                                num_outputs)\n\u001b[0m\u001b[1;32m     62\u001b[0m   \u001b[0;32mexcept\u001b[0m \u001b[0mcore\u001b[0m\u001b[0;34m.\u001b[0m\u001b[0m_NotOkStatusException\u001b[0m \u001b[0;32mas\u001b[0m \u001b[0me\u001b[0m\u001b[0;34m:\u001b[0m\u001b[0;34m\u001b[0m\u001b[0;34m\u001b[0m\u001b[0m\n\u001b[1;32m     63\u001b[0m     \u001b[0;32mif\u001b[0m \u001b[0mname\u001b[0m \u001b[0;32mis\u001b[0m \u001b[0;32mnot\u001b[0m \u001b[0;32mNone\u001b[0m\u001b[0;34m:\u001b[0m\u001b[0;34m\u001b[0m\u001b[0;34m\u001b[0m\u001b[0m\n",
            "\u001b[0;31mKeyboardInterrupt\u001b[0m: "
          ]
        }
      ]
    },
    {
      "cell_type": "code",
      "metadata": {
        "id": "FQsWWKRg2TtQ",
        "colab_type": "code",
        "outputId": "f84d5a99-e670-42e4-97d8-0cd67977d9e5",
        "colab": {}
      },
      "source": [
        "plt.plot(H.history['loss'])\n",
        "plt.plot(H.history['val_loss'])\n",
        "plt.title('Model loss')\n",
        "plt.ylabel('Loss')\n",
        "plt.xlabel('Epoch')\n",
        "plt.legend(['Train', 'Test'], loc='upper left')\n",
        "#plt.xlim(90000, None)\n",
        "#plt.ylim(None, 0.1)\n",
        "plt.show()"
      ],
      "execution_count": 0,
      "outputs": [
        {
          "output_type": "display_data",
          "data": {
            "image/png": "[encoded data removed]",
            "text/plain": [
              "<Figure size 432x288 with 1 Axes>"
            ]
          },
          "metadata": {
            "tags": [],
            "needs_background": "light"
          }
        }
      ]
    },
    {
      "cell_type": "code",
      "metadata": {
        "colab_type": "code",
        "id": "M-UMGLNJZvFi",
        "colab": {}
      },
      "source": [
        "(O2T, O2, T) = model4.predict(data_dev)\n",
        "preds_exp_df = pd.DataFrame(O2T)\n",
        "preds_exp_df.columns = ['O2', 'T']\n",
        "preds_exp_o2_df = pd.DataFrame(O2[:,0])\n",
        "preds_exp_o2_df.columns = ['O2']\n",
        "\n",
        "preds_exp_T_df = pd.DataFrame(T[:,0])\n",
        "preds_exp_T_df.columns = ['T']"
      ],
      "execution_count": 0,
      "outputs": []
    },
    {
      "cell_type": "code",
      "metadata": {
        "colab_type": "code",
        "id": "TAQKhZDjZvFi",
        "colab": {}
      },
      "source": [
        "targets_dev = targets_dev.reset_index(drop = True)\n",
        "preds_exp_o2_df = preds_exp_o2_df.reset_index(drop = True)\n",
        "preds_exp_T_df = preds_exp_T_df.reset_index(drop = True)"
      ],
      "execution_count": 0,
      "outputs": []
    },
    {
      "cell_type": "code",
      "metadata": {
        "colab_type": "code",
        "id": "mzVtcUYsZvFj",
        "colab": {}
      },
      "source": [
        "MAE_boxplot_C, MAE_list_C, MAE_xticks_C = MAE_O2_list_generator(10.0, targets_dev, preds_exp_o2_df)\n",
        "MAET_boxplot_C_MTL, MAET_list_C_MTL, MAET_xticks_C_MTL = MAE_T_list_generator(targets_dev, preds_exp_T_df)"
      ],
      "execution_count": 0,
      "outputs": []
    },
    {
      "cell_type": "code",
      "metadata": {
        "colab_type": "code",
        "id": "XeoJZecyZvFj",
        "outputId": "7e78f0e9-41ec-4bbd-dffe-2258a145120e",
        "colab": {
          "base_uri": "https://localhost:8080/",
          "height": 197
        }
      },
      "source": [
        "MAE_list_C"
      ],
      "execution_count": 0,
      "outputs": [
        {
          "output_type": "execute_result",
          "data": {
            "text/plain": [
              "[0.2272705598094961,\n",
              " 1.5435256431364033,\n",
              " 0.9572116757782412,\n",
              " 1.0196821143229817,\n",
              " 1.2435029347737616,\n",
              " 1.107060909271238,\n",
              " 1.1195058728519243,\n",
              " 0.9638013266309928,\n",
              " 0.8506120768460343,\n",
              " 0.7067957011664795]"
            ]
          },
          "metadata": {
            "tags": []
          },
          "execution_count": 391
        }
      ]
    },
    {
      "cell_type": "code",
      "metadata": {
        "colab_type": "code",
        "id": "TPq8KP8FZvFk",
        "outputId": "d8b6af4a-487c-48f5-ac8b-b54b2b8a4eb5",
        "colab": {
          "base_uri": "https://localhost:8080/",
          "height": 35
        }
      },
      "source": [
        "np.mean(MAE_list_C) \n",
        "# 64/32/32 -->\n",
        "# 50       -->\n",
        "# 80       -->"
      ],
      "execution_count": 0,
      "outputs": [
        {
          "output_type": "execute_result",
          "data": {
            "text/plain": [
              "0.9738968814587553"
            ]
          },
          "metadata": {
            "tags": []
          },
          "execution_count": 392
        }
      ]
    },
    {
      "cell_type": "code",
      "metadata": {
        "colab_type": "code",
        "id": "ic8H7_tdZvFk",
        "outputId": "3e9744f5-3694-4d8b-e73c-b8778d5d7982",
        "colab": {
          "base_uri": "https://localhost:8080/",
          "height": 443
        }
      },
      "source": [
        "maxx = 4.0\n",
        "\n",
        "plt.rc('font', family='arial')\n",
        "plt.rc('xtick', labelsize='x-small')\n",
        "plt.rc('ytick', labelsize='x-small')\n",
        "    \n",
        "plt.tight_layout()\n",
        "\n",
        "fig = plt.figure(figsize=(8, 5))\n",
        "\n",
        "ax = fig.add_subplot(1, 1, 1)\n",
        "\n",
        "#bp = ax.scatter(range(1,len(MAE_xticks50)+1),MAE_list50, s = 60, color = 'black', label = 'Network A (50/50/50)')\n",
        "#bp = ax.scatter(range(1,len(MAE_xticks_MTL)+1),MAE_list_MTL, s = 60, color = 'red', label = 'Network B (MTL)')\n",
        "bp = ax.scatter(range(1,len(MAE_xticks_C)+1),MAE_list_C, s = 60, color = 'blue', label = 'Network C (MTL)')\n",
        "plt.ylim(0, 2)\n",
        "plt.xticks(range(1,len(MAE_xticks_C)+1), MAE_xticks_C, size='small', rotation = 'vertical')\n",
        "#plt.grid()\n",
        "plt.ylabel('Mean Absolute Error (% air)', fontsize = 16)\n",
        "plt.xlabel('$[O_2]$ ranges', fontsize = 16)\n",
        "plt.tick_params(labelsize=16)\n",
        "plt.legend(loc = 'upper left', fontsize = 16)\n",
        "#plt.xlim(0,9.5)\n",
        "\n",
        "\n",
        "#fig.savefig('Figures/absolute_error_for_T_boxplots.eps', format='eps', dpi=300,bbox_inches='tight')"
      ],
      "execution_count": 0,
      "outputs": [
        {
          "output_type": "execute_result",
          "data": {
            "text/plain": [
              "<matplotlib.legend.Legend at 0x7fc7f90566a0>"
            ]
          },
          "metadata": {
            "tags": []
          },
          "execution_count": 394
        },
        {
          "output_type": "display_data",
          "data": {
            "text/plain": [
              "<Figure size 432x288 with 0 Axes>"
            ]
          },
          "metadata": {
            "tags": []
          }
        },
        {
          "output_type": "display_data",
          "data": {
            "image/png": "[encoded data removed]",
            "text/plain": [
              "<Figure size 576x360 with 1 Axes>"
            ]
          },
          "metadata": {
            "tags": [],
            "needs_background": "light"
          }
        }
      ]
    },
    {
      "cell_type": "code",
      "metadata": {
        "colab_type": "code",
        "id": "etGRCxNYdQXu",
        "outputId": "da4a0bc9-dd64-43fd-8d96-7753f9d333af",
        "colab": {
          "base_uri": "https://localhost:8080/",
          "height": 443
        }
      },
      "source": [
        "maxy = 20.0\n",
        "\n",
        "\n",
        "plt.rc('font', family='arial')\n",
        "plt.rc('xtick', labelsize='x-small')\n",
        "plt.rc('ytick', labelsize='x-small')\n",
        "    \n",
        "plt.tight_layout()\n",
        "\n",
        "fig = plt.figure(figsize=(16, 5))\n",
        "\n",
        "\n",
        "\n",
        "ax = fig.add_subplot(1, 2, 1)\n",
        "\n",
        "\n",
        "\n",
        "bp = ax.boxplot(MAE_boxplot_C, whis = 'range')\n",
        "ax.set_xticklabels([5, 15, 25, 35, 45])\n",
        "\n",
        "for whisker in bp['whiskers']:\n",
        "    whisker.set(color = 'black', linewidth = 2)\n",
        "for cap in bp['caps']:\n",
        "    cap.set(color = 'black', linewidth = 2)\n",
        "for box in bp['boxes']:\n",
        "    box.set(color = 'black', linewidth = 2)\n",
        "for median in bp['medians']:\n",
        "    median.set(color = 'red', linewidth = 2)\n",
        "for outl in bp['fliers']:\n",
        "    outl.set(linewidth = 0, ms = 0, mew = 1.4, markerfacecolor = 'none')\n",
        "    \n",
        "#plt.ylim(-0.2, 2.9)\n",
        "    \n",
        "#ax.text(1, 1.5, 'Value for $[O_2] = 100$ % Air', fontsize = 18)\n",
        "\n",
        "legend_elements = [\n",
        "                  Line2D([0], [0],  lw = 2, color='red', label='Network C',\n",
        "                          markerfacecolor='none', markeredgewidth=1.4, markersize=8)]\n",
        "ax.legend(handles=legend_elements, loc='upper left', fontsize = 16)\n",
        "\n",
        "plt.xticks(range(1,len(MAE_xticks_C)+1), MAE_xticks_C, size='small', rotation = 'vertical')\n",
        "\n",
        "#plt.grid()\n",
        "\n",
        "plt.ylabel('Absolute Error (% air)', fontsize = 16)\n",
        "plt.xlabel('$[O_2]$ ranges (% air)', fontsize = 16)\n",
        "plt.tick_params(labelsize=16)\n",
        "plt.ylim(-0.1,maxy)\n",
        "\n",
        "\n",
        "\n",
        "\n",
        "ax = fig.add_subplot(1, 2, 2)\n",
        "\n",
        "\n",
        "bp = ax.boxplot(MAET_boxplot_C_MTL, whis = 'range')\n",
        "ax.set_xticklabels([5, 15, 25, 35, 45])\n",
        "\n",
        "for whisker in bp['whiskers']:\n",
        "    whisker.set(color = 'black', linewidth = 2)\n",
        "for cap in bp['caps']:\n",
        "    cap.set(color = 'black', linewidth = 2)\n",
        "for box in bp['boxes']:\n",
        "    box.set(color = 'black', linewidth = 2)\n",
        "for median in bp['medians']:\n",
        "    median.set(color = 'red', linewidth = 2)\n",
        "for outl in bp['fliers']:\n",
        "    outl.set(linewidth = 0, ms = 0, mew = 1.4, markerfacecolor = 'none')\n",
        "    \n",
        "#plt.ylim(-0.2, 2.9)\n",
        "    \n",
        "#ax.text(1, 1.5, 'Value for $[O_2] = 100$ % Air', fontsize = 18)\n",
        "\n",
        "legend_elements = [\n",
        "                  Line2D([0], [0],  lw = 2, color='red', label='Network C',\n",
        "                          markerfacecolor='none', markeredgewidth=1.4, markersize=8)]\n",
        "ax.legend(handles=legend_elements, loc='upper left', fontsize = 16)\n",
        "\n",
        "plt.xticks(range(1,len(MAET_xticks_C_MTL)+1), MAET_xticks_C_MTL, size='small', rotation = 'vertical')\n",
        "\n",
        "#plt.grid()\n",
        "\n",
        "plt.ylabel('Absolute Error ($^\\circ$ C)', fontsize = 16)\n",
        "plt.xlabel('T ($^\\circ$ C)', fontsize = 16)\n",
        "plt.tick_params(labelsize=16)\n",
        "plt.ylim(-0.1,45)\n",
        "\n",
        "fig.savefig('../paper/results_theta90.eps')"
      ],
      "execution_count": 0,
      "outputs": [
        {
          "output_type": "stream",
          "text": [
            "W0218 02:15:38.227710 4376894912 backend_ps.py:804] The PostScript backend does not support transparency; partially transparent artists will be rendered opaque.\n",
            "W0218 02:15:38.228367 4376894912 backend_ps.py:804] The PostScript backend does not support transparency; partially transparent artists will be rendered opaque.\n",
            "W0218 02:15:38.265383 4376894912 backend_ps.py:804] The PostScript backend does not support transparency; partially transparent artists will be rendered opaque.\n",
            "W0218 02:15:38.266026 4376894912 backend_ps.py:804] The PostScript backend does not support transparency; partially transparent artists will be rendered opaque.\n"
          ],
          "name": "stderr"
        },
        {
          "output_type": "display_data",
          "data": {
            "text/plain": [
              "<Figure size 432x288 with 0 Axes>"
            ]
          },
          "metadata": {
            "tags": []
          }
        },
        {
          "output_type": "display_data",
          "data": {
            "image/png": "[encoded data removed]",
            "text/plain": [
              "<Figure size 1152x360 with 2 Axes>"
            ]
          },
          "metadata": {
            "tags": [],
            "needs_background": "light"
          }
        }
      ]
    },
    {
      "cell_type": "markdown",
      "metadata": {
        "id": "yoGW9Oou2Ttd",
        "colab_type": "raw"
      },
      "source": [
        ""
      ]
    },
    {
      "cell_type": "code",
      "metadata": {
        "colab_type": "code",
        "id": "ZaXv4N3XPgO8",
        "outputId": "0d984aef-70fc-42b4-ece4-2d65493fe1f4",
        "colab": {}
      },
      "source": [
        "pdo2 = pd.DataFrame({'MAE_list': MAE_list_C, 'MAE_xticks': MAE_xticks_C, 'MAE_boxplot': MAE_boxplot_C})\n",
        "pdT = pd.DataFrame({'MAET_list': MAET_list_C_MTL,'MAET_boxplot': MAET_boxplot_C_MTL, 'MAET_xticks':MAET_xticks_C_MTL})\n",
        "pdo2.to_csv('/content/gdrive/My Drive/data/netc_O2.csv')\n",
        "pdT.to_csv('/content/gdrive/My Drive/data/netc_T.csv')"
      ],
      "execution_count": 0,
      "outputs": [
        {
          "output_type": "error",
          "ename": "FileNotFoundError",
          "evalue": "[Errno 2] No such file or directory: '/content/gdrive/My Drive/data/netc_O2.csv'",
          "traceback": [
            "\u001b[0;31m---------------------------------------------------------------------------\u001b[0m",
            "\u001b[0;31mFileNotFoundError\u001b[0m                         Traceback (most recent call last)",
            "\u001b[0;32m<ipython-input-55-c8f9775d89c6>\u001b[0m in \u001b[0;36m<module>\u001b[0;34m\u001b[0m\n\u001b[1;32m      1\u001b[0m \u001b[0mpdo2\u001b[0m \u001b[0;34m=\u001b[0m \u001b[0mpd\u001b[0m\u001b[0;34m.\u001b[0m\u001b[0mDataFrame\u001b[0m\u001b[0;34m(\u001b[0m\u001b[0;34m{\u001b[0m\u001b[0;34m'MAE_list'\u001b[0m\u001b[0;34m:\u001b[0m \u001b[0mMAE_list_C\u001b[0m\u001b[0;34m,\u001b[0m \u001b[0;34m'MAE_xticks'\u001b[0m\u001b[0;34m:\u001b[0m \u001b[0mMAE_xticks_C\u001b[0m\u001b[0;34m,\u001b[0m \u001b[0;34m'MAE_boxplot'\u001b[0m\u001b[0;34m:\u001b[0m \u001b[0mMAE_boxplot_C\u001b[0m\u001b[0;34m}\u001b[0m\u001b[0;34m)\u001b[0m\u001b[0;34m\u001b[0m\u001b[0;34m\u001b[0m\u001b[0m\n\u001b[1;32m      2\u001b[0m \u001b[0mpdT\u001b[0m \u001b[0;34m=\u001b[0m \u001b[0mpd\u001b[0m\u001b[0;34m.\u001b[0m\u001b[0mDataFrame\u001b[0m\u001b[0;34m(\u001b[0m\u001b[0;34m{\u001b[0m\u001b[0;34m'MAET_list'\u001b[0m\u001b[0;34m:\u001b[0m \u001b[0mMAET_list_C_MTL\u001b[0m\u001b[0;34m,\u001b[0m\u001b[0;34m'MAET_boxplot'\u001b[0m\u001b[0;34m:\u001b[0m \u001b[0mMAET_boxplot_C_MTL\u001b[0m\u001b[0;34m,\u001b[0m \u001b[0;34m'MAET_xticks'\u001b[0m\u001b[0;34m:\u001b[0m\u001b[0mMAET_xticks_C_MTL\u001b[0m\u001b[0;34m}\u001b[0m\u001b[0;34m)\u001b[0m\u001b[0;34m\u001b[0m\u001b[0;34m\u001b[0m\u001b[0m\n\u001b[0;32m----> 3\u001b[0;31m \u001b[0mpdo2\u001b[0m\u001b[0;34m.\u001b[0m\u001b[0mto_csv\u001b[0m\u001b[0;34m(\u001b[0m\u001b[0;34m'/content/gdrive/My Drive/data/netc_O2.csv'\u001b[0m\u001b[0;34m)\u001b[0m\u001b[0;34m\u001b[0m\u001b[0;34m\u001b[0m\u001b[0m\n\u001b[0m\u001b[1;32m      4\u001b[0m \u001b[0mpdT\u001b[0m\u001b[0;34m.\u001b[0m\u001b[0mto_csv\u001b[0m\u001b[0;34m(\u001b[0m\u001b[0;34m'/content/gdrive/My Drive/data/netc_T.csv'\u001b[0m\u001b[0;34m)\u001b[0m\u001b[0;34m\u001b[0m\u001b[0;34m\u001b[0m\u001b[0m\n",
            "\u001b[0;32m~/Python-Environments/tfenv2/lib/python3.7/site-packages/pandas/core/generic.py\u001b[0m in \u001b[0;36mto_csv\u001b[0;34m(self, path_or_buf, sep, na_rep, float_format, columns, header, index, index_label, mode, encoding, compression, quoting, quotechar, line_terminator, chunksize, date_format, doublequote, escapechar, decimal)\u001b[0m\n\u001b[1;32m   3226\u001b[0m             \u001b[0mdecimal\u001b[0m\u001b[0;34m=\u001b[0m\u001b[0mdecimal\u001b[0m\u001b[0;34m,\u001b[0m\u001b[0;34m\u001b[0m\u001b[0;34m\u001b[0m\u001b[0m\n\u001b[1;32m   3227\u001b[0m         )\n\u001b[0;32m-> 3228\u001b[0;31m         \u001b[0mformatter\u001b[0m\u001b[0;34m.\u001b[0m\u001b[0msave\u001b[0m\u001b[0;34m(\u001b[0m\u001b[0;34m)\u001b[0m\u001b[0;34m\u001b[0m\u001b[0;34m\u001b[0m\u001b[0m\n\u001b[0m\u001b[1;32m   3229\u001b[0m \u001b[0;34m\u001b[0m\u001b[0m\n\u001b[1;32m   3230\u001b[0m         \u001b[0;32mif\u001b[0m \u001b[0mpath_or_buf\u001b[0m \u001b[0;32mis\u001b[0m \u001b[0;32mNone\u001b[0m\u001b[0;34m:\u001b[0m\u001b[0;34m\u001b[0m\u001b[0;34m\u001b[0m\u001b[0m\n",
            "\u001b[0;32m~/Python-Environments/tfenv2/lib/python3.7/site-packages/pandas/io/formats/csvs.py\u001b[0m in \u001b[0;36msave\u001b[0;34m(self)\u001b[0m\n\u001b[1;32m    181\u001b[0m                 \u001b[0mself\u001b[0m\u001b[0;34m.\u001b[0m\u001b[0mmode\u001b[0m\u001b[0;34m,\u001b[0m\u001b[0;34m\u001b[0m\u001b[0;34m\u001b[0m\u001b[0m\n\u001b[1;32m    182\u001b[0m                 \u001b[0mencoding\u001b[0m\u001b[0;34m=\u001b[0m\u001b[0mself\u001b[0m\u001b[0;34m.\u001b[0m\u001b[0mencoding\u001b[0m\u001b[0;34m,\u001b[0m\u001b[0;34m\u001b[0m\u001b[0;34m\u001b[0m\u001b[0m\n\u001b[0;32m--> 183\u001b[0;31m                 \u001b[0mcompression\u001b[0m\u001b[0;34m=\u001b[0m\u001b[0mself\u001b[0m\u001b[0;34m.\u001b[0m\u001b[0mcompression\u001b[0m\u001b[0;34m,\u001b[0m\u001b[0;34m\u001b[0m\u001b[0;34m\u001b[0m\u001b[0m\n\u001b[0m\u001b[1;32m    184\u001b[0m             )\n\u001b[1;32m    185\u001b[0m             \u001b[0mclose\u001b[0m \u001b[0;34m=\u001b[0m \u001b[0;32mTrue\u001b[0m\u001b[0;34m\u001b[0m\u001b[0;34m\u001b[0m\u001b[0m\n",
            "\u001b[0;32m~/Python-Environments/tfenv2/lib/python3.7/site-packages/pandas/io/common.py\u001b[0m in \u001b[0;36m_get_handle\u001b[0;34m(path_or_buf, mode, encoding, compression, memory_map, is_text)\u001b[0m\n\u001b[1;32m    397\u001b[0m         \u001b[0;32mif\u001b[0m \u001b[0mencoding\u001b[0m\u001b[0;34m:\u001b[0m\u001b[0;34m\u001b[0m\u001b[0;34m\u001b[0m\u001b[0m\n\u001b[1;32m    398\u001b[0m             \u001b[0;31m# Encoding\u001b[0m\u001b[0;34m\u001b[0m\u001b[0;34m\u001b[0m\u001b[0;34m\u001b[0m\u001b[0m\n\u001b[0;32m--> 399\u001b[0;31m             \u001b[0mf\u001b[0m \u001b[0;34m=\u001b[0m \u001b[0mopen\u001b[0m\u001b[0;34m(\u001b[0m\u001b[0mpath_or_buf\u001b[0m\u001b[0;34m,\u001b[0m \u001b[0mmode\u001b[0m\u001b[0;34m,\u001b[0m \u001b[0mencoding\u001b[0m\u001b[0;34m=\u001b[0m\u001b[0mencoding\u001b[0m\u001b[0;34m,\u001b[0m \u001b[0mnewline\u001b[0m\u001b[0;34m=\u001b[0m\u001b[0;34m\"\"\u001b[0m\u001b[0;34m)\u001b[0m\u001b[0;34m\u001b[0m\u001b[0;34m\u001b[0m\u001b[0m\n\u001b[0m\u001b[1;32m    400\u001b[0m         \u001b[0;32melif\u001b[0m \u001b[0mis_text\u001b[0m\u001b[0;34m:\u001b[0m\u001b[0;34m\u001b[0m\u001b[0;34m\u001b[0m\u001b[0m\n\u001b[1;32m    401\u001b[0m             \u001b[0;31m# No explicit encoding\u001b[0m\u001b[0;34m\u001b[0m\u001b[0;34m\u001b[0m\u001b[0;34m\u001b[0m\u001b[0m\n",
            "\u001b[0;31mFileNotFoundError\u001b[0m: [Errno 2] No such file or directory: '/content/gdrive/My Drive/data/netc_O2.csv'"
          ]
        }
      ]
    },
    {
      "cell_type": "code",
      "metadata": {
        "colab_type": "code",
        "id": "KqiYyQDqP2Vq",
        "outputId": "b4d2c13c-ec0c-48fc-ccd1-a8bebc36ec93",
        "colab": {
          "base_uri": "https://localhost:8080/",
          "height": 35
        }
      },
      "source": [
        "np.mean(MAE_list_C)"
      ],
      "execution_count": 0,
      "outputs": [
        {
          "output_type": "execute_result",
          "data": {
            "text/plain": [
              "1.7852302603341024"
            ]
          },
          "metadata": {
            "tags": []
          },
          "execution_count": 185
        }
      ]
    },
    {
      "cell_type": "code",
      "metadata": {
        "colab_type": "code",
        "id": "nKhkjo7Wtk_k",
        "outputId": "8aaa38bf-5b67-4c20-8468-ccde92757795",
        "colab": {
          "base_uri": "https://localhost:8080/",
          "height": 35
        }
      },
      "source": [
        "np.mean(MAET_list_C_MTL)"
      ],
      "execution_count": 0,
      "outputs": [
        {
          "output_type": "execute_result",
          "data": {
            "text/plain": [
              "2.105622284124125"
            ]
          },
          "metadata": {
            "tags": []
          },
          "execution_count": 186
        }
      ]
    },
    {
      "cell_type": "code",
      "metadata": {
        "colab_type": "code",
        "id": "wML_1MgiIn3-",
        "colab": {}
      },
      "source": [
        "MAE_boxplot_C_flat = [item for sublist in MAE_boxplot_C for item in sublist]\n",
        "MAET_boxplot_C_MTL_flat = [item for sublist in MAET_boxplot_C_MTL for item in sublist]\n",
        "#type(MAE_boxplot_C)"
      ],
      "execution_count": 0,
      "outputs": []
    },
    {
      "cell_type": "code",
      "metadata": {
        "colab_type": "code",
        "id": "o60W8avLIZmv",
        "outputId": "fc55f5e4-dd8c-4601-b26e-78067e8c34c1",
        "colab": {
          "base_uri": "https://localhost:8080/",
          "height": 373
        }
      },
      "source": [
        "\n",
        "    \n",
        "plt.tight_layout()\n",
        "\n",
        "fig = plt.figure(figsize=(16, 5))\n",
        "\n",
        "\n",
        "\n",
        "ax = fig.add_subplot(1, 2, 1)\n",
        "\n",
        "\n",
        "sns.distplot(MAE_boxplot_C_flat, color = 'black', hist = False, label = 'AE$_{[O_2]}$ KDE')\n",
        "\n",
        "\n",
        "ax.legend( fontsize = 16)\n",
        "\n",
        "#plt.xticks(range(1,len(neta50_O2['MAE_xticks'])+1), neta50_O2['MAE_xticks'], size='small', rotation = 'vertical')\n",
        "\n",
        "#plt.grid()\n",
        "\n",
        "plt.ylabel('Counts (normalized)', fontsize = 16)\n",
        "plt.xlabel('AE$_{[O_2]}$ (% air)', fontsize = 16)\n",
        "plt.tick_params(labelsize=16)\n",
        "plt.ylim(0, 0.5)\n",
        "plt.xlim(0, 20)\n",
        "\n",
        "\n",
        "ax = fig.add_subplot(1, 2,2)\n",
        "# MAE_boxplot_C, MAE_list_C, MAE_xticks_C\n",
        "sns.distplot(MAET_boxplot_C_MTL_flat,  color = 'black', hist = False, label = 'Temperature KDE')\n",
        "    \n",
        "#plt.ylim(-0.2, 2.9)\n",
        "    \n",
        "#ax.text(1, 1.5, 'Value for $[O_2] = 100$ % Air', fontsize = 18)\n",
        "\n",
        "plt.xlabel('T (C)', fontsize = 16)\n",
        "plt.tick_params(labelsize=16)\n",
        "ax.legend( fontsize = 16)\n",
        "plt.ylim(0, 0.5)\n",
        "plt.xlim(0, 20)\n",
        "\n",
        "\n",
        "\n",
        "\n",
        "plt.show()\n",
        "\n",
        "#fig.savefig('/content/gdrive/My Drive/plot3.eps', format='eps', dpi=300,bbox_inches='tight')\n",
        "\n",
        "\n",
        "\n",
        "#fig.savefig('Figures/absolute_error_for_T_boxplots.eps', format='eps', dpi=300,bbox_inches='tight')"
      ],
      "execution_count": 0,
      "outputs": [
        {
          "output_type": "display_data",
          "data": {
            "text/plain": [
              "<Figure size 432x288 with 0 Axes>"
            ]
          },
          "metadata": {
            "tags": []
          }
        },
        {
          "output_type": "display_data",
          "data": {
            "image/png": "[encoded data removed]",
            "text/plain": [
              "<Figure size 1152x360 with 2 Axes>"
            ]
          },
          "metadata": {
            "tags": [],
            "needs_background": "light"
          }
        }
      ]
    },
    {
      "cell_type": "markdown",
      "metadata": {
        "colab_type": "text",
        "id": "m7C-IbK3ZvFw"
      },
      "source": [
        "# VERSIONS"
      ]
    },
    {
      "cell_type": "code",
      "metadata": {
        "colab_type": "code",
        "id": "WrPML1U5ZvFx",
        "colab": {}
      },
      "source": [
        "import tensorflow as tf\n",
        "from tensorflow.keras import layers\n",
        "\n",
        "print(tf.VERSION)\n",
        "print(tf.keras.__version__)"
      ],
      "execution_count": 0,
      "outputs": []
    },
    {
      "cell_type": "code",
      "metadata": {
        "colab_type": "code",
        "id": "wOiy_88tJv10",
        "colab": {}
      },
      "source": [
        "p"
      ],
      "execution_count": 0,
      "outputs": []
    }
  ]
}