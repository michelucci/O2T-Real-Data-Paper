{
 "cells": [
  {
   "cell_type": "markdown",
   "metadata": {
    "colab_type": "text",
    "id": "view-in-github"
   },
   "source": [
    "<a href=\"https://colab.research.google.com/github/michelucci/O2T-Real-Data-Paper/blob/master/notebooks/O2_prediction_model_Network_C_O2T_Paper_v3.ipynb\" target=\"_parent\"><img src=\"https://colab.research.google.com/assets/colab-badge.svg\" alt=\"Open In Colab\"/></a>"
   ]
  },
  {
   "cell_type": "markdown",
   "metadata": {
    "colab_type": "text",
    "id": "czCW0XAgZvEm"
   },
   "source": [
    "# Code related to the paper on the prediction of $[O2]$ and $T$ at the same time with MTL - Network C  \n",
    "\n",
    "Author: Umberto Michelucci\n",
    "\n",
    "**Version 3.0**\n",
    "\n",
    "\n",
    "## Dataset 1 -- $\\theta / 90$"
   ]
  },
  {
   "cell_type": "markdown",
   "metadata": {
    "colab_type": "text",
    "id": "6hnmirGd2Trf"
   },
   "source": [
    "We first import the libraries we need. Many are non necessary but are useful to write shorter code. For example one you have imported `keras` you don't need to `from tensorflow.keras.models import Sequential` but this makes some of the code shorter. In fact instead of writing `keras.models.Sequential()` you can simply use `Sequential()`."
   ]
  },
  {
   "cell_type": "code",
   "execution_count": 1,
   "metadata": {
    "colab": {
     "base_uri": "https://localhost:8080/",
     "height": 53
    },
    "colab_type": "code",
    "id": "2Tp3iYK_ZvEo",
    "outputId": "f980561f-3563-491c-b878-a40692af4e5e"
   },
   "outputs": [
    {
     "name": "stdout",
     "output_type": "stream",
     "text": [
      "2.1.0-rc1\n"
     ]
    }
   ],
   "source": [
    "# Basics\n",
    "import numpy as np\n",
    "import pandas as pd\n",
    "\n",
    "# for timing measurements\n",
    "import time\n",
    "\n",
    "# Only in Google Colab\n",
    "#%tensorflow_version 2.x\n",
    "\n",
    "import tensorflow as tf\n",
    "\n",
    "# Keras\n",
    "from tensorflow.keras.models import Sequential\n",
    "from tensorflow.keras.optimizers import SGD\n",
    "from tensorflow.keras.optimizers import Adam\n",
    "from tensorflow.keras.layers import Dense\n",
    "from tensorflow.keras import Model\n",
    "from tensorflow.keras import layers\n",
    "import tensorflow.keras as keras\n",
    "import tensorflow.keras.backend as K\n",
    "\n",
    "# Various\n",
    "from numpy import random\n",
    "from scipy.interpolate import interp1d\n",
    "\n",
    "# Plotting\n",
    "import matplotlib.pyplot as plt\n",
    "from matplotlib.lines import Line2D\n",
    "from matplotlib.patches import Patch\n",
    "import seaborn as sns\n",
    "\n",
    "\n",
    "\n",
    "print(tf.__version__)"
   ]
  },
  {
   "cell_type": "markdown",
   "metadata": {
    "colab_type": "text",
    "id": "QF-Rsiyz2Trj"
   },
   "source": [
    "# Input data load\n",
    "\n",
    "Depending if you are running this code on Google Colab or locally run the appropriate cells. Note that if you want to run the notebook on Colab, you will need to have the files in the appropriate directory. In particular you need\n",
    "\n",
    "`../data/train_data1.csv`\n",
    "\n",
    "`../data/train_targets1.csv`\n"
   ]
  },
  {
   "cell_type": "markdown",
   "metadata": {
    "colab_type": "text",
    "id": "gr8mzs4gZvEv"
   },
   "source": [
    "## Read the files (Google Drive)"
   ]
  },
  {
   "cell_type": "code",
   "execution_count": null,
   "metadata": {
    "colab": {
     "base_uri": "https://localhost:8080/",
     "height": 35
    },
    "colab_type": "code",
    "id": "ktBIU99yaC9x",
    "outputId": "870b1ef2-8065-47ea-bab6-490f6abb276b"
   },
   "outputs": [],
   "source": [
    "from google.colab import drive\n",
    "drive.mount('/content/gdrive')"
   ]
  },
  {
   "cell_type": "code",
   "execution_count": null,
   "metadata": {
    "colab": {
     "base_uri": "https://localhost:8080/",
     "height": 35
    },
    "colab_type": "code",
    "id": "EpTMRzu62jL7",
    "outputId": "d17ec5b2-2c74-42c5-9ee8-bc2235e022b4"
   },
   "outputs": [],
   "source": [
    "root_dir = \"/content/gdrive/My Drive/Datasets/O2TRealData\"\n",
    "!ls /content/gdrive/My\\ Drive/Datasets/O2TRealData"
   ]
  },
  {
   "cell_type": "markdown",
   "metadata": {
    "colab_type": "text",
    "id": "_jU_1csB2Trn"
   },
   "source": [
    "## Read the files (Google Drive)\n",
    "\n",
    "Note that this line, **at the moment**, is exactly the same as the local one, since the location of the files is the same. This may change depending on where the files are saved in google drive. "
   ]
  },
  {
   "cell_type": "code",
   "execution_count": null,
   "metadata": {
    "colab": {},
    "colab_type": "code",
    "id": "585dLmzDZvEw"
   },
   "outputs": [],
   "source": [
    "train_data_df = pd.read_csv(root_dir + '/train_data1.csv', header = None)\n",
    "train_target_df = pd.read_csv(root_dir + '/train_targets1.csv', names=['T', 'O2'], header = None)"
   ]
  },
  {
   "cell_type": "markdown",
   "metadata": {
    "colab_type": "text",
    "id": "9goVSn3u2Trr"
   },
   "source": [
    "## Read the files (Local files)"
   ]
  },
  {
   "cell_type": "code",
   "execution_count": 2,
   "metadata": {
    "colab": {
     "base_uri": "https://localhost:8080/",
     "height": 411
    },
    "colab_type": "code",
    "id": "vfNicw2l2Trt",
    "outputId": "8bcda8d2-4374-4651-a813-1e6d41967021"
   },
   "outputs": [],
   "source": [
    "train_data_df = pd.read_csv('../data/train_data1.csv', header = None)\n",
    "train_target_df = pd.read_csv('../data/train_targets1.csv', names=['T', 'O2'], header = None)"
   ]
  },
  {
   "cell_type": "code",
   "execution_count": 3,
   "metadata": {
    "colab": {
     "base_uri": "https://localhost:8080/",
     "height": 35
    },
    "colab_type": "code",
    "id": "res0tl3S2Trw",
    "outputId": "27652957-a4c9-488e-b4c1-13d5f602d66e"
   },
   "outputs": [
    {
     "data": {
      "text/plain": [
       "(3780, 50)"
      ]
     },
     "execution_count": 3,
     "metadata": {},
     "output_type": "execute_result"
    }
   ],
   "source": [
    "train_data_df.shape"
   ]
  },
  {
   "cell_type": "code",
   "execution_count": 4,
   "metadata": {
    "colab": {
     "base_uri": "https://localhost:8080/",
     "height": 224
    },
    "colab_type": "code",
    "id": "nQhfDxlDZvE0",
    "outputId": "45cab1d7-19ae-46c6-e86a-b8600560a3a3"
   },
   "outputs": [
    {
     "data": {
      "text/html": [
       "<div>\n",
       "<style scoped>\n",
       "    .dataframe tbody tr th:only-of-type {\n",
       "        vertical-align: middle;\n",
       "    }\n",
       "\n",
       "    .dataframe tbody tr th {\n",
       "        vertical-align: top;\n",
       "    }\n",
       "\n",
       "    .dataframe thead th {\n",
       "        text-align: right;\n",
       "    }\n",
       "</style>\n",
       "<table border=\"1\" class=\"dataframe\">\n",
       "  <thead>\n",
       "    <tr style=\"text-align: right;\">\n",
       "      <th></th>\n",
       "      <th>0</th>\n",
       "      <th>1</th>\n",
       "      <th>2</th>\n",
       "      <th>3</th>\n",
       "      <th>4</th>\n",
       "      <th>5</th>\n",
       "      <th>6</th>\n",
       "      <th>7</th>\n",
       "      <th>8</th>\n",
       "      <th>9</th>\n",
       "      <th>...</th>\n",
       "      <th>40</th>\n",
       "      <th>41</th>\n",
       "      <th>42</th>\n",
       "      <th>43</th>\n",
       "      <th>44</th>\n",
       "      <th>45</th>\n",
       "      <th>46</th>\n",
       "      <th>47</th>\n",
       "      <th>48</th>\n",
       "      <th>49</th>\n",
       "    </tr>\n",
       "  </thead>\n",
       "  <tbody>\n",
       "    <tr>\n",
       "      <th>0</th>\n",
       "      <td>-0.026933</td>\n",
       "      <td>-0.040467</td>\n",
       "      <td>-0.053667</td>\n",
       "      <td>-0.067067</td>\n",
       "      <td>-0.080400</td>\n",
       "      <td>-0.093333</td>\n",
       "      <td>-0.106267</td>\n",
       "      <td>-0.119067</td>\n",
       "      <td>-0.131733</td>\n",
       "      <td>-0.162200</td>\n",
       "      <td>...</td>\n",
       "      <td>-0.636400</td>\n",
       "      <td>-0.643267</td>\n",
       "      <td>-0.650067</td>\n",
       "      <td>-0.656533</td>\n",
       "      <td>-0.6628</td>\n",
       "      <td>-0.685600</td>\n",
       "      <td>-0.705667</td>\n",
       "      <td>-0.723333</td>\n",
       "      <td>-0.739133</td>\n",
       "      <td>-0.753067</td>\n",
       "    </tr>\n",
       "    <tr>\n",
       "      <th>1</th>\n",
       "      <td>-0.027000</td>\n",
       "      <td>-0.040400</td>\n",
       "      <td>-0.053800</td>\n",
       "      <td>-0.067133</td>\n",
       "      <td>-0.080333</td>\n",
       "      <td>-0.093333</td>\n",
       "      <td>-0.106267</td>\n",
       "      <td>-0.119000</td>\n",
       "      <td>-0.131600</td>\n",
       "      <td>-0.162133</td>\n",
       "      <td>...</td>\n",
       "      <td>-0.636333</td>\n",
       "      <td>-0.643267</td>\n",
       "      <td>-0.650067</td>\n",
       "      <td>-0.656533</td>\n",
       "      <td>-0.6628</td>\n",
       "      <td>-0.685600</td>\n",
       "      <td>-0.705667</td>\n",
       "      <td>-0.723333</td>\n",
       "      <td>-0.739133</td>\n",
       "      <td>-0.753067</td>\n",
       "    </tr>\n",
       "    <tr>\n",
       "      <th>2</th>\n",
       "      <td>-0.027000</td>\n",
       "      <td>-0.040467</td>\n",
       "      <td>-0.053667</td>\n",
       "      <td>-0.067133</td>\n",
       "      <td>-0.080333</td>\n",
       "      <td>-0.093333</td>\n",
       "      <td>-0.106200</td>\n",
       "      <td>-0.119000</td>\n",
       "      <td>-0.131667</td>\n",
       "      <td>-0.162200</td>\n",
       "      <td>...</td>\n",
       "      <td>-0.636467</td>\n",
       "      <td>-0.643400</td>\n",
       "      <td>-0.650200</td>\n",
       "      <td>-0.656533</td>\n",
       "      <td>-0.6628</td>\n",
       "      <td>-0.685600</td>\n",
       "      <td>-0.705667</td>\n",
       "      <td>-0.723467</td>\n",
       "      <td>-0.739133</td>\n",
       "      <td>-0.753067</td>\n",
       "    </tr>\n",
       "    <tr>\n",
       "      <th>3</th>\n",
       "      <td>-0.027000</td>\n",
       "      <td>-0.040400</td>\n",
       "      <td>-0.053867</td>\n",
       "      <td>-0.067267</td>\n",
       "      <td>-0.080267</td>\n",
       "      <td>-0.093400</td>\n",
       "      <td>-0.106267</td>\n",
       "      <td>-0.119000</td>\n",
       "      <td>-0.131733</td>\n",
       "      <td>-0.162200</td>\n",
       "      <td>...</td>\n",
       "      <td>-0.636467</td>\n",
       "      <td>-0.643400</td>\n",
       "      <td>-0.650200</td>\n",
       "      <td>-0.656667</td>\n",
       "      <td>-0.6628</td>\n",
       "      <td>-0.685600</td>\n",
       "      <td>-0.705667</td>\n",
       "      <td>-0.723333</td>\n",
       "      <td>-0.739133</td>\n",
       "      <td>-0.753067</td>\n",
       "    </tr>\n",
       "    <tr>\n",
       "      <th>4</th>\n",
       "      <td>-0.027067</td>\n",
       "      <td>-0.040467</td>\n",
       "      <td>-0.053733</td>\n",
       "      <td>-0.067133</td>\n",
       "      <td>-0.080400</td>\n",
       "      <td>-0.093333</td>\n",
       "      <td>-0.106333</td>\n",
       "      <td>-0.119067</td>\n",
       "      <td>-0.131667</td>\n",
       "      <td>-0.162333</td>\n",
       "      <td>...</td>\n",
       "      <td>-0.636467</td>\n",
       "      <td>-0.643400</td>\n",
       "      <td>-0.650133</td>\n",
       "      <td>-0.656600</td>\n",
       "      <td>-0.6628</td>\n",
       "      <td>-0.685733</td>\n",
       "      <td>-0.705667</td>\n",
       "      <td>-0.723467</td>\n",
       "      <td>-0.739133</td>\n",
       "      <td>-0.753267</td>\n",
       "    </tr>\n",
       "  </tbody>\n",
       "</table>\n",
       "<p>5 rows × 50 columns</p>\n",
       "</div>"
      ],
      "text/plain": [
       "         0         1         2         3         4         5         6   \\\n",
       "0 -0.026933 -0.040467 -0.053667 -0.067067 -0.080400 -0.093333 -0.106267   \n",
       "1 -0.027000 -0.040400 -0.053800 -0.067133 -0.080333 -0.093333 -0.106267   \n",
       "2 -0.027000 -0.040467 -0.053667 -0.067133 -0.080333 -0.093333 -0.106200   \n",
       "3 -0.027000 -0.040400 -0.053867 -0.067267 -0.080267 -0.093400 -0.106267   \n",
       "4 -0.027067 -0.040467 -0.053733 -0.067133 -0.080400 -0.093333 -0.106333   \n",
       "\n",
       "         7         8         9   ...        40        41        42        43  \\\n",
       "0 -0.119067 -0.131733 -0.162200  ... -0.636400 -0.643267 -0.650067 -0.656533   \n",
       "1 -0.119000 -0.131600 -0.162133  ... -0.636333 -0.643267 -0.650067 -0.656533   \n",
       "2 -0.119000 -0.131667 -0.162200  ... -0.636467 -0.643400 -0.650200 -0.656533   \n",
       "3 -0.119000 -0.131733 -0.162200  ... -0.636467 -0.643400 -0.650200 -0.656667   \n",
       "4 -0.119067 -0.131667 -0.162333  ... -0.636467 -0.643400 -0.650133 -0.656600   \n",
       "\n",
       "       44        45        46        47        48        49  \n",
       "0 -0.6628 -0.685600 -0.705667 -0.723333 -0.739133 -0.753067  \n",
       "1 -0.6628 -0.685600 -0.705667 -0.723333 -0.739133 -0.753067  \n",
       "2 -0.6628 -0.685600 -0.705667 -0.723467 -0.739133 -0.753067  \n",
       "3 -0.6628 -0.685600 -0.705667 -0.723333 -0.739133 -0.753067  \n",
       "4 -0.6628 -0.685733 -0.705667 -0.723467 -0.739133 -0.753267  \n",
       "\n",
       "[5 rows x 50 columns]"
      ]
     },
     "execution_count": 4,
     "metadata": {},
     "output_type": "execute_result"
    }
   ],
   "source": [
    "train_data_df.head()"
   ]
  },
  {
   "cell_type": "code",
   "execution_count": 5,
   "metadata": {
    "colab": {
     "base_uri": "https://localhost:8080/",
     "height": 204
    },
    "colab_type": "code",
    "id": "pxznLqEdaYGd",
    "outputId": "2e36ce99-9ddb-4348-fc40-afa5a16fa3ee"
   },
   "outputs": [
    {
     "data": {
      "text/html": [
       "<div>\n",
       "<style scoped>\n",
       "    .dataframe tbody tr th:only-of-type {\n",
       "        vertical-align: middle;\n",
       "    }\n",
       "\n",
       "    .dataframe tbody tr th {\n",
       "        vertical-align: top;\n",
       "    }\n",
       "\n",
       "    .dataframe thead th {\n",
       "        text-align: right;\n",
       "    }\n",
       "</style>\n",
       "<table border=\"1\" class=\"dataframe\">\n",
       "  <thead>\n",
       "    <tr style=\"text-align: right;\">\n",
       "      <th></th>\n",
       "      <th>T</th>\n",
       "      <th>O2</th>\n",
       "    </tr>\n",
       "  </thead>\n",
       "  <tbody>\n",
       "    <tr>\n",
       "      <th>0</th>\n",
       "      <td>20.0</td>\n",
       "      <td>35.0</td>\n",
       "    </tr>\n",
       "    <tr>\n",
       "      <th>1</th>\n",
       "      <td>20.0</td>\n",
       "      <td>35.0</td>\n",
       "    </tr>\n",
       "    <tr>\n",
       "      <th>2</th>\n",
       "      <td>20.0</td>\n",
       "      <td>35.0</td>\n",
       "    </tr>\n",
       "    <tr>\n",
       "      <th>3</th>\n",
       "      <td>20.0</td>\n",
       "      <td>35.0</td>\n",
       "    </tr>\n",
       "    <tr>\n",
       "      <th>4</th>\n",
       "      <td>20.0</td>\n",
       "      <td>35.0</td>\n",
       "    </tr>\n",
       "  </tbody>\n",
       "</table>\n",
       "</div>"
      ],
      "text/plain": [
       "      T    O2\n",
       "0  20.0  35.0\n",
       "1  20.0  35.0\n",
       "2  20.0  35.0\n",
       "3  20.0  35.0\n",
       "4  20.0  35.0"
      ]
     },
     "execution_count": 5,
     "metadata": {},
     "output_type": "execute_result"
    }
   ],
   "source": [
    "train_target_df.head()"
   ]
  },
  {
   "cell_type": "markdown",
   "metadata": {
    "colab_type": "text",
    "id": "kgXPSibJ2Tr4"
   },
   "source": [
    "Note that `T` is measured in degree centigrade ($^\\circ \\ C$), and the oxygen concentration $[O_2]$ in % Air. We normlize to have a maximum of one. This would not be strictly necessary."
   ]
  },
  {
   "cell_type": "code",
   "execution_count": 6,
   "metadata": {
    "colab": {},
    "colab_type": "code",
    "id": "5_8nAYJFZvE2"
   },
   "outputs": [],
   "source": [
    "train_target_df[['O2']] = train_target_df[['O2']]/100.0\n",
    "train_target_df[['T']] = train_target_df[['T']]/45.0"
   ]
  },
  {
   "cell_type": "markdown",
   "metadata": {
    "colab_type": "text",
    "id": "dHMEf3fIZvE7"
   },
   "source": [
    "Note that the values for $T$ are going from 0 to 1. To obtin the actual temperature in Celsius degrees, you need to multiply by $45$."
   ]
  },
  {
   "cell_type": "code",
   "execution_count": 7,
   "metadata": {
    "colab": {
     "base_uri": "https://localhost:8080/",
     "height": 71
    },
    "colab_type": "code",
    "id": "6lGCP7m5ZvE7",
    "outputId": "832df463-b150-4244-ca54-f52ff6704ee9"
   },
   "outputs": [
    {
     "name": "stdout",
     "output_type": "stream",
     "text": [
      "[0.44444444 0.55555556 0.22222222 0.66666667 0.77777778 0.33333333\n",
      " 0.88888889 1.         0.11111111]\n",
      "[20. 25. 10. 30. 35. 15. 40. 45.  5.]\n"
     ]
    }
   ],
   "source": [
    "print(train_target_df['T'].unique())\n",
    "print(train_target_df['T'].unique()*45)"
   ]
  },
  {
   "cell_type": "markdown",
   "metadata": {
    "colab_type": "text",
    "id": "ZcPxObX6ZvE9"
   },
   "source": [
    "## Dataset Dimensions Checks"
   ]
  },
  {
   "cell_type": "code",
   "execution_count": 8,
   "metadata": {
    "colab": {
     "base_uri": "https://localhost:8080/",
     "height": 35
    },
    "colab_type": "code",
    "id": "iq3EzwubZvE-",
    "outputId": "e5623559-bca0-4d3f-8771-21071b9b4786"
   },
   "outputs": [
    {
     "data": {
      "text/plain": [
       "(3780, 50)"
      ]
     },
     "execution_count": 8,
     "metadata": {},
     "output_type": "execute_result"
    }
   ],
   "source": [
    "train_data_df.shape"
   ]
  },
  {
   "cell_type": "code",
   "execution_count": 9,
   "metadata": {
    "colab": {
     "base_uri": "https://localhost:8080/",
     "height": 35
    },
    "colab_type": "code",
    "id": "DrV36zyBZvFB",
    "outputId": "13453c92-55e5-4355-c4ce-9a45b35560ff"
   },
   "outputs": [
    {
     "data": {
      "text/plain": [
       "(420, 2)"
      ]
     },
     "execution_count": 9,
     "metadata": {},
     "output_type": "execute_result"
    }
   ],
   "source": [
    "train_target_df[train_target_df['T'] == 5./45.].shape"
   ]
  },
  {
   "cell_type": "markdown",
   "metadata": {
    "colab_type": "text",
    "id": "MBa0TH6rZvFD"
   },
   "source": [
    "To check how many values we have for each temperature we can do easily with ```groupby()```."
   ]
  },
  {
   "cell_type": "code",
   "execution_count": 10,
   "metadata": {
    "colab": {
     "base_uri": "https://localhost:8080/",
     "height": 359
    },
    "colab_type": "code",
    "id": "kkXJq1UDZvFD",
    "outputId": "c9060ef6-fe19-41ad-c1d5-d88526120035"
   },
   "outputs": [
    {
     "data": {
      "text/html": [
       "<div>\n",
       "<style scoped>\n",
       "    .dataframe tbody tr th:only-of-type {\n",
       "        vertical-align: middle;\n",
       "    }\n",
       "\n",
       "    .dataframe tbody tr th {\n",
       "        vertical-align: top;\n",
       "    }\n",
       "\n",
       "    .dataframe thead th {\n",
       "        text-align: right;\n",
       "    }\n",
       "</style>\n",
       "<table border=\"1\" class=\"dataframe\">\n",
       "  <thead>\n",
       "    <tr style=\"text-align: right;\">\n",
       "      <th></th>\n",
       "      <th>O2</th>\n",
       "    </tr>\n",
       "    <tr>\n",
       "      <th>T</th>\n",
       "      <th></th>\n",
       "    </tr>\n",
       "  </thead>\n",
       "  <tbody>\n",
       "    <tr>\n",
       "      <th>0.111111</th>\n",
       "      <td>420</td>\n",
       "    </tr>\n",
       "    <tr>\n",
       "      <th>0.222222</th>\n",
       "      <td>420</td>\n",
       "    </tr>\n",
       "    <tr>\n",
       "      <th>0.333333</th>\n",
       "      <td>420</td>\n",
       "    </tr>\n",
       "    <tr>\n",
       "      <th>0.444444</th>\n",
       "      <td>420</td>\n",
       "    </tr>\n",
       "    <tr>\n",
       "      <th>0.555556</th>\n",
       "      <td>420</td>\n",
       "    </tr>\n",
       "    <tr>\n",
       "      <th>0.666667</th>\n",
       "      <td>420</td>\n",
       "    </tr>\n",
       "    <tr>\n",
       "      <th>0.777778</th>\n",
       "      <td>420</td>\n",
       "    </tr>\n",
       "    <tr>\n",
       "      <th>0.888889</th>\n",
       "      <td>420</td>\n",
       "    </tr>\n",
       "    <tr>\n",
       "      <th>1.000000</th>\n",
       "      <td>420</td>\n",
       "    </tr>\n",
       "  </tbody>\n",
       "</table>\n",
       "</div>"
      ],
      "text/plain": [
       "           O2\n",
       "T            \n",
       "0.111111  420\n",
       "0.222222  420\n",
       "0.333333  420\n",
       "0.444444  420\n",
       "0.555556  420\n",
       "0.666667  420\n",
       "0.777778  420\n",
       "0.888889  420\n",
       "1.000000  420"
      ]
     },
     "execution_count": 10,
     "metadata": {},
     "output_type": "execute_result"
    }
   ],
   "source": [
    "train_target_df.groupby('T').count()"
   ]
  },
  {
   "cell_type": "markdown",
   "metadata": {
    "colab_type": "text",
    "id": "6oK-zfT_ZvFF"
   },
   "source": [
    "Each of the temperature has 420 observations."
   ]
  },
  {
   "cell_type": "code",
   "execution_count": 11,
   "metadata": {
    "colab": {
     "base_uri": "https://localhost:8080/",
     "height": 359
    },
    "colab_type": "code",
    "id": "-QEgl7jX2TsJ",
    "outputId": "87137488-486b-4fa0-95ca-44049ced4105"
   },
   "outputs": [
    {
     "data": {
      "text/html": [
       "<div>\n",
       "<style scoped>\n",
       "    .dataframe tbody tr th:only-of-type {\n",
       "        vertical-align: middle;\n",
       "    }\n",
       "\n",
       "    .dataframe tbody tr th {\n",
       "        vertical-align: top;\n",
       "    }\n",
       "\n",
       "    .dataframe thead th {\n",
       "        text-align: right;\n",
       "    }\n",
       "</style>\n",
       "<table border=\"1\" class=\"dataframe\">\n",
       "  <thead>\n",
       "    <tr style=\"text-align: right;\">\n",
       "      <th></th>\n",
       "      <th>T</th>\n",
       "      <th>O2</th>\n",
       "    </tr>\n",
       "    <tr>\n",
       "      <th>T</th>\n",
       "      <th></th>\n",
       "      <th></th>\n",
       "    </tr>\n",
       "  </thead>\n",
       "  <tbody>\n",
       "    <tr>\n",
       "      <th>0.111111</th>\n",
       "      <td>1</td>\n",
       "      <td>21</td>\n",
       "    </tr>\n",
       "    <tr>\n",
       "      <th>0.222222</th>\n",
       "      <td>1</td>\n",
       "      <td>21</td>\n",
       "    </tr>\n",
       "    <tr>\n",
       "      <th>0.333333</th>\n",
       "      <td>1</td>\n",
       "      <td>21</td>\n",
       "    </tr>\n",
       "    <tr>\n",
       "      <th>0.444444</th>\n",
       "      <td>1</td>\n",
       "      <td>21</td>\n",
       "    </tr>\n",
       "    <tr>\n",
       "      <th>0.555556</th>\n",
       "      <td>1</td>\n",
       "      <td>21</td>\n",
       "    </tr>\n",
       "    <tr>\n",
       "      <th>0.666667</th>\n",
       "      <td>1</td>\n",
       "      <td>21</td>\n",
       "    </tr>\n",
       "    <tr>\n",
       "      <th>0.777778</th>\n",
       "      <td>1</td>\n",
       "      <td>21</td>\n",
       "    </tr>\n",
       "    <tr>\n",
       "      <th>0.888889</th>\n",
       "      <td>1</td>\n",
       "      <td>21</td>\n",
       "    </tr>\n",
       "    <tr>\n",
       "      <th>1.000000</th>\n",
       "      <td>1</td>\n",
       "      <td>21</td>\n",
       "    </tr>\n",
       "  </tbody>\n",
       "</table>\n",
       "</div>"
      ],
      "text/plain": [
       "          T  O2\n",
       "T              \n",
       "0.111111  1  21\n",
       "0.222222  1  21\n",
       "0.333333  1  21\n",
       "0.444444  1  21\n",
       "0.555556  1  21\n",
       "0.666667  1  21\n",
       "0.777778  1  21\n",
       "0.888889  1  21\n",
       "1.000000  1  21"
      ]
     },
     "execution_count": 11,
     "metadata": {},
     "output_type": "execute_result"
    }
   ],
   "source": [
    "train_target_df.groupby('T').nunique()"
   ]
  },
  {
   "cell_type": "markdown",
   "metadata": {
    "colab_type": "text",
    "id": "VTgsBFfm2TsL"
   },
   "source": [
    "And each temperature has 21 unique values of oxygen concentration."
   ]
  },
  {
   "cell_type": "code",
   "execution_count": 12,
   "metadata": {
    "colab": {
     "base_uri": "https://localhost:8080/",
     "height": 53
    },
    "colab_type": "code",
    "id": "FJOpZ-nj2TsM",
    "outputId": "4ccbc16f-4fb4-48e1-ea67-6bb776915f19"
   },
   "outputs": [
    {
     "data": {
      "text/plain": [
       "array([  0.,   5.,  10.,  15.,  20.,  25.,  30.,  35.,  40.,  45.,  50.,\n",
       "        55.,  60.,  65.,  70.,  75.,  80.,  85.,  90.,  95., 100.])"
      ]
     },
     "execution_count": 12,
     "metadata": {},
     "output_type": "execute_result"
    }
   ],
   "source": [
    "np.sort(train_target_df[train_target_df['T'] == 5./45.]['O2'].unique())*100"
   ]
  },
  {
   "cell_type": "markdown",
   "metadata": {
    "colab_type": "text",
    "id": "fSqYdC5uZvFF"
   },
   "source": [
    "## Reset the index"
   ]
  },
  {
   "cell_type": "code",
   "execution_count": 13,
   "metadata": {
    "colab": {},
    "colab_type": "code",
    "id": "30duZuryZvFF"
   },
   "outputs": [],
   "source": [
    "train_data_df = train_data_df.reset_index(drop = True);\n",
    "train_target_df = train_target_df.reset_index(drop = True);"
   ]
  },
  {
   "cell_type": "markdown",
   "metadata": {
    "colab_type": "text",
    "id": "w72f8KBRZvFG"
   },
   "source": [
    "The unique values of the temperature ($T$) are, as expected"
   ]
  },
  {
   "cell_type": "code",
   "execution_count": 14,
   "metadata": {
    "colab": {
     "base_uri": "https://localhost:8080/",
     "height": 35
    },
    "colab_type": "code",
    "id": "YdlvVhd6ZvFH",
    "outputId": "221f63b2-5924-4c5d-c203-458ef2edcc21"
   },
   "outputs": [
    {
     "data": {
      "text/plain": [
       "array([ 5., 10., 15., 20., 25., 30., 35., 40., 45.])"
      ]
     },
     "execution_count": 14,
     "metadata": {},
     "output_type": "execute_result"
    }
   ],
   "source": [
    "np.unique(train_target_df['T'])*45"
   ]
  },
  {
   "cell_type": "markdown",
   "metadata": {
    "colab_type": "text",
    "id": "_AGqcSlqZvFI"
   },
   "source": [
    "# Frequency values"
   ]
  },
  {
   "cell_type": "code",
   "execution_count": 15,
   "metadata": {
    "colab": {},
    "colab_type": "code",
    "id": "j6DEKz4GZvFI"
   },
   "outputs": [],
   "source": [
    "wred = [  200.,   300.,   400.,   500.,   600.,   700.,   800.,   900.,\n",
    "        1000.,  1250.,  1500.,  1750.,  2000.,  2250.,  2500.,  2750.,\n",
    "        3000.,  3250.,  3500.,  3750.,  4000.,  4250.,  4500.,  4750.,\n",
    "        5000.,  5250.,  5500.,  5750.,  6000.,  6250.,  6500.,  6750.,\n",
    "        7000.,  7250.,  7500.,  7750.,  8000.,  8250.,  8500.,  8750.,\n",
    "        9000.,  9250.,  9500.,  9750., 10000., 11000., 12000., 13000.,\n",
    "       14000., 15000.]"
   ]
  },
  {
   "cell_type": "markdown",
   "metadata": {
    "colab_type": "text",
    "id": "H3moo3oEZvFJ"
   },
   "source": [
    "# Dataset split"
   ]
  },
  {
   "cell_type": "code",
   "execution_count": 16,
   "metadata": {
    "colab": {},
    "colab_type": "code",
    "id": "syS1hclTZvFK"
   },
   "outputs": [],
   "source": [
    "np.random.seed(42)\n",
    "rnd = np.random.rand(len(train_target_df)) < 0.8"
   ]
  },
  {
   "cell_type": "markdown",
   "metadata": {
    "colab_type": "text",
    "id": "Dw1JEWMH2Tsa"
   },
   "source": [
    "Note that the values of $\\theta$ are negative in the original dataset, and therefore we convert it to positive. This was a test to see if learning was more efficient. A complete comparison has not have been done and is not clear if this really brings benefits. At the moment the working hypothesis is that positive values works better."
   ]
  },
  {
   "cell_type": "code",
   "execution_count": 17,
   "metadata": {
    "colab": {},
    "colab_type": "code",
    "id": "7Kt_BJZFZvFL"
   },
   "outputs": [],
   "source": [
    "data_train = -train_data_df[rnd]\n",
    "data_dev = -train_data_df[~rnd]\n",
    "targets_train = train_target_df[rnd]\n",
    "targets_dev = train_target_df[~rnd]"
   ]
  },
  {
   "cell_type": "markdown",
   "metadata": {
    "colab_type": "text",
    "id": "ZQo6dWSZ2Tsd"
   },
   "source": [
    "Since the inputs are measurements of a phase divided by 90, the values will remain below 1."
   ]
  },
  {
   "cell_type": "code",
   "execution_count": 18,
   "metadata": {
    "colab": {
     "base_uri": "https://localhost:8080/",
     "height": 53
    },
    "colab_type": "code",
    "id": "04MKZ6ak2Tsd",
    "outputId": "cbc33c67-ea7b-4296-b794-24266c758395"
   },
   "outputs": [
    {
     "name": "stdout",
     "output_type": "stream",
     "text": [
      "0.8895333333333335\n",
      "0.015\n"
     ]
    }
   ],
   "source": [
    "print(np.max(np.max(data_train)))\n",
    "print(np.min(np.min(data_train)))"
   ]
  },
  {
   "cell_type": "code",
   "execution_count": 19,
   "metadata": {
    "colab": {
     "base_uri": "https://localhost:8080/",
     "height": 53
    },
    "colab_type": "code",
    "id": "BwflCkBrZvFL",
    "outputId": "15571a04-1cfe-4b47-a6d2-9b65cea3f0be"
   },
   "outputs": [
    {
     "name": "stdout",
     "output_type": "stream",
     "text": [
      "Number of training data observations is  (3024, 50)\n",
      "Number of dev      data observations is  (756, 50)\n"
     ]
    }
   ],
   "source": [
    "print('Number of training data observations is ', data_train.shape)\n",
    "print('Number of dev      data observations is ', data_dev.shape)"
   ]
  },
  {
   "cell_type": "markdown",
   "metadata": {
    "colab_type": "text",
    "id": "sHOTP-_C2Tsh"
   },
   "source": [
    "# Plot 1"
   ]
  },
  {
   "cell_type": "markdown",
   "metadata": {
    "colab_type": "text",
    "id": "Q9OEgp9q2Tsi"
   },
   "source": [
    "Let's check some data observations to get an idea of how they looks like."
   ]
  },
  {
   "cell_type": "code",
   "execution_count": 22,
   "metadata": {
    "colab": {
     "base_uri": "https://localhost:8080/",
     "height": 71
    },
    "colab_type": "code",
    "id": "ZFLtfsMu2Tsj",
    "outputId": "9a2a41c9-b2e0-4a29-aeaf-d79ab4a8d7db"
   },
   "outputs": [
    {
     "data": {
      "text/plain": [
       "T     0.111111\n",
       "O2    0.050000\n",
       "Name: 1760, dtype: float64"
      ]
     },
     "execution_count": 22,
     "metadata": {},
     "output_type": "execute_result"
    }
   ],
   "source": [
    "train_target_df[(train_target_df['T'] == 5./45.) & (train_target_df['O2'] == 5./100.)].iloc[0]"
   ]
  },
  {
   "cell_type": "code",
   "execution_count": 23,
   "metadata": {
    "colab": {
     "base_uri": "https://localhost:8080/",
     "height": 344
    },
    "colab_type": "code",
    "id": "bm_2ckU62Tsl",
    "outputId": "f0bc7f9a-3915-4e53-d02c-1ba560b55f5a"
   },
   "outputs": [
    {
     "data": {
      "image/png": "[encoded data removed]",
      "text/plain": [
       "<Figure size 1152x360 with 2 Axes>"
      ]
     },
     "metadata": {
      "needs_background": "light"
     },
     "output_type": "display_data"
    }
   ],
   "source": [
    "fig = plt.figure(figsize=(16, 5))\n",
    "\n",
    "\n",
    "\n",
    "ax = fig.add_subplot(1, 2, 1)\n",
    "\n",
    "ax.plot(wred, -train_data_df[(train_target_df['T'] == 5./45.) & (train_target_df['O2'] == 5./100.)].iloc[0], label = '$T=5, [O_2]=5 \\%$' )\n",
    "ax.plot(wred, -train_data_df[(train_target_df['T'] == 5./45.) & (train_target_df['O2'] == 25./100.)].iloc[0], label = '$T=5, [O_2]=25 \\%$' )\n",
    "ax.plot(wred, -train_data_df[(train_target_df['T'] == 5./45.) & (train_target_df['O2'] == 45./100.)].iloc[0], label = '$T=5, [O_2]=45 \\%$' )\n",
    "ax.legend(fontsize = 16)\n",
    "ax.tick_params(labelsize=16)\n",
    "plt.xlabel ('Frequency (Hz)', fontsize = 16)\n",
    "plt.ylabel (r'$\\theta / 90$', fontsize = 16)\n",
    "\n",
    "\n",
    "ax2 = fig.add_subplot(1, 2, 2)\n",
    "\n",
    "\n",
    "ax2.plot(wred, -train_data_df[(train_target_df['T'] == 5./45.) & (train_target_df['O2'] == 5./100.)].iloc[0], label = '$T=5, [O_2]=5 \\%$' )\n",
    "ax2.plot(wred, -train_data_df[(train_target_df['T'] == 25./45.) & (train_target_df['O2'] == 5./100.)].iloc[0], label = '$T=25, [O_2]=5 \\%$' )\n",
    "ax2.plot(wred, -train_data_df[(train_target_df['T'] == 45./45.) & (train_target_df['O2'] == 5./100.)].iloc[0], label = '$T=45, [O_2]=5 \\%$' )\n",
    "ax2.legend(fontsize = 16)\n",
    "ax2.tick_params(labelsize=16)\n",
    "plt.xlabel ('Frequency (Hz)', fontsize = 16)\n",
    "plt.ylabel (r'$\\theta / 90$', fontsize = 16)\n",
    "plt.show()"
   ]
  },
  {
   "cell_type": "code",
   "execution_count": 24,
   "metadata": {
    "colab": {
     "base_uri": "https://localhost:8080/",
     "height": 307
    },
    "colab_type": "code",
    "id": "lgTN9TFn2Tso",
    "outputId": "1a8d8107-accd-413c-fdf4-e1c548aaca0c"
   },
   "outputs": [
    {
     "data": {
      "text/plain": [
       "Text(0, 0.5, '$\\\\theta / 90$')"
      ]
     },
     "execution_count": 24,
     "metadata": {},
     "output_type": "execute_result"
    },
    {
     "data": {
      "image/png": "[encoded data removed]",
      "text/plain": [
       "<Figure size 432x288 with 1 Axes>"
      ]
     },
     "metadata": {
      "needs_background": "light"
     },
     "output_type": "display_data"
    }
   ],
   "source": [
    "plt.plot(wred, -train_data_df[(train_target_df['T'] == 5./45.) & (train_target_df['O2'] == 5./100.)].iloc[0], label = '$T=5, [O_2]=5 \\%$' )\n",
    "plt.plot(wred, -train_data_df[(train_target_df['T'] == 15./45.) & (train_target_df['O2'] == 5./100.)].iloc[0], label = '$T=15, [O_2]=5 \\%$' )\n",
    "#plt.plot(wred, -train_data_df[(train_target_df['T'] == 5./45.) & (train_target_df['O2'] == 45./100.)].iloc[0], label = '$T=5, [O_2]=45 \\%$' )\n",
    "plt.legend(fontsize = 16)\n",
    "plt.tick_params(labelsize=16)\n",
    "plt.xlabel ('Frequency (Hz)', fontsize = 16)\n",
    "plt.ylabel (r'$\\theta / 90$', fontsize = 16)"
   ]
  },
  {
   "cell_type": "markdown",
   "metadata": {
    "colab_type": "text",
    "id": "2xK3NNdK2Tsq"
   },
   "source": [
    "**NOTE**: looking at how similar those two curves are, we expect that detecting the temperature will be more difficult."
   ]
  },
  {
   "cell_type": "markdown",
   "metadata": {
    "colab_type": "text",
    "id": "HWgTxCDuZvFQ"
   },
   "source": [
    "## Helper Functions"
   ]
  },
  {
   "cell_type": "code",
   "execution_count": 20,
   "metadata": {
    "colab": {},
    "colab_type": "code",
    "id": "ycNFsXOaZvFR"
   },
   "outputs": [],
   "source": [
    "def MAE_T_list_generator(targets_dev, preds_df):\n",
    "    T_values = targets_dev['T'].unique()*45.0\n",
    "    MAE_list = []\n",
    "    MAE_xticks = T_values\n",
    "    MAE_boxplot = []\n",
    "    for T_ in T_values:\n",
    "        elmts = (targets_dev['T'] == T_/45.0)\n",
    "        tmp_ = targets_dev[elmts]\n",
    "        tmp2_ = preds_df[elmts]\n",
    "        mae_ = np.mean(45.0*np.abs(tmp2_['T'].values- tmp_['T'].values))\n",
    "\n",
    "        MAE_boxplot.append(list(45.0*np.abs(tmp_['T'].values-tmp2_['T'].values)))\n",
    "\n",
    "        MAE_list.append(mae_)\n",
    "        \n",
    "    return MAE_boxplot, MAE_list, MAE_xticks"
   ]
  },
  {
   "cell_type": "code",
   "execution_count": 21,
   "metadata": {
    "colab": {},
    "colab_type": "code",
    "id": "7ESrffFUZvFV"
   },
   "outputs": [],
   "source": [
    "def MAE_O2_list_generator(step, targets_dev, preds_df):\n",
    "    breaks = np.arange(step,101.0, step)\n",
    "    MAE_list = []\n",
    "    MAE_xticks = []\n",
    "    MAE_boxplot = []\n",
    "    for O2_ in breaks:\n",
    "        elmts = (targets_dev['O2'] < O2_/100.0) & (targets_dev['O2'] >= (O2_-step)/100.0)\n",
    "        tmp_ = targets_dev[elmts]\n",
    "        tmp2_ = preds_df[elmts]\n",
    "        mae_ = np.mean(100*np.abs(tmp2_['O2'].values- tmp_['O2'].values))\n",
    "\n",
    "        #print (\"MAE for range [\", int(O2_), \",\", int(O2_-step), \"] is\", mae_)\n",
    "\n",
    "        MAE_boxplot.append(list(100.0*np.abs(tmp_['O2'].values-tmp2_['O2'].values)))\n",
    "\n",
    "        MAE_list.append(mae_)\n",
    "        MAE_xticks.append(\"[\"+ str(int(O2_-step))+ \",\"+ str(int(O2_))+ \"]\")\n",
    "    \n",
    "    return MAE_boxplot, MAE_list, MAE_xticks"
   ]
  },
  {
   "cell_type": "code",
   "execution_count": 22,
   "metadata": {
    "colab": {},
    "colab_type": "code",
    "id": "ix9iIYTcZvFW"
   },
   "outputs": [],
   "source": [
    "# Get predictions\n",
    "def get_predictions(model, targets_dev, data_dev):\n",
    "    preds = model.predict(data_dev)\n",
    "    preds_df = pd.DataFrame(preds)\n",
    "    preds_df.columns = ['O2', 'T']\n",
    "    targets_dev_ = targets_dev.reset_index(drop = True)\n",
    "    preds_df_ = preds_df.reset_index(drop = True)\n",
    "    \n",
    "    return targets_dev_, preds_df_"
   ]
  },
  {
   "cell_type": "code",
   "execution_count": 23,
   "metadata": {
    "colab": {},
    "colab_type": "code",
    "id": "xY5mtw2DZvFW"
   },
   "outputs": [],
   "source": [
    "class CustomCallback(keras.callbacks.Callback):\n",
    "    def on_epoch_end(self, epoch, logs={}):\n",
    "        if (epoch % 1000 == 0):\n",
    "            print (\"Just finished epoch\", epoch)\n",
    "            print (logs)\n",
    "            return\n",
    "        \n",
    "class CustomCallbackProgress(keras.callbacks.Callback):\n",
    "    \n",
    "    def __init__(self, totalEpochs, step):\n",
    "        self.step = 0\n",
    "        self.totalEpochs = totalEpochs\n",
    "        self.step = step\n",
    "        \n",
    "        \n",
    "    def on_epoch_end(self, epoch, logs={}):\n",
    "        if (epoch % 200 == 0):\n",
    "            i = int(epoch / 200)\n",
    "            \n",
    "            if (i > 0):\n",
    "                numberOfEquals = int(self.totalEpochs/200*i)\n",
    "                percent = 100/(self.totalEpochs/200)*i\n",
    "            else:\n",
    "                numberOfEquals = 0\n",
    "                percent = 0\n",
    "                \n",
    "                \n",
    "            print (\"\\r[%-20s] %d%%\" % ('='*i, percent), end='')\n",
    "            \n",
    "            if(percent == 100):\n",
    "                print('')\n",
    "        "
   ]
  },
  {
   "cell_type": "code",
   "execution_count": 24,
   "metadata": {
    "colab": {},
    "colab_type": "code",
    "id": "pvugRkk3ZvFX"
   },
   "outputs": [],
   "source": [
    "def reset_keras():\n",
    "    K.get_session().close()\n",
    "    K.set_session(tf.Session())\n",
    "    K.get_session().run(tf.global_variables_initializer())"
   ]
  },
  {
   "cell_type": "code",
   "execution_count": 25,
   "metadata": {
    "colab": {},
    "colab_type": "code",
    "id": "hf_xjlejZvFZ"
   },
   "outputs": [],
   "source": [
    "def average_runs(n_iter, model_):\n",
    "    MAE_O2_boxplot_avg = [0]*9\n",
    "    MAE_T_boxplot_avg = [0]*5\n",
    "\n",
    "    for i in range(n_iter):\n",
    "        print (\"Training iteration \", i)\n",
    "        \n",
    "        model_.fit(data_train, targets_train, epochs=4001, batch_size=1000,verbose = 0,\n",
    "             validation_data= (data_dev, targets_dev), callbacks = [CustomCallbackProgress(4000,200)])\n",
    "\n",
    "        print(\"Getting predictions for iteration \",i)\n",
    "        targets_dev_, preds_df_ = get_predictions(model_, targets_dev, data_dev)\n",
    "        targets_train_, preds_train_ = get_predictions(model_, targets_train, data_train)\n",
    "\n",
    "        print(\"Generating MAE lists for iteration \", i)\n",
    "        MAE_boxplot_, MAE_list_, MAE_xticks_ = MAE_O2_list_generator(10.0, targets_dev_, preds_df_)\n",
    "        MAE_T_boxplot_, MAE_T_list_, MAE_T_xticks_ = MAE_T_list_generator(targets_dev_, preds_df_)\n",
    "        #MAE_boxplot_train_, MAE_list_train_, MAE_xticks_train_ = MAE_list_generator(10.0, targets_train_, preds_train_)\n",
    "\n",
    "        for j in range(len(MAE_boxplot_)):\n",
    "            MAE_O2_boxplot_avg[j] = MAE_O2_boxplot_avg[j] + np.array(MAE_boxplot_[j])/n_iter\n",
    "            \n",
    "        for j in range(len(MAE_T_boxplot_)):\n",
    "            MAE_T_boxplot_avg[j] = MAE_T_boxplot_avg[j] + np.array(MAE_T_boxplot_[j])/n_iter\n",
    "\n",
    "    return MAE_O2_boxplot_avg, MAE_T_boxplot_avg"
   ]
  },
  {
   "cell_type": "code",
   "execution_count": 26,
   "metadata": {
    "colab": {},
    "colab_type": "code",
    "id": "i5JVJPB1ZvFZ"
   },
   "outputs": [],
   "source": [
    "def get_mae(MAE_boxplot_):\n",
    "    flat_list = [item for sublist in MAE_boxplot_ for item in sublist]\n",
    "    return np.mean(flat_list)"
   ]
  },
  {
   "cell_type": "markdown",
   "metadata": {},
   "source": [
    "# Decorators"
   ]
  },
  {
   "cell_type": "code",
   "execution_count": 27,
   "metadata": {},
   "outputs": [],
   "source": [
    "from functools import wraps\n",
    "from time import time\n",
    "\n",
    "\n",
    "def timing(f):\n",
    "    @wraps(f)\n",
    "    def wrapper(*args, **kwargs):\n",
    "        start = time()\n",
    "        result = f(*args, **kwargs)\n",
    "        end = time()\n",
    "        \n",
    "        elapsed = (end-start)\n",
    "        \n",
    "        h = elapsed // 3600\n",
    "        m = elapsed % 3600 // 60\n",
    "        s = elapsed % 3600 % 60\n",
    "        \n",
    "        print ('Total Elapsed time: {:d} hours, {:d} minutes, {:d} seconds'.format(int(h), int(m), int(s)))\n",
    "        return result\n",
    "    return wrapper"
   ]
  },
  {
   "cell_type": "markdown",
   "metadata": {
    "colab_type": "text",
    "id": "qubDL3VCZvFb"
   },
   "source": [
    "# Random Seed to get reproducible results"
   ]
  },
  {
   "cell_type": "code",
   "execution_count": 28,
   "metadata": {
    "colab": {},
    "colab_type": "code",
    "id": "jd131E5PZvFc"
   },
   "outputs": [],
   "source": [
    "K.clear_session()\n",
    "\n",
    "from numpy.random import seed\n",
    "seed(42)\n",
    "#from tensorflow import set_random_seed\n",
    "#set_random_seed(42)"
   ]
  },
  {
   "cell_type": "markdown",
   "metadata": {},
   "source": [
    "# Custom Callback functions"
   ]
  },
  {
   "cell_type": "code",
   "execution_count": 136,
   "metadata": {
    "colab": {},
    "colab_type": "code",
    "id": "ivJYtwZTZvFe"
   },
   "outputs": [],
   "source": [
    "class CustomCallback_(keras.callbacks.Callback):\n",
    "    def on_epoch_end(self, epoch, logs={}):\n",
    "        #print(logs)\n",
    "        if (epoch % 5000 == 0):\n",
    "            print (\"Just finished epoch\", epoch)\n",
    "            #print(logs)\n",
    "            print (\"Loss.             = \", float(logs.get(\"O2_output_loss\")))\n",
    "            print (\"Validation MAE_O2 = \", 100*float(logs.get(\"val_O2_output_mae\")))\n",
    "            print (\"Validation MAE_T  = \", 45*float(logs.get(\"val_T_output_mae\")))\n",
    "            print (\"Training   MAE_O2 = \", 100*float(logs.get(\"O2_output_mae\")))\n",
    "            print (\"Training   MAE_T  = \", 45*float(logs.get(\"T_output_mae\")))\n",
    "            \n",
    "            return\n",
    "\n",
    "class CustomCallback_epochs_count(keras.callbacks.Callback):\n",
    "    \n",
    "    def __init__(self, n):\n",
    "      self.number_of_epochs = n\n",
    "    \n",
    "    \n",
    "    def on_epoch_end(self, epoch, logs={}):\n",
    "        \n",
    "        if (epoch % self.number_of_epochs == 0):\n",
    "            print (\"Just finished epoch\", epoch)\n",
    "            \n",
    "            return\n",
    "\n",
    "import datetime\n",
    "class CustomCallback_measure_time(keras.callbacks.Callback):\n",
    "\n",
    "    def __init__(self, n):\n",
    "      self.number_of_epochs = n\n",
    "\n",
    "    def on_epoch_begin(self, epoch, logs={}):\n",
    "          self.batch_start_time = datetime.datetime.now()\n",
    "\n",
    "    def on_epoch_end(self, epoch, logs={}):\n",
    "      single_epoch_time_elapsed = datetime.datetime.now() - self.batch_start_time\n",
    "      if ((epoch % self.number_of_epochs == 0) & (epoch > 0)):\n",
    "        estimate_multiple_epochs_time_elapsed = single_epoch_time_elapsed * self.number_of_epochs\n",
    "        estimate_multiple_epochs_time_elapsed = estimate_multiple_epochs_time_elapsed.total_seconds()\n",
    "        msg = str(self.number_of_epochs) + \" epochs - Estimated time to run: {:.2f} seconds, {:.2f} minutes, {:.2f} hours.\"\n",
    "        print(msg.format(estimate_multiple_epochs_time_elapsed, estimate_multiple_epochs_time_elapsed/60.0, estimate_multiple_epochs_time_elapsed/3600.0))"
   ]
  },
  {
   "cell_type": "markdown",
   "metadata": {},
   "source": [
    "# Function to get predictions"
   ]
  },
  {
   "cell_type": "code",
   "execution_count": 97,
   "metadata": {},
   "outputs": [],
   "source": [
    "def get_predictions(model_):\n",
    "    (O2T, O2, T) = model_.predict(data_dev)\n",
    "    preds_exp_df = pd.DataFrame(O2T)\n",
    "    preds_exp_df.columns = ['O2', 'T']\n",
    "    preds_exp_o2_df = pd.DataFrame(O2[:,0])\n",
    "    preds_exp_o2_df.columns = ['O2']\n",
    "\n",
    "    preds_exp_T_df = pd.DataFrame(T[:,0])\n",
    "    preds_exp_T_df.columns = ['T']\n",
    "    \n",
    "    preds_exp_o2_df = preds_exp_o2_df.reset_index(drop = True)\n",
    "    preds_exp_T_df = preds_exp_T_df.reset_index(drop = True)\n",
    "    \n",
    "    return preds_exp_o2_df, preds_exp_T_df"
   ]
  },
  {
   "cell_type": "markdown",
   "metadata": {
    "colab_type": "text",
    "id": "3jXoqPciZvFd"
   },
   "source": [
    "# Network C"
   ]
  },
  {
   "cell_type": "code",
   "execution_count": 31,
   "metadata": {},
   "outputs": [],
   "source": [
    "def get_compiled_model_1():\n",
    "    K.clear_session()\n",
    "    \n",
    "    input_x = keras.layers.Input(shape = (50,))\n",
    "    lay1 = layers.Dense(50,  activation='sigmoid', dtype = tf.float32)(input_x)\n",
    "    lay2 = layers.Dense(50, activation='sigmoid')(lay1)\n",
    "    lay3 = layers.Dense(50, activation='sigmoid')(lay2)\n",
    "    outboth = layers.Dense(2, activation='sigmoid',name=\"both_output\")(lay3)\n",
    "\n",
    "    lay4 = layers.Dense(5, activation='sigmoid')(lay3)\n",
    "    lay5 = layers.Dense(5, activation='sigmoid')(lay4)\n",
    "    outo2 = layers.Dense(1, activation = 'sigmoid',name=\"O2_output\")(lay5)\n",
    "\n",
    "\n",
    "    lay6 = layers.Dense(5, activation='sigmoid')(lay3)\n",
    "    lay7 = layers.Dense(5, activation='sigmoid')(lay6)\n",
    "    outT = layers.Dense(1, activation = 'sigmoid', name = \"T_output\")(lay7)\n",
    "\n",
    "    #model = Model(input_x, outl)\n",
    "\n",
    "    model = Model(\n",
    "        inputs=input_x,\n",
    "        outputs=[outboth, outo2, outT])\n",
    "    \n",
    "    losses = {\n",
    "        \"both_output\": \"mse\",\n",
    "        \"O2_output\": \"mse\",\n",
    "        \"T_output\": \"mse\"\n",
    "    }\n",
    "\n",
    "    lossWeights = {\"both_output\": 0.3, \"O2_output\": 5.0, \"T_output\": 5.0}\n",
    "\n",
    "    opt = Adam(lr=0.001)\n",
    "    model.compile(optimizer=opt, loss=losses, loss_weights=lossWeights,\n",
    "            metrics=[\"mae\"])\n",
    "    \n",
    "    return model"
   ]
  },
  {
   "cell_type": "code",
   "execution_count": 32,
   "metadata": {},
   "outputs": [],
   "source": [
    "def get_compiled_model():\n",
    "    K.clear_session()\n",
    "    \n",
    "    input_x = keras.layers.Input(shape = (50,))\n",
    "    lay1 = layers.Dense(50,  activation='sigmoid', dtype = tf.float32)(input_x)\n",
    "    lay2 = layers.Dense(50, activation='sigmoid')(lay1)\n",
    "    lay3 = layers.Dense(50, activation='sigmoid')(lay2)\n",
    "    lay4 = layers.Dense(50, activation='sigmoid')(lay3)\n",
    "    outboth = layers.Dense(2, activation='sigmoid',name=\"both_output\")(lay4)\n",
    "\n",
    "    lay4 = layers.Dense(15, activation='sigmoid')(lay3)\n",
    "    lay5 = layers.Dense(15, activation='sigmoid')(lay4)\n",
    "    lay6 = layers.Dense(15, activation='sigmoid')(lay5)\n",
    "    outo2 = layers.Dense(1, activation = 'sigmoid',name=\"O2_output\")(lay6)\n",
    "\n",
    "\n",
    "    lay6 = layers.Dense(15, activation='sigmoid')(lay3)\n",
    "    lay7 = layers.Dense(15, activation='sigmoid')(lay6)\n",
    "    lay8 = layers.Dense(15, activation='sigmoid')(lay7)\n",
    "    outT = layers.Dense(1, activation = 'sigmoid', name = \"T_output\")(lay8)\n",
    "\n",
    "    #model = Model(input_x, outl)\n",
    "\n",
    "    model = Model(\n",
    "        inputs=input_x,\n",
    "        outputs=[outboth, outo2, outT])\n",
    "    \n",
    "    losses = {\n",
    "        \"both_output\": \"mse\",\n",
    "        \"O2_output\": \"mse\",\n",
    "        \"T_output\": \"mse\"\n",
    "    }\n",
    "\n",
    "    lossWeights = {\"both_output\": 0.3, \"O2_output\": 5.0, \"T_output\": 5.0}\n",
    "\n",
    "    opt = Adam(lr=0.001)\n",
    "    model.compile(optimizer=opt, loss=losses, loss_weights=lossWeights,\n",
    "            metrics=[\"mae\"])\n",
    "    \n",
    "    return model"
   ]
  },
  {
   "cell_type": "code",
   "execution_count": 33,
   "metadata": {
    "colab": {},
    "colab_type": "code",
    "id": "zolxZDx0ZvFe"
   },
   "outputs": [],
   "source": [
    "K.clear_session()"
   ]
  },
  {
   "cell_type": "code",
   "execution_count": 100,
   "metadata": {
    "colab": {},
    "colab_type": "code",
    "id": "Iy4UkWvnZvFf"
   },
   "outputs": [],
   "source": [
    "input_x = keras.layers.Input(shape = (50,))\n",
    "lay1 = layers.Dense(50,  activation='sigmoid', dtype = tf.float32)(input_x)\n",
    "lay2 = layers.Dense(50, activation='sigmoid')(lay1)\n",
    "lay3 = layers.Dense(50, activation='sigmoid')(lay2)\n",
    "lay4 = layers.Dense(50, activation='sigmoid')(lay3)\n",
    "outboth = layers.Dense(2, activation='sigmoid',name=\"both_output\")(lay4)\n",
    "\n",
    "lay4 = layers.Dense(15, activation='sigmoid')(lay3)\n",
    "lay5 = layers.Dense(15, activation='sigmoid')(lay4)\n",
    "lay6 = layers.Dense(15, activation='sigmoid')(lay5)\n",
    "outo2 = layers.Dense(1, activation = 'sigmoid',name=\"O2_output\")(lay6)\n",
    "\n",
    "\n",
    "lay6 = layers.Dense(15, activation='sigmoid')(lay3)\n",
    "lay7 = layers.Dense(15, activation='sigmoid')(lay6)\n",
    "lay8 = layers.Dense(15, activation='sigmoid')(lay7)\n",
    "outT = layers.Dense(1, activation = 'sigmoid', name = \"T_output\")(lay8)\n",
    "\n",
    "#model = Model(input_x, outl)\n",
    "\n",
    "model4 = Model(\n",
    "    inputs=input_x,\n",
    "    outputs=[outboth, outo2, outT])"
   ]
  },
  {
   "cell_type": "code",
   "execution_count": 102,
   "metadata": {
    "colab": {},
    "colab_type": "code",
    "id": "GaxNArMlZvFg"
   },
   "outputs": [],
   "source": [
    "losses = {\n",
    "        \"both_output\": \"mse\",\n",
    "        \"O2_output\": \"mse\",\n",
    "        \"T_output\": \"mse\"\n",
    "}\n",
    "\n",
    "lossWeights = {\"both_output\": 0.3, \"O2_output\": 5.0, \"T_output\": 5.0}\n",
    "\n",
    "opt = Adam(lr=0.001)\n",
    "#opt = SGD(lr = 0.001)\n",
    "\n",
    "#opt = SGD(lr=1e-3, momentum=0.9, decay=1e-2/epochs)\n",
    "\n",
    "model4.compile(optimizer=opt, loss=losses, loss_weights=lossWeights,\n",
    "        metrics=[\"mae\"])"
   ]
  },
  {
   "cell_type": "code",
   "execution_count": 98,
   "metadata": {
    "colab": {},
    "colab_type": "code",
    "id": "QAR-gIrbZvFh"
   },
   "outputs": [],
   "source": [
    "targets_train_O2 = targets_train['O2']\n",
    "targets_dev_O2 = targets_dev['O2']\n",
    "targets_train_T = targets_train['T']\n",
    "targets_dev_T = targets_dev['T']"
   ]
  },
  {
   "cell_type": "markdown",
   "metadata": {
    "colab_type": "text",
    "id": "-do_u4EDZvFh"
   },
   "source": [
    "### WORKING HERE"
   ]
  },
  {
   "cell_type": "code",
   "execution_count": 99,
   "metadata": {
    "colab": {
     "base_uri": "https://localhost:8080/",
     "height": 555
    },
    "colab_type": "code",
    "id": "5SOLycrnZvFh",
    "outputId": "20aee6ff-daf1-4e38-fb4c-96975f3390c2"
   },
   "outputs": [],
   "source": [
    "@timing\n",
    "def fit_model(model, in_epochs = 1000, in_batch_size = 32, \n",
    "              in_epoch_interval_measure_time = 500,\n",
    "              in_epoch_interval_print_progress = 200):\n",
    "    H = model.fit(data_train,\n",
    "            {\"both_output\": targets_train, \"O2_output\": targets_train_O2, \"T_output\": targets_train_T},\n",
    "            validation_data=(data_dev,\n",
    "                {\"both_output\": targets_dev, \"O2_output\": targets_dev_O2, \"T_output\": targets_dev_T}),\n",
    "            epochs=in_epochs, batch_size = in_batch_size,\n",
    "            verbose=0, \n",
    "            callbacks = [CustomCallback_(), \n",
    "                         CustomCallback_measure_time(in_epoch_interval_measure_time), \n",
    "                         CustomCallback_epochs_count(in_epoch_interval_print_progress)])\n",
    "\n",
    "    return H"
   ]
  },
  {
   "cell_type": "code",
   "execution_count": 112,
   "metadata": {},
   "outputs": [
    {
     "name": "stdout",
     "output_type": "stream",
     "text": [
      "Just finished epoch 0\n",
      "Loss.             =  0.0916363075375557\n",
      "Validation MAE_O2 =  26.470649242401123\n",
      "Validation MAE_T  =  11.320123672485352\n",
      "Training   MAE_O2 =  26.191306114196777\n",
      "Training   MAE_T  =  11.49484008550644\n",
      "Just finished epoch 0\n",
      "500 epochs - Estimated time to run: 88.47 seconds, 1.47 minutes, 0.02 hours.\n",
      "Just finished epoch 500\n",
      "Just finished epoch 1000\n",
      "Loss.             =  0.010107869282364845\n",
      "Validation MAE_O2 =  8.048204332590103\n",
      "Validation MAE_T  =  10.0086260586977\n",
      "Training   MAE_O2 =  8.001871407032013\n",
      "Training   MAE_T  =  9.811137691140175\n",
      "500 epochs - Estimated time to run: 88.57 seconds, 1.48 minutes, 0.02 hours.\n",
      "Just finished epoch 1000\n",
      "500 epochs - Estimated time to run: 83.27 seconds, 1.39 minutes, 0.02 hours.\n",
      "Just finished epoch 1500\n",
      "Just finished epoch 2000\n",
      "Loss.             =  0.010257662273943424\n",
      "Validation MAE_O2 =  8.086912333965302\n",
      "Validation MAE_T  =  9.899980500340462\n",
      "Training   MAE_O2 =  8.02663266658783\n",
      "Training   MAE_T  =  9.750262945890427\n",
      "500 epochs - Estimated time to run: 83.90 seconds, 1.40 minutes, 0.02 hours.\n",
      "Just finished epoch 2000\n",
      "500 epochs - Estimated time to run: 84.78 seconds, 1.41 minutes, 0.02 hours.\n",
      "Just finished epoch 2500\n",
      "Just finished epoch 3000\n",
      "Loss.             =  0.010179306380450726\n",
      "Validation MAE_O2 =  8.126170188188553\n",
      "Validation MAE_T  =  9.872689694166183\n",
      "Training   MAE_O2 =  7.993921637535095\n",
      "Training   MAE_T  =  9.660980254411697\n",
      "500 epochs - Estimated time to run: 89.34 seconds, 1.49 minutes, 0.02 hours.\n",
      "Just finished epoch 3000\n",
      "500 epochs - Estimated time to run: 82.22 seconds, 1.37 minutes, 0.02 hours.\n",
      "Just finished epoch 3500\n",
      "Just finished epoch 4000\n",
      "Loss.             =  0.0017655957490205765\n",
      "Validation MAE_O2 =  2.737593837082386\n",
      "Validation MAE_T  =  4.072171300649643\n",
      "Training   MAE_O2 =  3.3455748111009598\n",
      "Training   MAE_T  =  4.077317789196968\n",
      "500 epochs - Estimated time to run: 83.82 seconds, 1.40 minutes, 0.02 hours.\n",
      "Just finished epoch 4000\n",
      "500 epochs - Estimated time to run: 82.65 seconds, 1.38 minutes, 0.02 hours.\n",
      "Just finished epoch 4500\n",
      "Just finished epoch 5000\n",
      "Loss.             =  0.001327275182120502\n",
      "Validation MAE_O2 =  1.4395524747669697\n",
      "Validation MAE_T  =  2.0646956004202366\n",
      "Training   MAE_O2 =  2.6576321572065353\n",
      "Training   MAE_T  =  3.5784487053751945\n",
      "500 epochs - Estimated time to run: 82.95 seconds, 1.38 minutes, 0.02 hours.\n",
      "Just finished epoch 5000\n",
      "500 epochs - Estimated time to run: 82.44 seconds, 1.37 minutes, 0.02 hours.\n",
      "Just finished epoch 5500\n",
      "Just finished epoch 6000\n",
      "Loss.             =  0.0004825284122489393\n",
      "Validation MAE_O2 =  1.7985939979553223\n",
      "Validation MAE_T  =  3.081473261117935\n",
      "Training   MAE_O2 =  1.710258424282074\n",
      "Training   MAE_T  =  2.676311172544956\n",
      "500 epochs - Estimated time to run: 82.88 seconds, 1.38 minutes, 0.02 hours.\n",
      "Just finished epoch 6000\n",
      "500 epochs - Estimated time to run: 82.62 seconds, 1.38 minutes, 0.02 hours.\n",
      "Just finished epoch 6500\n",
      "Just finished epoch 7000\n",
      "Loss.             =  0.0005242928164079785\n",
      "Validation MAE_O2 =  2.175479382276535\n",
      "Validation MAE_T  =  3.4452947974205017\n",
      "Training   MAE_O2 =  1.7712196335196495\n",
      "Training   MAE_T  =  2.6741382479667664\n",
      "500 epochs - Estimated time to run: 83.45 seconds, 1.39 minutes, 0.02 hours.\n",
      "Just finished epoch 7000\n",
      "500 epochs - Estimated time to run: 85.43 seconds, 1.42 minutes, 0.02 hours.\n",
      "Just finished epoch 7500\n",
      "Just finished epoch 8000\n",
      "Loss.             =  0.000401313096517697\n",
      "Validation MAE_O2 =  2.2168464958667755\n",
      "Validation MAE_T  =  2.695328202098608\n",
      "Training   MAE_O2 =  1.5847865492105484\n",
      "Training   MAE_T  =  2.4677189625799656\n",
      "500 epochs - Estimated time to run: 82.52 seconds, 1.38 minutes, 0.02 hours.\n",
      "Just finished epoch 8000\n",
      "500 epochs - Estimated time to run: 83.29 seconds, 1.39 minutes, 0.02 hours.\n",
      "Just finished epoch 8500\n",
      "Just finished epoch 9000\n",
      "Loss.             =  0.000395435985410586\n",
      "Validation MAE_O2 =  1.079960260540247\n",
      "Validation MAE_T  =  2.1609220281243324\n",
      "Training   MAE_O2 =  1.5028092078864574\n",
      "Training   MAE_T  =  2.391535174101591\n",
      "500 epochs - Estimated time to run: 86.60 seconds, 1.44 minutes, 0.02 hours.\n",
      "Just finished epoch 9000\n",
      "500 epochs - Estimated time to run: 87.85 seconds, 1.46 minutes, 0.02 hours.\n",
      "Just finished epoch 9500\n",
      "Just finished epoch 10000\n",
      "Loss.             =  0.00021247428958304226\n",
      "Validation MAE_O2 =  1.1901802383363247\n",
      "Validation MAE_T  =  1.4260328002274036\n",
      "Training   MAE_O2 =  1.080216933041811\n",
      "Training   MAE_T  =  1.7285331711173058\n",
      "500 epochs - Estimated time to run: 87.10 seconds, 1.45 minutes, 0.02 hours.\n",
      "Just finished epoch 10000\n",
      "500 epochs - Estimated time to run: 88.71 seconds, 1.48 minutes, 0.02 hours.\n",
      "Just finished epoch 10500\n",
      "Just finished epoch 11000\n",
      "Loss.             =  0.00022798754798714072\n",
      "Validation MAE_O2 =  1.9642019644379616\n",
      "Validation MAE_T  =  2.517028357833624\n",
      "Training   MAE_O2 =  1.0865574702620506\n",
      "Training   MAE_T  =  1.73996239900589\n",
      "500 epochs - Estimated time to run: 107.72 seconds, 1.80 minutes, 0.03 hours.\n",
      "Just finished epoch 11000\n",
      "500 epochs - Estimated time to run: 76.42 seconds, 1.27 minutes, 0.02 hours.\n",
      "Just finished epoch 11500\n",
      "Just finished epoch 12000\n",
      "Loss.             =  0.0003142520727124065\n",
      "Validation MAE_O2 =  0.8991686627268791\n",
      "Validation MAE_T  =  1.4982972107827663\n",
      "Training   MAE_O2 =  1.3646263629198074\n",
      "Training   MAE_T  =  2.016697134822607\n",
      "500 epochs - Estimated time to run: 78.71 seconds, 1.31 minutes, 0.02 hours.\n",
      "Just finished epoch 12000\n",
      "500 epochs - Estimated time to run: 79.03 seconds, 1.32 minutes, 0.02 hours.\n",
      "Just finished epoch 12500\n",
      "Just finished epoch 13000\n",
      "Loss.             =  0.0003241717640776187\n",
      "Validation MAE_O2 =  2.9983192682266235\n",
      "Validation MAE_T  =  4.562424793839455\n",
      "Training   MAE_O2 =  1.3213240541517735\n",
      "Training   MAE_T  =  2.0286039635539055\n",
      "500 epochs - Estimated time to run: 79.84 seconds, 1.33 minutes, 0.02 hours.\n",
      "Just finished epoch 13000\n",
      "500 epochs - Estimated time to run: 96.76 seconds, 1.61 minutes, 0.03 hours.\n",
      "Just finished epoch 13500\n",
      "Just finished epoch 14000\n",
      "Loss.             =  0.00026030009030364454\n",
      "Validation MAE_O2 =  1.309213601052761\n",
      "Validation MAE_T  =  2.277644220739603\n",
      "Training   MAE_O2 =  1.234078872948885\n",
      "Training   MAE_T  =  1.790059357881546\n",
      "500 epochs - Estimated time to run: 90.96 seconds, 1.52 minutes, 0.03 hours.\n",
      "Just finished epoch 14000\n",
      "500 epochs - Estimated time to run: 115.02 seconds, 1.92 minutes, 0.03 hours.\n",
      "Just finished epoch 14500\n",
      "Just finished epoch 15000\n",
      "Loss.             =  0.00024501903681084514\n",
      "Validation MAE_O2 =  0.8188827894628048\n",
      "Validation MAE_T  =  0.8094787783920765\n",
      "Training   MAE_O2 =  1.1717191897332668\n",
      "Training   MAE_T  =  1.6875164955854416\n",
      "500 epochs - Estimated time to run: 90.53 seconds, 1.51 minutes, 0.03 hours.\n",
      "Just finished epoch 15000\n",
      "500 epochs - Estimated time to run: 93.92 seconds, 1.57 minutes, 0.03 hours.\n",
      "Just finished epoch 15500\n",
      "Just finished epoch 16000\n",
      "Loss.             =  0.00013214832870289683\n",
      "Validation MAE_O2 =  1.0204068385064602\n",
      "Validation MAE_T  =  1.226049056276679\n",
      "Training   MAE_O2 =  0.83869444206357\n",
      "Training   MAE_T  =  1.2577464804053307\n",
      "500 epochs - Estimated time to run: 96.12 seconds, 1.60 minutes, 0.03 hours.\n",
      "Just finished epoch 16000\n",
      "500 epochs - Estimated time to run: 87.84 seconds, 1.46 minutes, 0.02 hours.\n",
      "Just finished epoch 16500\n",
      "Just finished epoch 17000\n",
      "Loss.             =  0.00020753496210090816\n",
      "Validation MAE_O2 =  0.5462959408760071\n",
      "Validation MAE_T  =  0.7693072501569986\n",
      "Training   MAE_O2 =  1.0406254790723324\n",
      "Training   MAE_T  =  1.5594259276986122\n",
      "500 epochs - Estimated time to run: 82.70 seconds, 1.38 minutes, 0.02 hours.\n",
      "Just finished epoch 17000\n",
      "500 epochs - Estimated time to run: 97.59 seconds, 1.63 minutes, 0.03 hours.\n",
      "Just finished epoch 17500\n",
      "Just finished epoch 18000\n",
      "Loss.             =  0.00017701202887110412\n",
      "Validation MAE_O2 =  0.996501836925745\n",
      "Validation MAE_T  =  1.4392294362187386\n",
      "Training   MAE_O2 =  1.0140415281057358\n",
      "Training   MAE_T  =  1.4568160101771355\n",
      "500 epochs - Estimated time to run: 91.14 seconds, 1.52 minutes, 0.03 hours.\n",
      "Just finished epoch 18000\n",
      "500 epochs - Estimated time to run: 82.42 seconds, 1.37 minutes, 0.02 hours.\n",
      "Just finished epoch 18500\n",
      "Just finished epoch 19000\n",
      "Loss.             =  0.00024289681459777057\n",
      "Validation MAE_O2 =  0.4922707565128803\n",
      "Validation MAE_T  =  0.9199683554470539\n",
      "Training   MAE_O2 =  1.1505546048283577\n",
      "Training   MAE_T  =  1.6298604011535645\n",
      "500 epochs - Estimated time to run: 95.77 seconds, 1.60 minutes, 0.03 hours.\n",
      "Just finished epoch 19000\n",
      "500 epochs - Estimated time to run: 97.60 seconds, 1.63 minutes, 0.03 hours.\n",
      "Just finished epoch 19500\n",
      "Just finished epoch 20000\n",
      "Loss.             =  0.00012018291454296559\n",
      "Validation MAE_O2 =  1.5200063586235046\n",
      "Validation MAE_T  =  1.9783844612538815\n",
      "Training   MAE_O2 =  0.8254070766270161\n",
      "Training   MAE_T  =  1.1555256508290768\n",
      "500 epochs - Estimated time to run: 81.85 seconds, 1.36 minutes, 0.02 hours.\n",
      "Just finished epoch 20000\n",
      "Total Elapsed time: 0 hours, 58 minutes, 42 seconds\n"
     ]
    }
   ],
   "source": [
    "model4 = get_compiled_model()\n",
    "H = fit_model(model4, in_epochs = 20001, in_batch_size = 32, in_epoch_interval_measure_time = 500, in_epoch_interval_print_progress = 500)"
   ]
  },
  {
   "cell_type": "code",
   "execution_count": 117,
   "metadata": {},
   "outputs": [
    {
     "name": "stdout",
     "output_type": "stream",
     "text": [
      "Saved model to disk\n"
     ]
    }
   ],
   "source": [
    "# Total Elapsed time: 0 hours, 58 minutes, 42 seconds\n",
    "model4.save(\"model_20001_32_1e-3_4x50_3x15_3x15.h5\")\n",
    "print(\"Saved model to disk\")"
   ]
  },
  {
   "cell_type": "code",
   "execution_count": 118,
   "metadata": {
    "colab": {},
    "colab_type": "code",
    "id": "FQsWWKRg2TtQ",
    "outputId": "f84d5a99-e670-42e4-97d8-0cd67977d9e5"
   },
   "outputs": [
    {
     "data": {
      "image/png": "[encoded data removed]",
      "text/plain": [
       "<Figure size 432x288 with 1 Axes>"
      ]
     },
     "metadata": {
      "needs_background": "light"
     },
     "output_type": "display_data"
    }
   ],
   "source": [
    "plt.plot(H.history['loss'])\n",
    "plt.plot(H.history['val_loss'])\n",
    "plt.title('Model loss')\n",
    "plt.ylabel('Loss')\n",
    "plt.xlabel('Epoch')\n",
    "plt.legend(['Train', 'Test'], loc='upper left')\n",
    "#plt.xlim(90000, None)\n",
    "#plt.ylim(None, 0.1)\n",
    "plt.show()"
   ]
  },
  {
   "cell_type": "code",
   "execution_count": 101,
   "metadata": {},
   "outputs": [],
   "source": [
    "# eventually load the model again\n",
    "model = keras.models.load_model(\"model_20001_32_1e-3_4x50_3x15_3x15.h5\")"
   ]
  },
  {
   "cell_type": "code",
   "execution_count": 102,
   "metadata": {},
   "outputs": [
    {
     "name": "stdout",
     "output_type": "stream",
     "text": [
      "Model: \"model\"\n",
      "__________________________________________________________________________________________________\n",
      "Layer (type)                    Output Shape         Param #     Connected to                     \n",
      "==================================================================================================\n",
      "input_1 (InputLayer)            [(None, 50)]         0                                            \n",
      "__________________________________________________________________________________________________\n",
      "dense (Dense)                   (None, 50)           2550        input_1[0][0]                    \n",
      "__________________________________________________________________________________________________\n",
      "dense_1 (Dense)                 (None, 50)           2550        dense[0][0]                      \n",
      "__________________________________________________________________________________________________\n",
      "dense_2 (Dense)                 (None, 50)           2550        dense_1[0][0]                    \n",
      "__________________________________________________________________________________________________\n",
      "dense_4 (Dense)                 (None, 15)           765         dense_2[0][0]                    \n",
      "__________________________________________________________________________________________________\n",
      "dense_7 (Dense)                 (None, 15)           765         dense_2[0][0]                    \n",
      "__________________________________________________________________________________________________\n",
      "dense_5 (Dense)                 (None, 15)           240         dense_4[0][0]                    \n",
      "__________________________________________________________________________________________________\n",
      "dense_8 (Dense)                 (None, 15)           240         dense_7[0][0]                    \n",
      "__________________________________________________________________________________________________\n",
      "dense_3 (Dense)                 (None, 50)           2550        dense_2[0][0]                    \n",
      "__________________________________________________________________________________________________\n",
      "dense_6 (Dense)                 (None, 15)           240         dense_5[0][0]                    \n",
      "__________________________________________________________________________________________________\n",
      "dense_9 (Dense)                 (None, 15)           240         dense_8[0][0]                    \n",
      "__________________________________________________________________________________________________\n",
      "both_output (Dense)             (None, 2)            102         dense_3[0][0]                    \n",
      "__________________________________________________________________________________________________\n",
      "O2_output (Dense)               (None, 1)            16          dense_6[0][0]                    \n",
      "__________________________________________________________________________________________________\n",
      "T_output (Dense)                (None, 1)            16          dense_9[0][0]                    \n",
      "==================================================================================================\n",
      "Total params: 12,824\n",
      "Trainable params: 12,824\n",
      "Non-trainable params: 0\n",
      "__________________________________________________________________________________________________\n"
     ]
    }
   ],
   "source": [
    "model.summary()"
   ]
  },
  {
   "cell_type": "code",
   "execution_count": 103,
   "metadata": {},
   "outputs": [],
   "source": [
    "targets_dev = targets_dev.reset_index(drop = True)\n",
    "preds_exp_o2_df, preds_exp_T_df = get_predictions(model)"
   ]
  },
  {
   "cell_type": "code",
   "execution_count": 104,
   "metadata": {},
   "outputs": [],
   "source": [
    "MAE_boxplot_C, MAE_list_C, MAE_xticks_C = MAE_O2_list_generator(10.0, targets_dev, preds_exp_o2_df)\n",
    "MAET_boxplot_C_MTL, MAET_list_C_MTL, MAET_xticks_C_MTL = MAE_T_list_generator(targets_dev, preds_exp_T_df)\n",
    "MAE_boxplot_C_flat = [item for sublist in MAE_boxplot_C for item in sublist]\n",
    "MAET_boxplot_C_MTL_flat = [item for sublist in MAET_boxplot_C_MTL for item in sublist]"
   ]
  },
  {
   "cell_type": "code",
   "execution_count": 106,
   "metadata": {},
   "outputs": [
    {
     "name": "stdout",
     "output_type": "stream",
     "text": [
      "[0.06873983441961269, 1.3901613285280254, 1.131828108303983, 1.3717486129866725, 1.6567139228185004, 1.5664960107495685, 1.8273449885217767, 1.9478440586524695, 2.417588580738414, 2.630367453505354]\n",
      "1.5784403555372382\n"
     ]
    }
   ],
   "source": [
    "print(MAE_list_C)\n",
    "print(np.mean(MAE_boxplot_C_flat))"
   ]
  },
  {
   "cell_type": "code",
   "execution_count": 85,
   "metadata": {},
   "outputs": [
    {
     "data": {
      "text/plain": [
       "(-0.1, 10)"
      ]
     },
     "execution_count": 85,
     "metadata": {},
     "output_type": "execute_result"
    },
    {
     "data": {
      "text/plain": [
       "<Figure size 432x288 with 0 Axes>"
      ]
     },
     "metadata": {},
     "output_type": "display_data"
    },
    {
     "data": {
      "image/png": "[encoded data removed]",
      "text/plain": [
       "<Figure size 1152x360 with 2 Axes>"
      ]
     },
     "metadata": {
      "needs_background": "light"
     },
     "output_type": "display_data"
    }
   ],
   "source": [
    "maxy = 10.0\n",
    "\n",
    "\n",
    "plt.rc('font', family='arial')\n",
    "plt.rc('xtick', labelsize='x-small')\n",
    "plt.rc('ytick', labelsize='x-small')\n",
    "    \n",
    "plt.tight_layout()\n",
    "\n",
    "fig = plt.figure(figsize=(16, 5))\n",
    "\n",
    "\n",
    "\n",
    "ax = fig.add_subplot(1, 2, 1)\n",
    "\n",
    "\n",
    "\n",
    "bp = ax.boxplot(MAE_boxplot_C, whis = 'range')\n",
    "ax.set_xticklabels([5, 15, 25, 35, 45])\n",
    "\n",
    "for whisker in bp['whiskers']:\n",
    "    whisker.set(color = 'black', linewidth = 2)\n",
    "for cap in bp['caps']:\n",
    "    cap.set(color = 'black', linewidth = 2)\n",
    "for box in bp['boxes']:\n",
    "    box.set(color = 'black', linewidth = 2)\n",
    "for median in bp['medians']:\n",
    "    median.set(color = 'red', linewidth = 2)\n",
    "for outl in bp['fliers']:\n",
    "    outl.set(linewidth = 0, ms = 0, mew = 1.4, markerfacecolor = 'none')\n",
    "    \n",
    "#plt.ylim(-0.2, 2.9)\n",
    "    \n",
    "#ax.text(1, 1.5, 'Value for $[O_2] = 100$ % Air', fontsize = 18)\n",
    "\n",
    "legend_elements = [\n",
    "                  Line2D([0], [0],  lw = 2, color='red', label='epochs=20k; mb=32; 4x50,3x15,3x15',\n",
    "                          markerfacecolor='none', markeredgewidth=1.4, markersize=8)]\n",
    "ax.legend(handles=legend_elements, loc='upper left', fontsize = 16)\n",
    "\n",
    "plt.xticks(range(1,len(MAE_xticks_C)+1), MAE_xticks_C, size='small', rotation = 'vertical')\n",
    "\n",
    "#plt.grid()\n",
    "\n",
    "plt.ylabel('Absolute Error (% air)', fontsize = 16)\n",
    "plt.xlabel('$[O_2]$ ranges (% air)', fontsize = 16)\n",
    "plt.tick_params(labelsize=16)\n",
    "plt.ylim(-0.1,maxy)\n",
    "\n",
    "\n",
    "\n",
    "\n",
    "ax = fig.add_subplot(1, 2, 2)\n",
    "\n",
    "\n",
    "bp = ax.boxplot(MAET_boxplot_C_MTL, whis = 'range')\n",
    "ax.set_xticklabels([5, 15, 25, 35, 45])\n",
    "\n",
    "for whisker in bp['whiskers']:\n",
    "    whisker.set(color = 'black', linewidth = 2)\n",
    "for cap in bp['caps']:\n",
    "    cap.set(color = 'black', linewidth = 2)\n",
    "for box in bp['boxes']:\n",
    "    box.set(color = 'black', linewidth = 2)\n",
    "for median in bp['medians']:\n",
    "    median.set(color = 'red', linewidth = 2)\n",
    "for outl in bp['fliers']:\n",
    "    outl.set(linewidth = 0, ms = 0, mew = 1.4, markerfacecolor = 'none')\n",
    "    \n",
    "#plt.ylim(-0.2, 2.9)\n",
    "    \n",
    "#ax.text(1, 1.5, 'Value for $[O_2] = 100$ % Air', fontsize = 18)\n",
    "\n",
    "legend_elements = [\n",
    "                  Line2D([0], [0],  lw = 2, color='red', label='epochs=20k; mb=32; 4x50,3x15,3x15',\n",
    "                          markerfacecolor='none', markeredgewidth=1.4, markersize=8)]\n",
    "ax.legend(handles=legend_elements, loc='upper left', fontsize = 16)\n",
    "\n",
    "plt.xticks(range(1,len(MAET_xticks_C_MTL)+1), MAET_xticks_C_MTL, size='small', rotation = 'vertical')\n",
    "\n",
    "#plt.grid()\n",
    "\n",
    "plt.ylabel('Absolute Error ($^\\circ$ C)', fontsize = 16)\n",
    "plt.xlabel('T ($^\\circ$ C)', fontsize = 16)\n",
    "plt.tick_params(labelsize=16)\n",
    "plt.ylim(-0.1,10)\n",
    "\n",
    "#fig.savefig('../paper/results_theta90.eps')"
   ]
  },
  {
   "cell_type": "markdown",
   "metadata": {},
   "source": [
    "## KDEs"
   ]
  },
  {
   "cell_type": "code",
   "execution_count": 86,
   "metadata": {},
   "outputs": [
    {
     "name": "stderr",
     "output_type": "stream",
     "text": [
      "/Users/umberto/Python-Environments/tfenv2/lib/python3.7/site-packages/scipy/stats/stats.py:1713: FutureWarning: Using a non-tuple sequence for multidimensional indexing is deprecated; use `arr[tuple(seq)]` instead of `arr[seq]`. In the future this will be interpreted as an array index, `arr[np.array(seq)]`, which will result either in an error or a different result.\n",
      "  return np.add.reduce(sorted[indexer] * weights, axis=axis) / sumval\n"
     ]
    },
    {
     "data": {
      "text/plain": [
       "<Figure size 432x288 with 0 Axes>"
      ]
     },
     "metadata": {},
     "output_type": "display_data"
    },
    {
     "data": {
      "image/png": "[encoded data removed]",
      "text/plain": [
       "<Figure size 1152x360 with 2 Axes>"
      ]
     },
     "metadata": {
      "needs_background": "light"
     },
     "output_type": "display_data"
    }
   ],
   "source": [
    "\n",
    "    \n",
    "plt.tight_layout()\n",
    "\n",
    "fig = plt.figure(figsize=(16, 5))\n",
    "\n",
    "\n",
    "\n",
    "ax = fig.add_subplot(1, 2, 1)\n",
    "\n",
    "\n",
    "sns.distplot(MAE_boxplot_C_flat, color = 'gray', hist = True, label = 'AE$_{[O_2]}$ KDE',rug_kws={\"color\": \"gray\"},\n",
    "                  kde_kws={\"color\": \"k\", \"lw\": 3, \"label\": \"KDE\"},\n",
    "                   hist_kws={\"histtype\": \"bar\", \"linewidth\": 0,\n",
    "                             \"alpha\": 1, \"color\": \"gray\"})\n",
    "\n",
    "\n",
    "custom_lines = [Patch(facecolor='gray', edgecolor='gray',\n",
    "                         label='$AE_T$ KDE'),\n",
    "                Line2D([0], [0], color='blue', lw=4)\n",
    "                ]\n",
    "\n",
    "ax.legend(custom_lines, ['AE$_{[O_2]}$ KDE', 'MAE$_{[O_2]}$'], fontsize = 16)\n",
    "\n",
    "#plt.xticks(range(1,len(neta50_O2['MAE_xticks'])+1), neta50_O2['MAE_xticks'], size='small', rotation = 'vertical')\n",
    "\n",
    "#plt.grid()\n",
    "\n",
    "plt.ylabel('Counts (normalized)', fontsize = 16)\n",
    "plt.xlabel('AE$_{[O_2]}$ (% air)', fontsize = 16)\n",
    "plt.tick_params(labelsize=16)\n",
    "plt.ylim(0, 1.0)\n",
    "plt.xlim(0, 10)\n",
    "\n",
    "m_ = np.mean(MAE_boxplot_C_flat)\n",
    "\n",
    "plt.plot([m_, m_], [0, 0.555], lw = 4, color = 'blue')\n",
    "\n",
    "\n",
    "ax = fig.add_subplot(1, 2,2)\n",
    "# MAE_boxplot_C, MAE_list_C, MAE_xticks_C\n",
    "sns.distplot(MAET_boxplot_C_MTL_flat,   hist = True, label = '$AE_T$ KDE',rug_kws={\"color\": \"gray\"},\n",
    "                  kde_kws={\"color\": \"k\", \"lw\": 3, \"label\": \"KDE\"},\n",
    "                   hist_kws={\"histtype\": \"bar\", \"linewidth\": 0,\n",
    "                             \"alpha\": 1, \"color\": \"gray\"})\n",
    "    \n",
    "#plt.ylim(-0.2, 2.9)\n",
    "    \n",
    "#ax.text(1, 1.5, 'Value for $[O_2] = 100$ % Air', fontsize = 18)\n",
    "\n",
    "plt.xlabel('$AE_T$ ($^\\circ$C)', fontsize = 16)\n",
    "plt.tick_params(labelsize=16)\n",
    "\n",
    "custom_lines = [Patch(facecolor='gray', edgecolor='gray',\n",
    "                         label='$AE_T$ KDE'),\n",
    "                Line2D([0], [0], color='blue', lw=4)\n",
    "                ]\n",
    "\n",
    "ax.legend(custom_lines, ['$AE_T$ KDE', 'MAE$_T$'], fontsize = 16)\n",
    "#ax.legend( fontsize = 16)\n",
    "plt.ylim(0, 1.0)\n",
    "plt.xlim(0, 10)\n",
    "\n",
    "m_ = np.mean(MAET_boxplot_C_MTL_flat)\n",
    "\n",
    "plt.plot([m_, m_], [0, 0.56], lw = 4, color = 'blue')\n",
    "\n",
    "\n",
    "plt.show()\n",
    "\n",
    "#fig.savefig('/content/gdrive/My Drive/plot3.eps', format='eps', dpi=300,bbox_inches='tight')\n",
    "\n",
    "\n",
    "\n",
    "fig.savefig('../paper/model_20001_32_1e-3_4x50_3x15_3x15_theta90.svg', format='svg', dpi=300,bbox_inches='tight')"
   ]
  },
  {
   "cell_type": "code",
   "execution_count": 64,
   "metadata": {},
   "outputs": [
    {
     "data": {
      "text/plain": [
       "0.8008241758241759"
      ]
     },
     "execution_count": 64,
     "metadata": {},
     "output_type": "execute_result"
    }
   ],
   "source": [
    "np.sum(np.array(MAE_boxplot_C_flat) < 2.19)/len(MAE_boxplot_C_flat)"
   ]
  },
  {
   "cell_type": "code",
   "execution_count": 65,
   "metadata": {},
   "outputs": [
    {
     "name": "stdout",
     "output_type": "stream",
     "text": [
      "100% ->  3.9000000000000004\n",
      "80% ->  2.19\n"
     ]
    },
    {
     "data": {
      "image/png": "[encoded data removed]",
      "text/plain": [
       "<Figure size 432x288 with 1 Axes>"
      ]
     },
     "metadata": {
      "needs_background": "light"
     },
     "output_type": "display_data"
    }
   ],
   "source": [
    "ax = []\n",
    "xarray = np.arange(0, 5, 0.1)\n",
    "for x_ in xarray:\n",
    "    ax.append(np.sum(np.array(MAE_boxplot_C_flat) < x_)/len(MAE_boxplot_C_flat))\n",
    "    \n",
    "minidx = np.min(np.where(np.array(ax) > 0.9999))\n",
    "\n",
    "\n",
    "fig = plt.figure()\n",
    "plt.plot(np.arange(0, 5, 0.1), ax, lw = 3)\n",
    "plt.tick_params(labelsize=16)\n",
    "plt.xlabel('AE$_{[O_2]}$ (% air)', fontsize = 16)\n",
    "plt.ylabel('Error Limited Accuracy', fontsize = 16)\n",
    "plt.xlim(0,None)\n",
    "plt.ylim(0, None)\n",
    "\n",
    "#plt.plot([1.1957, 1.1957], [0, 0.25], lw = 2, color = 'black')\n",
    "#plt.text(0.3,0.3,'25%', fontsize = 16)\n",
    "\n",
    "plt.plot([2.19, 2.19], [0, 0.8], lw = 2, color = 'black')\n",
    "#plt.plot([0, 2.19], [0.8, 0.8], lw = 2, color = 'black')\n",
    "plt.text(1.2,0.1,'80%', fontsize = 16)\n",
    "\n",
    "\n",
    "plt.plot([xarray[minidx], xarray[minidx]], [0, 1.0], lw = 2, color = 'red')\n",
    "\n",
    "plt.text(4.2,0.1,'100%', fontsize = 16, color = 'red')\n",
    "print('100% -> ', xarray[minidx])\n",
    "print('80% -> ', 2.19)\n",
    "\n",
    "plt.show()\n",
    "\n",
    "fig.savefig('../paper/ELA_model_20001_32_1e-3_4x50_3x15_3x15_theta90.svg', format='svg', dpi=300,bbox_inches='tight')"
   ]
  },
  {
   "cell_type": "markdown",
   "metadata": {},
   "source": [
    "## Simpler network"
   ]
  },
  {
   "cell_type": "code",
   "execution_count": 137,
   "metadata": {},
   "outputs": [
    {
     "name": "stdout",
     "output_type": "stream",
     "text": [
      "Just finished epoch 0\n",
      "Loss.             =  0.09317027777433395\n",
      "Validation MAE_O2 =  26.507148146629333\n",
      "Validation MAE_T  =  11.319127231836319\n",
      "Training   MAE_O2 =  26.404932141304016\n",
      "Training   MAE_T  =  11.274452358484268\n",
      "Just finished epoch 0\n",
      "Just finished epoch 2500\n",
      "Just finished epoch 5000\n",
      "Loss.             =  0.000331345567246899\n",
      "Validation MAE_O2 =  0.8256543427705765\n",
      "Validation MAE_T  =  1.404909985139966\n",
      "Training   MAE_O2 =  1.4161651954054832\n",
      "Training   MAE_T  =  2.172842938452959\n",
      "5000 epochs - Estimated time to run: 1004.71 seconds, 16.75 minutes, 0.28 hours.\n",
      "Just finished epoch 5000\n",
      "Just finished epoch 7500\n",
      "Just finished epoch 10000\n",
      "Loss.             =  8.370073192054406e-05\n",
      "Validation MAE_O2 =  1.6062915325164795\n",
      "Validation MAE_T  =  2.7720393799245358\n",
      "Training   MAE_O2 =  0.6567986682057381\n",
      "Training   MAE_T  =  1.004678886383772\n",
      "5000 epochs - Estimated time to run: 668.50 seconds, 11.14 minutes, 0.19 hours.\n",
      "Just finished epoch 10000\n",
      "Just finished epoch 12500\n",
      "Just finished epoch 15000\n",
      "Loss.             =  2.72102279268438e-05\n",
      "Validation MAE_O2 =  0.21533553954213858\n",
      "Validation MAE_T  =  0.27845981530845165\n",
      "Training   MAE_O2 =  0.4110385663807392\n",
      "Training   MAE_T  =  0.5155187705531716\n",
      "5000 epochs - Estimated time to run: 877.75 seconds, 14.63 minutes, 0.24 hours.\n",
      "Just finished epoch 15000\n",
      "Just finished epoch 17500\n",
      "Just finished epoch 20000\n",
      "Loss.             =  2.6073725166497752e-05\n",
      "Validation MAE_O2 =  0.24195120204240084\n",
      "Validation MAE_T  =  0.3294199635274708\n",
      "Training   MAE_O2 =  0.3943982068449259\n",
      "Training   MAE_T  =  0.4816965339705348\n",
      "5000 epochs - Estimated time to run: 949.62 seconds, 15.83 minutes, 0.26 hours.\n",
      "Just finished epoch 20000\n",
      "Just finished epoch 22500\n",
      "Just finished epoch 25000\n",
      "Loss.             =  2.2130772777018137e-05\n",
      "Validation MAE_O2 =  0.6956634111702442\n",
      "Validation MAE_T  =  0.9278336819261312\n",
      "Training   MAE_O2 =  0.36472235806286335\n",
      "Training   MAE_T  =  0.4515027394518256\n",
      "5000 epochs - Estimated time to run: 1092.98 seconds, 18.22 minutes, 0.30 hours.\n",
      "Just finished epoch 25000\n",
      "Just finished epoch 27500\n",
      "Just finished epoch 30000\n",
      "Loss.             =  5.3584972192766145e-05\n",
      "Validation MAE_O2 =  0.2606505760923028\n",
      "Validation MAE_T  =  0.3875501174479723\n",
      "Training   MAE_O2 =  0.5564776714891195\n",
      "Training   MAE_T  =  0.6444221315905452\n",
      "5000 epochs - Estimated time to run: 1005.04 seconds, 16.75 minutes, 0.28 hours.\n",
      "Just finished epoch 30000\n",
      "Just finished epoch 32500\n",
      "Just finished epoch 35000\n",
      "Loss.             =  2.0105009753024206e-05\n",
      "Validation MAE_O2 =  0.24353829212486744\n",
      "Validation MAE_T  =  0.28379179537296295\n",
      "Training   MAE_O2 =  0.34432364627718925\n",
      "Training   MAE_T  =  0.3743258211761713\n",
      "5000 epochs - Estimated time to run: 781.41 seconds, 13.02 minutes, 0.22 hours.\n",
      "Just finished epoch 35000\n",
      "Just finished epoch 37500\n",
      "Just finished epoch 40000\n",
      "Loss.             =  1.970664379769005e-05\n",
      "Validation MAE_O2 =  0.40411315858364105\n",
      "Validation MAE_T  =  0.5269410414621234\n",
      "Training   MAE_O2 =  0.33399800304323435\n",
      "Training   MAE_T  =  0.38899985142052174\n",
      "5000 epochs - Estimated time to run: 757.63 seconds, 12.63 minutes, 0.21 hours.\n",
      "Just finished epoch 40000\n",
      "Just finished epoch 42500\n",
      "Just finished epoch 45000\n",
      "Loss.             =  3.500457387417555e-05\n",
      "Validation MAE_O2 =  0.4730118904262781\n",
      "Validation MAE_T  =  0.617880541831255\n",
      "Training   MAE_O2 =  0.4490018356591463\n",
      "Training   MAE_T  =  0.512341819703579\n",
      "5000 epochs - Estimated time to run: 735.73 seconds, 12.26 minutes, 0.20 hours.\n",
      "Just finished epoch 45000\n",
      "Just finished epoch 47500\n",
      "Just finished epoch 50000\n",
      "Loss.             =  1.7440550436731428e-05\n",
      "Validation MAE_O2 =  0.40645371191203594\n",
      "Validation MAE_T  =  0.5701229721307755\n",
      "Training   MAE_O2 =  0.32132091000676155\n",
      "Training   MAE_T  =  0.3950562793761492\n",
      "5000 epochs - Estimated time to run: 755.41 seconds, 12.59 minutes, 0.21 hours.\n",
      "Just finished epoch 50000\n",
      "Just finished epoch 52500\n",
      "Just finished epoch 55000\n",
      "Loss.             =  3.122611451544799e-05\n",
      "Validation MAE_O2 =  0.6502077914774418\n",
      "Validation MAE_T  =  0.6278455769643188\n",
      "Training   MAE_O2 =  0.4028608091175556\n",
      "Training   MAE_T  =  0.48019520938396454\n",
      "5000 epochs - Estimated time to run: 777.83 seconds, 12.96 minutes, 0.22 hours.\n",
      "Just finished epoch 55000\n",
      "Just finished epoch 57500\n",
      "Just finished epoch 60000\n",
      "Loss.             =  1.5654763046768494e-05\n",
      "Validation MAE_O2 =  0.23851264268159866\n",
      "Validation MAE_T  =  0.20747129805386066\n",
      "Training   MAE_O2 =  0.2975404029712081\n",
      "Training   MAE_T  =  0.3452806198038161\n",
      "5000 epochs - Estimated time to run: 752.23 seconds, 12.54 minutes, 0.21 hours.\n",
      "Just finished epoch 60000\n",
      "Just finished epoch 62500\n",
      "Just finished epoch 65000\n",
      "Loss.             =  1.3946937542641535e-05\n",
      "Validation MAE_O2 =  0.2634938107803464\n",
      "Validation MAE_T  =  0.3094109147787094\n",
      "Training   MAE_O2 =  0.2801234135404229\n",
      "Training   MAE_T  =  0.3303371951915324\n",
      "5000 epochs - Estimated time to run: 748.51 seconds, 12.48 minutes, 0.21 hours.\n",
      "Just finished epoch 65000\n",
      "Just finished epoch 67500\n",
      "Just finished epoch 70000\n",
      "Loss.             =  2.0734591089421883e-05\n",
      "Validation MAE_O2 =  0.206963368691504\n",
      "Validation MAE_T  =  0.2783221215941012\n",
      "Training   MAE_O2 =  0.34261378459632397\n",
      "Training   MAE_T  =  0.4334241896867752\n",
      "5000 epochs - Estimated time to run: 741.78 seconds, 12.36 minutes, 0.21 hours.\n",
      "Just finished epoch 70000\n",
      "Just finished epoch 72500\n",
      "Just finished epoch 75000\n",
      "Loss.             =  6.565081548615126e-06\n",
      "Validation MAE_O2 =  0.19306354224681854\n",
      "Validation MAE_T  =  0.2840905054472387\n",
      "Training   MAE_O2 =  0.19079945050179958\n",
      "Training   MAE_T  =  0.21204192889854312\n",
      "5000 epochs - Estimated time to run: 729.51 seconds, 12.16 minutes, 0.20 hours.\n",
      "Just finished epoch 75000\n",
      "Just finished epoch 77500\n",
      "Just finished epoch 80000\n",
      "Loss.             =  0.0001617502566659823\n",
      "Validation MAE_O2 =  0.5127815995365381\n",
      "Validation MAE_T  =  0.47457086853682995\n",
      "Training   MAE_O2 =  0.8873030543327332\n",
      "Training   MAE_T  =  1.0657308250665665\n",
      "5000 epochs - Estimated time to run: 753.38 seconds, 12.56 minutes, 0.21 hours.\n",
      "Just finished epoch 80000\n",
      "Just finished epoch 82500\n",
      "Just finished epoch 85000\n",
      "Loss.             =  3.6507699405774474e-05\n",
      "Validation MAE_O2 =  0.20146637689322233\n",
      "Validation MAE_T  =  0.394587479531765\n",
      "Training   MAE_O2 =  0.4496586509048939\n",
      "Training   MAE_T  =  0.5514003988355398\n",
      "5000 epochs - Estimated time to run: 769.83 seconds, 12.83 minutes, 0.21 hours.\n",
      "Just finished epoch 85000\n",
      "Just finished epoch 87500\n",
      "Just finished epoch 90000\n",
      "Loss.             =  9.804901310417335e-06\n",
      "Validation MAE_O2 =  0.2063435036689043\n",
      "Validation MAE_T  =  0.2015652833506465\n",
      "Training   MAE_O2 =  0.2303582150489092\n",
      "Training   MAE_T  =  0.2643744251690805\n",
      "5000 epochs - Estimated time to run: 814.66 seconds, 13.58 minutes, 0.23 hours.\n",
      "Just finished epoch 90000\n",
      "Just finished epoch 92500\n",
      "Just finished epoch 95000\n",
      "Loss.             =  3.015700167452451e-05\n",
      "Validation MAE_O2 =  0.3150689881294966\n",
      "Validation MAE_T  =  0.3875515004619956\n",
      "Training   MAE_O2 =  0.41182725690305233\n",
      "Training   MAE_T  =  0.48545929603278637\n",
      "5000 epochs - Estimated time to run: 758.00 seconds, 12.63 minutes, 0.21 hours.\n",
      "Just finished epoch 95000\n",
      "Just finished epoch 97500\n",
      "Just finished epoch 100000\n",
      "Loss.             =  9.395926099386998e-06\n",
      "Validation MAE_O2 =  0.2090389607474208\n",
      "Validation MAE_T  =  0.2678022882901132\n",
      "Training   MAE_O2 =  0.22064403165131807\n",
      "Training   MAE_T  =  0.26139761321246624\n",
      "5000 epochs - Estimated time to run: 751.53 seconds, 12.53 minutes, 0.21 hours.\n",
      "Just finished epoch 100000\n",
      "Total Elapsed time: 4 hours, 30 minutes, 38 seconds\n"
     ]
    }
   ],
   "source": [
    "model4 = get_compiled_model_1() # Simpler network\n",
    "H2 = fit_model(model4, in_epochs = 100001, in_batch_size = 32, in_epoch_interval_measure_time = 5000, in_epoch_interval_print_progress = 2500)\n",
    "model4.save(\"model_100001_32_1e-3_3x50_2x5_2x5.h5\")"
   ]
  },
  {
   "cell_type": "code",
   "execution_count": 36,
   "metadata": {},
   "outputs": [
    {
     "name": "stdout",
     "output_type": "stream",
     "text": [
      "Just finished epoch 0\n",
      "Loss.             =  0.09247762709856033\n",
      "Validation MAE_O2 =  26.504501700401306\n",
      "Validation MAE_T  =  12.393270134925842\n",
      "Training   MAE_O2 =  26.25834047794342\n",
      "Training   MAE_T  =  12.861862778663635\n",
      "Just finished epoch 0\n",
      "500 epochs - Estimated time to run: 76.28 seconds, 1.27 minutes, 0.02 hours.\n",
      "Just finished epoch 500\n",
      "Just finished epoch 1000\n",
      "Loss.             =  0.010857290588319302\n",
      "Validation MAE_O2 =  8.222056925296783\n",
      "Validation MAE_T  =  9.849510043859482\n",
      "Training   MAE_O2 =  8.236376196146011\n",
      "Training   MAE_T  =  9.657701924443245\n",
      "500 epochs - Estimated time to run: 72.13 seconds, 1.20 minutes, 0.02 hours.\n",
      "Just finished epoch 1000\n",
      "500 epochs - Estimated time to run: 73.34 seconds, 1.22 minutes, 0.02 hours.\n",
      "Just finished epoch 1500\n",
      "Just finished epoch 2000\n",
      "Loss.             =  0.0012801828561350703\n",
      "Validation MAE_O2 =  4.374073073267937\n",
      "Validation MAE_T  =  5.325206480920315\n",
      "Training   MAE_O2 =  2.817106246948242\n",
      "Training   MAE_T  =  3.9463378116488457\n",
      "500 epochs - Estimated time to run: 74.46 seconds, 1.24 minutes, 0.02 hours.\n",
      "Just finished epoch 2000\n",
      "500 epochs - Estimated time to run: 74.68 seconds, 1.24 minutes, 0.02 hours.\n",
      "Just finished epoch 2500\n",
      "Just finished epoch 3000\n",
      "Loss.             =  0.0006602233042940497\n",
      "Validation MAE_O2 =  4.945047944784164\n",
      "Validation MAE_T  =  5.484869666397572\n",
      "Training   MAE_O2 =  1.9321259111166\n",
      "Training   MAE_T  =  2.762921378016472\n",
      "500 epochs - Estimated time to run: 75.06 seconds, 1.25 minutes, 0.02 hours.\n",
      "Just finished epoch 3000\n",
      "500 epochs - Estimated time to run: 72.50 seconds, 1.21 minutes, 0.02 hours.\n",
      "Just finished epoch 3500\n",
      "Just finished epoch 4000\n",
      "Loss.             =  0.0007944214739836752\n",
      "Validation MAE_O2 =  1.2786384671926498\n",
      "Validation MAE_T  =  1.9953933544456959\n",
      "Training   MAE_O2 =  2.1526580676436424\n",
      "Training   MAE_T  =  2.990444116294384\n",
      "500 epochs - Estimated time to run: 74.53 seconds, 1.24 minutes, 0.02 hours.\n",
      "Just finished epoch 4000\n",
      "500 epochs - Estimated time to run: 68.33 seconds, 1.14 minutes, 0.02 hours.\n",
      "Just finished epoch 4500\n",
      "Just finished epoch 5000\n",
      "Loss.             =  0.0005636984133161604\n",
      "Validation MAE_O2 =  2.345253713428974\n",
      "Validation MAE_T  =  2.9191097617149353\n",
      "Training   MAE_O2 =  1.8244432285428047\n",
      "Training   MAE_T  =  2.548165787011385\n",
      "500 epochs - Estimated time to run: 75.50 seconds, 1.26 minutes, 0.02 hours.\n",
      "Just finished epoch 5000\n",
      "500 epochs - Estimated time to run: 75.08 seconds, 1.25 minutes, 0.02 hours.\n",
      "Just finished epoch 5500\n",
      "Just finished epoch 6000\n",
      "Loss.             =  0.00043384177843108773\n",
      "Validation MAE_O2 =  0.8637020364403725\n",
      "Validation MAE_T  =  1.4072238095104694\n",
      "Training   MAE_O2 =  1.4930450357496738\n",
      "Training   MAE_T  =  2.206053715199232\n",
      "500 epochs - Estimated time to run: 73.76 seconds, 1.23 minutes, 0.02 hours.\n",
      "Just finished epoch 6000\n",
      "500 epochs - Estimated time to run: 75.97 seconds, 1.27 minutes, 0.02 hours.\n",
      "Just finished epoch 6500\n",
      "Just finished epoch 7000\n",
      "Loss.             =  0.0008407463901676238\n",
      "Validation MAE_O2 =  2.6123126968741417\n",
      "Validation MAE_T  =  2.8041397221386433\n",
      "Training   MAE_O2 =  2.116672322154045\n",
      "Training   MAE_T  =  2.9007792100310326\n",
      "500 epochs - Estimated time to run: 72.83 seconds, 1.21 minutes, 0.02 hours.\n",
      "Just finished epoch 7000\n",
      "500 epochs - Estimated time to run: 74.69 seconds, 1.24 minutes, 0.02 hours.\n",
      "Just finished epoch 7500\n",
      "Just finished epoch 8000\n",
      "Loss.             =  0.0003251386806368828\n",
      "Validation MAE_O2 =  2.4482663720846176\n",
      "Validation MAE_T  =  3.36433969438076\n",
      "Training   MAE_O2 =  1.351428311318159\n",
      "Training   MAE_T  =  1.9445044733583927\n",
      "500 epochs - Estimated time to run: 81.21 seconds, 1.35 minutes, 0.02 hours.\n",
      "Just finished epoch 8000\n",
      "500 epochs - Estimated time to run: 80.95 seconds, 1.35 minutes, 0.02 hours.\n",
      "Just finished epoch 8500\n",
      "Just finished epoch 9000\n",
      "Loss.             =  0.00058256700867787\n",
      "Validation MAE_O2 =  2.4429690092802048\n",
      "Validation MAE_T  =  2.6522100158035755\n",
      "Training   MAE_O2 =  1.767180860042572\n",
      "Training   MAE_T  =  2.370766829699278\n",
      "500 epochs - Estimated time to run: 74.01 seconds, 1.23 minutes, 0.02 hours.\n",
      "Just finished epoch 9000\n",
      "500 epochs - Estimated time to run: 71.46 seconds, 1.19 minutes, 0.02 hours.\n",
      "Just finished epoch 9500\n",
      "Just finished epoch 10000\n",
      "Loss.             =  0.0002840695669874549\n",
      "Validation MAE_O2 =  3.6958642303943634\n",
      "Validation MAE_T  =  4.966482482850552\n",
      "Training   MAE_O2 =  1.253882423043251\n",
      "Training   MAE_T  =  1.7377130314707756\n",
      "500 epochs - Estimated time to run: 74.56 seconds, 1.24 minutes, 0.02 hours.\n",
      "Just finished epoch 10000\n",
      "500 epochs - Estimated time to run: 73.95 seconds, 1.23 minutes, 0.02 hours.\n",
      "Just finished epoch 10500\n",
      "Just finished epoch 11000\n",
      "Loss.             =  0.00017685962666291744\n",
      "Validation MAE_O2 =  0.8517075330018997\n",
      "Validation MAE_T  =  1.278151972219348\n",
      "Training   MAE_O2 =  0.9790847077965736\n",
      "Training   MAE_T  =  1.3451596722006798\n",
      "500 epochs - Estimated time to run: 74.37 seconds, 1.24 minutes, 0.02 hours.\n",
      "Just finished epoch 11000\n",
      "500 epochs - Estimated time to run: 70.61 seconds, 1.18 minutes, 0.02 hours.\n",
      "Just finished epoch 11500\n",
      "Just finished epoch 12000\n",
      "Loss.             =  0.000128533472889103\n",
      "Validation MAE_O2 =  0.6116453092545271\n",
      "Validation MAE_T  =  0.8812390174716711\n",
      "Training   MAE_O2 =  0.8505387231707573\n",
      "Training   MAE_T  =  1.151685481891036\n",
      "500 epochs - Estimated time to run: 74.15 seconds, 1.24 minutes, 0.02 hours.\n",
      "Just finished epoch 12000\n",
      "500 epochs - Estimated time to run: 73.08 seconds, 1.22 minutes, 0.02 hours.\n",
      "Just finished epoch 12500\n",
      "Just finished epoch 13000\n",
      "Loss.             =  0.00012896467524114996\n",
      "Validation MAE_O2 =  0.9355112910270691\n",
      "Validation MAE_T  =  1.3056247495114803\n",
      "Training   MAE_O2 =  0.8334084413945675\n",
      "Training   MAE_T  =  1.1998345702886581\n",
      "500 epochs - Estimated time to run: 73.30 seconds, 1.22 minutes, 0.02 hours.\n",
      "Just finished epoch 13000\n",
      "500 epochs - Estimated time to run: 67.96 seconds, 1.13 minutes, 0.02 hours.\n",
      "Just finished epoch 13500\n",
      "Just finished epoch 14000\n",
      "Loss.             =  0.0002514683874323964\n",
      "Validation MAE_O2 =  3.2901976257562637\n",
      "Validation MAE_T  =  3.921249434351921\n",
      "Training   MAE_O2 =  1.1843735352158546\n",
      "Training   MAE_T  =  1.6157622076570988\n",
      "500 epochs - Estimated time to run: 67.38 seconds, 1.12 minutes, 0.02 hours.\n",
      "Just finished epoch 14000\n",
      "500 epochs - Estimated time to run: 67.92 seconds, 1.13 minutes, 0.02 hours.\n",
      "Just finished epoch 14500\n",
      "Just finished epoch 15000\n",
      "Loss.             =  0.0001351147220702842\n",
      "Validation MAE_O2 =  0.8690929040312767\n",
      "Validation MAE_T  =  1.1909795086830854\n",
      "Training   MAE_O2 =  0.8791033178567886\n",
      "Training   MAE_T  =  1.2606379017233849\n",
      "500 epochs - Estimated time to run: 75.32 seconds, 1.26 minutes, 0.02 hours.\n",
      "Just finished epoch 15000\n",
      "500 epochs - Estimated time to run: 86.18 seconds, 1.44 minutes, 0.02 hours.\n",
      "Just finished epoch 15500\n",
      "Just finished epoch 16000\n",
      "Loss.             =  0.00029543935670517385\n",
      "Validation MAE_O2 =  0.5209825001657009\n",
      "Validation MAE_T  =  0.8877803385257721\n",
      "Training   MAE_O2 =  1.3377076014876366\n",
      "Training   MAE_T  =  1.8386723846197128\n",
      "500 epochs - Estimated time to run: 70.29 seconds, 1.17 minutes, 0.02 hours.\n",
      "Just finished epoch 16000\n",
      "500 epochs - Estimated time to run: 67.81 seconds, 1.13 minutes, 0.02 hours.\n",
      "Just finished epoch 16500\n",
      "Just finished epoch 17000\n",
      "Loss.             =  7.498521154047921e-05\n",
      "Validation MAE_O2 =  0.5574288312345743\n",
      "Validation MAE_T  =  0.9076895378530025\n",
      "Training   MAE_O2 =  0.6503837648779154\n",
      "Training   MAE_T  =  0.9269268438220024\n",
      "500 epochs - Estimated time to run: 73.64 seconds, 1.23 minutes, 0.02 hours.\n",
      "Just finished epoch 17000\n",
      "500 epochs - Estimated time to run: 70.38 seconds, 1.17 minutes, 0.02 hours.\n",
      "Just finished epoch 17500\n",
      "Just finished epoch 18000\n",
      "Loss.             =  0.0006006138282828033\n",
      "Validation MAE_O2 =  2.1220095455646515\n",
      "Validation MAE_T  =  2.4259100295603275\n",
      "Training   MAE_O2 =  1.65537279099226\n",
      "Training   MAE_T  =  2.213952485471964\n",
      "500 epochs - Estimated time to run: 69.02 seconds, 1.15 minutes, 0.02 hours.\n",
      "Just finished epoch 18000\n",
      "500 epochs - Estimated time to run: 69.07 seconds, 1.15 minutes, 0.02 hours.\n",
      "Just finished epoch 18500\n",
      "Just finished epoch 19000\n",
      "Loss.             =  0.00018646533135324717\n",
      "Validation MAE_O2 =  2.4319207295775414\n",
      "Validation MAE_T  =  3.1592784449458122\n",
      "Training   MAE_O2 =  0.9661413729190826\n",
      "Training   MAE_T  =  1.3908809423446655\n",
      "500 epochs - Estimated time to run: 76.32 seconds, 1.27 minutes, 0.02 hours.\n",
      "Just finished epoch 19000\n",
      "500 epochs - Estimated time to run: 70.36 seconds, 1.17 minutes, 0.02 hours.\n",
      "Just finished epoch 19500\n",
      "Just finished epoch 20000\n",
      "Loss.             =  0.00011416149936849251\n",
      "Validation MAE_O2 =  1.3295480981469154\n",
      "Validation MAE_T  =  1.6332056187093258\n",
      "Training   MAE_O2 =  0.8220452815294266\n",
      "Training   MAE_T  =  1.153550622984767\n",
      "500 epochs - Estimated time to run: 68.08 seconds, 1.13 minutes, 0.02 hours.\n",
      "Just finished epoch 20000\n",
      "Total Elapsed time: 0 hours, 48 minutes, 59 seconds\n"
     ]
    }
   ],
   "source": [
    "model2 = get_compiled_model_1() # Simpler network\n",
    "H2 = fit_model(model2, in_epochs = 20001, in_batch_size = 32, in_epoch_interval_measure_time = 500, in_epoch_interval_print_progress = 500)\n",
    "model2.save(\"model_20001_32_1e-3_3x50_2x5_2x5.h5\")"
   ]
  },
  {
   "cell_type": "code",
   "execution_count": 37,
   "metadata": {},
   "outputs": [
    {
     "data": {
      "image/png": "[encoded data removed]",
      "text/plain": [
       "<Figure size 432x288 with 1 Axes>"
      ]
     },
     "metadata": {
      "needs_background": "light"
     },
     "output_type": "display_data"
    }
   ],
   "source": [
    "plt.plot(H2.history['loss'])\n",
    "plt.plot(H2.history['val_loss'])\n",
    "plt.title('Model loss')\n",
    "plt.ylabel('Loss')\n",
    "plt.xlabel('Epoch')\n",
    "plt.legend(['Train', 'Test'], loc='upper left')\n",
    "#plt.xlim(90000, None)\n",
    "#plt.ylim(None, 0.1)\n",
    "plt.show()"
   ]
  },
  {
   "cell_type": "code",
   "execution_count": 107,
   "metadata": {},
   "outputs": [],
   "source": [
    "# Eventually load the model again\n",
    "model = keras.models.load_model(\"model_20001_32_1e-3_3x50_2x5_2x5.h5\")"
   ]
  },
  {
   "cell_type": "code",
   "execution_count": 108,
   "metadata": {},
   "outputs": [
    {
     "name": "stdout",
     "output_type": "stream",
     "text": [
      "Model: \"model\"\n",
      "__________________________________________________________________________________________________\n",
      "Layer (type)                    Output Shape         Param #     Connected to                     \n",
      "==================================================================================================\n",
      "input_1 (InputLayer)            [(None, 50)]         0                                            \n",
      "__________________________________________________________________________________________________\n",
      "dense (Dense)                   (None, 50)           2550        input_1[0][0]                    \n",
      "__________________________________________________________________________________________________\n",
      "dense_1 (Dense)                 (None, 50)           2550        dense[0][0]                      \n",
      "__________________________________________________________________________________________________\n",
      "dense_2 (Dense)                 (None, 50)           2550        dense_1[0][0]                    \n",
      "__________________________________________________________________________________________________\n",
      "dense_3 (Dense)                 (None, 5)            255         dense_2[0][0]                    \n",
      "__________________________________________________________________________________________________\n",
      "dense_5 (Dense)                 (None, 5)            255         dense_2[0][0]                    \n",
      "__________________________________________________________________________________________________\n",
      "dense_4 (Dense)                 (None, 5)            30          dense_3[0][0]                    \n",
      "__________________________________________________________________________________________________\n",
      "dense_6 (Dense)                 (None, 5)            30          dense_5[0][0]                    \n",
      "__________________________________________________________________________________________________\n",
      "both_output (Dense)             (None, 2)            102         dense_2[0][0]                    \n",
      "__________________________________________________________________________________________________\n",
      "O2_output (Dense)               (None, 1)            6           dense_4[0][0]                    \n",
      "__________________________________________________________________________________________________\n",
      "T_output (Dense)                (None, 1)            6           dense_6[0][0]                    \n",
      "==================================================================================================\n",
      "Total params: 8,334\n",
      "Trainable params: 8,334\n",
      "Non-trainable params: 0\n",
      "__________________________________________________________________________________________________\n"
     ]
    }
   ],
   "source": [
    "model.summary()"
   ]
  },
  {
   "cell_type": "code",
   "execution_count": 109,
   "metadata": {},
   "outputs": [],
   "source": [
    "targets_dev = targets_dev.reset_index(drop = True)\n",
    "preds_exp_o2_df, preds_exp_T_df = get_predictions(model)"
   ]
  },
  {
   "cell_type": "code",
   "execution_count": 113,
   "metadata": {},
   "outputs": [],
   "source": [
    "MAE_boxplot_C_2, MAE_list_C_2, MAE_xticks_C_2 = MAE_O2_list_generator(10.0, targets_dev, preds_exp_o2_df)\n",
    "MAET_boxplot_C_MTL_2, MAET_list_C_MTL_2, MAET_xticks_C_MTL_2 = MAE_T_list_generator(targets_dev, preds_exp_T_df)\n",
    "MAE_boxplot_C_flat_2 = [item for sublist in MAE_boxplot_C_2 for item in sublist]\n",
    "MAET_boxplot_C_MTL_flat_2 = [item for sublist in MAET_boxplot_C_MTL_2 for item in sublist]"
   ]
  },
  {
   "cell_type": "code",
   "execution_count": 114,
   "metadata": {},
   "outputs": [
    {
     "name": "stdout",
     "output_type": "stream",
     "text": [
      "[0.14425078106774808, 2.2521701353053523, 1.348282308645651, 1.2189798388216246, 1.2084147135416654, 1.2196332216262795, 1.408922578159132, 1.5852960906451283, 1.5059255686673243, 1.8802897377711985]\n",
      "1.3673768710801737\n"
     ]
    }
   ],
   "source": [
    "print(MAE_list_C_2)\n",
    "print(np.mean(MAE_boxplot_C_flat_2))"
   ]
  },
  {
   "cell_type": "code",
   "execution_count": 115,
   "metadata": {},
   "outputs": [
    {
     "data": {
      "text/plain": [
       "(-0.1, 20)"
      ]
     },
     "execution_count": 115,
     "metadata": {},
     "output_type": "execute_result"
    },
    {
     "data": {
      "text/plain": [
       "<Figure size 432x288 with 0 Axes>"
      ]
     },
     "metadata": {},
     "output_type": "display_data"
    },
    {
     "data": {
      "image/png": "[encoded data removed]",
      "text/plain": [
       "<Figure size 1152x360 with 2 Axes>"
      ]
     },
     "metadata": {
      "needs_background": "light"
     },
     "output_type": "display_data"
    }
   ],
   "source": [
    "maxy = 10.0\n",
    "\n",
    "\n",
    "plt.rc('font', family='arial')\n",
    "plt.rc('xtick', labelsize='x-small')\n",
    "plt.rc('ytick', labelsize='x-small')\n",
    "    \n",
    "plt.tight_layout()\n",
    "\n",
    "fig = plt.figure(figsize=(16, 5))\n",
    "\n",
    "\n",
    "\n",
    "ax = fig.add_subplot(1, 2, 1)\n",
    "\n",
    "\n",
    "\n",
    "bp = ax.boxplot(MAE_boxplot_C_2, whis = 'range')\n",
    "ax.set_xticklabels([5, 15, 25, 35, 45])\n",
    "\n",
    "for whisker in bp['whiskers']:\n",
    "    whisker.set(color = 'black', linewidth = 2)\n",
    "for cap in bp['caps']:\n",
    "    cap.set(color = 'black', linewidth = 2)\n",
    "for box in bp['boxes']:\n",
    "    box.set(color = 'black', linewidth = 2)\n",
    "for median in bp['medians']:\n",
    "    median.set(color = 'red', linewidth = 2)\n",
    "for outl in bp['fliers']:\n",
    "    outl.set(linewidth = 0, ms = 0, mew = 1.4, markerfacecolor = 'none')\n",
    "    \n",
    "#plt.ylim(-0.2, 2.9)\n",
    "    \n",
    "#ax.text(1, 1.5, 'Value for $[O_2] = 100$ % Air', fontsize = 18)\n",
    "\n",
    "legend_elements = [\n",
    "                  Line2D([0], [0],  lw = 2, color='red', label='epochs=20k; mb=32; 4x50,3x15,3x15',\n",
    "                          markerfacecolor='none', markeredgewidth=1.4, markersize=8)]\n",
    "ax.legend(handles=legend_elements, loc='upper left', fontsize = 16)\n",
    "\n",
    "plt.xticks(range(1,len(MAE_xticks_C_2)+1), MAE_xticks_C_2, size='small', rotation = 'vertical')\n",
    "\n",
    "#plt.grid()\n",
    "\n",
    "plt.ylabel('Absolute Error (% air)', fontsize = 16)\n",
    "plt.xlabel('$[O_2]$ ranges (% air)', fontsize = 16)\n",
    "plt.tick_params(labelsize=16)\n",
    "plt.ylim(-0.1,maxy)\n",
    "\n",
    "\n",
    "\n",
    "\n",
    "ax = fig.add_subplot(1, 2, 2)\n",
    "\n",
    "\n",
    "bp = ax.boxplot(MAET_boxplot_C_MTL_2, whis = 'range')\n",
    "ax.set_xticklabels([5, 15, 25, 35, 45])\n",
    "\n",
    "for whisker in bp['whiskers']:\n",
    "    whisker.set(color = 'black', linewidth = 2)\n",
    "for cap in bp['caps']:\n",
    "    cap.set(color = 'black', linewidth = 2)\n",
    "for box in bp['boxes']:\n",
    "    box.set(color = 'black', linewidth = 2)\n",
    "for median in bp['medians']:\n",
    "    median.set(color = 'red', linewidth = 2)\n",
    "for outl in bp['fliers']:\n",
    "    outl.set(linewidth = 0, ms = 0, mew = 1.4, markerfacecolor = 'none')\n",
    "    \n",
    "#plt.ylim(-0.2, 2.9)\n",
    "    \n",
    "#ax.text(1, 1.5, 'Value for $[O_2] = 100$ % Air', fontsize = 18)\n",
    "\n",
    "legend_elements = [\n",
    "                  Line2D([0], [0],  lw = 2, color='red', label='epochs=20k; mb=32; 4x50,3x15,3x15',\n",
    "                          markerfacecolor='none', markeredgewidth=1.4, markersize=8)]\n",
    "ax.legend(handles=legend_elements, loc='upper left', fontsize = 16)\n",
    "\n",
    "plt.xticks(range(1,len(MAET_xticks_C_MTL_2)+1), MAET_xticks_C_MTL_2, size='small', rotation = 'vertical')\n",
    "\n",
    "#plt.grid()\n",
    "\n",
    "plt.ylabel('Absolute Error ($^\\circ$ C)', fontsize = 16)\n",
    "plt.xlabel('T ($^\\circ$ C)', fontsize = 16)\n",
    "plt.tick_params(labelsize=16)\n",
    "plt.ylim(-0.1,20)\n",
    "\n",
    "#fig.savefig('../paper/results_theta90.eps')"
   ]
  },
  {
   "cell_type": "code",
   "execution_count": 116,
   "metadata": {},
   "outputs": [
    {
     "name": "stderr",
     "output_type": "stream",
     "text": [
      "/Users/umberto/Python-Environments/tfenv2/lib/python3.7/site-packages/scipy/stats/stats.py:1713: FutureWarning: Using a non-tuple sequence for multidimensional indexing is deprecated; use `arr[tuple(seq)]` instead of `arr[seq]`. In the future this will be interpreted as an array index, `arr[np.array(seq)]`, which will result either in an error or a different result.\n",
      "  return np.add.reduce(sorted[indexer] * weights, axis=axis) / sumval\n"
     ]
    },
    {
     "data": {
      "text/plain": [
       "<Figure size 432x288 with 0 Axes>"
      ]
     },
     "metadata": {},
     "output_type": "display_data"
    },
    {
     "data": {
      "image/png": "[encoded data removed]",
      "text/plain": [
       "<Figure size 1152x360 with 2 Axes>"
      ]
     },
     "metadata": {
      "needs_background": "light"
     },
     "output_type": "display_data"
    },
    {
     "name": "stderr",
     "output_type": "stream",
     "text": [
      "W0220 20:29:33.272879 4724334016 backend_ps.py:804] The PostScript backend does not support transparency; partially transparent artists will be rendered opaque.\n",
      "W0220 20:29:33.273684 4724334016 backend_ps.py:804] The PostScript backend does not support transparency; partially transparent artists will be rendered opaque.\n",
      "W0220 20:29:33.329567 4724334016 backend_ps.py:804] The PostScript backend does not support transparency; partially transparent artists will be rendered opaque.\n",
      "W0220 20:29:33.330224 4724334016 backend_ps.py:804] The PostScript backend does not support transparency; partially transparent artists will be rendered opaque.\n",
      "W0220 20:29:33.561285 4724334016 backend_ps.py:804] The PostScript backend does not support transparency; partially transparent artists will be rendered opaque.\n",
      "W0220 20:29:33.561895 4724334016 backend_ps.py:804] The PostScript backend does not support transparency; partially transparent artists will be rendered opaque.\n",
      "W0220 20:29:33.615989 4724334016 backend_ps.py:804] The PostScript backend does not support transparency; partially transparent artists will be rendered opaque.\n",
      "W0220 20:29:33.616711 4724334016 backend_ps.py:804] The PostScript backend does not support transparency; partially transparent artists will be rendered opaque.\n"
     ]
    }
   ],
   "source": [
    "\n",
    "    \n",
    "plt.tight_layout()\n",
    "\n",
    "fig = plt.figure(figsize=(16, 5))\n",
    "\n",
    "\n",
    "\n",
    "ax = fig.add_subplot(1, 2, 1)\n",
    "\n",
    "\n",
    "sns.distplot(MAE_boxplot_C_flat_2, color = 'gray', hist = True, label = 'AE$_{[O_2]}$ KDE',rug_kws={\"color\": \"gray\"},\n",
    "                  kde_kws={\"color\": \"k\", \"lw\": 3, \"label\": \"KDE\"},\n",
    "                   hist_kws={\"histtype\": \"bar\", \"linewidth\": 0,\n",
    "                             \"alpha\": 1, \"color\": \"gray\"})\n",
    "\n",
    "\n",
    "custom_lines = [Patch(facecolor='gray', edgecolor='gray',\n",
    "                         label='$AE_T$ KDE'),\n",
    "                Line2D([0], [0], color='blue', lw=4)\n",
    "                ]\n",
    "\n",
    "ax.legend(custom_lines, ['AE$_{[O_2]}$ KDE', 'MAE$_{[O_2]}$'], fontsize = 16)\n",
    "\n",
    "#plt.xticks(range(1,len(neta50_O2['MAE_xticks'])+1), neta50_O2['MAE_xticks'], size='small', rotation = 'vertical')\n",
    "\n",
    "#plt.grid()\n",
    "\n",
    "plt.ylabel('Counts (normalized)', fontsize = 16)\n",
    "plt.xlabel('AE$_{[O_2]}$ (% air)', fontsize = 16)\n",
    "plt.tick_params(labelsize=16)\n",
    "plt.ylim(0, 1.2)\n",
    "plt.xlim(0, 10)\n",
    "\n",
    "m_ = np.mean(MAE_boxplot_C_flat)\n",
    "\n",
    "plt.plot([m_, m_], [0, 0.755], lw = 4, color = 'blue')\n",
    "\n",
    "\n",
    "ax = fig.add_subplot(1, 2,2)\n",
    "# MAE_boxplot_C, MAE_list_C, MAE_xticks_C\n",
    "sns.distplot(MAET_boxplot_C_MTL_flat_2,   hist = True, label = '$AE_T$ KDE',rug_kws={\"color\": \"gray\"},\n",
    "                  kde_kws={\"color\": \"k\", \"lw\": 3, \"label\": \"KDE\"},\n",
    "                   hist_kws={\"histtype\": \"bar\", \"linewidth\": 0,\n",
    "                             \"alpha\": 1, \"color\": \"gray\"})\n",
    "    \n",
    "#plt.ylim(-0.2, 2.9)\n",
    "    \n",
    "#ax.text(1, 1.5, 'Value for $[O_2] = 100$ % Air', fontsize = 18)\n",
    "\n",
    "plt.xlabel('$AE_T$ ($^\\circ$C)', fontsize = 16)\n",
    "plt.tick_params(labelsize=16)\n",
    "\n",
    "custom_lines = [Patch(facecolor='gray', edgecolor='gray',\n",
    "                         label='$AE_T$ KDE'),\n",
    "                Line2D([0], [0], color='blue', lw=4)\n",
    "                ]\n",
    "\n",
    "ax.legend(custom_lines, ['$AE_T$ KDE', 'MAE$_T$'], fontsize = 16)\n",
    "#ax.legend( fontsize = 16)\n",
    "plt.ylim(0, 1.0)\n",
    "plt.xlim(0, 20)\n",
    "\n",
    "m_ = np.mean(MAET_boxplot_C_MTL_flat_2)\n",
    "\n",
    "plt.plot([m_, m_], [0, 0.32], lw = 4, color = 'blue')\n",
    "\n",
    "\n",
    "plt.show()\n",
    "\n",
    "#fig.savefig('/content/gdrive/My Drive/plot3.eps', format='eps', dpi=300,bbox_inches='tight')\n",
    "\n",
    "\n",
    "\n",
    "fig.savefig('../paper/model_20001_32_1e-3_4x50_3x15_3x15_theta90.eps', format='eps', dpi=300,bbox_inches='tight')"
   ]
  },
  {
   "cell_type": "markdown",
   "metadata": {},
   "source": [
    "# No mini-batch, (A)"
   ]
  },
  {
   "cell_type": "code",
   "execution_count": 187,
   "metadata": {},
   "outputs": [
    {
     "name": "stdout",
     "output_type": "stream",
     "text": [
      "Just finished epoch 0\n",
      "Loss.             =  0.14264392852783203\n",
      "Validation MAE_O2 =  31.915661692619324\n",
      "Validation MAE_T  =  11.320002973079681\n",
      "Training   MAE_O2 =  31.085792183876038\n",
      "Training   MAE_T  =  11.13085962831974\n",
      "Just finished epoch 0\n",
      "Just finished epoch 1000\n",
      "2000 epochs - Estimated time to run: 20.85 seconds, 0.35 minutes, 0.01 hours.\n",
      "Just finished epoch 2000\n",
      "Just finished epoch 3000\n",
      "2000 epochs - Estimated time to run: 20.86 seconds, 0.35 minutes, 0.01 hours.\n",
      "Just finished epoch 4000\n",
      "Just finished epoch 5000\n",
      "Loss.             =  0.01762697659432888\n",
      "Validation MAE_O2 =  10.451781004667282\n",
      "Validation MAE_T  =  8.689052984118462\n",
      "Training   MAE_O2 =  10.34657433629036\n",
      "Training   MAE_T  =  8.62028181552887\n",
      "Just finished epoch 5000\n",
      "2000 epochs - Estimated time to run: 20.96 seconds, 0.35 minutes, 0.01 hours.\n",
      "Just finished epoch 6000\n",
      "Just finished epoch 7000\n",
      "2000 epochs - Estimated time to run: 21.60 seconds, 0.36 minutes, 0.01 hours.\n",
      "Just finished epoch 8000\n",
      "Just finished epoch 9000\n",
      "Just finished epoch 10000\n",
      "Loss.             =  0.0012672186130657792\n",
      "Validation MAE_O2 =  2.776274085044861\n",
      "Validation MAE_T  =  4.416397288441658\n",
      "Training   MAE_O2 =  2.72792037576437\n",
      "Training   MAE_T  =  4.52889047563076\n",
      "2000 epochs - Estimated time to run: 21.92 seconds, 0.37 minutes, 0.01 hours.\n",
      "Just finished epoch 10000\n",
      "Just finished epoch 11000\n",
      "2000 epochs - Estimated time to run: 21.54 seconds, 0.36 minutes, 0.01 hours.\n",
      "Just finished epoch 12000\n",
      "Just finished epoch 13000\n",
      "2000 epochs - Estimated time to run: 22.83 seconds, 0.38 minutes, 0.01 hours.\n",
      "Just finished epoch 14000\n",
      "Just finished epoch 15000\n",
      "Loss.             =  0.0010828403756022453\n",
      "Validation MAE_O2 =  2.5074902921915054\n",
      "Validation MAE_T  =  3.904992565512657\n",
      "Training   MAE_O2 =  2.5677312165498734\n",
      "Training   MAE_T  =  3.7388015538454056\n",
      "Just finished epoch 15000\n",
      "2000 epochs - Estimated time to run: 22.92 seconds, 0.38 minutes, 0.01 hours.\n",
      "Just finished epoch 16000\n",
      "Just finished epoch 17000\n",
      "2000 epochs - Estimated time to run: 21.31 seconds, 0.36 minutes, 0.01 hours.\n",
      "Just finished epoch 18000\n",
      "Just finished epoch 19000\n",
      "Just finished epoch 20000\n",
      "Loss.             =  0.0010959610808640718\n",
      "Validation MAE_O2 =  2.5215033441781998\n",
      "Validation MAE_T  =  3.6399249359965324\n",
      "Training   MAE_O2 =  2.7013592422008514\n",
      "Training   MAE_T  =  3.6325250566005707\n",
      "2000 epochs - Estimated time to run: 22.86 seconds, 0.38 minutes, 0.01 hours.\n",
      "Just finished epoch 20000\n",
      "Total Elapsed time: 0 hours, 3 minutes, 40 seconds\n"
     ]
    }
   ],
   "source": [
    "model4 = get_compiled_model_1() # Simpler network\n",
    "H2 = fit_model(model4, in_epochs = 20001, in_batch_size = 4000, in_epoch_interval_measure_time = 2000, in_epoch_interval_print_progress = 1000)\n",
    "model4.save(\"model_20001_4000_1e-3_3x50_2x5_2x5.h5\")"
   ]
  },
  {
   "cell_type": "markdown",
   "metadata": {},
   "source": [
    "# More epochs"
   ]
  },
  {
   "cell_type": "code",
   "execution_count": 138,
   "metadata": {},
   "outputs": [
    {
     "name": "stdout",
     "output_type": "stream",
     "text": [
      "Just finished epoch 0\n",
      "Loss.             =  0.0912824422121048\n",
      "Validation MAE_O2 =  26.48395001888275\n",
      "Validation MAE_T  =  11.453591734170914\n",
      "Training   MAE_O2 =  26.151850819587708\n",
      "Training   MAE_T  =  12.633165568113327\n",
      "Just finished epoch 0\n",
      "Just finished epoch 2500\n",
      "Just finished epoch 5000\n",
      "Loss.             =  0.000637528020888567\n",
      "Validation MAE_O2 =  1.2984943576157093\n",
      "Validation MAE_T  =  2.2139897011220455\n",
      "Training   MAE_O2 =  1.8785052001476288\n",
      "Training   MAE_T  =  2.626916617155075\n",
      "5000 epochs - Estimated time to run: 762.30 seconds, 12.71 minutes, 0.21 hours.\n",
      "Just finished epoch 5000\n",
      "Just finished epoch 7500\n",
      "Just finished epoch 10000\n",
      "Loss.             =  0.00046497592120431364\n",
      "Validation MAE_O2 =  2.473827637732029\n",
      "Validation MAE_T  =  2.4910283647477627\n",
      "Training   MAE_O2 =  1.626102440059185\n",
      "Training   MAE_T  =  2.154999040067196\n",
      "5000 epochs - Estimated time to run: 835.45 seconds, 13.92 minutes, 0.23 hours.\n",
      "Just finished epoch 10000\n",
      "Just finished epoch 12500\n",
      "Just finished epoch 15000\n",
      "Loss.             =  6.967255467316136e-05\n",
      "Validation MAE_O2 =  0.3341530915349722\n",
      "Validation MAE_T  =  0.4888983489945531\n",
      "Training   MAE_O2 =  0.5686215590685606\n",
      "Training   MAE_T  =  0.7370698638260365\n",
      "5000 epochs - Estimated time to run: 846.41 seconds, 14.11 minutes, 0.24 hours.\n",
      "Just finished epoch 15000\n",
      "Just finished epoch 17500\n",
      "Just finished epoch 20000\n",
      "Loss.             =  0.0002673728158697486\n",
      "Validation MAE_O2 =  0.8477774448692799\n",
      "Validation MAE_T  =  1.0134614445269108\n",
      "Training   MAE_O2 =  1.1783698573708534\n",
      "Training   MAE_T  =  1.4476532489061356\n",
      "5000 epochs - Estimated time to run: 846.43 seconds, 14.11 minutes, 0.24 hours.\n",
      "Just finished epoch 20000\n",
      "Just finished epoch 22500\n",
      "Just finished epoch 25000\n",
      "Loss.             =  0.0005554964882321656\n",
      "Validation MAE_O2 =  0.979606993496418\n",
      "Validation MAE_T  =  1.0370742715895176\n",
      "Training   MAE_O2 =  1.62272397428751\n",
      "Training   MAE_T  =  2.0060561411082745\n",
      "5000 epochs - Estimated time to run: 842.02 seconds, 14.03 minutes, 0.23 hours.\n",
      "Just finished epoch 25000\n",
      "Just finished epoch 27500\n",
      "Just finished epoch 30000\n",
      "Loss.             =  0.00022950304264668375\n",
      "Validation MAE_O2 =  1.350957527756691\n",
      "Validation MAE_T  =  1.457394529134035\n",
      "Training   MAE_O2 =  1.0157027281820774\n",
      "Training   MAE_T  =  1.397460401058197\n",
      "5000 epochs - Estimated time to run: 853.15 seconds, 14.22 minutes, 0.24 hours.\n",
      "Just finished epoch 30000\n",
      "Just finished epoch 32500\n",
      "Just finished epoch 35000\n",
      "Loss.             =  0.00013868357928004116\n",
      "Validation MAE_O2 =  0.9086049161851406\n",
      "Validation MAE_T  =  1.2688198126852512\n",
      "Training   MAE_O2 =  0.7481699343770742\n",
      "Training   MAE_T  =  1.0457393154501915\n",
      "5000 epochs - Estimated time to run: 840.85 seconds, 14.01 minutes, 0.23 hours.\n",
      "Just finished epoch 35000\n",
      "Just finished epoch 37500\n",
      "Just finished epoch 40000\n",
      "Loss.             =  7.718046254012734e-05\n",
      "Validation MAE_O2 =  0.543822580948472\n",
      "Validation MAE_T  =  0.6678034085780382\n",
      "Training   MAE_O2 =  0.5814954172819853\n",
      "Training   MAE_T  =  0.6977532058954239\n",
      "5000 epochs - Estimated time to run: 886.92 seconds, 14.78 minutes, 0.25 hours.\n",
      "Just finished epoch 40000\n",
      "Just finished epoch 42500\n",
      "Just finished epoch 45000\n",
      "Loss.             =  0.00011654382251435891\n",
      "Validation MAE_O2 =  0.4521898925304413\n",
      "Validation MAE_T  =  0.7880214415490627\n",
      "Training   MAE_O2 =  0.750275980681181\n",
      "Training   MAE_T  =  1.1719002854079008\n",
      "5000 epochs - Estimated time to run: 887.97 seconds, 14.80 minutes, 0.25 hours.\n",
      "Just finished epoch 45000\n",
      "Just finished epoch 47500\n",
      "Just finished epoch 50000\n",
      "Loss.             =  0.00017600663704797626\n",
      "Validation MAE_O2 =  0.9792963974177837\n",
      "Validation MAE_T  =  1.410788632929325\n",
      "Training   MAE_O2 =  0.8166240528225899\n",
      "Training   MAE_T  =  1.1506186332553625\n",
      "5000 epochs - Estimated time to run: 834.60 seconds, 13.91 minutes, 0.23 hours.\n",
      "Just finished epoch 50000\n",
      "Just finished epoch 52500\n",
      "Just finished epoch 55000\n",
      "Loss.             =  0.0005962334689684212\n",
      "Validation MAE_O2 =  0.6457405164837837\n",
      "Validation MAE_T  =  1.1946859862655401\n",
      "Training   MAE_O2 =  1.8111364915966988\n",
      "Training   MAE_T  =  2.491064239293337\n",
      "5000 epochs - Estimated time to run: 840.61 seconds, 14.01 minutes, 0.23 hours.\n",
      "Just finished epoch 55000\n",
      "Just finished epoch 57500\n",
      "Just finished epoch 60000\n",
      "Loss.             =  0.00038285748451016843\n",
      "Validation MAE_O2 =  1.9130455330014229\n",
      "Validation MAE_T  =  2.5258613750338554\n",
      "Training   MAE_O2 =  1.3836387544870377\n",
      "Training   MAE_T  =  2.036710772663355\n",
      "5000 epochs - Estimated time to run: 839.45 seconds, 13.99 minutes, 0.23 hours.\n",
      "Just finished epoch 60000\n",
      "Just finished epoch 62500\n",
      "Just finished epoch 65000\n",
      "Loss.             =  8.550729398848489e-05\n",
      "Validation MAE_O2 =  1.3273832388222218\n",
      "Validation MAE_T  =  1.6354469396173954\n",
      "Training   MAE_O2 =  0.6714128889143467\n",
      "Training   MAE_T  =  0.7895723450928926\n",
      "5000 epochs - Estimated time to run: 840.84 seconds, 14.01 minutes, 0.23 hours.\n",
      "Just finished epoch 65000\n",
      "Just finished epoch 67500\n",
      "Just finished epoch 70000\n",
      "Loss.             =  0.000499160320032388\n",
      "Validation MAE_O2 =  1.0494311340153217\n",
      "Validation MAE_T  =  1.3494230434298515\n",
      "Training   MAE_O2 =  1.4853335916996002\n",
      "Training   MAE_T  =  1.8757322989404202\n",
      "5000 epochs - Estimated time to run: 828.02 seconds, 13.80 minutes, 0.23 hours.\n",
      "Just finished epoch 70000\n",
      "Just finished epoch 72500\n",
      "Just finished epoch 75000\n",
      "Loss.             =  0.00023440999211743474\n",
      "Validation MAE_O2 =  0.8132361806929111\n",
      "Validation MAE_T  =  0.8262259047478437\n",
      "Training   MAE_O2 =  0.9751016274094582\n",
      "Training   MAE_T  =  1.095336964353919\n",
      "5000 epochs - Estimated time to run: 832.48 seconds, 13.87 minutes, 0.23 hours.\n",
      "Just finished epoch 75000\n",
      "Just finished epoch 77500\n",
      "Just finished epoch 80000\n",
      "Loss.             =  0.0002212234103353694\n",
      "Validation MAE_O2 =  1.254418771713972\n",
      "Validation MAE_T  =  1.2097537145018578\n",
      "Training   MAE_O2 =  1.0585678741335869\n",
      "Training   MAE_T  =  1.4080209285020828\n",
      "5000 epochs - Estimated time to run: 834.91 seconds, 13.92 minutes, 0.23 hours.\n",
      "Just finished epoch 80000\n"
     ]
    },
    {
     "ename": "KeyboardInterrupt",
     "evalue": "",
     "output_type": "error",
     "traceback": [
      "\u001b[0;31m---------------------------------------------------------------------------\u001b[0m",
      "\u001b[0;31mKeyboardInterrupt\u001b[0m                         Traceback (most recent call last)",
      "\u001b[0;32m<ipython-input-138-81702acc84be>\u001b[0m in \u001b[0;36m<module>\u001b[0;34m\u001b[0m\n\u001b[1;32m      1\u001b[0m \u001b[0mmodel5\u001b[0m \u001b[0;34m=\u001b[0m \u001b[0mget_compiled_model\u001b[0m\u001b[0;34m(\u001b[0m\u001b[0;34m)\u001b[0m\u001b[0;34m\u001b[0m\u001b[0;34m\u001b[0m\u001b[0m\n\u001b[0;32m----> 2\u001b[0;31m \u001b[0mH\u001b[0m \u001b[0;34m=\u001b[0m \u001b[0mfit_model\u001b[0m\u001b[0;34m(\u001b[0m\u001b[0mmodel5\u001b[0m\u001b[0;34m,\u001b[0m \u001b[0min_epochs\u001b[0m \u001b[0;34m=\u001b[0m \u001b[0;36m100001\u001b[0m\u001b[0;34m,\u001b[0m \u001b[0min_batch_size\u001b[0m \u001b[0;34m=\u001b[0m \u001b[0;36m32\u001b[0m\u001b[0;34m,\u001b[0m \u001b[0min_epoch_interval_measure_time\u001b[0m \u001b[0;34m=\u001b[0m \u001b[0;36m5000\u001b[0m\u001b[0;34m,\u001b[0m \u001b[0min_epoch_interval_print_progress\u001b[0m \u001b[0;34m=\u001b[0m \u001b[0;36m2500\u001b[0m\u001b[0;34m)\u001b[0m\u001b[0;34m\u001b[0m\u001b[0;34m\u001b[0m\u001b[0m\n\u001b[0m\u001b[1;32m      3\u001b[0m \u001b[0mmodel5\u001b[0m\u001b[0;34m.\u001b[0m\u001b[0msave\u001b[0m\u001b[0;34m(\u001b[0m\u001b[0;34m\"model_100001_32_1e-3_4x50_3x15_3x15.h5\"\u001b[0m\u001b[0;34m)\u001b[0m\u001b[0;34m\u001b[0m\u001b[0;34m\u001b[0m\u001b[0m\n",
      "\u001b[0;32m<ipython-input-27-9ddc55f3e399>\u001b[0m in \u001b[0;36mwrapper\u001b[0;34m(*args, **kwargs)\u001b[0m\n\u001b[1;32m      7\u001b[0m     \u001b[0;32mdef\u001b[0m \u001b[0mwrapper\u001b[0m\u001b[0;34m(\u001b[0m\u001b[0;34m*\u001b[0m\u001b[0margs\u001b[0m\u001b[0;34m,\u001b[0m \u001b[0;34m**\u001b[0m\u001b[0mkwargs\u001b[0m\u001b[0;34m)\u001b[0m\u001b[0;34m:\u001b[0m\u001b[0;34m\u001b[0m\u001b[0;34m\u001b[0m\u001b[0m\n\u001b[1;32m      8\u001b[0m         \u001b[0mstart\u001b[0m \u001b[0;34m=\u001b[0m \u001b[0mtime\u001b[0m\u001b[0;34m(\u001b[0m\u001b[0;34m)\u001b[0m\u001b[0;34m\u001b[0m\u001b[0;34m\u001b[0m\u001b[0m\n\u001b[0;32m----> 9\u001b[0;31m         \u001b[0mresult\u001b[0m \u001b[0;34m=\u001b[0m \u001b[0mf\u001b[0m\u001b[0;34m(\u001b[0m\u001b[0;34m*\u001b[0m\u001b[0margs\u001b[0m\u001b[0;34m,\u001b[0m \u001b[0;34m**\u001b[0m\u001b[0mkwargs\u001b[0m\u001b[0;34m)\u001b[0m\u001b[0;34m\u001b[0m\u001b[0;34m\u001b[0m\u001b[0m\n\u001b[0m\u001b[1;32m     10\u001b[0m         \u001b[0mend\u001b[0m \u001b[0;34m=\u001b[0m \u001b[0mtime\u001b[0m\u001b[0;34m(\u001b[0m\u001b[0;34m)\u001b[0m\u001b[0;34m\u001b[0m\u001b[0;34m\u001b[0m\u001b[0m\n\u001b[1;32m     11\u001b[0m \u001b[0;34m\u001b[0m\u001b[0m\n",
      "\u001b[0;32m<ipython-input-99-3e7b14ec4b7d>\u001b[0m in \u001b[0;36mfit_model\u001b[0;34m(model, in_epochs, in_batch_size, in_epoch_interval_measure_time, in_epoch_interval_print_progress)\u001b[0m\n\u001b[1;32m     11\u001b[0m             callbacks = [CustomCallback_(), \n\u001b[1;32m     12\u001b[0m                          \u001b[0mCustomCallback_measure_time\u001b[0m\u001b[0;34m(\u001b[0m\u001b[0min_epoch_interval_measure_time\u001b[0m\u001b[0;34m)\u001b[0m\u001b[0;34m,\u001b[0m\u001b[0;34m\u001b[0m\u001b[0;34m\u001b[0m\u001b[0m\n\u001b[0;32m---> 13\u001b[0;31m                          CustomCallback_epochs_count(in_epoch_interval_print_progress)])\n\u001b[0m\u001b[1;32m     14\u001b[0m \u001b[0;34m\u001b[0m\u001b[0m\n\u001b[1;32m     15\u001b[0m     \u001b[0;32mreturn\u001b[0m \u001b[0mH\u001b[0m\u001b[0;34m\u001b[0m\u001b[0;34m\u001b[0m\u001b[0m\n",
      "\u001b[0;32m~/Python-Environments/tfenv2/lib/python3.7/site-packages/tensorflow_core/python/keras/engine/training.py\u001b[0m in \u001b[0;36mfit\u001b[0;34m(self, x, y, batch_size, epochs, verbose, callbacks, validation_split, validation_data, shuffle, class_weight, sample_weight, initial_epoch, steps_per_epoch, validation_steps, validation_freq, max_queue_size, workers, use_multiprocessing, **kwargs)\u001b[0m\n\u001b[1;32m    817\u001b[0m         \u001b[0mmax_queue_size\u001b[0m\u001b[0;34m=\u001b[0m\u001b[0mmax_queue_size\u001b[0m\u001b[0;34m,\u001b[0m\u001b[0;34m\u001b[0m\u001b[0;34m\u001b[0m\u001b[0m\n\u001b[1;32m    818\u001b[0m         \u001b[0mworkers\u001b[0m\u001b[0;34m=\u001b[0m\u001b[0mworkers\u001b[0m\u001b[0;34m,\u001b[0m\u001b[0;34m\u001b[0m\u001b[0;34m\u001b[0m\u001b[0m\n\u001b[0;32m--> 819\u001b[0;31m         use_multiprocessing=use_multiprocessing)\n\u001b[0m\u001b[1;32m    820\u001b[0m \u001b[0;34m\u001b[0m\u001b[0m\n\u001b[1;32m    821\u001b[0m   def evaluate(self,\n",
      "\u001b[0;32m~/Python-Environments/tfenv2/lib/python3.7/site-packages/tensorflow_core/python/keras/engine/training_v2.py\u001b[0m in \u001b[0;36mfit\u001b[0;34m(self, model, x, y, batch_size, epochs, verbose, callbacks, validation_split, validation_data, shuffle, class_weight, sample_weight, initial_epoch, steps_per_epoch, validation_steps, validation_freq, max_queue_size, workers, use_multiprocessing, **kwargs)\u001b[0m\n\u001b[1;32m    340\u001b[0m                 \u001b[0mmode\u001b[0m\u001b[0;34m=\u001b[0m\u001b[0mModeKeys\u001b[0m\u001b[0;34m.\u001b[0m\u001b[0mTRAIN\u001b[0m\u001b[0;34m,\u001b[0m\u001b[0;34m\u001b[0m\u001b[0;34m\u001b[0m\u001b[0m\n\u001b[1;32m    341\u001b[0m                 \u001b[0mtraining_context\u001b[0m\u001b[0;34m=\u001b[0m\u001b[0mtraining_context\u001b[0m\u001b[0;34m,\u001b[0m\u001b[0;34m\u001b[0m\u001b[0;34m\u001b[0m\u001b[0m\n\u001b[0;32m--> 342\u001b[0;31m                 total_epochs=epochs)\n\u001b[0m\u001b[1;32m    343\u001b[0m             \u001b[0mcbks\u001b[0m\u001b[0;34m.\u001b[0m\u001b[0mmake_logs\u001b[0m\u001b[0;34m(\u001b[0m\u001b[0mmodel\u001b[0m\u001b[0;34m,\u001b[0m \u001b[0mepoch_logs\u001b[0m\u001b[0;34m,\u001b[0m \u001b[0mtraining_result\u001b[0m\u001b[0;34m,\u001b[0m \u001b[0mModeKeys\u001b[0m\u001b[0;34m.\u001b[0m\u001b[0mTRAIN\u001b[0m\u001b[0;34m)\u001b[0m\u001b[0;34m\u001b[0m\u001b[0;34m\u001b[0m\u001b[0m\n\u001b[1;32m    344\u001b[0m \u001b[0;34m\u001b[0m\u001b[0m\n",
      "\u001b[0;32m~/Python-Environments/tfenv2/lib/python3.7/site-packages/tensorflow_core/python/keras/engine/training_v2.py\u001b[0m in \u001b[0;36mrun_one_epoch\u001b[0;34m(model, iterator, execution_function, dataset_size, batch_size, strategy, steps_per_epoch, num_samples, mode, training_context, total_epochs)\u001b[0m\n\u001b[1;32m    178\u001b[0m             \u001b[0mbatch_start\u001b[0m\u001b[0;34m=\u001b[0m\u001b[0mstep\u001b[0m \u001b[0;34m*\u001b[0m \u001b[0mbatch_size\u001b[0m\u001b[0;34m,\u001b[0m\u001b[0;34m\u001b[0m\u001b[0;34m\u001b[0m\u001b[0m\n\u001b[1;32m    179\u001b[0m             batch_end=step * batch_size + current_batch_size)\n\u001b[0;32m--> 180\u001b[0;31m       \u001b[0mcbks\u001b[0m\u001b[0;34m.\u001b[0m\u001b[0mmake_logs\u001b[0m\u001b[0;34m(\u001b[0m\u001b[0mmodel\u001b[0m\u001b[0;34m,\u001b[0m \u001b[0mbatch_logs\u001b[0m\u001b[0;34m,\u001b[0m \u001b[0mbatch_outs\u001b[0m\u001b[0;34m,\u001b[0m \u001b[0mmode\u001b[0m\u001b[0;34m)\u001b[0m\u001b[0;34m\u001b[0m\u001b[0;34m\u001b[0m\u001b[0m\n\u001b[0m\u001b[1;32m    181\u001b[0m       \u001b[0mstep\u001b[0m \u001b[0;34m+=\u001b[0m \u001b[0;36m1\u001b[0m\u001b[0;34m\u001b[0m\u001b[0;34m\u001b[0m\u001b[0m\n\u001b[1;32m    182\u001b[0m \u001b[0;34m\u001b[0m\u001b[0m\n",
      "\u001b[0;32m~/Python-Environments/tfenv2/lib/python3.7/site-packages/tensorflow_core/python/keras/callbacks.py\u001b[0m in \u001b[0;36mmake_logs\u001b[0;34m(model, logs, outputs, mode, prefix)\u001b[0m\n\u001b[1;32m    178\u001b[0m \u001b[0;32mdef\u001b[0m \u001b[0mmake_logs\u001b[0m\u001b[0;34m(\u001b[0m\u001b[0mmodel\u001b[0m\u001b[0;34m,\u001b[0m \u001b[0mlogs\u001b[0m\u001b[0;34m,\u001b[0m \u001b[0moutputs\u001b[0m\u001b[0;34m,\u001b[0m \u001b[0mmode\u001b[0m\u001b[0;34m,\u001b[0m \u001b[0mprefix\u001b[0m\u001b[0;34m=\u001b[0m\u001b[0;34m''\u001b[0m\u001b[0;34m)\u001b[0m\u001b[0;34m:\u001b[0m\u001b[0;34m\u001b[0m\u001b[0;34m\u001b[0m\u001b[0m\n\u001b[1;32m    179\u001b[0m   \u001b[0;34m\"\"\"Computes logs for sending to `on_batch_end` methods.\"\"\"\u001b[0m\u001b[0;34m\u001b[0m\u001b[0;34m\u001b[0m\u001b[0m\n\u001b[0;32m--> 180\u001b[0;31m   \u001b[0mmetric_names\u001b[0m \u001b[0;34m=\u001b[0m \u001b[0mmodel\u001b[0m\u001b[0;34m.\u001b[0m\u001b[0mmetrics_names\u001b[0m\u001b[0;34m\u001b[0m\u001b[0;34m\u001b[0m\u001b[0m\n\u001b[0m\u001b[1;32m    181\u001b[0m   \u001b[0;32mif\u001b[0m \u001b[0mmode\u001b[0m \u001b[0;32min\u001b[0m \u001b[0;34m{\u001b[0m\u001b[0mModeKeys\u001b[0m\u001b[0;34m.\u001b[0m\u001b[0mTRAIN\u001b[0m\u001b[0;34m,\u001b[0m \u001b[0mModeKeys\u001b[0m\u001b[0;34m.\u001b[0m\u001b[0mTEST\u001b[0m\u001b[0;34m}\u001b[0m \u001b[0;32mand\u001b[0m \u001b[0mmetric_names\u001b[0m\u001b[0;34m:\u001b[0m\u001b[0;34m\u001b[0m\u001b[0;34m\u001b[0m\u001b[0m\n\u001b[1;32m    182\u001b[0m     \u001b[0;32mfor\u001b[0m \u001b[0mlabel\u001b[0m\u001b[0;34m,\u001b[0m \u001b[0moutput\u001b[0m \u001b[0;32min\u001b[0m \u001b[0mzip\u001b[0m\u001b[0;34m(\u001b[0m\u001b[0mmetric_names\u001b[0m\u001b[0;34m,\u001b[0m \u001b[0moutputs\u001b[0m\u001b[0;34m)\u001b[0m\u001b[0;34m:\u001b[0m\u001b[0;34m\u001b[0m\u001b[0;34m\u001b[0m\u001b[0m\n",
      "\u001b[0;32m~/Python-Environments/tfenv2/lib/python3.7/site-packages/tensorflow_core/python/keras/engine/training.py\u001b[0m in \u001b[0;36mmetrics_names\u001b[0;34m(self)\u001b[0m\n\u001b[1;32m    486\u001b[0m     \u001b[0;32mreturn\u001b[0m \u001b[0mmetrics\u001b[0m\u001b[0;34m\u001b[0m\u001b[0;34m\u001b[0m\u001b[0m\n\u001b[1;32m    487\u001b[0m \u001b[0;34m\u001b[0m\u001b[0m\n\u001b[0;32m--> 488\u001b[0;31m   \u001b[0;34m@\u001b[0m\u001b[0mproperty\u001b[0m\u001b[0;34m\u001b[0m\u001b[0;34m\u001b[0m\u001b[0m\n\u001b[0m\u001b[1;32m    489\u001b[0m   \u001b[0;32mdef\u001b[0m \u001b[0mmetrics_names\u001b[0m\u001b[0;34m(\u001b[0m\u001b[0mself\u001b[0m\u001b[0;34m)\u001b[0m\u001b[0;34m:\u001b[0m\u001b[0;34m\u001b[0m\u001b[0;34m\u001b[0m\u001b[0m\n\u001b[1;32m    490\u001b[0m     \u001b[0;34m\"\"\"Returns the model's display labels for all outputs.\"\"\"\u001b[0m\u001b[0;34m\u001b[0m\u001b[0;34m\u001b[0m\u001b[0m\n",
      "\u001b[0;31mKeyboardInterrupt\u001b[0m: "
     ]
    }
   ],
   "source": [
    "# TO RUN\n",
    "model5 = get_compiled_model()\n",
    "H = fit_model(model5, in_epochs = 100001, in_batch_size = 32, in_epoch_interval_measure_time = 5000, in_epoch_interval_print_progress = 2500)\n",
    "model5.save(\"model_100001_32_1e-3_4x50_3x15_3x15.h5\")"
   ]
  },
  {
   "cell_type": "code",
   "execution_count": 125,
   "metadata": {},
   "outputs": [
    {
     "name": "stdout",
     "output_type": "stream",
     "text": [
      "Just finished epoch 0\n",
      "Loss.             =  0.09195532649755478\n",
      "Validation MAE_O2 =  26.47528052330017\n",
      "Validation MAE_T  =  11.31958320736885\n",
      "Training   MAE_O2 =  26.23375654220581\n",
      "Training   MAE_T  =  11.228683814406395\n",
      "Just finished epoch 0\n",
      "500 epochs - Estimated time to run: 82.69 seconds, 1.38 minutes, 0.02 hours.\n",
      "Just finished epoch 500\n",
      "Just finished epoch 1000\n",
      "Loss.             =  0.01054775808006525\n",
      "Validation MAE_O2 =  8.200328052043915\n",
      "Validation MAE_T  =  9.778947159647942\n",
      "Training   MAE_O2 =  8.10125321149826\n",
      "Training   MAE_T  =  9.640408381819725\n",
      "500 epochs - Estimated time to run: 91.24 seconds, 1.52 minutes, 0.03 hours.\n",
      "Just finished epoch 1000\n",
      "500 epochs - Estimated time to run: 73.74 seconds, 1.23 minutes, 0.02 hours.\n",
      "Just finished epoch 1500\n",
      "Just finished epoch 2000\n",
      "Loss.             =  0.0014991569332778454\n",
      "Validation MAE_O2 =  2.4193990975618362\n",
      "Validation MAE_T  =  3.6330437287688255\n",
      "Training   MAE_O2 =  3.072495199739933\n",
      "Training   MAE_T  =  4.221581406891346\n",
      "500 epochs - Estimated time to run: 76.47 seconds, 1.27 minutes, 0.02 hours.\n",
      "Just finished epoch 2000\n",
      "500 epochs - Estimated time to run: 81.13 seconds, 1.35 minutes, 0.02 hours.\n",
      "Just finished epoch 2500\n",
      "Just finished epoch 3000\n",
      "Loss.             =  0.0005764783709309995\n",
      "Validation MAE_O2 =  2.0859142765402794\n",
      "Validation MAE_T  =  3.5890082269906998\n",
      "Training   MAE_O2 =  1.7630849033594131\n",
      "Training   MAE_T  =  3.027753308415413\n",
      "500 epochs - Estimated time to run: 87.45 seconds, 1.46 minutes, 0.02 hours.\n",
      "Just finished epoch 3000\n",
      "500 epochs - Estimated time to run: 78.49 seconds, 1.31 minutes, 0.02 hours.\n",
      "Just finished epoch 3500\n",
      "Just finished epoch 4000\n",
      "Loss.             =  0.0004399547469802201\n",
      "Validation MAE_O2 =  1.3879143632948399\n",
      "Validation MAE_T  =  2.4278467521071434\n",
      "Training   MAE_O2 =  1.4658724889159203\n",
      "Training   MAE_T  =  2.6536954566836357\n",
      "500 epochs - Estimated time to run: 94.26 seconds, 1.57 minutes, 0.03 hours.\n",
      "Just finished epoch 4000\n",
      "500 epochs - Estimated time to run: 80.29 seconds, 1.34 minutes, 0.02 hours.\n",
      "Just finished epoch 4500\n",
      "Just finished epoch 5000\n",
      "Loss.             =  0.0005776546313427389\n",
      "Validation MAE_O2 =  3.286810591816902\n",
      "Validation MAE_T  =  4.239611886441708\n",
      "Training   MAE_O2 =  1.85175072401762\n",
      "Training   MAE_T  =  2.509341649711132\n",
      "500 epochs - Estimated time to run: 82.12 seconds, 1.37 minutes, 0.02 hours.\n",
      "Just finished epoch 5000\n",
      "500 epochs - Estimated time to run: 80.93 seconds, 1.35 minutes, 0.02 hours.\n",
      "Just finished epoch 5500\n",
      "Just finished epoch 6000\n",
      "Loss.             =  0.0005387152195908129\n",
      "Validation MAE_O2 =  1.0575871914625168\n",
      "Validation MAE_T  =  1.8685064278542995\n",
      "Training   MAE_O2 =  1.7262959852814674\n",
      "Training   MAE_T  =  2.3773933947086334\n",
      "500 epochs - Estimated time to run: 81.04 seconds, 1.35 minutes, 0.02 hours.\n",
      "Just finished epoch 6000\n",
      "500 epochs - Estimated time to run: 78.17 seconds, 1.30 minutes, 0.02 hours.\n",
      "Just finished epoch 6500\n",
      "Just finished epoch 7000\n",
      "Loss.             =  0.00040204901597462595\n",
      "Validation MAE_O2 =  1.0057127103209496\n",
      "Validation MAE_T  =  1.4281467162072659\n",
      "Training   MAE_O2 =  1.5106565319001675\n",
      "Training   MAE_T  =  2.0866126008331776\n",
      "500 epochs - Estimated time to run: 80.09 seconds, 1.33 minutes, 0.02 hours.\n",
      "Just finished epoch 7000\n",
      "500 epochs - Estimated time to run: 78.23 seconds, 1.30 minutes, 0.02 hours.\n",
      "Just finished epoch 7500\n",
      "Just finished epoch 8000\n",
      "Loss.             =  0.0004553268081508577\n",
      "Validation MAE_O2 =  1.479047816246748\n",
      "Validation MAE_T  =  2.0593323558568954\n",
      "Training   MAE_O2 =  1.5924014151096344\n",
      "Training   MAE_T  =  2.233105469495058\n",
      "500 epochs - Estimated time to run: 89.14 seconds, 1.49 minutes, 0.02 hours.\n",
      "Just finished epoch 8000\n",
      "500 epochs - Estimated time to run: 79.47 seconds, 1.32 minutes, 0.02 hours.\n",
      "Just finished epoch 8500\n",
      "Just finished epoch 9000\n",
      "Loss.             =  0.0003934103297069669\n",
      "Validation MAE_O2 =  2.694002352654934\n",
      "Validation MAE_T  =  3.4855879470705986\n",
      "Training   MAE_O2 =  1.4245501719415188\n",
      "Training   MAE_T  =  1.9682790711522102\n",
      "500 epochs - Estimated time to run: 78.36 seconds, 1.31 minutes, 0.02 hours.\n",
      "Just finished epoch 9000\n",
      "500 epochs - Estimated time to run: 110.94 seconds, 1.85 minutes, 0.03 hours.\n",
      "Just finished epoch 9500\n",
      "Just finished epoch 10000\n",
      "Loss.             =  0.0002914011711254716\n",
      "Validation MAE_O2 =  0.5371250212192535\n",
      "Validation MAE_T  =  0.9220871329307556\n",
      "Training   MAE_O2 =  1.1584257706999779\n",
      "Training   MAE_T  =  1.5477985516190529\n",
      "500 epochs - Estimated time to run: 75.64 seconds, 1.26 minutes, 0.02 hours.\n",
      "Just finished epoch 10000\n",
      "500 epochs - Estimated time to run: 82.91 seconds, 1.38 minutes, 0.02 hours.\n",
      "Just finished epoch 10500\n",
      "Just finished epoch 11000\n",
      "Loss.             =  0.0002634855336509645\n",
      "Validation MAE_O2 =  0.6543018855154514\n",
      "Validation MAE_T  =  0.8067661430686712\n",
      "Training   MAE_O2 =  1.1508213356137276\n",
      "Training   MAE_T  =  1.476501077413559\n",
      "500 epochs - Estimated time to run: 91.49 seconds, 1.52 minutes, 0.03 hours.\n",
      "Just finished epoch 11000\n",
      "500 epochs - Estimated time to run: 80.16 seconds, 1.34 minutes, 0.02 hours.\n",
      "Just finished epoch 11500\n",
      "Just finished epoch 12000\n",
      "Loss.             =  0.00017713411943987012\n",
      "Validation MAE_O2 =  0.645478256046772\n",
      "Validation MAE_T  =  0.9150552190840244\n",
      "Training   MAE_O2 =  0.9916857816278934\n",
      "Training   MAE_T  =  1.286787847056985\n",
      "500 epochs - Estimated time to run: 80.61 seconds, 1.34 minutes, 0.02 hours.\n",
      "Just finished epoch 12000\n",
      "500 epochs - Estimated time to run: 77.19 seconds, 1.29 minutes, 0.02 hours.\n",
      "Just finished epoch 12500\n",
      "Just finished epoch 13000\n",
      "Loss.             =  0.0001263865124201402\n",
      "Validation MAE_O2 =  1.1719590984284878\n",
      "Validation MAE_T  =  1.8840325623750687\n",
      "Training   MAE_O2 =  0.7988971658051014\n",
      "Training   MAE_T  =  1.0576797556132078\n",
      "500 epochs - Estimated time to run: 77.67 seconds, 1.29 minutes, 0.02 hours.\n",
      "Just finished epoch 13000\n",
      "500 epochs - Estimated time to run: 76.64 seconds, 1.28 minutes, 0.02 hours.\n",
      "Just finished epoch 13500\n",
      "Just finished epoch 14000\n",
      "Loss.             =  0.00012081540626240894\n",
      "Validation MAE_O2 =  1.3428403995931149\n",
      "Validation MAE_T  =  1.5034748800098896\n",
      "Training   MAE_O2 =  0.8406177163124084\n",
      "Training   MAE_T  =  1.0046763718128204\n",
      "500 epochs - Estimated time to run: 78.50 seconds, 1.31 minutes, 0.02 hours.\n",
      "Just finished epoch 14000\n",
      "500 epochs - Estimated time to run: 75.56 seconds, 1.26 minutes, 0.02 hours.\n",
      "Just finished epoch 14500\n",
      "Just finished epoch 15000\n",
      "Loss.             =  0.00031754004885442555\n",
      "Validation MAE_O2 =  0.5850938148796558\n",
      "Validation MAE_T  =  0.6632944475859404\n",
      "Training   MAE_O2 =  1.2787220068275928\n",
      "Training   MAE_T  =  1.627939436584711\n",
      "500 epochs - Estimated time to run: 75.76 seconds, 1.26 minutes, 0.02 hours.\n",
      "Just finished epoch 15000\n",
      "500 epochs - Estimated time to run: 75.14 seconds, 1.25 minutes, 0.02 hours.\n",
      "Just finished epoch 15500\n",
      "Just finished epoch 16000\n",
      "Loss.             =  0.00035571985063143075\n",
      "Validation MAE_O2 =  1.6829503700137138\n",
      "Validation MAE_T  =  1.897936463356018\n",
      "Training   MAE_O2 =  1.4493109658360481\n",
      "Training   MAE_T  =  1.828865222632885\n",
      "500 epochs - Estimated time to run: 78.91 seconds, 1.32 minutes, 0.02 hours.\n",
      "Just finished epoch 16000\n",
      "500 epochs - Estimated time to run: 78.31 seconds, 1.31 minutes, 0.02 hours.\n",
      "Just finished epoch 16500\n",
      "Just finished epoch 17000\n",
      "Loss.             =  6.982387276366353e-05\n",
      "Validation MAE_O2 =  1.1540427803993225\n",
      "Validation MAE_T  =  1.3145063817501068\n",
      "Training   MAE_O2 =  0.6130694877356291\n",
      "Training   MAE_T  =  0.6782212760299444\n",
      "500 epochs - Estimated time to run: 80.27 seconds, 1.34 minutes, 0.02 hours.\n",
      "Just finished epoch 17000\n",
      "500 epochs - Estimated time to run: 73.47 seconds, 1.22 minutes, 0.02 hours.\n",
      "Just finished epoch 17500\n",
      "Just finished epoch 18000\n",
      "Loss.             =  0.0001962746464414522\n",
      "Validation MAE_O2 =  0.5717928986996412\n",
      "Validation MAE_T  =  0.7110485807061195\n",
      "Training   MAE_O2 =  1.0087811388075352\n",
      "Training   MAE_T  =  1.2225778587162495\n",
      "500 epochs - Estimated time to run: 76.26 seconds, 1.27 minutes, 0.02 hours.\n",
      "Just finished epoch 18000\n",
      "500 epochs - Estimated time to run: 77.50 seconds, 1.29 minutes, 0.02 hours.\n",
      "Just finished epoch 18500\n",
      "Just finished epoch 19000\n",
      "Loss.             =  0.001022365759126842\n",
      "Validation MAE_O2 =  0.6253949366509914\n",
      "Validation MAE_T  =  0.7549296878278255\n",
      "Training   MAE_O2 =  2.238094247877598\n",
      "Training   MAE_T  =  2.902590036392212\n",
      "500 epochs - Estimated time to run: 77.90 seconds, 1.30 minutes, 0.02 hours.\n",
      "Just finished epoch 19000\n",
      "500 epochs - Estimated time to run: 75.35 seconds, 1.26 minutes, 0.02 hours.\n",
      "Just finished epoch 19500\n",
      "Just finished epoch 20000\n",
      "Loss.             =  0.00044425635132938623\n",
      "Validation MAE_O2 =  0.9788562543690205\n",
      "Validation MAE_T  =  1.1478419601917267\n",
      "Training   MAE_O2 =  1.4648526906967163\n",
      "Training   MAE_T  =  1.7685056291520596\n",
      "500 epochs - Estimated time to run: 78.50 seconds, 1.31 minutes, 0.02 hours.\n",
      "Just finished epoch 20000\n",
      "500 epochs - Estimated time to run: 75.76 seconds, 1.26 minutes, 0.02 hours.\n",
      "Just finished epoch 20500\n",
      "Just finished epoch 21000\n",
      "Loss.             =  0.00024953714455477893\n",
      "Validation MAE_O2 =  0.6828044541180134\n",
      "Validation MAE_T  =  0.830318033695221\n",
      "Training   MAE_O2 =  1.1264455504715443\n",
      "Training   MAE_T  =  1.4256936684250832\n",
      "500 epochs - Estimated time to run: 81.38 seconds, 1.36 minutes, 0.02 hours.\n",
      "Just finished epoch 21000\n",
      "500 epochs - Estimated time to run: 75.21 seconds, 1.25 minutes, 0.02 hours.\n",
      "Just finished epoch 21500\n",
      "Just finished epoch 22000\n",
      "Loss.             =  0.00033168980735354125\n",
      "Validation MAE_O2 =  2.1666107699275017\n",
      "Validation MAE_T  =  3.1029128283262253\n",
      "Training   MAE_O2 =  1.2439037673175335\n",
      "Training   MAE_T  =  1.764462199062109\n",
      "500 epochs - Estimated time to run: 76.53 seconds, 1.28 minutes, 0.02 hours.\n",
      "Just finished epoch 22000\n",
      "500 epochs - Estimated time to run: 96.32 seconds, 1.61 minutes, 0.03 hours.\n",
      "Just finished epoch 22500\n",
      "Just finished epoch 23000\n",
      "Loss.             =  0.00032945588463917375\n",
      "Validation MAE_O2 =  2.380804345011711\n",
      "Validation MAE_T  =  2.8892728686332703\n",
      "Training   MAE_O2 =  1.3372862711548805\n",
      "Training   MAE_T  =  1.718028299510479\n",
      "500 epochs - Estimated time to run: 97.86 seconds, 1.63 minutes, 0.03 hours.\n",
      "Just finished epoch 23000\n",
      "500 epochs - Estimated time to run: 85.16 seconds, 1.42 minutes, 0.02 hours.\n",
      "Just finished epoch 23500\n",
      "Just finished epoch 24000\n",
      "Loss.             =  0.00030663367942906916\n",
      "Validation MAE_O2 =  1.0335702449083328\n",
      "Validation MAE_T  =  1.319209048524499\n",
      "Training   MAE_O2 =  1.2777765281498432\n",
      "Training   MAE_T  =  1.5910238586366177\n",
      "500 epochs - Estimated time to run: 86.72 seconds, 1.45 minutes, 0.02 hours.\n",
      "Just finished epoch 24000\n",
      "500 epochs - Estimated time to run: 85.91 seconds, 1.43 minutes, 0.02 hours.\n",
      "Just finished epoch 24500\n",
      "Just finished epoch 25000\n",
      "Loss.             =  0.00014947559975553304\n",
      "Validation MAE_O2 =  0.7828307338058949\n",
      "Validation MAE_T  =  1.0245187673717737\n",
      "Training   MAE_O2 =  0.816717091947794\n",
      "Training   MAE_T  =  0.9302966203540564\n",
      "500 epochs - Estimated time to run: 86.21 seconds, 1.44 minutes, 0.02 hours.\n",
      "Just finished epoch 25000\n",
      "500 epochs - Estimated time to run: 82.85 seconds, 1.38 minutes, 0.02 hours.\n",
      "Just finished epoch 25500\n",
      "Just finished epoch 26000\n",
      "Loss.             =  0.0001409977994626388\n",
      "Validation MAE_O2 =  1.3143100775778294\n",
      "Validation MAE_T  =  1.5077999420464039\n",
      "Training   MAE_O2 =  0.7983305491507053\n",
      "Training   MAE_T  =  0.9644454997032881\n",
      "500 epochs - Estimated time to run: 85.81 seconds, 1.43 minutes, 0.02 hours.\n",
      "Just finished epoch 26000\n",
      "500 epochs - Estimated time to run: 85.80 seconds, 1.43 minutes, 0.02 hours.\n",
      "Just finished epoch 26500\n",
      "Just finished epoch 27000\n",
      "Loss.             =  0.00023858199710957706\n",
      "Validation MAE_O2 =  0.7255226373672485\n",
      "Validation MAE_T  =  0.6689627934247255\n",
      "Training   MAE_O2 =  1.1191371828317642\n",
      "Training   MAE_T  =  1.2915077805519104\n",
      "500 epochs - Estimated time to run: 86.80 seconds, 1.45 minutes, 0.02 hours.\n",
      "Just finished epoch 27000\n",
      "500 epochs - Estimated time to run: 85.06 seconds, 1.42 minutes, 0.02 hours.\n",
      "Just finished epoch 27500\n",
      "Just finished epoch 28000\n",
      "Loss.             =  0.00022853740665595978\n",
      "Validation MAE_O2 =  1.2851348146796227\n",
      "Validation MAE_T  =  1.5847446396946907\n",
      "Training   MAE_O2 =  0.9985311888158321\n",
      "Training   MAE_T  =  1.1456719692796469\n",
      "500 epochs - Estimated time to run: 84.05 seconds, 1.40 minutes, 0.02 hours.\n",
      "Just finished epoch 28000\n",
      "500 epochs - Estimated time to run: 84.68 seconds, 1.41 minutes, 0.02 hours.\n",
      "Just finished epoch 28500\n",
      "Just finished epoch 29000\n",
      "Loss.             =  0.0002828520373441279\n",
      "Validation MAE_O2 =  1.6558855772018433\n",
      "Validation MAE_T  =  1.7260254733264446\n",
      "Training   MAE_O2 =  1.2046522460877895\n",
      "Training   MAE_T  =  1.4511681161820889\n",
      "500 epochs - Estimated time to run: 87.98 seconds, 1.47 minutes, 0.02 hours.\n",
      "Just finished epoch 29000\n",
      "500 epochs - Estimated time to run: 85.55 seconds, 1.43 minutes, 0.02 hours.\n",
      "Just finished epoch 29500\n",
      "Just finished epoch 30000\n",
      "Loss.             =  0.00035266971099190414\n",
      "Validation MAE_O2 =  2.241838723421097\n",
      "Validation MAE_T  =  2.565881945192814\n",
      "Training   MAE_O2 =  1.324466709047556\n",
      "Training   MAE_T  =  1.7241874895989895\n",
      "500 epochs - Estimated time to run: 86.03 seconds, 1.43 minutes, 0.02 hours.\n",
      "Just finished epoch 30000\n",
      "Total Elapsed time: 1 hours, 22 minutes, 6 seconds\n"
     ]
    }
   ],
   "source": [
    "model3 = get_compiled_model()\n",
    "H = fit_model(model3, in_epochs = 30001, in_batch_size = 32, in_epoch_interval_measure_time = 500, in_epoch_interval_print_progress = 500)\n",
    "model3.save(\"model_30001_32_1e-3_4x50_3x15_3x15.h5\")"
   ]
  },
  {
   "cell_type": "markdown",
   "metadata": {},
   "source": [
    "# Results from the model"
   ]
  },
  {
   "cell_type": "code",
   "execution_count": 163,
   "metadata": {},
   "outputs": [],
   "source": [
    "# Eventually load the model again\n",
    "model = keras.models.load_model(\"model_100001_32_1e-3_3x50_2x5_2x5.h5\")"
   ]
  },
  {
   "cell_type": "code",
   "execution_count": 164,
   "metadata": {},
   "outputs": [],
   "source": [
    "targets_dev = targets_dev.reset_index(drop = True)\n",
    "preds_exp_o2_df, preds_exp_T_df = get_predictions(model)"
   ]
  },
  {
   "cell_type": "code",
   "execution_count": 165,
   "metadata": {},
   "outputs": [],
   "source": [
    "MAE_boxplot_C_3, MAE_list_C_3, MAE_xticks_C_3 = MAE_O2_list_generator(10.0, targets_dev, preds_exp_o2_df)\n",
    "MAET_boxplot_C_MTL_3, MAET_list_C_MTL_3, MAET_xticks_C_MTL_3 = MAE_T_list_generator(targets_dev, preds_exp_T_df)\n",
    "MAE_boxplot_C_flat_3 = [item for sublist in MAE_boxplot_C_3 for item in sublist]\n",
    "MAET_boxplot_C_MTL_flat_3 = [item for sublist in MAET_boxplot_C_MTL_3 for item in sublist]"
   ]
  },
  {
   "cell_type": "code",
   "execution_count": 166,
   "metadata": {},
   "outputs": [
    {
     "name": "stdout",
     "output_type": "stream",
     "text": [
      "[0.06314535176448792, 0.1624194808202247, 0.2208781032495092, 0.17740046812428473, 0.2178817907969147, 0.23302482020470303, 0.2274247533396667, 0.27714311322079543, 0.3442054878581645, 0.2875853893233517]\n",
      "0.21707888660635186\n",
      "0.2678020759707401\n"
     ]
    }
   ],
   "source": [
    "print(MAE_list_C_3)\n",
    "print(np.mean(MAE_boxplot_C_flat_3))\n",
    "print(np.mean(MAET_boxplot_C_MTL_flat_3))"
   ]
  },
  {
   "cell_type": "code",
   "execution_count": 186,
   "metadata": {},
   "outputs": [
    {
     "data": {
      "text/plain": [
       "<Figure size 432x288 with 0 Axes>"
      ]
     },
     "metadata": {},
     "output_type": "display_data"
    },
    {
     "data": {
      "image/png": "[encoded data removed]",
      "text/plain": [
       "<Figure size 1152x360 with 2 Axes>"
      ]
     },
     "metadata": {
      "needs_background": "light"
     },
     "output_type": "display_data"
    }
   ],
   "source": [
    "\n",
    "    \n",
    "plt.tight_layout()\n",
    "\n",
    "fig = plt.figure(figsize=(16, 5))\n",
    "\n",
    "\n",
    "\n",
    "ax = fig.add_subplot(1, 2, 1)\n",
    "\n",
    "\n",
    "sns.distplot(MAE_boxplot_C_flat_3, color = 'gray', hist = True, label = 'AE$_{[O_2]}$ KDE',rug_kws={\"color\": \"gray\"},\n",
    "                  kde_kws={\"color\": \"k\", \"lw\": 3, \"label\": \"KDE\"},\n",
    "                   hist_kws={\"histtype\": \"bar\", \"linewidth\": 0,\n",
    "                             \"alpha\": 1, \"color\": \"gray\"})\n",
    "\n",
    "\n",
    "custom_lines = [Patch(facecolor='gray', edgecolor='gray',\n",
    "                         label='$AE_T$ KDE'),\n",
    "                Line2D([0], [0], color='blue', lw=2),\n",
    "                Line2D([0], [0], color='black', lw=2)\n",
    "                ]\n",
    "\n",
    "ax.legend(custom_lines, ['AE$_{[O_2]}$ histogram', 'MAE$_{[O_2]}$', 'AE$_{[O_2]}$ KDE'], fontsize = 16)\n",
    "\n",
    "#plt.xticks(range(1,len(neta50_O2['MAE_xticks'])+1), neta50_O2['MAE_xticks'], size='small', rotation = 'vertical')\n",
    "\n",
    "#plt.grid()\n",
    "\n",
    "plt.ylabel('Counts (normalized)', fontsize = 16)\n",
    "plt.xlabel('AE$_{[O_2]}$ (% air)', fontsize = 16)\n",
    "plt.tick_params(labelsize=16)\n",
    "plt.ylim(0, 5)\n",
    "plt.xlim(0, 5)\n",
    "\n",
    "m_ = np.mean(MAE_boxplot_C_flat_3)\n",
    "\n",
    "plt.plot([m_, m_], [0, 1.7], lw = 2, color = 'blue')\n",
    "\n",
    "\n",
    "ax = fig.add_subplot(1, 2,2)\n",
    "# MAE_boxplot_C, MAE_list_C, MAE_xticks_C\n",
    "sns.distplot(MAET_boxplot_C_MTL_flat_3,   hist = True, label = '$AE_T$ KDE',rug_kws={\"color\": \"gray\"},\n",
    "                  kde_kws={\"color\": \"k\", \"lw\": 3, \"label\": \"KDE\"},\n",
    "                   hist_kws={\"histtype\": \"bar\", \"linewidth\": 0,\n",
    "                             \"alpha\": 1, \"color\": \"lightgray\"})\n",
    "    \n",
    "#plt.ylim(-0.2, 2.9)\n",
    "    \n",
    "#ax.text(1, 1.5, 'Value for $[O_2] = 100$ % Air', fontsize = 18)\n",
    "\n",
    "plt.xlabel('$AE_T$ ($^\\circ$C)', fontsize = 16)\n",
    "plt.tick_params(labelsize=16)\n",
    "\n",
    "custom_lines = [Patch(facecolor='lightgray', edgecolor='lightgray',\n",
    "                         label='$AE_T$ KDE'),\n",
    "                Line2D([0], [0], color='blue', lw=2),\n",
    "                Line2D([0], [0], color='black', lw=2)\n",
    "                ]\n",
    "\n",
    "ax.legend(custom_lines, ['$AE_T$ histogram', 'MAE$_T$', '$AE_T$ KDE'], fontsize = 16)\n",
    "#ax.legend( fontsize = 16)\n",
    "plt.ylim(0, 5.0)\n",
    "plt.xlim(0, 4)\n",
    "\n",
    "m_ = np.mean(MAET_boxplot_C_MTL_flat_3)\n",
    "\n",
    "plt.plot([m_, m_], [0, 1.4], lw = 2, color = 'blue')\n",
    "\n",
    "\n",
    "plt.show()\n",
    "\n",
    "#fig.savefig('/content/gdrive/My Drive/plot3.eps', format='eps', dpi=300,bbox_inches='tight')\n",
    "\n",
    "\n",
    "\n",
    "#fig.savefig('../paper/model_20001_32_1e-3_4x50_3x15_3x15_theta90.eps', format='eps', dpi=300,bbox_inches='tight')"
   ]
  },
  {
   "cell_type": "markdown",
   "metadata": {},
   "source": [
    "# Comparison between the two networks"
   ]
  },
  {
   "cell_type": "code",
   "execution_count": 135,
   "metadata": {},
   "outputs": [
    {
     "data": {
      "text/plain": [
       "<Figure size 432x288 with 0 Axes>"
      ]
     },
     "metadata": {},
     "output_type": "display_data"
    },
    {
     "data": {
      "image/png": "[encoded data removed]",
      "text/plain": [
       "<Figure size 1152x360 with 2 Axes>"
      ]
     },
     "metadata": {
      "needs_background": "light"
     },
     "output_type": "display_data"
    },
    {
     "name": "stderr",
     "output_type": "stream",
     "text": [
      "W0220 22:02:12.834388 4724334016 backend_ps.py:804] The PostScript backend does not support transparency; partially transparent artists will be rendered opaque.\n",
      "W0220 22:02:12.835355 4724334016 backend_ps.py:804] The PostScript backend does not support transparency; partially transparent artists will be rendered opaque.\n",
      "W0220 22:02:12.836024 4724334016 backend_ps.py:804] The PostScript backend does not support transparency; partially transparent artists will be rendered opaque.\n",
      "W0220 22:02:12.836899 4724334016 backend_ps.py:804] The PostScript backend does not support transparency; partially transparent artists will be rendered opaque.\n",
      "W0220 22:02:12.837621 4724334016 backend_ps.py:804] The PostScript backend does not support transparency; partially transparent artists will be rendered opaque.\n",
      "W0220 22:02:12.838819 4724334016 backend_ps.py:804] The PostScript backend does not support transparency; partially transparent artists will be rendered opaque.\n",
      "W0220 22:02:12.839668 4724334016 backend_ps.py:804] The PostScript backend does not support transparency; partially transparent artists will be rendered opaque.\n",
      "W0220 22:02:12.840838 4724334016 backend_ps.py:804] The PostScript backend does not support transparency; partially transparent artists will be rendered opaque.\n",
      "W0220 22:02:12.841721 4724334016 backend_ps.py:804] The PostScript backend does not support transparency; partially transparent artists will be rendered opaque.\n",
      "W0220 22:02:12.842596 4724334016 backend_ps.py:804] The PostScript backend does not support transparency; partially transparent artists will be rendered opaque.\n",
      "W0220 22:02:12.843375 4724334016 backend_ps.py:804] The PostScript backend does not support transparency; partially transparent artists will be rendered opaque.\n",
      "W0220 22:02:12.844213 4724334016 backend_ps.py:804] The PostScript backend does not support transparency; partially transparent artists will be rendered opaque.\n",
      "W0220 22:02:12.845017 4724334016 backend_ps.py:804] The PostScript backend does not support transparency; partially transparent artists will be rendered opaque.\n",
      "W0220 22:02:12.845775 4724334016 backend_ps.py:804] The PostScript backend does not support transparency; partially transparent artists will be rendered opaque.\n",
      "W0220 22:02:12.846510 4724334016 backend_ps.py:804] The PostScript backend does not support transparency; partially transparent artists will be rendered opaque.\n",
      "W0220 22:02:12.847324 4724334016 backend_ps.py:804] The PostScript backend does not support transparency; partially transparent artists will be rendered opaque.\n",
      "W0220 22:02:12.847968 4724334016 backend_ps.py:804] The PostScript backend does not support transparency; partially transparent artists will be rendered opaque.\n",
      "W0220 22:02:12.848664 4724334016 backend_ps.py:804] The PostScript backend does not support transparency; partially transparent artists will be rendered opaque.\n",
      "W0220 22:02:12.849499 4724334016 backend_ps.py:804] The PostScript backend does not support transparency; partially transparent artists will be rendered opaque.\n",
      "W0220 22:02:12.850246 4724334016 backend_ps.py:804] The PostScript backend does not support transparency; partially transparent artists will be rendered opaque.\n",
      "W0220 22:02:12.850912 4724334016 backend_ps.py:804] The PostScript backend does not support transparency; partially transparent artists will be rendered opaque.\n",
      "W0220 22:02:12.851686 4724334016 backend_ps.py:804] The PostScript backend does not support transparency; partially transparent artists will be rendered opaque.\n",
      "W0220 22:02:12.852342 4724334016 backend_ps.py:804] The PostScript backend does not support transparency; partially transparent artists will be rendered opaque.\n",
      "W0220 22:02:12.853146 4724334016 backend_ps.py:804] The PostScript backend does not support transparency; partially transparent artists will be rendered opaque.\n",
      "W0220 22:02:12.853807 4724334016 backend_ps.py:804] The PostScript backend does not support transparency; partially transparent artists will be rendered opaque.\n",
      "W0220 22:02:12.854616 4724334016 backend_ps.py:804] The PostScript backend does not support transparency; partially transparent artists will be rendered opaque.\n",
      "W0220 22:02:12.855284 4724334016 backend_ps.py:804] The PostScript backend does not support transparency; partially transparent artists will be rendered opaque.\n",
      "W0220 22:02:12.856059 4724334016 backend_ps.py:804] The PostScript backend does not support transparency; partially transparent artists will be rendered opaque.\n",
      "W0220 22:02:12.856724 4724334016 backend_ps.py:804] The PostScript backend does not support transparency; partially transparent artists will be rendered opaque.\n",
      "W0220 22:02:12.857517 4724334016 backend_ps.py:804] The PostScript backend does not support transparency; partially transparent artists will be rendered opaque.\n",
      "W0220 22:02:12.858180 4724334016 backend_ps.py:804] The PostScript backend does not support transparency; partially transparent artists will be rendered opaque.\n",
      "W0220 22:02:12.858981 4724334016 backend_ps.py:804] The PostScript backend does not support transparency; partially transparent artists will be rendered opaque.\n",
      "W0220 22:02:12.859631 4724334016 backend_ps.py:804] The PostScript backend does not support transparency; partially transparent artists will be rendered opaque.\n",
      "W0220 22:02:12.860421 4724334016 backend_ps.py:804] The PostScript backend does not support transparency; partially transparent artists will be rendered opaque.\n",
      "W0220 22:02:12.861101 4724334016 backend_ps.py:804] The PostScript backend does not support transparency; partially transparent artists will be rendered opaque.\n",
      "W0220 22:02:12.861941 4724334016 backend_ps.py:804] The PostScript backend does not support transparency; partially transparent artists will be rendered opaque.\n",
      "W0220 22:02:12.862633 4724334016 backend_ps.py:804] The PostScript backend does not support transparency; partially transparent artists will be rendered opaque.\n",
      "W0220 22:02:12.863503 4724334016 backend_ps.py:804] The PostScript backend does not support transparency; partially transparent artists will be rendered opaque.\n",
      "W0220 22:02:12.864227 4724334016 backend_ps.py:804] The PostScript backend does not support transparency; partially transparent artists will be rendered opaque.\n",
      "W0220 22:02:12.865114 4724334016 backend_ps.py:804] The PostScript backend does not support transparency; partially transparent artists will be rendered opaque.\n",
      "W0220 22:02:12.865861 4724334016 backend_ps.py:804] The PostScript backend does not support transparency; partially transparent artists will be rendered opaque.\n",
      "W0220 22:02:12.866736 4724334016 backend_ps.py:804] The PostScript backend does not support transparency; partially transparent artists will be rendered opaque.\n",
      "W0220 22:02:12.867465 4724334016 backend_ps.py:804] The PostScript backend does not support transparency; partially transparent artists will be rendered opaque.\n",
      "W0220 22:02:12.868371 4724334016 backend_ps.py:804] The PostScript backend does not support transparency; partially transparent artists will be rendered opaque.\n",
      "W0220 22:02:12.869118 4724334016 backend_ps.py:804] The PostScript backend does not support transparency; partially transparent artists will be rendered opaque.\n",
      "W0220 22:02:12.870009 4724334016 backend_ps.py:804] The PostScript backend does not support transparency; partially transparent artists will be rendered opaque.\n",
      "W0220 22:02:12.870704 4724334016 backend_ps.py:804] The PostScript backend does not support transparency; partially transparent artists will be rendered opaque.\n",
      "W0220 22:02:12.871572 4724334016 backend_ps.py:804] The PostScript backend does not support transparency; partially transparent artists will be rendered opaque.\n",
      "W0220 22:02:12.872251 4724334016 backend_ps.py:804] The PostScript backend does not support transparency; partially transparent artists will be rendered opaque.\n",
      "W0220 22:02:12.916707 4724334016 backend_ps.py:804] The PostScript backend does not support transparency; partially transparent artists will be rendered opaque.\n",
      "W0220 22:02:12.917390 4724334016 backend_ps.py:804] The PostScript backend does not support transparency; partially transparent artists will be rendered opaque.\n",
      "W0220 22:02:12.925798 4724334016 backend_ps.py:804] The PostScript backend does not support transparency; partially transparent artists will be rendered opaque.\n",
      "W0220 22:02:12.926839 4724334016 backend_ps.py:804] The PostScript backend does not support transparency; partially transparent artists will be rendered opaque.\n",
      "W0220 22:02:12.927583 4724334016 backend_ps.py:804] The PostScript backend does not support transparency; partially transparent artists will be rendered opaque.\n",
      "W0220 22:02:12.928470 4724334016 backend_ps.py:804] The PostScript backend does not support transparency; partially transparent artists will be rendered opaque.\n",
      "W0220 22:02:12.929273 4724334016 backend_ps.py:804] The PostScript backend does not support transparency; partially transparent artists will be rendered opaque.\n",
      "W0220 22:02:12.930339 4724334016 backend_ps.py:804] The PostScript backend does not support transparency; partially transparent artists will be rendered opaque.\n",
      "W0220 22:02:12.931384 4724334016 backend_ps.py:804] The PostScript backend does not support transparency; partially transparent artists will be rendered opaque.\n",
      "W0220 22:02:12.932284 4724334016 backend_ps.py:804] The PostScript backend does not support transparency; partially transparent artists will be rendered opaque.\n",
      "W0220 22:02:12.933072 4724334016 backend_ps.py:804] The PostScript backend does not support transparency; partially transparent artists will be rendered opaque.\n",
      "W0220 22:02:12.934029 4724334016 backend_ps.py:804] The PostScript backend does not support transparency; partially transparent artists will be rendered opaque.\n",
      "W0220 22:02:12.934814 4724334016 backend_ps.py:804] The PostScript backend does not support transparency; partially transparent artists will be rendered opaque.\n",
      "W0220 22:02:12.935780 4724334016 backend_ps.py:804] The PostScript backend does not support transparency; partially transparent artists will be rendered opaque.\n",
      "W0220 22:02:12.936581 4724334016 backend_ps.py:804] The PostScript backend does not support transparency; partially transparent artists will be rendered opaque.\n",
      "W0220 22:02:12.937677 4724334016 backend_ps.py:804] The PostScript backend does not support transparency; partially transparent artists will be rendered opaque.\n",
      "W0220 22:02:12.938546 4724334016 backend_ps.py:804] The PostScript backend does not support transparency; partially transparent artists will be rendered opaque.\n",
      "W0220 22:02:12.939505 4724334016 backend_ps.py:804] The PostScript backend does not support transparency; partially transparent artists will be rendered opaque.\n",
      "W0220 22:02:12.940282 4724334016 backend_ps.py:804] The PostScript backend does not support transparency; partially transparent artists will be rendered opaque.\n",
      "W0220 22:02:12.941204 4724334016 backend_ps.py:804] The PostScript backend does not support transparency; partially transparent artists will be rendered opaque.\n",
      "W0220 22:02:12.941923 4724334016 backend_ps.py:804] The PostScript backend does not support transparency; partially transparent artists will be rendered opaque.\n",
      "W0220 22:02:12.942785 4724334016 backend_ps.py:804] The PostScript backend does not support transparency; partially transparent artists will be rendered opaque.\n",
      "W0220 22:02:12.943531 4724334016 backend_ps.py:804] The PostScript backend does not support transparency; partially transparent artists will be rendered opaque.\n",
      "W0220 22:02:12.944575 4724334016 backend_ps.py:804] The PostScript backend does not support transparency; partially transparent artists will be rendered opaque.\n",
      "W0220 22:02:12.945354 4724334016 backend_ps.py:804] The PostScript backend does not support transparency; partially transparent artists will be rendered opaque.\n",
      "W0220 22:02:12.946299 4724334016 backend_ps.py:804] The PostScript backend does not support transparency; partially transparent artists will be rendered opaque.\n",
      "W0220 22:02:12.947089 4724334016 backend_ps.py:804] The PostScript backend does not support transparency; partially transparent artists will be rendered opaque.\n",
      "W0220 22:02:12.948231 4724334016 backend_ps.py:804] The PostScript backend does not support transparency; partially transparent artists will be rendered opaque.\n",
      "W0220 22:02:12.949017 4724334016 backend_ps.py:804] The PostScript backend does not support transparency; partially transparent artists will be rendered opaque.\n",
      "W0220 22:02:12.950003 4724334016 backend_ps.py:804] The PostScript backend does not support transparency; partially transparent artists will be rendered opaque.\n",
      "W0220 22:02:12.950776 4724334016 backend_ps.py:804] The PostScript backend does not support transparency; partially transparent artists will be rendered opaque.\n",
      "W0220 22:02:12.951652 4724334016 backend_ps.py:804] The PostScript backend does not support transparency; partially transparent artists will be rendered opaque.\n",
      "W0220 22:02:12.952564 4724334016 backend_ps.py:804] The PostScript backend does not support transparency; partially transparent artists will be rendered opaque.\n",
      "W0220 22:02:12.953596 4724334016 backend_ps.py:804] The PostScript backend does not support transparency; partially transparent artists will be rendered opaque.\n",
      "W0220 22:02:12.954405 4724334016 backend_ps.py:804] The PostScript backend does not support transparency; partially transparent artists will be rendered opaque.\n",
      "W0220 22:02:12.955387 4724334016 backend_ps.py:804] The PostScript backend does not support transparency; partially transparent artists will be rendered opaque.\n",
      "W0220 22:02:12.956243 4724334016 backend_ps.py:804] The PostScript backend does not support transparency; partially transparent artists will be rendered opaque.\n",
      "W0220 22:02:12.957149 4724334016 backend_ps.py:804] The PostScript backend does not support transparency; partially transparent artists will be rendered opaque.\n",
      "W0220 22:02:12.957991 4724334016 backend_ps.py:804] The PostScript backend does not support transparency; partially transparent artists will be rendered opaque.\n",
      "W0220 22:02:12.958827 4724334016 backend_ps.py:804] The PostScript backend does not support transparency; partially transparent artists will be rendered opaque.\n",
      "W0220 22:02:12.959653 4724334016 backend_ps.py:804] The PostScript backend does not support transparency; partially transparent artists will be rendered opaque.\n",
      "W0220 22:02:12.960593 4724334016 backend_ps.py:804] The PostScript backend does not support transparency; partially transparent artists will be rendered opaque.\n",
      "W0220 22:02:12.961353 4724334016 backend_ps.py:804] The PostScript backend does not support transparency; partially transparent artists will be rendered opaque.\n",
      "W0220 22:02:12.962254 4724334016 backend_ps.py:804] The PostScript backend does not support transparency; partially transparent artists will be rendered opaque.\n",
      "W0220 22:02:12.963057 4724334016 backend_ps.py:804] The PostScript backend does not support transparency; partially transparent artists will be rendered opaque.\n",
      "W0220 22:02:12.964087 4724334016 backend_ps.py:804] The PostScript backend does not support transparency; partially transparent artists will be rendered opaque.\n",
      "W0220 22:02:12.965023 4724334016 backend_ps.py:804] The PostScript backend does not support transparency; partially transparent artists will be rendered opaque.\n",
      "W0220 22:02:12.965926 4724334016 backend_ps.py:804] The PostScript backend does not support transparency; partially transparent artists will be rendered opaque.\n",
      "W0220 22:02:12.966715 4724334016 backend_ps.py:804] The PostScript backend does not support transparency; partially transparent artists will be rendered opaque.\n",
      "W0220 22:02:12.967798 4724334016 backend_ps.py:804] The PostScript backend does not support transparency; partially transparent artists will be rendered opaque.\n",
      "W0220 22:02:12.968680 4724334016 backend_ps.py:804] The PostScript backend does not support transparency; partially transparent artists will be rendered opaque.\n",
      "W0220 22:02:12.969600 4724334016 backend_ps.py:804] The PostScript backend does not support transparency; partially transparent artists will be rendered opaque.\n",
      "W0220 22:02:12.970374 4724334016 backend_ps.py:804] The PostScript backend does not support transparency; partially transparent artists will be rendered opaque.\n",
      "W0220 22:02:12.971307 4724334016 backend_ps.py:804] The PostScript backend does not support transparency; partially transparent artists will be rendered opaque.\n",
      "W0220 22:02:12.972066 4724334016 backend_ps.py:804] The PostScript backend does not support transparency; partially transparent artists will be rendered opaque.\n",
      "W0220 22:02:12.973001 4724334016 backend_ps.py:804] The PostScript backend does not support transparency; partially transparent artists will be rendered opaque.\n",
      "W0220 22:02:12.973795 4724334016 backend_ps.py:804] The PostScript backend does not support transparency; partially transparent artists will be rendered opaque.\n",
      "W0220 22:02:12.974720 4724334016 backend_ps.py:804] The PostScript backend does not support transparency; partially transparent artists will be rendered opaque.\n",
      "W0220 22:02:12.975546 4724334016 backend_ps.py:804] The PostScript backend does not support transparency; partially transparent artists will be rendered opaque.\n",
      "W0220 22:02:12.976518 4724334016 backend_ps.py:804] The PostScript backend does not support transparency; partially transparent artists will be rendered opaque.\n",
      "W0220 22:02:12.977283 4724334016 backend_ps.py:804] The PostScript backend does not support transparency; partially transparent artists will be rendered opaque.\n",
      "W0220 22:02:12.978237 4724334016 backend_ps.py:804] The PostScript backend does not support transparency; partially transparent artists will be rendered opaque.\n",
      "W0220 22:02:12.978992 4724334016 backend_ps.py:804] The PostScript backend does not support transparency; partially transparent artists will be rendered opaque.\n",
      "W0220 22:02:12.979976 4724334016 backend_ps.py:804] The PostScript backend does not support transparency; partially transparent artists will be rendered opaque.\n",
      "W0220 22:02:12.980879 4724334016 backend_ps.py:804] The PostScript backend does not support transparency; partially transparent artists will be rendered opaque.\n",
      "W0220 22:02:12.981873 4724334016 backend_ps.py:804] The PostScript backend does not support transparency; partially transparent artists will be rendered opaque.\n",
      "W0220 22:02:12.982689 4724334016 backend_ps.py:804] The PostScript backend does not support transparency; partially transparent artists will be rendered opaque.\n",
      "W0220 22:02:12.983804 4724334016 backend_ps.py:804] The PostScript backend does not support transparency; partially transparent artists will be rendered opaque.\n",
      "W0220 22:02:12.984686 4724334016 backend_ps.py:804] The PostScript backend does not support transparency; partially transparent artists will be rendered opaque.\n",
      "W0220 22:02:12.985661 4724334016 backend_ps.py:804] The PostScript backend does not support transparency; partially transparent artists will be rendered opaque.\n",
      "W0220 22:02:12.986470 4724334016 backend_ps.py:804] The PostScript backend does not support transparency; partially transparent artists will be rendered opaque.\n",
      "W0220 22:02:12.987370 4724334016 backend_ps.py:804] The PostScript backend does not support transparency; partially transparent artists will be rendered opaque.\n",
      "W0220 22:02:12.988084 4724334016 backend_ps.py:804] The PostScript backend does not support transparency; partially transparent artists will be rendered opaque.\n",
      "W0220 22:02:12.988894 4724334016 backend_ps.py:804] The PostScript backend does not support transparency; partially transparent artists will be rendered opaque.\n",
      "W0220 22:02:12.989648 4724334016 backend_ps.py:804] The PostScript backend does not support transparency; partially transparent artists will be rendered opaque.\n",
      "W0220 22:02:12.990612 4724334016 backend_ps.py:804] The PostScript backend does not support transparency; partially transparent artists will be rendered opaque.\n",
      "W0220 22:02:12.991408 4724334016 backend_ps.py:804] The PostScript backend does not support transparency; partially transparent artists will be rendered opaque.\n",
      "W0220 22:02:12.992325 4724334016 backend_ps.py:804] The PostScript backend does not support transparency; partially transparent artists will be rendered opaque.\n",
      "W0220 22:02:12.993052 4724334016 backend_ps.py:804] The PostScript backend does not support transparency; partially transparent artists will be rendered opaque.\n",
      "W0220 22:02:12.993910 4724334016 backend_ps.py:804] The PostScript backend does not support transparency; partially transparent artists will be rendered opaque.\n",
      "W0220 22:02:12.994642 4724334016 backend_ps.py:804] The PostScript backend does not support transparency; partially transparent artists will be rendered opaque.\n",
      "W0220 22:02:12.995598 4724334016 backend_ps.py:804] The PostScript backend does not support transparency; partially transparent artists will be rendered opaque.\n",
      "W0220 22:02:12.996417 4724334016 backend_ps.py:804] The PostScript backend does not support transparency; partially transparent artists will be rendered opaque.\n",
      "W0220 22:02:12.997411 4724334016 backend_ps.py:804] The PostScript backend does not support transparency; partially transparent artists will be rendered opaque.\n",
      "W0220 22:02:12.998275 4724334016 backend_ps.py:804] The PostScript backend does not support transparency; partially transparent artists will be rendered opaque.\n",
      "W0220 22:02:12.999320 4724334016 backend_ps.py:804] The PostScript backend does not support transparency; partially transparent artists will be rendered opaque.\n",
      "W0220 22:02:13.000250 4724334016 backend_ps.py:804] The PostScript backend does not support transparency; partially transparent artists will be rendered opaque.\n",
      "W0220 22:02:13.001242 4724334016 backend_ps.py:804] The PostScript backend does not support transparency; partially transparent artists will be rendered opaque.\n",
      "W0220 22:02:13.001996 4724334016 backend_ps.py:804] The PostScript backend does not support transparency; partially transparent artists will be rendered opaque.\n",
      "W0220 22:02:13.003014 4724334016 backend_ps.py:804] The PostScript backend does not support transparency; partially transparent artists will be rendered opaque.\n",
      "W0220 22:02:13.003883 4724334016 backend_ps.py:804] The PostScript backend does not support transparency; partially transparent artists will be rendered opaque.\n",
      "W0220 22:02:13.004894 4724334016 backend_ps.py:804] The PostScript backend does not support transparency; partially transparent artists will be rendered opaque.\n",
      "W0220 22:02:13.005766 4724334016 backend_ps.py:804] The PostScript backend does not support transparency; partially transparent artists will be rendered opaque.\n",
      "W0220 22:02:13.006675 4724334016 backend_ps.py:804] The PostScript backend does not support transparency; partially transparent artists will be rendered opaque.\n",
      "W0220 22:02:13.007450 4724334016 backend_ps.py:804] The PostScript backend does not support transparency; partially transparent artists will be rendered opaque.\n",
      "W0220 22:02:13.054555 4724334016 backend_ps.py:804] The PostScript backend does not support transparency; partially transparent artists will be rendered opaque.\n",
      "W0220 22:02:13.055330 4724334016 backend_ps.py:804] The PostScript backend does not support transparency; partially transparent artists will be rendered opaque.\n",
      "W0220 22:02:13.407150 4724334016 backend_ps.py:804] The PostScript backend does not support transparency; partially transparent artists will be rendered opaque.\n",
      "W0220 22:02:13.408111 4724334016 backend_ps.py:804] The PostScript backend does not support transparency; partially transparent artists will be rendered opaque.\n",
      "W0220 22:02:13.408900 4724334016 backend_ps.py:804] The PostScript backend does not support transparency; partially transparent artists will be rendered opaque.\n",
      "W0220 22:02:13.409804 4724334016 backend_ps.py:804] The PostScript backend does not support transparency; partially transparent artists will be rendered opaque.\n",
      "W0220 22:02:13.410580 4724334016 backend_ps.py:804] The PostScript backend does not support transparency; partially transparent artists will be rendered opaque.\n",
      "W0220 22:02:13.411491 4724334016 backend_ps.py:804] The PostScript backend does not support transparency; partially transparent artists will be rendered opaque.\n",
      "W0220 22:02:13.412235 4724334016 backend_ps.py:804] The PostScript backend does not support transparency; partially transparent artists will be rendered opaque.\n",
      "W0220 22:02:13.413145 4724334016 backend_ps.py:804] The PostScript backend does not support transparency; partially transparent artists will be rendered opaque.\n",
      "W0220 22:02:13.413907 4724334016 backend_ps.py:804] The PostScript backend does not support transparency; partially transparent artists will be rendered opaque.\n",
      "W0220 22:02:13.414977 4724334016 backend_ps.py:804] The PostScript backend does not support transparency; partially transparent artists will be rendered opaque.\n",
      "W0220 22:02:13.415755 4724334016 backend_ps.py:804] The PostScript backend does not support transparency; partially transparent artists will be rendered opaque.\n",
      "W0220 22:02:13.416898 4724334016 backend_ps.py:804] The PostScript backend does not support transparency; partially transparent artists will be rendered opaque.\n",
      "W0220 22:02:13.417698 4724334016 backend_ps.py:804] The PostScript backend does not support transparency; partially transparent artists will be rendered opaque.\n",
      "W0220 22:02:13.418577 4724334016 backend_ps.py:804] The PostScript backend does not support transparency; partially transparent artists will be rendered opaque.\n",
      "W0220 22:02:13.419471 4724334016 backend_ps.py:804] The PostScript backend does not support transparency; partially transparent artists will be rendered opaque.\n",
      "W0220 22:02:13.420359 4724334016 backend_ps.py:804] The PostScript backend does not support transparency; partially transparent artists will be rendered opaque.\n",
      "W0220 22:02:13.421195 4724334016 backend_ps.py:804] The PostScript backend does not support transparency; partially transparent artists will be rendered opaque.\n",
      "W0220 22:02:13.422127 4724334016 backend_ps.py:804] The PostScript backend does not support transparency; partially transparent artists will be rendered opaque.\n",
      "W0220 22:02:13.422888 4724334016 backend_ps.py:804] The PostScript backend does not support transparency; partially transparent artists will be rendered opaque.\n",
      "W0220 22:02:13.423799 4724334016 backend_ps.py:804] The PostScript backend does not support transparency; partially transparent artists will be rendered opaque.\n",
      "W0220 22:02:13.424553 4724334016 backend_ps.py:804] The PostScript backend does not support transparency; partially transparent artists will be rendered opaque.\n",
      "W0220 22:02:13.425430 4724334016 backend_ps.py:804] The PostScript backend does not support transparency; partially transparent artists will be rendered opaque.\n",
      "W0220 22:02:13.426106 4724334016 backend_ps.py:804] The PostScript backend does not support transparency; partially transparent artists will be rendered opaque.\n",
      "W0220 22:02:13.426965 4724334016 backend_ps.py:804] The PostScript backend does not support transparency; partially transparent artists will be rendered opaque.\n",
      "W0220 22:02:13.427666 4724334016 backend_ps.py:804] The PostScript backend does not support transparency; partially transparent artists will be rendered opaque.\n",
      "W0220 22:02:13.428571 4724334016 backend_ps.py:804] The PostScript backend does not support transparency; partially transparent artists will be rendered opaque.\n",
      "W0220 22:02:13.429300 4724334016 backend_ps.py:804] The PostScript backend does not support transparency; partially transparent artists will be rendered opaque.\n",
      "W0220 22:02:13.430248 4724334016 backend_ps.py:804] The PostScript backend does not support transparency; partially transparent artists will be rendered opaque.\n",
      "W0220 22:02:13.431178 4724334016 backend_ps.py:804] The PostScript backend does not support transparency; partially transparent artists will be rendered opaque.\n",
      "W0220 22:02:13.432287 4724334016 backend_ps.py:804] The PostScript backend does not support transparency; partially transparent artists will be rendered opaque.\n",
      "W0220 22:02:13.433098 4724334016 backend_ps.py:804] The PostScript backend does not support transparency; partially transparent artists will be rendered opaque.\n",
      "W0220 22:02:13.434020 4724334016 backend_ps.py:804] The PostScript backend does not support transparency; partially transparent artists will be rendered opaque.\n",
      "W0220 22:02:13.434790 4724334016 backend_ps.py:804] The PostScript backend does not support transparency; partially transparent artists will be rendered opaque.\n",
      "W0220 22:02:13.435705 4724334016 backend_ps.py:804] The PostScript backend does not support transparency; partially transparent artists will be rendered opaque.\n",
      "W0220 22:02:13.436532 4724334016 backend_ps.py:804] The PostScript backend does not support transparency; partially transparent artists will be rendered opaque.\n",
      "W0220 22:02:13.437386 4724334016 backend_ps.py:804] The PostScript backend does not support transparency; partially transparent artists will be rendered opaque.\n",
      "W0220 22:02:13.438106 4724334016 backend_ps.py:804] The PostScript backend does not support transparency; partially transparent artists will be rendered opaque.\n",
      "W0220 22:02:13.439253 4724334016 backend_ps.py:804] The PostScript backend does not support transparency; partially transparent artists will be rendered opaque.\n",
      "W0220 22:02:13.440160 4724334016 backend_ps.py:804] The PostScript backend does not support transparency; partially transparent artists will be rendered opaque.\n",
      "W0220 22:02:13.441034 4724334016 backend_ps.py:804] The PostScript backend does not support transparency; partially transparent artists will be rendered opaque.\n",
      "W0220 22:02:13.441829 4724334016 backend_ps.py:804] The PostScript backend does not support transparency; partially transparent artists will be rendered opaque.\n",
      "W0220 22:02:13.442711 4724334016 backend_ps.py:804] The PostScript backend does not support transparency; partially transparent artists will be rendered opaque.\n",
      "W0220 22:02:13.443423 4724334016 backend_ps.py:804] The PostScript backend does not support transparency; partially transparent artists will be rendered opaque.\n",
      "W0220 22:02:13.444288 4724334016 backend_ps.py:804] The PostScript backend does not support transparency; partially transparent artists will be rendered opaque.\n",
      "W0220 22:02:13.444965 4724334016 backend_ps.py:804] The PostScript backend does not support transparency; partially transparent artists will be rendered opaque.\n",
      "W0220 22:02:13.445801 4724334016 backend_ps.py:804] The PostScript backend does not support transparency; partially transparent artists will be rendered opaque.\n",
      "W0220 22:02:13.446547 4724334016 backend_ps.py:804] The PostScript backend does not support transparency; partially transparent artists will be rendered opaque.\n",
      "W0220 22:02:13.447507 4724334016 backend_ps.py:804] The PostScript backend does not support transparency; partially transparent artists will be rendered opaque.\n",
      "W0220 22:02:13.448357 4724334016 backend_ps.py:804] The PostScript backend does not support transparency; partially transparent artists will be rendered opaque.\n",
      "W0220 22:02:13.493050 4724334016 backend_ps.py:804] The PostScript backend does not support transparency; partially transparent artists will be rendered opaque.\n",
      "W0220 22:02:13.493670 4724334016 backend_ps.py:804] The PostScript backend does not support transparency; partially transparent artists will be rendered opaque.\n",
      "W0220 22:02:13.501995 4724334016 backend_ps.py:804] The PostScript backend does not support transparency; partially transparent artists will be rendered opaque.\n",
      "W0220 22:02:13.502985 4724334016 backend_ps.py:804] The PostScript backend does not support transparency; partially transparent artists will be rendered opaque.\n",
      "W0220 22:02:13.503717 4724334016 backend_ps.py:804] The PostScript backend does not support transparency; partially transparent artists will be rendered opaque.\n",
      "W0220 22:02:13.504567 4724334016 backend_ps.py:804] The PostScript backend does not support transparency; partially transparent artists will be rendered opaque.\n",
      "W0220 22:02:13.505270 4724334016 backend_ps.py:804] The PostScript backend does not support transparency; partially transparent artists will be rendered opaque.\n",
      "W0220 22:02:13.506148 4724334016 backend_ps.py:804] The PostScript backend does not support transparency; partially transparent artists will be rendered opaque.\n",
      "W0220 22:02:13.506844 4724334016 backend_ps.py:804] The PostScript backend does not support transparency; partially transparent artists will be rendered opaque.\n",
      "W0220 22:02:13.507681 4724334016 backend_ps.py:804] The PostScript backend does not support transparency; partially transparent artists will be rendered opaque.\n",
      "W0220 22:02:13.508409 4724334016 backend_ps.py:804] The PostScript backend does not support transparency; partially transparent artists will be rendered opaque.\n",
      "W0220 22:02:13.509284 4724334016 backend_ps.py:804] The PostScript backend does not support transparency; partially transparent artists will be rendered opaque.\n",
      "W0220 22:02:13.510000 4724334016 backend_ps.py:804] The PostScript backend does not support transparency; partially transparent artists will be rendered opaque.\n",
      "W0220 22:02:13.510863 4724334016 backend_ps.py:804] The PostScript backend does not support transparency; partially transparent artists will be rendered opaque.\n",
      "W0220 22:02:13.511521 4724334016 backend_ps.py:804] The PostScript backend does not support transparency; partially transparent artists will be rendered opaque.\n",
      "W0220 22:02:13.512290 4724334016 backend_ps.py:804] The PostScript backend does not support transparency; partially transparent artists will be rendered opaque.\n",
      "W0220 22:02:13.513022 4724334016 backend_ps.py:804] The PostScript backend does not support transparency; partially transparent artists will be rendered opaque.\n",
      "W0220 22:02:13.513951 4724334016 backend_ps.py:804] The PostScript backend does not support transparency; partially transparent artists will be rendered opaque.\n",
      "W0220 22:02:13.514938 4724334016 backend_ps.py:804] The PostScript backend does not support transparency; partially transparent artists will be rendered opaque.\n",
      "W0220 22:02:13.516093 4724334016 backend_ps.py:804] The PostScript backend does not support transparency; partially transparent artists will be rendered opaque.\n",
      "W0220 22:02:13.516933 4724334016 backend_ps.py:804] The PostScript backend does not support transparency; partially transparent artists will be rendered opaque.\n",
      "W0220 22:02:13.517875 4724334016 backend_ps.py:804] The PostScript backend does not support transparency; partially transparent artists will be rendered opaque.\n",
      "W0220 22:02:13.518611 4724334016 backend_ps.py:804] The PostScript backend does not support transparency; partially transparent artists will be rendered opaque.\n",
      "W0220 22:02:13.519557 4724334016 backend_ps.py:804] The PostScript backend does not support transparency; partially transparent artists will be rendered opaque.\n",
      "W0220 22:02:13.520282 4724334016 backend_ps.py:804] The PostScript backend does not support transparency; partially transparent artists will be rendered opaque.\n",
      "W0220 22:02:13.521280 4724334016 backend_ps.py:804] The PostScript backend does not support transparency; partially transparent artists will be rendered opaque.\n",
      "W0220 22:02:13.521996 4724334016 backend_ps.py:804] The PostScript backend does not support transparency; partially transparent artists will be rendered opaque.\n",
      "W0220 22:02:13.522917 4724334016 backend_ps.py:804] The PostScript backend does not support transparency; partially transparent artists will be rendered opaque.\n",
      "W0220 22:02:13.523704 4724334016 backend_ps.py:804] The PostScript backend does not support transparency; partially transparent artists will be rendered opaque.\n",
      "W0220 22:02:13.524515 4724334016 backend_ps.py:804] The PostScript backend does not support transparency; partially transparent artists will be rendered opaque.\n",
      "W0220 22:02:13.525166 4724334016 backend_ps.py:804] The PostScript backend does not support transparency; partially transparent artists will be rendered opaque.\n",
      "W0220 22:02:13.525981 4724334016 backend_ps.py:804] The PostScript backend does not support transparency; partially transparent artists will be rendered opaque.\n",
      "W0220 22:02:13.526679 4724334016 backend_ps.py:804] The PostScript backend does not support transparency; partially transparent artists will be rendered opaque.\n",
      "W0220 22:02:13.527602 4724334016 backend_ps.py:804] The PostScript backend does not support transparency; partially transparent artists will be rendered opaque.\n",
      "W0220 22:02:13.528304 4724334016 backend_ps.py:804] The PostScript backend does not support transparency; partially transparent artists will be rendered opaque.\n",
      "W0220 22:02:13.529230 4724334016 backend_ps.py:804] The PostScript backend does not support transparency; partially transparent artists will be rendered opaque.\n",
      "W0220 22:02:13.530007 4724334016 backend_ps.py:804] The PostScript backend does not support transparency; partially transparent artists will be rendered opaque.\n",
      "W0220 22:02:13.530969 4724334016 backend_ps.py:804] The PostScript backend does not support transparency; partially transparent artists will be rendered opaque.\n",
      "W0220 22:02:13.531960 4724334016 backend_ps.py:804] The PostScript backend does not support transparency; partially transparent artists will be rendered opaque.\n",
      "W0220 22:02:13.532965 4724334016 backend_ps.py:804] The PostScript backend does not support transparency; partially transparent artists will be rendered opaque.\n",
      "W0220 22:02:13.533761 4724334016 backend_ps.py:804] The PostScript backend does not support transparency; partially transparent artists will be rendered opaque.\n",
      "W0220 22:02:13.534715 4724334016 backend_ps.py:804] The PostScript backend does not support transparency; partially transparent artists will be rendered opaque.\n",
      "W0220 22:02:13.535591 4724334016 backend_ps.py:804] The PostScript backend does not support transparency; partially transparent artists will be rendered opaque.\n",
      "W0220 22:02:13.536497 4724334016 backend_ps.py:804] The PostScript backend does not support transparency; partially transparent artists will be rendered opaque.\n",
      "W0220 22:02:13.537530 4724334016 backend_ps.py:804] The PostScript backend does not support transparency; partially transparent artists will be rendered opaque.\n",
      "W0220 22:02:13.538409 4724334016 backend_ps.py:804] The PostScript backend does not support transparency; partially transparent artists will be rendered opaque.\n",
      "W0220 22:02:13.539190 4724334016 backend_ps.py:804] The PostScript backend does not support transparency; partially transparent artists will be rendered opaque.\n",
      "W0220 22:02:13.540051 4724334016 backend_ps.py:804] The PostScript backend does not support transparency; partially transparent artists will be rendered opaque.\n",
      "W0220 22:02:13.540753 4724334016 backend_ps.py:804] The PostScript backend does not support transparency; partially transparent artists will be rendered opaque.\n",
      "W0220 22:02:13.541686 4724334016 backend_ps.py:804] The PostScript backend does not support transparency; partially transparent artists will be rendered opaque.\n",
      "W0220 22:02:13.542406 4724334016 backend_ps.py:804] The PostScript backend does not support transparency; partially transparent artists will be rendered opaque.\n",
      "W0220 22:02:13.543332 4724334016 backend_ps.py:804] The PostScript backend does not support transparency; partially transparent artists will be rendered opaque.\n",
      "W0220 22:02:13.544023 4724334016 backend_ps.py:804] The PostScript backend does not support transparency; partially transparent artists will be rendered opaque.\n",
      "W0220 22:02:13.544883 4724334016 backend_ps.py:804] The PostScript backend does not support transparency; partially transparent artists will be rendered opaque.\n",
      "W0220 22:02:13.545619 4724334016 backend_ps.py:804] The PostScript backend does not support transparency; partially transparent artists will be rendered opaque.\n",
      "W0220 22:02:13.546471 4724334016 backend_ps.py:804] The PostScript backend does not support transparency; partially transparent artists will be rendered opaque.\n",
      "W0220 22:02:13.547244 4724334016 backend_ps.py:804] The PostScript backend does not support transparency; partially transparent artists will be rendered opaque.\n",
      "W0220 22:02:13.548331 4724334016 backend_ps.py:804] The PostScript backend does not support transparency; partially transparent artists will be rendered opaque.\n",
      "W0220 22:02:13.549226 4724334016 backend_ps.py:804] The PostScript backend does not support transparency; partially transparent artists will be rendered opaque.\n",
      "W0220 22:02:13.550170 4724334016 backend_ps.py:804] The PostScript backend does not support transparency; partially transparent artists will be rendered opaque.\n",
      "W0220 22:02:13.551031 4724334016 backend_ps.py:804] The PostScript backend does not support transparency; partially transparent artists will be rendered opaque.\n",
      "W0220 22:02:13.551883 4724334016 backend_ps.py:804] The PostScript backend does not support transparency; partially transparent artists will be rendered opaque.\n",
      "W0220 22:02:13.552607 4724334016 backend_ps.py:804] The PostScript backend does not support transparency; partially transparent artists will be rendered opaque.\n",
      "W0220 22:02:13.553448 4724334016 backend_ps.py:804] The PostScript backend does not support transparency; partially transparent artists will be rendered opaque.\n",
      "W0220 22:02:13.554181 4724334016 backend_ps.py:804] The PostScript backend does not support transparency; partially transparent artists will be rendered opaque.\n",
      "W0220 22:02:13.555052 4724334016 backend_ps.py:804] The PostScript backend does not support transparency; partially transparent artists will be rendered opaque.\n",
      "W0220 22:02:13.555761 4724334016 backend_ps.py:804] The PostScript backend does not support transparency; partially transparent artists will be rendered opaque.\n",
      "W0220 22:02:13.556714 4724334016 backend_ps.py:804] The PostScript backend does not support transparency; partially transparent artists will be rendered opaque.\n",
      "W0220 22:02:13.557498 4724334016 backend_ps.py:804] The PostScript backend does not support transparency; partially transparent artists will be rendered opaque.\n",
      "W0220 22:02:13.558767 4724334016 backend_ps.py:804] The PostScript backend does not support transparency; partially transparent artists will be rendered opaque.\n",
      "W0220 22:02:13.559800 4724334016 backend_ps.py:804] The PostScript backend does not support transparency; partially transparent artists will be rendered opaque.\n",
      "W0220 22:02:13.560904 4724334016 backend_ps.py:804] The PostScript backend does not support transparency; partially transparent artists will be rendered opaque.\n",
      "W0220 22:02:13.561800 4724334016 backend_ps.py:804] The PostScript backend does not support transparency; partially transparent artists will be rendered opaque.\n",
      "W0220 22:02:13.562898 4724334016 backend_ps.py:804] The PostScript backend does not support transparency; partially transparent artists will be rendered opaque.\n",
      "W0220 22:02:13.564304 4724334016 backend_ps.py:804] The PostScript backend does not support transparency; partially transparent artists will be rendered opaque.\n",
      "W0220 22:02:13.565554 4724334016 backend_ps.py:804] The PostScript backend does not support transparency; partially transparent artists will be rendered opaque.\n",
      "W0220 22:02:13.566396 4724334016 backend_ps.py:804] The PostScript backend does not support transparency; partially transparent artists will be rendered opaque.\n",
      "W0220 22:02:13.567337 4724334016 backend_ps.py:804] The PostScript backend does not support transparency; partially transparent artists will be rendered opaque.\n",
      "W0220 22:02:13.568320 4724334016 backend_ps.py:804] The PostScript backend does not support transparency; partially transparent artists will be rendered opaque.\n",
      "W0220 22:02:13.570029 4724334016 backend_ps.py:804] The PostScript backend does not support transparency; partially transparent artists will be rendered opaque.\n",
      "W0220 22:02:13.571201 4724334016 backend_ps.py:804] The PostScript backend does not support transparency; partially transparent artists will be rendered opaque.\n",
      "W0220 22:02:13.572325 4724334016 backend_ps.py:804] The PostScript backend does not support transparency; partially transparent artists will be rendered opaque.\n",
      "W0220 22:02:13.573448 4724334016 backend_ps.py:804] The PostScript backend does not support transparency; partially transparent artists will be rendered opaque.\n",
      "W0220 22:02:13.574379 4724334016 backend_ps.py:804] The PostScript backend does not support transparency; partially transparent artists will be rendered opaque.\n",
      "W0220 22:02:13.575834 4724334016 backend_ps.py:804] The PostScript backend does not support transparency; partially transparent artists will be rendered opaque.\n",
      "W0220 22:02:13.577502 4724334016 backend_ps.py:804] The PostScript backend does not support transparency; partially transparent artists will be rendered opaque.\n",
      "W0220 22:02:13.579162 4724334016 backend_ps.py:804] The PostScript backend does not support transparency; partially transparent artists will be rendered opaque.\n",
      "W0220 22:02:13.580899 4724334016 backend_ps.py:804] The PostScript backend does not support transparency; partially transparent artists will be rendered opaque.\n",
      "W0220 22:02:13.582415 4724334016 backend_ps.py:804] The PostScript backend does not support transparency; partially transparent artists will be rendered opaque.\n",
      "W0220 22:02:13.583804 4724334016 backend_ps.py:804] The PostScript backend does not support transparency; partially transparent artists will be rendered opaque.\n",
      "W0220 22:02:13.584768 4724334016 backend_ps.py:804] The PostScript backend does not support transparency; partially transparent artists will be rendered opaque.\n",
      "W0220 22:02:13.585623 4724334016 backend_ps.py:804] The PostScript backend does not support transparency; partially transparent artists will be rendered opaque.\n",
      "W0220 22:02:13.587002 4724334016 backend_ps.py:804] The PostScript backend does not support transparency; partially transparent artists will be rendered opaque.\n",
      "W0220 22:02:13.588069 4724334016 backend_ps.py:804] The PostScript backend does not support transparency; partially transparent artists will be rendered opaque.\n",
      "W0220 22:02:13.588933 4724334016 backend_ps.py:804] The PostScript backend does not support transparency; partially transparent artists will be rendered opaque.\n",
      "W0220 22:02:13.634821 4724334016 backend_ps.py:804] The PostScript backend does not support transparency; partially transparent artists will be rendered opaque.\n",
      "W0220 22:02:13.635421 4724334016 backend_ps.py:804] The PostScript backend does not support transparency; partially transparent artists will be rendered opaque.\n"
     ]
    }
   ],
   "source": [
    "\n",
    "    \n",
    "plt.tight_layout()\n",
    "\n",
    "fig = plt.figure(figsize=(16, 5))\n",
    "\n",
    "\n",
    "\n",
    "ax = fig.add_subplot(1, 2, 1)\n",
    "\n",
    "\n",
    "sns.distplot(MAE_boxplot_C_flat, color = 'gray', hist = True, label = 'AE$_{[O_2]}$ KDE',rug_kws={\"color\": \"gray\"},\n",
    "                  kde_kws={\"color\": \"k\", \"lw\": 3, \"label\": \"KDE\"},\n",
    "                   hist_kws={\"histtype\": \"bar\", \"linewidth\": 0,\n",
    "                             \"alpha\": 0.4, \"color\": \"gray\"})\n",
    "\n",
    "sns.distplot(MAE_boxplot_C_flat_3, color = 'gray', hist = True, label = 'AE$_{[O_2]}$ KDE 2',rug_kws={\"color\": \"gray\"},\n",
    "                  kde_kws={\"color\": \"blue\", \"lw\": 3, \"label\": \"KDE\"},\n",
    "                   hist_kws={\"histtype\": \"bar\", \"linewidth\": 0,\n",
    "                             \"alpha\": 0.4, \"color\": \"blue\"})\n",
    "\n",
    "\n",
    "custom_lines = [Patch(facecolor='gray', edgecolor='gray',\n",
    "                         label='$AE_T$ KDE 4x50,3x15,3x15'),\n",
    "                Patch(facecolor='blue', edgecolor='gray',\n",
    "                         label='$AE_T$ KDE 3x50,2x5,2x5'),\n",
    "                Line2D([0], [0], color='blue', lw=4)\n",
    "                ]\n",
    "\n",
    "ax.legend(custom_lines, ['$AE_{[O_2]}$ KDE 4x50,3x15,3x15', '$AE_{[O_2]}$ KDE 4x50,3x15,3x15'], fontsize = 16)\n",
    "\n",
    "#plt.xticks(range(1,len(neta50_O2['MAE_xticks'])+1), neta50_O2['MAE_xticks'], size='small', rotation = 'vertical')\n",
    "\n",
    "#plt.grid()\n",
    "\n",
    "plt.ylabel('Counts (normalized)', fontsize = 16)\n",
    "plt.xlabel('AE$_{[O_2]}$ (% air)', fontsize = 16)\n",
    "plt.tick_params(labelsize=16)\n",
    "plt.ylim(0, 1.2)\n",
    "plt.xlim(0, 10)\n",
    "\n",
    "m_ = np.mean(MAE_boxplot_C_flat)\n",
    "m_3_ = np.mean(MAE_boxplot_C_flat_3)\n",
    "\n",
    "plt.plot([m_, m_], [0, 0.565], lw = 4, color = 'black')\n",
    "plt.plot([m_3_, m_3_], [0, 0.755], lw = 4, color = 'blue')\n",
    "\n",
    "\n",
    "\n",
    "ax = fig.add_subplot(1, 2,2)\n",
    "# MAE_boxplot_C, MAE_list_C, MAE_xticks_C\n",
    "sns.distplot(MAET_boxplot_C_MTL_flat,   hist = True, label = '$AE_T$ KDE',rug_kws={\"color\": \"gray\"},\n",
    "                  kde_kws={\"color\": \"k\", \"lw\": 3, \"label\": \"KDE\"},\n",
    "                   hist_kws={\"histtype\": \"bar\", \"linewidth\": 0,\n",
    "                             \"alpha\": 0.4, \"color\": \"gray\"})\n",
    "\n",
    "sns.distplot(MAET_boxplot_C_MTL_flat_3, color = 'gray', hist = True, label = 'AE$_{[O_2]}$ KDE 2',rug_kws={\"color\": \"gray\"},\n",
    "                  kde_kws={\"color\": \"blue\", \"lw\": 3, \"label\": \"KDE\"},\n",
    "                   hist_kws={\"histtype\": \"bar\", \"linewidth\": 0,\n",
    "                             \"alpha\": 0.4, \"color\": \"blue\"})\n",
    "    \n",
    "#plt.ylim(-0.2, 2.9)\n",
    "    \n",
    "#ax.text(1, 1.5, 'Value for $[O_2] = 100$ % Air', fontsize = 18)\n",
    "\n",
    "plt.xlabel('$AE_T$ ($^\\circ$C)', fontsize = 16)\n",
    "plt.tick_params(labelsize=16)\n",
    "\n",
    "custom_lines = [Patch(facecolor='gray', edgecolor='gray',\n",
    "                         label='$AE_T$ KDE 4x50,3x15,3x15'),\n",
    "                Patch(facecolor='blue', edgecolor='gray',\n",
    "                         label='$AE_T$ KDE 3x50,2x5,2x5'),\n",
    "                Line2D([0], [0], color='blue', lw=4)\n",
    "                ]\n",
    "\n",
    "ax.legend(custom_lines, ['$AE_T$ KDE 4x50,3x15,3x15', '$AE_T$ KDE 4x50,3x15,3x15'], fontsize = 16)\n",
    "#ax.legend( fontsize = 16)\n",
    "plt.ylim(0, 1.0)\n",
    "plt.xlim(0, 20)\n",
    "\n",
    "m_ = np.mean(MAET_boxplot_C_MTL_flat_3)\n",
    "\n",
    "plt.plot([m_, m_], [0, 0.32], lw = 4, color = 'blue')\n",
    "\n",
    "\n",
    "plt.show()\n",
    "\n",
    "#fig.savefig('/content/gdrive/My Drive/plot3.eps', format='eps', dpi=300,bbox_inches='tight')\n",
    "\n",
    "\n",
    "\n",
    "fig.savefig('../paper/model_20001_32_1e-3_4x50_3x15_3x15_theta90.eps', format='eps', dpi=300,bbox_inches='tight')"
   ]
  },
  {
   "cell_type": "markdown",
   "metadata": {},
   "source": [
    "# Predictions of models"
   ]
  },
  {
   "cell_type": "markdown",
   "metadata": {},
   "source": [
    "## Functions to get the predictions"
   ]
  },
  {
   "cell_type": "code",
   "execution_count": 120,
   "metadata": {},
   "outputs": [],
   "source": [
    "targets_dev = targets_dev.reset_index(drop = True)\n",
    "preds_exp_o2_df, preds_exp_T_df = get_predictions(model4)"
   ]
  },
  {
   "cell_type": "code",
   "execution_count": 121,
   "metadata": {
    "colab": {},
    "colab_type": "code",
    "id": "M-UMGLNJZvFi"
   },
   "outputs": [],
   "source": [
    "#(O2T, O2, T) = model4.predict(data_dev)\n",
    "#preds_exp_df = pd.DataFrame(O2T)\n",
    "#preds_exp_df.columns = ['O2', 'T']\n",
    "#preds_exp_o2_df = pd.DataFrame(O2[:,0])\n",
    "#preds_exp_o2_df.columns = ['O2']\n",
    "\n",
    "#preds_exp_T_df = pd.DataFrame(T[:,0])\n",
    "#preds_exp_T_df.columns = ['T']"
   ]
  },
  {
   "cell_type": "code",
   "execution_count": 122,
   "metadata": {
    "colab": {},
    "colab_type": "code",
    "id": "TAQKhZDjZvFi"
   },
   "outputs": [],
   "source": [
    "#targets_dev = targets_dev.reset_index(drop = True)\n",
    "#preds_exp_o2_df = preds_exp_o2_df.reset_index(drop = True)\n",
    "#preds_exp_T_df = preds_exp_T_df.reset_index(drop = True)"
   ]
  },
  {
   "cell_type": "code",
   "execution_count": 123,
   "metadata": {
    "colab": {},
    "colab_type": "code",
    "id": "mzVtcUYsZvFj"
   },
   "outputs": [],
   "source": [
    "MAE_boxplot_C, MAE_list_C, MAE_xticks_C = MAE_O2_list_generator(10.0, targets_dev, preds_exp_o2_df)\n",
    "MAET_boxplot_C_MTL, MAET_list_C_MTL, MAET_xticks_C_MTL = MAE_T_list_generator(targets_dev, preds_exp_T_df)"
   ]
  },
  {
   "cell_type": "code",
   "execution_count": 124,
   "metadata": {
    "colab": {
     "base_uri": "https://localhost:8080/",
     "height": 197
    },
    "colab_type": "code",
    "id": "XeoJZecyZvFj",
    "outputId": "7e78f0e9-41ec-4bbd-dffe-2258a145120e"
   },
   "outputs": [
    {
     "data": {
      "text/plain": [
       "[0.06873983441961269,\n",
       " 1.3901613285280254,\n",
       " 1.131828108303983,\n",
       " 1.3717486129866725,\n",
       " 1.6567139228185004,\n",
       " 1.5664960107495685,\n",
       " 1.8273449885217767,\n",
       " 1.9478440586524695,\n",
       " 2.417588580738414,\n",
       " 2.630367453505354]"
      ]
     },
     "execution_count": 124,
     "metadata": {},
     "output_type": "execute_result"
    }
   ],
   "source": [
    "MAE_list_C"
   ]
  },
  {
   "cell_type": "code",
   "execution_count": 125,
   "metadata": {
    "colab": {
     "base_uri": "https://localhost:8080/",
     "height": 35
    },
    "colab_type": "code",
    "id": "TPq8KP8FZvFk",
    "outputId": "d8b6af4a-487c-48f5-ac8b-b54b2b8a4eb5"
   },
   "outputs": [
    {
     "data": {
      "text/plain": [
       "1.6008832899224377"
      ]
     },
     "execution_count": 125,
     "metadata": {},
     "output_type": "execute_result"
    }
   ],
   "source": [
    "np.mean(MAE_list_C) \n",
    "# 64/32/32 -->\n",
    "# 50       -->\n",
    "# 80       -->"
   ]
  },
  {
   "cell_type": "code",
   "execution_count": 126,
   "metadata": {
    "colab": {
     "base_uri": "https://localhost:8080/",
     "height": 443
    },
    "colab_type": "code",
    "id": "ic8H7_tdZvFk",
    "outputId": "3e9744f5-3694-4d8b-e73c-b8778d5d7982"
   },
   "outputs": [
    {
     "data": {
      "text/plain": [
       "<matplotlib.legend.Legend at 0x7f8890f32a20>"
      ]
     },
     "execution_count": 126,
     "metadata": {},
     "output_type": "execute_result"
    },
    {
     "data": {
      "text/plain": [
       "<Figure size 432x288 with 0 Axes>"
      ]
     },
     "metadata": {},
     "output_type": "display_data"
    },
    {
     "data": {
      "image/png": "[encoded data removed]",
      "text/plain": [
       "<Figure size 576x360 with 1 Axes>"
      ]
     },
     "metadata": {
      "needs_background": "light"
     },
     "output_type": "display_data"
    }
   ],
   "source": [
    "maxx = 4.0\n",
    "\n",
    "plt.rc('font', family='arial')\n",
    "plt.rc('xtick', labelsize='x-small')\n",
    "plt.rc('ytick', labelsize='x-small')\n",
    "    \n",
    "plt.tight_layout()\n",
    "\n",
    "fig = plt.figure(figsize=(8, 5))\n",
    "\n",
    "ax = fig.add_subplot(1, 1, 1)\n",
    "\n",
    "#bp = ax.scatter(range(1,len(MAE_xticks50)+1),MAE_list50, s = 60, color = 'black', label = 'Network A (50/50/50)')\n",
    "#bp = ax.scatter(range(1,len(MAE_xticks_MTL)+1),MAE_list_MTL, s = 60, color = 'red', label = 'Network B (MTL)')\n",
    "bp = ax.scatter(range(1,len(MAE_xticks_C)+1),MAE_list_C, s = 60, color = 'blue', label = 'Network C (MTL)')\n",
    "plt.ylim(0, 2)\n",
    "plt.xticks(range(1,len(MAE_xticks_C)+1), MAE_xticks_C, size='small', rotation = 'vertical')\n",
    "#plt.grid()\n",
    "plt.ylabel('Mean Absolute Error (% air)', fontsize = 16)\n",
    "plt.xlabel('$[O_2]$ ranges', fontsize = 16)\n",
    "plt.tick_params(labelsize=16)\n",
    "plt.legend(loc = 'upper left', fontsize = 16)\n",
    "#plt.xlim(0,9.5)\n",
    "\n",
    "\n",
    "#fig.savefig('Figures/absolute_error_for_T_boxplots.eps', format='eps', dpi=300,bbox_inches='tight')"
   ]
  },
  {
   "cell_type": "code",
   "execution_count": 127,
   "metadata": {
    "colab": {
     "base_uri": "https://localhost:8080/",
     "height": 443
    },
    "colab_type": "code",
    "id": "etGRCxNYdQXu",
    "outputId": "da4a0bc9-dd64-43fd-8d96-7753f9d333af"
   },
   "outputs": [
    {
     "name": "stderr",
     "output_type": "stream",
     "text": [
      "W0220 16:34:13.607456 4642483648 backend_ps.py:804] The PostScript backend does not support transparency; partially transparent artists will be rendered opaque.\n",
      "W0220 16:34:13.608336 4642483648 backend_ps.py:804] The PostScript backend does not support transparency; partially transparent artists will be rendered opaque.\n",
      "W0220 16:34:13.698975 4642483648 backend_ps.py:804] The PostScript backend does not support transparency; partially transparent artists will be rendered opaque.\n",
      "W0220 16:34:13.699743 4642483648 backend_ps.py:804] The PostScript backend does not support transparency; partially transparent artists will be rendered opaque.\n"
     ]
    },
    {
     "data": {
      "text/plain": [
       "<Figure size 432x288 with 0 Axes>"
      ]
     },
     "metadata": {},
     "output_type": "display_data"
    },
    {
     "data": {
      "image/png": "[encoded data removed]",
      "text/plain": [
       "<Figure size 1152x360 with 2 Axes>"
      ]
     },
     "metadata": {
      "needs_background": "light"
     },
     "output_type": "display_data"
    }
   ],
   "source": [
    "maxy = 20.0\n",
    "\n",
    "\n",
    "plt.rc('font', family='arial')\n",
    "plt.rc('xtick', labelsize='x-small')\n",
    "plt.rc('ytick', labelsize='x-small')\n",
    "    \n",
    "plt.tight_layout()\n",
    "\n",
    "fig = plt.figure(figsize=(16, 5))\n",
    "\n",
    "\n",
    "\n",
    "ax = fig.add_subplot(1, 2, 1)\n",
    "\n",
    "\n",
    "\n",
    "bp = ax.boxplot(MAE_boxplot_C, whis = 'range')\n",
    "ax.set_xticklabels([5, 15, 25, 35, 45])\n",
    "\n",
    "for whisker in bp['whiskers']:\n",
    "    whisker.set(color = 'black', linewidth = 2)\n",
    "for cap in bp['caps']:\n",
    "    cap.set(color = 'black', linewidth = 2)\n",
    "for box in bp['boxes']:\n",
    "    box.set(color = 'black', linewidth = 2)\n",
    "for median in bp['medians']:\n",
    "    median.set(color = 'red', linewidth = 2)\n",
    "for outl in bp['fliers']:\n",
    "    outl.set(linewidth = 0, ms = 0, mew = 1.4, markerfacecolor = 'none')\n",
    "    \n",
    "#plt.ylim(-0.2, 2.9)\n",
    "    \n",
    "#ax.text(1, 1.5, 'Value for $[O_2] = 100$ % Air', fontsize = 18)\n",
    "\n",
    "legend_elements = [\n",
    "                  Line2D([0], [0],  lw = 2, color='red', label='Network C',\n",
    "                          markerfacecolor='none', markeredgewidth=1.4, markersize=8)]\n",
    "ax.legend(handles=legend_elements, loc='upper left', fontsize = 16)\n",
    "\n",
    "plt.xticks(range(1,len(MAE_xticks_C)+1), MAE_xticks_C, size='small', rotation = 'vertical')\n",
    "\n",
    "#plt.grid()\n",
    "\n",
    "plt.ylabel('Absolute Error (% air)', fontsize = 16)\n",
    "plt.xlabel('$[O_2]$ ranges (% air)', fontsize = 16)\n",
    "plt.tick_params(labelsize=16)\n",
    "plt.ylim(-0.1,maxy)\n",
    "\n",
    "\n",
    "\n",
    "\n",
    "ax = fig.add_subplot(1, 2, 2)\n",
    "\n",
    "\n",
    "bp = ax.boxplot(MAET_boxplot_C_MTL, whis = 'range')\n",
    "ax.set_xticklabels([5, 15, 25, 35, 45])\n",
    "\n",
    "for whisker in bp['whiskers']:\n",
    "    whisker.set(color = 'black', linewidth = 2)\n",
    "for cap in bp['caps']:\n",
    "    cap.set(color = 'black', linewidth = 2)\n",
    "for box in bp['boxes']:\n",
    "    box.set(color = 'black', linewidth = 2)\n",
    "for median in bp['medians']:\n",
    "    median.set(color = 'red', linewidth = 2)\n",
    "for outl in bp['fliers']:\n",
    "    outl.set(linewidth = 0, ms = 0, mew = 1.4, markerfacecolor = 'none')\n",
    "    \n",
    "#plt.ylim(-0.2, 2.9)\n",
    "    \n",
    "#ax.text(1, 1.5, 'Value for $[O_2] = 100$ % Air', fontsize = 18)\n",
    "\n",
    "legend_elements = [\n",
    "                  Line2D([0], [0],  lw = 2, color='red', label='Network C',\n",
    "                          markerfacecolor='none', markeredgewidth=1.4, markersize=8)]\n",
    "ax.legend(handles=legend_elements, loc='upper left', fontsize = 16)\n",
    "\n",
    "plt.xticks(range(1,len(MAET_xticks_C_MTL)+1), MAET_xticks_C_MTL, size='small', rotation = 'vertical')\n",
    "\n",
    "#plt.grid()\n",
    "\n",
    "plt.ylabel('Absolute Error ($^\\circ$ C)', fontsize = 16)\n",
    "plt.xlabel('T ($^\\circ$ C)', fontsize = 16)\n",
    "plt.tick_params(labelsize=16)\n",
    "plt.ylim(-0.1,45)\n",
    "\n",
    "fig.savefig('../paper/results_theta90.eps')"
   ]
  },
  {
   "cell_type": "code",
   "execution_count": null,
   "metadata": {
    "colab": {},
    "colab_type": "code",
    "id": "ZaXv4N3XPgO8",
    "outputId": "0d984aef-70fc-42b4-ece4-2d65493fe1f4"
   },
   "outputs": [
    {
     "ename": "FileNotFoundError",
     "evalue": "[Errno 2] No such file or directory: '/content/gdrive/My Drive/data/netc_O2.csv'",
     "output_type": "error",
     "traceback": [
      "\u001b[0;31m---------------------------------------------------------------------------\u001b[0m",
      "\u001b[0;31mFileNotFoundError\u001b[0m                         Traceback (most recent call last)",
      "\u001b[0;32m<ipython-input-55-c8f9775d89c6>\u001b[0m in \u001b[0;36m<module>\u001b[0;34m\u001b[0m\n\u001b[1;32m      1\u001b[0m \u001b[0mpdo2\u001b[0m \u001b[0;34m=\u001b[0m \u001b[0mpd\u001b[0m\u001b[0;34m.\u001b[0m\u001b[0mDataFrame\u001b[0m\u001b[0;34m(\u001b[0m\u001b[0;34m{\u001b[0m\u001b[0;34m'MAE_list'\u001b[0m\u001b[0;34m:\u001b[0m \u001b[0mMAE_list_C\u001b[0m\u001b[0;34m,\u001b[0m \u001b[0;34m'MAE_xticks'\u001b[0m\u001b[0;34m:\u001b[0m \u001b[0mMAE_xticks_C\u001b[0m\u001b[0;34m,\u001b[0m \u001b[0;34m'MAE_boxplot'\u001b[0m\u001b[0;34m:\u001b[0m \u001b[0mMAE_boxplot_C\u001b[0m\u001b[0;34m}\u001b[0m\u001b[0;34m)\u001b[0m\u001b[0;34m\u001b[0m\u001b[0;34m\u001b[0m\u001b[0m\n\u001b[1;32m      2\u001b[0m \u001b[0mpdT\u001b[0m \u001b[0;34m=\u001b[0m \u001b[0mpd\u001b[0m\u001b[0;34m.\u001b[0m\u001b[0mDataFrame\u001b[0m\u001b[0;34m(\u001b[0m\u001b[0;34m{\u001b[0m\u001b[0;34m'MAET_list'\u001b[0m\u001b[0;34m:\u001b[0m \u001b[0mMAET_list_C_MTL\u001b[0m\u001b[0;34m,\u001b[0m\u001b[0;34m'MAET_boxplot'\u001b[0m\u001b[0;34m:\u001b[0m \u001b[0mMAET_boxplot_C_MTL\u001b[0m\u001b[0;34m,\u001b[0m \u001b[0;34m'MAET_xticks'\u001b[0m\u001b[0;34m:\u001b[0m\u001b[0mMAET_xticks_C_MTL\u001b[0m\u001b[0;34m}\u001b[0m\u001b[0;34m)\u001b[0m\u001b[0;34m\u001b[0m\u001b[0;34m\u001b[0m\u001b[0m\n\u001b[0;32m----> 3\u001b[0;31m \u001b[0mpdo2\u001b[0m\u001b[0;34m.\u001b[0m\u001b[0mto_csv\u001b[0m\u001b[0;34m(\u001b[0m\u001b[0;34m'/content/gdrive/My Drive/data/netc_O2.csv'\u001b[0m\u001b[0;34m)\u001b[0m\u001b[0;34m\u001b[0m\u001b[0;34m\u001b[0m\u001b[0m\n\u001b[0m\u001b[1;32m      4\u001b[0m \u001b[0mpdT\u001b[0m\u001b[0;34m.\u001b[0m\u001b[0mto_csv\u001b[0m\u001b[0;34m(\u001b[0m\u001b[0;34m'/content/gdrive/My Drive/data/netc_T.csv'\u001b[0m\u001b[0;34m)\u001b[0m\u001b[0;34m\u001b[0m\u001b[0;34m\u001b[0m\u001b[0m\n",
      "\u001b[0;32m~/Python-Environments/tfenv2/lib/python3.7/site-packages/pandas/core/generic.py\u001b[0m in \u001b[0;36mto_csv\u001b[0;34m(self, path_or_buf, sep, na_rep, float_format, columns, header, index, index_label, mode, encoding, compression, quoting, quotechar, line_terminator, chunksize, date_format, doublequote, escapechar, decimal)\u001b[0m\n\u001b[1;32m   3226\u001b[0m             \u001b[0mdecimal\u001b[0m\u001b[0;34m=\u001b[0m\u001b[0mdecimal\u001b[0m\u001b[0;34m,\u001b[0m\u001b[0;34m\u001b[0m\u001b[0;34m\u001b[0m\u001b[0m\n\u001b[1;32m   3227\u001b[0m         )\n\u001b[0;32m-> 3228\u001b[0;31m         \u001b[0mformatter\u001b[0m\u001b[0;34m.\u001b[0m\u001b[0msave\u001b[0m\u001b[0;34m(\u001b[0m\u001b[0;34m)\u001b[0m\u001b[0;34m\u001b[0m\u001b[0;34m\u001b[0m\u001b[0m\n\u001b[0m\u001b[1;32m   3229\u001b[0m \u001b[0;34m\u001b[0m\u001b[0m\n\u001b[1;32m   3230\u001b[0m         \u001b[0;32mif\u001b[0m \u001b[0mpath_or_buf\u001b[0m \u001b[0;32mis\u001b[0m \u001b[0;32mNone\u001b[0m\u001b[0;34m:\u001b[0m\u001b[0;34m\u001b[0m\u001b[0;34m\u001b[0m\u001b[0m\n",
      "\u001b[0;32m~/Python-Environments/tfenv2/lib/python3.7/site-packages/pandas/io/formats/csvs.py\u001b[0m in \u001b[0;36msave\u001b[0;34m(self)\u001b[0m\n\u001b[1;32m    181\u001b[0m                 \u001b[0mself\u001b[0m\u001b[0;34m.\u001b[0m\u001b[0mmode\u001b[0m\u001b[0;34m,\u001b[0m\u001b[0;34m\u001b[0m\u001b[0;34m\u001b[0m\u001b[0m\n\u001b[1;32m    182\u001b[0m                 \u001b[0mencoding\u001b[0m\u001b[0;34m=\u001b[0m\u001b[0mself\u001b[0m\u001b[0;34m.\u001b[0m\u001b[0mencoding\u001b[0m\u001b[0;34m,\u001b[0m\u001b[0;34m\u001b[0m\u001b[0;34m\u001b[0m\u001b[0m\n\u001b[0;32m--> 183\u001b[0;31m                 \u001b[0mcompression\u001b[0m\u001b[0;34m=\u001b[0m\u001b[0mself\u001b[0m\u001b[0;34m.\u001b[0m\u001b[0mcompression\u001b[0m\u001b[0;34m,\u001b[0m\u001b[0;34m\u001b[0m\u001b[0;34m\u001b[0m\u001b[0m\n\u001b[0m\u001b[1;32m    184\u001b[0m             )\n\u001b[1;32m    185\u001b[0m             \u001b[0mclose\u001b[0m \u001b[0;34m=\u001b[0m \u001b[0;32mTrue\u001b[0m\u001b[0;34m\u001b[0m\u001b[0;34m\u001b[0m\u001b[0m\n",
      "\u001b[0;32m~/Python-Environments/tfenv2/lib/python3.7/site-packages/pandas/io/common.py\u001b[0m in \u001b[0;36m_get_handle\u001b[0;34m(path_or_buf, mode, encoding, compression, memory_map, is_text)\u001b[0m\n\u001b[1;32m    397\u001b[0m         \u001b[0;32mif\u001b[0m \u001b[0mencoding\u001b[0m\u001b[0;34m:\u001b[0m\u001b[0;34m\u001b[0m\u001b[0;34m\u001b[0m\u001b[0m\n\u001b[1;32m    398\u001b[0m             \u001b[0;31m# Encoding\u001b[0m\u001b[0;34m\u001b[0m\u001b[0;34m\u001b[0m\u001b[0;34m\u001b[0m\u001b[0m\n\u001b[0;32m--> 399\u001b[0;31m             \u001b[0mf\u001b[0m \u001b[0;34m=\u001b[0m \u001b[0mopen\u001b[0m\u001b[0;34m(\u001b[0m\u001b[0mpath_or_buf\u001b[0m\u001b[0;34m,\u001b[0m \u001b[0mmode\u001b[0m\u001b[0;34m,\u001b[0m \u001b[0mencoding\u001b[0m\u001b[0;34m=\u001b[0m\u001b[0mencoding\u001b[0m\u001b[0;34m,\u001b[0m \u001b[0mnewline\u001b[0m\u001b[0;34m=\u001b[0m\u001b[0;34m\"\"\u001b[0m\u001b[0;34m)\u001b[0m\u001b[0;34m\u001b[0m\u001b[0;34m\u001b[0m\u001b[0m\n\u001b[0m\u001b[1;32m    400\u001b[0m         \u001b[0;32melif\u001b[0m \u001b[0mis_text\u001b[0m\u001b[0;34m:\u001b[0m\u001b[0;34m\u001b[0m\u001b[0;34m\u001b[0m\u001b[0m\n\u001b[1;32m    401\u001b[0m             \u001b[0;31m# No explicit encoding\u001b[0m\u001b[0;34m\u001b[0m\u001b[0;34m\u001b[0m\u001b[0;34m\u001b[0m\u001b[0m\n",
      "\u001b[0;31mFileNotFoundError\u001b[0m: [Errno 2] No such file or directory: '/content/gdrive/My Drive/data/netc_O2.csv'"
     ]
    }
   ],
   "source": [
    "pdo2 = pd.DataFrame({'MAE_list': MAE_list_C, 'MAE_xticks': MAE_xticks_C, 'MAE_boxplot': MAE_boxplot_C})\n",
    "pdT = pd.DataFrame({'MAET_list': MAET_list_C_MTL,'MAET_boxplot': MAET_boxplot_C_MTL, 'MAET_xticks':MAET_xticks_C_MTL})\n",
    "pdo2.to_csv('/content/gdrive/My Drive/data/netc_O2.csv')\n",
    "pdT.to_csv('/content/gdrive/My Drive/data/netc_T.csv')"
   ]
  },
  {
   "cell_type": "code",
   "execution_count": null,
   "metadata": {
    "colab": {
     "base_uri": "https://localhost:8080/",
     "height": 35
    },
    "colab_type": "code",
    "id": "KqiYyQDqP2Vq",
    "outputId": "b4d2c13c-ec0c-48fc-ccd1-a8bebc36ec93"
   },
   "outputs": [
    {
     "data": {
      "text/plain": [
       "1.7852302603341024"
      ]
     },
     "execution_count": 185,
     "metadata": {
      "tags": []
     },
     "output_type": "execute_result"
    }
   ],
   "source": [
    "np.mean(MAE_list_C)"
   ]
  },
  {
   "cell_type": "code",
   "execution_count": null,
   "metadata": {
    "colab": {
     "base_uri": "https://localhost:8080/",
     "height": 35
    },
    "colab_type": "code",
    "id": "nKhkjo7Wtk_k",
    "outputId": "8aaa38bf-5b67-4c20-8468-ccde92757795"
   },
   "outputs": [
    {
     "data": {
      "text/plain": [
       "2.105622284124125"
      ]
     },
     "execution_count": 186,
     "metadata": {
      "tags": []
     },
     "output_type": "execute_result"
    }
   ],
   "source": [
    "np.mean(MAET_list_C_MTL)"
   ]
  },
  {
   "cell_type": "code",
   "execution_count": null,
   "metadata": {
    "colab": {},
    "colab_type": "code",
    "id": "wML_1MgiIn3-"
   },
   "outputs": [],
   "source": [
    "MAE_boxplot_C_flat = [item for sublist in MAE_boxplot_C for item in sublist]\n",
    "MAET_boxplot_C_MTL_flat = [item for sublist in MAET_boxplot_C_MTL for item in sublist]\n",
    "#type(MAE_boxplot_C)"
   ]
  },
  {
   "cell_type": "code",
   "execution_count": null,
   "metadata": {
    "colab": {
     "base_uri": "https://localhost:8080/",
     "height": 373
    },
    "colab_type": "code",
    "id": "o60W8avLIZmv",
    "outputId": "fc55f5e4-dd8c-4601-b26e-78067e8c34c1"
   },
   "outputs": [
    {
     "data": {
      "text/plain": [
       "<Figure size 432x288 with 0 Axes>"
      ]
     },
     "metadata": {
      "tags": []
     },
     "output_type": "display_data"
    },
    {
     "data": {
      "image/png": "[encoded data removed]",
      "text/plain": [
       "<Figure size 1152x360 with 2 Axes>"
      ]
     },
     "metadata": {
      "needs_background": "light",
      "tags": []
     },
     "output_type": "display_data"
    }
   ],
   "source": [
    "\n",
    "    \n",
    "plt.tight_layout()\n",
    "\n",
    "fig = plt.figure(figsize=(16, 5))\n",
    "\n",
    "\n",
    "\n",
    "ax = fig.add_subplot(1, 2, 1)\n",
    "\n",
    "\n",
    "sns.distplot(MAE_boxplot_C_flat, color = 'black', hist = False, label = 'AE$_{[O_2]}$ KDE')\n",
    "\n",
    "\n",
    "ax.legend( fontsize = 16)\n",
    "\n",
    "#plt.xticks(range(1,len(neta50_O2['MAE_xticks'])+1), neta50_O2['MAE_xticks'], size='small', rotation = 'vertical')\n",
    "\n",
    "#plt.grid()\n",
    "\n",
    "plt.ylabel('Counts (normalized)', fontsize = 16)\n",
    "plt.xlabel('AE$_{[O_2]}$ (% air)', fontsize = 16)\n",
    "plt.tick_params(labelsize=16)\n",
    "plt.ylim(0, 0.5)\n",
    "plt.xlim(0, 20)\n",
    "\n",
    "\n",
    "ax = fig.add_subplot(1, 2,2)\n",
    "# MAE_boxplot_C, MAE_list_C, MAE_xticks_C\n",
    "sns.distplot(MAET_boxplot_C_MTL_flat,  color = 'black', hist = False, label = 'Temperature KDE')\n",
    "    \n",
    "#plt.ylim(-0.2, 2.9)\n",
    "    \n",
    "#ax.text(1, 1.5, 'Value for $[O_2] = 100$ % Air', fontsize = 18)\n",
    "\n",
    "plt.xlabel('T (C)', fontsize = 16)\n",
    "plt.tick_params(labelsize=16)\n",
    "ax.legend( fontsize = 16)\n",
    "plt.ylim(0, 0.5)\n",
    "plt.xlim(0, 20)\n",
    "\n",
    "\n",
    "\n",
    "\n",
    "plt.show()\n",
    "\n",
    "#fig.savefig('/content/gdrive/My Drive/plot3.eps', format='eps', dpi=300,bbox_inches='tight')\n",
    "\n",
    "\n",
    "\n",
    "#fig.savefig('Figures/absolute_error_for_T_boxplots.eps', format='eps', dpi=300,bbox_inches='tight')"
   ]
  },
  {
   "cell_type": "markdown",
   "metadata": {
    "colab_type": "text",
    "id": "m7C-IbK3ZvFw"
   },
   "source": [
    "# VERSIONS"
   ]
  },
  {
   "cell_type": "code",
   "execution_count": null,
   "metadata": {
    "colab": {},
    "colab_type": "code",
    "id": "WrPML1U5ZvFx"
   },
   "outputs": [],
   "source": [
    "import tensorflow as tf\n",
    "from tensorflow.keras import layers\n",
    "\n",
    "print(tf.VERSION)\n",
    "print(tf.keras.__version__)"
   ]
  },
  {
   "cell_type": "code",
   "execution_count": null,
   "metadata": {
    "colab": {},
    "colab_type": "code",
    "id": "wOiy_88tJv10"
   },
   "outputs": [],
   "source": [
    "p"
   ]
  }
 ],
 "metadata": {
  "accelerator": "GPU",
  "colab": {
   "collapsed_sections": [],
   "include_colab_link": true,
   "name": "O2 prediction model - Network C O2T Paper-v3.ipynb",
   "provenance": []
  },
  "kernelspec": {
   "display_name": "Python 3",
   "language": "python",
   "name": "python3"
  },
  "language_info": {
   "codemirror_mode": {
    "name": "ipython",
    "version": 3
   },
   "file_extension": ".py",
   "mimetype": "text/x-python",
   "name": "python",
   "nbconvert_exporter": "python",
   "pygments_lexer": "ipython3",
   "version": "3.7.2"
  }
 },
 "nbformat": 4,
 "nbformat_minor": 2
}
