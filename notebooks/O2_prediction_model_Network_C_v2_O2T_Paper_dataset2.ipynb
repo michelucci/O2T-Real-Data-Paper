{
 "cells": [
  {
   "cell_type": "markdown",
   "metadata": {
    "colab_type": "text",
    "id": "view-in-github"
   },
   "source": [
    "<a href=\"https://colab.research.google.com/github/michelucci/O2T-Real-Data-Paper/blob/master/notebooks/O2_prediction_model_Network_C_v2_O2T_Paper.ipynb\" target=\"_parent\"><img src=\"https://colab.research.google.com/assets/colab-badge.svg\" alt=\"Open In Colab\"/></a>"
   ]
  },
  {
   "cell_type": "markdown",
   "metadata": {
    "colab_type": "text",
    "id": "czCW0XAgZvEm"
   },
   "source": [
    "# Code related to the paper on the prediction of $[O2]$ and $T$ at the same time with MTL - Network C\n",
    "\n",
    "## Dataset 2"
   ]
  },
  {
   "cell_type": "code",
   "execution_count": 183,
   "metadata": {
    "colab": {
     "base_uri": "https://localhost:8080/",
     "height": 82
    },
    "colab_type": "code",
    "id": "2Tp3iYK_ZvEo",
    "outputId": "cc5ad6d8-ffa9-486b-86c8-4f77b51c0dbc"
   },
   "outputs": [],
   "source": [
    "import numpy as np\n",
    "import pandas as pd\n",
    "\n",
    "import matplotlib.pyplot as plt\n",
    "\n",
    "import tensorflow as tf\n",
    "\n",
    "# Keras\n",
    "\n",
    "from tensorflow.keras.models import Sequential\n",
    "\n",
    "#from tensorflow.keras.layers import Activation\n",
    "from tensorflow.keras.optimizers import SGD\n",
    "from tensorflow.keras.optimizers import Adam\n",
    "from tensorflow.keras.layers import Dense\n",
    "from tensorflow.keras import Model\n",
    "\n",
    "from tensorflow.keras import layers\n",
    "import tensorflow.keras as keras\n",
    "\n",
    "from keras.utils.vis_utils import plot_model\n",
    "\n",
    "import tensorflow.keras.backend as K\n",
    "\n",
    "from numpy import random\n",
    "\n",
    "from scipy.interpolate import interp1d\n",
    "\n",
    "from matplotlib.lines import Line2D\n",
    "\n",
    "from matplotlib.patches import Patch\n",
    "\n",
    "import seaborn as sns"
   ]
  },
  {
   "cell_type": "markdown",
   "metadata": {
    "colab_type": "text",
    "id": "gr8mzs4gZvEv"
   },
   "source": [
    "# Read the files (Google Drive)"
   ]
  },
  {
   "cell_type": "code",
   "execution_count": 350,
   "metadata": {
    "colab": {
     "base_uri": "https://localhost:8080/",
     "height": 127
    },
    "colab_type": "code",
    "id": "ktBIU99yaC9x",
    "outputId": "c83faa66-b116-48e2-cb65-70ee513eba87"
   },
   "outputs": [
    {
     "ename": "ModuleNotFoundError",
     "evalue": "No module named 'google.colab'",
     "output_type": "error",
     "traceback": [
      "\u001b[0;31m---------------------------------------------------------------------------\u001b[0m",
      "\u001b[0;31mModuleNotFoundError\u001b[0m                       Traceback (most recent call last)",
      "\u001b[0;32m<ipython-input-350-4996ee3d8d09>\u001b[0m in \u001b[0;36m<module>\u001b[0;34m\u001b[0m\n\u001b[0;32m----> 1\u001b[0;31m \u001b[0;32mfrom\u001b[0m \u001b[0mgoogle\u001b[0m\u001b[0;34m.\u001b[0m\u001b[0mcolab\u001b[0m \u001b[0;32mimport\u001b[0m \u001b[0mdrive\u001b[0m\u001b[0;34m\u001b[0m\u001b[0;34m\u001b[0m\u001b[0m\n\u001b[0m\u001b[1;32m      2\u001b[0m \u001b[0mdrive\u001b[0m\u001b[0;34m.\u001b[0m\u001b[0mmount\u001b[0m\u001b[0;34m(\u001b[0m\u001b[0;34m'/content/gdrive'\u001b[0m\u001b[0;34m)\u001b[0m\u001b[0;34m\u001b[0m\u001b[0;34m\u001b[0m\u001b[0m\n",
      "\u001b[0;31mModuleNotFoundError\u001b[0m: No module named 'google.colab'"
     ]
    }
   ],
   "source": [
    "from google.colab import drive\n",
    "drive.mount('/content/gdrive')"
   ]
  },
  {
   "cell_type": "code",
   "execution_count": 351,
   "metadata": {
    "colab": {},
    "colab_type": "code",
    "id": "585dLmzDZvEw"
   },
   "outputs": [],
   "source": [
    "train_data_df = pd.read_csv('../data/train_data2.csv', header = None)\n",
    "train_target_df = pd.read_csv('../data/train_targets2.csv', names=['T', 'O2'], header = None)"
   ]
  },
  {
   "cell_type": "markdown",
   "metadata": {},
   "source": [
    "# Read the files (Local files)"
   ]
  },
  {
   "cell_type": "code",
   "execution_count": 49,
   "metadata": {},
   "outputs": [],
   "source": [
    "train_data_df = pd.read_csv('../data/train_data2.csv', header = None)\n",
    "train_target_df = pd.read_csv('../data/train_targets2.csv', names=['T', 'O2'], header = None)"
   ]
  },
  {
   "cell_type": "code",
   "execution_count": 50,
   "metadata": {
    "colab": {
     "base_uri": "https://localhost:8080/",
     "height": 224
    },
    "colab_type": "code",
    "id": "nQhfDxlDZvE0",
    "outputId": "eec23715-158d-4e4f-8db0-c7a57aaaa8d9"
   },
   "outputs": [
    {
     "data": {
      "text/html": [
       "<div>\n",
       "<style scoped>\n",
       "    .dataframe tbody tr th:only-of-type {\n",
       "        vertical-align: middle;\n",
       "    }\n",
       "\n",
       "    .dataframe tbody tr th {\n",
       "        vertical-align: top;\n",
       "    }\n",
       "\n",
       "    .dataframe thead th {\n",
       "        text-align: right;\n",
       "    }\n",
       "</style>\n",
       "<table border=\"1\" class=\"dataframe\">\n",
       "  <thead>\n",
       "    <tr style=\"text-align: right;\">\n",
       "      <th></th>\n",
       "      <th>0</th>\n",
       "      <th>1</th>\n",
       "      <th>2</th>\n",
       "      <th>3</th>\n",
       "      <th>4</th>\n",
       "      <th>5</th>\n",
       "      <th>6</th>\n",
       "      <th>7</th>\n",
       "      <th>8</th>\n",
       "      <th>9</th>\n",
       "      <th>...</th>\n",
       "      <th>40</th>\n",
       "      <th>41</th>\n",
       "      <th>42</th>\n",
       "      <th>43</th>\n",
       "      <th>44</th>\n",
       "      <th>45</th>\n",
       "      <th>46</th>\n",
       "      <th>47</th>\n",
       "      <th>48</th>\n",
       "      <th>49</th>\n",
       "    </tr>\n",
       "  </thead>\n",
       "  <tbody>\n",
       "    <tr>\n",
       "      <th>0</th>\n",
       "      <td>0.535241</td>\n",
       "      <td>0.537692</td>\n",
       "      <td>0.537186</td>\n",
       "      <td>0.539902</td>\n",
       "      <td>0.54284</td>\n",
       "      <td>0.544292</td>\n",
       "      <td>0.546761</td>\n",
       "      <td>0.549564</td>\n",
       "      <td>0.552743</td>\n",
       "      <td>0.560122</td>\n",
       "      <td>...</td>\n",
       "      <td>0.790886</td>\n",
       "      <td>0.794876</td>\n",
       "      <td>0.798935</td>\n",
       "      <td>0.802755</td>\n",
       "      <td>0.806522</td>\n",
       "      <td>0.820096</td>\n",
       "      <td>0.832059</td>\n",
       "      <td>0.842571</td>\n",
       "      <td>0.85205</td>\n",
       "      <td>0.860323</td>\n",
       "    </tr>\n",
       "    <tr>\n",
       "      <th>1</th>\n",
       "      <td>0.536566</td>\n",
       "      <td>0.536806</td>\n",
       "      <td>0.538521</td>\n",
       "      <td>0.540439</td>\n",
       "      <td>0.54239</td>\n",
       "      <td>0.544292</td>\n",
       "      <td>0.546761</td>\n",
       "      <td>0.549256</td>\n",
       "      <td>0.552183</td>\n",
       "      <td>0.559891</td>\n",
       "      <td>...</td>\n",
       "      <td>0.790804</td>\n",
       "      <td>0.794876</td>\n",
       "      <td>0.798935</td>\n",
       "      <td>0.802755</td>\n",
       "      <td>0.806522</td>\n",
       "      <td>0.820096</td>\n",
       "      <td>0.832059</td>\n",
       "      <td>0.842571</td>\n",
       "      <td>0.85205</td>\n",
       "      <td>0.860323</td>\n",
       "    </tr>\n",
       "    <tr>\n",
       "      <th>2</th>\n",
       "      <td>0.536566</td>\n",
       "      <td>0.537692</td>\n",
       "      <td>0.537186</td>\n",
       "      <td>0.540439</td>\n",
       "      <td>0.54239</td>\n",
       "      <td>0.544292</td>\n",
       "      <td>0.546418</td>\n",
       "      <td>0.549256</td>\n",
       "      <td>0.552463</td>\n",
       "      <td>0.560122</td>\n",
       "      <td>...</td>\n",
       "      <td>0.790969</td>\n",
       "      <td>0.795041</td>\n",
       "      <td>0.799099</td>\n",
       "      <td>0.802755</td>\n",
       "      <td>0.806522</td>\n",
       "      <td>0.820096</td>\n",
       "      <td>0.832059</td>\n",
       "      <td>0.842727</td>\n",
       "      <td>0.85205</td>\n",
       "      <td>0.860323</td>\n",
       "    </tr>\n",
       "    <tr>\n",
       "      <th>3</th>\n",
       "      <td>0.536566</td>\n",
       "      <td>0.536806</td>\n",
       "      <td>0.539188</td>\n",
       "      <td>0.541512</td>\n",
       "      <td>0.54194</td>\n",
       "      <td>0.544681</td>\n",
       "      <td>0.546761</td>\n",
       "      <td>0.549256</td>\n",
       "      <td>0.552743</td>\n",
       "      <td>0.560122</td>\n",
       "      <td>...</td>\n",
       "      <td>0.790969</td>\n",
       "      <td>0.795041</td>\n",
       "      <td>0.799099</td>\n",
       "      <td>0.802918</td>\n",
       "      <td>0.806522</td>\n",
       "      <td>0.820096</td>\n",
       "      <td>0.832059</td>\n",
       "      <td>0.842571</td>\n",
       "      <td>0.85205</td>\n",
       "      <td>0.860323</td>\n",
       "    </tr>\n",
       "    <tr>\n",
       "      <th>4</th>\n",
       "      <td>0.537891</td>\n",
       "      <td>0.537692</td>\n",
       "      <td>0.537853</td>\n",
       "      <td>0.540439</td>\n",
       "      <td>0.54284</td>\n",
       "      <td>0.544292</td>\n",
       "      <td>0.547104</td>\n",
       "      <td>0.549564</td>\n",
       "      <td>0.552463</td>\n",
       "      <td>0.560582</td>\n",
       "      <td>...</td>\n",
       "      <td>0.790969</td>\n",
       "      <td>0.795041</td>\n",
       "      <td>0.799017</td>\n",
       "      <td>0.802837</td>\n",
       "      <td>0.806522</td>\n",
       "      <td>0.820255</td>\n",
       "      <td>0.832059</td>\n",
       "      <td>0.842727</td>\n",
       "      <td>0.85205</td>\n",
       "      <td>0.860552</td>\n",
       "    </tr>\n",
       "  </tbody>\n",
       "</table>\n",
       "<p>5 rows × 50 columns</p>\n",
       "</div>"
      ],
      "text/plain": [
       "         0         1         2         3        4         5         6   \\\n",
       "0  0.535241  0.537692  0.537186  0.539902  0.54284  0.544292  0.546761   \n",
       "1  0.536566  0.536806  0.538521  0.540439  0.54239  0.544292  0.546761   \n",
       "2  0.536566  0.537692  0.537186  0.540439  0.54239  0.544292  0.546418   \n",
       "3  0.536566  0.536806  0.539188  0.541512  0.54194  0.544681  0.546761   \n",
       "4  0.537891  0.537692  0.537853  0.540439  0.54284  0.544292  0.547104   \n",
       "\n",
       "         7         8         9   ...        40        41        42        43  \\\n",
       "0  0.549564  0.552743  0.560122  ...  0.790886  0.794876  0.798935  0.802755   \n",
       "1  0.549256  0.552183  0.559891  ...  0.790804  0.794876  0.798935  0.802755   \n",
       "2  0.549256  0.552463  0.560122  ...  0.790969  0.795041  0.799099  0.802755   \n",
       "3  0.549256  0.552743  0.560122  ...  0.790969  0.795041  0.799099  0.802918   \n",
       "4  0.549564  0.552463  0.560582  ...  0.790969  0.795041  0.799017  0.802837   \n",
       "\n",
       "         44        45        46        47       48        49  \n",
       "0  0.806522  0.820096  0.832059  0.842571  0.85205  0.860323  \n",
       "1  0.806522  0.820096  0.832059  0.842571  0.85205  0.860323  \n",
       "2  0.806522  0.820096  0.832059  0.842727  0.85205  0.860323  \n",
       "3  0.806522  0.820096  0.832059  0.842571  0.85205  0.860323  \n",
       "4  0.806522  0.820255  0.832059  0.842727  0.85205  0.860552  \n",
       "\n",
       "[5 rows x 50 columns]"
      ]
     },
     "execution_count": 50,
     "metadata": {},
     "output_type": "execute_result"
    }
   ],
   "source": [
    "train_data_df.head()"
   ]
  },
  {
   "cell_type": "code",
   "execution_count": 51,
   "metadata": {
    "colab": {
     "base_uri": "https://localhost:8080/",
     "height": 204
    },
    "colab_type": "code",
    "id": "pxznLqEdaYGd",
    "outputId": "32bdef47-5b00-49b4-ff7f-d23fcc45cae1"
   },
   "outputs": [
    {
     "data": {
      "text/html": [
       "<div>\n",
       "<style scoped>\n",
       "    .dataframe tbody tr th:only-of-type {\n",
       "        vertical-align: middle;\n",
       "    }\n",
       "\n",
       "    .dataframe tbody tr th {\n",
       "        vertical-align: top;\n",
       "    }\n",
       "\n",
       "    .dataframe thead th {\n",
       "        text-align: right;\n",
       "    }\n",
       "</style>\n",
       "<table border=\"1\" class=\"dataframe\">\n",
       "  <thead>\n",
       "    <tr style=\"text-align: right;\">\n",
       "      <th></th>\n",
       "      <th>T</th>\n",
       "      <th>O2</th>\n",
       "    </tr>\n",
       "  </thead>\n",
       "  <tbody>\n",
       "    <tr>\n",
       "      <th>0</th>\n",
       "      <td>20.0</td>\n",
       "      <td>35.0</td>\n",
       "    </tr>\n",
       "    <tr>\n",
       "      <th>1</th>\n",
       "      <td>20.0</td>\n",
       "      <td>35.0</td>\n",
       "    </tr>\n",
       "    <tr>\n",
       "      <th>2</th>\n",
       "      <td>20.0</td>\n",
       "      <td>35.0</td>\n",
       "    </tr>\n",
       "    <tr>\n",
       "      <th>3</th>\n",
       "      <td>20.0</td>\n",
       "      <td>35.0</td>\n",
       "    </tr>\n",
       "    <tr>\n",
       "      <th>4</th>\n",
       "      <td>20.0</td>\n",
       "      <td>35.0</td>\n",
       "    </tr>\n",
       "  </tbody>\n",
       "</table>\n",
       "</div>"
      ],
      "text/plain": [
       "      T    O2\n",
       "0  20.0  35.0\n",
       "1  20.0  35.0\n",
       "2  20.0  35.0\n",
       "3  20.0  35.0\n",
       "4  20.0  35.0"
      ]
     },
     "execution_count": 51,
     "metadata": {},
     "output_type": "execute_result"
    }
   ],
   "source": [
    "train_target_df.head()"
   ]
  },
  {
   "cell_type": "code",
   "execution_count": 52,
   "metadata": {
    "colab": {},
    "colab_type": "code",
    "id": "5_8nAYJFZvE2"
   },
   "outputs": [],
   "source": [
    "train_target_df[['O2']] = train_target_df[['O2']]/100.0\n",
    "train_target_df[['T']] = train_target_df[['T']]/45.0"
   ]
  },
  {
   "cell_type": "markdown",
   "metadata": {
    "colab_type": "text",
    "id": "dHMEf3fIZvE7"
   },
   "source": [
    "Note that the values for $T$ are going from 0 to 1. To obtin the actual temperature in Celsius degrees, you need to multiply by $45$."
   ]
  },
  {
   "cell_type": "code",
   "execution_count": 53,
   "metadata": {
    "colab": {
     "base_uri": "https://localhost:8080/",
     "height": 71
    },
    "colab_type": "code",
    "id": "6lGCP7m5ZvE7",
    "outputId": "022d8fb4-876a-41b1-d332-50e550ceeb4e"
   },
   "outputs": [
    {
     "name": "stdout",
     "output_type": "stream",
     "text": [
      "[0.44444444 0.55555556 0.22222222 0.66666667 0.77777778 0.33333333\n",
      " 0.88888889 1.         0.11111111]\n",
      "[20. 25. 10. 30. 35. 15. 40. 45.  5.]\n"
     ]
    }
   ],
   "source": [
    "print(train_target_df['T'].unique())\n",
    "print(train_target_df['T'].unique()*45)"
   ]
  },
  {
   "cell_type": "markdown",
   "metadata": {},
   "source": [
    "## Remove the records for [O2] = 0"
   ]
  },
  {
   "cell_type": "code",
   "execution_count": 54,
   "metadata": {},
   "outputs": [
    {
     "data": {
      "text/plain": [
       "(3780, 50)"
      ]
     },
     "execution_count": 54,
     "metadata": {},
     "output_type": "execute_result"
    }
   ],
   "source": [
    "train_data_df.shape"
   ]
  },
  {
   "cell_type": "code",
   "execution_count": 55,
   "metadata": {},
   "outputs": [
    {
     "data": {
      "text/plain": [
       "(180, 50)"
      ]
     },
     "execution_count": 55,
     "metadata": {},
     "output_type": "execute_result"
    }
   ],
   "source": [
    "train_data_df[train_target_df['O2'] == 0].shape"
   ]
  },
  {
   "cell_type": "code",
   "execution_count": 56,
   "metadata": {},
   "outputs": [
    {
     "name": "stdout",
     "output_type": "stream",
     "text": [
      "(3600, 50)\n"
     ]
    }
   ],
   "source": [
    "train_data_df.drop(train_data_df[train_target_df['O2'] == 0].index, inplace=True)\n",
    "train_target_df.drop(train_target_df[train_target_df['O2'] == 0].index, inplace=True)\n",
    "train_data_df = train_data_df.reset_index(drop = True);\n",
    "train_target_df = train_target_df.reset_index(drop = True);\n",
    "print(train_data_df.shape)"
   ]
  },
  {
   "cell_type": "markdown",
   "metadata": {
    "colab_type": "text",
    "id": "ZcPxObX6ZvE9"
   },
   "source": [
    "## Dimensions"
   ]
  },
  {
   "cell_type": "code",
   "execution_count": 57,
   "metadata": {
    "colab": {
     "base_uri": "https://localhost:8080/",
     "height": 35
    },
    "colab_type": "code",
    "id": "iq3EzwubZvE-",
    "outputId": "e68a7651-d672-4e74-b8af-61f568197cf8"
   },
   "outputs": [
    {
     "data": {
      "text/plain": [
       "(3600, 50)"
      ]
     },
     "execution_count": 57,
     "metadata": {},
     "output_type": "execute_result"
    }
   ],
   "source": [
    "train_data_df.shape"
   ]
  },
  {
   "cell_type": "code",
   "execution_count": 58,
   "metadata": {
    "colab": {
     "base_uri": "https://localhost:8080/",
     "height": 35
    },
    "colab_type": "code",
    "id": "DrV36zyBZvFB",
    "outputId": "2281b8ad-2796-4f1e-fcc1-4be29dd05ffd"
   },
   "outputs": [
    {
     "data": {
      "text/plain": [
       "(400, 2)"
      ]
     },
     "execution_count": 58,
     "metadata": {},
     "output_type": "execute_result"
    }
   ],
   "source": [
    "train_target_df[train_target_df['T'] == 5./45.].shape"
   ]
  },
  {
   "cell_type": "markdown",
   "metadata": {
    "colab_type": "text",
    "id": "MBa0TH6rZvFD"
   },
   "source": [
    "To check how many values we have for each temperature we can do easily with ```groupby()```."
   ]
  },
  {
   "cell_type": "code",
   "execution_count": 59,
   "metadata": {
    "colab": {
     "base_uri": "https://localhost:8080/",
     "height": 215
    },
    "colab_type": "code",
    "id": "kkXJq1UDZvFD",
    "outputId": "63b88eca-ee32-4d9a-e80b-25fcf1818980"
   },
   "outputs": [
    {
     "data": {
      "text/plain": [
       "T\n",
       "0.111111    20\n",
       "0.222222    20\n",
       "0.333333    20\n",
       "0.444444    20\n",
       "0.555556    20\n",
       "0.666667    20\n",
       "0.777778    20\n",
       "0.888889    20\n",
       "1.000000    20\n",
       "Name: O2, dtype: int64"
      ]
     },
     "execution_count": 59,
     "metadata": {},
     "output_type": "execute_result"
    }
   ],
   "source": [
    "train_target_df.groupby('T')['O2'].nunique()"
   ]
  },
  {
   "cell_type": "markdown",
   "metadata": {
    "colab_type": "text",
    "id": "6oK-zfT_ZvFF"
   },
   "source": [
    "Each of the temperature has 5000 observations."
   ]
  },
  {
   "cell_type": "markdown",
   "metadata": {
    "colab_type": "text",
    "id": "fSqYdC5uZvFF"
   },
   "source": [
    "## Reset the index"
   ]
  },
  {
   "cell_type": "code",
   "execution_count": 60,
   "metadata": {
    "colab": {},
    "colab_type": "code",
    "id": "30duZuryZvFF"
   },
   "outputs": [],
   "source": [
    "train_data_df = train_data_df.reset_index(drop = True);\n",
    "train_target_df = train_target_df.reset_index(drop = True);"
   ]
  },
  {
   "cell_type": "markdown",
   "metadata": {
    "colab_type": "text",
    "id": "w72f8KBRZvFG"
   },
   "source": [
    "The unique values of the temperature ($T$) are, as expected"
   ]
  },
  {
   "cell_type": "code",
   "execution_count": 61,
   "metadata": {
    "colab": {
     "base_uri": "https://localhost:8080/",
     "height": 35
    },
    "colab_type": "code",
    "id": "YdlvVhd6ZvFH",
    "outputId": "f9185658-f591-41a3-8b56-dd79377e783f"
   },
   "outputs": [
    {
     "data": {
      "text/plain": [
       "array([ 5., 10., 15., 20., 25., 30., 35., 40., 45.])"
      ]
     },
     "execution_count": 61,
     "metadata": {},
     "output_type": "execute_result"
    }
   ],
   "source": [
    "np.unique(train_target_df['T'])*45"
   ]
  },
  {
   "cell_type": "markdown",
   "metadata": {
    "colab_type": "text",
    "id": "_AGqcSlqZvFI"
   },
   "source": [
    "# Frequency values"
   ]
  },
  {
   "cell_type": "code",
   "execution_count": 62,
   "metadata": {
    "colab": {},
    "colab_type": "code",
    "id": "j6DEKz4GZvFI"
   },
   "outputs": [],
   "source": [
    "wred = [  200.,   300.,   400.,   500.,   600.,   700.,   800.,   900.,\n",
    "        1000.,  1250.,  1500.,  1750.,  2000.,  2250.,  2500.,  2750.,\n",
    "        3000.,  3250.,  3500.,  3750.,  4000.,  4250.,  4500.,  4750.,\n",
    "        5000.,  5250.,  5500.,  5750.,  6000.,  6250.,  6500.,  6750.,\n",
    "        7000.,  7250.,  7500.,  7750.,  8000.,  8250.,  8500.,  8750.,\n",
    "        9000.,  9250.,  9500.,  9750., 10000., 11000., 12000., 13000.,\n",
    "       14000., 15000.]"
   ]
  },
  {
   "cell_type": "markdown",
   "metadata": {},
   "source": [
    "# Some plots"
   ]
  },
  {
   "cell_type": "code",
   "execution_count": 63,
   "metadata": {},
   "outputs": [
    {
     "data": {
      "text/html": [
       "<div>\n",
       "<style scoped>\n",
       "    .dataframe tbody tr th:only-of-type {\n",
       "        vertical-align: middle;\n",
       "    }\n",
       "\n",
       "    .dataframe tbody tr th {\n",
       "        vertical-align: top;\n",
       "    }\n",
       "\n",
       "    .dataframe thead th {\n",
       "        text-align: right;\n",
       "    }\n",
       "</style>\n",
       "<table border=\"1\" class=\"dataframe\">\n",
       "  <thead>\n",
       "    <tr style=\"text-align: right;\">\n",
       "      <th></th>\n",
       "      <th>0</th>\n",
       "      <th>1</th>\n",
       "      <th>2</th>\n",
       "      <th>3</th>\n",
       "      <th>4</th>\n",
       "      <th>5</th>\n",
       "      <th>6</th>\n",
       "      <th>7</th>\n",
       "      <th>8</th>\n",
       "      <th>9</th>\n",
       "      <th>...</th>\n",
       "      <th>40</th>\n",
       "      <th>41</th>\n",
       "      <th>42</th>\n",
       "      <th>43</th>\n",
       "      <th>44</th>\n",
       "      <th>45</th>\n",
       "      <th>46</th>\n",
       "      <th>47</th>\n",
       "      <th>48</th>\n",
       "      <th>49</th>\n",
       "    </tr>\n",
       "  </thead>\n",
       "  <tbody>\n",
       "    <tr>\n",
       "      <th>0</th>\n",
       "      <td>0.535241</td>\n",
       "      <td>0.537692</td>\n",
       "      <td>0.537186</td>\n",
       "      <td>0.539902</td>\n",
       "      <td>0.542840</td>\n",
       "      <td>0.544292</td>\n",
       "      <td>0.546761</td>\n",
       "      <td>0.549564</td>\n",
       "      <td>0.552743</td>\n",
       "      <td>0.560122</td>\n",
       "      <td>...</td>\n",
       "      <td>0.790886</td>\n",
       "      <td>0.794876</td>\n",
       "      <td>0.798935</td>\n",
       "      <td>0.802755</td>\n",
       "      <td>0.806522</td>\n",
       "      <td>0.820096</td>\n",
       "      <td>0.832059</td>\n",
       "      <td>0.842571</td>\n",
       "      <td>0.852050</td>\n",
       "      <td>0.860323</td>\n",
       "    </tr>\n",
       "    <tr>\n",
       "      <th>1</th>\n",
       "      <td>0.536566</td>\n",
       "      <td>0.536806</td>\n",
       "      <td>0.538521</td>\n",
       "      <td>0.540439</td>\n",
       "      <td>0.542390</td>\n",
       "      <td>0.544292</td>\n",
       "      <td>0.546761</td>\n",
       "      <td>0.549256</td>\n",
       "      <td>0.552183</td>\n",
       "      <td>0.559891</td>\n",
       "      <td>...</td>\n",
       "      <td>0.790804</td>\n",
       "      <td>0.794876</td>\n",
       "      <td>0.798935</td>\n",
       "      <td>0.802755</td>\n",
       "      <td>0.806522</td>\n",
       "      <td>0.820096</td>\n",
       "      <td>0.832059</td>\n",
       "      <td>0.842571</td>\n",
       "      <td>0.852050</td>\n",
       "      <td>0.860323</td>\n",
       "    </tr>\n",
       "    <tr>\n",
       "      <th>2</th>\n",
       "      <td>0.536566</td>\n",
       "      <td>0.537692</td>\n",
       "      <td>0.537186</td>\n",
       "      <td>0.540439</td>\n",
       "      <td>0.542390</td>\n",
       "      <td>0.544292</td>\n",
       "      <td>0.546418</td>\n",
       "      <td>0.549256</td>\n",
       "      <td>0.552463</td>\n",
       "      <td>0.560122</td>\n",
       "      <td>...</td>\n",
       "      <td>0.790969</td>\n",
       "      <td>0.795041</td>\n",
       "      <td>0.799099</td>\n",
       "      <td>0.802755</td>\n",
       "      <td>0.806522</td>\n",
       "      <td>0.820096</td>\n",
       "      <td>0.832059</td>\n",
       "      <td>0.842727</td>\n",
       "      <td>0.852050</td>\n",
       "      <td>0.860323</td>\n",
       "    </tr>\n",
       "    <tr>\n",
       "      <th>3</th>\n",
       "      <td>0.536566</td>\n",
       "      <td>0.536806</td>\n",
       "      <td>0.539188</td>\n",
       "      <td>0.541512</td>\n",
       "      <td>0.541940</td>\n",
       "      <td>0.544681</td>\n",
       "      <td>0.546761</td>\n",
       "      <td>0.549256</td>\n",
       "      <td>0.552743</td>\n",
       "      <td>0.560122</td>\n",
       "      <td>...</td>\n",
       "      <td>0.790969</td>\n",
       "      <td>0.795041</td>\n",
       "      <td>0.799099</td>\n",
       "      <td>0.802918</td>\n",
       "      <td>0.806522</td>\n",
       "      <td>0.820096</td>\n",
       "      <td>0.832059</td>\n",
       "      <td>0.842571</td>\n",
       "      <td>0.852050</td>\n",
       "      <td>0.860323</td>\n",
       "    </tr>\n",
       "    <tr>\n",
       "      <th>4</th>\n",
       "      <td>0.537891</td>\n",
       "      <td>0.537692</td>\n",
       "      <td>0.537853</td>\n",
       "      <td>0.540439</td>\n",
       "      <td>0.542840</td>\n",
       "      <td>0.544292</td>\n",
       "      <td>0.547104</td>\n",
       "      <td>0.549564</td>\n",
       "      <td>0.552463</td>\n",
       "      <td>0.560582</td>\n",
       "      <td>...</td>\n",
       "      <td>0.790969</td>\n",
       "      <td>0.795041</td>\n",
       "      <td>0.799017</td>\n",
       "      <td>0.802837</td>\n",
       "      <td>0.806522</td>\n",
       "      <td>0.820255</td>\n",
       "      <td>0.832059</td>\n",
       "      <td>0.842727</td>\n",
       "      <td>0.852050</td>\n",
       "      <td>0.860552</td>\n",
       "    </tr>\n",
       "    <tr>\n",
       "      <th>...</th>\n",
       "      <td>...</td>\n",
       "      <td>...</td>\n",
       "      <td>...</td>\n",
       "      <td>...</td>\n",
       "      <td>...</td>\n",
       "      <td>...</td>\n",
       "      <td>...</td>\n",
       "      <td>...</td>\n",
       "      <td>...</td>\n",
       "      <td>...</td>\n",
       "      <td>...</td>\n",
       "      <td>...</td>\n",
       "      <td>...</td>\n",
       "      <td>...</td>\n",
       "      <td>...</td>\n",
       "      <td>...</td>\n",
       "      <td>...</td>\n",
       "      <td>...</td>\n",
       "      <td>...</td>\n",
       "      <td>...</td>\n",
       "      <td>...</td>\n",
       "    </tr>\n",
       "    <tr>\n",
       "      <th>1755</th>\n",
       "      <td>0.554487</td>\n",
       "      <td>0.556040</td>\n",
       "      <td>0.557223</td>\n",
       "      <td>0.558001</td>\n",
       "      <td>0.560329</td>\n",
       "      <td>0.563077</td>\n",
       "      <td>0.566402</td>\n",
       "      <td>0.568445</td>\n",
       "      <td>0.571639</td>\n",
       "      <td>0.580336</td>\n",
       "      <td>...</td>\n",
       "      <td>0.813382</td>\n",
       "      <td>0.817335</td>\n",
       "      <td>0.820904</td>\n",
       "      <td>0.824531</td>\n",
       "      <td>0.827871</td>\n",
       "      <td>0.840492</td>\n",
       "      <td>0.851455</td>\n",
       "      <td>0.861019</td>\n",
       "      <td>0.869404</td>\n",
       "      <td>0.876933</td>\n",
       "    </tr>\n",
       "    <tr>\n",
       "      <th>1756</th>\n",
       "      <td>0.553247</td>\n",
       "      <td>0.556040</td>\n",
       "      <td>0.556598</td>\n",
       "      <td>0.558505</td>\n",
       "      <td>0.560329</td>\n",
       "      <td>0.562712</td>\n",
       "      <td>0.565758</td>\n",
       "      <td>0.568734</td>\n",
       "      <td>0.571902</td>\n",
       "      <td>0.580336</td>\n",
       "      <td>...</td>\n",
       "      <td>0.813382</td>\n",
       "      <td>0.817335</td>\n",
       "      <td>0.820984</td>\n",
       "      <td>0.824531</td>\n",
       "      <td>0.827871</td>\n",
       "      <td>0.840492</td>\n",
       "      <td>0.851455</td>\n",
       "      <td>0.861019</td>\n",
       "      <td>0.869404</td>\n",
       "      <td>0.876933</td>\n",
       "    </tr>\n",
       "    <tr>\n",
       "      <th>1757</th>\n",
       "      <td>0.554487</td>\n",
       "      <td>0.555210</td>\n",
       "      <td>0.557849</td>\n",
       "      <td>0.558505</td>\n",
       "      <td>0.560752</td>\n",
       "      <td>0.562712</td>\n",
       "      <td>0.565436</td>\n",
       "      <td>0.568734</td>\n",
       "      <td>0.571902</td>\n",
       "      <td>0.580553</td>\n",
       "      <td>...</td>\n",
       "      <td>0.813382</td>\n",
       "      <td>0.817254</td>\n",
       "      <td>0.820984</td>\n",
       "      <td>0.824611</td>\n",
       "      <td>0.827871</td>\n",
       "      <td>0.840492</td>\n",
       "      <td>0.851455</td>\n",
       "      <td>0.861019</td>\n",
       "      <td>0.869480</td>\n",
       "      <td>0.876933</td>\n",
       "    </tr>\n",
       "    <tr>\n",
       "      <th>1758</th>\n",
       "      <td>0.554487</td>\n",
       "      <td>0.556040</td>\n",
       "      <td>0.557223</td>\n",
       "      <td>0.558505</td>\n",
       "      <td>0.560329</td>\n",
       "      <td>0.563077</td>\n",
       "      <td>0.565436</td>\n",
       "      <td>0.568734</td>\n",
       "      <td>0.571639</td>\n",
       "      <td>0.580336</td>\n",
       "      <td>...</td>\n",
       "      <td>0.813382</td>\n",
       "      <td>0.817254</td>\n",
       "      <td>0.820984</td>\n",
       "      <td>0.824611</td>\n",
       "      <td>0.827951</td>\n",
       "      <td>0.840492</td>\n",
       "      <td>0.851455</td>\n",
       "      <td>0.861019</td>\n",
       "      <td>0.869480</td>\n",
       "      <td>0.876933</td>\n",
       "    </tr>\n",
       "    <tr>\n",
       "      <th>1759</th>\n",
       "      <td>0.555728</td>\n",
       "      <td>0.556040</td>\n",
       "      <td>0.557223</td>\n",
       "      <td>0.559511</td>\n",
       "      <td>0.560752</td>\n",
       "      <td>0.563077</td>\n",
       "      <td>0.565436</td>\n",
       "      <td>0.568734</td>\n",
       "      <td>0.571902</td>\n",
       "      <td>0.580336</td>\n",
       "      <td>...</td>\n",
       "      <td>0.813382</td>\n",
       "      <td>0.817254</td>\n",
       "      <td>0.820904</td>\n",
       "      <td>0.824611</td>\n",
       "      <td>0.827951</td>\n",
       "      <td>0.840492</td>\n",
       "      <td>0.851455</td>\n",
       "      <td>0.861019</td>\n",
       "      <td>0.869480</td>\n",
       "      <td>0.877008</td>\n",
       "    </tr>\n",
       "  </tbody>\n",
       "</table>\n",
       "<p>180 rows × 50 columns</p>\n",
       "</div>"
      ],
      "text/plain": [
       "            0         1         2         3         4         5         6   \\\n",
       "0     0.535241  0.537692  0.537186  0.539902  0.542840  0.544292  0.546761   \n",
       "1     0.536566  0.536806  0.538521  0.540439  0.542390  0.544292  0.546761   \n",
       "2     0.536566  0.537692  0.537186  0.540439  0.542390  0.544292  0.546418   \n",
       "3     0.536566  0.536806  0.539188  0.541512  0.541940  0.544681  0.546761   \n",
       "4     0.537891  0.537692  0.537853  0.540439  0.542840  0.544292  0.547104   \n",
       "...        ...       ...       ...       ...       ...       ...       ...   \n",
       "1755  0.554487  0.556040  0.557223  0.558001  0.560329  0.563077  0.566402   \n",
       "1756  0.553247  0.556040  0.556598  0.558505  0.560329  0.562712  0.565758   \n",
       "1757  0.554487  0.555210  0.557849  0.558505  0.560752  0.562712  0.565436   \n",
       "1758  0.554487  0.556040  0.557223  0.558505  0.560329  0.563077  0.565436   \n",
       "1759  0.555728  0.556040  0.557223  0.559511  0.560752  0.563077  0.565436   \n",
       "\n",
       "            7         8         9   ...        40        41        42  \\\n",
       "0     0.549564  0.552743  0.560122  ...  0.790886  0.794876  0.798935   \n",
       "1     0.549256  0.552183  0.559891  ...  0.790804  0.794876  0.798935   \n",
       "2     0.549256  0.552463  0.560122  ...  0.790969  0.795041  0.799099   \n",
       "3     0.549256  0.552743  0.560122  ...  0.790969  0.795041  0.799099   \n",
       "4     0.549564  0.552463  0.560582  ...  0.790969  0.795041  0.799017   \n",
       "...        ...       ...       ...  ...       ...       ...       ...   \n",
       "1755  0.568445  0.571639  0.580336  ...  0.813382  0.817335  0.820904   \n",
       "1756  0.568734  0.571902  0.580336  ...  0.813382  0.817335  0.820984   \n",
       "1757  0.568734  0.571902  0.580553  ...  0.813382  0.817254  0.820984   \n",
       "1758  0.568734  0.571639  0.580336  ...  0.813382  0.817254  0.820984   \n",
       "1759  0.568734  0.571902  0.580336  ...  0.813382  0.817254  0.820904   \n",
       "\n",
       "            43        44        45        46        47        48        49  \n",
       "0     0.802755  0.806522  0.820096  0.832059  0.842571  0.852050  0.860323  \n",
       "1     0.802755  0.806522  0.820096  0.832059  0.842571  0.852050  0.860323  \n",
       "2     0.802755  0.806522  0.820096  0.832059  0.842727  0.852050  0.860323  \n",
       "3     0.802918  0.806522  0.820096  0.832059  0.842571  0.852050  0.860323  \n",
       "4     0.802837  0.806522  0.820255  0.832059  0.842727  0.852050  0.860552  \n",
       "...        ...       ...       ...       ...       ...       ...       ...  \n",
       "1755  0.824531  0.827871  0.840492  0.851455  0.861019  0.869404  0.876933  \n",
       "1756  0.824531  0.827871  0.840492  0.851455  0.861019  0.869404  0.876933  \n",
       "1757  0.824611  0.827871  0.840492  0.851455  0.861019  0.869480  0.876933  \n",
       "1758  0.824611  0.827951  0.840492  0.851455  0.861019  0.869480  0.876933  \n",
       "1759  0.824611  0.827951  0.840492  0.851455  0.861019  0.869480  0.877008  \n",
       "\n",
       "[180 rows x 50 columns]"
      ]
     },
     "execution_count": 63,
     "metadata": {},
     "output_type": "execute_result"
    }
   ],
   "source": [
    "train_data_df[train_target_df['O2'] == 35/100.0]"
   ]
  },
  {
   "cell_type": "code",
   "execution_count": 64,
   "metadata": {},
   "outputs": [
    {
     "data": {
      "image/png": "[encoded data removed]",
      "text/plain": [
       "<Figure size 432x288 with 1 Axes>"
      ]
     },
     "metadata": {
      "needs_background": "light"
     },
     "output_type": "display_data"
    }
   ],
   "source": [
    "plt.plot(wred, train_data_df[(train_target_df['O2'] == 5./100.0) & (train_target_df['T'] == 5./45.0)].iloc[0], label ='$T=5, [O_2]=5 \\%$')\n",
    "plt.plot(wred, train_data_df[(train_target_df['O2'] == 5./100.0) & (train_target_df['T'] == 15./45.0)].iloc[0], label ='$T=15, [O_2]=5 \\%$')\n",
    "plt.tick_params(labelsize=16)\n",
    "plt.legend(fontsize = 16)\n",
    "plt.xlabel ('Frequency (Hz)', fontsize = 16)\n",
    "plt.ylabel (r'$\\theta / \\theta_0$', fontsize = 16)\n",
    "plt.show()"
   ]
  },
  {
   "cell_type": "code",
   "execution_count": 67,
   "metadata": {},
   "outputs": [
    {
     "data": {
      "image/png": "[encoded data removed]",
      "text/plain": [
       "<Figure size 432x288 with 1 Axes>"
      ]
     },
     "metadata": {
      "needs_background": "light"
     },
     "output_type": "display_data"
    }
   ],
   "source": [
    "#plt.plot(wred, train_data_df[train_target_df['O2'] == 0/100.0].iloc[0], label ='0')\n",
    "plt.plot(wred, train_data_df[train_target_df['O2'] == 20/100.0].iloc[0], label ='20')\n",
    "plt.plot(wred, train_data_df[train_target_df['O2'] == 40/100.0].iloc[0], label ='40')\n",
    "plt.plot(wred, train_data_df[train_target_df['O2'] == 100/100.0].iloc[0], label ='100')\n",
    "plt.legend()\n",
    "plt.show()"
   ]
  },
  {
   "cell_type": "markdown",
   "metadata": {
    "colab_type": "text",
    "id": "H3moo3oEZvFJ"
   },
   "source": [
    "# Dataset split"
   ]
  },
  {
   "cell_type": "code",
   "execution_count": 68,
   "metadata": {
    "colab": {},
    "colab_type": "code",
    "id": "syS1hclTZvFK"
   },
   "outputs": [],
   "source": [
    "np.random.seed(42)\n",
    "rnd = np.random.rand(len(train_target_df)) < 0.8"
   ]
  },
  {
   "cell_type": "code",
   "execution_count": 69,
   "metadata": {
    "colab": {},
    "colab_type": "code",
    "id": "7Kt_BJZFZvFL"
   },
   "outputs": [],
   "source": [
    "data_train = train_data_df[rnd]\n",
    "data_dev = train_data_df[~rnd]\n",
    "targets_train = train_target_df[rnd]\n",
    "targets_dev = train_target_df[~rnd]"
   ]
  },
  {
   "cell_type": "code",
   "execution_count": 70,
   "metadata": {},
   "outputs": [
    {
     "data": {
      "text/plain": [
       "0.3324222501292755"
      ]
     },
     "execution_count": 70,
     "metadata": {},
     "output_type": "execute_result"
    }
   ],
   "source": [
    "np.min(np.min(data_train))"
   ]
  },
  {
   "cell_type": "code",
   "execution_count": 71,
   "metadata": {
    "colab": {
     "base_uri": "https://localhost:8080/",
     "height": 53
    },
    "colab_type": "code",
    "id": "BwflCkBrZvFL",
    "outputId": "4bf9ba84-bcda-4a5a-b2ab-89bda87b80dd"
   },
   "outputs": [
    {
     "name": "stdout",
     "output_type": "stream",
     "text": [
      "Number of training data observations is  (2880, 50)\n",
      "Number of dev      data observations is  (720, 50)\n"
     ]
    }
   ],
   "source": [
    "print('Number of training data observations is ', data_train.shape)\n",
    "print('Number of dev      data observations is ', data_dev.shape)"
   ]
  },
  {
   "cell_type": "markdown",
   "metadata": {},
   "source": [
    "# Plot 1"
   ]
  },
  {
   "cell_type": "code",
   "execution_count": 72,
   "metadata": {},
   "outputs": [
    {
     "data": {
      "text/plain": [
       "[<matplotlib.lines.Line2D at 0x7fb8e13449e8>]"
      ]
     },
     "execution_count": 72,
     "metadata": {},
     "output_type": "execute_result"
    },
    {
     "data": {
      "image/png": "[encoded data removed]",
      "text/plain": [
       "<Figure size 432x288 with 1 Axes>"
      ]
     },
     "metadata": {
      "needs_background": "light"
     },
     "output_type": "display_data"
    }
   ],
   "source": [
    "plt.plot(wred, train_data_df.iloc[200])"
   ]
  },
  {
   "cell_type": "markdown",
   "metadata": {
    "colab_type": "text",
    "id": "HWgTxCDuZvFQ"
   },
   "source": [
    "## Helper Functions"
   ]
  },
  {
   "cell_type": "code",
   "execution_count": 73,
   "metadata": {
    "colab": {},
    "colab_type": "code",
    "id": "ycNFsXOaZvFR"
   },
   "outputs": [],
   "source": [
    "def MAE_T_list_generator(targets_dev, preds_df):\n",
    "    T_values = targets_dev['T'].unique()*45.0\n",
    "    MAE_list = []\n",
    "    MAE_xticks = T_values\n",
    "    MAE_boxplot = []\n",
    "    for T_ in T_values:\n",
    "        elmts = (targets_dev['T'] == T_/45.0)\n",
    "        tmp_ = targets_dev[elmts]\n",
    "        tmp2_ = preds_df[elmts]\n",
    "        mae_ = np.mean(45.0*np.abs(tmp2_['T'].values- tmp_['T'].values))\n",
    "\n",
    "        MAE_boxplot.append(list(45.0*np.abs(tmp_['T'].values-tmp2_['T'].values)))\n",
    "\n",
    "        MAE_list.append(mae_)\n",
    "        \n",
    "    return MAE_boxplot, MAE_list, MAE_xticks\n",
    "\n",
    "\n",
    "def MAE_T_list_generator_w0(targets_dev, preds_df):\n",
    "    T_values = targets_dev['T'].unique()*45.0\n",
    "    MAE_list = []\n",
    "    MAE_xticks = T_values\n",
    "    MAE_boxplot = []\n",
    "    for T_ in T_values:\n",
    "        elmts = (targets_dev['T'] == T_/45.0) & (targets_dev['O2'] > 0)\n",
    "        tmp_ = targets_dev[elmts]\n",
    "        tmp2_ = preds_df[elmts]\n",
    "        mae_ = np.mean(45.0*np.abs(tmp2_['T'].values- tmp_['T'].values))\n",
    "\n",
    "        MAE_boxplot.append(list(45.0*np.abs(tmp_['T'].values-tmp2_['T'].values)))\n",
    "\n",
    "        MAE_list.append(mae_)\n",
    "        \n",
    "    return MAE_boxplot, MAE_list, MAE_xticks"
   ]
  },
  {
   "cell_type": "code",
   "execution_count": 74,
   "metadata": {
    "colab": {},
    "colab_type": "code",
    "id": "7ESrffFUZvFV"
   },
   "outputs": [],
   "source": [
    "def MAE_O2_list_generator(step, targets_dev, preds_df):\n",
    "    breaks = np.arange(step,101.0, step)\n",
    "    MAE_list = []\n",
    "    MAE_xticks = []\n",
    "    MAE_boxplot = []\n",
    "    for O2_ in breaks:\n",
    "        elmts = (targets_dev['O2'] < O2_/100.0) & (targets_dev['O2'] >= (O2_-step)/100.0)\n",
    "        tmp_ = targets_dev[elmts]\n",
    "        tmp2_ = preds_df[elmts]\n",
    "        mae_ = np.mean(100*np.abs(tmp2_['O2'].values- tmp_['O2'].values))\n",
    "\n",
    "        #print (\"MAE for range [\", int(O2_), \",\", int(O2_-step), \"] is\", mae_)\n",
    "\n",
    "        MAE_boxplot.append(list(100.0*np.abs(tmp_['O2'].values-tmp2_['O2'].values)))\n",
    "\n",
    "        MAE_list.append(mae_)\n",
    "        MAE_xticks.append(\"[\"+ str(int(O2_-step))+ \",\"+ str(int(O2_))+ \"]\")\n",
    "    \n",
    "    return MAE_boxplot, MAE_list, MAE_xticks"
   ]
  },
  {
   "cell_type": "code",
   "execution_count": 75,
   "metadata": {
    "colab": {},
    "colab_type": "code",
    "id": "ix9iIYTcZvFW"
   },
   "outputs": [],
   "source": [
    "# Get predictions\n",
    "def get_predictions(model, targets_dev, data_dev):\n",
    "    preds = model.predict(data_dev)\n",
    "    preds_df = pd.DataFrame(preds)\n",
    "    preds_df.columns = ['O2', 'T']\n",
    "    targets_dev_ = targets_dev.reset_index(drop = True)\n",
    "    preds_df_ = preds_df.reset_index(drop = True)\n",
    "    \n",
    "    return targets_dev_, preds_df_"
   ]
  },
  {
   "cell_type": "code",
   "execution_count": 76,
   "metadata": {
    "colab": {},
    "colab_type": "code",
    "id": "xY5mtw2DZvFW"
   },
   "outputs": [],
   "source": [
    "class CustomCallback(keras.callbacks.Callback):\n",
    "    def on_epoch_end(self, epoch, logs={}):\n",
    "        if (epoch % 5000 == 0):\n",
    "            print (\"Just finished epoch\", epoch)\n",
    "            print (logs)\n",
    "            return\n",
    "        \n",
    "class CustomCallbackProgress(keras.callbacks.Callback):\n",
    "    \n",
    "    def __init__(self, totalEpochs, step):\n",
    "        self.step = 0\n",
    "        self.totalEpochs = totalEpochs\n",
    "        self.step = step\n",
    "        \n",
    "        \n",
    "    def on_epoch_end(self, epoch, logs={}):\n",
    "        if (epoch % 200 == 0):\n",
    "            i = int(epoch / 200)\n",
    "            \n",
    "            if (i > 0):\n",
    "                numberOfEquals = int(self.totalEpochs/200*i)\n",
    "                percent = 100/(self.totalEpochs/200)*i\n",
    "            else:\n",
    "                numberOfEquals = 0\n",
    "                percent = 0\n",
    "                \n",
    "                \n",
    "            print (\"\\r[%-20s] %d%%\" % ('='*i, percent), end='')\n",
    "            \n",
    "            if(percent == 100):\n",
    "                print('')\n",
    "        "
   ]
  },
  {
   "cell_type": "code",
   "execution_count": 77,
   "metadata": {
    "colab": {},
    "colab_type": "code",
    "id": "pvugRkk3ZvFX"
   },
   "outputs": [],
   "source": [
    "def reset_keras():\n",
    "    K.get_session().close()\n",
    "    K.set_session(tf.Session())\n",
    "    K.get_session().run(tf.global_variables_initializer())"
   ]
  },
  {
   "cell_type": "code",
   "execution_count": 78,
   "metadata": {
    "colab": {},
    "colab_type": "code",
    "id": "hf_xjlejZvFZ"
   },
   "outputs": [],
   "source": [
    "def average_runs(n_iter, model_):\n",
    "    MAE_O2_boxplot_avg = [0]*9\n",
    "    MAE_T_boxplot_avg = [0]*5\n",
    "\n",
    "    for i in range(n_iter):\n",
    "        print (\"Training iteration \", i)\n",
    "        \n",
    "        model_.fit(data_train, targets_train, epochs=4001, batch_size=1000,verbose = 0,\n",
    "             validation_data= (data_dev, targets_dev), callbacks = [CustomCallbackProgress(4000,200)])\n",
    "\n",
    "        print(\"Getting predictions for iteration \",i)\n",
    "        targets_dev_, preds_df_ = get_predictions(model_, targets_dev, data_dev)\n",
    "        targets_train_, preds_train_ = get_predictions(model_, targets_train, data_train)\n",
    "\n",
    "        print(\"Generating MAE lists for iteration \", i)\n",
    "        MAE_boxplot_, MAE_list_, MAE_xticks_ = MAE_O2_list_generator(10.0, targets_dev_, preds_df_)\n",
    "        MAE_T_boxplot_, MAE_T_list_, MAE_T_xticks_ = MAE_T_list_generator(targets_dev_, preds_df_)\n",
    "        #MAE_boxplot_train_, MAE_list_train_, MAE_xticks_train_ = MAE_list_generator(10.0, targets_train_, preds_train_)\n",
    "\n",
    "        for j in range(len(MAE_boxplot_)):\n",
    "            MAE_O2_boxplot_avg[j] = MAE_O2_boxplot_avg[j] + np.array(MAE_boxplot_[j])/n_iter\n",
    "            \n",
    "        for j in range(len(MAE_T_boxplot_)):\n",
    "            MAE_T_boxplot_avg[j] = MAE_T_boxplot_avg[j] + np.array(MAE_T_boxplot_[j])/n_iter\n",
    "\n",
    "    return MAE_O2_boxplot_avg, MAE_T_boxplot_avg"
   ]
  },
  {
   "cell_type": "code",
   "execution_count": 79,
   "metadata": {
    "colab": {},
    "colab_type": "code",
    "id": "i5JVJPB1ZvFZ"
   },
   "outputs": [],
   "source": [
    "def get_mae(MAE_boxplot_):\n",
    "    flat_list = [item for sublist in MAE_boxplot_ for item in sublist]\n",
    "    return np.mean(flat_list)"
   ]
  },
  {
   "cell_type": "markdown",
   "metadata": {
    "colab_type": "text",
    "id": "qubDL3VCZvFb"
   },
   "source": [
    "# Random Seed to get reproducible results"
   ]
  },
  {
   "cell_type": "code",
   "execution_count": 149,
   "metadata": {
    "colab": {},
    "colab_type": "code",
    "id": "jd131E5PZvFc"
   },
   "outputs": [],
   "source": [
    "K.clear_session()\n",
    "\n",
    "from numpy.random import seed\n",
    "seed(42)\n",
    "#from tensorflow import set_random_seed\n",
    "#set_random_seed(42)"
   ]
  },
  {
   "cell_type": "markdown",
   "metadata": {
    "colab_type": "text",
    "id": "3jXoqPciZvFd"
   },
   "source": [
    "# Network C"
   ]
  },
  {
   "cell_type": "code",
   "execution_count": 150,
   "metadata": {
    "colab": {},
    "colab_type": "code",
    "id": "ivJYtwZTZvFe"
   },
   "outputs": [],
   "source": [
    "class CustomCallback_(keras.callbacks.Callback):\n",
    "    def on_epoch_end(self, epoch, logs={}):\n",
    "        if (epoch % 5000 == 0):\n",
    "            print (\"Just finished epoch\", epoch)\n",
    "            #print(logs)\n",
    "            print (\"Validation MAE_O2 = \", 100*float(logs.get(\"val_O2_output_mae\")))\n",
    "            print (\"Validation MAE_T = \", 45*float(logs.get(\"val_T_output_mae\")))\n",
    "            print (\"Training   MAE_O2 = \", 100*float(logs.get(\"O2_output_mae\")))\n",
    "            print (\"Training   MAE_T = \", 45*float(logs.get(\"T_output_mae\")))\n",
    "            \n",
    "            return"
   ]
  },
  {
   "cell_type": "code",
   "execution_count": 151,
   "metadata": {
    "colab": {},
    "colab_type": "code",
    "id": "zolxZDx0ZvFe"
   },
   "outputs": [],
   "source": [
    "K.clear_session()"
   ]
  },
  {
   "cell_type": "code",
   "execution_count": 152,
   "metadata": {},
   "outputs": [],
   "source": [
    "def get_compiled_model():\n",
    "    input_x = keras.layers.Input(shape = (50,))\n",
    "    lay1 = layers.Dense(50,  activation='sigmoid', dtype = tf.float32)(input_x)\n",
    "    lay2 = layers.Dense(50, activation='sigmoid')(lay1)\n",
    "    lay3 = layers.Dense(50, activation='sigmoid')(lay2)\n",
    "    outboth = layers.Dense(2, activation='sigmoid',name=\"both_output\")(lay3)\n",
    "\n",
    "    lay4 = layers.Dense(5, activation='sigmoid')(lay3)\n",
    "    lay5 = layers.Dense(5, activation='sigmoid')(lay4)\n",
    "    outo2 = layers.Dense(1, activation = 'sigmoid',name=\"O2_output\")(lay5)\n",
    "\n",
    "\n",
    "    lay6 = layers.Dense(5, activation='sigmoid')(lay3)\n",
    "    lay7 = layers.Dense(5, activation='sigmoid')(lay6)\n",
    "    outT = layers.Dense(1, activation = 'sigmoid', name = \"T_output\")(lay7)\n",
    "\n",
    "    #model = Model(input_x, outl)\n",
    "\n",
    "    model4 = Model(\n",
    "        inputs=input_x,\n",
    "        outputs=[outboth, outo2, outT])\n",
    "    \n",
    "    losses = {\n",
    "        \"both_output\": \"mse\",\n",
    "        \"O2_output\": \"mse\",\n",
    "        \"T_output\": \"mse\"\n",
    "    }\n",
    "\n",
    "    #0.3, 5, 5\n",
    "    lossWeights = {\"both_output\": 0.3, \"O2_output\": 5.0, \"T_output\": 5.0}\n",
    "\n",
    "    opt = Adam(lr=0.001)\n",
    "\n",
    "    model4.compile(optimizer=opt, loss=losses, loss_weights=lossWeights,\n",
    "            metrics=[\"mae\"])\n",
    "    \n",
    "    return model4"
   ]
  },
  {
   "cell_type": "code",
   "execution_count": 153,
   "metadata": {
    "colab": {},
    "colab_type": "code",
    "id": "Iy4UkWvnZvFf"
   },
   "outputs": [],
   "source": [
    "input_x = keras.layers.Input(shape = (50,))\n",
    "lay1 = layers.Dense(50,  activation='sigmoid', dtype = tf.float32)(input_x)\n",
    "lay2 = layers.Dense(50, activation='sigmoid')(lay1)\n",
    "lay3 = layers.Dense(50, activation='sigmoid')(lay2)\n",
    "outboth = layers.Dense(2, activation='sigmoid',name=\"both_output\")(lay3)\n",
    "\n",
    "lay4 = layers.Dense(5, activation='sigmoid')(lay3)\n",
    "lay5 = layers.Dense(5, activation='sigmoid')(lay4)\n",
    "outo2 = layers.Dense(1, activation = 'sigmoid',name=\"O2_output\")(lay5)\n",
    "\n",
    "\n",
    "lay6 = layers.Dense(5, activation='sigmoid')(lay3)\n",
    "lay7 = layers.Dense(5, activation='sigmoid')(lay6)\n",
    "outT = layers.Dense(1, activation = 'sigmoid', name = \"T_output\")(lay7)\n",
    "\n",
    "#model = Model(input_x, outl)\n",
    "\n",
    "model4 = Model(\n",
    "    inputs=input_x,\n",
    "    outputs=[outboth, outo2, outT])"
   ]
  },
  {
   "cell_type": "code",
   "execution_count": 154,
   "metadata": {
    "colab": {
     "base_uri": "https://localhost:8080/",
     "height": 557
    },
    "colab_type": "code",
    "id": "vUcbGBnxZvFf",
    "outputId": "9946374a-ec63-480f-ae0a-2eb59e9cc154"
   },
   "outputs": [
    {
     "name": "stdout",
     "output_type": "stream",
     "text": [
      "Model: \"model\"\n",
      "__________________________________________________________________________________________________\n",
      "Layer (type)                    Output Shape         Param #     Connected to                     \n",
      "==================================================================================================\n",
      "input_1 (InputLayer)            [(None, 50)]         0                                            \n",
      "__________________________________________________________________________________________________\n",
      "dense (Dense)                   (None, 50)           2550        input_1[0][0]                    \n",
      "__________________________________________________________________________________________________\n",
      "dense_1 (Dense)                 (None, 50)           2550        dense[0][0]                      \n",
      "__________________________________________________________________________________________________\n",
      "dense_2 (Dense)                 (None, 50)           2550        dense_1[0][0]                    \n",
      "__________________________________________________________________________________________________\n",
      "dense_3 (Dense)                 (None, 5)            255         dense_2[0][0]                    \n",
      "__________________________________________________________________________________________________\n",
      "dense_5 (Dense)                 (None, 5)            255         dense_2[0][0]                    \n",
      "__________________________________________________________________________________________________\n",
      "dense_4 (Dense)                 (None, 5)            30          dense_3[0][0]                    \n",
      "__________________________________________________________________________________________________\n",
      "dense_6 (Dense)                 (None, 5)            30          dense_5[0][0]                    \n",
      "__________________________________________________________________________________________________\n",
      "both_output (Dense)             (None, 2)            102         dense_2[0][0]                    \n",
      "__________________________________________________________________________________________________\n",
      "O2_output (Dense)               (None, 1)            6           dense_4[0][0]                    \n",
      "__________________________________________________________________________________________________\n",
      "T_output (Dense)                (None, 1)            6           dense_6[0][0]                    \n",
      "==================================================================================================\n",
      "Total params: 8,334\n",
      "Trainable params: 8,334\n",
      "Non-trainable params: 0\n",
      "__________________________________________________________________________________________________\n"
     ]
    }
   ],
   "source": [
    "model4.summary()"
   ]
  },
  {
   "cell_type": "code",
   "execution_count": 155,
   "metadata": {
    "colab": {},
    "colab_type": "code",
    "id": "GaxNArMlZvFg"
   },
   "outputs": [],
   "source": [
    "losses = {\n",
    "        \"both_output\": \"mse\",\n",
    "        \"O2_output\": \"mse\",\n",
    "        \"T_output\": \"mse\"\n",
    "}\n",
    "\n",
    "#0.3, 5, 5\n",
    "lossWeights = {\"both_output\": 0.3, \"O2_output\": 5.0, \"T_output\": 5.0}\n",
    "\n",
    "opt = Adam(lr=0.001)\n",
    "\n",
    "model4.compile(optimizer=opt, loss=losses, loss_weights=lossWeights,\n",
    "        metrics=[\"mae\"])"
   ]
  },
  {
   "cell_type": "code",
   "execution_count": 156,
   "metadata": {
    "colab": {},
    "colab_type": "code",
    "id": "QAR-gIrbZvFh"
   },
   "outputs": [],
   "source": [
    "targets_train_O2 = targets_train['O2']\n",
    "targets_dev_O2 = targets_dev['O2']\n",
    "targets_train_T = targets_train['T']\n",
    "targets_dev_T = targets_dev['T']"
   ]
  },
  {
   "cell_type": "markdown",
   "metadata": {
    "colab_type": "text",
    "id": "-do_u4EDZvFh"
   },
   "source": [
    "### Fitting of the model"
   ]
  },
  {
   "cell_type": "code",
   "execution_count": 157,
   "metadata": {
    "colab": {
     "base_uri": "https://localhost:8080/",
     "height": 1000
    },
    "colab_type": "code",
    "id": "5SOLycrnZvFh",
    "outputId": "395a8a6d-324e-4068-ab11-115d1dd7daeb"
   },
   "outputs": [
    {
     "name": "stdout",
     "output_type": "stream",
     "text": [
      "Just finished epoch 0\n",
      "{'loss': 0.8820544024308522, 'both_output_loss': 0.08401182, 'O2_output_loss': 0.08903945, 'T_output_loss': 0.08233068, 'both_output_mae': 0.24916749, 'O2_output_mae': 0.25559512, 'T_output_mae': 0.24724111, 'val_loss': 0.8538948562410142, 'val_both_output_loss': 0.08088627, 'val_O2_output_loss': 0.08312543, 'val_T_output_loss': 0.08245509, 'val_both_output_mae': 0.24763545, 'val_O2_output_mae': 0.24933161, 'val_T_output_mae': 0.2509486}\n",
      "Just finished epoch 5000\n",
      "{'loss': 0.0015903113497188314, 'both_output_loss': 0.0005797471, 'O2_output_loss': 1.5802165e-05, 'T_output_loss': 0.0002674753, 'both_output_mae': 0.016084224, 'O2_output_mae': 0.0029489454, 'T_output_mae': 0.01204794, 'val_loss': 0.0013916351004607148, 'val_both_output_loss': 0.00058314885, 'val_O2_output_loss': 2.0004427e-05, 'val_T_output_loss': 0.00022800178, 'val_both_output_mae': 0.01638336, 'val_O2_output_mae': 0.0033187687, 'val_T_output_mae': 0.0105151385}\n",
      "Just finished epoch 10000\n",
      "{'loss': 0.0007214921549247164, 'both_output_loss': 0.00025967663, 'O2_output_loss': 7.554757e-06, 'T_output_loss': 0.0001211631, 'both_output_mae': 0.01024116, 'O2_output_mae': 0.0020168612, 'T_output_mae': 0.008289308, 'val_loss': 0.0003599338395158864, 'val_both_output_loss': 0.00022636542, 'val_O2_output_loss': 3.0156702e-06, 'val_T_output_loss': 5.6535704e-05, 'val_both_output_mae': 0.009210374, 'val_O2_output_mae': 0.0013086013, 'val_T_output_mae': 0.005676649}\n",
      "Just finished epoch 15000\n",
      "{'loss': 0.0007000147529955332, 'both_output_loss': 0.000176415, 'O2_output_loss': 8.33745e-06, 'T_output_loss': 0.00012108061, 'both_output_mae': 0.009004001, 'O2_output_mae': 0.0021218131, 'T_output_mae': 0.0082568275, 'val_loss': 0.000949704238317079, 'val_both_output_loss': 0.00019315533, 'val_O2_output_loss': 2.1173099e-05, 'val_T_output_loss': 0.00015761296, 'val_both_output_mae': 0.009879091, 'val_O2_output_mae': 0.0037384352, 'val_T_output_mae': 0.010511722}\n"
     ]
    }
   ],
   "source": [
    "H = model4.fit(data_train,\n",
    "        {\"both_output\": targets_train, \"O2_output\": targets_train_O2, \"T_output\": targets_train_T},\n",
    "        validation_data=(data_dev,\n",
    "            {\"both_output\": targets_dev, \"O2_output\": targets_dev_O2, \"T_output\": targets_dev_T}),\n",
    "        epochs=20000, batch_size = 32,\n",
    "        verbose=0, callbacks = [CustomCallback()])"
   ]
  },
  {
   "cell_type": "code",
   "execution_count": 180,
   "metadata": {},
   "outputs": [],
   "source": [
    "model4.save(\"model_20000_32_1e-3_3x50_2x5_2x5_theta_theta0.h5\")"
   ]
  },
  {
   "cell_type": "code",
   "execution_count": 158,
   "metadata": {
    "colab": {},
    "colab_type": "code",
    "id": "M-UMGLNJZvFi"
   },
   "outputs": [],
   "source": [
    "(O2T, O2, T) = model4.predict(data_dev)\n",
    "preds_exp_df = pd.DataFrame(O2T)\n",
    "preds_exp_df.columns = ['O2', 'T']\n",
    "preds_exp_o2_df = pd.DataFrame(O2[:,0])\n",
    "preds_exp_o2_df.columns = ['O2']\n",
    "\n",
    "preds_exp_T_df = pd.DataFrame(T[:,0])\n",
    "preds_exp_T_df.columns = ['T']"
   ]
  },
  {
   "cell_type": "code",
   "execution_count": 159,
   "metadata": {
    "colab": {},
    "colab_type": "code",
    "id": "TAQKhZDjZvFi"
   },
   "outputs": [],
   "source": [
    "targets_dev = targets_dev.reset_index(drop = True)\n",
    "preds_exp_o2_df = preds_exp_o2_df.reset_index(drop = True)\n",
    "preds_exp_T_df = preds_exp_T_df.reset_index(drop = True)"
   ]
  },
  {
   "cell_type": "markdown",
   "metadata": {},
   "source": [
    "## For which [O2] AE_T is big?"
   ]
  },
  {
   "cell_type": "code",
   "execution_count": 171,
   "metadata": {},
   "outputs": [],
   "source": [
    "#elmts = (targets_dev['T'] == T_/45.0)\n",
    "tmp_ = targets_dev\n",
    "tmp2_ = preds_exp_o2_df\n",
    "mae_ = 100.0*np.abs(tmp2_['O2'].values- tmp_['O2'].values)"
   ]
  },
  {
   "cell_type": "code",
   "execution_count": 172,
   "metadata": {},
   "outputs": [
    {
     "data": {
      "image/png": "[encoded data removed]",
      "text/plain": [
       "<Figure size 576x360 with 1 Axes>"
      ]
     },
     "metadata": {
      "needs_background": "light"
     },
     "output_type": "display_data"
    }
   ],
   "source": [
    "plt.figure(figsize = (8,5))\n",
    "plt.scatter(100.0*tmp_['O2'], mae_)\n",
    "plt.tick_params(labelsize=18)\n",
    "#plt.xlim(5,100)\n",
    "plt.ylim(0, 5)\n",
    "plt.show()"
   ]
  },
  {
   "cell_type": "code",
   "execution_count": 181,
   "metadata": {
    "colab": {},
    "colab_type": "code",
    "id": "mzVtcUYsZvFj"
   },
   "outputs": [],
   "source": [
    "MAE_boxplot_C, MAE_list_C, MAE_xticks_C = MAE_O2_list_generator(10.0, targets_dev, preds_exp_o2_df)\n",
    "MAET_boxplot_C_MTL, MAET_list_C_MTL, MAET_xticks_C_MTL = MAE_T_list_generator(targets_dev, preds_exp_T_df)\n",
    "MAET_boxplot_C_MTL_w0, MAET_list_C_MTL_w0, MAET_xticks_C_MTL_w0 = MAE_T_list_generator_w0(targets_dev, preds_exp_T_df)\n",
    "\n",
    "MAE_boxplot_C_flat_3 = [item for sublist in MAE_boxplot_C for item in sublist]\n",
    "MAET_boxplot_C_MTL_flat_3 = [item for sublist in MAET_boxplot_C_MTL for item in sublist]"
   ]
  },
  {
   "cell_type": "code",
   "execution_count": 163,
   "metadata": {},
   "outputs": [
    {
     "data": {
      "text/plain": [
       "9"
      ]
     },
     "execution_count": 163,
     "metadata": {},
     "output_type": "execute_result"
    }
   ],
   "source": [
    "len(MAET_list_C_MTL)"
   ]
  },
  {
   "cell_type": "markdown",
   "metadata": {},
   "source": [
    "Note that the lists have not the same length, since the number of elements in each range is not equal, being the numbers randomly generated."
   ]
  },
  {
   "cell_type": "code",
   "execution_count": 164,
   "metadata": {},
   "outputs": [
    {
     "name": "stdout",
     "output_type": "stream",
     "text": [
      "Number of elements = 36\n",
      "Number of elements = 59\n",
      "Number of elements = 74\n",
      "Number of elements = 77\n",
      "Number of elements = 81\n",
      "Number of elements = 63\n",
      "Number of elements = 66\n",
      "Number of elements = 80\n",
      "Number of elements = 64\n",
      "Number of elements = 90\n"
     ]
    }
   ],
   "source": [
    "tmp = np.array([np.array(xi) for xi in MAE_boxplot_C])\n",
    "#np.amax(MAE_boxplot_C)\n",
    "for tmp_ in tmp:\n",
    "    print('Number of elements =', tmp_.shape[0])"
   ]
  },
  {
   "cell_type": "code",
   "execution_count": 165,
   "metadata": {
    "colab": {
     "base_uri": "https://localhost:8080/",
     "height": 197
    },
    "colab_type": "code",
    "id": "XeoJZecyZvFj",
    "outputId": "7e78f0e9-41ec-4bbd-dffe-2258a145120e"
   },
   "outputs": [
    {
     "name": "stdout",
     "output_type": "stream",
     "text": [
      "0.0965353846549985\n",
      "0.1406854391098028\n",
      "0.3251701593399048\n",
      "0.3340911865234386\n",
      "0.41901051998138317\n",
      "0.4944097995758012\n",
      "0.455275774002073\n",
      "0.3157866001129106\n",
      "0.5290102958679155\n",
      "0.867185592651365\n",
      "The maximum is 0.867185592651365\n"
     ]
    }
   ],
   "source": [
    "max = 0.0\n",
    "for tmp_ in tmp:\n",
    "    max_ = np.amax(tmp_)\n",
    "    print(max_)\n",
    "    if max_ > max:\n",
    "        max = max_\n",
    "        \n",
    "print('The maximum is', max)"
   ]
  },
  {
   "cell_type": "code",
   "execution_count": 166,
   "metadata": {
    "colab": {
     "base_uri": "https://localhost:8080/",
     "height": 35
    },
    "colab_type": "code",
    "id": "TPq8KP8FZvFk",
    "outputId": "d8b6af4a-487c-48f5-ac8b-b54b2b8a4eb5"
   },
   "outputs": [
    {
     "data": {
      "text/plain": [
       "0.1280802298819315"
      ]
     },
     "execution_count": 166,
     "metadata": {},
     "output_type": "execute_result"
    }
   ],
   "source": [
    "np.mean(MAE_list_C) \n",
    "# 64/32/32 -->\n",
    "# 50       -->\n",
    "# 80       -->"
   ]
  },
  {
   "cell_type": "code",
   "execution_count": 167,
   "metadata": {
    "colab": {
     "base_uri": "https://localhost:8080/",
     "height": 443
    },
    "colab_type": "code",
    "id": "ic8H7_tdZvFk",
    "outputId": "3e9744f5-3694-4d8b-e73c-b8778d5d7982"
   },
   "outputs": [
    {
     "data": {
      "text/plain": [
       "<matplotlib.legend.Legend at 0x7fb94230a2e8>"
      ]
     },
     "execution_count": 167,
     "metadata": {},
     "output_type": "execute_result"
    },
    {
     "data": {
      "text/plain": [
       "<Figure size 432x288 with 0 Axes>"
      ]
     },
     "metadata": {},
     "output_type": "display_data"
    },
    {
     "data": {
      "image/png": "[encoded data removed]",
      "text/plain": [
       "<Figure size 576x360 with 1 Axes>"
      ]
     },
     "metadata": {
      "needs_background": "light"
     },
     "output_type": "display_data"
    }
   ],
   "source": [
    "maxx = 4.0\n",
    "\n",
    "plt.rc('font', family='arial')\n",
    "plt.rc('xtick', labelsize='x-small')\n",
    "plt.rc('ytick', labelsize='x-small')\n",
    "    \n",
    "plt.tight_layout()\n",
    "\n",
    "fig = plt.figure(figsize=(8, 5))\n",
    "\n",
    "ax = fig.add_subplot(1, 1, 1)\n",
    "\n",
    "#bp = ax.scatter(range(1,len(MAE_xticks50)+1),MAE_list50, s = 60, color = 'black', label = 'Network A (50/50/50)')\n",
    "#bp = ax.scatter(range(1,len(MAE_xticks_MTL)+1),MAE_list_MTL, s = 60, color = 'red', label = 'Network B (MTL)')\n",
    "bp = ax.scatter(range(1,len(MAE_xticks_C)+1),MAE_list_C, s = 60, color = 'blue', label = 'Network C (MTL)')\n",
    "plt.ylim(0, 2)\n",
    "plt.xticks(range(1,len(MAE_xticks_C)+1), MAE_xticks_C, size='small', rotation = 'vertical')\n",
    "#plt.grid()\n",
    "plt.ylabel('Mean Absolute Error (% air)', fontsize = 16)\n",
    "plt.xlabel('$[O_2]$ ranges', fontsize = 16)\n",
    "plt.tick_params(labelsize=16)\n",
    "plt.legend(loc = 'upper left', fontsize = 16)\n",
    "#plt.xlim(0,9.5)\n",
    "\n",
    "\n",
    "#fig.savefig('Figures/absolute_error_for_T_boxplots.eps', format='eps', dpi=300,bbox_inches='tight')"
   ]
  },
  {
   "cell_type": "code",
   "execution_count": 175,
   "metadata": {
    "colab": {
     "base_uri": "https://localhost:8080/",
     "height": 443
    },
    "colab_type": "code",
    "id": "etGRCxNYdQXu",
    "outputId": "da4a0bc9-dd64-43fd-8d96-7753f9d333af"
   },
   "outputs": [
    {
     "name": "stderr",
     "output_type": "stream",
     "text": [
      "W0221 06:47:14.591022 4485414336 backend_ps.py:804] The PostScript backend does not support transparency; partially transparent artists will be rendered opaque.\n",
      "W0221 06:47:14.591876 4485414336 backend_ps.py:804] The PostScript backend does not support transparency; partially transparent artists will be rendered opaque.\n",
      "W0221 06:47:14.628926 4485414336 backend_ps.py:804] The PostScript backend does not support transparency; partially transparent artists will be rendered opaque.\n",
      "W0221 06:47:14.629530 4485414336 backend_ps.py:804] The PostScript backend does not support transparency; partially transparent artists will be rendered opaque.\n"
     ]
    },
    {
     "data": {
      "text/plain": [
       "<Figure size 432x288 with 0 Axes>"
      ]
     },
     "metadata": {},
     "output_type": "display_data"
    },
    {
     "data": {
      "image/png": "[encoded data removed]",
      "text/plain": [
       "<Figure size 1152x360 with 2 Axes>"
      ]
     },
     "metadata": {
      "needs_background": "light"
     },
     "output_type": "display_data"
    }
   ],
   "source": [
    "maxy = 2.0\n",
    "\n",
    "\n",
    "plt.rc('font', family='arial')\n",
    "plt.rc('xtick', labelsize='x-small')\n",
    "plt.rc('ytick', labelsize='x-small')\n",
    "    \n",
    "plt.tight_layout()\n",
    "\n",
    "fig = plt.figure(figsize=(16, 5))\n",
    "\n",
    "\n",
    "\n",
    "ax = fig.add_subplot(1, 2, 1)\n",
    "\n",
    "\n",
    "bp = ax.boxplot(MAE_boxplot_C, whis = 'range')\n",
    "ax.set_xticklabels([5, 15, 25, 35, 45])\n",
    "\n",
    "for whisker in bp['whiskers']:\n",
    "    whisker.set(color = 'black', linewidth = 2)\n",
    "for cap in bp['caps']:\n",
    "    cap.set(color = 'black', linewidth = 2)\n",
    "for box in bp['boxes']:\n",
    "    box.set(color = 'black', linewidth = 2)\n",
    "for median in bp['medians']:\n",
    "    median.set(color = 'red', linewidth = 2)\n",
    "for outl in bp['fliers']:\n",
    "    outl.set(linewidth = 0, ms = 0, mew = 1.4, markerfacecolor = 'none')\n",
    "    \n",
    "#plt.ylim(-0.2, 2.9)\n",
    "    \n",
    "#ax.text(1, 1.5, 'Value for $[O_2] = 100$ % Air', fontsize = 18)\n",
    "\n",
    "legend_elements = [\n",
    "                  Line2D([0], [0],  lw = 2, color='red', label='Network C',\n",
    "                          markerfacecolor='none', markeredgewidth=1.4, markersize=8)]\n",
    "ax.legend(handles=legend_elements, loc='upper left', fontsize = 16)\n",
    "\n",
    "plt.xticks(range(1,len(MAE_xticks_C)+1), MAE_xticks_C, size='small', rotation = 'vertical')\n",
    "\n",
    "#plt.grid()\n",
    "\n",
    "plt.ylabel('Absolute Error (% air)', fontsize = 16)\n",
    "plt.xlabel('$[O_2]$ ranges (% air)', fontsize = 16)\n",
    "plt.tick_params(labelsize=16)\n",
    "plt.ylim(-0.1,maxy)\n",
    "\n",
    "\n",
    "\n",
    "\n",
    "ax = fig.add_subplot(1, 2, 2)\n",
    "\n",
    "\n",
    "bp = ax.boxplot(MAET_boxplot_C_MTL, whis = 'range')\n",
    "ax.set_xticklabels([5, 15, 25, 35, 45])\n",
    "\n",
    "for whisker in bp['whiskers']:\n",
    "    whisker.set(color = 'black', linewidth = 2)\n",
    "for cap in bp['caps']:\n",
    "    cap.set(color = 'black', linewidth = 2)\n",
    "for box in bp['boxes']:\n",
    "    box.set(color = 'black', linewidth = 2)\n",
    "for median in bp['medians']:\n",
    "    median.set(color = 'red', linewidth = 2)\n",
    "for outl in bp['fliers']:\n",
    "    outl.set(linewidth = 0, ms = 0, mew = 1.4, markerfacecolor = 'none')\n",
    "    \n",
    "#plt.ylim(-0.2, 2.9)\n",
    "    \n",
    "#ax.text(1, 1.5, 'Value for $[O_2] = 100$ % Air', fontsize = 18)\n",
    "\n",
    "legend_elements = [\n",
    "                  Line2D([0], [0],  lw = 2, color='red', label='Network C',\n",
    "                          markerfacecolor='none', markeredgewidth=1.4, markersize=8)]\n",
    "ax.legend(handles=legend_elements, loc='upper left', fontsize = 16)\n",
    "\n",
    "plt.xticks(range(1,len(MAET_xticks_C_MTL)+1), MAET_xticks_C_MTL, size='small', rotation = 'vertical')\n",
    "\n",
    "#plt.grid()\n",
    "\n",
    "plt.ylabel('Absolute Error ($^\\circ$ C)', fontsize = 16)\n",
    "plt.xlabel('T ($^\\circ$ C)', fontsize = 16)\n",
    "plt.tick_params(labelsize=16)\n",
    "plt.ylim(-0.1,4)\n",
    "\n",
    "fig.savefig('../paper/result_theta_theta0.eps')"
   ]
  },
  {
   "cell_type": "code",
   "execution_count": 185,
   "metadata": {},
   "outputs": [
    {
     "data": {
      "text/plain": [
       "<Figure size 432x288 with 0 Axes>"
      ]
     },
     "metadata": {},
     "output_type": "display_data"
    },
    {
     "data": {
      "image/png": "[encoded data removed]",
      "text/plain": [
       "<Figure size 1152x360 with 2 Axes>"
      ]
     },
     "metadata": {
      "needs_background": "light"
     },
     "output_type": "display_data"
    }
   ],
   "source": [
    "\n",
    "    \n",
    "plt.tight_layout()\n",
    "\n",
    "fig = plt.figure(figsize=(16, 5))\n",
    "\n",
    "\n",
    "\n",
    "ax = fig.add_subplot(1, 2, 1)\n",
    "\n",
    "\n",
    "sns.distplot(MAE_boxplot_C_flat_3, color = 'gray', hist = True, label = 'AE$_{[O_2]}$ KDE',rug_kws={\"color\": \"gray\"},\n",
    "                  kde_kws={\"color\": \"k\", \"lw\": 3, \"label\": \"KDE\"},\n",
    "                   hist_kws={\"histtype\": \"bar\", \"linewidth\": 0,\n",
    "                             \"alpha\": 1, \"color\": \"gray\"})\n",
    "\n",
    "\n",
    "custom_lines = [Patch(facecolor='gray', edgecolor='gray',\n",
    "                         label='$AE_T$ KDE'),\n",
    "                Line2D([0], [0], color='blue', lw=2),\n",
    "                Line2D([0], [0], color='black', lw=2)\n",
    "                ]\n",
    "\n",
    "ax.legend(custom_lines, ['AE$_{[O_2]}$ histogram', 'MAE$_{[O_2]}$', 'AE$_{[O_2]}$ KDE'], fontsize = 16)\n",
    "\n",
    "#plt.xticks(range(1,len(neta50_O2['MAE_xticks'])+1), neta50_O2['MAE_xticks'], size='small', rotation = 'vertical')\n",
    "\n",
    "#plt.grid()\n",
    "\n",
    "plt.ylabel('Counts (normalized)', fontsize = 16)\n",
    "plt.xlabel('AE$_{[O_2]}$ (% air)', fontsize = 16)\n",
    "plt.tick_params(labelsize=16)\n",
    "plt.ylim(0, 5)\n",
    "plt.xlim(0, 5)\n",
    "\n",
    "m_ = np.mean(MAE_boxplot_C_flat_3)\n",
    "\n",
    "plt.plot([m_, m_], [0, 1.7], lw = 2, color = 'blue')\n",
    "\n",
    "\n",
    "ax = fig.add_subplot(1, 2,2)\n",
    "# MAE_boxplot_C, MAE_list_C, MAE_xticks_C\n",
    "sns.distplot(MAET_boxplot_C_MTL_flat_3,   hist = True, label = '$AE_T$ KDE',rug_kws={\"color\": \"gray\"},\n",
    "                  kde_kws={\"color\": \"k\", \"lw\": 3, \"label\": \"KDE\"},\n",
    "                   hist_kws={\"histtype\": \"bar\", \"linewidth\": 0,\n",
    "                             \"alpha\": 1, \"color\": \"lightgray\"})\n",
    "    \n",
    "#plt.ylim(-0.2, 2.9)\n",
    "    \n",
    "#ax.text(1, 1.5, 'Value for $[O_2] = 100$ % Air', fontsize = 18)\n",
    "\n",
    "plt.xlabel('$AE_T$ ($^\\circ$C)', fontsize = 16)\n",
    "plt.tick_params(labelsize=16)\n",
    "\n",
    "custom_lines = [Patch(facecolor='lightgray', edgecolor='gray',\n",
    "                         label='$AE_T$ KDE'),\n",
    "                Line2D([0], [0], color='blue', lw=2),\n",
    "                Line2D([0], [0], color='black', lw=2)\n",
    "                ]\n",
    "\n",
    "ax.legend(custom_lines, ['$AE_T$ histogram', 'MAE$_T$', '$AE_T$ KDE'], fontsize = 16)\n",
    "#ax.legend( fontsize = 16)\n",
    "plt.ylim(0, 5.0)\n",
    "plt.xlim(0, 4)\n",
    "\n",
    "m_ = np.mean(MAET_boxplot_C_MTL_flat_3)\n",
    "\n",
    "plt.plot([m_, m_], [0, 1.4], lw = 2, color = 'blue')\n",
    "\n",
    "\n",
    "plt.show()\n",
    "\n",
    "#fig.savefig('/content/gdrive/My Drive/plot3.eps', format='eps', dpi=300,bbox_inches='tight')\n",
    "\n",
    "\n",
    "\n",
    "#fig.savefig('../paper/model_20001_32_1e-3_4x50_3x15_3x15_theta90.eps', format='eps', dpi=300,bbox_inches='tight')"
   ]
  },
  {
   "cell_type": "code",
   "execution_count": 169,
   "metadata": {},
   "outputs": [
    {
     "name": "stderr",
     "output_type": "stream",
     "text": [
      "W0220 23:48:46.911154 4485414336 backend_ps.py:804] The PostScript backend does not support transparency; partially transparent artists will be rendered opaque.\n",
      "W0220 23:48:46.911773 4485414336 backend_ps.py:804] The PostScript backend does not support transparency; partially transparent artists will be rendered opaque.\n",
      "W0220 23:48:46.967643 4485414336 backend_ps.py:804] The PostScript backend does not support transparency; partially transparent artists will be rendered opaque.\n",
      "W0220 23:48:46.968425 4485414336 backend_ps.py:804] The PostScript backend does not support transparency; partially transparent artists will be rendered opaque.\n"
     ]
    },
    {
     "data": {
      "text/plain": [
       "<Figure size 432x288 with 0 Axes>"
      ]
     },
     "metadata": {},
     "output_type": "display_data"
    },
    {
     "data": {
      "image/png": "[encoded data removed]",
      "text/plain": [
       "<Figure size 1152x360 with 2 Axes>"
      ]
     },
     "metadata": {
      "needs_background": "light"
     },
     "output_type": "display_data"
    }
   ],
   "source": [
    "maxy = 2.0\n",
    "\n",
    "\n",
    "plt.rc('font', family='arial')\n",
    "plt.rc('xtick', labelsize='x-small')\n",
    "plt.rc('ytick', labelsize='x-small')\n",
    "    \n",
    "plt.tight_layout()\n",
    "\n",
    "fig = plt.figure(figsize=(16, 5))\n",
    "\n",
    "\n",
    "\n",
    "ax = fig.add_subplot(1, 2, 1)\n",
    "\n",
    "\n",
    "bp = ax.boxplot(MAE_boxplot_C, whis = 'range')\n",
    "ax.set_xticklabels([5, 15, 25, 35, 45])\n",
    "\n",
    "for whisker in bp['whiskers']:\n",
    "    whisker.set(color = 'black', linewidth = 2)\n",
    "for cap in bp['caps']:\n",
    "    cap.set(color = 'black', linewidth = 2)\n",
    "for box in bp['boxes']:\n",
    "    box.set(color = 'black', linewidth = 2)\n",
    "for median in bp['medians']:\n",
    "    median.set(color = 'red', linewidth = 2)\n",
    "for outl in bp['fliers']:\n",
    "    outl.set(linewidth = 0, ms = 0, mew = 1.4, markerfacecolor = 'none')\n",
    "    \n",
    "#plt.ylim(-0.2, 2.9)\n",
    "    \n",
    "#ax.text(1, 1.5, 'Value for $[O_2] = 100$ % Air', fontsize = 18)\n",
    "\n",
    "legend_elements = [\n",
    "                  Line2D([0], [0],  lw = 2, color='red', label='Network C',\n",
    "                          markerfacecolor='none', markeredgewidth=1.4, markersize=8)]\n",
    "ax.legend(handles=legend_elements, loc='upper left', fontsize = 16)\n",
    "\n",
    "plt.xticks(range(1,len(MAE_xticks_C)+1), MAE_xticks_C, size='small', rotation = 'vertical')\n",
    "\n",
    "#plt.grid()\n",
    "\n",
    "plt.ylabel('Absolute Error (% air)', fontsize = 16)\n",
    "plt.xlabel('$[O_2]$ ranges (% air)', fontsize = 16)\n",
    "plt.tick_params(labelsize=16)\n",
    "plt.ylim(-0.1,maxy)\n",
    "\n",
    "\n",
    "\n",
    "\n",
    "ax = fig.add_subplot(1, 2, 2)\n",
    "\n",
    "\n",
    "bp = ax.boxplot(MAET_boxplot_C_MTL_w0, whis = 'range')\n",
    "ax.set_xticklabels([5, 15, 25, 35, 45])\n",
    "\n",
    "for whisker in bp['whiskers']:\n",
    "    whisker.set(color = 'black', linewidth = 2)\n",
    "for cap in bp['caps']:\n",
    "    cap.set(color = 'black', linewidth = 2)\n",
    "for box in bp['boxes']:\n",
    "    box.set(color = 'black', linewidth = 2)\n",
    "for median in bp['medians']:\n",
    "    median.set(color = 'red', linewidth = 2)\n",
    "for outl in bp['fliers']:\n",
    "    outl.set(linewidth = 0, ms = 0, mew = 1.4, markerfacecolor = 'none')\n",
    "    \n",
    "#plt.ylim(-0.2, 2.9)\n",
    "    \n",
    "#ax.text(1, 1.5, 'Value for $[O_2] = 100$ % Air', fontsize = 18)\n",
    "\n",
    "legend_elements = [\n",
    "                  Line2D([0], [0],  lw = 2, color='red', label='Network C',\n",
    "                          markerfacecolor='none', markeredgewidth=1.4, markersize=8)]\n",
    "ax.legend(handles=legend_elements, loc='upper left', fontsize = 16)\n",
    "\n",
    "plt.xticks(range(1,len(MAET_xticks_C_MTL_w0)+1), MAET_xticks_C_MTL_w0, size='small', rotation = 'vertical')\n",
    "\n",
    "#plt.grid()\n",
    "\n",
    "plt.ylabel('Absolute Error ($^\\circ$ C)', fontsize = 16)\n",
    "plt.xlabel('T ($^\\circ$ C)', fontsize = 16)\n",
    "plt.tick_params(labelsize=16)\n",
    "plt.ylim(-0.1,10)\n",
    "\n",
    "fig.savefig('../paper/result_theta_theta0.eps')"
   ]
  },
  {
   "cell_type": "code",
   "execution_count": 147,
   "metadata": {
    "colab": {},
    "colab_type": "code",
    "id": "ZaXv4N3XPgO8"
   },
   "outputs": [],
   "source": [
    "pdo2 = pd.DataFrame({'MAE_list': MAE_list_C, 'MAE_xticks': MAE_xticks_C, 'MAE_boxplot': MAE_boxplot_C})\n",
    "pdT = pd.DataFrame({'MAET_list': MAET_list_C_MTL,'MAET_boxplot': MAET_boxplot_C_MTL, 'MAET_xticks':MAET_xticks_C_MTL})\n",
    "#pdo2.to_csv('/content/gdrive/My Drive/data/netc_O2.csv')\n",
    "#pdT.to_csv('/content/gdrive/My Drive/data/netc_T.csv')"
   ]
  },
  {
   "cell_type": "code",
   "execution_count": 176,
   "metadata": {
    "colab": {
     "base_uri": "https://localhost:8080/",
     "height": 35
    },
    "colab_type": "code",
    "id": "KqiYyQDqP2Vq",
    "outputId": "b4d2c13c-ec0c-48fc-ccd1-a8bebc36ec93"
   },
   "outputs": [
    {
     "data": {
      "text/plain": [
       "0.1280802298819315"
      ]
     },
     "execution_count": 176,
     "metadata": {},
     "output_type": "execute_result"
    }
   ],
   "source": [
    "np.mean(MAE_list_C)"
   ]
  },
  {
   "cell_type": "code",
   "execution_count": 177,
   "metadata": {
    "colab": {
     "base_uri": "https://localhost:8080/",
     "height": 35
    },
    "colab_type": "code",
    "id": "nKhkjo7Wtk_k",
    "outputId": "8aaa38bf-5b67-4c20-8468-ccde92757795"
   },
   "outputs": [
    {
     "data": {
      "text/plain": [
       "0.2369263850881598"
      ]
     },
     "execution_count": 177,
     "metadata": {},
     "output_type": "execute_result"
    }
   ],
   "source": [
    "np.mean(MAET_list_C_MTL)"
   ]
  },
  {
   "cell_type": "code",
   "execution_count": 178,
   "metadata": {
    "colab": {},
    "colab_type": "code",
    "id": "wML_1MgiIn3-"
   },
   "outputs": [],
   "source": [
    "MAE_boxplot_C_flat = [item for sublist in MAE_boxplot_C for item in sublist]\n",
    "MAET_boxplot_C_MTL_flat = [item for sublist in MAET_boxplot_C_MTL for item in sublist]\n",
    "#type(MAE_boxplot_C)"
   ]
  },
  {
   "cell_type": "code",
   "execution_count": 179,
   "metadata": {},
   "outputs": [
    {
     "data": {
      "text/plain": [
       "1.9086281955242166"
      ]
     },
     "execution_count": 179,
     "metadata": {},
     "output_type": "execute_result"
    }
   ],
   "source": [
    "np.max(MAET_boxplot_C_MTL_flat)"
   ]
  },
  {
   "cell_type": "code",
   "execution_count": 157,
   "metadata": {
    "colab": {
     "base_uri": "https://localhost:8080/",
     "height": 373
    },
    "colab_type": "code",
    "id": "o60W8avLIZmv",
    "outputId": "fc55f5e4-dd8c-4601-b26e-78067e8c34c1"
   },
   "outputs": [
    {
     "data": {
      "text/plain": [
       "<Figure size 432x288 with 0 Axes>"
      ]
     },
     "metadata": {},
     "output_type": "display_data"
    },
    {
     "data": {
      "image/png": "[encoded data removed]",
      "text/plain": [
       "<Figure size 1152x360 with 2 Axes>"
      ]
     },
     "metadata": {
      "needs_background": "light"
     },
     "output_type": "display_data"
    }
   ],
   "source": [
    "\n",
    "    \n",
    "plt.tight_layout()\n",
    "\n",
    "fig = plt.figure(figsize=(16, 5))\n",
    "\n",
    "\n",
    "\n",
    "ax = fig.add_subplot(1, 2, 1)\n",
    "\n",
    "\n",
    "sns.distplot(MAE_boxplot_C_flat, color = 'black', hist = False, label = 'AE$_{[O_2]}$ KDE')\n",
    "\n",
    "\n",
    "ax.legend( fontsize = 16)\n",
    "\n",
    "#plt.xticks(range(1,len(neta50_O2['MAE_xticks'])+1), neta50_O2['MAE_xticks'], size='small', rotation = 'vertical')\n",
    "\n",
    "#plt.grid()\n",
    "\n",
    "plt.ylabel('Counts (normalized)', fontsize = 16)\n",
    "plt.xlabel('AE$_{[O_2]}$ (% air)', fontsize = 16)\n",
    "plt.tick_params(labelsize=16)\n",
    "plt.ylim(0, 3)\n",
    "plt.xlim(0, 20)\n",
    "\n",
    "\n",
    "ax = fig.add_subplot(1, 2,2)\n",
    "# MAE_boxplot_C, MAE_list_C, MAE_xticks_C\n",
    "sns.distplot(MAET_boxplot_C_MTL_flat,  color = 'black', hist = False, label = 'Temperature KDE')\n",
    "    \n",
    "#plt.ylim(-0.2, 2.9)\n",
    "    \n",
    "#ax.text(1, 1.5, 'Value for $[O_2] = 100$ % Air', fontsize = 18)\n",
    "\n",
    "plt.xlabel('T (C)', fontsize = 16)\n",
    "plt.tick_params(labelsize=16)\n",
    "ax.legend( fontsize = 16)\n",
    "plt.ylim(0, 1.0)\n",
    "plt.xlim(0, 20)\n",
    "\n",
    "\n",
    "\n",
    "\n",
    "plt.show()\n",
    "\n",
    "#fig.savefig('/content/gdrive/My Drive/plot3.eps', format='eps', dpi=300,bbox_inches='tight')\n",
    "\n",
    "\n",
    "\n",
    "#fig.savefig('Figures/absolute_error_for_T_boxplots.eps', format='eps', dpi=300,bbox_inches='tight')"
   ]
  },
  {
   "cell_type": "markdown",
   "metadata": {},
   "source": [
    "# k-fold cross validation"
   ]
  },
  {
   "cell_type": "code",
   "execution_count": 261,
   "metadata": {},
   "outputs": [
    {
     "name": "stdout",
     "output_type": "stream",
     "text": [
      "Evaluating fold combination number 1\n",
      "Just finished epoch 0\n",
      "{'loss': 1.4292839765548706, 'both_output_loss': 0.10329197, 'O2_output_loss': 0.10224015, 'T_output_loss': 0.17741911, 'both_output_mae': 0.27193615, 'O2_output_mae': 0.26985186, 'T_output_mae': 0.34427506, 'val_loss': 1.1952961683273315, 'val_both_output_loss': 0.09990078, 'val_O2_output_loss': 0.13268225, 'val_T_output_loss': 0.10038294, 'val_both_output_mae': 0.25218692, 'val_O2_output_mae': 0.34736913, 'val_T_output_mae': 0.25369394}\n",
      "Just finished epoch 5000\n",
      "{'loss': 0.03464630991220474, 'both_output_loss': 0.0048582745, 'O2_output_loss': 0.0003040859, 'T_output_loss': 0.0063336794, 'both_output_mae': 0.041336887, 'O2_output_mae': 0.011467036, 'T_output_mae': 0.047881473, 'val_loss': 0.008282863534986973, 'val_both_output_loss': 0.002196752, 'val_O2_output_loss': 0.00049607054, 'val_T_output_loss': 0.001028697, 'val_both_output_mae': 0.03085738, 'val_O2_output_mae': 0.014105105, 'val_T_output_mae': 0.027063621}\n",
      "Just finished epoch 10000\n",
      "{'loss': 0.024788064882159233, 'both_output_loss': 0.0040031276, 'O2_output_loss': 6.619867e-05, 'T_output_loss': 0.0046512266, 'both_output_mae': 0.035789486, 'O2_output_mae': 0.005256587, 'T_output_mae': 0.032350667, 'val_loss': 0.004069549031555653, 'val_both_output_loss': 0.0013783989, 'val_O2_output_loss': 0.0001302916, 'val_T_output_loss': 0.00060091424, 'val_both_output_mae': 0.027651822, 'val_O2_output_mae': 0.007217271, 'val_T_output_mae': 0.01925407}\n",
      "Just finished epoch 15000\n",
      "{'loss': 0.02306252531707287, 'both_output_loss': 0.004068243, 'O2_output_loss': 3.1154832e-05, 'T_output_loss': 0.004337256, 'both_output_mae': 0.034946132, 'O2_output_mae': 0.0037559129, 'T_output_mae': 0.027282625, 'val_loss': 0.0034383235033601522, 'val_both_output_loss': 0.0015371381, 'val_O2_output_loss': 5.9940583e-05, 'val_T_output_loss': 0.0005354958, 'val_both_output_mae': 0.028936053, 'val_O2_output_mae': 0.004229949, 'val_T_output_mae': 0.016346848}\n"
     ]
    },
    {
     "name": "stderr",
     "output_type": "stream",
     "text": [
      "/Users/umberto/Python-Environments/tfenv2/lib/python3.7/site-packages/numpy/core/fromnumeric.py:3118: RuntimeWarning: Mean of empty slice.\n",
      "  out=out, **kwargs)\n",
      "/Users/umberto/Python-Environments/tfenv2/lib/python3.7/site-packages/numpy/core/_methods.py:85: RuntimeWarning: invalid value encountered in double_scalars\n",
      "  ret = ret.dtype.type(ret / rcount)\n"
     ]
    },
    {
     "name": "stdout",
     "output_type": "stream",
     "text": [
      "Mean AE_[O2] 0.18081506797626737\n",
      "Mean AE_T    0.8919845226462454\n",
      "Max  AE_[O2] 0.9931218624114946\n",
      "Max  AE_T    3.4086027741432186\n",
      "Evaluating fold combination number 2\n",
      "Just finished epoch 0\n",
      "{'loss': 1.529355764389038, 'both_output_loss': 0.105253935, 'O2_output_loss': 0.14040847, 'T_output_loss': 0.15914744, 'both_output_mae': 0.274402, 'O2_output_mae': 0.307673, 'T_output_mae': 0.32643405, 'val_loss': 2.014242649078369, 'val_both_output_loss': 0.116922475, 'val_O2_output_loss': 0.17152621, 'val_T_output_loss': 0.22430696, 'val_both_output_mae': 0.2703353, 'val_O2_output_mae': 0.36253193, 'val_T_output_mae': 0.3853756}\n",
      "Just finished epoch 5000\n",
      "{'loss': 0.02990422025322914, 'both_output_loss': 0.0042009866, 'O2_output_loss': 0.00031883243, 'T_output_loss': 0.0054099523, 'both_output_mae': 0.03735191, 'O2_output_mae': 0.011189758, 'T_output_mae': 0.039169036, 'val_loss': 0.015123171731829643, 'val_both_output_loss': 0.0019369985, 'val_O2_output_loss': 0.00045859872, 'val_T_output_loss': 0.0024498156, 'val_both_output_mae': 0.03207247, 'val_O2_output_mae': 0.014879324, 'val_T_output_mae': 0.040751368}\n",
      "Just finished epoch 10000\n",
      "{'loss': 0.02299674041569233, 'both_output_loss': 0.0037792858, 'O2_output_loss': 5.203362e-05, 'T_output_loss': 0.004320557, 'both_output_mae': 0.03194265, 'O2_output_mae': 0.004609256, 'T_output_mae': 0.02637609, 'val_loss': 0.004944795276969671, 'val_both_output_loss': 0.0013263443, 'val_O2_output_loss': 6.80149e-05, 'val_T_output_loss': 0.0008413635, 'val_both_output_mae': 0.02579744, 'val_O2_output_mae': 0.004451833, 'val_T_output_mae': 0.024512336}\n",
      "Just finished epoch 15000\n",
      "{'loss': 0.022473592311143875, 'both_output_loss': 0.0034608138, 'O2_output_loss': 2.3812341e-05, 'T_output_loss': 0.004263257, 'both_output_mae': 0.028552186, 'O2_output_mae': 0.0034165843, 'T_output_mae': 0.02550163, 'val_loss': 0.003579120384529233, 'val_both_output_loss': 0.0012514476, 'val_O2_output_loss': 4.3288375e-05, 'val_T_output_loss': 0.00059744884, 'val_both_output_mae': 0.023953935, 'val_O2_output_mae': 0.004260147, 'val_T_output_mae': 0.020821396}\n",
      "Mean AE_[O2] 0.2481429516405294\n",
      "Mean AE_T    0.8975860547806545\n",
      "Max  AE_[O2] 1.241168975830076\n",
      "Max  AE_T    2.121713161468506\n",
      "Evaluating fold combination number 3\n",
      "Just finished epoch 0\n",
      "{'loss': 0.9715726971626282, 'both_output_loss': 0.10957503, 'O2_output_loss': 0.10063557, 'T_output_loss': 0.08710446, 'both_output_mae': 0.27711728, 'O2_output_mae': 0.27274814, 'T_output_mae': 0.25631386, 'val_loss': 0.5872246623039246, 'val_both_output_loss': 0.06949688, 'val_O2_output_loss': 0.06343838, 'val_T_output_loss': 0.049836744, 'val_both_output_mae': 0.22191003, 'val_O2_output_mae': 0.19488181, 'val_T_output_mae': 0.1858778}\n",
      "Just finished epoch 5000\n",
      "{'loss': 0.03835897147655487, 'both_output_loss': 0.0051498255, 'O2_output_loss': 0.00031716953, 'T_output_loss': 0.0070456355, 'both_output_mae': 0.040164948, 'O2_output_mae': 0.012676698, 'T_output_mae': 0.051115848, 'val_loss': 0.013249984011054039, 'val_both_output_loss': 0.004004249, 'val_O2_output_loss': 0.00014224247, 'val_T_output_loss': 0.0022674995, 'val_both_output_mae': 0.037780106, 'val_O2_output_mae': 0.009498069, 'val_T_output_mae': 0.036974303}\n",
      "Just finished epoch 10000\n",
      "{'loss': 0.028517523780465126, 'both_output_loss': 0.0043155183, 'O2_output_loss': 6.3633124e-05, 'T_output_loss': 0.0053809406, 'both_output_mae': 0.03630845, 'O2_output_mae': 0.0056602405, 'T_output_mae': 0.03907449, 'val_loss': 0.009588010609149933, 'val_both_output_loss': 0.0038236484, 'val_O2_output_loss': 4.0073228e-05, 'val_T_output_loss': 0.00164811, 'val_both_output_mae': 0.033997994, 'val_O2_output_mae': 0.005115244, 'val_T_output_mae': 0.026146758}\n",
      "Just finished epoch 15000\n",
      "{'loss': 0.026622721925377846, 'both_output_loss': 0.004270631, 'O2_output_loss': 2.8796707e-05, 'T_output_loss': 0.00503951, 'both_output_mae': 0.036208443, 'O2_output_mae': 0.0039837584, 'T_output_mae': 0.034996904, 'val_loss': 0.006064540706574917, 'val_both_output_loss': 0.0037958857, 'val_O2_output_loss': 2.4272656e-05, 'val_T_output_loss': 0.00096088235, 'val_both_output_mae': 0.034838926, 'val_O2_output_mae': 0.0038433585, 'val_T_output_mae': 0.02015804}\n",
      "Mean AE_[O2] 0.2851519792877281\n",
      "Mean AE_T    0.833324495176173\n",
      "Max  AE_[O2] 1.4112520217895552\n",
      "Max  AE_T    1.6914203763008113\n",
      "Evaluating fold combination number 4\n",
      "Just finished epoch 0\n",
      "{'loss': 0.9565720558166504, 'both_output_loss': 0.10169151, 'O2_output_loss': 0.09972624, 'T_output_loss': 0.08548668, 'both_output_mae': 0.27097014, 'O2_output_mae': 0.27062625, 'T_output_mae': 0.2528366, 'val_loss': 0.9119342565536499, 'val_both_output_loss': 0.09447554, 'val_O2_output_loss': 0.08954772, 'val_T_output_loss': 0.087170586, 'val_both_output_mae': 0.25853723, 'val_O2_output_mae': 0.24088925, 'val_T_output_mae': 0.2470453}\n",
      "Just finished epoch 5000\n",
      "{'loss': 0.03276197984814644, 'both_output_loss': 0.005325787, 'O2_output_loss': 0.00021867425, 'T_output_loss': 0.0060141743, 'both_output_mae': 0.045965172, 'O2_output_mae': 0.00942937, 'T_output_mae': 0.044958215, 'val_loss': 0.046646617352962494, 'val_both_output_loss': 0.009172514, 'val_O2_output_loss': 0.00024933618, 'val_T_output_loss': 0.008529636, 'val_both_output_mae': 0.051629093, 'val_O2_output_mae': 0.011149273, 'val_T_output_mae': 0.05565085}\n",
      "Just finished epoch 10000\n",
      "{'loss': 0.027233736589550972, 'both_output_loss': 0.0032262488, 'O2_output_loss': 6.5810375e-05, 'T_output_loss': 0.005187362, 'both_output_mae': 0.02871004, 'O2_output_mae': 0.005320545, 'T_output_mae': 0.03965864, 'val_loss': 0.01776120439171791, 'val_both_output_loss': 0.0046173264, 'val_O2_output_loss': 7.672644e-05, 'val_T_output_loss': 0.003198475, 'val_both_output_mae': 0.034681827, 'val_O2_output_mae': 0.006207928, 'val_T_output_mae': 0.033559565}\n",
      "Just finished epoch 15000\n",
      "{'loss': 0.027891770005226135, 'both_output_loss': 0.0031030676, 'O2_output_loss': 4.2540727e-05, 'T_output_loss': 0.0053496296, 'both_output_mae': 0.028484296, 'O2_output_mae': 0.0044824965, 'T_output_mae': 0.04080166, 'val_loss': 0.012001095339655876, 'val_both_output_loss': 0.0036050477, 'val_O2_output_loss': 5.0988987e-05, 'val_T_output_loss': 0.0021329273, 'val_both_output_mae': 0.03200033, 'val_O2_output_mae': 0.005051768, 'val_T_output_mae': 0.028714415}\n",
      "Mean AE_[O2] 0.40836062741606133\n",
      "Mean AE_T    1.7302828948494517\n",
      "Max  AE_[O2] 1.2110638618469283\n",
      "Max  AE_T    6.811241805553436\n",
      "Evaluating fold combination number 5\n",
      "Just finished epoch 0\n",
      "{'loss': 1.0964754819869995, 'both_output_loss': 0.09335206, 'O2_output_loss': 0.09003038, 'T_output_loss': 0.1236636, 'both_output_mae': 0.26106727, 'O2_output_mae': 0.25920162, 'T_output_mae': 0.29199314, 'val_loss': 1.0568382740020752, 'val_both_output_loss': 0.10844184, 'val_O2_output_loss': 0.11411668, 'val_T_output_loss': 0.09074447, 'val_both_output_mae': 0.29369858, 'val_O2_output_mae': 0.30509323, 'val_T_output_mae': 0.2417936}\n",
      "Just finished epoch 5000\n",
      "{'loss': 0.052101220935583115, 'both_output_loss': 0.007978448, 'O2_output_loss': 0.00027172625, 'T_output_loss': 0.009669811, 'both_output_mae': 0.057253096, 'O2_output_mae': 0.011537409, 'T_output_mae': 0.064796574, 'val_loss': 0.02087940275669098, 'val_both_output_loss': 0.008355842, 'val_O2_output_loss': 0.00055266963, 'val_T_output_loss': 0.00312186, 'val_both_output_mae': 0.061850112, 'val_O2_output_mae': 0.014608944, 'val_T_output_mae': 0.036593586}\n",
      "Just finished epoch 10000\n",
      "{'loss': 0.03225403279066086, 'both_output_loss': 0.005128277, 'O2_output_loss': 8.268091e-05, 'T_output_loss': 0.0060604294, 'both_output_mae': 0.039273944, 'O2_output_mae': 0.0061408314, 'T_output_mae': 0.044227924, 'val_loss': 0.008685505017638206, 'val_both_output_loss': 0.0044554053, 'val_O2_output_loss': 0.00025082915, 'val_T_output_loss': 0.0012189476, 'val_both_output_mae': 0.037520923, 'val_O2_output_mae': 0.0117765125, 'val_T_output_mae': 0.025497606}\n",
      "Just finished epoch 15000\n",
      "{'loss': 0.029585178941488266, 'both_output_loss': 0.0048826663, 'O2_output_loss': 4.976453e-05, 'T_output_loss': 0.005574311, 'both_output_mae': 0.039521746, 'O2_output_mae': 0.0050117, 'T_output_mae': 0.039778445, 'val_loss': 0.008311256766319275, 'val_both_output_loss': 0.0037686261, 'val_O2_output_loss': 0.00014993898, 'val_T_output_loss': 0.0012861948, 'val_both_output_mae': 0.036564916, 'val_O2_output_mae': 0.0093530705, 'val_T_output_mae': 0.024252178}\n",
      "Mean AE_[O2] 0.38150012008542816\n",
      "Mean AE_T    1.770491864033092\n",
      "Max  AE_[O2] 0.9584994614124293\n",
      "Max  AE_T    6.00016474723816\n",
      "Evaluating fold combination number 6\n",
      "Just finished epoch 0\n",
      "{'loss': 0.954870343208313, 'both_output_loss': 0.09976038, 'O2_output_loss': 0.095086455, 'T_output_loss': 0.08990199, 'both_output_mae': 0.2685846, 'O2_output_mae': 0.26433244, 'T_output_mae': 0.25789997, 'val_loss': 0.8546952605247498, 'val_both_output_loss': 0.076415464, 'val_O2_output_loss': 0.11935065, 'val_T_output_loss': 0.047003474, 'val_both_output_mae': 0.2256154, 'val_O2_output_mae': 0.31075773, 'val_T_output_mae': 0.18293214}\n",
      "Just finished epoch 5000\n",
      "{'loss': 0.033808182924985886, 'both_output_loss': 0.0050487667, 'O2_output_loss': 0.00027320112, 'T_output_loss': 0.0061855097, 'both_output_mae': 0.039858516, 'O2_output_mae': 0.010693885, 'T_output_mae': 0.046269488, 'val_loss': 0.01468799076974392, 'val_both_output_loss': 0.0016712461, 'val_O2_output_loss': 0.00020780113, 'val_T_output_loss': 0.0026295222, 'val_both_output_mae': 0.028393427, 'val_O2_output_mae': 0.008694699, 'val_T_output_mae': 0.038419038}\n",
      "Just finished epoch 10000\n",
      "{'loss': 0.028205765411257744, 'both_output_loss': 0.0038605374, 'O2_output_loss': 7.5600175e-05, 'T_output_loss': 0.0053339205, 'both_output_mae': 0.03424593, 'O2_output_mae': 0.0056697275, 'T_output_mae': 0.04009979, 'val_loss': 0.025409230962395668, 'val_both_output_loss': 0.0019678967, 'val_O2_output_loss': 3.649695e-05, 'val_T_output_loss': 0.0049272752, 'val_both_output_mae': 0.024715602, 'val_O2_output_mae': 0.004259862, 'val_T_output_mae': 0.049406033}\n",
      "Just finished epoch 15000\n",
      "{'loss': 0.0268650334328413, 'both_output_loss': 0.0037631458, 'O2_output_loss': 4.7157973e-05, 'T_output_loss': 0.00510006, 'both_output_mae': 0.03399045, 'O2_output_mae': 0.004773032, 'T_output_mae': 0.037757087, 'val_loss': 0.025790438055992126, 'val_both_output_loss': 0.0020080563, 'val_O2_output_loss': 1.9124785e-05, 'val_T_output_loss': 0.005018479, 'val_both_output_mae': 0.025266265, 'val_O2_output_mae': 0.0036087052, 'val_T_output_mae': 0.04762914}\n",
      "Mean AE_[O2] 0.22494388041117258\n",
      "Mean AE_T    1.590710004359506\n",
      "Max  AE_[O2] 0.6950516253709793\n",
      "Max  AE_T    4.955916702747343\n",
      "Evaluating fold combination number 7\n",
      "Just finished epoch 0\n",
      "{'loss': 1.08987295627594, 'both_output_loss': 0.09533709, 'O2_output_loss': 0.12739338, 'T_output_loss': 0.084860995, 'both_output_mae': 0.2617915, 'O2_output_mae': 0.2946976, 'T_output_mae': 0.25289094, 'val_loss': 1.1559429168701172, 'val_both_output_loss': 0.1015206, 'val_O2_output_loss': 0.1764647, 'val_T_output_loss': 0.048632637, 'val_both_output_mae': 0.277123, 'val_O2_output_mae': 0.36442527, 'val_T_output_mae': 0.19070007}\n",
      "Just finished epoch 5000\n",
      "{'loss': 0.028528476133942604, 'both_output_loss': 0.0043963115, 'O2_output_loss': 0.00026608718, 'T_output_loss': 0.0051758294, 'both_output_mae': 0.035993345, 'O2_output_mae': 0.010241395, 'T_output_mae': 0.040229872, 'val_loss': 0.04392961785197258, 'val_both_output_loss': 0.0052776947, 'val_O2_output_loss': 0.00034681003, 'val_T_output_loss': 0.008122452, 'val_both_output_mae': 0.03810947, 'val_O2_output_mae': 0.01482131, 'val_T_output_mae': 0.049850322}\n",
      "Just finished epoch 10000\n",
      "{'loss': 0.02782774344086647, 'both_output_loss': 0.003993944, 'O2_output_loss': 5.6660723e-05, 'T_output_loss': 0.0052692513, 'both_output_mae': 0.03473425, 'O2_output_mae': 0.005110807, 'T_output_mae': 0.040403996, 'val_loss': 0.07503918558359146, 'val_both_output_loss': 0.005469691, 'val_O2_output_loss': 6.677361e-05, 'val_T_output_loss': 0.0146128815, 'val_both_output_mae': 0.039054677, 'val_O2_output_mae': 0.006928736, 'val_T_output_mae': 0.06922907}\n",
      "Just finished epoch 15000\n",
      "{'loss': 0.022976301610469818, 'both_output_loss': 0.0037597935, 'O2_output_loss': 2.6897844e-05, 'T_output_loss': 0.004342775, 'both_output_mae': 0.03304774, 'O2_output_mae': 0.0037588656, 'T_output_mae': 0.02933552, 'val_loss': 0.025972414761781693, 'val_both_output_loss': 0.005195695, 'val_O2_output_loss': 3.2241856e-05, 'val_T_output_loss': 0.0048504993, 'val_both_output_mae': 0.04221762, 'val_O2_output_mae': 0.0044503845, 'val_T_output_mae': 0.03440721}\n",
      "Mean AE_[O2] 0.43314389730279507\n",
      "Mean AE_T    1.1999412570183692\n",
      "Max  AE_[O2] 1.224462985992436\n",
      "Max  AE_T    10.799101293087006\n",
      "Evaluating fold combination number 8\n",
      "Just finished epoch 0\n",
      "{'loss': 1.564719796180725, 'both_output_loss': 0.13185972, 'O2_output_loss': 0.1383223, 'T_output_loss': 0.16671008, 'both_output_mae': 0.2996302, 'O2_output_mae': 0.30482632, 'T_output_mae': 0.33556437, 'val_loss': 1.0828006267547607, 'val_both_output_loss': 0.11216193, 'val_O2_output_loss': 0.14894222, 'val_T_output_loss': 0.06088819, 'val_both_output_mae': 0.26392192, 'val_O2_output_mae': 0.3548613, 'val_T_output_mae': 0.22418155}\n",
      "Just finished epoch 5000\n",
      "{'loss': 0.05147808790206909, 'both_output_loss': 0.008566011, 'O2_output_loss': 0.0005135634, 'T_output_loss': 0.009268093, 'both_output_mae': 0.06386359, 'O2_output_mae': 0.014991334, 'T_output_mae': 0.06343577, 'val_loss': 0.015730079263448715, 'val_both_output_loss': 0.006213598, 'val_O2_output_loss': 0.00027446638, 'val_T_output_loss': 0.0024987336, 'val_both_output_mae': 0.061642677, 'val_O2_output_mae': 0.011312386, 'val_T_output_mae': 0.04107477}\n",
      "Just finished epoch 10000\n",
      "{'loss': 0.031813059002161026, 'both_output_loss': 0.003943382, 'O2_output_loss': 6.9289395e-05, 'T_output_loss': 0.0060567195, 'both_output_mae': 0.033187713, 'O2_output_mae': 0.005796706, 'T_output_mae': 0.04523295, 'val_loss': 0.011122284457087517, 'val_both_output_loss': 0.0016327893, 'val_O2_output_loss': 7.3826195e-05, 'val_T_output_loss': 0.0020526634, 'val_both_output_mae': 0.029795583, 'val_O2_output_mae': 0.007244923, 'val_T_output_mae': 0.035207696}\n",
      "Just finished epoch 15000\n",
      "{'loss': 0.028441328555345535, 'both_output_loss': 0.003923087, 'O2_output_loss': 3.3887576e-05, 'T_output_loss': 0.0054189926, 'both_output_mae': 0.0341546, 'O2_output_mae': 0.0044207475, 'T_output_mae': 0.0395752, 'val_loss': 0.00822250172495842, 'val_both_output_loss': 0.0010477327, 'val_O2_output_loss': 5.7873876e-05, 'val_T_output_loss': 0.0015237626, 'val_both_output_mae': 0.02577408, 'val_O2_output_mae': 0.0062209745, 'val_T_output_mae': 0.029949011}\n",
      "Mean AE_[O2] 0.4922767151270468\n",
      "Mean AE_T    0.981418399023999\n",
      "Max  AE_[O2] 1.193503141403196\n",
      "Max  AE_T    2.8931593894958496\n",
      "Evaluating fold combination number 9\n",
      "Just finished epoch 0\n",
      "{'loss': 0.9122164845466614, 'both_output_loss': 0.12723711, 'O2_output_loss': 0.093309596, 'T_output_loss': 0.08149948, 'both_output_mae': 0.29558986, 'O2_output_mae': 0.26357642, 'T_output_mae': 0.24617575, 'val_loss': 1.108799695968628, 'val_both_output_loss': 0.131354, 'val_O2_output_loss': 0.08997386, 'val_T_output_loss': 0.12390483, 'val_both_output_mae': 0.28697303, 'val_O2_output_mae': 0.2548464, 'val_T_output_mae': 0.33413586}\n",
      "Just finished epoch 5000\n",
      "{'loss': 0.04303720220923424, 'both_output_loss': 0.0062778145, 'O2_output_loss': 0.00038294896, 'T_output_loss': 0.007847822, 'both_output_mae': 0.049014933, 'O2_output_mae': 0.013138073, 'T_output_mae': 0.055186644, 'val_loss': 0.02812959998846054, 'val_both_output_loss': 0.007845083, 'val_O2_output_loss': 0.00017271176, 'val_T_output_loss': 0.004982503, 'val_both_output_mae': 0.06122934, 'val_O2_output_mae': 0.009364549, 'val_T_output_mae': 0.057872225}\n",
      "Just finished epoch 10000\n",
      "{'loss': 0.03119748830795288, 'both_output_loss': 0.0042319577, 'O2_output_loss': 0.00011976133, 'T_output_loss': 0.005865819, 'both_output_mae': 0.03525676, 'O2_output_mae': 0.0068566254, 'T_output_mae': 0.043834355, 'val_loss': 0.016508692875504494, 'val_both_output_loss': 0.0044160085, 'val_O2_output_loss': 5.5723795e-05, 'val_T_output_loss': 0.0029810544, 'val_both_output_mae': 0.04321286, 'val_O2_output_mae': 0.006225722, 'val_T_output_mae': 0.04746962}\n",
      "Just finished epoch 15000\n",
      "{'loss': 0.030029380694031715, 'both_output_loss': 0.0040455903, 'O2_output_loss': 7.560644e-05, 'T_output_loss': 0.0056875343, 'both_output_mae': 0.035233323, 'O2_output_mae': 0.006017904, 'T_output_mae': 0.04228285, 'val_loss': 0.025480356067419052, 'val_both_output_loss': 0.0049528675, 'val_O2_output_loss': 4.6655732e-05, 'val_T_output_loss': 0.0047522434, 'val_both_output_mae': 0.045767803, 'val_O2_output_mae': 0.0056936922, 'val_T_output_mae': 0.0588152}\n",
      "Mean AE_[O2] 0.4632365116417801\n",
      "Mean AE_T    1.4293420597716093\n",
      "Max  AE_[O2] 1.0320985317230247\n",
      "Max  AE_T    3.33897203207016\n",
      "Evaluating fold combination number 10\n",
      "Just finished epoch 0\n",
      "{'loss': 1.1781084537506104, 'both_output_loss': 0.09639645, 'O2_output_loss': 0.09234272, 'T_output_loss': 0.13749518, 'both_output_mae': 0.26418456, 'O2_output_mae': 0.2638517, 'T_output_mae': 0.3055182, 'val_loss': 0.5840802788734436, 'val_both_output_loss': 0.094977945, 'val_O2_output_loss': 0.08129729, 'val_T_output_loss': 0.029820088, 'val_both_output_mae': 0.26773256, 'val_O2_output_mae': 0.23461863, 'val_T_output_mae': 0.13169077}\n",
      "Just finished epoch 5000\n",
      "{'loss': 0.04981791600584984, 'both_output_loss': 0.008904324, 'O2_output_loss': 0.0003391508, 'T_output_loss': 0.009090173, 'both_output_mae': 0.06199421, 'O2_output_mae': 0.012310262, 'T_output_mae': 0.061243527, 'val_loss': 0.024468056857585907, 'val_both_output_loss': 0.00920567, 'val_O2_output_loss': 0.00044415728, 'val_T_output_loss': 0.003897114, 'val_both_output_mae': 0.07253393, 'val_O2_output_mae': 0.014672393, 'val_T_output_mae': 0.05313464}\n",
      "Just finished epoch 10000\n",
      "{'loss': 0.027592668309807777, 'both_output_loss': 0.0036549945, 'O2_output_loss': 8.069794e-05, 'T_output_loss': 0.005218536, 'both_output_mae': 0.030406455, 'O2_output_mae': 0.0063536763, 'T_output_mae': 0.03988821, 'val_loss': 0.008228961378335953, 'val_both_output_loss': 0.0022889902, 'val_O2_output_loss': 0.000103480204, 'val_T_output_loss': 0.0014049725, 'val_both_output_mae': 0.03267579, 'val_O2_output_mae': 0.0055278135, 'val_T_output_mae': 0.032275833}\n",
      "Just finished epoch 15000\n",
      "{'loss': 0.027612369507551193, 'both_output_loss': 0.0031433727, 'O2_output_loss': 5.6140103e-05, 'T_output_loss': 0.0052777315, 'both_output_mae': 0.027587354, 'O2_output_mae': 0.005632583, 'T_output_mae': 0.041554593, 'val_loss': 0.012320046313107014, 'val_both_output_loss': 0.0020828596, 'val_O2_output_loss': 8.201586e-05, 'val_T_output_loss': 0.0022570218, 'val_both_output_mae': 0.029403681, 'val_O2_output_mae': 0.005689196, 'val_T_output_mae': 0.038891427}\n",
      "Mean AE_[O2] 0.26380701252707794\n",
      "Mean AE_T    1.7794269827524871\n",
      "Max  AE_[O2] 0.7706689834594771\n",
      "Max  AE_T    4.600098803639412\n",
      "Evaluating fold combination number 11\n",
      "Just finished epoch 0\n",
      "{'loss': 1.0370543003082275, 'both_output_loss': 0.08615891, 'O2_output_loss': 0.109892085, 'T_output_loss': 0.09234925, 'both_output_mae': 0.25301138, 'O2_output_mae': 0.28041866, 'T_output_mae': 0.25467163, 'val_loss': 1.3417857885360718, 'val_both_output_loss': 0.10342646, 'val_O2_output_loss': 0.06710573, 'val_T_output_loss': 0.19504584, 'val_both_output_mae': 0.2937711, 'val_O2_output_mae': 0.22505057, 'val_T_output_mae': 0.4262364}\n",
      "Just finished epoch 5000\n",
      "{'loss': 0.024878064170479774, 'both_output_loss': 0.0040941867, 'O2_output_loss': 0.00024783832, 'T_output_loss': 0.004482123, 'both_output_mae': 0.038763434, 'O2_output_mae': 0.010348679, 'T_output_mae': 0.042695466, 'val_loss': 0.2694285809993744, 'val_both_output_loss': 0.02454113, 'val_O2_output_loss': 0.00035557745, 'val_T_output_loss': 0.052057672, 'val_both_output_mae': 0.076306805, 'val_O2_output_mae': 0.01405126, 'val_T_output_mae': 0.12623774}\n",
      "Just finished epoch 10000\n",
      "{'loss': 0.016394589096307755, 'both_output_loss': 0.003040576, 'O2_output_loss': 7.716428e-05, 'T_output_loss': 0.003019319, 'both_output_mae': 0.031605184, 'O2_output_mae': 0.005776398, 'T_output_mae': 0.029810708, 'val_loss': 0.21641238033771515, 'val_both_output_loss': 0.022280868, 'val_O2_output_loss': 0.000108395514, 'val_T_output_loss': 0.041837227, 'val_both_output_mae': 0.07159925, 'val_O2_output_mae': 0.007206669, 'val_T_output_mae': 0.10983048}\n",
      "Just finished epoch 15000\n",
      "{'loss': 0.015874186530709267, 'both_output_loss': 0.0030139366, 'O2_output_loss': 4.6387227e-05, 'T_output_loss': 0.0029476138, 'both_output_mae': 0.030842846, 'O2_output_mae': 0.0047129053, 'T_output_mae': 0.029155627, 'val_loss': 0.185759499669075, 'val_both_output_loss': 0.020759478, 'val_O2_output_loss': 5.8058118e-05, 'val_T_output_loss': 0.03584827, 'val_both_output_mae': 0.07093251, 'val_O2_output_mae': 0.005205892, 'val_T_output_mae': 0.10393356}\n",
      "Mean AE_[O2] 0.663255986245658\n",
      "Mean AE_T    4.172425461512013\n",
      "Max  AE_[O2] 1.2212819419801235\n",
      "Max  AE_T    27.697801589965817\n",
      "Evaluating fold combination number 12\n",
      "Just finished epoch 0\n",
      "{'loss': 0.8891453146934509, 'both_output_loss': 0.09543338, 'O2_output_loss': 0.091041215, 'T_output_loss': 0.08106185, 'both_output_mae': 0.2641793, 'O2_output_mae': 0.2613167, 'T_output_mae': 0.24538247, 'val_loss': 1.0440618991851807, 'val_both_output_loss': 0.0987702, 'val_O2_output_loss': 0.10028217, 'val_T_output_loss': 0.10260398, 'val_both_output_mae': 0.25518453, 'val_O2_output_mae': 0.2745304, 'val_T_output_mae': 0.28924954}\n",
      "Just finished epoch 5000\n",
      "{'loss': 0.04172268882393837, 'both_output_loss': 0.007630934, 'O2_output_loss': 0.0005149777, 'T_output_loss': 0.007371704, 'both_output_mae': 0.05842413, 'O2_output_mae': 0.016130125, 'T_output_mae': 0.05195563, 'val_loss': 0.06156611442565918, 'val_both_output_loss': 0.010083884, 'val_O2_output_loss': 0.0008000264, 'val_T_output_loss': 0.010908163, 'val_both_output_mae': 0.06909848, 'val_O2_output_mae': 0.02121308, 'val_T_output_mae': 0.06703594}\n",
      "Just finished epoch 10000\n",
      "{'loss': 0.02631303109228611, 'both_output_loss': 0.003975717, 'O2_output_loss': 0.00012792373, 'T_output_loss': 0.0048961393, 'both_output_mae': 0.03453717, 'O2_output_mae': 0.007894954, 'T_output_mae': 0.03837428, 'val_loss': 0.06459591537714005, 'val_both_output_loss': 0.006154554, 'val_O2_output_loss': 0.00018633371, 'val_T_output_loss': 0.012363576, 'val_both_output_mae': 0.046870034, 'val_O2_output_mae': 0.009219918, 'val_T_output_mae': 0.06730379}\n",
      "Just finished epoch 15000\n",
      "{'loss': 0.026202239096164703, 'both_output_loss': 0.003790851, 'O2_output_loss': 6.473438e-05, 'T_output_loss': 0.0049482626, 'both_output_mae': 0.03486995, 'O2_output_mae': 0.0055129384, 'T_output_mae': 0.038400423, 'val_loss': 0.07834913581609726, 'val_both_output_loss': 0.006582854, 'val_O2_output_loss': 0.00010985597, 'val_T_output_loss': 0.015164999, 'val_both_output_mae': 0.04980797, 'val_O2_output_mae': 0.007635626, 'val_T_output_mae': 0.07279398}\n",
      "Mean AE_[O2] 0.5483980230370851\n",
      "Mean AE_T    4.672701996452849\n",
      "Max  AE_[O2] 1.202670335769651\n",
      "Max  AE_T    16.755686700344086\n",
      "Evaluating fold combination number 13\n",
      "Just finished epoch 0\n",
      "{'loss': 1.2033228874206543, 'both_output_loss': 0.09196626, 'O2_output_loss': 0.10836599, 'T_output_loss': 0.1267806, 'both_output_mae': 0.2624998, 'O2_output_mae': 0.27850583, 'T_output_mae': 0.28988475, 'val_loss': 1.4982929229736328, 'val_both_output_loss': 0.054425366, 'val_O2_output_loss': 0.11195032, 'val_T_output_loss': 0.18444273, 'val_both_output_mae': 0.19643736, 'val_O2_output_mae': 0.27494982, 'val_T_output_mae': 0.3680434}\n",
      "Just finished epoch 5000\n",
      "{'loss': 0.03546768054366112, 'both_output_loss': 0.005928312, 'O2_output_loss': 0.00037246538, 'T_output_loss': 0.006365372, 'both_output_mae': 0.04733323, 'O2_output_mae': 0.013154894, 'T_output_mae': 0.04840788, 'val_loss': 0.0143746854737401, 'val_both_output_loss': 0.0030895306, 'val_O2_output_loss': 0.00033253775, 'val_T_output_loss': 0.0023570275, 'val_both_output_mae': 0.03591657, 'val_O2_output_mae': 0.012948159, 'val_T_output_mae': 0.03224578}\n",
      "Just finished epoch 10000\n",
      "{'loss': 0.027664463967084885, 'both_output_loss': 0.0033741489, 'O2_output_loss': 8.799107e-05, 'T_output_loss': 0.005242453, 'both_output_mae': 0.029530946, 'O2_output_mae': 0.005997339, 'T_output_mae': 0.040363975, 'val_loss': 0.009771149605512619, 'val_both_output_loss': 0.0012218211, 'val_O2_output_loss': 6.5963985e-05, 'val_T_output_loss': 0.0018149565, 'val_both_output_mae': 0.025727468, 'val_O2_output_mae': 0.005634194, 'val_T_output_mae': 0.031876884}\n",
      "Just finished epoch 15000\n",
      "{'loss': 0.02732911892235279, 'both_output_loss': 0.0031697247, 'O2_output_loss': 5.1771396e-05, 'T_output_loss': 0.005223869, 'both_output_mae': 0.029044174, 'O2_output_mae': 0.0049279644, 'T_output_mae': 0.040448993, 'val_loss': 0.00946803018450737, 'val_both_output_loss': 0.0010676396, 'val_O2_output_loss': 6.6454195e-05, 'val_T_output_loss': 0.0017630934, 'val_both_output_mae': 0.023683356, 'val_O2_output_mae': 0.0055822954, 'val_T_output_mae': 0.03355724}\n",
      "Mean AE_[O2] 0.4482670098740533\n",
      "Mean AE_T    1.2327903257277204\n",
      "Max  AE_[O2] 2.2778844833374\n",
      "Max  AE_T    3.6268508434295654\n",
      "Evaluating fold combination number 14\n",
      "Just finished epoch 0\n",
      "{'loss': 1.5893447399139404, 'both_output_loss': 0.090184726, 'O2_output_loss': 0.1117296, 'T_output_loss': 0.20072827, 'both_output_mae': 0.2573808, 'O2_output_mae': 0.2828434, 'T_output_mae': 0.36720824, 'val_loss': 1.3653568029403687, 'val_both_output_loss': 0.09092532, 'val_O2_output_loss': 0.06698943, 'val_T_output_loss': 0.20062642, 'val_both_output_mae': 0.2782076, 'val_O2_output_mae': 0.21008223, 'val_T_output_mae': 0.34919694}\n",
      "Just finished epoch 5000\n",
      "{'loss': 0.029980221763253212, 'both_output_loss': 0.0035814862, 'O2_output_loss': 0.00024311082, 'T_output_loss': 0.0055380445, 'both_output_mae': 0.02926064, 'O2_output_mae': 0.0097942045, 'T_output_mae': 0.042445663, 'val_loss': 0.014971209689974785, 'val_both_output_loss': 0.0015638226, 'val_O2_output_loss': 0.000112026435, 'val_T_output_loss': 0.002788386, 'val_both_output_mae': 0.026990287, 'val_O2_output_mae': 0.009522222, 'val_T_output_mae': 0.046456892}\n",
      "Just finished epoch 10000\n",
      "{'loss': 0.023883502930402756, 'both_output_loss': 0.003635143, 'O2_output_loss': 5.9136542e-05, 'T_output_loss': 0.0044994554, 'both_output_mae': 0.030830957, 'O2_output_mae': 0.0055412194, 'T_output_mae': 0.03014066, 'val_loss': 0.0033388559240847826, 'val_both_output_loss': 0.0017349039, 'val_O2_output_loss': 3.2512242e-05, 'val_T_output_loss': 0.0005311647, 'val_both_output_mae': 0.027666597, 'val_O2_output_mae': 0.004647698, 'val_T_output_mae': 0.019087454}\n",
      "Just finished epoch 15000\n",
      "{'loss': 0.021847518160939217, 'both_output_loss': 0.003039261, 'O2_output_loss': 2.217597e-05, 'T_output_loss': 0.0041649723, 'both_output_mae': 0.025333842, 'O2_output_mae': 0.003366213, 'T_output_mae': 0.024629103, 'val_loss': 0.0017413580790162086, 'val_both_output_loss': 0.0011038725, 'val_O2_output_loss': 1.1936676e-05, 'val_T_output_loss': 0.00027010258, 'val_both_output_mae': 0.023319054, 'val_O2_output_mae': 0.002634382, 'val_T_output_mae': 0.01294382}\n",
      "Mean AE_[O2] 0.277466012152614\n",
      "Mean AE_T    0.6423918028529301\n",
      "Max  AE_[O2] 1.030951738357544\n",
      "Max  AE_T    1.7204998433589926\n",
      "Evaluating fold combination number 15\n",
      "Just finished epoch 0\n",
      "{'loss': 1.1236357688903809, 'both_output_loss': 0.107193604, 'O2_output_loss': 0.111153804, 'T_output_loss': 0.107141726, 'both_output_mae': 0.27574033, 'O2_output_mae': 0.2776603, 'T_output_mae': 0.27615705, 'val_loss': 1.428440809249878, 'val_both_output_loss': 0.055279788, 'val_O2_output_loss': 0.2299094, 'val_T_output_loss': 0.052461967, 'val_both_output_mae': 0.18971552, 'val_O2_output_mae': 0.4538487, 'val_T_output_mae': 0.19231933}\n",
      "Just finished epoch 5000\n",
      "{'loss': 0.030947215855121613, 'both_output_loss': 0.0039949478, 'O2_output_loss': 0.0002616771, 'T_output_loss': 0.0056880694, 'both_output_mae': 0.033784624, 'O2_output_mae': 0.010403594, 'T_output_mae': 0.04170836, 'val_loss': 0.02410278096795082, 'val_both_output_loss': 0.0042529837, 'val_O2_output_loss': 0.0002626555, 'val_T_output_loss': 0.004302722, 'val_both_output_mae': 0.03851057, 'val_O2_output_mae': 0.009316603, 'val_T_output_mae': 0.049143616}\n",
      "Just finished epoch 10000\n",
      "{'loss': 0.02450469508767128, 'both_output_loss': 0.0038532475, 'O2_output_loss': 5.212967e-05, 'T_output_loss': 0.0046176147, 'both_output_mae': 0.032510366, 'O2_output_mae': 0.004926794, 'T_output_mae': 0.029933983, 'val_loss': 0.007902929559350014, 'val_both_output_loss': 0.0033889464, 'val_O2_output_loss': 4.2652544e-05, 'val_T_output_loss': 0.0013345965, 'val_both_output_mae': 0.03298622, 'val_O2_output_mae': 0.0045123985, 'val_T_output_mae': 0.028495826}\n",
      "Just finished epoch 15000\n",
      "{'loss': 0.0236441008746624, 'both_output_loss': 0.0035941387, 'O2_output_loss': 2.058275e-05, 'T_output_loss': 0.0044925893, 'both_output_mae': 0.029982284, 'O2_output_mae': 0.0032966884, 'T_output_mae': 0.028500455, 'val_loss': 0.005927145015448332, 'val_both_output_loss': 0.0030126588, 'val_O2_output_loss': 1.8054207e-05, 'val_T_output_loss': 0.0009866153, 'val_both_output_mae': 0.029388526, 'val_O2_output_mae': 0.0034534445, 'val_T_output_mae': 0.023968719}\n",
      "Mean AE_[O2] 0.22367416473956706\n",
      "Mean AE_T    1.5348551470175889\n",
      "Max  AE_[O2] 0.7388615608215354\n",
      "Max  AE_T    7.99917757511139\n",
      "Evaluating fold combination number 16\n",
      "Just finished epoch 0\n",
      "{'loss': 1.0030624866485596, 'both_output_loss': 0.109670326, 'O2_output_loss': 0.10136775, 'T_output_loss': 0.09266454, 'both_output_mae': 0.2748233, 'O2_output_mae': 0.26874775, 'T_output_mae': 0.25994414, 'val_loss': 1.3185168504714966, 'val_both_output_loss': 0.17792493, 'val_O2_output_loss': 0.19399913, 'val_T_output_loss': 0.059028745, 'val_both_output_mae': 0.3752817, 'val_O2_output_mae': 0.41300574, 'val_T_output_mae': 0.21496476}\n",
      "Just finished epoch 5000\n",
      "{'loss': 0.024085044860839844, 'both_output_loss': 0.0035233453, 'O2_output_loss': 0.00027030712, 'T_output_loss': 0.004335301, 'both_output_mae': 0.032753956, 'O2_output_mae': 0.010888521, 'T_output_mae': 0.03910768, 'val_loss': 0.14318841695785522, 'val_both_output_loss': 0.015579802, 'val_O2_output_loss': 0.0006896921, 'val_T_output_loss': 0.027013203, 'val_both_output_mae': 0.05903701, 'val_O2_output_mae': 0.018399823, 'val_T_output_mae': 0.08631331}\n",
      "Just finished epoch 10000\n",
      "{'loss': 0.02232200838625431, 'both_output_loss': 0.0034145827, 'O2_output_loss': 7.4952506e-05, 'T_output_loss': 0.0041845744, 'both_output_mae': 0.03376676, 'O2_output_mae': 0.006256613, 'T_output_mae': 0.035608295, 'val_loss': 0.103432297706604, 'val_both_output_loss': 0.013718668, 'val_O2_output_loss': 0.00015896445, 'val_T_output_loss': 0.019704375, 'val_both_output_mae': 0.05115287, 'val_O2_output_mae': 0.008950945, 'val_T_output_mae': 0.06705248}\n",
      "Just finished epoch 15000\n",
      "{'loss': 0.018058327957987785, 'both_output_loss': 0.0031503667, 'O2_output_loss': 4.0074832e-05, 'T_output_loss': 0.003382569, 'both_output_mae': 0.030476972, 'O2_output_mae': 0.004362655, 'T_output_mae': 0.028495945, 'val_loss': 0.17603103816509247, 'val_both_output_loss': 0.017258754, 'val_O2_output_loss': 7.1713795e-05, 'val_T_output_loss': 0.034098968, 'val_both_output_mae': 0.061270904, 'val_O2_output_mae': 0.005842875, 'val_T_output_mae': 0.08969169}\n",
      "Mean AE_[O2] 0.4138316105886856\n",
      "Mean AE_T    3.0798429085737933\n",
      "Max  AE_[O2] 1.054342370480299\n",
      "Max  AE_T    22.51256212592125\n",
      "Evaluating fold combination number 17\n",
      "Just finished epoch 0\n",
      "{'loss': 1.0942654609680176, 'both_output_loss': 0.10816409, 'O2_output_loss': 0.10524291, 'T_output_loss': 0.10712035, 'both_output_mae': 0.27616608, 'O2_output_mae': 0.27673474, 'T_output_mae': 0.2764191, 'val_loss': 0.5497835874557495, 'val_both_output_loss': 0.11655662, 'val_O2_output_loss': 0.06042108, 'val_T_output_loss': 0.04254224, 'val_both_output_mae': 0.29576656, 'val_O2_output_mae': 0.20128715, 'val_T_output_mae': 0.16194974}\n",
      "Just finished epoch 5000\n",
      "{'loss': 0.03217353671789169, 'both_output_loss': 0.0044909385, 'O2_output_loss': 0.00022149675, 'T_output_loss': 0.005943754, 'both_output_mae': 0.03628429, 'O2_output_mae': 0.009598018, 'T_output_mae': 0.0450388, 'val_loss': 0.0064149703830480576, 'val_both_output_loss': 0.0023292764, 'val_O2_output_loss': 0.00032047552, 'val_T_output_loss': 0.0008227619, 'val_both_output_mae': 0.02502452, 'val_O2_output_mae': 0.010250734, 'val_T_output_mae': 0.021060392}\n",
      "Just finished epoch 10000\n",
      "{'loss': 0.031076882034540176, 'both_output_loss': 0.003888208, 'O2_output_loss': 4.6796882e-05, 'T_output_loss': 0.005935287, 'both_output_mae': 0.03394401, 'O2_output_mae': 0.004762352, 'T_output_mae': 0.041775223, 'val_loss': 0.0037094494327902794, 'val_both_output_loss': 0.0015980129, 'val_O2_output_loss': 8.436699e-05, 'val_T_output_loss': 0.0005616421, 'val_both_output_mae': 0.024173748, 'val_O2_output_mae': 0.0064735264, 'val_T_output_mae': 0.017432915}\n",
      "Just finished epoch 15000\n",
      "{'loss': 0.024597102776169777, 'both_output_loss': 0.003659333, 'O2_output_loss': 2.3350138e-05, 'T_output_loss': 0.0046765106, 'both_output_mae': 0.030974006, 'O2_output_mae': 0.0033369195, 'T_output_mae': 0.031296946, 'val_loss': 0.0018291522283107042, 'val_both_output_loss': 0.001183055, 'val_O2_output_loss': 2.9823983e-05, 'val_T_output_loss': 0.00026502315, 'val_both_output_mae': 0.024683585, 'val_O2_output_mae': 0.0033406161, 'val_T_output_mae': 0.014218691}\n",
      "Mean AE_[O2] 0.16254978968684852\n",
      "Mean AE_T    0.6377906846403282\n",
      "Max  AE_[O2] 0.6807982921600342\n",
      "Max  AE_T    2.4865576624870305\n",
      "Evaluating fold combination number 18\n",
      "Just finished epoch 0\n",
      "{'loss': 0.9234632849693298, 'both_output_loss': 0.08802467, 'O2_output_loss': 0.09458623, 'T_output_loss': 0.08482495, 'both_output_mae': 0.2569626, 'O2_output_mae': 0.26654434, 'T_output_mae': 0.2523702, 'val_loss': 0.7591729760169983, 'val_both_output_loss': 0.074648, 'val_O2_output_loss': 0.05902024, 'val_T_output_loss': 0.08833548, 'val_both_output_mae': 0.23475751, 'val_O2_output_mae': 0.19400923, 'val_T_output_mae': 0.25536352}\n",
      "Just finished epoch 5000\n",
      "{'loss': 0.04256834089756012, 'both_output_loss': 0.007342681, 'O2_output_loss': 0.00044121573, 'T_output_loss': 0.007631891, 'both_output_mae': 0.05578278, 'O2_output_mae': 0.014425494, 'T_output_mae': 0.054999672, 'val_loss': 0.08433035761117935, 'val_both_output_loss': 0.009548179, 'val_O2_output_loss': 0.000440894, 'val_T_output_loss': 0.015852287, 'val_both_output_mae': 0.05973092, 'val_O2_output_mae': 0.016599638, 'val_T_output_mae': 0.060258504}\n",
      "Just finished epoch 10000\n",
      "{'loss': 0.02640797570347786, 'both_output_loss': 0.003374584, 'O2_output_loss': 0.000101834295, 'T_output_loss': 0.004977286, 'both_output_mae': 0.032030404, 'O2_output_mae': 0.006350831, 'T_output_mae': 0.041216683, 'val_loss': 0.08525395393371582, 'val_both_output_loss': 0.007963538, 'val_O2_output_loss': 4.9908576e-05, 'val_T_output_loss': 0.016523069, 'val_both_output_mae': 0.038138874, 'val_O2_output_mae': 0.005400183, 'val_T_output_mae': 0.06436349}\n",
      "Just finished epoch 15000\n",
      "{'loss': 0.02636394090950489, 'both_output_loss': 0.0029887669, 'O2_output_loss': 6.1580315e-05, 'T_output_loss': 0.005031882, 'both_output_mae': 0.029480029, 'O2_output_mae': 0.0053616036, 'T_output_mae': 0.041414607, 'val_loss': 0.06001809984445572, 'val_both_output_loss': 0.0064415424, 'val_O2_output_loss': 2.208296e-05, 'val_T_output_loss': 0.011595044, 'val_both_output_mae': 0.040312197, 'val_O2_output_mae': 0.0035922646, 'val_T_output_mae': 0.06482093}\n",
      "Mean AE_[O2] 0.36042991051117257\n",
      "Mean AE_T    2.984087319497938\n",
      "Max  AE_[O2] 1.7965471744537331\n",
      "Max  AE_T    20.697115361690518\n",
      "Evaluating fold combination number 19\n",
      "Just finished epoch 0\n",
      "{'loss': 1.0552784204483032, 'both_output_loss': 0.14262459, 'O2_output_loss': 0.10971509, 'T_output_loss': 0.09278312, 'both_output_mae': 0.30889234, 'O2_output_mae': 0.2797203, 'T_output_mae': 0.258428, 'val_loss': 0.7837721109390259, 'val_both_output_loss': 0.15393592, 'val_O2_output_loss': 0.073337935, 'val_T_output_loss': 0.074180335, 'val_both_output_mae': 0.3381743, 'val_O2_output_mae': 0.24100292, 'val_T_output_mae': 0.21932228}\n",
      "Just finished epoch 5000\n",
      "{'loss': 0.029401831328868866, 'both_output_loss': 0.0038265672, 'O2_output_loss': 0.00020395093, 'T_output_loss': 0.0054468215, 'both_output_mae': 0.033063613, 'O2_output_mae': 0.008782492, 'T_output_mae': 0.041854504, 'val_loss': 0.0064935386180877686, 'val_both_output_loss': 0.0010785427, 'val_O2_output_loss': 0.00027852764, 'val_T_output_loss': 0.00095546746, 'val_both_output_mae': 0.025834369, 'val_O2_output_mae': 0.011112257, 'val_T_output_mae': 0.025681373}\n",
      "Just finished epoch 10000\n",
      "{'loss': 0.028010593727231026, 'both_output_loss': 0.003278369, 'O2_output_loss': 4.31272e-05, 'T_output_loss': 0.0053622895, 'both_output_mae': 0.029809784, 'O2_output_mae': 0.004346957, 'T_output_mae': 0.040148236, 'val_loss': 0.004283376503735781, 'val_both_output_loss': 0.000671158, 'val_O2_output_loss': 6.147104e-05, 'val_T_output_loss': 0.0007549348, 'val_both_output_mae': 0.020031855, 'val_O2_output_mae': 0.005153945, 'val_T_output_mae': 0.02145482}\n",
      "Just finished epoch 15000\n",
      "{'loss': 0.02514059469103813, 'both_output_loss': 0.0032670284, 'O2_output_loss': 2.229522e-05, 'T_output_loss': 0.004809802, 'both_output_mae': 0.029775938, 'O2_output_mae': 0.0033061677, 'T_output_mae': 0.03474179, 'val_loss': 0.0029030637815594673, 'val_both_output_loss': 0.000656585, 'val_O2_output_loss': 2.9454917e-05, 'val_T_output_loss': 0.00051176274, 'val_both_output_mae': 0.019969331, 'val_O2_output_mae': 0.0037606505, 'val_T_output_mae': 0.016539248}\n",
      "Mean AE_[O2] 0.20637908600326832\n",
      "Mean AE_T    0.9331019072364938\n",
      "Max  AE_[O2] 0.7728385925293013\n",
      "Max  AE_T    2.52273291349411\n",
      "Evaluating fold combination number 20\n",
      "Just finished epoch 0\n",
      "{'loss': 0.9364715814590454, 'both_output_loss': 0.121635675, 'O2_output_loss': 0.09485203, 'T_output_loss': 0.08514415, 'both_output_mae': 0.28908494, 'O2_output_mae': 0.26499787, 'T_output_mae': 0.25337985, 'val_loss': 0.7304974794387817, 'val_both_output_loss': 0.12243959, 'val_O2_output_loss': 0.07339806, 'val_T_output_loss': 0.06535506, 'val_both_output_mae': 0.3035146, 'val_O2_output_mae': 0.24463813, 'val_T_output_mae': 0.21349704}\n",
      "Just finished epoch 5000\n",
      "{'loss': 0.035779643803834915, 'both_output_loss': 0.0058257934, 'O2_output_loss': 0.00042978095, 'T_output_loss': 0.0063766004, 'both_output_mae': 0.044141505, 'O2_output_mae': 0.013789612, 'T_output_mae': 0.048371576, 'val_loss': 0.007367094978690147, 'val_both_output_loss': 0.0025052219, 'val_O2_output_loss': 7.85666e-05, 'val_T_output_loss': 0.001244539, 'val_both_output_mae': 0.033220947, 'val_O2_output_mae': 0.0078000976, 'val_T_output_mae': 0.027180504}\n",
      "Just finished epoch 10000\n",
      "{'loss': 0.027587587013840675, 'both_output_loss': 0.003876358, 'O2_output_loss': 0.00010236817, 'T_output_loss': 0.0051825675, 'both_output_mae': 0.03365195, 'O2_output_mae': 0.006719444, 'T_output_mae': 0.039776757, 'val_loss': 0.0067173489369452, 'val_both_output_loss': 0.0007105431, 'val_O2_output_loss': 5.686054e-06, 'val_T_output_loss': 0.0012951512, 'val_both_output_mae': 0.02101227, 'val_O2_output_mae': 0.0019395581, 'val_T_output_mae': 0.03167796}\n",
      "Just finished epoch 15000\n",
      "{'loss': 0.029581576585769653, 'both_output_loss': 0.0039063357, 'O2_output_loss': 6.570244e-05, 'T_output_loss': 0.0056162328, 'both_output_mae': 0.034363445, 'O2_output_mae': 0.006003126, 'T_output_mae': 0.042016312, 'val_loss': 0.008623783476650715, 'val_both_output_loss': 0.0009974199, 'val_O2_output_loss': 1.093171e-05, 'val_T_output_loss': 0.0016539796, 'val_both_output_mae': 0.025223628, 'val_O2_output_mae': 0.0026095242, 'val_T_output_mae': 0.035703056}\n",
      "Mean AE_[O2] 0.15687238104296097\n",
      "Mean AE_T    0.8539989204095324\n",
      "Max  AE_[O2] 0.6240832805633589\n",
      "Max  AE_T    2.313469648361206\n"
     ]
    }
   ],
   "source": [
    "from sklearn.model_selection import KFold\n",
    "\n",
    "mean_aeo2 = []\n",
    "mean_aeT = []\n",
    "max_aeo2 = []\n",
    "max_aeT = []\n",
    "\n",
    "kf = KFold(n_splits=20)\n",
    "indx = 1\n",
    "for train_index, dev_index in kf.split(data_train):\n",
    "    \n",
    "    print('Evaluating fold combination number', indx)\n",
    "    indx = indx + 1\n",
    "    \n",
    "    X_train, X_dev = data_train.iloc[train_index], data_train.iloc[dev_index]\n",
    "    y_train, y_dev = targets_train.iloc[train_index], targets_train.iloc[dev_index]\n",
    "    yO2_train, yO2_dev = targets_train_O2.iloc[train_index], targets_train_O2.iloc[dev_index]\n",
    "    yT_train, yT_dev = targets_train_T.iloc[train_index], targets_train_T.iloc[dev_index]\n",
    "    \n",
    "    model4 = get_compiled_model()\n",
    "    \n",
    "    H = model4.fit(X_train,\n",
    "        {\"both_output\": y_train, \"O2_output\": yO2_train, \"T_output\": yT_train},\n",
    "        validation_data=(X_dev,\n",
    "            {\"both_output\": y_dev, \"O2_output\": yO2_dev, \"T_output\": yT_dev}),\n",
    "        epochs=20000, batch_size = 20000,\n",
    "        verbose=0, callbacks = [CustomCallback()])\n",
    "    \n",
    "    (O2T, O2, T) = model4.predict(X_dev)\n",
    "    preds_exp_df = pd.DataFrame(O2T)\n",
    "    preds_exp_df.columns = ['O2', 'T']\n",
    "    preds_exp_o2_df = pd.DataFrame(O2[:,0])\n",
    "    preds_exp_o2_df.columns = ['O2']\n",
    "\n",
    "    preds_exp_T_df = pd.DataFrame(T[:,0])\n",
    "    preds_exp_T_df.columns = ['T']\n",
    "    \n",
    "    y_dev = y_dev.reset_index(drop = True)\n",
    "    preds_exp_o2_df = preds_exp_o2_df.reset_index(drop = True)\n",
    "    preds_exp_T_df = preds_exp_T_df.reset_index(drop = True)\n",
    "    \n",
    "    MAE_boxplot_C, MAE_list_C, MAE_xticks_C = MAE_O2_list_generator(10.0, y_dev, preds_exp_o2_df)\n",
    "    MAET_boxplot_C_MTL, MAET_list_C_MTL, MAET_xticks_C_MTL = MAE_T_list_generator(y_dev, preds_exp_T_df)\n",
    "    \n",
    "    MAE_boxplot_C_flat = [item for sublist in MAE_boxplot_C for item in sublist]\n",
    "    MAET_boxplot_C_MTL_flat = [item for sublist in MAET_boxplot_C_MTL for item in sublist]\n",
    "    \n",
    "    mean_aeo2.append(np.mean(MAE_boxplot_C_flat))\n",
    "    mean_aeT.append(np.mean(MAET_list_C_MTL))\n",
    "    max_aeo2.append(np.max(MAE_boxplot_C_flat))\n",
    "    max_aeT.append(np.max(MAET_boxplot_C_MTL_flat))\n",
    "    \n",
    "    print('Mean AE_[O2]', np.mean(MAE_boxplot_C_flat))\n",
    "    print('Mean AE_T   ', np.mean(MAET_list_C_MTL))\n",
    "    print('Max  AE_[O2]', np.max(MAE_boxplot_C_flat))\n",
    "    print('Max  AE_T   ', np.max(MAET_boxplot_C_MTL_flat) )\n",
    "    \n",
    "    "
   ]
  },
  {
   "cell_type": "code",
   "execution_count": 262,
   "metadata": {},
   "outputs": [
    {
     "name": "stdout",
     "output_type": "stream",
     "text": [
      "[0.18081506797626737, 0.2481429516405294, 0.2851519792877281, 0.40836062741606133, 0.38150012008542816, 0.22494388041117258, 0.43314389730279507, 0.4922767151270468, 0.4632365116417801, 0.26380701252707794, 0.663255986245658, 0.5483980230370851, 0.4482670098740533, 0.277466012152614, 0.22367416473956706, 0.4138316105886856, 0.16254978968684852, 0.36042991051117257, 0.20637908600326832, 0.15687238104296097]\n",
      "[0.8919845226462454, 0.8975860547806545, 0.833324495176173, 1.7302828948494517, 1.770491864033092, 1.590710004359506, 1.1999412570183692, 0.981418399023999, 1.4293420597716093, 1.7794269827524871, 4.172425461512013, 4.672701996452849, 1.2327903257277204, 0.6423918028529301, 1.5348551470175889, 3.0798429085737933, 0.6377906846403282, 2.984087319497938, 0.9331019072364938, 0.8539989204095324]\n",
      "[0.9931218624114946, 1.241168975830076, 1.4112520217895552, 1.2110638618469283, 0.9584994614124293, 0.6950516253709793, 1.224462985992436, 1.193503141403196, 1.0320985317230247, 0.7706689834594771, 1.2212819419801235, 1.202670335769651, 2.2778844833374, 1.030951738357544, 0.7388615608215354, 1.054342370480299, 0.6807982921600342, 1.7965471744537331, 0.7728385925293013, 0.6240832805633589]\n",
      "[3.4086027741432186, 2.121713161468506, 1.6914203763008113, 6.811241805553436, 6.00016474723816, 4.955916702747343, 10.799101293087006, 2.8931593894958496, 3.33897203207016, 4.600098803639412, 27.697801589965817, 16.755686700344086, 3.6268508434295654, 1.7204998433589926, 7.99917757511139, 22.51256212592125, 2.4865576624870305, 20.697115361690518, 2.52273291349411, 2.313469648361206]\n"
     ]
    }
   ],
   "source": [
    "print(mean_aeo2)\n",
    "print(mean_aeT)\n",
    "print(max_aeo2)\n",
    "print(max_aeT)"
   ]
  },
  {
   "cell_type": "code",
   "execution_count": 260,
   "metadata": {},
   "outputs": [],
   "source": [
    "mean_aeo2_1 = [0.22084727718987754, 0.3656032934835062, 0.22898283892826293, 0.36377462616848116, 0.39558034233905265, 0.42417326555128254, 0.427639719271501, 0.3572289889048827, 0.38599999614951824, 0.4216667673957181]\n",
    "mean_aeT_1 = [1.4728898680414704, 1.6692693848778868, 1.0567906300734848, 1.3130502375999078, 1.0569985979052867, 3.4088957277249246, 1.4604857884012388, 2.3844622421948936, 1.589119701075373, 0.9898855057500944]\n",
    "max_aeo2_1 = [1.0766720771789529, 1.2382078170776412, 1.1864435859024525, 1.3382422924041792, 1.4177686721086504, 1.025380752980709, 1.8180465698242165, 1.0034258477389812, 2.043560743331907, 1.0908389091491721]\n",
    "max_aeT_1 = [4.789788126945495, 6.985730230808258, 6.957048475742338, 11.8645578622818, 6.718706637620926, 29.195796549320217, 3.3827295899391174, 21.631015241146088, 21.332902163267132, 2.622339427471161]"
   ]
  },
  {
   "cell_type": "code",
   "execution_count": 263,
   "metadata": {},
   "outputs": [],
   "source": [
    "mean_aeo2_2 = [0.22084727718987754, 0.3656032934835062, 0.22898283892826293, 0.36377462616848116, 0.39558034233905265, 0.42417326555128254, 0.427639719271501, 0.3572289889048827, \n",
    "               0.38599999614951824, 0.4216667673957181, 0.18081506797626737, 0.2481429516405294, 0.2851519792877281, 0.40836062741606133, 0.38150012008542816, 0.22494388041117258, \n",
    "               0.43314389730279507, 0.4922767151270468, 0.4632365116417801, 0.26380701252707794, 0.663255986245658, 0.5483980230370851, 0.4482670098740533, 0.277466012152614, \n",
    "               0.22367416473956706, 0.4138316105886856, 0.16254978968684852, 0.36042991051117257, 0.20637908600326832, 0.15687238104296097]\n",
    "mean_aeT_2 = [1.4728898680414704, 1.6692693848778868, 1.0567906300734848, 1.3130502375999078, 1.0569985979052867, 3.4088957277249246, 1.4604857884012388, 2.3844622421948936, \n",
    "              1.589119701075373, 0.9898855057500944, 0.8919845226462454, 0.8975860547806545, 0.833324495176173, 1.7302828948494517, 1.770491864033092, 1.590710004359506, 1.1999412570183692, \n",
    "              0.981418399023999, 1.4293420597716093, 1.7794269827524871, 4.172425461512013, 4.672701996452849, 1.2327903257277204, 0.6423918028529301, 1.5348551470175889, 3.0798429085737933, \n",
    "              0.6377906846403282, 2.984087319497938, 0.9331019072364938, 0.8539989204095324]\n",
    "max_aeo2_2 = [1.0766720771789529, 1.2382078170776412, 1.1864435859024525, 1.3382422924041792, 1.4177686721086504, 1.025380752980709, 1.8180465698242165, 1.0034258477389812, \n",
    "              2.043560743331907, 1.0908389091491721, 0.9931218624114946, 1.241168975830076, 1.4112520217895552, 1.2110638618469283, 0.9584994614124293, 0.6950516253709793, 1.224462985992436, 1.193503141403196, \n",
    "              1.0320985317230247, 0.7706689834594771, 1.2212819419801235, 1.202670335769651, 2.2778844833374, 1.030951738357544, 0.7388615608215354, 1.054342370480299, 0.6807982921600342, \n",
    "              1.7965471744537331, 0.7728385925293013, 0.6240832805633589]\n",
    "max_aeT_2 = [4.789788126945495, 6.985730230808258, 6.957048475742338, 11.8645578622818, 6.718706637620926, 29.195796549320217, 3.3827295899391174, 21.631015241146088, \n",
    "             21.332902163267132, 2.622339427471161, 3.4086027741432186, 2.121713161468506, 1.6914203763008113, 6.811241805553436, 6.00016474723816, 4.955916702747343, \n",
    "             10.799101293087006, 2.8931593894958496, 3.33897203207016, 4.600098803639412, 27.697801589965817, 16.755686700344086, 3.6268508434295654, \n",
    "             1.7204998433589926, 7.99917757511139, 22.51256212592125, 2.4865576624870305, 20.697115361690518, 2.52273291349411, 2.313469648361206]"
   ]
  },
  {
   "cell_type": "markdown",
   "metadata": {},
   "source": [
    "# For which [O2] is AE_T big?"
   ]
  },
  {
   "cell_type": "code",
   "execution_count": 272,
   "metadata": {},
   "outputs": [
    {
     "ename": "NameError",
     "evalue": "name 'preds_df' is not defined",
     "output_type": "error",
     "traceback": [
      "\u001b[0;31m---------------------------------------------------------------------------\u001b[0m",
      "\u001b[0;31mNameError\u001b[0m                                 Traceback (most recent call last)",
      "\u001b[0;32m<ipython-input-272-df5e6e819d93>\u001b[0m in \u001b[0;36m<module>\u001b[0;34m\u001b[0m\n\u001b[1;32m      1\u001b[0m \u001b[0;31m#elmts = (targets_dev['T'] == T_/45.0)\u001b[0m\u001b[0;34m\u001b[0m\u001b[0;34m\u001b[0m\u001b[0;34m\u001b[0m\u001b[0m\n\u001b[1;32m      2\u001b[0m \u001b[0mtmp_\u001b[0m \u001b[0;34m=\u001b[0m \u001b[0mtargets_dev\u001b[0m\u001b[0;34m\u001b[0m\u001b[0;34m\u001b[0m\u001b[0m\n\u001b[0;32m----> 3\u001b[0;31m \u001b[0mtmp2_\u001b[0m \u001b[0;34m=\u001b[0m \u001b[0mpreds_df\u001b[0m\u001b[0;34m\u001b[0m\u001b[0;34m\u001b[0m\u001b[0m\n\u001b[0m\u001b[1;32m      4\u001b[0m \u001b[0mmae_\u001b[0m \u001b[0;34m=\u001b[0m \u001b[0mnp\u001b[0m\u001b[0;34m.\u001b[0m\u001b[0mmean\u001b[0m\u001b[0;34m(\u001b[0m\u001b[0;36m45.0\u001b[0m\u001b[0;34m*\u001b[0m\u001b[0mnp\u001b[0m\u001b[0;34m.\u001b[0m\u001b[0mabs\u001b[0m\u001b[0;34m(\u001b[0m\u001b[0mtmp2_\u001b[0m\u001b[0;34m[\u001b[0m\u001b[0;34m'T'\u001b[0m\u001b[0;34m]\u001b[0m\u001b[0;34m.\u001b[0m\u001b[0mvalues\u001b[0m\u001b[0;34m-\u001b[0m \u001b[0mtmp_\u001b[0m\u001b[0;34m[\u001b[0m\u001b[0;34m'T'\u001b[0m\u001b[0;34m]\u001b[0m\u001b[0;34m.\u001b[0m\u001b[0mvalues\u001b[0m\u001b[0;34m)\u001b[0m\u001b[0;34m)\u001b[0m\u001b[0;34m\u001b[0m\u001b[0;34m\u001b[0m\u001b[0m\n",
      "\u001b[0;31mNameError\u001b[0m: name 'preds_df' is not defined"
     ]
    }
   ],
   "source": [
    "#elmts = (targets_dev['T'] == T_/45.0)\n",
    "tmp_ = targets_dev\n",
    "tmp2_ = preds_df\n",
    "mae_ = np.mean(45.0*np.abs(tmp2_['T'].values- tmp_['T'].values))"
   ]
  },
  {
   "cell_type": "markdown",
   "metadata": {},
   "source": [
    "## Distributions of AEs"
   ]
  },
  {
   "cell_type": "code",
   "execution_count": 227,
   "metadata": {},
   "outputs": [
    {
     "name": "stderr",
     "output_type": "stream",
     "text": [
      "/Users/umberto/Python-Environments/tfenv2/lib/python3.7/site-packages/scipy/stats/stats.py:1713: FutureWarning: Using a non-tuple sequence for multidimensional indexing is deprecated; use `arr[tuple(seq)]` instead of `arr[seq]`. In the future this will be interpreted as an array index, `arr[np.array(seq)]`, which will result either in an error or a different result.\n",
      "  return np.add.reduce(sorted[indexer] * weights, axis=axis) / sumval\n"
     ]
    },
    {
     "data": {
      "image/png": "[encoded data removed]",
      "text/plain": [
       "<Figure size 432x288 with 1 Axes>"
      ]
     },
     "metadata": {
      "needs_background": "light"
     },
     "output_type": "display_data"
    }
   ],
   "source": [
    "import matplotlib.pyplot as plt\n",
    "import seaborn as sns\n",
    "\n",
    "# matplotlib histogram\n",
    "#plt.hist(mean_aeo2, color = 'blue', edgecolor = 'black',\n",
    "#         bins = 10)\n",
    "\n",
    "# seaborn histogram\n",
    "sns.distplot(mean_aeo2,  color = 'black', hist = True, label = 'KDE')\n",
    "# Add labels\n",
    "#plt.title('Boxplot of $AE_{[O_2]}$', fontsize = 18)\n",
    "plt.tick_params(labelsize=18)\n",
    "plt.xticks(None)\n",
    "#plt.xlabel('Delay (min)')\n",
    "#plt.xticks([])\n",
    "plt.ylabel('$AE_{[O_2]}$', fontsize = 18)\n",
    "plt.show()"
   ]
  },
  {
   "cell_type": "code",
   "execution_count": 230,
   "metadata": {},
   "outputs": [
    {
     "data": {
      "image/png": "[encoded data removed]",
      "text/plain": [
       "<Figure size 432x288 with 1 Axes>"
      ]
     },
     "metadata": {
      "needs_background": "light"
     },
     "output_type": "display_data"
    }
   ],
   "source": [
    "import matplotlib.pyplot as plt\n",
    "import seaborn as sns\n",
    "\n",
    "# matplotlib histogram\n",
    "#plt.hist(mean_aeo2, color = 'blue', edgecolor = 'black',\n",
    "#         bins = 10)\n",
    "\n",
    "# seaborn histogram\n",
    "sns.distplot(mean_aeo2,  color = 'black', hist = False, rug=True, label = 'KDE')\n",
    "# Add labels\n",
    "#plt.title('Boxplot of $AE_{[O_2]}$', fontsize = 18)\n",
    "plt.tick_params(labelsize=18)\n",
    "plt.xticks(None)\n",
    "#plt.xlabel('Delay (min)')\n",
    "#plt.xticks([])\n",
    "plt.ylabel('$AE_{[O_2]}$', fontsize = 18)\n",
    "plt.show()"
   ]
  },
  {
   "cell_type": "code",
   "execution_count": 268,
   "metadata": {},
   "outputs": [
    {
     "data": {
      "image/png": "[encoded data removed]",
      "text/plain": [
       "<Figure size 432x288 with 1 Axes>"
      ]
     },
     "metadata": {
      "needs_background": "light"
     },
     "output_type": "display_data"
    }
   ],
   "source": [
    "import matplotlib.pyplot as plt\n",
    "import seaborn as sns\n",
    "\n",
    "# matplotlib histogram\n",
    "#plt.hist(mean_aeo2, color = 'blue', edgecolor = 'black',\n",
    "#         bins = 10)\n",
    "\n",
    "# seaborn histogram\n",
    "sns.distplot(mean_aeo2_2, norm_hist = True, rug=False, rug_kws={\"color\": \"g\"},\n",
    "                   kde_kws={\"color\": \"k\", \"lw\": 3, \"label\": \"KDE\"},\n",
    "                   hist_kws={\"histtype\": \"step\", \"linewidth\": 3,\n",
    "                             \"alpha\": 1, \"color\": \"g\"},\n",
    "                    bins = 8)\n",
    "# Add labels\n",
    "#plt.title('Boxplot of $AE_{[O_2]}$', fontsize = 18)\n",
    "plt.tick_params(labelsize=18)\n",
    "plt.xticks(None)\n",
    "#plt.xlabel('Delay (min)')\n",
    "#plt.xticks([])\n",
    "plt.ylabel('$AE_{[O_2]}$', fontsize = 18)\n",
    "plt.show()"
   ]
  },
  {
   "cell_type": "code",
   "execution_count": 270,
   "metadata": {},
   "outputs": [
    {
     "data": {
      "text/plain": [
       "<Figure size 576x288 with 0 Axes>"
      ]
     },
     "metadata": {},
     "output_type": "display_data"
    },
    {
     "data": {
      "image/png": "[encoded data removed]",
      "text/plain": [
       "<Figure size 432x432 with 3 Axes>"
      ]
     },
     "metadata": {
      "needs_background": "light"
     },
     "output_type": "display_data"
    }
   ],
   "source": [
    "\n",
    "\n",
    "plt.figure(figsize=(8,4))\n",
    "df = pd.DataFrame({'x': mean_aeo2_2, 'y': max_aeo2_2})\n",
    "\n",
    "g = sns.JointGrid(x=\"x\", y=\"y\", data=df)\n",
    "g = g.plot(plt.scatter, sns.distplot)\n",
    "#g.fig.axes[0].invert_yaxis()\n",
    "\n",
    "#g.plot_joint(plt.scatter, color=\".5\", edgecolor=\"white\")\n",
    "#g.plot_marginals(sns.distplot, kde=True, color=\".5\")\n",
    "\n",
    "plt.tick_params(labelsize=18)\n",
    "plt.xlabel('Mean AE_O2', fontsize = 18)\n",
    "plt.ylabel('Max AE_O2', fontsize = 18)\n",
    "\n",
    "plt.xlim(0, 0.6)\n",
    "plt.ylim(0, 2.8)\n",
    "\n",
    "plt.show()"
   ]
  },
  {
   "cell_type": "code",
   "execution_count": 224,
   "metadata": {},
   "outputs": [
    {
     "data": {
      "image/png": "[encoded data removed]",
      "text/plain": [
       "<Figure size 432x288 with 1 Axes>"
      ]
     },
     "metadata": {
      "needs_background": "light"
     },
     "output_type": "display_data"
    }
   ],
   "source": [
    "import matplotlib.pyplot as plt\n",
    "import seaborn as sns\n",
    "\n",
    "# matplotlib histogram\n",
    "#plt.hist(mean_aeo2, color = 'blue', edgecolor = 'black',\n",
    "#         bins = 10)\n",
    "\n",
    "# seaborn histogram\n",
    "box=plt.boxplot(max_aeo2, whis = 'range')#,patch_artist=True)\n",
    "#for patch, color in zip(box['boxes'], ['lightblue']):\n",
    "#    patch.set_facecolor(color)\n",
    "# Add labels\n",
    "#plt.title('Boxplot of $AE_{[O_2]}$', fontsize = 18)\n",
    "plt.tick_params(labelsize=18)\n",
    "plt.xticks(None)\n",
    "#plt.xlabel('Delay (min)')\n",
    "plt.xticks([])\n",
    "plt.ylabel('$\\max \\ AE_{[O_2]}$', fontsize = 18)\n",
    "plt.plot([1]*len(max_aeo2), max_aeo2, 'b.', alpha=0.8,markersize=12)\n",
    "plt.show()"
   ]
  },
  {
   "cell_type": "markdown",
   "metadata": {
    "colab_type": "text",
    "id": "m7C-IbK3ZvFw"
   },
   "source": [
    "# VERSIONS"
   ]
  },
  {
   "cell_type": "code",
   "execution_count": 83,
   "metadata": {
    "colab": {
     "base_uri": "https://localhost:8080/",
     "height": 53
    },
    "colab_type": "code",
    "id": "WrPML1U5ZvFx",
    "outputId": "d0049d44-9ee6-408e-9dae-4da7a635d6f6"
   },
   "outputs": [
    {
     "name": "stdout",
     "output_type": "stream",
     "text": [
      "2.1.0-rc1\n",
      "2.2.4-tf\n"
     ]
    }
   ],
   "source": [
    "#import tensorflow as tf\n",
    "#from tensorflow.keras import layers\n",
    "\n",
    "print(tf.__version__)\n",
    "print(tf.keras.__version__)"
   ]
  }
 ],
 "metadata": {
  "accelerator": "GPU",
  "colab": {
   "collapsed_sections": [],
   "include_colab_link": true,
   "name": "O2 prediction model - Network C v2 O2T Paper.ipynb",
   "provenance": []
  },
  "kernelspec": {
   "display_name": "Python 3",
   "language": "python",
   "name": "python3"
  },
  "language_info": {
   "codemirror_mode": {
    "name": "ipython",
    "version": 3
   },
   "file_extension": ".py",
   "mimetype": "text/x-python",
   "name": "python",
   "nbconvert_exporter": "python",
   "pygments_lexer": "ipython3",
   "version": "3.7.2"
  }
 },
 "nbformat": 4,
 "nbformat_minor": 2
}
