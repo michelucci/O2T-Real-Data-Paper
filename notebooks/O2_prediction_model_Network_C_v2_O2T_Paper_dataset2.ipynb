{
 "cells": [
  {
   "cell_type": "markdown",
   "metadata": {
    "colab_type": "text",
    "id": "view-in-github"
   },
   "source": [
    "<a href=\"https://colab.research.google.com/github/michelucci/O2T-Real-Data-Paper/blob/master/notebooks/O2_prediction_model_Network_C_v2_O2T_Paper.ipynb\" target=\"_parent\"><img src=\"https://colab.research.google.com/assets/colab-badge.svg\" alt=\"Open In Colab\"/></a>"
   ]
  },
  {
   "cell_type": "markdown",
   "metadata": {
    "colab_type": "text",
    "id": "czCW0XAgZvEm"
   },
   "source": [
    "# Code related to the paper on the prediction of $[O2]$ and $T$ at the same time with MTL - Network C\n",
    "\n",
    "## Dataset 2"
   ]
  },
  {
   "cell_type": "code",
   "execution_count": 1,
   "metadata": {
    "colab": {
     "base_uri": "https://localhost:8080/",
     "height": 82
    },
    "colab_type": "code",
    "id": "2Tp3iYK_ZvEo",
    "outputId": "cc5ad6d8-ffa9-486b-86c8-4f77b51c0dbc"
   },
   "outputs": [
    {
     "name": "stderr",
     "output_type": "stream",
     "text": [
      "Using TensorFlow backend.\n"
     ]
    }
   ],
   "source": [
    "import numpy as np\n",
    "import pandas as pd\n",
    "\n",
    "import matplotlib.pyplot as plt\n",
    "\n",
    "import tensorflow as tf\n",
    "\n",
    "# Keras\n",
    "\n",
    "from tensorflow.keras.models import Sequential\n",
    "\n",
    "#from tensorflow.keras.layers import Activation\n",
    "from tensorflow.keras.optimizers import SGD\n",
    "from tensorflow.keras.optimizers import Adam\n",
    "from tensorflow.keras.layers import Dense\n",
    "from tensorflow.keras import Model\n",
    "\n",
    "from tensorflow.keras import layers\n",
    "import tensorflow.keras as keras\n",
    "\n",
    "from keras.utils.vis_utils import plot_model\n",
    "\n",
    "import tensorflow.keras.backend as K\n",
    "\n",
    "from numpy import random\n",
    "\n",
    "from scipy.interpolate import interp1d\n",
    "\n",
    "from matplotlib.lines import Line2D\n",
    "\n",
    "import seaborn as sns"
   ]
  },
  {
   "cell_type": "markdown",
   "metadata": {
    "colab_type": "text",
    "id": "gr8mzs4gZvEv"
   },
   "source": [
    "# Read the files (Google Drive)"
   ]
  },
  {
   "cell_type": "code",
   "execution_count": 2,
   "metadata": {
    "colab": {
     "base_uri": "https://localhost:8080/",
     "height": 127
    },
    "colab_type": "code",
    "id": "ktBIU99yaC9x",
    "outputId": "c83faa66-b116-48e2-cb65-70ee513eba87"
   },
   "outputs": [
    {
     "ename": "ModuleNotFoundError",
     "evalue": "No module named 'google.colab'",
     "output_type": "error",
     "traceback": [
      "\u001b[0;31m---------------------------------------------------------------------------\u001b[0m",
      "\u001b[0;31mModuleNotFoundError\u001b[0m                       Traceback (most recent call last)",
      "\u001b[0;32m<ipython-input-2-4996ee3d8d09>\u001b[0m in \u001b[0;36m<module>\u001b[0;34m\u001b[0m\n\u001b[0;32m----> 1\u001b[0;31m \u001b[0;32mfrom\u001b[0m \u001b[0mgoogle\u001b[0m\u001b[0;34m.\u001b[0m\u001b[0mcolab\u001b[0m \u001b[0;32mimport\u001b[0m \u001b[0mdrive\u001b[0m\u001b[0;34m\u001b[0m\u001b[0;34m\u001b[0m\u001b[0m\n\u001b[0m\u001b[1;32m      2\u001b[0m \u001b[0mdrive\u001b[0m\u001b[0;34m.\u001b[0m\u001b[0mmount\u001b[0m\u001b[0;34m(\u001b[0m\u001b[0;34m'/content/gdrive'\u001b[0m\u001b[0;34m)\u001b[0m\u001b[0;34m\u001b[0m\u001b[0;34m\u001b[0m\u001b[0m\n",
      "\u001b[0;31mModuleNotFoundError\u001b[0m: No module named 'google.colab'"
     ]
    }
   ],
   "source": [
    "from google.colab import drive\n",
    "drive.mount('/content/gdrive')"
   ]
  },
  {
   "cell_type": "code",
   "execution_count": 2,
   "metadata": {
    "colab": {},
    "colab_type": "code",
    "id": "585dLmzDZvEw"
   },
   "outputs": [],
   "source": [
    "train_data_df = pd.read_csv('../data/train_data2.csv', header = None)\n",
    "train_target_df = pd.read_csv('../data/train_targets2.csv', names=['T', 'O2'], header = None)"
   ]
  },
  {
   "cell_type": "markdown",
   "metadata": {},
   "source": [
    "# Read the files (Local files)"
   ]
  },
  {
   "cell_type": "code",
   "execution_count": 3,
   "metadata": {},
   "outputs": [],
   "source": [
    "train_data_df = pd.read_csv('../data/train_data2.csv', header = None)\n",
    "train_target_df = pd.read_csv('../data/train_targets2.csv', names=['T', 'O2'], header = None)"
   ]
  },
  {
   "cell_type": "code",
   "execution_count": 4,
   "metadata": {
    "colab": {
     "base_uri": "https://localhost:8080/",
     "height": 224
    },
    "colab_type": "code",
    "id": "nQhfDxlDZvE0",
    "outputId": "eec23715-158d-4e4f-8db0-c7a57aaaa8d9"
   },
   "outputs": [
    {
     "data": {
      "text/html": [
       "<div>\n",
       "<style scoped>\n",
       "    .dataframe tbody tr th:only-of-type {\n",
       "        vertical-align: middle;\n",
       "    }\n",
       "\n",
       "    .dataframe tbody tr th {\n",
       "        vertical-align: top;\n",
       "    }\n",
       "\n",
       "    .dataframe thead th {\n",
       "        text-align: right;\n",
       "    }\n",
       "</style>\n",
       "<table border=\"1\" class=\"dataframe\">\n",
       "  <thead>\n",
       "    <tr style=\"text-align: right;\">\n",
       "      <th></th>\n",
       "      <th>0</th>\n",
       "      <th>1</th>\n",
       "      <th>2</th>\n",
       "      <th>3</th>\n",
       "      <th>4</th>\n",
       "      <th>5</th>\n",
       "      <th>6</th>\n",
       "      <th>7</th>\n",
       "      <th>8</th>\n",
       "      <th>9</th>\n",
       "      <th>...</th>\n",
       "      <th>40</th>\n",
       "      <th>41</th>\n",
       "      <th>42</th>\n",
       "      <th>43</th>\n",
       "      <th>44</th>\n",
       "      <th>45</th>\n",
       "      <th>46</th>\n",
       "      <th>47</th>\n",
       "      <th>48</th>\n",
       "      <th>49</th>\n",
       "    </tr>\n",
       "  </thead>\n",
       "  <tbody>\n",
       "    <tr>\n",
       "      <th>0</th>\n",
       "      <td>0.535241</td>\n",
       "      <td>0.537692</td>\n",
       "      <td>0.537186</td>\n",
       "      <td>0.539902</td>\n",
       "      <td>0.54284</td>\n",
       "      <td>0.544292</td>\n",
       "      <td>0.546761</td>\n",
       "      <td>0.549564</td>\n",
       "      <td>0.552743</td>\n",
       "      <td>0.560122</td>\n",
       "      <td>...</td>\n",
       "      <td>0.790886</td>\n",
       "      <td>0.794876</td>\n",
       "      <td>0.798935</td>\n",
       "      <td>0.802755</td>\n",
       "      <td>0.806522</td>\n",
       "      <td>0.820096</td>\n",
       "      <td>0.832059</td>\n",
       "      <td>0.842571</td>\n",
       "      <td>0.85205</td>\n",
       "      <td>0.860323</td>\n",
       "    </tr>\n",
       "    <tr>\n",
       "      <th>1</th>\n",
       "      <td>0.536566</td>\n",
       "      <td>0.536806</td>\n",
       "      <td>0.538521</td>\n",
       "      <td>0.540439</td>\n",
       "      <td>0.54239</td>\n",
       "      <td>0.544292</td>\n",
       "      <td>0.546761</td>\n",
       "      <td>0.549256</td>\n",
       "      <td>0.552183</td>\n",
       "      <td>0.559891</td>\n",
       "      <td>...</td>\n",
       "      <td>0.790804</td>\n",
       "      <td>0.794876</td>\n",
       "      <td>0.798935</td>\n",
       "      <td>0.802755</td>\n",
       "      <td>0.806522</td>\n",
       "      <td>0.820096</td>\n",
       "      <td>0.832059</td>\n",
       "      <td>0.842571</td>\n",
       "      <td>0.85205</td>\n",
       "      <td>0.860323</td>\n",
       "    </tr>\n",
       "    <tr>\n",
       "      <th>2</th>\n",
       "      <td>0.536566</td>\n",
       "      <td>0.537692</td>\n",
       "      <td>0.537186</td>\n",
       "      <td>0.540439</td>\n",
       "      <td>0.54239</td>\n",
       "      <td>0.544292</td>\n",
       "      <td>0.546418</td>\n",
       "      <td>0.549256</td>\n",
       "      <td>0.552463</td>\n",
       "      <td>0.560122</td>\n",
       "      <td>...</td>\n",
       "      <td>0.790969</td>\n",
       "      <td>0.795041</td>\n",
       "      <td>0.799099</td>\n",
       "      <td>0.802755</td>\n",
       "      <td>0.806522</td>\n",
       "      <td>0.820096</td>\n",
       "      <td>0.832059</td>\n",
       "      <td>0.842727</td>\n",
       "      <td>0.85205</td>\n",
       "      <td>0.860323</td>\n",
       "    </tr>\n",
       "    <tr>\n",
       "      <th>3</th>\n",
       "      <td>0.536566</td>\n",
       "      <td>0.536806</td>\n",
       "      <td>0.539188</td>\n",
       "      <td>0.541512</td>\n",
       "      <td>0.54194</td>\n",
       "      <td>0.544681</td>\n",
       "      <td>0.546761</td>\n",
       "      <td>0.549256</td>\n",
       "      <td>0.552743</td>\n",
       "      <td>0.560122</td>\n",
       "      <td>...</td>\n",
       "      <td>0.790969</td>\n",
       "      <td>0.795041</td>\n",
       "      <td>0.799099</td>\n",
       "      <td>0.802918</td>\n",
       "      <td>0.806522</td>\n",
       "      <td>0.820096</td>\n",
       "      <td>0.832059</td>\n",
       "      <td>0.842571</td>\n",
       "      <td>0.85205</td>\n",
       "      <td>0.860323</td>\n",
       "    </tr>\n",
       "    <tr>\n",
       "      <th>4</th>\n",
       "      <td>0.537891</td>\n",
       "      <td>0.537692</td>\n",
       "      <td>0.537853</td>\n",
       "      <td>0.540439</td>\n",
       "      <td>0.54284</td>\n",
       "      <td>0.544292</td>\n",
       "      <td>0.547104</td>\n",
       "      <td>0.549564</td>\n",
       "      <td>0.552463</td>\n",
       "      <td>0.560582</td>\n",
       "      <td>...</td>\n",
       "      <td>0.790969</td>\n",
       "      <td>0.795041</td>\n",
       "      <td>0.799017</td>\n",
       "      <td>0.802837</td>\n",
       "      <td>0.806522</td>\n",
       "      <td>0.820255</td>\n",
       "      <td>0.832059</td>\n",
       "      <td>0.842727</td>\n",
       "      <td>0.85205</td>\n",
       "      <td>0.860552</td>\n",
       "    </tr>\n",
       "  </tbody>\n",
       "</table>\n",
       "<p>5 rows × 50 columns</p>\n",
       "</div>"
      ],
      "text/plain": [
       "         0         1         2         3        4         5         6   \\\n",
       "0  0.535241  0.537692  0.537186  0.539902  0.54284  0.544292  0.546761   \n",
       "1  0.536566  0.536806  0.538521  0.540439  0.54239  0.544292  0.546761   \n",
       "2  0.536566  0.537692  0.537186  0.540439  0.54239  0.544292  0.546418   \n",
       "3  0.536566  0.536806  0.539188  0.541512  0.54194  0.544681  0.546761   \n",
       "4  0.537891  0.537692  0.537853  0.540439  0.54284  0.544292  0.547104   \n",
       "\n",
       "         7         8         9   ...        40        41        42        43  \\\n",
       "0  0.549564  0.552743  0.560122  ...  0.790886  0.794876  0.798935  0.802755   \n",
       "1  0.549256  0.552183  0.559891  ...  0.790804  0.794876  0.798935  0.802755   \n",
       "2  0.549256  0.552463  0.560122  ...  0.790969  0.795041  0.799099  0.802755   \n",
       "3  0.549256  0.552743  0.560122  ...  0.790969  0.795041  0.799099  0.802918   \n",
       "4  0.549564  0.552463  0.560582  ...  0.790969  0.795041  0.799017  0.802837   \n",
       "\n",
       "         44        45        46        47       48        49  \n",
       "0  0.806522  0.820096  0.832059  0.842571  0.85205  0.860323  \n",
       "1  0.806522  0.820096  0.832059  0.842571  0.85205  0.860323  \n",
       "2  0.806522  0.820096  0.832059  0.842727  0.85205  0.860323  \n",
       "3  0.806522  0.820096  0.832059  0.842571  0.85205  0.860323  \n",
       "4  0.806522  0.820255  0.832059  0.842727  0.85205  0.860552  \n",
       "\n",
       "[5 rows x 50 columns]"
      ]
     },
     "execution_count": 4,
     "metadata": {},
     "output_type": "execute_result"
    }
   ],
   "source": [
    "train_data_df.head()"
   ]
  },
  {
   "cell_type": "code",
   "execution_count": 5,
   "metadata": {
    "colab": {
     "base_uri": "https://localhost:8080/",
     "height": 204
    },
    "colab_type": "code",
    "id": "pxznLqEdaYGd",
    "outputId": "32bdef47-5b00-49b4-ff7f-d23fcc45cae1"
   },
   "outputs": [
    {
     "data": {
      "text/html": [
       "<div>\n",
       "<style scoped>\n",
       "    .dataframe tbody tr th:only-of-type {\n",
       "        vertical-align: middle;\n",
       "    }\n",
       "\n",
       "    .dataframe tbody tr th {\n",
       "        vertical-align: top;\n",
       "    }\n",
       "\n",
       "    .dataframe thead th {\n",
       "        text-align: right;\n",
       "    }\n",
       "</style>\n",
       "<table border=\"1\" class=\"dataframe\">\n",
       "  <thead>\n",
       "    <tr style=\"text-align: right;\">\n",
       "      <th></th>\n",
       "      <th>T</th>\n",
       "      <th>O2</th>\n",
       "    </tr>\n",
       "  </thead>\n",
       "  <tbody>\n",
       "    <tr>\n",
       "      <th>0</th>\n",
       "      <td>20.0</td>\n",
       "      <td>35.0</td>\n",
       "    </tr>\n",
       "    <tr>\n",
       "      <th>1</th>\n",
       "      <td>20.0</td>\n",
       "      <td>35.0</td>\n",
       "    </tr>\n",
       "    <tr>\n",
       "      <th>2</th>\n",
       "      <td>20.0</td>\n",
       "      <td>35.0</td>\n",
       "    </tr>\n",
       "    <tr>\n",
       "      <th>3</th>\n",
       "      <td>20.0</td>\n",
       "      <td>35.0</td>\n",
       "    </tr>\n",
       "    <tr>\n",
       "      <th>4</th>\n",
       "      <td>20.0</td>\n",
       "      <td>35.0</td>\n",
       "    </tr>\n",
       "  </tbody>\n",
       "</table>\n",
       "</div>"
      ],
      "text/plain": [
       "      T    O2\n",
       "0  20.0  35.0\n",
       "1  20.0  35.0\n",
       "2  20.0  35.0\n",
       "3  20.0  35.0\n",
       "4  20.0  35.0"
      ]
     },
     "execution_count": 5,
     "metadata": {},
     "output_type": "execute_result"
    }
   ],
   "source": [
    "train_target_df.head()"
   ]
  },
  {
   "cell_type": "code",
   "execution_count": 6,
   "metadata": {
    "colab": {},
    "colab_type": "code",
    "id": "5_8nAYJFZvE2"
   },
   "outputs": [],
   "source": [
    "train_target_df[['O2']] = train_target_df[['O2']]/100.0\n",
    "train_target_df[['T']] = train_target_df[['T']]/45.0"
   ]
  },
  {
   "cell_type": "markdown",
   "metadata": {
    "colab_type": "text",
    "id": "dHMEf3fIZvE7"
   },
   "source": [
    "Note that the values for $T$ are going from 0 to 1. To obtin the actual temperature in Celsius degrees, you need to multiply by $45$."
   ]
  },
  {
   "cell_type": "code",
   "execution_count": 7,
   "metadata": {
    "colab": {
     "base_uri": "https://localhost:8080/",
     "height": 71
    },
    "colab_type": "code",
    "id": "6lGCP7m5ZvE7",
    "outputId": "022d8fb4-876a-41b1-d332-50e550ceeb4e"
   },
   "outputs": [
    {
     "name": "stdout",
     "output_type": "stream",
     "text": [
      "[0.44444444 0.55555556 0.22222222 0.66666667 0.77777778 0.33333333\n",
      " 0.88888889 1.         0.11111111]\n",
      "[20. 25. 10. 30. 35. 15. 40. 45.  5.]\n"
     ]
    }
   ],
   "source": [
    "print(train_target_df['T'].unique())\n",
    "print(train_target_df['T'].unique()*45)"
   ]
  },
  {
   "cell_type": "markdown",
   "metadata": {
    "colab_type": "text",
    "id": "ZcPxObX6ZvE9"
   },
   "source": [
    "## Dimensions"
   ]
  },
  {
   "cell_type": "code",
   "execution_count": 8,
   "metadata": {
    "colab": {
     "base_uri": "https://localhost:8080/",
     "height": 35
    },
    "colab_type": "code",
    "id": "iq3EzwubZvE-",
    "outputId": "e68a7651-d672-4e74-b8af-61f568197cf8"
   },
   "outputs": [
    {
     "data": {
      "text/plain": [
       "(3780, 50)"
      ]
     },
     "execution_count": 8,
     "metadata": {},
     "output_type": "execute_result"
    }
   ],
   "source": [
    "train_data_df.shape"
   ]
  },
  {
   "cell_type": "code",
   "execution_count": 9,
   "metadata": {
    "colab": {
     "base_uri": "https://localhost:8080/",
     "height": 35
    },
    "colab_type": "code",
    "id": "DrV36zyBZvFB",
    "outputId": "2281b8ad-2796-4f1e-fcc1-4be29dd05ffd"
   },
   "outputs": [
    {
     "data": {
      "text/plain": [
       "(420, 2)"
      ]
     },
     "execution_count": 9,
     "metadata": {},
     "output_type": "execute_result"
    }
   ],
   "source": [
    "train_target_df[train_target_df['T'] == 5./45.].shape"
   ]
  },
  {
   "cell_type": "markdown",
   "metadata": {
    "colab_type": "text",
    "id": "MBa0TH6rZvFD"
   },
   "source": [
    "To check how many values we have for each temperature we can do easily with ```groupby()```."
   ]
  },
  {
   "cell_type": "code",
   "execution_count": 10,
   "metadata": {
    "colab": {
     "base_uri": "https://localhost:8080/",
     "height": 215
    },
    "colab_type": "code",
    "id": "kkXJq1UDZvFD",
    "outputId": "63b88eca-ee32-4d9a-e80b-25fcf1818980"
   },
   "outputs": [
    {
     "data": {
      "text/plain": [
       "T\n",
       "0.111111    21\n",
       "0.222222    21\n",
       "0.333333    21\n",
       "0.444444    21\n",
       "0.555556    21\n",
       "0.666667    21\n",
       "0.777778    21\n",
       "0.888889    21\n",
       "1.000000    21\n",
       "Name: O2, dtype: int64"
      ]
     },
     "execution_count": 10,
     "metadata": {},
     "output_type": "execute_result"
    }
   ],
   "source": [
    "train_target_df.groupby('T')['O2'].nunique()"
   ]
  },
  {
   "cell_type": "markdown",
   "metadata": {
    "colab_type": "text",
    "id": "6oK-zfT_ZvFF"
   },
   "source": [
    "Each of the temperature has 5000 observations."
   ]
  },
  {
   "cell_type": "markdown",
   "metadata": {
    "colab_type": "text",
    "id": "fSqYdC5uZvFF"
   },
   "source": [
    "## Reset the index"
   ]
  },
  {
   "cell_type": "code",
   "execution_count": 11,
   "metadata": {
    "colab": {},
    "colab_type": "code",
    "id": "30duZuryZvFF"
   },
   "outputs": [],
   "source": [
    "train_data_df = train_data_df.reset_index(drop = True);\n",
    "train_target_df = train_target_df.reset_index(drop = True);"
   ]
  },
  {
   "cell_type": "markdown",
   "metadata": {
    "colab_type": "text",
    "id": "w72f8KBRZvFG"
   },
   "source": [
    "The unique values of the temperature ($T$) are, as expected"
   ]
  },
  {
   "cell_type": "code",
   "execution_count": 12,
   "metadata": {
    "colab": {
     "base_uri": "https://localhost:8080/",
     "height": 35
    },
    "colab_type": "code",
    "id": "YdlvVhd6ZvFH",
    "outputId": "f9185658-f591-41a3-8b56-dd79377e783f"
   },
   "outputs": [
    {
     "data": {
      "text/plain": [
       "array([ 5., 10., 15., 20., 25., 30., 35., 40., 45.])"
      ]
     },
     "execution_count": 12,
     "metadata": {},
     "output_type": "execute_result"
    }
   ],
   "source": [
    "np.unique(train_target_df['T'])*45"
   ]
  },
  {
   "cell_type": "markdown",
   "metadata": {
    "colab_type": "text",
    "id": "_AGqcSlqZvFI"
   },
   "source": [
    "# Frequency values"
   ]
  },
  {
   "cell_type": "code",
   "execution_count": 13,
   "metadata": {
    "colab": {},
    "colab_type": "code",
    "id": "j6DEKz4GZvFI"
   },
   "outputs": [],
   "source": [
    "wred = [  200.,   300.,   400.,   500.,   600.,   700.,   800.,   900.,\n",
    "        1000.,  1250.,  1500.,  1750.,  2000.,  2250.,  2500.,  2750.,\n",
    "        3000.,  3250.,  3500.,  3750.,  4000.,  4250.,  4500.,  4750.,\n",
    "        5000.,  5250.,  5500.,  5750.,  6000.,  6250.,  6500.,  6750.,\n",
    "        7000.,  7250.,  7500.,  7750.,  8000.,  8250.,  8500.,  8750.,\n",
    "        9000.,  9250.,  9500.,  9750., 10000., 11000., 12000., 13000.,\n",
    "       14000., 15000.]"
   ]
  },
  {
   "cell_type": "markdown",
   "metadata": {
    "colab_type": "text",
    "id": "H3moo3oEZvFJ"
   },
   "source": [
    "# Dataset split"
   ]
  },
  {
   "cell_type": "code",
   "execution_count": 14,
   "metadata": {
    "colab": {},
    "colab_type": "code",
    "id": "syS1hclTZvFK"
   },
   "outputs": [],
   "source": [
    "np.random.seed(42)\n",
    "rnd = np.random.rand(len(train_target_df)) < 0.8"
   ]
  },
  {
   "cell_type": "code",
   "execution_count": 15,
   "metadata": {
    "colab": {},
    "colab_type": "code",
    "id": "7Kt_BJZFZvFL"
   },
   "outputs": [],
   "source": [
    "data_train = train_data_df[rnd]\n",
    "data_dev = train_data_df[~rnd]\n",
    "targets_train = train_target_df[rnd]\n",
    "targets_dev = train_target_df[~rnd]"
   ]
  },
  {
   "cell_type": "code",
   "execution_count": 16,
   "metadata": {
    "colab": {
     "base_uri": "https://localhost:8080/",
     "height": 53
    },
    "colab_type": "code",
    "id": "BwflCkBrZvFL",
    "outputId": "4bf9ba84-bcda-4a5a-b2ab-89bda87b80dd"
   },
   "outputs": [
    {
     "name": "stdout",
     "output_type": "stream",
     "text": [
      "Number of training data observations is  (3024, 50)\n",
      "Number of dev      data observations is  (756, 50)\n"
     ]
    }
   ],
   "source": [
    "print('Number of training data observations is ', data_train.shape)\n",
    "print('Number of dev      data observations is ', data_dev.shape)"
   ]
  },
  {
   "cell_type": "markdown",
   "metadata": {},
   "source": [
    "# Plot 1"
   ]
  },
  {
   "cell_type": "code",
   "execution_count": 17,
   "metadata": {},
   "outputs": [
    {
     "data": {
      "text/plain": [
       "[<matplotlib.lines.Line2D at 0x7fe4a0e67240>]"
      ]
     },
     "execution_count": 17,
     "metadata": {},
     "output_type": "execute_result"
    },
    {
     "data": {
      "image/png": "[encoded data removed]",
      "text/plain": [
       "<Figure size 432x288 with 1 Axes>"
      ]
     },
     "metadata": {
      "needs_background": "light"
     },
     "output_type": "display_data"
    }
   ],
   "source": [
    "plt.plot(wred, train_data_df.iloc[500])"
   ]
  },
  {
   "cell_type": "markdown",
   "metadata": {
    "colab_type": "text",
    "id": "HWgTxCDuZvFQ"
   },
   "source": [
    "## Helper Functions"
   ]
  },
  {
   "cell_type": "code",
   "execution_count": 18,
   "metadata": {
    "colab": {},
    "colab_type": "code",
    "id": "ycNFsXOaZvFR"
   },
   "outputs": [],
   "source": [
    "def MAE_T_list_generator(targets_dev, preds_df):\n",
    "    T_values = targets_dev['T'].unique()*45.0\n",
    "    MAE_list = []\n",
    "    MAE_xticks = T_values\n",
    "    MAE_boxplot = []\n",
    "    for T_ in T_values:\n",
    "        elmts = (targets_dev['T'] == T_/45.0)\n",
    "        tmp_ = targets_dev[elmts]\n",
    "        tmp2_ = preds_df[elmts]\n",
    "        mae_ = np.mean(45.0*np.abs(tmp2_['T'].values- tmp_['T'].values))\n",
    "\n",
    "        MAE_boxplot.append(list(45.0*np.abs(tmp_['T'].values-tmp2_['T'].values)))\n",
    "\n",
    "        MAE_list.append(mae_)\n",
    "        \n",
    "    return MAE_boxplot, MAE_list, MAE_xticks"
   ]
  },
  {
   "cell_type": "code",
   "execution_count": 19,
   "metadata": {
    "colab": {},
    "colab_type": "code",
    "id": "7ESrffFUZvFV"
   },
   "outputs": [],
   "source": [
    "def MAE_O2_list_generator(step, targets_dev, preds_df):\n",
    "    breaks = np.arange(step,101.0, step)\n",
    "    MAE_list = []\n",
    "    MAE_xticks = []\n",
    "    MAE_boxplot = []\n",
    "    for O2_ in breaks:\n",
    "        elmts = (targets_dev['O2'] < O2_/100.0) & (targets_dev['O2'] >= (O2_-step)/100.0)\n",
    "        tmp_ = targets_dev[elmts]\n",
    "        tmp2_ = preds_df[elmts]\n",
    "        mae_ = np.mean(100*np.abs(tmp2_['O2'].values- tmp_['O2'].values))\n",
    "\n",
    "        #print (\"MAE for range [\", int(O2_), \",\", int(O2_-step), \"] is\", mae_)\n",
    "\n",
    "        MAE_boxplot.append(list(100.0*np.abs(tmp_['O2'].values-tmp2_['O2'].values)))\n",
    "\n",
    "        MAE_list.append(mae_)\n",
    "        MAE_xticks.append(\"[\"+ str(int(O2_-step))+ \",\"+ str(int(O2_))+ \"]\")\n",
    "    \n",
    "    return MAE_boxplot, MAE_list, MAE_xticks"
   ]
  },
  {
   "cell_type": "code",
   "execution_count": 20,
   "metadata": {
    "colab": {},
    "colab_type": "code",
    "id": "ix9iIYTcZvFW"
   },
   "outputs": [],
   "source": [
    "# Get predictions\n",
    "def get_predictions(model, targets_dev, data_dev):\n",
    "    preds = model.predict(data_dev)\n",
    "    preds_df = pd.DataFrame(preds)\n",
    "    preds_df.columns = ['O2', 'T']\n",
    "    targets_dev_ = targets_dev.reset_index(drop = True)\n",
    "    preds_df_ = preds_df.reset_index(drop = True)\n",
    "    \n",
    "    return targets_dev_, preds_df_"
   ]
  },
  {
   "cell_type": "code",
   "execution_count": 21,
   "metadata": {
    "colab": {},
    "colab_type": "code",
    "id": "xY5mtw2DZvFW"
   },
   "outputs": [],
   "source": [
    "class CustomCallback(keras.callbacks.Callback):\n",
    "    def on_epoch_end(self, epoch, logs={}):\n",
    "        if (epoch % 1000 == 0):\n",
    "            print (\"Just finished epoch\", epoch)\n",
    "            print (logs)\n",
    "            return\n",
    "        \n",
    "class CustomCallbackProgress(keras.callbacks.Callback):\n",
    "    \n",
    "    def __init__(self, totalEpochs, step):\n",
    "        self.step = 0\n",
    "        self.totalEpochs = totalEpochs\n",
    "        self.step = step\n",
    "        \n",
    "        \n",
    "    def on_epoch_end(self, epoch, logs={}):\n",
    "        if (epoch % 200 == 0):\n",
    "            i = int(epoch / 200)\n",
    "            \n",
    "            if (i > 0):\n",
    "                numberOfEquals = int(self.totalEpochs/200*i)\n",
    "                percent = 100/(self.totalEpochs/200)*i\n",
    "            else:\n",
    "                numberOfEquals = 0\n",
    "                percent = 0\n",
    "                \n",
    "                \n",
    "            print (\"\\r[%-20s] %d%%\" % ('='*i, percent), end='')\n",
    "            \n",
    "            if(percent == 100):\n",
    "                print('')\n",
    "        "
   ]
  },
  {
   "cell_type": "code",
   "execution_count": 22,
   "metadata": {
    "colab": {},
    "colab_type": "code",
    "id": "pvugRkk3ZvFX"
   },
   "outputs": [],
   "source": [
    "def reset_keras():\n",
    "    K.get_session().close()\n",
    "    K.set_session(tf.Session())\n",
    "    K.get_session().run(tf.global_variables_initializer())"
   ]
  },
  {
   "cell_type": "code",
   "execution_count": 23,
   "metadata": {
    "colab": {},
    "colab_type": "code",
    "id": "hf_xjlejZvFZ"
   },
   "outputs": [],
   "source": [
    "def average_runs(n_iter, model_):\n",
    "    MAE_O2_boxplot_avg = [0]*9\n",
    "    MAE_T_boxplot_avg = [0]*5\n",
    "\n",
    "    for i in range(n_iter):\n",
    "        print (\"Training iteration \", i)\n",
    "        \n",
    "        model_.fit(data_train, targets_train, epochs=4001, batch_size=1000,verbose = 0,\n",
    "             validation_data= (data_dev, targets_dev), callbacks = [CustomCallbackProgress(4000,200)])\n",
    "\n",
    "        print(\"Getting predictions for iteration \",i)\n",
    "        targets_dev_, preds_df_ = get_predictions(model_, targets_dev, data_dev)\n",
    "        targets_train_, preds_train_ = get_predictions(model_, targets_train, data_train)\n",
    "\n",
    "        print(\"Generating MAE lists for iteration \", i)\n",
    "        MAE_boxplot_, MAE_list_, MAE_xticks_ = MAE_O2_list_generator(10.0, targets_dev_, preds_df_)\n",
    "        MAE_T_boxplot_, MAE_T_list_, MAE_T_xticks_ = MAE_T_list_generator(targets_dev_, preds_df_)\n",
    "        #MAE_boxplot_train_, MAE_list_train_, MAE_xticks_train_ = MAE_list_generator(10.0, targets_train_, preds_train_)\n",
    "\n",
    "        for j in range(len(MAE_boxplot_)):\n",
    "            MAE_O2_boxplot_avg[j] = MAE_O2_boxplot_avg[j] + np.array(MAE_boxplot_[j])/n_iter\n",
    "            \n",
    "        for j in range(len(MAE_T_boxplot_)):\n",
    "            MAE_T_boxplot_avg[j] = MAE_T_boxplot_avg[j] + np.array(MAE_T_boxplot_[j])/n_iter\n",
    "\n",
    "    return MAE_O2_boxplot_avg, MAE_T_boxplot_avg"
   ]
  },
  {
   "cell_type": "code",
   "execution_count": 24,
   "metadata": {
    "colab": {},
    "colab_type": "code",
    "id": "i5JVJPB1ZvFZ"
   },
   "outputs": [],
   "source": [
    "def get_mae(MAE_boxplot_):\n",
    "    flat_list = [item for sublist in MAE_boxplot_ for item in sublist]\n",
    "    return np.mean(flat_list)"
   ]
  },
  {
   "cell_type": "markdown",
   "metadata": {
    "colab_type": "text",
    "id": "qubDL3VCZvFb"
   },
   "source": [
    "# Random Seed to get reproducible results"
   ]
  },
  {
   "cell_type": "code",
   "execution_count": 25,
   "metadata": {
    "colab": {},
    "colab_type": "code",
    "id": "jd131E5PZvFc"
   },
   "outputs": [],
   "source": [
    "K.clear_session()\n",
    "\n",
    "from numpy.random import seed\n",
    "seed(42)\n",
    "#from tensorflow import set_random_seed\n",
    "#set_random_seed(42)"
   ]
  },
  {
   "cell_type": "markdown",
   "metadata": {
    "colab_type": "text",
    "id": "3jXoqPciZvFd"
   },
   "source": [
    "# Network C"
   ]
  },
  {
   "cell_type": "code",
   "execution_count": 26,
   "metadata": {
    "colab": {},
    "colab_type": "code",
    "id": "ivJYtwZTZvFe"
   },
   "outputs": [],
   "source": [
    "class CustomCallback_(keras.callbacks.Callback):\n",
    "    def on_epoch_end(self, epoch, logs={}):\n",
    "        if (epoch % 500 == 0):\n",
    "            print (\"Just finished epoch\", epoch)\n",
    "            #print(logs)\n",
    "            print (\"Validation MAE_O2 = \", 100*float(logs.get(\"val_O2_output_mae\")))\n",
    "            print (\"Validation MAE_T = \", 45*float(logs.get(\"val_T_output_mae\")))\n",
    "            print (\"Training   MAE_O2 = \", 100*float(logs.get(\"O2_output_mae\")))\n",
    "            print (\"Training   MAE_T = \", 45*float(logs.get(\"T_output_mae\")))\n",
    "            \n",
    "            return"
   ]
  },
  {
   "cell_type": "code",
   "execution_count": 27,
   "metadata": {
    "colab": {},
    "colab_type": "code",
    "id": "zolxZDx0ZvFe"
   },
   "outputs": [],
   "source": [
    "K.clear_session()"
   ]
  },
  {
   "cell_type": "code",
   "execution_count": 28,
   "metadata": {
    "colab": {},
    "colab_type": "code",
    "id": "Iy4UkWvnZvFf"
   },
   "outputs": [],
   "source": [
    "input_x = keras.layers.Input(shape = (50,))\n",
    "lay1 = layers.Dense(50,  activation='sigmoid', dtype = tf.float32)(input_x)\n",
    "lay2 = layers.Dense(50, activation='sigmoid')(lay1)\n",
    "lay3 = layers.Dense(50, activation='sigmoid')(lay2)\n",
    "outboth = layers.Dense(2, activation='sigmoid',name=\"both_output\")(lay3)\n",
    "\n",
    "lay4 = layers.Dense(5, activation='sigmoid')(lay3)\n",
    "lay5 = layers.Dense(5, activation='sigmoid')(lay4)\n",
    "outo2 = layers.Dense(1, activation = 'sigmoid',name=\"O2_output\")(lay5)\n",
    "\n",
    "\n",
    "lay6 = layers.Dense(5, activation='sigmoid')(lay3)\n",
    "lay7 = layers.Dense(5, activation='sigmoid')(lay6)\n",
    "outT = layers.Dense(1, activation = 'sigmoid', name = \"T_output\")(lay7)\n",
    "\n",
    "#model = Model(input_x, outl)\n",
    "\n",
    "model4 = Model(\n",
    "    inputs=input_x,\n",
    "    outputs=[outboth, outo2, outT])"
   ]
  },
  {
   "cell_type": "code",
   "execution_count": 29,
   "metadata": {
    "colab": {
     "base_uri": "https://localhost:8080/",
     "height": 557
    },
    "colab_type": "code",
    "id": "vUcbGBnxZvFf",
    "outputId": "9946374a-ec63-480f-ae0a-2eb59e9cc154"
   },
   "outputs": [
    {
     "name": "stdout",
     "output_type": "stream",
     "text": [
      "Model: \"model\"\n",
      "__________________________________________________________________________________________________\n",
      "Layer (type)                    Output Shape         Param #     Connected to                     \n",
      "==================================================================================================\n",
      "input_1 (InputLayer)            [(None, 50)]         0                                            \n",
      "__________________________________________________________________________________________________\n",
      "dense (Dense)                   (None, 50)           2550        input_1[0][0]                    \n",
      "__________________________________________________________________________________________________\n",
      "dense_1 (Dense)                 (None, 50)           2550        dense[0][0]                      \n",
      "__________________________________________________________________________________________________\n",
      "dense_2 (Dense)                 (None, 50)           2550        dense_1[0][0]                    \n",
      "__________________________________________________________________________________________________\n",
      "dense_3 (Dense)                 (None, 5)            255         dense_2[0][0]                    \n",
      "__________________________________________________________________________________________________\n",
      "dense_5 (Dense)                 (None, 5)            255         dense_2[0][0]                    \n",
      "__________________________________________________________________________________________________\n",
      "dense_4 (Dense)                 (None, 5)            30          dense_3[0][0]                    \n",
      "__________________________________________________________________________________________________\n",
      "dense_6 (Dense)                 (None, 5)            30          dense_5[0][0]                    \n",
      "__________________________________________________________________________________________________\n",
      "both_output (Dense)             (None, 2)            102         dense_2[0][0]                    \n",
      "__________________________________________________________________________________________________\n",
      "O2_output (Dense)               (None, 1)            6           dense_4[0][0]                    \n",
      "__________________________________________________________________________________________________\n",
      "T_output (Dense)                (None, 1)            6           dense_6[0][0]                    \n",
      "==================================================================================================\n",
      "Total params: 8,334\n",
      "Trainable params: 8,334\n",
      "Non-trainable params: 0\n",
      "__________________________________________________________________________________________________\n"
     ]
    }
   ],
   "source": [
    "model4.summary()"
   ]
  },
  {
   "cell_type": "code",
   "execution_count": 30,
   "metadata": {
    "colab": {},
    "colab_type": "code",
    "id": "GaxNArMlZvFg"
   },
   "outputs": [],
   "source": [
    "losses = {\n",
    "        \"both_output\": \"mse\",\n",
    "        \"O2_output\": \"mse\",\n",
    "        \"T_output\": \"mse\"\n",
    "}\n",
    "\n",
    "lossWeights = {\"both_output\": 0.3, \"O2_output\": 5.0, \"T_output\": 5.0}\n",
    "\n",
    "opt = Adam(lr=0.001)\n",
    "\n",
    "model4.compile(optimizer=opt, loss=losses, loss_weights=lossWeights,\n",
    "        metrics=[\"mae\"])"
   ]
  },
  {
   "cell_type": "code",
   "execution_count": 31,
   "metadata": {
    "colab": {},
    "colab_type": "code",
    "id": "QAR-gIrbZvFh"
   },
   "outputs": [],
   "source": [
    "targets_train_O2 = targets_train['O2']\n",
    "targets_dev_O2 = targets_dev['O2']\n",
    "targets_train_T = targets_train['T']\n",
    "targets_dev_T = targets_dev['T']"
   ]
  },
  {
   "cell_type": "markdown",
   "metadata": {
    "colab_type": "text",
    "id": "-do_u4EDZvFh"
   },
   "source": [
    "### WORKING HERE"
   ]
  },
  {
   "cell_type": "code",
   "execution_count": 32,
   "metadata": {
    "colab": {
     "base_uri": "https://localhost:8080/",
     "height": 1000
    },
    "colab_type": "code",
    "id": "5SOLycrnZvFh",
    "outputId": "395a8a6d-324e-4068-ab11-115d1dd7daeb"
   },
   "outputs": [
    {
     "name": "stdout",
     "output_type": "stream",
     "text": [
      "Just finished epoch 0\n",
      "{'loss': 1.1647096872329712, 'both_output_loss': 0.13023087, 'O2_output_loss': 0.13799328, 'T_output_loss': 0.08713481, 'both_output_mae': 0.2981871, 'O2_output_mae': 0.30650446, 'T_output_mae': 0.25466615, 'val_loss': 1.1253135204315186, 'val_both_output_loss': 0.12475486, 'val_O2_output_loss': 0.13293098, 'val_T_output_loss': 0.08464644, 'val_both_output_mae': 0.29095697, 'val_O2_output_mae': 0.30156353, 'val_T_output_mae': 0.25253722}\n",
      "Just finished epoch 1000\n",
      "{'loss': 0.44544756412506104, 'both_output_loss': 0.039793674, 'O2_output_loss': 0.010890246, 'T_output_loss': 0.07581165, 'both_output_mae': 0.14151396, 'O2_output_mae': 0.07903778, 'T_output_mae': 0.23700319, 'val_loss': 0.4607251286506653, 'val_both_output_loss': 0.04119592, 'val_O2_output_loss': 0.0109878015, 'val_T_output_loss': 0.07868547, 'val_both_output_mae': 0.14487006, 'val_O2_output_mae': 0.07980891, 'val_T_output_mae': 0.24291196}\n",
      "Just finished epoch 2000\n",
      "{'loss': 0.06454828381538391, 'both_output_loss': 0.009651739, 'O2_output_loss': 0.003163096, 'T_output_loss': 0.009167457, 'both_output_mae': 0.066865616, 'O2_output_mae': 0.040345132, 'T_output_mae': 0.06256321, 'val_loss': 0.07398612797260284, 'val_both_output_loss': 0.010523213, 'val_O2_output_loss': 0.0031797616, 'val_T_output_loss': 0.010986071, 'val_both_output_mae': 0.06948799, 'val_O2_output_mae': 0.041318264, 'val_T_output_mae': 0.06858356}\n",
      "Just finished epoch 3000\n",
      "{'loss': 0.04031107574701309, 'both_output_loss': 0.005426843, 'O2_output_loss': 0.0011529304, 'T_output_loss': 0.0065836743, 'both_output_mae': 0.043382626, 'O2_output_mae': 0.019818917, 'T_output_mae': 0.05086456, 'val_loss': 0.04838689789175987, 'val_both_output_loss': 0.00632678, 'val_O2_output_loss': 0.0011304354, 'val_T_output_loss': 0.008167338, 'val_both_output_mae': 0.045747362, 'val_O2_output_mae': 0.02042283, 'val_T_output_mae': 0.05538031}\n",
      "Just finished epoch 4000\n",
      "{'loss': 0.034941330552101135, 'both_output_loss': 0.004587174, 'O2_output_loss': 0.0006061074, 'T_output_loss': 0.0061069285, 'both_output_mae': 0.03806697, 'O2_output_mae': 0.013648513, 'T_output_mae': 0.047123976, 'val_loss': 0.047018807381391525, 'val_both_output_loss': 0.0057996036, 'val_O2_output_loss': 0.0005764253, 'val_T_output_loss': 0.00847936, 'val_both_output_mae': 0.041660774, 'val_O2_output_mae': 0.014447561, 'val_T_output_mae': 0.054887272}\n",
      "Just finished epoch 5000\n",
      "{'loss': 0.028999177739024162, 'both_output_loss': 0.0040778155, 'O2_output_loss': 0.00035360557, 'T_output_loss': 0.005201561, 'both_output_mae': 0.034319893, 'O2_output_mae': 0.0102254925, 'T_output_mae': 0.04011828, 'val_loss': 0.03805287182331085, 'val_both_output_loss': 0.0051125158, 'val_O2_output_loss': 0.0003242603, 'val_T_output_loss': 0.0069795633, 'val_both_output_mae': 0.037647463, 'val_O2_output_mae': 0.010298097, 'val_T_output_mae': 0.045928013}\n",
      "Just finished epoch 6000\n",
      "{'loss': 0.026668883860111237, 'both_output_loss': 0.0039104475, 'O2_output_loss': 0.00022392381, 'T_output_loss': 0.004875226, 'both_output_mae': 0.03346153, 'O2_output_mae': 0.008470018, 'T_output_mae': 0.036777597, 'val_loss': 0.035806410014629364, 'val_both_output_loss': 0.0049485825, 'val_O2_output_loss': 0.00020025064, 'val_T_output_loss': 0.0066641164, 'val_both_output_mae': 0.03685256, 'val_O2_output_mae': 0.00837649, 'val_T_output_mae': 0.0425872}\n",
      "Just finished epoch 7000\n",
      "{'loss': 0.025081558153033257, 'both_output_loss': 0.0038522987, 'O2_output_loss': 0.00015145705, 'T_output_loss': 0.0046337163, 'both_output_mae': 0.03347591, 'O2_output_mae': 0.0072953524, 'T_output_mae': 0.033734497, 'val_loss': 0.034116972237825394, 'val_both_output_loss': 0.004884937, 'val_O2_output_loss': 0.00013368427, 'val_T_output_loss': 0.006396614, 'val_both_output_mae': 0.03677989, 'val_O2_output_mae': 0.007076872, 'val_T_output_mae': 0.03947326}\n",
      "Just finished epoch 8000\n",
      "{'loss': 0.02392338216304779, 'both_output_loss': 0.0038432248, 'O2_output_loss': 0.00010878421, 'T_output_loss': 0.0044452986, 'both_output_mae': 0.033627898, 'O2_output_mae': 0.0063894894, 'T_output_mae': 0.031089086, 'val_loss': 0.03254539892077446, 'val_both_output_loss': 0.004849703, 'val_O2_output_loss': 9.589825e-05, 'val_T_output_loss': 0.0061221994, 'val_both_output_mae': 0.036783952, 'val_O2_output_mae': 0.0061159628, 'val_T_output_mae': 0.036463432}\n",
      "Just finished epoch 9000\n",
      "{'loss': 0.023166606202721596, 'both_output_loss': 0.0038447103, 'O2_output_loss': 8.2758466e-05, 'T_output_loss': 0.00431988, 'both_output_mae': 0.0335012, 'O2_output_mae': 0.0058923573, 'T_output_mae': 0.02917275, 'val_loss': 0.03137250244617462, 'val_both_output_loss': 0.004825354, 'val_O2_output_loss': 7.23528e-05, 'val_T_output_loss': 0.005912626, 'val_both_output_mae': 0.036493264, 'val_O2_output_mae': 0.0055634812, 'val_T_output_mae': 0.03413768}\n",
      "Just finished epoch 10000\n",
      "{'loss': 0.02463475614786148, 'both_output_loss': 0.003929077, 'O2_output_loss': 6.736974e-05, 'T_output_loss': 0.004623837, 'both_output_mae': 0.03353447, 'O2_output_mae': 0.0054791886, 'T_output_mae': 0.032804366, 'val_loss': 0.035636965185403824, 'val_both_output_loss': 0.005059169, 'val_O2_output_loss': 6.0685732e-05, 'val_T_output_loss': 0.006763157, 'val_both_output_mae': 0.03709649, 'val_O2_output_mae': 0.0055600624, 'val_T_output_mae': 0.038535472}\n",
      "Just finished epoch 11000\n",
      "{'loss': 0.02428172156214714, 'both_output_loss': 0.003912545, 'O2_output_loss': 5.5130804e-05, 'T_output_loss': 0.004566461, 'both_output_mae': 0.033025533, 'O2_output_mae': 0.005099627, 'T_output_mae': 0.03217558, 'val_loss': 0.035269662737846375, 'val_both_output_loss': 0.0050411755, 'val_O2_output_loss': 5.035211e-05, 'val_T_output_loss': 0.0067011095, 'val_both_output_mae': 0.036565833, 'val_O2_output_mae': 0.0052217715, 'val_T_output_mae': 0.037694614}\n",
      "Just finished epoch 12000\n",
      "{'loss': 0.02401820197701454, 'both_output_loss': 0.0038895991, 'O2_output_loss': 4.6158435e-05, 'T_output_loss': 0.004524106, 'both_output_mae': 0.032453194, 'O2_output_mae': 0.004761697, 'T_output_mae': 0.031710275, 'val_loss': 0.03497876971960068, 'val_both_output_loss': 0.0050164396, 'val_O2_output_loss': 4.271125e-05, 'val_T_output_loss': 0.0066520562, 'val_both_output_mae': 0.03600594, 'val_O2_output_mae': 0.00489312, 'val_T_output_mae': 0.03713215}\n",
      "Just finished epoch 13000\n",
      "{'loss': 0.02380816638469696, 'both_output_loss': 0.0038619118, 'O2_output_loss': 3.9461353e-05, 'T_output_loss': 0.004490457, 'both_output_mae': 0.03189296, 'O2_output_mae': 0.0044592973, 'T_output_mae': 0.031341366, 'val_loss': 0.03472229093313217, 'val_both_output_loss': 0.004986271, 'val_O2_output_loss': 3.6934813e-05, 'val_T_output_loss': 0.006608347, 'val_both_output_mae': 0.0354792, 'val_O2_output_mae': 0.0045881663, 'val_T_output_mae': 0.036742475}\n",
      "Just finished epoch 14000\n",
      "{'loss': 0.02364553138613701, 'both_output_loss': 0.003831521, 'O2_output_loss': 3.440757e-05, 'T_output_loss': 0.0044648075, 'both_output_mae': 0.0313955, 'O2_output_mae': 0.0041984296, 'T_output_mae': 0.031074084, 'val_loss': 0.034511931240558624, 'val_both_output_loss': 0.004953595, 'val_O2_output_loss': 3.2543467e-05, 'val_T_output_loss': 0.006572627, 'val_both_output_mae': 0.035022043, 'val_O2_output_mae': 0.0043289782, 'val_T_output_mae': 0.036460254}\n",
      "Just finished epoch 15000\n",
      "{'loss': 0.023509789258241653, 'both_output_loss': 0.003798877, 'O2_output_loss': 3.057551e-05, 'T_output_loss': 0.0044434494, 'both_output_mae': 0.030952869, 'O2_output_mae': 0.0039932337, 'T_output_mae': 0.030857077, 'val_loss': 0.03431941941380501, 'val_both_output_loss': 0.0049184966, 'val_O2_output_loss': 2.9188071e-05, 'val_T_output_loss': 0.0065395865, 'val_both_output_mae': 0.034628224, 'val_O2_output_mae': 0.00412266, 'val_T_output_mae': 0.03622409}\n",
      "Just finished epoch 16000\n",
      "{'loss': 0.0233868770301342, 'both_output_loss': 0.0037641074, 'O2_output_loss': 2.7597074e-05, 'T_output_loss': 0.004423932, 'both_output_mae': 0.030558294, 'O2_output_mae': 0.0038271847, 'T_output_mae': 0.03066423, 'val_loss': 0.034131623804569244, 'val_both_output_loss': 0.004880897, 'val_O2_output_loss': 2.6546084e-05, 'val_T_output_loss': 0.006506925, 'val_both_output_mae': 0.03426302, 'val_O2_output_mae': 0.0039536953, 'val_T_output_mae': 0.036013674}\n",
      "Just finished epoch 17000\n",
      "{'loss': 0.023286432027816772, 'both_output_loss': 0.0037279974, 'O2_output_loss': 2.5229996e-05, 'T_output_loss': 0.0044083768, 'both_output_mae': 0.030206844, 'O2_output_mae': 0.0036904383, 'T_output_mae': 0.0305231, 'val_loss': 0.033967480063438416, 'val_both_output_loss': 0.004841691, 'val_O2_output_loss': 2.4423685e-05, 'val_T_output_loss': 0.006478571, 'val_both_output_mae': 0.033910897, 'val_O2_output_mae': 0.0038038406, 'val_T_output_mae': 0.0358517}\n",
      "Just finished epoch 18000\n",
      "{'loss': 0.02318888157606125, 'both_output_loss': 0.0036899836, 'O2_output_loss': 2.3310906e-05, 'T_output_loss': 0.0043930663, 'both_output_mae': 0.029877689, 'O2_output_mae': 0.0035696651, 'T_output_mae': 0.030384624, 'val_loss': 0.033801548182964325, 'val_both_output_loss': 0.004799868, 'val_O2_output_loss': 2.268195e-05, 'val_T_output_loss': 0.0064496356, 'val_both_output_mae': 0.033556096, 'val_O2_output_mae': 0.0036696745, 'val_T_output_mae': 0.035696894}\n",
      "Just finished epoch 19000\n",
      "{'loss': 0.023097340017557144, 'both_output_loss': 0.003650556, 'O2_output_loss': 2.1754182e-05, 'T_output_loss': 0.0043786806, 'both_output_mae': 0.029572101, 'O2_output_mae': 0.0034632, 'T_output_mae': 0.030257508, 'val_loss': 0.03363997861742973, 'val_both_output_loss': 0.0047560954, 'val_O2_output_loss': 2.1263351e-05, 'val_T_output_loss': 0.0064213662, 'val_both_output_mae': 0.033194255, 'val_O2_output_mae': 0.0035527172, 'val_T_output_mae': 0.03555664}\n"
     ]
    }
   ],
   "source": [
    "H = model4.fit(data_train,\n",
    "        {\"both_output\": targets_train, \"O2_output\": targets_train_O2, \"T_output\": targets_train_T},\n",
    "        validation_data=(data_dev,\n",
    "            {\"both_output\": targets_dev, \"O2_output\": targets_dev_O2, \"T_output\": targets_dev_T}),\n",
    "        epochs=20000, batch_size = 19983,\n",
    "        verbose=0, callbacks = [CustomCallback()])"
   ]
  },
  {
   "cell_type": "code",
   "execution_count": 33,
   "metadata": {
    "colab": {},
    "colab_type": "code",
    "id": "M-UMGLNJZvFi"
   },
   "outputs": [],
   "source": [
    "(O2T, O2, T) = model4.predict(data_dev)\n",
    "preds_exp_df = pd.DataFrame(O2T)\n",
    "preds_exp_df.columns = ['O2', 'T']\n",
    "preds_exp_o2_df = pd.DataFrame(O2[:,0])\n",
    "preds_exp_o2_df.columns = ['O2']\n",
    "\n",
    "preds_exp_T_df = pd.DataFrame(T[:,0])\n",
    "preds_exp_T_df.columns = ['T']"
   ]
  },
  {
   "cell_type": "code",
   "execution_count": 34,
   "metadata": {
    "colab": {},
    "colab_type": "code",
    "id": "TAQKhZDjZvFi"
   },
   "outputs": [],
   "source": [
    "targets_dev = targets_dev.reset_index(drop = True)\n",
    "preds_exp_o2_df = preds_exp_o2_df.reset_index(drop = True)\n",
    "preds_exp_T_df = preds_exp_T_df.reset_index(drop = True)"
   ]
  },
  {
   "cell_type": "code",
   "execution_count": 35,
   "metadata": {
    "colab": {},
    "colab_type": "code",
    "id": "mzVtcUYsZvFj"
   },
   "outputs": [],
   "source": [
    "MAE_boxplot_C, MAE_list_C, MAE_xticks_C = MAE_O2_list_generator(10.0, targets_dev, preds_exp_o2_df)\n",
    "MAET_boxplot_C_MTL, MAET_list_C_MTL, MAET_xticks_C_MTL = MAE_T_list_generator(targets_dev, preds_exp_T_df)"
   ]
  },
  {
   "cell_type": "code",
   "execution_count": 36,
   "metadata": {
    "colab": {
     "base_uri": "https://localhost:8080/",
     "height": 197
    },
    "colab_type": "code",
    "id": "XeoJZecyZvFj",
    "outputId": "7e78f0e9-41ec-4bbd-dffe-2258a145120e"
   },
   "outputs": [
    {
     "data": {
      "text/plain": [
       "[0.38693650423672554,\n",
       " 0.2845515045401168,\n",
       " 0.23030931261223817,\n",
       " 0.26693421105543635,\n",
       " 0.19454677899678613,\n",
       " 0.27302408410657,\n",
       " 0.30751096574883713,\n",
       " 0.2337992644008192,\n",
       " 0.2885806994004681,\n",
       " 0.3838772744667256]"
      ]
     },
     "execution_count": 36,
     "metadata": {},
     "output_type": "execute_result"
    }
   ],
   "source": [
    "MAE_list_C"
   ]
  },
  {
   "cell_type": "code",
   "execution_count": 37,
   "metadata": {
    "colab": {
     "base_uri": "https://localhost:8080/",
     "height": 35
    },
    "colab_type": "code",
    "id": "TPq8KP8FZvFk",
    "outputId": "d8b6af4a-487c-48f5-ac8b-b54b2b8a4eb5"
   },
   "outputs": [
    {
     "data": {
      "text/plain": [
       "0.2850070599564723"
      ]
     },
     "execution_count": 37,
     "metadata": {},
     "output_type": "execute_result"
    }
   ],
   "source": [
    "np.mean(MAE_list_C) \n",
    "# 64/32/32 -->\n",
    "# 50       -->\n",
    "# 80       -->"
   ]
  },
  {
   "cell_type": "code",
   "execution_count": 54,
   "metadata": {
    "colab": {
     "base_uri": "https://localhost:8080/",
     "height": 443
    },
    "colab_type": "code",
    "id": "ic8H7_tdZvFk",
    "outputId": "3e9744f5-3694-4d8b-e73c-b8778d5d7982"
   },
   "outputs": [
    {
     "data": {
      "text/plain": [
       "<matplotlib.legend.Legend at 0x7ffe8b249320>"
      ]
     },
     "execution_count": 54,
     "metadata": {},
     "output_type": "execute_result"
    },
    {
     "data": {
      "text/plain": [
       "<Figure size 432x288 with 0 Axes>"
      ]
     },
     "metadata": {},
     "output_type": "display_data"
    },
    {
     "data": {
      "image/png": "[encoded data removed]",
      "text/plain": [
       "<Figure size 576x360 with 1 Axes>"
      ]
     },
     "metadata": {
      "needs_background": "light"
     },
     "output_type": "display_data"
    }
   ],
   "source": [
    "maxx = 4.0\n",
    "\n",
    "plt.rc('font', family='arial')\n",
    "plt.rc('xtick', labelsize='x-small')\n",
    "plt.rc('ytick', labelsize='x-small')\n",
    "    \n",
    "plt.tight_layout()\n",
    "\n",
    "fig = plt.figure(figsize=(8, 5))\n",
    "\n",
    "ax = fig.add_subplot(1, 1, 1)\n",
    "\n",
    "#bp = ax.scatter(range(1,len(MAE_xticks50)+1),MAE_list50, s = 60, color = 'black', label = 'Network A (50/50/50)')\n",
    "#bp = ax.scatter(range(1,len(MAE_xticks_MTL)+1),MAE_list_MTL, s = 60, color = 'red', label = 'Network B (MTL)')\n",
    "bp = ax.scatter(range(1,len(MAE_xticks_C)+1),MAE_list_C, s = 60, color = 'blue', label = 'Network C (MTL)')\n",
    "plt.ylim(0, 2)\n",
    "plt.xticks(range(1,len(MAE_xticks_C)+1), MAE_xticks_C, size='small', rotation = 'vertical')\n",
    "#plt.grid()\n",
    "plt.ylabel('Mean Absolute Error (% air)', fontsize = 16)\n",
    "plt.xlabel('$[O_2]$ ranges', fontsize = 16)\n",
    "plt.tick_params(labelsize=16)\n",
    "plt.legend(loc = 'upper left', fontsize = 16)\n",
    "#plt.xlim(0,9.5)\n",
    "\n",
    "\n",
    "#fig.savefig('Figures/absolute_error_for_T_boxplots.eps', format='eps', dpi=300,bbox_inches='tight')"
   ]
  },
  {
   "cell_type": "code",
   "execution_count": 39,
   "metadata": {
    "colab": {
     "base_uri": "https://localhost:8080/",
     "height": 443
    },
    "colab_type": "code",
    "id": "etGRCxNYdQXu",
    "outputId": "da4a0bc9-dd64-43fd-8d96-7753f9d333af"
   },
   "outputs": [
    {
     "name": "stderr",
     "output_type": "stream",
     "text": [
      "WARNING: Logging before flag parsing goes to stderr.\n",
      "W0128 15:57:29.999573 4640374208 backend_ps.py:804] The PostScript backend does not support transparency; partially transparent artists will be rendered opaque.\n",
      "W0128 15:57:30.000138 4640374208 backend_ps.py:804] The PostScript backend does not support transparency; partially transparent artists will be rendered opaque.\n",
      "W0128 15:57:30.046384 4640374208 backend_ps.py:804] The PostScript backend does not support transparency; partially transparent artists will be rendered opaque.\n",
      "W0128 15:57:30.047194 4640374208 backend_ps.py:804] The PostScript backend does not support transparency; partially transparent artists will be rendered opaque.\n"
     ]
    },
    {
     "data": {
      "text/plain": [
       "<Figure size 432x288 with 0 Axes>"
      ]
     },
     "metadata": {},
     "output_type": "display_data"
    },
    {
     "data": {
      "image/png": "[encoded data removed]",
      "text/plain": [
       "<Figure size 1152x360 with 2 Axes>"
      ]
     },
     "metadata": {
      "needs_background": "light"
     },
     "output_type": "display_data"
    }
   ],
   "source": [
    "maxy = 20.0\n",
    "\n",
    "\n",
    "plt.rc('font', family='arial')\n",
    "plt.rc('xtick', labelsize='x-small')\n",
    "plt.rc('ytick', labelsize='x-small')\n",
    "    \n",
    "plt.tight_layout()\n",
    "\n",
    "fig = plt.figure(figsize=(16, 5))\n",
    "\n",
    "\n",
    "\n",
    "ax = fig.add_subplot(1, 2, 1)\n",
    "\n",
    "\n",
    "bp = ax.boxplot(MAE_boxplot_C, whis = 'range')\n",
    "ax.set_xticklabels([5, 15, 25, 35, 45])\n",
    "\n",
    "for whisker in bp['whiskers']:\n",
    "    whisker.set(color = 'black', linewidth = 2)\n",
    "for cap in bp['caps']:\n",
    "    cap.set(color = 'black', linewidth = 2)\n",
    "for box in bp['boxes']:\n",
    "    box.set(color = 'black', linewidth = 2)\n",
    "for median in bp['medians']:\n",
    "    median.set(color = 'red', linewidth = 2)\n",
    "for outl in bp['fliers']:\n",
    "    outl.set(linewidth = 0, ms = 0, mew = 1.4, markerfacecolor = 'none')\n",
    "    \n",
    "#plt.ylim(-0.2, 2.9)\n",
    "    \n",
    "#ax.text(1, 1.5, 'Value for $[O_2] = 100$ % Air', fontsize = 18)\n",
    "\n",
    "legend_elements = [\n",
    "                  Line2D([0], [0],  lw = 2, color='red', label='Network C',\n",
    "                          markerfacecolor='none', markeredgewidth=1.4, markersize=8)]\n",
    "ax.legend(handles=legend_elements, loc='upper left', fontsize = 16)\n",
    "\n",
    "plt.xticks(range(1,len(MAE_xticks_C)+1), MAE_xticks_C, size='small', rotation = 'vertical')\n",
    "\n",
    "#plt.grid()\n",
    "\n",
    "plt.ylabel('Absolute Error (% air)', fontsize = 16)\n",
    "plt.xlabel('$[O_2]$ ranges (% air)', fontsize = 16)\n",
    "plt.tick_params(labelsize=16)\n",
    "plt.ylim(-0.1,maxy)\n",
    "\n",
    "\n",
    "\n",
    "\n",
    "ax = fig.add_subplot(1, 2, 2)\n",
    "\n",
    "\n",
    "bp = ax.boxplot(MAET_boxplot_C_MTL, whis = 'range')\n",
    "ax.set_xticklabels([5, 15, 25, 35, 45])\n",
    "\n",
    "for whisker in bp['whiskers']:\n",
    "    whisker.set(color = 'black', linewidth = 2)\n",
    "for cap in bp['caps']:\n",
    "    cap.set(color = 'black', linewidth = 2)\n",
    "for box in bp['boxes']:\n",
    "    box.set(color = 'black', linewidth = 2)\n",
    "for median in bp['medians']:\n",
    "    median.set(color = 'red', linewidth = 2)\n",
    "for outl in bp['fliers']:\n",
    "    outl.set(linewidth = 0, ms = 0, mew = 1.4, markerfacecolor = 'none')\n",
    "    \n",
    "#plt.ylim(-0.2, 2.9)\n",
    "    \n",
    "#ax.text(1, 1.5, 'Value for $[O_2] = 100$ % Air', fontsize = 18)\n",
    "\n",
    "legend_elements = [\n",
    "                  Line2D([0], [0],  lw = 2, color='red', label='Network C',\n",
    "                          markerfacecolor='none', markeredgewidth=1.4, markersize=8)]\n",
    "ax.legend(handles=legend_elements, loc='upper left', fontsize = 16)\n",
    "\n",
    "plt.xticks(range(1,len(MAET_xticks_C_MTL)+1), MAET_xticks_C_MTL, size='small', rotation = 'vertical')\n",
    "\n",
    "#plt.grid()\n",
    "\n",
    "plt.ylabel('Absolute Error ($^\\circ$ C)', fontsize = 16)\n",
    "plt.xlabel('T ($^\\circ$ C)', fontsize = 16)\n",
    "plt.tick_params(labelsize=16)\n",
    "plt.ylim(-0.1,45)\n",
    "\n",
    "fig.savefig('../paper/result_theta_theta0.eps')"
   ]
  },
  {
   "cell_type": "code",
   "execution_count": null,
   "metadata": {
    "colab": {},
    "colab_type": "code",
    "id": "ZaXv4N3XPgO8"
   },
   "outputs": [],
   "source": [
    "pdo2 = pd.DataFrame({'MAE_list': MAE_list_C, 'MAE_xticks': MAE_xticks_C, 'MAE_boxplot': MAE_boxplot_C})\n",
    "pdT = pd.DataFrame({'MAET_list': MAET_list_C_MTL,'MAET_boxplot': MAET_boxplot_C_MTL, 'MAET_xticks':MAET_xticks_C_MTL})\n",
    "pdo2.to_csv('/content/gdrive/My Drive/data/netc_O2.csv')\n",
    "pdT.to_csv('/content/gdrive/My Drive/data/netc_T.csv')"
   ]
  },
  {
   "cell_type": "code",
   "execution_count": 98,
   "metadata": {
    "colab": {
     "base_uri": "https://localhost:8080/",
     "height": 35
    },
    "colab_type": "code",
    "id": "KqiYyQDqP2Vq",
    "outputId": "b4d2c13c-ec0c-48fc-ccd1-a8bebc36ec93"
   },
   "outputs": [
    {
     "data": {
      "text/plain": [
       "0.24199813485661367"
      ]
     },
     "execution_count": 98,
     "metadata": {},
     "output_type": "execute_result"
    }
   ],
   "source": [
    "np.mean(MAE_list_C)"
   ]
  },
  {
   "cell_type": "code",
   "execution_count": 99,
   "metadata": {
    "colab": {
     "base_uri": "https://localhost:8080/",
     "height": 35
    },
    "colab_type": "code",
    "id": "nKhkjo7Wtk_k",
    "outputId": "8aaa38bf-5b67-4c20-8468-ccde92757795"
   },
   "outputs": [
    {
     "data": {
      "text/plain": [
       "1.6562986021164623"
      ]
     },
     "execution_count": 99,
     "metadata": {},
     "output_type": "execute_result"
    }
   ],
   "source": [
    "np.mean(MAET_list_C_MTL)"
   ]
  },
  {
   "cell_type": "code",
   "execution_count": 100,
   "metadata": {
    "colab": {},
    "colab_type": "code",
    "id": "wML_1MgiIn3-"
   },
   "outputs": [],
   "source": [
    "MAE_boxplot_C_flat = [item for sublist in MAE_boxplot_C for item in sublist]\n",
    "MAET_boxplot_C_MTL_flat = [item for sublist in MAET_boxplot_C_MTL for item in sublist]\n",
    "#type(MAE_boxplot_C)"
   ]
  },
  {
   "cell_type": "code",
   "execution_count": 105,
   "metadata": {
    "colab": {
     "base_uri": "https://localhost:8080/",
     "height": 373
    },
    "colab_type": "code",
    "id": "o60W8avLIZmv",
    "outputId": "fc55f5e4-dd8c-4601-b26e-78067e8c34c1"
   },
   "outputs": [
    {
     "data": {
      "text/plain": [
       "<Figure size 432x288 with 0 Axes>"
      ]
     },
     "metadata": {},
     "output_type": "display_data"
    },
    {
     "data": {
      "image/png": "[encoded data removed]",
      "text/plain": [
       "<Figure size 1152x360 with 2 Axes>"
      ]
     },
     "metadata": {
      "needs_background": "light"
     },
     "output_type": "display_data"
    }
   ],
   "source": [
    "\n",
    "    \n",
    "plt.tight_layout()\n",
    "\n",
    "fig = plt.figure(figsize=(16, 5))\n",
    "\n",
    "\n",
    "\n",
    "ax = fig.add_subplot(1, 2, 1)\n",
    "\n",
    "\n",
    "sns.distplot(MAE_boxplot_C_flat, color = 'black', hist = False, label = 'AE$_{[O_2]}$ KDE')\n",
    "\n",
    "\n",
    "ax.legend( fontsize = 16)\n",
    "\n",
    "#plt.xticks(range(1,len(neta50_O2['MAE_xticks'])+1), neta50_O2['MAE_xticks'], size='small', rotation = 'vertical')\n",
    "\n",
    "#plt.grid()\n",
    "\n",
    "plt.ylabel('Counts (normalized)', fontsize = 16)\n",
    "plt.xlabel('AE$_{[O_2]}$ (% air)', fontsize = 16)\n",
    "plt.tick_params(labelsize=16)\n",
    "plt.ylim(0, 3)\n",
    "plt.xlim(0, 20)\n",
    "\n",
    "\n",
    "ax = fig.add_subplot(1, 2,2)\n",
    "# MAE_boxplot_C, MAE_list_C, MAE_xticks_C\n",
    "sns.distplot(MAET_boxplot_C_MTL_flat,  color = 'black', hist = False, label = 'Temperature KDE')\n",
    "    \n",
    "#plt.ylim(-0.2, 2.9)\n",
    "    \n",
    "#ax.text(1, 1.5, 'Value for $[O_2] = 100$ % Air', fontsize = 18)\n",
    "\n",
    "plt.xlabel('T (C)', fontsize = 16)\n",
    "plt.tick_params(labelsize=16)\n",
    "ax.legend( fontsize = 16)\n",
    "plt.ylim(0, 1.0)\n",
    "plt.xlim(0, 20)\n",
    "\n",
    "\n",
    "\n",
    "\n",
    "plt.show()\n",
    "\n",
    "#fig.savefig('/content/gdrive/My Drive/plot3.eps', format='eps', dpi=300,bbox_inches='tight')\n",
    "\n",
    "\n",
    "\n",
    "#fig.savefig('Figures/absolute_error_for_T_boxplots.eps', format='eps', dpi=300,bbox_inches='tight')"
   ]
  },
  {
   "cell_type": "markdown",
   "metadata": {
    "colab_type": "text",
    "id": "m7C-IbK3ZvFw"
   },
   "source": [
    "# VERSIONS"
   ]
  },
  {
   "cell_type": "code",
   "execution_count": null,
   "metadata": {
    "colab": {
     "base_uri": "https://localhost:8080/",
     "height": 53
    },
    "colab_type": "code",
    "id": "WrPML1U5ZvFx",
    "outputId": "d0049d44-9ee6-408e-9dae-4da7a635d6f6"
   },
   "outputs": [],
   "source": [
    "import tensorflow as tf\n",
    "from tensorflow.keras import layers\n",
    "\n",
    "print(tf.VERSION)\n",
    "print(tf.keras.__version__)"
   ]
  },
  {
   "cell_type": "code",
   "execution_count": null,
   "metadata": {
    "colab": {},
    "colab_type": "code",
    "id": "wOiy_88tJv10"
   },
   "outputs": [],
   "source": [
    "p"
   ]
  }
 ],
 "metadata": {
  "accelerator": "GPU",
  "colab": {
   "collapsed_sections": [],
   "include_colab_link": true,
   "name": "O2 prediction model - Network C v2 O2T Paper.ipynb",
   "provenance": []
  },
  "kernelspec": {
   "display_name": "Python 3",
   "language": "python",
   "name": "python3"
  },
  "language_info": {
   "codemirror_mode": {
    "name": "ipython",
    "version": 3
   },
   "file_extension": ".py",
   "mimetype": "text/x-python",
   "name": "python",
   "nbconvert_exporter": "python",
   "pygments_lexer": "ipython3",
   "version": "3.7.2"
  }
 },
 "nbformat": 4,
 "nbformat_minor": 2
}
