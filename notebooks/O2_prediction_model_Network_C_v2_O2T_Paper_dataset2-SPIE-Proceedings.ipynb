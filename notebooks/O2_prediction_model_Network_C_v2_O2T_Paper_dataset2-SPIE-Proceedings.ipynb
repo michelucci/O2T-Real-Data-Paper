{
 "cells": [
  {
   "cell_type": "markdown",
   "metadata": {
    "colab_type": "text",
    "id": "view-in-github"
   },
   "source": [
    "<a href=\"https://colab.research.google.com/github/michelucci/O2T-Real-Data-Paper/blob/master/notebooks/O2_prediction_model_Network_C_v2_O2T_Paper.ipynb\" target=\"_parent\"><img src=\"https://colab.research.google.com/assets/colab-badge.svg\" alt=\"Open In Colab\"/></a>"
   ]
  },
  {
   "cell_type": "markdown",
   "metadata": {
    "colab_type": "text",
    "id": "czCW0XAgZvEm"
   },
   "source": [
    "# SPIE Proceedings code\n",
    "\n",
    "## Dataset 2"
   ]
  },
  {
   "cell_type": "code",
   "execution_count": 1,
   "metadata": {
    "colab": {
     "base_uri": "https://localhost:8080/",
     "height": 82
    },
    "colab_type": "code",
    "id": "2Tp3iYK_ZvEo",
    "outputId": "cc5ad6d8-ffa9-486b-86c8-4f77b51c0dbc"
   },
   "outputs": [
    {
     "name": "stderr",
     "output_type": "stream",
     "text": [
      "Using TensorFlow backend.\n"
     ]
    }
   ],
   "source": [
    "import numpy as np\n",
    "import pandas as pd\n",
    "\n",
    "import matplotlib.pyplot as plt\n",
    "\n",
    "import tensorflow as tf\n",
    "\n",
    "# Keras\n",
    "\n",
    "from tensorflow.keras.models import Sequential\n",
    "\n",
    "#from tensorflow.keras.layers import Activation\n",
    "from tensorflow.keras.optimizers import SGD\n",
    "from tensorflow.keras.optimizers import Adam\n",
    "from tensorflow.keras.layers import Dense\n",
    "from tensorflow.keras import Model\n",
    "\n",
    "from tensorflow.keras import layers\n",
    "import tensorflow.keras as keras\n",
    "\n",
    "from keras.utils.vis_utils import plot_model\n",
    "\n",
    "import tensorflow.keras.backend as K\n",
    "\n",
    "from numpy import random\n",
    "\n",
    "from scipy.interpolate import interp1d\n",
    "\n",
    "from matplotlib.lines import Line2D\n",
    "\n",
    "from matplotlib.patches import Patch\n",
    "\n",
    "import seaborn as sns"
   ]
  },
  {
   "cell_type": "markdown",
   "metadata": {
    "colab_type": "text",
    "id": "gr8mzs4gZvEv"
   },
   "source": [
    "# Read the files (Google Drive)"
   ]
  },
  {
   "cell_type": "code",
   "execution_count": 350,
   "metadata": {
    "colab": {
     "base_uri": "https://localhost:8080/",
     "height": 127
    },
    "colab_type": "code",
    "id": "ktBIU99yaC9x",
    "outputId": "c83faa66-b116-48e2-cb65-70ee513eba87"
   },
   "outputs": [
    {
     "ename": "ModuleNotFoundError",
     "evalue": "No module named 'google.colab'",
     "output_type": "error",
     "traceback": [
      "\u001b[0;31m---------------------------------------------------------------------------\u001b[0m",
      "\u001b[0;31mModuleNotFoundError\u001b[0m                       Traceback (most recent call last)",
      "\u001b[0;32m<ipython-input-350-4996ee3d8d09>\u001b[0m in \u001b[0;36m<module>\u001b[0;34m\u001b[0m\n\u001b[0;32m----> 1\u001b[0;31m \u001b[0;32mfrom\u001b[0m \u001b[0mgoogle\u001b[0m\u001b[0;34m.\u001b[0m\u001b[0mcolab\u001b[0m \u001b[0;32mimport\u001b[0m \u001b[0mdrive\u001b[0m\u001b[0;34m\u001b[0m\u001b[0;34m\u001b[0m\u001b[0m\n\u001b[0m\u001b[1;32m      2\u001b[0m \u001b[0mdrive\u001b[0m\u001b[0;34m.\u001b[0m\u001b[0mmount\u001b[0m\u001b[0;34m(\u001b[0m\u001b[0;34m'/content/gdrive'\u001b[0m\u001b[0;34m)\u001b[0m\u001b[0;34m\u001b[0m\u001b[0;34m\u001b[0m\u001b[0m\n",
      "\u001b[0;31mModuleNotFoundError\u001b[0m: No module named 'google.colab'"
     ]
    }
   ],
   "source": [
    "from google.colab import drive\n",
    "drive.mount('/content/gdrive')"
   ]
  },
  {
   "cell_type": "code",
   "execution_count": 351,
   "metadata": {
    "colab": {},
    "colab_type": "code",
    "id": "585dLmzDZvEw"
   },
   "outputs": [],
   "source": [
    "train_data_df = pd.read_csv('../data/train_data2.csv', header = None)\n",
    "train_target_df = pd.read_csv('../data/train_targets2.csv', names=['T', 'O2'], header = None)"
   ]
  },
  {
   "cell_type": "markdown",
   "metadata": {},
   "source": [
    "# Read the files (Local files)"
   ]
  },
  {
   "cell_type": "code",
   "execution_count": 2,
   "metadata": {},
   "outputs": [],
   "source": [
    "train_data_df = pd.read_csv('../data/train_data2.csv', header = None)\n",
    "train_target_df = pd.read_csv('../data/train_targets2.csv', names=['T', 'O2'], header = None)"
   ]
  },
  {
   "cell_type": "code",
   "execution_count": 3,
   "metadata": {
    "colab": {
     "base_uri": "https://localhost:8080/",
     "height": 224
    },
    "colab_type": "code",
    "id": "nQhfDxlDZvE0",
    "outputId": "eec23715-158d-4e4f-8db0-c7a57aaaa8d9"
   },
   "outputs": [
    {
     "data": {
      "text/html": [
       "<div>\n",
       "<style scoped>\n",
       "    .dataframe tbody tr th:only-of-type {\n",
       "        vertical-align: middle;\n",
       "    }\n",
       "\n",
       "    .dataframe tbody tr th {\n",
       "        vertical-align: top;\n",
       "    }\n",
       "\n",
       "    .dataframe thead th {\n",
       "        text-align: right;\n",
       "    }\n",
       "</style>\n",
       "<table border=\"1\" class=\"dataframe\">\n",
       "  <thead>\n",
       "    <tr style=\"text-align: right;\">\n",
       "      <th></th>\n",
       "      <th>0</th>\n",
       "      <th>1</th>\n",
       "      <th>2</th>\n",
       "      <th>3</th>\n",
       "      <th>4</th>\n",
       "      <th>5</th>\n",
       "      <th>6</th>\n",
       "      <th>7</th>\n",
       "      <th>8</th>\n",
       "      <th>9</th>\n",
       "      <th>...</th>\n",
       "      <th>40</th>\n",
       "      <th>41</th>\n",
       "      <th>42</th>\n",
       "      <th>43</th>\n",
       "      <th>44</th>\n",
       "      <th>45</th>\n",
       "      <th>46</th>\n",
       "      <th>47</th>\n",
       "      <th>48</th>\n",
       "      <th>49</th>\n",
       "    </tr>\n",
       "  </thead>\n",
       "  <tbody>\n",
       "    <tr>\n",
       "      <th>0</th>\n",
       "      <td>0.535241</td>\n",
       "      <td>0.537692</td>\n",
       "      <td>0.537186</td>\n",
       "      <td>0.539902</td>\n",
       "      <td>0.54284</td>\n",
       "      <td>0.544292</td>\n",
       "      <td>0.546761</td>\n",
       "      <td>0.549564</td>\n",
       "      <td>0.552743</td>\n",
       "      <td>0.560122</td>\n",
       "      <td>...</td>\n",
       "      <td>0.790886</td>\n",
       "      <td>0.794876</td>\n",
       "      <td>0.798935</td>\n",
       "      <td>0.802755</td>\n",
       "      <td>0.806522</td>\n",
       "      <td>0.820096</td>\n",
       "      <td>0.832059</td>\n",
       "      <td>0.842571</td>\n",
       "      <td>0.85205</td>\n",
       "      <td>0.860323</td>\n",
       "    </tr>\n",
       "    <tr>\n",
       "      <th>1</th>\n",
       "      <td>0.536566</td>\n",
       "      <td>0.536806</td>\n",
       "      <td>0.538521</td>\n",
       "      <td>0.540439</td>\n",
       "      <td>0.54239</td>\n",
       "      <td>0.544292</td>\n",
       "      <td>0.546761</td>\n",
       "      <td>0.549256</td>\n",
       "      <td>0.552183</td>\n",
       "      <td>0.559891</td>\n",
       "      <td>...</td>\n",
       "      <td>0.790804</td>\n",
       "      <td>0.794876</td>\n",
       "      <td>0.798935</td>\n",
       "      <td>0.802755</td>\n",
       "      <td>0.806522</td>\n",
       "      <td>0.820096</td>\n",
       "      <td>0.832059</td>\n",
       "      <td>0.842571</td>\n",
       "      <td>0.85205</td>\n",
       "      <td>0.860323</td>\n",
       "    </tr>\n",
       "    <tr>\n",
       "      <th>2</th>\n",
       "      <td>0.536566</td>\n",
       "      <td>0.537692</td>\n",
       "      <td>0.537186</td>\n",
       "      <td>0.540439</td>\n",
       "      <td>0.54239</td>\n",
       "      <td>0.544292</td>\n",
       "      <td>0.546418</td>\n",
       "      <td>0.549256</td>\n",
       "      <td>0.552463</td>\n",
       "      <td>0.560122</td>\n",
       "      <td>...</td>\n",
       "      <td>0.790969</td>\n",
       "      <td>0.795041</td>\n",
       "      <td>0.799099</td>\n",
       "      <td>0.802755</td>\n",
       "      <td>0.806522</td>\n",
       "      <td>0.820096</td>\n",
       "      <td>0.832059</td>\n",
       "      <td>0.842727</td>\n",
       "      <td>0.85205</td>\n",
       "      <td>0.860323</td>\n",
       "    </tr>\n",
       "    <tr>\n",
       "      <th>3</th>\n",
       "      <td>0.536566</td>\n",
       "      <td>0.536806</td>\n",
       "      <td>0.539188</td>\n",
       "      <td>0.541512</td>\n",
       "      <td>0.54194</td>\n",
       "      <td>0.544681</td>\n",
       "      <td>0.546761</td>\n",
       "      <td>0.549256</td>\n",
       "      <td>0.552743</td>\n",
       "      <td>0.560122</td>\n",
       "      <td>...</td>\n",
       "      <td>0.790969</td>\n",
       "      <td>0.795041</td>\n",
       "      <td>0.799099</td>\n",
       "      <td>0.802918</td>\n",
       "      <td>0.806522</td>\n",
       "      <td>0.820096</td>\n",
       "      <td>0.832059</td>\n",
       "      <td>0.842571</td>\n",
       "      <td>0.85205</td>\n",
       "      <td>0.860323</td>\n",
       "    </tr>\n",
       "    <tr>\n",
       "      <th>4</th>\n",
       "      <td>0.537891</td>\n",
       "      <td>0.537692</td>\n",
       "      <td>0.537853</td>\n",
       "      <td>0.540439</td>\n",
       "      <td>0.54284</td>\n",
       "      <td>0.544292</td>\n",
       "      <td>0.547104</td>\n",
       "      <td>0.549564</td>\n",
       "      <td>0.552463</td>\n",
       "      <td>0.560582</td>\n",
       "      <td>...</td>\n",
       "      <td>0.790969</td>\n",
       "      <td>0.795041</td>\n",
       "      <td>0.799017</td>\n",
       "      <td>0.802837</td>\n",
       "      <td>0.806522</td>\n",
       "      <td>0.820255</td>\n",
       "      <td>0.832059</td>\n",
       "      <td>0.842727</td>\n",
       "      <td>0.85205</td>\n",
       "      <td>0.860552</td>\n",
       "    </tr>\n",
       "  </tbody>\n",
       "</table>\n",
       "<p>5 rows × 50 columns</p>\n",
       "</div>"
      ],
      "text/plain": [
       "         0         1         2         3        4         5         6   \\\n",
       "0  0.535241  0.537692  0.537186  0.539902  0.54284  0.544292  0.546761   \n",
       "1  0.536566  0.536806  0.538521  0.540439  0.54239  0.544292  0.546761   \n",
       "2  0.536566  0.537692  0.537186  0.540439  0.54239  0.544292  0.546418   \n",
       "3  0.536566  0.536806  0.539188  0.541512  0.54194  0.544681  0.546761   \n",
       "4  0.537891  0.537692  0.537853  0.540439  0.54284  0.544292  0.547104   \n",
       "\n",
       "         7         8         9   ...        40        41        42        43  \\\n",
       "0  0.549564  0.552743  0.560122  ...  0.790886  0.794876  0.798935  0.802755   \n",
       "1  0.549256  0.552183  0.559891  ...  0.790804  0.794876  0.798935  0.802755   \n",
       "2  0.549256  0.552463  0.560122  ...  0.790969  0.795041  0.799099  0.802755   \n",
       "3  0.549256  0.552743  0.560122  ...  0.790969  0.795041  0.799099  0.802918   \n",
       "4  0.549564  0.552463  0.560582  ...  0.790969  0.795041  0.799017  0.802837   \n",
       "\n",
       "         44        45        46        47       48        49  \n",
       "0  0.806522  0.820096  0.832059  0.842571  0.85205  0.860323  \n",
       "1  0.806522  0.820096  0.832059  0.842571  0.85205  0.860323  \n",
       "2  0.806522  0.820096  0.832059  0.842727  0.85205  0.860323  \n",
       "3  0.806522  0.820096  0.832059  0.842571  0.85205  0.860323  \n",
       "4  0.806522  0.820255  0.832059  0.842727  0.85205  0.860552  \n",
       "\n",
       "[5 rows x 50 columns]"
      ]
     },
     "execution_count": 3,
     "metadata": {},
     "output_type": "execute_result"
    }
   ],
   "source": [
    "train_data_df.head()"
   ]
  },
  {
   "cell_type": "code",
   "execution_count": 4,
   "metadata": {
    "colab": {
     "base_uri": "https://localhost:8080/",
     "height": 204
    },
    "colab_type": "code",
    "id": "pxznLqEdaYGd",
    "outputId": "32bdef47-5b00-49b4-ff7f-d23fcc45cae1"
   },
   "outputs": [
    {
     "data": {
      "text/html": [
       "<div>\n",
       "<style scoped>\n",
       "    .dataframe tbody tr th:only-of-type {\n",
       "        vertical-align: middle;\n",
       "    }\n",
       "\n",
       "    .dataframe tbody tr th {\n",
       "        vertical-align: top;\n",
       "    }\n",
       "\n",
       "    .dataframe thead th {\n",
       "        text-align: right;\n",
       "    }\n",
       "</style>\n",
       "<table border=\"1\" class=\"dataframe\">\n",
       "  <thead>\n",
       "    <tr style=\"text-align: right;\">\n",
       "      <th></th>\n",
       "      <th>T</th>\n",
       "      <th>O2</th>\n",
       "    </tr>\n",
       "  </thead>\n",
       "  <tbody>\n",
       "    <tr>\n",
       "      <th>0</th>\n",
       "      <td>20.0</td>\n",
       "      <td>35.0</td>\n",
       "    </tr>\n",
       "    <tr>\n",
       "      <th>1</th>\n",
       "      <td>20.0</td>\n",
       "      <td>35.0</td>\n",
       "    </tr>\n",
       "    <tr>\n",
       "      <th>2</th>\n",
       "      <td>20.0</td>\n",
       "      <td>35.0</td>\n",
       "    </tr>\n",
       "    <tr>\n",
       "      <th>3</th>\n",
       "      <td>20.0</td>\n",
       "      <td>35.0</td>\n",
       "    </tr>\n",
       "    <tr>\n",
       "      <th>4</th>\n",
       "      <td>20.0</td>\n",
       "      <td>35.0</td>\n",
       "    </tr>\n",
       "  </tbody>\n",
       "</table>\n",
       "</div>"
      ],
      "text/plain": [
       "      T    O2\n",
       "0  20.0  35.0\n",
       "1  20.0  35.0\n",
       "2  20.0  35.0\n",
       "3  20.0  35.0\n",
       "4  20.0  35.0"
      ]
     },
     "execution_count": 4,
     "metadata": {},
     "output_type": "execute_result"
    }
   ],
   "source": [
    "train_target_df.head()"
   ]
  },
  {
   "cell_type": "code",
   "execution_count": 5,
   "metadata": {
    "colab": {},
    "colab_type": "code",
    "id": "5_8nAYJFZvE2"
   },
   "outputs": [],
   "source": [
    "train_target_df[['O2']] = train_target_df[['O2']]/100.0\n",
    "train_target_df[['T']] = train_target_df[['T']]/45.0"
   ]
  },
  {
   "cell_type": "markdown",
   "metadata": {
    "colab_type": "text",
    "id": "dHMEf3fIZvE7"
   },
   "source": [
    "Note that the values for $T$ are going from 0 to 1. To obtin the actual temperature in Celsius degrees, you need to multiply by $45$."
   ]
  },
  {
   "cell_type": "code",
   "execution_count": 6,
   "metadata": {
    "colab": {
     "base_uri": "https://localhost:8080/",
     "height": 71
    },
    "colab_type": "code",
    "id": "6lGCP7m5ZvE7",
    "outputId": "022d8fb4-876a-41b1-d332-50e550ceeb4e"
   },
   "outputs": [
    {
     "name": "stdout",
     "output_type": "stream",
     "text": [
      "[0.44444444 0.55555556 0.22222222 0.66666667 0.77777778 0.33333333\n",
      " 0.88888889 1.         0.11111111]\n",
      "[20. 25. 10. 30. 35. 15. 40. 45.  5.]\n"
     ]
    }
   ],
   "source": [
    "print(train_target_df['T'].unique())\n",
    "print(train_target_df['T'].unique()*45)"
   ]
  },
  {
   "cell_type": "markdown",
   "metadata": {},
   "source": [
    "## Remove the records for [O2] = 0"
   ]
  },
  {
   "cell_type": "code",
   "execution_count": 7,
   "metadata": {},
   "outputs": [
    {
     "data": {
      "text/plain": [
       "(3780, 50)"
      ]
     },
     "execution_count": 7,
     "metadata": {},
     "output_type": "execute_result"
    }
   ],
   "source": [
    "train_data_df.shape"
   ]
  },
  {
   "cell_type": "code",
   "execution_count": 8,
   "metadata": {},
   "outputs": [
    {
     "data": {
      "text/plain": [
       "(180, 50)"
      ]
     },
     "execution_count": 8,
     "metadata": {},
     "output_type": "execute_result"
    }
   ],
   "source": [
    "train_data_df[train_target_df['O2'] == 0].shape"
   ]
  },
  {
   "cell_type": "code",
   "execution_count": 9,
   "metadata": {},
   "outputs": [
    {
     "name": "stdout",
     "output_type": "stream",
     "text": [
      "(3600, 50)\n"
     ]
    }
   ],
   "source": [
    "train_data_df.drop(train_data_df[train_target_df['O2'] == 0].index, inplace=True)\n",
    "train_target_df.drop(train_target_df[train_target_df['O2'] == 0].index, inplace=True)\n",
    "train_data_df = train_data_df.reset_index(drop = True);\n",
    "train_target_df = train_target_df.reset_index(drop = True);\n",
    "print(train_data_df.shape)"
   ]
  },
  {
   "cell_type": "markdown",
   "metadata": {
    "colab_type": "text",
    "id": "ZcPxObX6ZvE9"
   },
   "source": [
    "## Dimensions"
   ]
  },
  {
   "cell_type": "code",
   "execution_count": 10,
   "metadata": {
    "colab": {
     "base_uri": "https://localhost:8080/",
     "height": 35
    },
    "colab_type": "code",
    "id": "iq3EzwubZvE-",
    "outputId": "e68a7651-d672-4e74-b8af-61f568197cf8"
   },
   "outputs": [
    {
     "data": {
      "text/plain": [
       "(3600, 50)"
      ]
     },
     "execution_count": 10,
     "metadata": {},
     "output_type": "execute_result"
    }
   ],
   "source": [
    "train_data_df.shape"
   ]
  },
  {
   "cell_type": "code",
   "execution_count": 11,
   "metadata": {
    "colab": {
     "base_uri": "https://localhost:8080/",
     "height": 35
    },
    "colab_type": "code",
    "id": "DrV36zyBZvFB",
    "outputId": "2281b8ad-2796-4f1e-fcc1-4be29dd05ffd"
   },
   "outputs": [
    {
     "data": {
      "text/plain": [
       "(400, 2)"
      ]
     },
     "execution_count": 11,
     "metadata": {},
     "output_type": "execute_result"
    }
   ],
   "source": [
    "train_target_df[train_target_df['T'] == 5./45.].shape"
   ]
  },
  {
   "cell_type": "markdown",
   "metadata": {
    "colab_type": "text",
    "id": "MBa0TH6rZvFD"
   },
   "source": [
    "To check how many values we have for each temperature we can do easily with ```groupby()```."
   ]
  },
  {
   "cell_type": "code",
   "execution_count": 12,
   "metadata": {
    "colab": {
     "base_uri": "https://localhost:8080/",
     "height": 215
    },
    "colab_type": "code",
    "id": "kkXJq1UDZvFD",
    "outputId": "63b88eca-ee32-4d9a-e80b-25fcf1818980"
   },
   "outputs": [
    {
     "data": {
      "text/plain": [
       "T\n",
       "0.111111    20\n",
       "0.222222    20\n",
       "0.333333    20\n",
       "0.444444    20\n",
       "0.555556    20\n",
       "0.666667    20\n",
       "0.777778    20\n",
       "0.888889    20\n",
       "1.000000    20\n",
       "Name: O2, dtype: int64"
      ]
     },
     "execution_count": 12,
     "metadata": {},
     "output_type": "execute_result"
    }
   ],
   "source": [
    "train_target_df.groupby('T')['O2'].nunique()"
   ]
  },
  {
   "cell_type": "markdown",
   "metadata": {
    "colab_type": "text",
    "id": "6oK-zfT_ZvFF"
   },
   "source": [
    "Each of the temperature has 5000 observations."
   ]
  },
  {
   "cell_type": "markdown",
   "metadata": {
    "colab_type": "text",
    "id": "fSqYdC5uZvFF"
   },
   "source": [
    "## Reset the index"
   ]
  },
  {
   "cell_type": "code",
   "execution_count": 13,
   "metadata": {
    "colab": {},
    "colab_type": "code",
    "id": "30duZuryZvFF"
   },
   "outputs": [],
   "source": [
    "train_data_df = train_data_df.reset_index(drop = True);\n",
    "train_target_df = train_target_df.reset_index(drop = True);"
   ]
  },
  {
   "cell_type": "markdown",
   "metadata": {
    "colab_type": "text",
    "id": "w72f8KBRZvFG"
   },
   "source": [
    "The unique values of the temperature ($T$) are, as expected"
   ]
  },
  {
   "cell_type": "code",
   "execution_count": 14,
   "metadata": {
    "colab": {
     "base_uri": "https://localhost:8080/",
     "height": 35
    },
    "colab_type": "code",
    "id": "YdlvVhd6ZvFH",
    "outputId": "f9185658-f591-41a3-8b56-dd79377e783f"
   },
   "outputs": [
    {
     "data": {
      "text/plain": [
       "array([ 5., 10., 15., 20., 25., 30., 35., 40., 45.])"
      ]
     },
     "execution_count": 14,
     "metadata": {},
     "output_type": "execute_result"
    }
   ],
   "source": [
    "np.unique(train_target_df['T'])*45"
   ]
  },
  {
   "cell_type": "markdown",
   "metadata": {
    "colab_type": "text",
    "id": "_AGqcSlqZvFI"
   },
   "source": [
    "# Frequency values"
   ]
  },
  {
   "cell_type": "code",
   "execution_count": 15,
   "metadata": {
    "colab": {},
    "colab_type": "code",
    "id": "j6DEKz4GZvFI"
   },
   "outputs": [],
   "source": [
    "wred = [  200.,   300.,   400.,   500.,   600.,   700.,   800.,   900.,\n",
    "        1000.,  1250.,  1500.,  1750.,  2000.,  2250.,  2500.,  2750.,\n",
    "        3000.,  3250.,  3500.,  3750.,  4000.,  4250.,  4500.,  4750.,\n",
    "        5000.,  5250.,  5500.,  5750.,  6000.,  6250.,  6500.,  6750.,\n",
    "        7000.,  7250.,  7500.,  7750.,  8000.,  8250.,  8500.,  8750.,\n",
    "        9000.,  9250.,  9500.,  9750., 10000., 11000., 12000., 13000.,\n",
    "       14000., 15000.]"
   ]
  },
  {
   "cell_type": "markdown",
   "metadata": {},
   "source": [
    "# Some plots"
   ]
  },
  {
   "cell_type": "code",
   "execution_count": 16,
   "metadata": {},
   "outputs": [
    {
     "data": {
      "text/html": [
       "<div>\n",
       "<style scoped>\n",
       "    .dataframe tbody tr th:only-of-type {\n",
       "        vertical-align: middle;\n",
       "    }\n",
       "\n",
       "    .dataframe tbody tr th {\n",
       "        vertical-align: top;\n",
       "    }\n",
       "\n",
       "    .dataframe thead th {\n",
       "        text-align: right;\n",
       "    }\n",
       "</style>\n",
       "<table border=\"1\" class=\"dataframe\">\n",
       "  <thead>\n",
       "    <tr style=\"text-align: right;\">\n",
       "      <th></th>\n",
       "      <th>0</th>\n",
       "      <th>1</th>\n",
       "      <th>2</th>\n",
       "      <th>3</th>\n",
       "      <th>4</th>\n",
       "      <th>5</th>\n",
       "      <th>6</th>\n",
       "      <th>7</th>\n",
       "      <th>8</th>\n",
       "      <th>9</th>\n",
       "      <th>...</th>\n",
       "      <th>40</th>\n",
       "      <th>41</th>\n",
       "      <th>42</th>\n",
       "      <th>43</th>\n",
       "      <th>44</th>\n",
       "      <th>45</th>\n",
       "      <th>46</th>\n",
       "      <th>47</th>\n",
       "      <th>48</th>\n",
       "      <th>49</th>\n",
       "    </tr>\n",
       "  </thead>\n",
       "  <tbody>\n",
       "    <tr>\n",
       "      <th>0</th>\n",
       "      <td>0.535241</td>\n",
       "      <td>0.537692</td>\n",
       "      <td>0.537186</td>\n",
       "      <td>0.539902</td>\n",
       "      <td>0.542840</td>\n",
       "      <td>0.544292</td>\n",
       "      <td>0.546761</td>\n",
       "      <td>0.549564</td>\n",
       "      <td>0.552743</td>\n",
       "      <td>0.560122</td>\n",
       "      <td>...</td>\n",
       "      <td>0.790886</td>\n",
       "      <td>0.794876</td>\n",
       "      <td>0.798935</td>\n",
       "      <td>0.802755</td>\n",
       "      <td>0.806522</td>\n",
       "      <td>0.820096</td>\n",
       "      <td>0.832059</td>\n",
       "      <td>0.842571</td>\n",
       "      <td>0.852050</td>\n",
       "      <td>0.860323</td>\n",
       "    </tr>\n",
       "    <tr>\n",
       "      <th>1</th>\n",
       "      <td>0.536566</td>\n",
       "      <td>0.536806</td>\n",
       "      <td>0.538521</td>\n",
       "      <td>0.540439</td>\n",
       "      <td>0.542390</td>\n",
       "      <td>0.544292</td>\n",
       "      <td>0.546761</td>\n",
       "      <td>0.549256</td>\n",
       "      <td>0.552183</td>\n",
       "      <td>0.559891</td>\n",
       "      <td>...</td>\n",
       "      <td>0.790804</td>\n",
       "      <td>0.794876</td>\n",
       "      <td>0.798935</td>\n",
       "      <td>0.802755</td>\n",
       "      <td>0.806522</td>\n",
       "      <td>0.820096</td>\n",
       "      <td>0.832059</td>\n",
       "      <td>0.842571</td>\n",
       "      <td>0.852050</td>\n",
       "      <td>0.860323</td>\n",
       "    </tr>\n",
       "    <tr>\n",
       "      <th>2</th>\n",
       "      <td>0.536566</td>\n",
       "      <td>0.537692</td>\n",
       "      <td>0.537186</td>\n",
       "      <td>0.540439</td>\n",
       "      <td>0.542390</td>\n",
       "      <td>0.544292</td>\n",
       "      <td>0.546418</td>\n",
       "      <td>0.549256</td>\n",
       "      <td>0.552463</td>\n",
       "      <td>0.560122</td>\n",
       "      <td>...</td>\n",
       "      <td>0.790969</td>\n",
       "      <td>0.795041</td>\n",
       "      <td>0.799099</td>\n",
       "      <td>0.802755</td>\n",
       "      <td>0.806522</td>\n",
       "      <td>0.820096</td>\n",
       "      <td>0.832059</td>\n",
       "      <td>0.842727</td>\n",
       "      <td>0.852050</td>\n",
       "      <td>0.860323</td>\n",
       "    </tr>\n",
       "    <tr>\n",
       "      <th>3</th>\n",
       "      <td>0.536566</td>\n",
       "      <td>0.536806</td>\n",
       "      <td>0.539188</td>\n",
       "      <td>0.541512</td>\n",
       "      <td>0.541940</td>\n",
       "      <td>0.544681</td>\n",
       "      <td>0.546761</td>\n",
       "      <td>0.549256</td>\n",
       "      <td>0.552743</td>\n",
       "      <td>0.560122</td>\n",
       "      <td>...</td>\n",
       "      <td>0.790969</td>\n",
       "      <td>0.795041</td>\n",
       "      <td>0.799099</td>\n",
       "      <td>0.802918</td>\n",
       "      <td>0.806522</td>\n",
       "      <td>0.820096</td>\n",
       "      <td>0.832059</td>\n",
       "      <td>0.842571</td>\n",
       "      <td>0.852050</td>\n",
       "      <td>0.860323</td>\n",
       "    </tr>\n",
       "    <tr>\n",
       "      <th>4</th>\n",
       "      <td>0.537891</td>\n",
       "      <td>0.537692</td>\n",
       "      <td>0.537853</td>\n",
       "      <td>0.540439</td>\n",
       "      <td>0.542840</td>\n",
       "      <td>0.544292</td>\n",
       "      <td>0.547104</td>\n",
       "      <td>0.549564</td>\n",
       "      <td>0.552463</td>\n",
       "      <td>0.560582</td>\n",
       "      <td>...</td>\n",
       "      <td>0.790969</td>\n",
       "      <td>0.795041</td>\n",
       "      <td>0.799017</td>\n",
       "      <td>0.802837</td>\n",
       "      <td>0.806522</td>\n",
       "      <td>0.820255</td>\n",
       "      <td>0.832059</td>\n",
       "      <td>0.842727</td>\n",
       "      <td>0.852050</td>\n",
       "      <td>0.860552</td>\n",
       "    </tr>\n",
       "    <tr>\n",
       "      <th>...</th>\n",
       "      <td>...</td>\n",
       "      <td>...</td>\n",
       "      <td>...</td>\n",
       "      <td>...</td>\n",
       "      <td>...</td>\n",
       "      <td>...</td>\n",
       "      <td>...</td>\n",
       "      <td>...</td>\n",
       "      <td>...</td>\n",
       "      <td>...</td>\n",
       "      <td>...</td>\n",
       "      <td>...</td>\n",
       "      <td>...</td>\n",
       "      <td>...</td>\n",
       "      <td>...</td>\n",
       "      <td>...</td>\n",
       "      <td>...</td>\n",
       "      <td>...</td>\n",
       "      <td>...</td>\n",
       "      <td>...</td>\n",
       "      <td>...</td>\n",
       "    </tr>\n",
       "    <tr>\n",
       "      <th>1755</th>\n",
       "      <td>0.554487</td>\n",
       "      <td>0.556040</td>\n",
       "      <td>0.557223</td>\n",
       "      <td>0.558001</td>\n",
       "      <td>0.560329</td>\n",
       "      <td>0.563077</td>\n",
       "      <td>0.566402</td>\n",
       "      <td>0.568445</td>\n",
       "      <td>0.571639</td>\n",
       "      <td>0.580336</td>\n",
       "      <td>...</td>\n",
       "      <td>0.813382</td>\n",
       "      <td>0.817335</td>\n",
       "      <td>0.820904</td>\n",
       "      <td>0.824531</td>\n",
       "      <td>0.827871</td>\n",
       "      <td>0.840492</td>\n",
       "      <td>0.851455</td>\n",
       "      <td>0.861019</td>\n",
       "      <td>0.869404</td>\n",
       "      <td>0.876933</td>\n",
       "    </tr>\n",
       "    <tr>\n",
       "      <th>1756</th>\n",
       "      <td>0.553247</td>\n",
       "      <td>0.556040</td>\n",
       "      <td>0.556598</td>\n",
       "      <td>0.558505</td>\n",
       "      <td>0.560329</td>\n",
       "      <td>0.562712</td>\n",
       "      <td>0.565758</td>\n",
       "      <td>0.568734</td>\n",
       "      <td>0.571902</td>\n",
       "      <td>0.580336</td>\n",
       "      <td>...</td>\n",
       "      <td>0.813382</td>\n",
       "      <td>0.817335</td>\n",
       "      <td>0.820984</td>\n",
       "      <td>0.824531</td>\n",
       "      <td>0.827871</td>\n",
       "      <td>0.840492</td>\n",
       "      <td>0.851455</td>\n",
       "      <td>0.861019</td>\n",
       "      <td>0.869404</td>\n",
       "      <td>0.876933</td>\n",
       "    </tr>\n",
       "    <tr>\n",
       "      <th>1757</th>\n",
       "      <td>0.554487</td>\n",
       "      <td>0.555210</td>\n",
       "      <td>0.557849</td>\n",
       "      <td>0.558505</td>\n",
       "      <td>0.560752</td>\n",
       "      <td>0.562712</td>\n",
       "      <td>0.565436</td>\n",
       "      <td>0.568734</td>\n",
       "      <td>0.571902</td>\n",
       "      <td>0.580553</td>\n",
       "      <td>...</td>\n",
       "      <td>0.813382</td>\n",
       "      <td>0.817254</td>\n",
       "      <td>0.820984</td>\n",
       "      <td>0.824611</td>\n",
       "      <td>0.827871</td>\n",
       "      <td>0.840492</td>\n",
       "      <td>0.851455</td>\n",
       "      <td>0.861019</td>\n",
       "      <td>0.869480</td>\n",
       "      <td>0.876933</td>\n",
       "    </tr>\n",
       "    <tr>\n",
       "      <th>1758</th>\n",
       "      <td>0.554487</td>\n",
       "      <td>0.556040</td>\n",
       "      <td>0.557223</td>\n",
       "      <td>0.558505</td>\n",
       "      <td>0.560329</td>\n",
       "      <td>0.563077</td>\n",
       "      <td>0.565436</td>\n",
       "      <td>0.568734</td>\n",
       "      <td>0.571639</td>\n",
       "      <td>0.580336</td>\n",
       "      <td>...</td>\n",
       "      <td>0.813382</td>\n",
       "      <td>0.817254</td>\n",
       "      <td>0.820984</td>\n",
       "      <td>0.824611</td>\n",
       "      <td>0.827951</td>\n",
       "      <td>0.840492</td>\n",
       "      <td>0.851455</td>\n",
       "      <td>0.861019</td>\n",
       "      <td>0.869480</td>\n",
       "      <td>0.876933</td>\n",
       "    </tr>\n",
       "    <tr>\n",
       "      <th>1759</th>\n",
       "      <td>0.555728</td>\n",
       "      <td>0.556040</td>\n",
       "      <td>0.557223</td>\n",
       "      <td>0.559511</td>\n",
       "      <td>0.560752</td>\n",
       "      <td>0.563077</td>\n",
       "      <td>0.565436</td>\n",
       "      <td>0.568734</td>\n",
       "      <td>0.571902</td>\n",
       "      <td>0.580336</td>\n",
       "      <td>...</td>\n",
       "      <td>0.813382</td>\n",
       "      <td>0.817254</td>\n",
       "      <td>0.820904</td>\n",
       "      <td>0.824611</td>\n",
       "      <td>0.827951</td>\n",
       "      <td>0.840492</td>\n",
       "      <td>0.851455</td>\n",
       "      <td>0.861019</td>\n",
       "      <td>0.869480</td>\n",
       "      <td>0.877008</td>\n",
       "    </tr>\n",
       "  </tbody>\n",
       "</table>\n",
       "<p>180 rows × 50 columns</p>\n",
       "</div>"
      ],
      "text/plain": [
       "            0         1         2         3         4         5         6   \\\n",
       "0     0.535241  0.537692  0.537186  0.539902  0.542840  0.544292  0.546761   \n",
       "1     0.536566  0.536806  0.538521  0.540439  0.542390  0.544292  0.546761   \n",
       "2     0.536566  0.537692  0.537186  0.540439  0.542390  0.544292  0.546418   \n",
       "3     0.536566  0.536806  0.539188  0.541512  0.541940  0.544681  0.546761   \n",
       "4     0.537891  0.537692  0.537853  0.540439  0.542840  0.544292  0.547104   \n",
       "...        ...       ...       ...       ...       ...       ...       ...   \n",
       "1755  0.554487  0.556040  0.557223  0.558001  0.560329  0.563077  0.566402   \n",
       "1756  0.553247  0.556040  0.556598  0.558505  0.560329  0.562712  0.565758   \n",
       "1757  0.554487  0.555210  0.557849  0.558505  0.560752  0.562712  0.565436   \n",
       "1758  0.554487  0.556040  0.557223  0.558505  0.560329  0.563077  0.565436   \n",
       "1759  0.555728  0.556040  0.557223  0.559511  0.560752  0.563077  0.565436   \n",
       "\n",
       "            7         8         9   ...        40        41        42  \\\n",
       "0     0.549564  0.552743  0.560122  ...  0.790886  0.794876  0.798935   \n",
       "1     0.549256  0.552183  0.559891  ...  0.790804  0.794876  0.798935   \n",
       "2     0.549256  0.552463  0.560122  ...  0.790969  0.795041  0.799099   \n",
       "3     0.549256  0.552743  0.560122  ...  0.790969  0.795041  0.799099   \n",
       "4     0.549564  0.552463  0.560582  ...  0.790969  0.795041  0.799017   \n",
       "...        ...       ...       ...  ...       ...       ...       ...   \n",
       "1755  0.568445  0.571639  0.580336  ...  0.813382  0.817335  0.820904   \n",
       "1756  0.568734  0.571902  0.580336  ...  0.813382  0.817335  0.820984   \n",
       "1757  0.568734  0.571902  0.580553  ...  0.813382  0.817254  0.820984   \n",
       "1758  0.568734  0.571639  0.580336  ...  0.813382  0.817254  0.820984   \n",
       "1759  0.568734  0.571902  0.580336  ...  0.813382  0.817254  0.820904   \n",
       "\n",
       "            43        44        45        46        47        48        49  \n",
       "0     0.802755  0.806522  0.820096  0.832059  0.842571  0.852050  0.860323  \n",
       "1     0.802755  0.806522  0.820096  0.832059  0.842571  0.852050  0.860323  \n",
       "2     0.802755  0.806522  0.820096  0.832059  0.842727  0.852050  0.860323  \n",
       "3     0.802918  0.806522  0.820096  0.832059  0.842571  0.852050  0.860323  \n",
       "4     0.802837  0.806522  0.820255  0.832059  0.842727  0.852050  0.860552  \n",
       "...        ...       ...       ...       ...       ...       ...       ...  \n",
       "1755  0.824531  0.827871  0.840492  0.851455  0.861019  0.869404  0.876933  \n",
       "1756  0.824531  0.827871  0.840492  0.851455  0.861019  0.869404  0.876933  \n",
       "1757  0.824611  0.827871  0.840492  0.851455  0.861019  0.869480  0.876933  \n",
       "1758  0.824611  0.827951  0.840492  0.851455  0.861019  0.869480  0.876933  \n",
       "1759  0.824611  0.827951  0.840492  0.851455  0.861019  0.869480  0.877008  \n",
       "\n",
       "[180 rows x 50 columns]"
      ]
     },
     "execution_count": 16,
     "metadata": {},
     "output_type": "execute_result"
    }
   ],
   "source": [
    "train_data_df[train_target_df['O2'] == 35/100.0]"
   ]
  },
  {
   "cell_type": "code",
   "execution_count": 17,
   "metadata": {},
   "outputs": [
    {
     "data": {
      "image/png": "[encoded data removed]",
      "text/plain": [
       "<Figure size 432x288 with 1 Axes>"
      ]
     },
     "metadata": {
      "needs_background": "light"
     },
     "output_type": "display_data"
    }
   ],
   "source": [
    "plt.plot(wred, train_data_df[(train_target_df['O2'] == 5./100.0) & (train_target_df['T'] == 5./45.0)].iloc[0], label ='$T=5, [O_2]=5 \\%$')\n",
    "plt.plot(wred, train_data_df[(train_target_df['O2'] == 5./100.0) & (train_target_df['T'] == 15./45.0)].iloc[0], label ='$T=15, [O_2]=5 \\%$')\n",
    "plt.tick_params(labelsize=16)\n",
    "plt.legend(fontsize = 16)\n",
    "plt.xlabel ('Frequency (Hz)', fontsize = 16)\n",
    "plt.ylabel (r'$\\theta / \\theta_0$', fontsize = 16)\n",
    "plt.show()"
   ]
  },
  {
   "cell_type": "code",
   "execution_count": 18,
   "metadata": {},
   "outputs": [
    {
     "data": {
      "image/png": "[encoded data removed]",
      "text/plain": [
       "<Figure size 432x288 with 1 Axes>"
      ]
     },
     "metadata": {
      "needs_background": "light"
     },
     "output_type": "display_data"
    }
   ],
   "source": [
    "#plt.plot(wred, train_data_df[train_target_df['O2'] == 0/100.0].iloc[0], label ='0')\n",
    "plt.plot(wred, train_data_df[train_target_df['O2'] == 20/100.0].iloc[0], label ='20')\n",
    "plt.plot(wred, train_data_df[train_target_df['O2'] == 40/100.0].iloc[0], label ='40')\n",
    "plt.plot(wred, train_data_df[train_target_df['O2'] == 100/100.0].iloc[0], label ='100')\n",
    "plt.legend()\n",
    "plt.show()"
   ]
  },
  {
   "cell_type": "markdown",
   "metadata": {
    "colab_type": "text",
    "id": "H3moo3oEZvFJ"
   },
   "source": [
    "# Dataset split"
   ]
  },
  {
   "cell_type": "code",
   "execution_count": 19,
   "metadata": {
    "colab": {},
    "colab_type": "code",
    "id": "syS1hclTZvFK"
   },
   "outputs": [],
   "source": [
    "np.random.seed(42)\n",
    "rnd = np.random.rand(len(train_target_df)) < 0.8"
   ]
  },
  {
   "cell_type": "code",
   "execution_count": 20,
   "metadata": {
    "colab": {},
    "colab_type": "code",
    "id": "7Kt_BJZFZvFL"
   },
   "outputs": [],
   "source": [
    "data_train = train_data_df[rnd]\n",
    "data_dev = train_data_df[~rnd]\n",
    "targets_train = train_target_df[rnd]\n",
    "targets_dev = train_target_df[~rnd]"
   ]
  },
  {
   "cell_type": "code",
   "execution_count": 21,
   "metadata": {},
   "outputs": [
    {
     "data": {
      "text/plain": [
       "0.3324222501292755"
      ]
     },
     "execution_count": 21,
     "metadata": {},
     "output_type": "execute_result"
    }
   ],
   "source": [
    "np.min(np.min(data_train))"
   ]
  },
  {
   "cell_type": "code",
   "execution_count": 22,
   "metadata": {
    "colab": {
     "base_uri": "https://localhost:8080/",
     "height": 53
    },
    "colab_type": "code",
    "id": "BwflCkBrZvFL",
    "outputId": "4bf9ba84-bcda-4a5a-b2ab-89bda87b80dd"
   },
   "outputs": [
    {
     "name": "stdout",
     "output_type": "stream",
     "text": [
      "Number of training data observations is  (2880, 50)\n",
      "Number of dev      data observations is  (720, 50)\n"
     ]
    }
   ],
   "source": [
    "print('Number of training data observations is ', data_train.shape)\n",
    "print('Number of dev      data observations is ', data_dev.shape)"
   ]
  },
  {
   "cell_type": "markdown",
   "metadata": {},
   "source": [
    "# Plot 1"
   ]
  },
  {
   "cell_type": "code",
   "execution_count": 25,
   "metadata": {},
   "outputs": [
    {
     "data": {
      "text/plain": [
       "[<matplotlib.lines.Line2D at 0x7fe520766780>]"
      ]
     },
     "execution_count": 25,
     "metadata": {},
     "output_type": "execute_result"
    },
    {
     "data": {
      "image/png": "[encoded data removed]",
      "text/plain": [
       "<Figure size 432x288 with 1 Axes>"
      ]
     },
     "metadata": {
      "needs_background": "light"
     },
     "output_type": "display_data"
    }
   ],
   "source": [
    "plt.plot(wred, train_data_df.iloc[200])"
   ]
  },
  {
   "cell_type": "markdown",
   "metadata": {
    "colab_type": "text",
    "id": "HWgTxCDuZvFQ"
   },
   "source": [
    "## Helper Functions"
   ]
  },
  {
   "cell_type": "code",
   "execution_count": 26,
   "metadata": {
    "colab": {},
    "colab_type": "code",
    "id": "ycNFsXOaZvFR"
   },
   "outputs": [],
   "source": [
    "def MAE_T_list_generator(targets_dev, preds_df):\n",
    "    T_values = targets_dev['T'].unique()*45.0\n",
    "    MAE_list = []\n",
    "    MAE_xticks = T_values\n",
    "    MAE_boxplot = []\n",
    "    for T_ in T_values:\n",
    "        elmts = (targets_dev['T'] == T_/45.0)\n",
    "        tmp_ = targets_dev[elmts]\n",
    "        tmp2_ = preds_df[elmts]\n",
    "        mae_ = np.mean(45.0*np.abs(tmp2_['T'].values- tmp_['T'].values))\n",
    "\n",
    "        MAE_boxplot.append(list(45.0*np.abs(tmp_['T'].values-tmp2_['T'].values)))\n",
    "\n",
    "        MAE_list.append(mae_)\n",
    "        \n",
    "    return MAE_boxplot, MAE_list, MAE_xticks\n",
    "\n",
    "\n",
    "def MAE_T_list_generator_w0(targets_dev, preds_df):\n",
    "    T_values = targets_dev['T'].unique()*45.0\n",
    "    MAE_list = []\n",
    "    MAE_xticks = T_values\n",
    "    MAE_boxplot = []\n",
    "    for T_ in T_values:\n",
    "        elmts = (targets_dev['T'] == T_/45.0) & (targets_dev['O2'] > 0)\n",
    "        tmp_ = targets_dev[elmts]\n",
    "        tmp2_ = preds_df[elmts]\n",
    "        mae_ = np.mean(45.0*np.abs(tmp2_['T'].values- tmp_['T'].values))\n",
    "\n",
    "        MAE_boxplot.append(list(45.0*np.abs(tmp_['T'].values-tmp2_['T'].values)))\n",
    "\n",
    "        MAE_list.append(mae_)\n",
    "        \n",
    "    return MAE_boxplot, MAE_list, MAE_xticks"
   ]
  },
  {
   "cell_type": "code",
   "execution_count": 27,
   "metadata": {
    "colab": {},
    "colab_type": "code",
    "id": "7ESrffFUZvFV"
   },
   "outputs": [],
   "source": [
    "def MAE_O2_list_generator(step, targets_dev, preds_df):\n",
    "    breaks = np.arange(step,101.0, step)\n",
    "    MAE_list = []\n",
    "    MAE_xticks = []\n",
    "    MAE_boxplot = []\n",
    "    for O2_ in breaks:\n",
    "        elmts = (targets_dev['O2'] < O2_/100.0) & (targets_dev['O2'] >= (O2_-step)/100.0)\n",
    "        tmp_ = targets_dev[elmts]\n",
    "        tmp2_ = preds_df[elmts]\n",
    "        mae_ = np.mean(100*np.abs(tmp2_['O2'].values- tmp_['O2'].values))\n",
    "\n",
    "        #print (\"MAE for range [\", int(O2_), \",\", int(O2_-step), \"] is\", mae_)\n",
    "\n",
    "        MAE_boxplot.append(list(100.0*np.abs(tmp_['O2'].values-tmp2_['O2'].values)))\n",
    "\n",
    "        MAE_list.append(mae_)\n",
    "        MAE_xticks.append(\"[\"+ str(int(O2_-step))+ \",\"+ str(int(O2_))+ \"]\")\n",
    "    \n",
    "    return MAE_boxplot, MAE_list, MAE_xticks"
   ]
  },
  {
   "cell_type": "code",
   "execution_count": 28,
   "metadata": {
    "colab": {},
    "colab_type": "code",
    "id": "ix9iIYTcZvFW"
   },
   "outputs": [],
   "source": [
    "# Get predictions\n",
    "def get_predictions(model, targets_dev, data_dev):\n",
    "    preds = model.predict(data_dev)\n",
    "    preds_df = pd.DataFrame(preds)\n",
    "    preds_df.columns = ['O2', 'T']\n",
    "    targets_dev_ = targets_dev.reset_index(drop = True)\n",
    "    preds_df_ = preds_df.reset_index(drop = True)\n",
    "    \n",
    "    return targets_dev_, preds_df_"
   ]
  },
  {
   "cell_type": "code",
   "execution_count": 29,
   "metadata": {
    "colab": {},
    "colab_type": "code",
    "id": "xY5mtw2DZvFW"
   },
   "outputs": [],
   "source": [
    "class CustomCallback(keras.callbacks.Callback):\n",
    "    def on_epoch_end(self, epoch, logs={}):\n",
    "        if (epoch % 5000 == 0):\n",
    "            print (\"Just finished epoch\", epoch)\n",
    "            print (logs)\n",
    "            return\n",
    "        \n",
    "class CustomCallbackProgress(keras.callbacks.Callback):\n",
    "    \n",
    "    def __init__(self, totalEpochs, step):\n",
    "        self.step = 0\n",
    "        self.totalEpochs = totalEpochs\n",
    "        self.step = step\n",
    "        \n",
    "        \n",
    "    def on_epoch_end(self, epoch, logs={}):\n",
    "        if (epoch % 200 == 0):\n",
    "            i = int(epoch / 200)\n",
    "            \n",
    "            if (i > 0):\n",
    "                numberOfEquals = int(self.totalEpochs/200*i)\n",
    "                percent = 100/(self.totalEpochs/200)*i\n",
    "            else:\n",
    "                numberOfEquals = 0\n",
    "                percent = 0\n",
    "                \n",
    "                \n",
    "            print (\"\\r[%-20s] %d%%\" % ('='*i, percent), end='')\n",
    "            \n",
    "            if(percent == 100):\n",
    "                print('')\n",
    "        "
   ]
  },
  {
   "cell_type": "code",
   "execution_count": 30,
   "metadata": {
    "colab": {},
    "colab_type": "code",
    "id": "pvugRkk3ZvFX"
   },
   "outputs": [],
   "source": [
    "def reset_keras():\n",
    "    K.get_session().close()\n",
    "    K.set_session(tf.Session())\n",
    "    K.get_session().run(tf.global_variables_initializer())"
   ]
  },
  {
   "cell_type": "code",
   "execution_count": 31,
   "metadata": {
    "colab": {},
    "colab_type": "code",
    "id": "hf_xjlejZvFZ"
   },
   "outputs": [],
   "source": [
    "def average_runs(n_iter, model_):\n",
    "    MAE_O2_boxplot_avg = [0]*9\n",
    "    MAE_T_boxplot_avg = [0]*5\n",
    "\n",
    "    for i in range(n_iter):\n",
    "        print (\"Training iteration \", i)\n",
    "        \n",
    "        model_.fit(data_train, targets_train, epochs=4001, batch_size=1000,verbose = 0,\n",
    "             validation_data= (data_dev, targets_dev), callbacks = [CustomCallbackProgress(4000,200)])\n",
    "\n",
    "        print(\"Getting predictions for iteration \",i)\n",
    "        targets_dev_, preds_df_ = get_predictions(model_, targets_dev, data_dev)\n",
    "        targets_train_, preds_train_ = get_predictions(model_, targets_train, data_train)\n",
    "\n",
    "        print(\"Generating MAE lists for iteration \", i)\n",
    "        MAE_boxplot_, MAE_list_, MAE_xticks_ = MAE_O2_list_generator(10.0, targets_dev_, preds_df_)\n",
    "        MAE_T_boxplot_, MAE_T_list_, MAE_T_xticks_ = MAE_T_list_generator(targets_dev_, preds_df_)\n",
    "        #MAE_boxplot_train_, MAE_list_train_, MAE_xticks_train_ = MAE_list_generator(10.0, targets_train_, preds_train_)\n",
    "\n",
    "        for j in range(len(MAE_boxplot_)):\n",
    "            MAE_O2_boxplot_avg[j] = MAE_O2_boxplot_avg[j] + np.array(MAE_boxplot_[j])/n_iter\n",
    "            \n",
    "        for j in range(len(MAE_T_boxplot_)):\n",
    "            MAE_T_boxplot_avg[j] = MAE_T_boxplot_avg[j] + np.array(MAE_T_boxplot_[j])/n_iter\n",
    "\n",
    "    return MAE_O2_boxplot_avg, MAE_T_boxplot_avg"
   ]
  },
  {
   "cell_type": "code",
   "execution_count": 32,
   "metadata": {
    "colab": {},
    "colab_type": "code",
    "id": "i5JVJPB1ZvFZ"
   },
   "outputs": [],
   "source": [
    "def get_mae(MAE_boxplot_):\n",
    "    flat_list = [item for sublist in MAE_boxplot_ for item in sublist]\n",
    "    return np.mean(flat_list)"
   ]
  },
  {
   "cell_type": "markdown",
   "metadata": {
    "colab_type": "text",
    "id": "qubDL3VCZvFb"
   },
   "source": [
    "# Random Seed to get reproducible results"
   ]
  },
  {
   "cell_type": "code",
   "execution_count": 33,
   "metadata": {
    "colab": {},
    "colab_type": "code",
    "id": "jd131E5PZvFc"
   },
   "outputs": [],
   "source": [
    "K.clear_session()\n",
    "\n",
    "from numpy.random import seed\n",
    "seed(42)\n",
    "#from tensorflow import set_random_seed\n",
    "#set_random_seed(42)"
   ]
  },
  {
   "cell_type": "markdown",
   "metadata": {
    "colab_type": "text",
    "id": "3jXoqPciZvFd"
   },
   "source": [
    "# Network C"
   ]
  },
  {
   "cell_type": "code",
   "execution_count": 34,
   "metadata": {
    "colab": {},
    "colab_type": "code",
    "id": "ivJYtwZTZvFe"
   },
   "outputs": [],
   "source": [
    "class CustomCallback_(keras.callbacks.Callback):\n",
    "    def on_epoch_end(self, epoch, logs={}):\n",
    "        if (epoch % 5000 == 0):\n",
    "            print (\"Just finished epoch\", epoch)\n",
    "            #print(logs)\n",
    "            print (\"Validation MAE_O2 = \", 100*float(logs.get(\"val_O2_output_mae\")))\n",
    "            print (\"Validation MAE_T = \", 45*float(logs.get(\"val_T_output_mae\")))\n",
    "            print (\"Training   MAE_O2 = \", 100*float(logs.get(\"O2_output_mae\")))\n",
    "            print (\"Training   MAE_T = \", 45*float(logs.get(\"T_output_mae\")))\n",
    "            \n",
    "            return"
   ]
  },
  {
   "cell_type": "code",
   "execution_count": 151,
   "metadata": {
    "colab": {},
    "colab_type": "code",
    "id": "zolxZDx0ZvFe"
   },
   "outputs": [],
   "source": [
    "K.clear_session()"
   ]
  },
  {
   "cell_type": "code",
   "execution_count": 35,
   "metadata": {},
   "outputs": [],
   "source": [
    "def get_compiled_model(input_freqs = 50):\n",
    "    input_x = keras.layers.Input(shape = (input_freqs,))\n",
    "    lay1 = layers.Dense(50,  activation='sigmoid', dtype = tf.float32)(input_x)\n",
    "    lay2 = layers.Dense(50, activation='sigmoid')(lay1)\n",
    "    lay3 = layers.Dense(50, activation='sigmoid')(lay2)\n",
    "    outboth = layers.Dense(2, activation='sigmoid',name=\"both_output\")(lay3)\n",
    "\n",
    "    lay4 = layers.Dense(5, activation='sigmoid')(lay3)\n",
    "    lay5 = layers.Dense(5, activation='sigmoid')(lay4)\n",
    "    outo2 = layers.Dense(1, activation = 'sigmoid',name=\"O2_output\")(lay5)\n",
    "\n",
    "\n",
    "    lay6 = layers.Dense(5, activation='sigmoid')(lay3)\n",
    "    lay7 = layers.Dense(5, activation='sigmoid')(lay6)\n",
    "    outT = layers.Dense(1, activation = 'sigmoid', name = \"T_output\")(lay7)\n",
    "\n",
    "    #model = Model(input_x, outl)\n",
    "\n",
    "    model4 = Model(\n",
    "        inputs=input_x,\n",
    "        outputs=[outboth, outo2, outT])\n",
    "    \n",
    "    losses = {\n",
    "        \"both_output\": \"mse\",\n",
    "        \"O2_output\": \"mse\",\n",
    "        \"T_output\": \"mse\"\n",
    "    }\n",
    "\n",
    "    #0.3, 5, 5\n",
    "    lossWeights = {\"both_output\": 0.3, \"O2_output\": 5.0, \"T_output\": 5.0}\n",
    "\n",
    "    opt = Adam(lr=0.001)\n",
    "\n",
    "    model4.compile(optimizer=opt, loss=losses, loss_weights=lossWeights,\n",
    "            metrics=[\"mae\"])\n",
    "    \n",
    "    return model4"
   ]
  },
  {
   "cell_type": "code",
   "execution_count": 36,
   "metadata": {
    "colab": {},
    "colab_type": "code",
    "id": "QAR-gIrbZvFh"
   },
   "outputs": [],
   "source": [
    "targets_train_O2 = targets_train['O2']\n",
    "targets_dev_O2 = targets_dev['O2']\n",
    "targets_train_T = targets_train['T']\n",
    "targets_dev_T = targets_dev['T']"
   ]
  },
  {
   "cell_type": "markdown",
   "metadata": {
    "colab_type": "text",
    "id": "-do_u4EDZvFh"
   },
   "source": [
    "## Fitting of the model - removing 5 frequency from left"
   ]
  },
  {
   "cell_type": "code",
   "execution_count": 51,
   "metadata": {},
   "outputs": [],
   "source": [
    "data_train_red = np.zeros((data_train.shape[0], 45))\n",
    "for i in range(data_train.shape[0]):\n",
    "    data_train_red[i] = np.array(data_train)[i][5:]\n",
    "    \n",
    "data_dev_red = np.zeros((data_dev.shape[0], 45))\n",
    "for i in range(data_dev.shape[0]):\n",
    "    data_dev_red[i] = np.array(data_dev)[i][5:]"
   ]
  },
  {
   "cell_type": "code",
   "execution_count": 52,
   "metadata": {},
   "outputs": [],
   "source": [
    "model4 = get_compiled_model(45)"
   ]
  },
  {
   "cell_type": "code",
   "execution_count": 55,
   "metadata": {
    "colab": {
     "base_uri": "https://localhost:8080/",
     "height": 1000
    },
    "colab_type": "code",
    "id": "5SOLycrnZvFh",
    "outputId": "395a8a6d-324e-4068-ab11-115d1dd7daeb"
   },
   "outputs": [
    {
     "name": "stdout",
     "output_type": "stream",
     "text": [
      "Just finished epoch 0\n",
      "{'loss': 1.200871467590332, 'both_output_loss': 0.092686355, 'O2_output_loss': 0.08971767, 'T_output_loss': 0.14489543, 'both_output_mae': 0.25845134, 'O2_output_mae': 0.2559963, 'T_output_mae': 0.3121305, 'val_loss': 1.1574009656906128, 'val_both_output_loss': 0.09113793, 'val_O2_output_loss': 0.08647701, 'val_T_output_loss': 0.1395349, 'val_both_output_mae': 0.25758725, 'val_O2_output_mae': 0.25311708, 'val_T_output_mae': 0.30462444}\n",
      "Just finished epoch 5000\n",
      "{'loss': 0.0192289799451828, 'both_output_loss': 0.0038283027, 'O2_output_loss': 0.0003354334, 'T_output_loss': 0.003280664, 'both_output_mae': 0.041451655, 'O2_output_mae': 0.011753869, 'T_output_mae': 0.042843856, 'val_loss': 0.020876498892903328, 'val_both_output_loss': 0.0038572473, 'val_O2_output_loss': 0.00031988684, 'val_T_output_loss': 0.0036239782, 'val_both_output_mae': 0.039926343, 'val_O2_output_mae': 0.012308174, 'val_T_output_mae': 0.045329493}\n",
      "Just finished epoch 10000\n",
      "{'loss': 0.008441061712801456, 'both_output_loss': 0.001968565, 'O2_output_loss': 7.8100486e-05, 'T_output_loss': 0.001491998, 'both_output_mae': 0.029354477, 'O2_output_mae': 0.0057722004, 'T_output_mae': 0.030191327, 'val_loss': 0.008118120953440666, 'val_both_output_loss': 0.001948552, 'val_O2_output_loss': 6.882708e-05, 'val_T_output_loss': 0.0014378839, 'val_both_output_mae': 0.029551357, 'val_O2_output_mae': 0.0053883838, 'val_T_output_mae': 0.030541403}\n",
      "Just finished epoch 15000\n",
      "{'loss': 0.004108496941626072, 'both_output_loss': 0.0018117307, 'O2_output_loss': 4.030847e-05, 'T_output_loss': 0.0006726871, 'both_output_mae': 0.029215192, 'O2_output_mae': 0.004099038, 'T_output_mae': 0.019151457, 'val_loss': 0.004276522435247898, 'val_both_output_loss': 0.0019113068, 'val_O2_output_loss': 3.5273515e-05, 'val_T_output_loss': 0.0007053525, 'val_both_output_mae': 0.03038835, 'val_O2_output_mae': 0.003952856, 'val_T_output_mae': 0.020138813}\n"
     ]
    }
   ],
   "source": [
    "H = model4.fit(data_train_red,\n",
    "        {\"both_output\": targets_train, \"O2_output\": targets_train_O2, \"T_output\": targets_train_T},\n",
    "        validation_data=(data_dev_red,\n",
    "            {\"both_output\": targets_dev, \"O2_output\": targets_dev_O2, \"T_output\": targets_dev_T}),\n",
    "        epochs=20000, batch_size = 4000,\n",
    "        verbose=0, callbacks = [CustomCallback()])"
   ]
  },
  {
   "cell_type": "code",
   "execution_count": 61,
   "metadata": {},
   "outputs": [],
   "source": [
    "model4.save(\"model_20000_4000_1e-3_3x50_2x5_2x5_theta_theta0_minus5.h5\")"
   ]
  },
  {
   "cell_type": "code",
   "execution_count": 57,
   "metadata": {
    "colab": {},
    "colab_type": "code",
    "id": "M-UMGLNJZvFi"
   },
   "outputs": [],
   "source": [
    "(O2T, O2, T) = model4.predict(data_dev_red)\n",
    "preds_exp_df = pd.DataFrame(O2T)\n",
    "preds_exp_df.columns = ['O2', 'T']\n",
    "preds_exp_o2_df = pd.DataFrame(O2[:,0])\n",
    "preds_exp_o2_df.columns = ['O2']\n",
    "\n",
    "preds_exp_T_df = pd.DataFrame(T[:,0])\n",
    "preds_exp_T_df.columns = ['T']"
   ]
  },
  {
   "cell_type": "code",
   "execution_count": 58,
   "metadata": {
    "colab": {},
    "colab_type": "code",
    "id": "TAQKhZDjZvFi"
   },
   "outputs": [],
   "source": [
    "targets_dev = targets_dev.reset_index(drop = True)\n",
    "preds_exp_o2_df = preds_exp_o2_df.reset_index(drop = True)\n",
    "preds_exp_T_df = preds_exp_T_df.reset_index(drop = True)"
   ]
  },
  {
   "cell_type": "code",
   "execution_count": 59,
   "metadata": {},
   "outputs": [],
   "source": [
    "MAE_boxplot_C, MAE_list_C, MAE_xticks_C = MAE_O2_list_generator(10.0, targets_dev, preds_exp_o2_df)\n",
    "MAET_boxplot_C_MTL, MAET_list_C_MTL, MAET_xticks_C_MTL = MAE_T_list_generator(targets_dev, preds_exp_T_df)\n",
    "MAET_boxplot_C_MTL_w0, MAET_list_C_MTL_w0, MAET_xticks_C_MTL_w0 = MAE_T_list_generator_w0(targets_dev, preds_exp_T_df)\n",
    "\n",
    "MAE_boxplot_C_flat = [item for sublist in MAE_boxplot_C for item in sublist]\n",
    "MAET_boxplot_C_MTL_flat = [item for sublist in MAET_boxplot_C_MTL for item in sublist]"
   ]
  },
  {
   "cell_type": "code",
   "execution_count": 60,
   "metadata": {},
   "outputs": [
    {
     "name": "stdout",
     "output_type": "stream",
     "text": [
      "0.2791318690431294\n",
      "0.7421202353305285\n"
     ]
    }
   ],
   "source": [
    "print(np.mean(MAE_boxplot_C_flat))\n",
    "print(np.mean(MAET_boxplot_C_MTL_flat))"
   ]
  },
  {
   "cell_type": "markdown",
   "metadata": {
    "colab_type": "text",
    "id": "-do_u4EDZvFh"
   },
   "source": [
    "## Fitting of the model - removing 10 frequency from left"
   ]
  },
  {
   "cell_type": "code",
   "execution_count": 64,
   "metadata": {},
   "outputs": [],
   "source": [
    "rem = 10\n",
    "data_train_red = np.zeros((data_train.shape[0], 50-rem))\n",
    "for i in range(data_train.shape[0]):\n",
    "    data_train_red[i] = np.array(data_train)[i][rem:]\n",
    "    \n",
    "data_dev_red = np.zeros((data_dev.shape[0], 50-rem))\n",
    "for i in range(data_dev.shape[0]):\n",
    "    data_dev_red[i] = np.array(data_dev)[i][rem:]"
   ]
  },
  {
   "cell_type": "code",
   "execution_count": 65,
   "metadata": {},
   "outputs": [],
   "source": [
    "model4 = get_compiled_model(50-rem)"
   ]
  },
  {
   "cell_type": "code",
   "execution_count": 66,
   "metadata": {
    "colab": {
     "base_uri": "https://localhost:8080/",
     "height": 1000
    },
    "colab_type": "code",
    "id": "5SOLycrnZvFh",
    "outputId": "395a8a6d-324e-4068-ab11-115d1dd7daeb"
   },
   "outputs": [
    {
     "name": "stdout",
     "output_type": "stream",
     "text": [
      "Just finished epoch 0\n",
      "{'loss': 0.9148028492927551, 'both_output_loss': 0.096408725, 'O2_output_loss': 0.08403436, 'T_output_loss': 0.09314169, 'both_output_mae': 0.2628823, 'O2_output_mae': 0.25038612, 'T_output_mae': 0.25867882, 'val_loss': 0.9010629653930664, 'val_both_output_loss': 0.09532103, 'val_O2_output_loss': 0.08274113, 'val_T_output_loss': 0.0917522, 'val_both_output_mae': 0.2609089, 'val_O2_output_mae': 0.24885286, 'val_T_output_mae': 0.25704187}\n",
      "Just finished epoch 5000\n",
      "{'loss': 0.03636881709098816, 'both_output_loss': 0.009243281, 'O2_output_loss': 0.00045430858, 'T_output_loss': 0.006264858, 'both_output_mae': 0.06506565, 'O2_output_mae': 0.015276389, 'T_output_mae': 0.052907113, 'val_loss': 0.03771088272333145, 'val_both_output_loss': 0.009012116, 'val_O2_output_loss': 0.00043588664, 'val_T_output_loss': 0.006565563, 'val_both_output_mae': 0.06450452, 'val_O2_output_mae': 0.015198178, 'val_T_output_mae': 0.052761205}\n",
      "Just finished epoch 10000\n",
      "{'loss': 0.014452680945396423, 'both_output_loss': 0.003603828, 'O2_output_loss': 0.00019871374, 'T_output_loss': 0.0024755928, 'both_output_mae': 0.03528533, 'O2_output_mae': 0.010101693, 'T_output_mae': 0.035001464, 'val_loss': 0.0158767681568861, 'val_both_output_loss': 0.003680925, 'val_O2_output_loss': 0.00018793398, 'val_T_output_loss': 0.002766564, 'val_both_output_mae': 0.035467383, 'val_O2_output_mae': 0.0100809615, 'val_T_output_mae': 0.036136135}\n",
      "Just finished epoch 15000\n",
      "{'loss': 0.012577282264828682, 'both_output_loss': 0.0027678905, 'O2_output_loss': 9.9917685e-05, 'T_output_loss': 0.0022494653, 'both_output_mae': 0.03254805, 'O2_output_mae': 0.0070773973, 'T_output_mae': 0.0341904, 'val_loss': 0.011380883865058422, 'val_both_output_loss': 0.0026769012, 'val_O2_output_loss': 9.045115e-05, 'val_T_output_loss': 0.0020251116, 'val_both_output_mae': 0.031437825, 'val_O2_output_mae': 0.006536297, 'val_T_output_mae': 0.033572465}\n"
     ]
    }
   ],
   "source": [
    "H = model4.fit(data_train_red,\n",
    "        {\"both_output\": targets_train, \"O2_output\": targets_train_O2, \"T_output\": targets_train_T},\n",
    "        validation_data=(data_dev_red,\n",
    "            {\"both_output\": targets_dev, \"O2_output\": targets_dev_O2, \"T_output\": targets_dev_T}),\n",
    "        epochs=20000, batch_size = 4000,\n",
    "        verbose=0, callbacks = [CustomCallback()])"
   ]
  },
  {
   "cell_type": "code",
   "execution_count": 67,
   "metadata": {},
   "outputs": [],
   "source": [
    "model4.save(\"model_20000_4000_1e-3_3x50_2x5_2x5_theta_theta0_minus10.h5\")"
   ]
  },
  {
   "cell_type": "code",
   "execution_count": 68,
   "metadata": {
    "colab": {},
    "colab_type": "code",
    "id": "M-UMGLNJZvFi"
   },
   "outputs": [],
   "source": [
    "(O2T, O2, T) = model4.predict(data_dev_red)\n",
    "preds_exp_df = pd.DataFrame(O2T)\n",
    "preds_exp_df.columns = ['O2', 'T']\n",
    "preds_exp_o2_df = pd.DataFrame(O2[:,0])\n",
    "preds_exp_o2_df.columns = ['O2']\n",
    "\n",
    "preds_exp_T_df = pd.DataFrame(T[:,0])\n",
    "preds_exp_T_df.columns = ['T']"
   ]
  },
  {
   "cell_type": "code",
   "execution_count": 69,
   "metadata": {
    "colab": {},
    "colab_type": "code",
    "id": "TAQKhZDjZvFi"
   },
   "outputs": [],
   "source": [
    "targets_dev = targets_dev.reset_index(drop = True)\n",
    "preds_exp_o2_df = preds_exp_o2_df.reset_index(drop = True)\n",
    "preds_exp_T_df = preds_exp_T_df.reset_index(drop = True)"
   ]
  },
  {
   "cell_type": "code",
   "execution_count": 70,
   "metadata": {},
   "outputs": [],
   "source": [
    "MAE_boxplot_C, MAE_list_C, MAE_xticks_C = MAE_O2_list_generator(10.0, targets_dev, preds_exp_o2_df)\n",
    "MAET_boxplot_C_MTL, MAET_list_C_MTL, MAET_xticks_C_MTL = MAE_T_list_generator(targets_dev, preds_exp_T_df)\n",
    "MAET_boxplot_C_MTL_w0, MAET_list_C_MTL_w0, MAET_xticks_C_MTL_w0 = MAE_T_list_generator_w0(targets_dev, preds_exp_T_df)\n",
    "\n",
    "MAE_boxplot_C_flat = [item for sublist in MAE_boxplot_C for item in sublist]\n",
    "MAET_boxplot_C_MTL_flat = [item for sublist in MAET_boxplot_C_MTL for item in sublist]"
   ]
  },
  {
   "cell_type": "code",
   "execution_count": 71,
   "metadata": {},
   "outputs": [
    {
     "name": "stdout",
     "output_type": "stream",
     "text": [
      "0.47368976322637063\n",
      "1.5087105477125278\n"
     ]
    }
   ],
   "source": [
    "print(np.mean(MAE_boxplot_C_flat))\n",
    "print(np.mean(MAET_boxplot_C_MTL_flat))"
   ]
  },
  {
   "cell_type": "markdown",
   "metadata": {
    "colab_type": "text",
    "id": "-do_u4EDZvFh"
   },
   "source": [
    "## Fitting of the model - removing 15 frequency from left"
   ]
  },
  {
   "cell_type": "code",
   "execution_count": 72,
   "metadata": {},
   "outputs": [],
   "source": [
    "rem = 15\n",
    "data_train_red = np.zeros((data_train.shape[0], 50-rem))\n",
    "for i in range(data_train.shape[0]):\n",
    "    data_train_red[i] = np.array(data_train)[i][rem:]\n",
    "    \n",
    "data_dev_red = np.zeros((data_dev.shape[0], 50-rem))\n",
    "for i in range(data_dev.shape[0]):\n",
    "    data_dev_red[i] = np.array(data_dev)[i][rem:]"
   ]
  },
  {
   "cell_type": "code",
   "execution_count": 73,
   "metadata": {},
   "outputs": [],
   "source": [
    "model4 = get_compiled_model(50-rem)"
   ]
  },
  {
   "cell_type": "code",
   "execution_count": 74,
   "metadata": {
    "colab": {
     "base_uri": "https://localhost:8080/",
     "height": 1000
    },
    "colab_type": "code",
    "id": "5SOLycrnZvFh",
    "outputId": "395a8a6d-324e-4068-ab11-115d1dd7daeb"
   },
   "outputs": [
    {
     "name": "stdout",
     "output_type": "stream",
     "text": [
      "Just finished epoch 0\n",
      "{'loss': 1.0049159526824951, 'both_output_loss': 0.12118503, 'O2_output_loss': 0.0981745, 'T_output_loss': 0.09553759, 'both_output_mae': 0.28791863, 'O2_output_mae': 0.2648927, 'T_output_mae': 0.26065683, 'val_loss': 1.0226120948791504, 'val_both_output_loss': 0.11903518, 'val_O2_output_loss': 0.09842968, 'val_T_output_loss': 0.09895062, 'val_both_output_mae': 0.2861517, 'val_O2_output_mae': 0.26330134, 'val_T_output_mae': 0.26509437}\n",
      "Just finished epoch 5000\n",
      "{'loss': 0.05669074505567551, 'both_output_loss': 0.016591705, 'O2_output_loss': 0.00073913735, 'T_output_loss': 0.00960351, 'both_output_mae': 0.09175797, 'O2_output_mae': 0.018682536, 'T_output_mae': 0.06306, 'val_loss': 0.055391982197761536, 'val_both_output_loss': 0.01643286, 'val_O2_output_loss': 0.0007154478, 'val_T_output_loss': 0.009376977, 'val_both_output_mae': 0.09166871, 'val_O2_output_mae': 0.018850036, 'val_T_output_mae': 0.05927908}\n",
      "Just finished epoch 10000\n",
      "{'loss': 0.0378098227083683, 'both_output_loss': 0.009354747, 'O2_output_loss': 0.00040937393, 'T_output_loss': 0.006591306, 'both_output_mae': 0.0657527, 'O2_output_mae': 0.015779866, 'T_output_mae': 0.05605797, 'val_loss': 0.03627893328666687, 'val_both_output_loss': 0.0091182245, 'val_O2_output_loss': 0.0003941056, 'val_T_output_loss': 0.006314588, 'val_both_output_mae': 0.06473558, 'val_O2_output_mae': 0.01442866, 'val_T_output_mae': 0.054080006}\n",
      "Just finished epoch 15000\n",
      "{'loss': 0.031986117362976074, 'both_output_loss': 0.006845363, 'O2_output_loss': 0.00030642393, 'T_output_loss': 0.0056800777, 'both_output_mae': 0.05553016, 'O2_output_mae': 0.013905223, 'T_output_mae': 0.05270504, 'val_loss': 0.030024059116840363, 'val_both_output_loss': 0.006723494, 'val_O2_output_loss': 0.00029018123, 'val_T_output_loss': 0.005311221, 'val_both_output_mae': 0.053543653, 'val_O2_output_mae': 0.012407136, 'val_T_output_mae': 0.050834242}\n"
     ]
    }
   ],
   "source": [
    "H = model4.fit(data_train_red,\n",
    "        {\"both_output\": targets_train, \"O2_output\": targets_train_O2, \"T_output\": targets_train_T},\n",
    "        validation_data=(data_dev_red,\n",
    "            {\"both_output\": targets_dev, \"O2_output\": targets_dev_O2, \"T_output\": targets_dev_T}),\n",
    "        epochs=20000, batch_size = 4000,\n",
    "        verbose=0, callbacks = [CustomCallback()])"
   ]
  },
  {
   "cell_type": "code",
   "execution_count": 75,
   "metadata": {},
   "outputs": [],
   "source": [
    "model4.save(\"model_20000_4000_1e-3_3x50_2x5_2x5_theta_theta0_minus15.h5\")"
   ]
  },
  {
   "cell_type": "code",
   "execution_count": 76,
   "metadata": {
    "colab": {},
    "colab_type": "code",
    "id": "M-UMGLNJZvFi"
   },
   "outputs": [],
   "source": [
    "(O2T, O2, T) = model4.predict(data_dev_red)\n",
    "preds_exp_df = pd.DataFrame(O2T)\n",
    "preds_exp_df.columns = ['O2', 'T']\n",
    "preds_exp_o2_df = pd.DataFrame(O2[:,0])\n",
    "preds_exp_o2_df.columns = ['O2']\n",
    "\n",
    "preds_exp_T_df = pd.DataFrame(T[:,0])\n",
    "preds_exp_T_df.columns = ['T']"
   ]
  },
  {
   "cell_type": "code",
   "execution_count": 77,
   "metadata": {
    "colab": {},
    "colab_type": "code",
    "id": "TAQKhZDjZvFi"
   },
   "outputs": [],
   "source": [
    "targets_dev = targets_dev.reset_index(drop = True)\n",
    "preds_exp_o2_df = preds_exp_o2_df.reset_index(drop = True)\n",
    "preds_exp_T_df = preds_exp_T_df.reset_index(drop = True)"
   ]
  },
  {
   "cell_type": "code",
   "execution_count": 78,
   "metadata": {},
   "outputs": [],
   "source": [
    "MAE_boxplot_C, MAE_list_C, MAE_xticks_C = MAE_O2_list_generator(10.0, targets_dev, preds_exp_o2_df)\n",
    "MAET_boxplot_C_MTL, MAET_list_C_MTL, MAET_xticks_C_MTL = MAE_T_list_generator(targets_dev, preds_exp_T_df)\n",
    "MAET_boxplot_C_MTL_w0, MAET_list_C_MTL_w0, MAET_xticks_C_MTL_w0 = MAE_T_list_generator_w0(targets_dev, preds_exp_T_df)\n",
    "\n",
    "MAE_boxplot_C_flat = [item for sublist in MAE_boxplot_C for item in sublist]\n",
    "MAET_boxplot_C_MTL_flat = [item for sublist in MAET_boxplot_C_MTL for item in sublist]"
   ]
  },
  {
   "cell_type": "code",
   "execution_count": 79,
   "metadata": {},
   "outputs": [
    {
     "name": "stdout",
     "output_type": "stream",
     "text": [
      "1.1267520682751266\n",
      "2.3284462326102786\n"
     ]
    }
   ],
   "source": [
    "print(np.mean(MAE_boxplot_C_flat))\n",
    "print(np.mean(MAET_boxplot_C_MTL_flat))"
   ]
  },
  {
   "cell_type": "markdown",
   "metadata": {
    "colab_type": "text",
    "id": "-do_u4EDZvFh"
   },
   "source": [
    "## Fitting of the model - removing 25 frequency from left"
   ]
  },
  {
   "cell_type": "code",
   "execution_count": 80,
   "metadata": {},
   "outputs": [],
   "source": [
    "rem = 25\n",
    "data_train_red = np.zeros((data_train.shape[0], 50-rem))\n",
    "for i in range(data_train.shape[0]):\n",
    "    data_train_red[i] = np.array(data_train)[i][rem:]\n",
    "    \n",
    "data_dev_red = np.zeros((data_dev.shape[0], 50-rem))\n",
    "for i in range(data_dev.shape[0]):\n",
    "    data_dev_red[i] = np.array(data_dev)[i][rem:]"
   ]
  },
  {
   "cell_type": "code",
   "execution_count": 81,
   "metadata": {},
   "outputs": [],
   "source": [
    "model4 = get_compiled_model(50-rem)"
   ]
  },
  {
   "cell_type": "code",
   "execution_count": 82,
   "metadata": {
    "colab": {
     "base_uri": "https://localhost:8080/",
     "height": 1000
    },
    "colab_type": "code",
    "id": "5SOLycrnZvFh",
    "outputId": "395a8a6d-324e-4068-ab11-115d1dd7daeb"
   },
   "outputs": [
    {
     "name": "stdout",
     "output_type": "stream",
     "text": [
      "Just finished epoch 0\n",
      "{'loss': 0.8634994029998779, 'both_output_loss': 0.10633177, 'O2_output_loss': 0.08404594, 'T_output_loss': 0.082274035, 'both_output_mae': 0.27314737, 'O2_output_mae': 0.25042808, 'T_output_mae': 0.24774458, 'val_loss': 0.8616530895233154, 'val_both_output_loss': 0.1026797, 'val_O2_output_loss': 0.0827441, 'val_T_output_loss': 0.08342574, 'val_both_output_mae': 0.27067283, 'val_O2_output_mae': 0.24881066, 'val_T_output_mae': 0.25138697}\n",
      "Just finished epoch 5000\n",
      "{'loss': 0.39769721031188965, 'both_output_loss': 0.038631205, 'O2_output_loss': 0.00460317, 'T_output_loss': 0.0726184, 'both_output_mae': 0.1416188, 'O2_output_mae': 0.05344982, 'T_output_mae': 0.22967707, 'val_loss': 0.4054054617881775, 'val_both_output_loss': 0.039417908, 'val_O2_output_loss': 0.0048037292, 'val_T_output_loss': 0.073912285, 'val_both_output_mae': 0.14424473, 'val_O2_output_mae': 0.055493154, 'val_T_output_mae': 0.23257972}\n",
      "Just finished epoch 10000\n",
      "{'loss': 0.3899320065975189, 'both_output_loss': 0.038134925, 'O2_output_loss': 0.004581608, 'T_output_loss': 0.0711167, 'both_output_mae': 0.14038804, 'O2_output_mae': 0.05302, 'T_output_mae': 0.22500144, 'val_loss': 0.3980204164981842, 'val_both_output_loss': 0.03864485, 'val_O2_output_loss': 0.004790789, 'val_T_output_loss': 0.0724946, 'val_both_output_mae': 0.14272445, 'val_O2_output_mae': 0.055162214, 'val_T_output_mae': 0.22934854}\n",
      "Just finished epoch 15000\n",
      "{'loss': 0.38925543427467346, 'both_output_loss': 0.03693519, 'O2_output_loss': 0.004601305, 'T_output_loss': 0.07103367, 'both_output_mae': 0.13759273, 'O2_output_mae': 0.05292176, 'T_output_mae': 0.22464493, 'val_loss': 0.39751049876213074, 'val_both_output_loss': 0.037681665, 'val_O2_output_loss': 0.00481177, 'val_T_output_loss': 0.07242943, 'val_both_output_mae': 0.14071673, 'val_O2_output_mae': 0.05503673, 'val_T_output_mae': 0.22900808}\n"
     ]
    }
   ],
   "source": [
    "H = model4.fit(data_train_red,\n",
    "        {\"both_output\": targets_train, \"O2_output\": targets_train_O2, \"T_output\": targets_train_T},\n",
    "        validation_data=(data_dev_red,\n",
    "            {\"both_output\": targets_dev, \"O2_output\": targets_dev_O2, \"T_output\": targets_dev_T}),\n",
    "        epochs=20000, batch_size = 4000,\n",
    "        verbose=0, callbacks = [CustomCallback()])"
   ]
  },
  {
   "cell_type": "code",
   "execution_count": 83,
   "metadata": {},
   "outputs": [],
   "source": [
    "model4.save(\"model_20000_4000_1e-3_3x50_2x5_2x5_theta_theta0_minus25.h5\")"
   ]
  },
  {
   "cell_type": "code",
   "execution_count": 84,
   "metadata": {
    "colab": {},
    "colab_type": "code",
    "id": "M-UMGLNJZvFi"
   },
   "outputs": [],
   "source": [
    "(O2T, O2, T) = model4.predict(data_dev_red)\n",
    "preds_exp_df = pd.DataFrame(O2T)\n",
    "preds_exp_df.columns = ['O2', 'T']\n",
    "preds_exp_o2_df = pd.DataFrame(O2[:,0])\n",
    "preds_exp_o2_df.columns = ['O2']\n",
    "\n",
    "preds_exp_T_df = pd.DataFrame(T[:,0])\n",
    "preds_exp_T_df.columns = ['T']"
   ]
  },
  {
   "cell_type": "code",
   "execution_count": 85,
   "metadata": {
    "colab": {},
    "colab_type": "code",
    "id": "TAQKhZDjZvFi"
   },
   "outputs": [],
   "source": [
    "targets_dev = targets_dev.reset_index(drop = True)\n",
    "preds_exp_o2_df = preds_exp_o2_df.reset_index(drop = True)\n",
    "preds_exp_T_df = preds_exp_T_df.reset_index(drop = True)"
   ]
  },
  {
   "cell_type": "code",
   "execution_count": 86,
   "metadata": {},
   "outputs": [],
   "source": [
    "MAE_boxplot_C, MAE_list_C, MAE_xticks_C = MAE_O2_list_generator(10.0, targets_dev, preds_exp_o2_df)\n",
    "MAET_boxplot_C_MTL, MAET_list_C_MTL, MAET_xticks_C_MTL = MAE_T_list_generator(targets_dev, preds_exp_T_df)\n",
    "MAET_boxplot_C_MTL_w0, MAET_list_C_MTL_w0, MAET_xticks_C_MTL_w0 = MAE_T_list_generator_w0(targets_dev, preds_exp_T_df)\n",
    "\n",
    "MAE_boxplot_C_flat = [item for sublist in MAE_boxplot_C for item in sublist]\n",
    "MAET_boxplot_C_MTL_flat = [item for sublist in MAET_boxplot_C_MTL for item in sublist]"
   ]
  },
  {
   "cell_type": "code",
   "execution_count": 87,
   "metadata": {},
   "outputs": [
    {
     "name": "stdout",
     "output_type": "stream",
     "text": [
      "4.910872258893821\n",
      "9.943648681044579\n"
     ]
    }
   ],
   "source": [
    "print(np.mean(MAE_boxplot_C_flat))\n",
    "print(np.mean(MAET_boxplot_C_MTL_flat))"
   ]
  },
  {
   "cell_type": "markdown",
   "metadata": {
    "colab_type": "text",
    "id": "-do_u4EDZvFh"
   },
   "source": [
    "## Fitting of the model - removing 35 frequency from left"
   ]
  },
  {
   "cell_type": "code",
   "execution_count": 90,
   "metadata": {},
   "outputs": [],
   "source": [
    "rem = 35\n",
    "data_train_red = np.zeros((data_train.shape[0], 50-rem))\n",
    "for i in range(data_train.shape[0]):\n",
    "    data_train_red[i] = np.array(data_train)[i][rem:]\n",
    "    \n",
    "data_dev_red = np.zeros((data_dev.shape[0], 50-rem))\n",
    "for i in range(data_dev.shape[0]):\n",
    "    data_dev_red[i] = np.array(data_dev)[i][rem:]"
   ]
  },
  {
   "cell_type": "code",
   "execution_count": 91,
   "metadata": {},
   "outputs": [],
   "source": [
    "model4 = get_compiled_model(50-rem)"
   ]
  },
  {
   "cell_type": "code",
   "execution_count": 92,
   "metadata": {
    "colab": {
     "base_uri": "https://localhost:8080/",
     "height": 1000
    },
    "colab_type": "code",
    "id": "5SOLycrnZvFh",
    "outputId": "395a8a6d-324e-4068-ab11-115d1dd7daeb"
   },
   "outputs": [
    {
     "name": "stdout",
     "output_type": "stream",
     "text": [
      "Just finished epoch 0\n",
      "{'loss': 1.0167862176895142, 'both_output_loss': 0.10249762, 'O2_output_loss': 0.111366145, 'T_output_loss': 0.08584125, 'both_output_mae': 0.26908004, 'O2_output_mae': 0.27824447, 'T_output_mae': 0.253041, 'val_loss': 1.0321533679962158, 'val_both_output_loss': 0.10157641, 'val_O2_output_loss': 0.11182785, 'val_T_output_loss': 0.08850823, 'val_both_output_mae': 0.26951, 'val_O2_output_mae': 0.27700952, 'val_T_output_mae': 0.2578583}\n",
      "Just finished epoch 5000\n",
      "{'loss': 0.3829619288444519, 'both_output_loss': 0.03858964, 'O2_output_loss': 0.0047793565, 'T_output_loss': 0.06949765, 'both_output_mae': 0.14186914, 'O2_output_mae': 0.054842927, 'T_output_mae': 0.22149985, 'val_loss': 0.3857157528400421, 'val_both_output_loss': 0.03924714, 'val_O2_output_loss': 0.004978705, 'val_T_output_loss': 0.069809616, 'val_both_output_mae': 0.14415003, 'val_O2_output_mae': 0.056687213, 'val_T_output_mae': 0.22360997}\n",
      "Just finished epoch 10000\n",
      "{'loss': 0.3669218122959137, 'both_output_loss': 0.036393728, 'O2_output_loss': 0.0047419537, 'T_output_loss': 0.066458784, 'both_output_mae': 0.13622029, 'O2_output_mae': 0.054069214, 'T_output_mae': 0.21208772, 'val_loss': 0.37372228503227234, 'val_both_output_loss': 0.037140127, 'val_O2_output_loss': 0.0049583814, 'val_T_output_loss': 0.06755767, 'val_both_output_mae': 0.13961953, 'val_O2_output_mae': 0.056190055, 'val_T_output_mae': 0.215862}\n",
      "Just finished epoch 15000\n",
      "{'loss': 0.3379671573638916, 'both_output_loss': 0.03499727, 'O2_output_loss': 0.004366663, 'T_output_loss': 0.061126936, 'both_output_mae': 0.1326862, 'O2_output_mae': 0.051589526, 'T_output_mae': 0.20174488, 'val_loss': 0.3441101312637329, 'val_both_output_loss': 0.035738092, 'val_O2_output_loss': 0.004564105, 'val_T_output_loss': 0.062113635, 'val_both_output_mae': 0.13586351, 'val_O2_output_mae': 0.05362302, 'val_T_output_mae': 0.20486027}\n"
     ]
    }
   ],
   "source": [
    "H = model4.fit(data_train_red,\n",
    "        {\"both_output\": targets_train, \"O2_output\": targets_train_O2, \"T_output\": targets_train_T},\n",
    "        validation_data=(data_dev_red,\n",
    "            {\"both_output\": targets_dev, \"O2_output\": targets_dev_O2, \"T_output\": targets_dev_T}),\n",
    "        epochs=20000, batch_size = 4000,\n",
    "        verbose=0, callbacks = [CustomCallback()])"
   ]
  },
  {
   "cell_type": "code",
   "execution_count": 93,
   "metadata": {},
   "outputs": [],
   "source": [
    "model4.save(\"model_20000_4000_1e-3_3x50_2x5_2x5_theta_theta0_minus35.h5\")"
   ]
  },
  {
   "cell_type": "code",
   "execution_count": 94,
   "metadata": {
    "colab": {},
    "colab_type": "code",
    "id": "M-UMGLNJZvFi"
   },
   "outputs": [],
   "source": [
    "(O2T, O2, T) = model4.predict(data_dev_red)\n",
    "preds_exp_df = pd.DataFrame(O2T)\n",
    "preds_exp_df.columns = ['O2', 'T']\n",
    "preds_exp_o2_df = pd.DataFrame(O2[:,0])\n",
    "preds_exp_o2_df.columns = ['O2']\n",
    "\n",
    "preds_exp_T_df = pd.DataFrame(T[:,0])\n",
    "preds_exp_T_df.columns = ['T']"
   ]
  },
  {
   "cell_type": "code",
   "execution_count": 95,
   "metadata": {
    "colab": {},
    "colab_type": "code",
    "id": "TAQKhZDjZvFi"
   },
   "outputs": [],
   "source": [
    "targets_dev = targets_dev.reset_index(drop = True)\n",
    "preds_exp_o2_df = preds_exp_o2_df.reset_index(drop = True)\n",
    "preds_exp_T_df = preds_exp_T_df.reset_index(drop = True)"
   ]
  },
  {
   "cell_type": "code",
   "execution_count": 96,
   "metadata": {},
   "outputs": [],
   "source": [
    "MAE_boxplot_C, MAE_list_C, MAE_xticks_C = MAE_O2_list_generator(10.0, targets_dev, preds_exp_o2_df)\n",
    "MAET_boxplot_C_MTL, MAET_list_C_MTL, MAET_xticks_C_MTL = MAE_T_list_generator(targets_dev, preds_exp_T_df)\n",
    "MAET_boxplot_C_MTL_w0, MAET_list_C_MTL_w0, MAET_xticks_C_MTL_w0 = MAE_T_list_generator_w0(targets_dev, preds_exp_T_df)\n",
    "\n",
    "MAE_boxplot_C_flat = [item for sublist in MAE_boxplot_C for item in sublist]\n",
    "MAET_boxplot_C_MTL_flat = [item for sublist in MAET_boxplot_C_MTL for item in sublist]"
   ]
  },
  {
   "cell_type": "code",
   "execution_count": 97,
   "metadata": {},
   "outputs": [
    {
     "name": "stdout",
     "output_type": "stream",
     "text": [
      "4.668047012194343\n",
      "8.333336919753087\n"
     ]
    }
   ],
   "source": [
    "print(np.mean(MAE_boxplot_C_flat))\n",
    "print(np.mean(MAET_boxplot_C_MTL_flat))"
   ]
  },
  {
   "cell_type": "markdown",
   "metadata": {
    "colab_type": "text",
    "id": "-do_u4EDZvFh"
   },
   "source": [
    "## Fitting of the model - removing 45 frequency from left"
   ]
  },
  {
   "cell_type": "code",
   "execution_count": 101,
   "metadata": {},
   "outputs": [],
   "source": [
    "rem = 45\n",
    "data_train_red = np.zeros((data_train.shape[0], 50-rem))\n",
    "for i in range(data_train.shape[0]):\n",
    "    data_train_red[i] = np.array(data_train)[i][rem:]\n",
    "    \n",
    "data_dev_red = np.zeros((data_dev.shape[0], 50-rem))\n",
    "for i in range(data_dev.shape[0]):\n",
    "    data_dev_red[i] = np.array(data_dev)[i][rem:]"
   ]
  },
  {
   "cell_type": "code",
   "execution_count": 102,
   "metadata": {},
   "outputs": [],
   "source": [
    "model4 = get_compiled_model(50-rem)"
   ]
  },
  {
   "cell_type": "code",
   "execution_count": 103,
   "metadata": {
    "colab": {
     "base_uri": "https://localhost:8080/",
     "height": 1000
    },
    "colab_type": "code",
    "id": "5SOLycrnZvFh",
    "outputId": "395a8a6d-324e-4068-ab11-115d1dd7daeb"
   },
   "outputs": [
    {
     "name": "stdout",
     "output_type": "stream",
     "text": [
      "Just finished epoch 0\n",
      "{'loss': 0.9780373573303223, 'both_output_loss': 0.099575065, 'O2_output_loss': 0.093484454, 'T_output_loss': 0.09614851, 'both_output_mae': 0.2664992, 'O2_output_mae': 0.26029724, 'T_output_mae': 0.26150757, 'val_loss': 0.9763631820678711, 'val_both_output_loss': 0.098007955, 'val_O2_output_loss': 0.089700155, 'val_T_output_loss': 0.099692, 'val_both_output_mae': 0.26609057, 'val_O2_output_mae': 0.2568089, 'val_T_output_mae': 0.26613826}\n",
      "Just finished epoch 5000\n",
      "{'loss': 0.3919069766998291, 'both_output_loss': 0.03852366, 'O2_output_loss': 0.00500246, 'T_output_loss': 0.07106752, 'both_output_mae': 0.14198464, 'O2_output_mae': 0.05555652, 'T_output_mae': 0.22628745, 'val_loss': 0.3998323082923889, 'val_both_output_loss': 0.039345764, 'val_O2_output_loss': 0.00520876, 'val_T_output_loss': 0.07239696, 'val_both_output_mae': 0.14449474, 'val_O2_output_mae': 0.057458147, 'val_T_output_mae': 0.22990999}\n",
      "Just finished epoch 10000\n",
      "{'loss': 0.36743614077568054, 'both_output_loss': 0.037291292, 'O2_output_loss': 0.0049658413, 'T_output_loss': 0.06628391, 'both_output_mae': 0.13931334, 'O2_output_mae': 0.054763954, 'T_output_mae': 0.21244901, 'val_loss': 0.37412509322166443, 'val_both_output_loss': 0.03798031, 'val_O2_output_loss': 0.005190842, 'val_T_output_loss': 0.06735536, 'val_both_output_mae': 0.14195722, 'val_O2_output_mae': 0.05695741, 'val_T_output_mae': 0.21600454}\n",
      "Just finished epoch 15000\n",
      "{'loss': 0.3615431487560272, 'both_output_loss': 0.035522774, 'O2_output_loss': 0.004960438, 'T_output_loss': 0.065216824, 'both_output_mae': 0.13408391, 'O2_output_mae': 0.05457435, 'T_output_mae': 0.21104541, 'val_loss': 0.36861303448677063, 'val_both_output_loss': 0.036241565, 'val_O2_output_loss': 0.005183061, 'val_T_output_loss': 0.06636505, 'val_both_output_mae': 0.13731444, 'val_O2_output_mae': 0.0567532, 'val_T_output_mae': 0.21457943}\n"
     ]
    }
   ],
   "source": [
    "H = model4.fit(data_train_red,\n",
    "        {\"both_output\": targets_train, \"O2_output\": targets_train_O2, \"T_output\": targets_train_T},\n",
    "        validation_data=(data_dev_red,\n",
    "            {\"both_output\": targets_dev, \"O2_output\": targets_dev_O2, \"T_output\": targets_dev_T}),\n",
    "        epochs=20000, batch_size = 4000,\n",
    "        verbose=0, callbacks = [CustomCallback()])"
   ]
  },
  {
   "cell_type": "code",
   "execution_count": 104,
   "metadata": {},
   "outputs": [],
   "source": [
    "model4.save(\"model_20000_4000_1e-3_3x50_2x5_2x5_theta_theta0_minus45.h5\")"
   ]
  },
  {
   "cell_type": "code",
   "execution_count": 105,
   "metadata": {
    "colab": {},
    "colab_type": "code",
    "id": "M-UMGLNJZvFi"
   },
   "outputs": [],
   "source": [
    "(O2T, O2, T) = model4.predict(data_dev_red)\n",
    "preds_exp_df = pd.DataFrame(O2T)\n",
    "preds_exp_df.columns = ['O2', 'T']\n",
    "preds_exp_o2_df = pd.DataFrame(O2[:,0])\n",
    "preds_exp_o2_df.columns = ['O2']\n",
    "\n",
    "preds_exp_T_df = pd.DataFrame(T[:,0])\n",
    "preds_exp_T_df.columns = ['T']"
   ]
  },
  {
   "cell_type": "code",
   "execution_count": 106,
   "metadata": {
    "colab": {},
    "colab_type": "code",
    "id": "TAQKhZDjZvFi"
   },
   "outputs": [],
   "source": [
    "targets_dev = targets_dev.reset_index(drop = True)\n",
    "preds_exp_o2_df = preds_exp_o2_df.reset_index(drop = True)\n",
    "preds_exp_T_df = preds_exp_T_df.reset_index(drop = True)"
   ]
  },
  {
   "cell_type": "code",
   "execution_count": 107,
   "metadata": {},
   "outputs": [],
   "source": [
    "MAE_boxplot_C, MAE_list_C, MAE_xticks_C = MAE_O2_list_generator(10.0, targets_dev, preds_exp_o2_df)\n",
    "MAET_boxplot_C_MTL, MAET_list_C_MTL, MAET_xticks_C_MTL = MAE_T_list_generator(targets_dev, preds_exp_T_df)\n",
    "MAET_boxplot_C_MTL_w0, MAET_list_C_MTL_w0, MAET_xticks_C_MTL_w0 = MAE_T_list_generator_w0(targets_dev, preds_exp_T_df)\n",
    "\n",
    "MAE_boxplot_C_flat = [item for sublist in MAE_boxplot_C for item in sublist]\n",
    "MAET_boxplot_C_MTL_flat = [item for sublist in MAET_boxplot_C_MTL for item in sublist]"
   ]
  },
  {
   "cell_type": "code",
   "execution_count": 108,
   "metadata": {},
   "outputs": [
    {
     "name": "stdout",
     "output_type": "stream",
     "text": [
      "5.554679946838945\n",
      "9.613256932443214\n"
     ]
    }
   ],
   "source": [
    "print(np.mean(MAE_boxplot_C_flat))\n",
    "print(np.mean(MAET_boxplot_C_MTL_flat))"
   ]
  },
  {
   "cell_type": "markdown",
   "metadata": {
    "colab_type": "text",
    "id": "-do_u4EDZvFh"
   },
   "source": [
    "## Fitting of the model - removing 7 frequency from left"
   ]
  },
  {
   "cell_type": "code",
   "execution_count": 119,
   "metadata": {},
   "outputs": [],
   "source": [
    "rem = 7\n",
    "data_train_red = np.zeros((data_train.shape[0], 50-rem))\n",
    "for i in range(data_train.shape[0]):\n",
    "    data_train_red[i] = np.array(data_train)[i][rem:]\n",
    "    \n",
    "data_dev_red = np.zeros((data_dev.shape[0], 50-rem))\n",
    "for i in range(data_dev.shape[0]):\n",
    "    data_dev_red[i] = np.array(data_dev)[i][rem:]"
   ]
  },
  {
   "cell_type": "code",
   "execution_count": 120,
   "metadata": {},
   "outputs": [],
   "source": [
    "model4 = get_compiled_model(50-rem)"
   ]
  },
  {
   "cell_type": "code",
   "execution_count": 121,
   "metadata": {
    "colab": {
     "base_uri": "https://localhost:8080/",
     "height": 1000
    },
    "colab_type": "code",
    "id": "5SOLycrnZvFh",
    "outputId": "395a8a6d-324e-4068-ab11-115d1dd7daeb"
   },
   "outputs": [
    {
     "name": "stdout",
     "output_type": "stream",
     "text": [
      "Just finished epoch 0\n",
      "{'loss': 1.1999057531356812, 'both_output_loss': 0.10107125, 'O2_output_loss': 0.08416575, 'T_output_loss': 0.14975113, 'both_output_mae': 0.26770222, 'O2_output_mae': 0.25030816, 'T_output_mae': 0.31744197, 'val_loss': 1.1608822345733643, 'val_both_output_loss': 0.10091255, 'val_O2_output_loss': 0.08201501, 'val_T_output_loss': 0.14410667, 'val_both_output_mae': 0.2676072, 'val_O2_output_mae': 0.24883059, 'val_T_output_mae': 0.30974993}\n",
      "Just finished epoch 5000\n",
      "{'loss': 0.03146260604262352, 'both_output_loss': 0.010257579, 'O2_output_loss': 0.00063437916, 'T_output_loss': 0.0050426875, 'both_output_mae': 0.06831045, 'O2_output_mae': 0.017696016, 'T_output_mae': 0.04924418, 'val_loss': 0.031423427164554596, 'val_both_output_loss': 0.01009516, 'val_O2_output_loss': 0.0006428183, 'val_T_output_loss': 0.0050361576, 'val_both_output_mae': 0.06838381, 'val_O2_output_mae': 0.017572302, 'val_T_output_mae': 0.048626475}\n",
      "Just finished epoch 10000\n",
      "{'loss': 0.014693617820739746, 'both_output_loss': 0.0045921924, 'O2_output_loss': 0.00024624297, 'T_output_loss': 0.002416949, 'both_output_mae': 0.046163835, 'O2_output_mae': 0.011087066, 'T_output_mae': 0.037780322, 'val_loss': 0.015079258941113949, 'val_both_output_loss': 0.0045818407, 'val_O2_output_loss': 0.00023725834, 'val_T_output_loss': 0.002503683, 'val_both_output_mae': 0.045676585, 'val_O2_output_mae': 0.010373567, 'val_T_output_mae': 0.038554758}\n",
      "Just finished epoch 15000\n",
      "{'loss': 0.009919095784425735, 'both_output_loss': 0.0027734688, 'O2_output_loss': 0.00013467918, 'T_output_loss': 0.0016827318, 'both_output_mae': 0.033677716, 'O2_output_mae': 0.0071690744, 'T_output_mae': 0.032041706, 'val_loss': 0.010449251160025597, 'val_both_output_loss': 0.0028299838, 'val_O2_output_loss': 0.0001249523, 'val_T_output_loss': 0.001795099, 'val_both_output_mae': 0.034289263, 'val_O2_output_mae': 0.0076124026, 'val_T_output_mae': 0.03403031}\n"
     ]
    }
   ],
   "source": [
    "H = model4.fit(data_train_red,\n",
    "        {\"both_output\": targets_train, \"O2_output\": targets_train_O2, \"T_output\": targets_train_T},\n",
    "        validation_data=(data_dev_red,\n",
    "            {\"both_output\": targets_dev, \"O2_output\": targets_dev_O2, \"T_output\": targets_dev_T}),\n",
    "        epochs=20000, batch_size = 4000,\n",
    "        verbose=0, callbacks = [CustomCallback()])"
   ]
  },
  {
   "cell_type": "code",
   "execution_count": 122,
   "metadata": {},
   "outputs": [],
   "source": [
    "model4.save(\"model_20000_4000_1e-3_3x50_2x5_2x5_theta_theta0_minus7.h5\")"
   ]
  },
  {
   "cell_type": "code",
   "execution_count": 123,
   "metadata": {
    "colab": {},
    "colab_type": "code",
    "id": "M-UMGLNJZvFi"
   },
   "outputs": [],
   "source": [
    "(O2T, O2, T) = model4.predict(data_dev_red)\n",
    "preds_exp_df = pd.DataFrame(O2T)\n",
    "preds_exp_df.columns = ['O2', 'T']\n",
    "preds_exp_o2_df = pd.DataFrame(O2[:,0])\n",
    "preds_exp_o2_df.columns = ['O2']\n",
    "\n",
    "preds_exp_T_df = pd.DataFrame(T[:,0])\n",
    "preds_exp_T_df.columns = ['T']"
   ]
  },
  {
   "cell_type": "code",
   "execution_count": 124,
   "metadata": {
    "colab": {},
    "colab_type": "code",
    "id": "TAQKhZDjZvFi"
   },
   "outputs": [],
   "source": [
    "targets_dev = targets_dev.reset_index(drop = True)\n",
    "preds_exp_o2_df = preds_exp_o2_df.reset_index(drop = True)\n",
    "preds_exp_T_df = preds_exp_T_df.reset_index(drop = True)"
   ]
  },
  {
   "cell_type": "code",
   "execution_count": 125,
   "metadata": {},
   "outputs": [],
   "source": [
    "MAE_boxplot_C, MAE_list_C, MAE_xticks_C = MAE_O2_list_generator(10.0, targets_dev, preds_exp_o2_df)\n",
    "MAET_boxplot_C_MTL, MAET_list_C_MTL, MAET_xticks_C_MTL = MAE_T_list_generator(targets_dev, preds_exp_T_df)\n",
    "MAET_boxplot_C_MTL_w0, MAET_list_C_MTL_w0, MAET_xticks_C_MTL_w0 = MAE_T_list_generator_w0(targets_dev, preds_exp_T_df)\n",
    "\n",
    "MAE_boxplot_C_flat = [item for sublist in MAE_boxplot_C for item in sublist]\n",
    "MAET_boxplot_C_MTL_flat = [item for sublist in MAET_boxplot_C_MTL for item in sublist]"
   ]
  },
  {
   "cell_type": "code",
   "execution_count": 126,
   "metadata": {},
   "outputs": [
    {
     "name": "stdout",
     "output_type": "stream",
     "text": [
      "0.4873437271385951\n",
      "1.387355142273009\n"
     ]
    }
   ],
   "source": [
    "print(np.mean(MAE_boxplot_C_flat))\n",
    "print(np.mean(MAET_boxplot_C_MTL_flat))"
   ]
  },
  {
   "cell_type": "markdown",
   "metadata": {
    "colab_type": "text",
    "id": "-do_u4EDZvFh"
   },
   "source": [
    "## Fitting of the model - removing 20 frequency from left"
   ]
  },
  {
   "cell_type": "code",
   "execution_count": 130,
   "metadata": {},
   "outputs": [],
   "source": [
    "rem = 20\n",
    "data_train_red = np.zeros((data_train.shape[0], 50-rem))\n",
    "for i in range(data_train.shape[0]):\n",
    "    data_train_red[i] = np.array(data_train)[i][rem:]\n",
    "    \n",
    "data_dev_red = np.zeros((data_dev.shape[0], 50-rem))\n",
    "for i in range(data_dev.shape[0]):\n",
    "    data_dev_red[i] = np.array(data_dev)[i][rem:]"
   ]
  },
  {
   "cell_type": "code",
   "execution_count": 131,
   "metadata": {},
   "outputs": [],
   "source": [
    "model4 = get_compiled_model(50-rem)"
   ]
  },
  {
   "cell_type": "code",
   "execution_count": 132,
   "metadata": {
    "colab": {
     "base_uri": "https://localhost:8080/",
     "height": 1000
    },
    "colab_type": "code",
    "id": "5SOLycrnZvFh",
    "outputId": "395a8a6d-324e-4068-ab11-115d1dd7daeb"
   },
   "outputs": [
    {
     "name": "stdout",
     "output_type": "stream",
     "text": [
      "Just finished epoch 0\n",
      "{'loss': 0.9498193264007568, 'both_output_loss': 0.14357921, 'O2_output_loss': 0.09743093, 'T_output_loss': 0.08391818, 'both_output_mae': 0.30960277, 'O2_output_mae': 0.26400504, 'T_output_mae': 0.25104806, 'val_loss': 0.9388054609298706, 'val_both_output_loss': 0.13730769, 'val_O2_output_loss': 0.09329406, 'val_T_output_loss': 0.08622858, 'val_both_output_mae': 0.30284214, 'val_O2_output_mae': 0.2601205, 'val_T_output_mae': 0.25572067}\n",
      "Just finished epoch 5000\n",
      "{'loss': 0.3707002103328705, 'both_output_loss': 0.038570594, 'O2_output_loss': 0.0042321105, 'T_output_loss': 0.067593694, 'both_output_mae': 0.14073172, 'O2_output_mae': 0.05134132, 'T_output_mae': 0.21608844, 'val_loss': 0.37725985050201416, 'val_both_output_loss': 0.039220687, 'val_O2_output_loss': 0.004412913, 'val_T_output_loss': 0.068685815, 'val_both_output_mae': 0.14320152, 'val_O2_output_mae': 0.05328043, 'val_T_output_mae': 0.22004335}\n",
      "Just finished epoch 10000\n",
      "{'loss': 0.09854865074157715, 'both_output_loss': 0.02580737, 'O2_output_loss': 0.00059359585, 'T_output_loss': 0.017567692, 'both_output_mae': 0.11588125, 'O2_output_mae': 0.01768345, 'T_output_mae': 0.09587923, 'val_loss': 0.09439001977443695, 'val_both_output_loss': 0.02587321, 'val_O2_output_loss': 0.0005890155, 'val_T_output_loss': 0.016736595, 'val_both_output_mae': 0.11631953, 'val_O2_output_mae': 0.018688517, 'val_T_output_mae': 0.096288584}\n",
      "Just finished epoch 15000\n",
      "{'loss': 0.06381356716156006, 'both_output_loss': 0.020687789, 'O2_output_loss': 0.0005144092, 'T_output_loss': 0.011007037, 'both_output_mae': 0.10247482, 'O2_output_mae': 0.016611101, 'T_output_mae': 0.073219016, 'val_loss': 0.05857858806848526, 'val_both_output_loss': 0.020561857, 'val_O2_output_loss': 0.0005021289, 'val_T_output_loss': 0.009979877, 'val_both_output_mae': 0.10235398, 'val_O2_output_mae': 0.018060276, 'val_T_output_mae': 0.07311331}\n"
     ]
    }
   ],
   "source": [
    "H = model4.fit(data_train_red,\n",
    "        {\"both_output\": targets_train, \"O2_output\": targets_train_O2, \"T_output\": targets_train_T},\n",
    "        validation_data=(data_dev_red,\n",
    "            {\"both_output\": targets_dev, \"O2_output\": targets_dev_O2, \"T_output\": targets_dev_T}),\n",
    "        epochs=20000, batch_size = 4000,\n",
    "        verbose=0, callbacks = [CustomCallback()])"
   ]
  },
  {
   "cell_type": "code",
   "execution_count": 133,
   "metadata": {},
   "outputs": [],
   "source": [
    "model4.save(\"model_20000_4000_1e-3_3x50_2x5_2x5_theta_theta0_minus20.h5\")"
   ]
  },
  {
   "cell_type": "code",
   "execution_count": 134,
   "metadata": {
    "colab": {},
    "colab_type": "code",
    "id": "M-UMGLNJZvFi"
   },
   "outputs": [],
   "source": [
    "(O2T, O2, T) = model4.predict(data_dev_red)\n",
    "preds_exp_df = pd.DataFrame(O2T)\n",
    "preds_exp_df.columns = ['O2', 'T']\n",
    "preds_exp_o2_df = pd.DataFrame(O2[:,0])\n",
    "preds_exp_o2_df.columns = ['O2']\n",
    "\n",
    "preds_exp_T_df = pd.DataFrame(T[:,0])\n",
    "preds_exp_T_df.columns = ['T']"
   ]
  },
  {
   "cell_type": "code",
   "execution_count": 135,
   "metadata": {
    "colab": {},
    "colab_type": "code",
    "id": "TAQKhZDjZvFi"
   },
   "outputs": [],
   "source": [
    "targets_dev = targets_dev.reset_index(drop = True)\n",
    "preds_exp_o2_df = preds_exp_o2_df.reset_index(drop = True)\n",
    "preds_exp_T_df = preds_exp_T_df.reset_index(drop = True)"
   ]
  },
  {
   "cell_type": "code",
   "execution_count": 136,
   "metadata": {},
   "outputs": [],
   "source": [
    "MAE_boxplot_C, MAE_list_C, MAE_xticks_C = MAE_O2_list_generator(10.0, targets_dev, preds_exp_o2_df)\n",
    "MAET_boxplot_C_MTL, MAET_list_C_MTL, MAET_xticks_C_MTL = MAE_T_list_generator(targets_dev, preds_exp_T_df)\n",
    "MAET_boxplot_C_MTL_w0, MAET_list_C_MTL_w0, MAET_xticks_C_MTL_w0 = MAE_T_list_generator_w0(targets_dev, preds_exp_T_df)\n",
    "\n",
    "MAE_boxplot_C_flat = [item for sublist in MAE_boxplot_C for item in sublist]\n",
    "MAET_boxplot_C_MTL_flat = [item for sublist in MAET_boxplot_C_MTL for item in sublist]"
   ]
  },
  {
   "cell_type": "code",
   "execution_count": 137,
   "metadata": {},
   "outputs": [
    {
     "name": "stdout",
     "output_type": "stream",
     "text": [
      "1.42281527687674\n",
      "2.969150837821265\n"
     ]
    }
   ],
   "source": [
    "print(np.mean(MAE_boxplot_C_flat))\n",
    "print(np.mean(MAET_boxplot_C_MTL_flat))"
   ]
  },
  {
   "cell_type": "markdown",
   "metadata": {
    "colab_type": "text",
    "id": "-do_u4EDZvFh"
   },
   "source": [
    "## Fitting of the model - removing 22 frequency from left"
   ]
  },
  {
   "cell_type": "code",
   "execution_count": 147,
   "metadata": {},
   "outputs": [],
   "source": [
    "rem = 22\n",
    "data_train_red = np.zeros((data_train.shape[0], 50-rem))\n",
    "for i in range(data_train.shape[0]):\n",
    "    data_train_red[i] = np.array(data_train)[i][rem:]\n",
    "    \n",
    "data_dev_red = np.zeros((data_dev.shape[0], 50-rem))\n",
    "for i in range(data_dev.shape[0]):\n",
    "    data_dev_red[i] = np.array(data_dev)[i][rem:]"
   ]
  },
  {
   "cell_type": "code",
   "execution_count": 148,
   "metadata": {},
   "outputs": [],
   "source": [
    "model4 = get_compiled_model(50-rem)"
   ]
  },
  {
   "cell_type": "code",
   "execution_count": 149,
   "metadata": {
    "colab": {
     "base_uri": "https://localhost:8080/",
     "height": 1000
    },
    "colab_type": "code",
    "id": "5SOLycrnZvFh",
    "outputId": "395a8a6d-324e-4068-ab11-115d1dd7daeb"
   },
   "outputs": [
    {
     "name": "stdout",
     "output_type": "stream",
     "text": [
      "Just finished epoch 0\n",
      "{'loss': 1.1150413751602173, 'both_output_loss': 0.08773716, 'O2_output_loss': 0.13552576, 'T_output_loss': 0.082218274, 'both_output_mae': 0.25439152, 'O2_output_mae': 0.30223185, 'T_output_mae': 0.24786676, 'val_loss': 1.1311790943145752, 'val_both_output_loss': 0.08693855, 'val_O2_output_loss': 0.13700956, 'val_T_output_loss': 0.084009945, 'val_both_output_mae': 0.25502098, 'val_O2_output_mae': 0.30242267, 'val_T_output_mae': 0.25237343}\n",
      "Just finished epoch 5000\n",
      "{'loss': 0.34646227955818176, 'both_output_loss': 0.03694178, 'O2_output_loss': 0.0043007056, 'T_output_loss': 0.06277524, 'both_output_mae': 0.13917848, 'O2_output_mae': 0.052285433, 'T_output_mae': 0.2117023, 'val_loss': 0.3389263153076172, 'val_both_output_loss': 0.037857316, 'val_O2_output_loss': 0.004418564, 'val_T_output_loss': 0.06109526, 'val_both_output_mae': 0.14192693, 'val_O2_output_mae': 0.053715315, 'val_T_output_mae': 0.2081979}\n",
      "Just finished epoch 10000\n",
      "{'loss': 0.11859593540430069, 'both_output_loss': 0.028054086, 'O2_output_loss': 0.0010995117, 'T_output_loss': 0.02093643, 'both_output_mae': 0.119216345, 'O2_output_mae': 0.026205124, 'T_output_mae': 0.111151695, 'val_loss': 0.11160679161548615, 'val_both_output_loss': 0.028596703, 'val_O2_output_loss': 0.0010955238, 'val_T_output_loss': 0.019510033, 'val_both_output_mae': 0.120756276, 'val_O2_output_mae': 0.024441995, 'val_T_output_mae': 0.10386932}\n",
      "Just finished epoch 15000\n",
      "{'loss': 0.09094960987567902, 'both_output_loss': 0.024056556, 'O2_output_loss': 0.0007947493, 'T_output_loss': 0.015951779, 'both_output_mae': 0.108600765, 'O2_output_mae': 0.022636045, 'T_output_mae': 0.09454667, 'val_loss': 0.08400201797485352, 'val_both_output_loss': 0.024388371, 'val_O2_output_loss': 0.0007919669, 'val_T_output_loss': 0.014545133, 'val_both_output_mae': 0.10950212, 'val_O2_output_mae': 0.021302223, 'val_T_output_mae': 0.0874227}\n"
     ]
    }
   ],
   "source": [
    "H = model4.fit(data_train_red,\n",
    "        {\"both_output\": targets_train, \"O2_output\": targets_train_O2, \"T_output\": targets_train_T},\n",
    "        validation_data=(data_dev_red,\n",
    "            {\"both_output\": targets_dev, \"O2_output\": targets_dev_O2, \"T_output\": targets_dev_T}),\n",
    "        epochs=20000, batch_size = 4000,\n",
    "        verbose=0, callbacks = [CustomCallback()])"
   ]
  },
  {
   "cell_type": "code",
   "execution_count": 150,
   "metadata": {},
   "outputs": [],
   "source": [
    "model4.save(\"model_20000_4000_1e-3_3x50_2x5_2x5_theta_theta0_minus22.h5\")"
   ]
  },
  {
   "cell_type": "code",
   "execution_count": 151,
   "metadata": {
    "colab": {},
    "colab_type": "code",
    "id": "M-UMGLNJZvFi"
   },
   "outputs": [],
   "source": [
    "(O2T, O2, T) = model4.predict(data_dev_red)\n",
    "preds_exp_df = pd.DataFrame(O2T)\n",
    "preds_exp_df.columns = ['O2', 'T']\n",
    "preds_exp_o2_df = pd.DataFrame(O2[:,0])\n",
    "preds_exp_o2_df.columns = ['O2']\n",
    "\n",
    "preds_exp_T_df = pd.DataFrame(T[:,0])\n",
    "preds_exp_T_df.columns = ['T']"
   ]
  },
  {
   "cell_type": "code",
   "execution_count": 152,
   "metadata": {
    "colab": {},
    "colab_type": "code",
    "id": "TAQKhZDjZvFi"
   },
   "outputs": [],
   "source": [
    "targets_dev = targets_dev.reset_index(drop = True)\n",
    "preds_exp_o2_df = preds_exp_o2_df.reset_index(drop = True)\n",
    "preds_exp_T_df = preds_exp_T_df.reset_index(drop = True)"
   ]
  },
  {
   "cell_type": "code",
   "execution_count": 153,
   "metadata": {},
   "outputs": [],
   "source": [
    "MAE_boxplot_C, MAE_list_C, MAE_xticks_C = MAE_O2_list_generator(10.0, targets_dev, preds_exp_o2_df)\n",
    "MAET_boxplot_C_MTL, MAET_list_C_MTL, MAET_xticks_C_MTL = MAE_T_list_generator(targets_dev, preds_exp_T_df)\n",
    "MAET_boxplot_C_MTL_w0, MAET_list_C_MTL_w0, MAET_xticks_C_MTL_w0 = MAE_T_list_generator_w0(targets_dev, preds_exp_T_df)\n",
    "\n",
    "MAE_boxplot_C_flat = [item for sublist in MAE_boxplot_C for item in sublist]\n",
    "MAET_boxplot_C_MTL_flat = [item for sublist in MAET_boxplot_C_MTL for item in sublist]"
   ]
  },
  {
   "cell_type": "code",
   "execution_count": 154,
   "metadata": {},
   "outputs": [
    {
     "name": "stdout",
     "output_type": "stream",
     "text": [
      "2.07082756533139\n",
      "3.8644917716996536\n"
     ]
    }
   ],
   "source": [
    "print(np.mean(MAE_boxplot_C_flat))\n",
    "print(np.mean(MAET_boxplot_C_MTL_flat))"
   ]
  },
  {
   "cell_type": "markdown",
   "metadata": {
    "colab_type": "text",
    "id": "-do_u4EDZvFh"
   },
   "source": [
    "## Fitting of the model - removing 23 frequency from left"
   ]
  },
  {
   "cell_type": "code",
   "execution_count": 160,
   "metadata": {},
   "outputs": [],
   "source": [
    "rem = 23\n",
    "data_train_red = np.zeros((data_train.shape[0], 50-rem))\n",
    "for i in range(data_train.shape[0]):\n",
    "    data_train_red[i] = np.array(data_train)[i][rem:]\n",
    "    \n",
    "data_dev_red = np.zeros((data_dev.shape[0], 50-rem))\n",
    "for i in range(data_dev.shape[0]):\n",
    "    data_dev_red[i] = np.array(data_dev)[i][rem:]"
   ]
  },
  {
   "cell_type": "code",
   "execution_count": 161,
   "metadata": {},
   "outputs": [],
   "source": [
    "model4 = get_compiled_model(50-rem)"
   ]
  },
  {
   "cell_type": "code",
   "execution_count": 162,
   "metadata": {
    "colab": {
     "base_uri": "https://localhost:8080/",
     "height": 1000
    },
    "colab_type": "code",
    "id": "5SOLycrnZvFh",
    "outputId": "395a8a6d-324e-4068-ab11-115d1dd7daeb"
   },
   "outputs": [
    {
     "name": "stdout",
     "output_type": "stream",
     "text": [
      "Just finished epoch 0\n",
      "{'loss': 1.2804274559020996, 'both_output_loss': 0.1071552, 'O2_output_loss': 0.13111341, 'T_output_loss': 0.11854277, 'both_output_mae': 0.27465072, 'O2_output_mae': 0.29781044, 'T_output_mae': 0.28518, 'val_loss': 1.2719433307647705, 'val_both_output_loss': 0.10398227, 'val_O2_output_loss': 0.124708876, 'val_T_output_loss': 0.12344085, 'val_both_output_mae': 0.26960766, 'val_O2_output_mae': 0.29098287, 'val_T_output_mae': 0.2919136}\n",
      "Just finished epoch 5000\n",
      "{'loss': 0.32514169812202454, 'both_output_loss': 0.036188014, 'O2_output_loss': 0.003907125, 'T_output_loss': 0.058949932, 'both_output_mae': 0.13678376, 'O2_output_mae': 0.050161604, 'T_output_mae': 0.20306854, 'val_loss': 0.3263731598854065, 'val_both_output_loss': 0.036759607, 'val_O2_output_loss': 0.004018067, 'val_T_output_loss': 0.05905099, 'val_both_output_mae': 0.13908623, 'val_O2_output_mae': 0.051495727, 'val_T_output_mae': 0.20547697}\n",
      "Just finished epoch 10000\n",
      "{'loss': 0.09735587984323502, 'both_output_loss': 0.024695503, 'O2_output_loss': 0.0010258119, 'T_output_loss': 0.016963635, 'both_output_mae': 0.109749794, 'O2_output_mae': 0.0245991, 'T_output_mae': 0.0971761, 'val_loss': 0.09285792708396912, 'val_both_output_loss': 0.024893327, 'val_O2_output_loss': 0.0010337979, 'val_T_output_loss': 0.016044188, 'val_both_output_mae': 0.11109962, 'val_O2_output_mae': 0.024726778, 'val_T_output_mae': 0.0911749}\n",
      "Just finished epoch 15000\n",
      "{'loss': 0.07391627877950668, 'both_output_loss': 0.020355314, 'O2_output_loss': 0.000849196, 'T_output_loss': 0.012712741, 'both_output_mae': 0.09810899, 'O2_output_mae': 0.023197157, 'T_output_mae': 0.08211687, 'val_loss': 0.07014444470405579, 'val_both_output_loss': 0.020359293, 'val_O2_output_loss': 0.0008574289, 'val_T_output_loss': 0.011949902, 'val_both_output_mae': 0.09834235, 'val_O2_output_mae': 0.022463402, 'val_T_output_mae': 0.07575887}\n"
     ]
    }
   ],
   "source": [
    "H = model4.fit(data_train_red,\n",
    "        {\"both_output\": targets_train, \"O2_output\": targets_train_O2, \"T_output\": targets_train_T},\n",
    "        validation_data=(data_dev_red,\n",
    "            {\"both_output\": targets_dev, \"O2_output\": targets_dev_O2, \"T_output\": targets_dev_T}),\n",
    "        epochs=20000, batch_size = 4000,\n",
    "        verbose=0, callbacks = [CustomCallback()])"
   ]
  },
  {
   "cell_type": "code",
   "execution_count": 163,
   "metadata": {},
   "outputs": [],
   "source": [
    "model4.save(\"model_20000_4000_1e-3_3x50_2x5_2x5_theta_theta0_minus23.h5\")"
   ]
  },
  {
   "cell_type": "code",
   "execution_count": 164,
   "metadata": {
    "colab": {},
    "colab_type": "code",
    "id": "M-UMGLNJZvFi"
   },
   "outputs": [],
   "source": [
    "(O2T, O2, T) = model4.predict(data_dev_red)\n",
    "preds_exp_df = pd.DataFrame(O2T)\n",
    "preds_exp_df.columns = ['O2', 'T']\n",
    "preds_exp_o2_df = pd.DataFrame(O2[:,0])\n",
    "preds_exp_o2_df.columns = ['O2']\n",
    "\n",
    "preds_exp_T_df = pd.DataFrame(T[:,0])\n",
    "preds_exp_T_df.columns = ['T']"
   ]
  },
  {
   "cell_type": "code",
   "execution_count": 165,
   "metadata": {
    "colab": {},
    "colab_type": "code",
    "id": "TAQKhZDjZvFi"
   },
   "outputs": [],
   "source": [
    "targets_dev = targets_dev.reset_index(drop = True)\n",
    "preds_exp_o2_df = preds_exp_o2_df.reset_index(drop = True)\n",
    "preds_exp_T_df = preds_exp_T_df.reset_index(drop = True)"
   ]
  },
  {
   "cell_type": "code",
   "execution_count": 166,
   "metadata": {},
   "outputs": [],
   "source": [
    "MAE_boxplot_C, MAE_list_C, MAE_xticks_C = MAE_O2_list_generator(10.0, targets_dev, preds_exp_o2_df)\n",
    "MAET_boxplot_C_MTL, MAET_list_C_MTL, MAET_xticks_C_MTL = MAE_T_list_generator(targets_dev, preds_exp_T_df)\n",
    "MAET_boxplot_C_MTL_w0, MAET_list_C_MTL_w0, MAET_xticks_C_MTL_w0 = MAE_T_list_generator_w0(targets_dev, preds_exp_T_df)\n",
    "\n",
    "MAE_boxplot_C_flat = [item for sublist in MAE_boxplot_C for item in sublist]\n",
    "MAET_boxplot_C_MTL_flat = [item for sublist in MAET_boxplot_C_MTL for item in sublist]"
   ]
  },
  {
   "cell_type": "code",
   "execution_count": 167,
   "metadata": {},
   "outputs": [
    {
     "name": "stdout",
     "output_type": "stream",
     "text": [
      "2.1271948862982835\n",
      "3.3168328680201538\n"
     ]
    }
   ],
   "source": [
    "print(np.mean(MAE_boxplot_C_flat))\n",
    "print(np.mean(MAET_boxplot_C_MTL_flat))"
   ]
  },
  {
   "cell_type": "markdown",
   "metadata": {},
   "source": [
    "# Random Predictions"
   ]
  },
  {
   "cell_type": "code",
   "execution_count": 114,
   "metadata": {},
   "outputs": [
    {
     "data": {
      "text/plain": [
       "(720,)"
      ]
     },
     "execution_count": 114,
     "metadata": {},
     "output_type": "execute_result"
    }
   ],
   "source": [
    "targets_dev['O2'].shape"
   ]
  },
  {
   "cell_type": "code",
   "execution_count": 116,
   "metadata": {},
   "outputs": [
    {
     "data": {
      "text/plain": [
       "32.77137858311004"
      ]
     },
     "execution_count": 116,
     "metadata": {},
     "output_type": "execute_result"
    }
   ],
   "source": [
    "random_predictions = np.random.random(targets_dev['O2'].shape[0])\n",
    "np.mean(np.abs(random_predictions - targets_dev['O2']))*100"
   ]
  },
  {
   "cell_type": "code",
   "execution_count": 143,
   "metadata": {},
   "outputs": [
    {
     "data": {
      "image/png": "[encoded data removed]",
      "text/plain": [
       "<Figure size 432x288 with 1 Axes>"
      ]
     },
     "metadata": {
      "needs_background": "light"
     },
     "output_type": "display_data"
    }
   ],
   "source": [
    "sns.distplot(np.abs(random_predictions - targets_dev['O2'])*100, color = 'gray', hist = True, label = 'AE$_{[O_2]}$ KDE',rug_kws={\"color\": \"gray\"},\n",
    "                  kde_kws={\"color\": \"k\", \"lw\": 3, \"label\": \"KDE\"},\n",
    "                   hist_kws={\"histtype\": \"bar\", \"linewidth\": 0,\n",
    "                             \"alpha\": 1, \"color\": \"gray\"})\n",
    "plt.xlim(0, 100)\n",
    "plt.show()"
   ]
  },
  {
   "cell_type": "markdown",
   "metadata": {},
   "source": [
    "# Result plots vs. number of removed frequency points"
   ]
  },
  {
   "cell_type": "code",
   "execution_count": 188,
   "metadata": {},
   "outputs": [],
   "source": [
    "MAEO2 = [0.28, 0.48 ,0.47, 1.12, 1.42, 2.07  ,4.9,4.7,5.5]\n",
    "x = [5,7, 10,15,20,22, 25,35,45]"
   ]
  },
  {
   "cell_type": "code",
   "execution_count": 194,
   "metadata": {},
   "outputs": [
    {
     "data": {
      "image/png": "[encoded data removed]",
      "text/plain": [
       "<Figure size 432x288 with 1 Axes>"
      ]
     },
     "metadata": {
      "needs_background": "light"
     },
     "output_type": "display_data"
    }
   ],
   "source": [
    "wremoved = [wred[i] for i in x]\n",
    "fig = plt.Figure()\n",
    "\n",
    "plt.plot(wremoved, MAEO2, marker = 'o', color = 'black', ls = '-')\n",
    "plt.tick_params(labelsize=16)\n",
    "plt.xlabel('Frequency (Hz)', fontsize = 16)\n",
    "plt.ylabel(r'MAE$_{[O_2]}$', fontsize = 16)\n",
    "plt.xlim(0,None)\n",
    "plt.show()\n",
    "fig.savefig('../paper/Frequency_points_removal.svg', format='svg', dpi=300,bbox_inches='tight')\n",
    "fig.savefig('../paper/Frequency_points_removal.eps', format='eps', dpi=300,bbox_inches='tight')\n"
   ]
  },
  {
   "cell_type": "code",
   "execution_count": 183,
   "metadata": {},
   "outputs": [
    {
     "data": {
      "text/plain": [
       "[200.0,\n",
       " 300.0,\n",
       " 400.0,\n",
       " 500.0,\n",
       " 600.0,\n",
       " 700.0,\n",
       " 800.0,\n",
       " 900.0,\n",
       " 1000.0,\n",
       " 1250.0,\n",
       " 1500.0,\n",
       " 1750.0,\n",
       " 2000.0,\n",
       " 2250.0,\n",
       " 2500.0,\n",
       " 2750.0,\n",
       " 3000.0,\n",
       " 3250.0,\n",
       " 3500.0,\n",
       " 3750.0,\n",
       " 4000.0,\n",
       " 4250.0,\n",
       " 4500.0,\n",
       " 4750.0,\n",
       " 5000.0,\n",
       " 5250.0,\n",
       " 5500.0,\n",
       " 5750.0,\n",
       " 6000.0,\n",
       " 6250.0,\n",
       " 6500.0,\n",
       " 6750.0,\n",
       " 7000.0,\n",
       " 7250.0,\n",
       " 7500.0,\n",
       " 7750.0,\n",
       " 8000.0,\n",
       " 8250.0,\n",
       " 8500.0,\n",
       " 8750.0,\n",
       " 9000.0,\n",
       " 9250.0,\n",
       " 9500.0,\n",
       " 9750.0,\n",
       " 10000.0,\n",
       " 11000.0,\n",
       " 12000.0,\n",
       " 13000.0,\n",
       " 14000.0,\n",
       " 15000.0]"
      ]
     },
     "execution_count": 183,
     "metadata": {},
     "output_type": "execute_result"
    }
   ],
   "source": [
    "wred"
   ]
  },
  {
   "cell_type": "markdown",
   "metadata": {},
   "source": [
    "# KDE Plots"
   ]
  },
  {
   "cell_type": "code",
   "execution_count": 185,
   "metadata": {},
   "outputs": [
    {
     "data": {
      "text/plain": [
       "<Figure size 432x288 with 0 Axes>"
      ]
     },
     "metadata": {},
     "output_type": "display_data"
    },
    {
     "data": {
      "image/png": "[encoded data removed]",
      "text/plain": [
       "<Figure size 1152x360 with 2 Axes>"
      ]
     },
     "metadata": {
      "needs_background": "light"
     },
     "output_type": "display_data"
    }
   ],
   "source": [
    "\n",
    "    \n",
    "plt.tight_layout()\n",
    "\n",
    "fig = plt.figure(figsize=(16, 5))\n",
    "\n",
    "\n",
    "\n",
    "ax = fig.add_subplot(1, 2, 1)\n",
    "\n",
    "\n",
    "sns.distplot(MAE_boxplot_C_flat_3, color = 'gray', hist = True, label = 'AE$_{[O_2]}$ KDE',rug_kws={\"color\": \"gray\"},\n",
    "                  kde_kws={\"color\": \"k\", \"lw\": 3, \"label\": \"KDE\"},\n",
    "                   hist_kws={\"histtype\": \"bar\", \"linewidth\": 0,\n",
    "                             \"alpha\": 1, \"color\": \"gray\"})\n",
    "\n",
    "\n",
    "custom_lines = [Patch(facecolor='gray', edgecolor='gray',\n",
    "                         label='$AE_T$ KDE'),\n",
    "                Line2D([0], [0], color='blue', lw=2),\n",
    "                Line2D([0], [0], color='black', lw=2)\n",
    "                ]\n",
    "\n",
    "ax.legend(custom_lines, ['AE$_{[O_2]}$ histogram', 'MAE$_{[O_2]}$', 'AE$_{[O_2]}$ KDE'], fontsize = 16)\n",
    "\n",
    "#plt.xticks(range(1,len(neta50_O2['MAE_xticks'])+1), neta50_O2['MAE_xticks'], size='small', rotation = 'vertical')\n",
    "\n",
    "#plt.grid()\n",
    "\n",
    "plt.ylabel('Counts (normalized)', fontsize = 16)\n",
    "plt.xlabel('AE$_{[O_2]}$ (% air)', fontsize = 16)\n",
    "plt.tick_params(labelsize=16)\n",
    "plt.ylim(0, 5)\n",
    "plt.xlim(0, 5)\n",
    "\n",
    "m_ = np.mean(MAE_boxplot_C_flat_3)\n",
    "\n",
    "plt.plot([m_, m_], [0, 1.7], lw = 2, color = 'blue')\n",
    "\n",
    "\n",
    "ax = fig.add_subplot(1, 2,2)\n",
    "# MAE_boxplot_C, MAE_list_C, MAE_xticks_C\n",
    "sns.distplot(MAET_boxplot_C_MTL_flat_3,   hist = True, label = '$AE_T$ KDE',rug_kws={\"color\": \"gray\"},\n",
    "                  kde_kws={\"color\": \"k\", \"lw\": 3, \"label\": \"KDE\"},\n",
    "                   hist_kws={\"histtype\": \"bar\", \"linewidth\": 0,\n",
    "                             \"alpha\": 1, \"color\": \"lightgray\"})\n",
    "    \n",
    "#plt.ylim(-0.2, 2.9)\n",
    "    \n",
    "#ax.text(1, 1.5, 'Value for $[O_2] = 100$ % Air', fontsize = 18)\n",
    "\n",
    "plt.xlabel('$AE_T$ ($^\\circ$C)', fontsize = 16)\n",
    "plt.tick_params(labelsize=16)\n",
    "\n",
    "custom_lines = [Patch(facecolor='lightgray', edgecolor='gray',\n",
    "                         label='$AE_T$ KDE'),\n",
    "                Line2D([0], [0], color='blue', lw=2),\n",
    "                Line2D([0], [0], color='black', lw=2)\n",
    "                ]\n",
    "\n",
    "ax.legend(custom_lines, ['$AE_T$ histogram', 'MAE$_T$', '$AE_T$ KDE'], fontsize = 16)\n",
    "#ax.legend( fontsize = 16)\n",
    "plt.ylim(0, 5.0)\n",
    "plt.xlim(0, 4)\n",
    "\n",
    "m_ = np.mean(MAET_boxplot_C_MTL_flat_3)\n",
    "\n",
    "plt.plot([m_, m_], [0, 1.4], lw = 2, color = 'blue')\n",
    "\n",
    "\n",
    "plt.show()\n",
    "\n",
    "#fig.savefig('/content/gdrive/My Drive/plot3.eps', format='eps', dpi=300,bbox_inches='tight')\n",
    "\n",
    "\n",
    "\n",
    "#fig.savefig('../paper/model_20001_32_1e-3_4x50_3x15_3x15_theta90.eps', format='eps', dpi=300,bbox_inches='tight')"
   ]
  },
  {
   "cell_type": "markdown",
   "metadata": {
    "colab_type": "text",
    "id": "m7C-IbK3ZvFw"
   },
   "source": [
    "# VERSIONS"
   ]
  },
  {
   "cell_type": "code",
   "execution_count": 83,
   "metadata": {
    "colab": {
     "base_uri": "https://localhost:8080/",
     "height": 53
    },
    "colab_type": "code",
    "id": "WrPML1U5ZvFx",
    "outputId": "d0049d44-9ee6-408e-9dae-4da7a635d6f6"
   },
   "outputs": [
    {
     "name": "stdout",
     "output_type": "stream",
     "text": [
      "2.1.0-rc1\n",
      "2.2.4-tf\n"
     ]
    }
   ],
   "source": [
    "#import tensorflow as tf\n",
    "#from tensorflow.keras import layers\n",
    "\n",
    "print(tf.__version__)\n",
    "print(tf.keras.__version__)"
   ]
  }
 ],
 "metadata": {
  "accelerator": "GPU",
  "colab": {
   "collapsed_sections": [],
   "include_colab_link": true,
   "name": "O2 prediction model - Network C v2 O2T Paper.ipynb",
   "provenance": []
  },
  "kernelspec": {
   "display_name": "Python 3",
   "language": "python",
   "name": "python3"
  },
  "language_info": {
   "codemirror_mode": {
    "name": "ipython",
    "version": 3
   },
   "file_extension": ".py",
   "mimetype": "text/x-python",
   "name": "python",
   "nbconvert_exporter": "python",
   "pygments_lexer": "ipython3",
   "version": "3.7.2"
  }
 },
 "nbformat": 4,
 "nbformat_minor": 2
}
