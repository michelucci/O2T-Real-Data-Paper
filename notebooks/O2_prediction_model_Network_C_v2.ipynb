{
  "nbformat": 4,
  "nbformat_minor": 0,
  "metadata": {
    "kernelspec": {
      "name": "python3",
      "display_name": "Python 3"
    },
    "language_info": {
      "codemirror_mode": {
        "name": "ipython",
        "version": 3
      },
      "file_extension": ".py",
      "mimetype": "text/x-python",
      "name": "python",
      "nbconvert_exporter": "python",
      "pygments_lexer": "ipython3",
      "version": "3.7.2"
    },
    "colab": {
      "name": "O2 prediction model - Network C v2.ipynb",
      "version": "0.3.2",
      "provenance": [],
      "collapsed_sections": [],
      "include_colab_link": true
    },
    "accelerator": "GPU"
  },
  "cells": [
    {
      "cell_type": "markdown",
      "metadata": {
        "id": "view-in-github",
        "colab_type": "text"
      },
      "source": [
        "<a href=\"https://colab.research.google.com/github/michelucci/MTL-OT-syntethic/blob/master/code/O2_prediction_model_Network_C_v2.ipynb\" target=\"_parent\"><img src=\"https://colab.research.google.com/assets/colab-badge.svg\" alt=\"Open In Colab\"/></a>"
      ]
    },
    {
      "cell_type": "markdown",
      "metadata": {
        "id": "czCW0XAgZvEm",
        "colab_type": "text"
      },
      "source": [
        "# Code related to the paper on the prediction of $[O2]$ and $T$ at the same time with MTL - Network C"
      ]
    },
    {
      "cell_type": "code",
      "metadata": {
        "id": "2Tp3iYK_ZvEo",
        "colab_type": "code",
        "outputId": "95eed1e3-46f3-48fd-9ce8-a57a24b48ec4",
        "colab": {
          "base_uri": "https://localhost:8080/",
          "height": 34
        }
      },
      "source": [
        "import numpy as np\n",
        "import pandas as pd\n",
        "\n",
        "import matplotlib.pyplot as plt\n",
        "\n",
        "import tensorflow as tf\n",
        "\n",
        "# Keras\n",
        "\n",
        "from tensorflow.keras.models import Sequential\n",
        "\n",
        "#from tensorflow.keras.layers import Activation\n",
        "from tensorflow.keras.optimizers import SGD\n",
        "from tensorflow.keras.optimizers import Adam\n",
        "from tensorflow.keras.layers import Dense\n",
        "from tensorflow.keras import Model\n",
        "\n",
        "from tensorflow.keras import layers\n",
        "import tensorflow.keras as keras\n",
        "\n",
        "from keras.utils.vis_utils import plot_model\n",
        "\n",
        "import tensorflow.keras.backend as K\n",
        "\n",
        "from numpy import random\n",
        "\n",
        "from scipy.interpolate import interp1d\n",
        "\n",
        "from matplotlib.lines import Line2D\n",
        "\n",
        "import seaborn as sns"
      ],
      "execution_count": 1,
      "outputs": [
        {
          "output_type": "stream",
          "text": [
            "Using TensorFlow backend.\n"
          ],
          "name": "stderr"
        }
      ]
    },
    {
      "cell_type": "markdown",
      "metadata": {
        "id": "gr8mzs4gZvEv",
        "colab_type": "text"
      },
      "source": [
        "# Read the files"
      ]
    },
    {
      "cell_type": "code",
      "metadata": {
        "id": "ktBIU99yaC9x",
        "colab_type": "code",
        "outputId": "0daa62cf-a46d-4a96-b741-387ffd500623",
        "colab": {
          "base_uri": "https://localhost:8080/",
          "height": 174
        }
      },
      "source": [
        "from google.colab import drive\n",
        "drive.mount('/content/gdrive')"
      ],
      "execution_count": 3,
      "outputs": [
        {
          "output_type": "stream",
          "text": [
            "Go to this URL in a browser: https://accounts.google.com/o/oauth2/auth?client_id=947318989803-6bn6qk8qdgf4n4g3pfee6491hc0brc4i.apps.googleusercontent.com&redirect_uri=urn%3Aietf%3Awg%3Aoauth%3A2.0%3Aoob&scope=email%20https%3A%2F%2Fwww.googleapis.com%2Fauth%2Fdocs.test%20https%3A%2F%2Fwww.googleapis.com%2Fauth%2Fdrive%20https%3A%2F%2Fwww.googleapis.com%2Fauth%2Fdrive.photos.readonly%20https%3A%2F%2Fwww.googleapis.com%2Fauth%2Fpeopleapi.readonly&response_type=code\n",
            "\n",
            "Enter your authorization code:\n",
            "··········\n",
            "Mounted at /content/gdrive\n"
          ],
          "name": "stdout"
        }
      ]
    },
    {
      "cell_type": "code",
      "metadata": {
        "id": "585dLmzDZvEw",
        "colab_type": "code",
        "colab": {}
      },
      "source": [
        "file5 = pd.read_csv('/content/gdrive/My Drive/data/syntetic_data_5.csv')\n",
        "file15 = pd.read_csv('/content/gdrive/My Drive/data/syntetic_data_15.csv')\n",
        "file25 = pd.read_csv('/content/gdrive/My Drive/data/syntetic_data_25.csv')\n",
        "file35 = pd.read_csv('/content/gdrive/My Drive/data/syntetic_data_35.csv')\n",
        "file45 = pd.read_csv('/content/gdrive/My Drive/data/syntetic_data_45.csv')"
      ],
      "execution_count": 0,
      "outputs": []
    },
    {
      "cell_type": "code",
      "metadata": {
        "id": "nQhfDxlDZvE0",
        "colab_type": "code",
        "colab": {}
      },
      "source": [
        "df = pd.concat([file5, file15, file25, file35, file45])"
      ],
      "execution_count": 0,
      "outputs": []
    },
    {
      "cell_type": "code",
      "metadata": {
        "id": "5_8nAYJFZvE2",
        "colab_type": "code",
        "outputId": "dc046315-905f-4f85-9903-f5f80cc2da18",
        "colab": {
          "base_uri": "https://localhost:8080/",
          "height": 119
        }
      },
      "source": [
        "target_df = df[['O2', 'T']]\n",
        "target_df[['O2']] = target_df[['O2']]/110.0\n",
        "target_df[['T']] = target_df[['T']]/45.0"
      ],
      "execution_count": 6,
      "outputs": [
        {
          "output_type": "stream",
          "text": [
            "/usr/local/lib/python3.6/dist-packages/pandas/core/frame.py:3391: SettingWithCopyWarning: \n",
            "A value is trying to be set on a copy of a slice from a DataFrame.\n",
            "Try using .loc[row_indexer,col_indexer] = value instead\n",
            "\n",
            "See the caveats in the documentation: http://pandas.pydata.org/pandas-docs/stable/indexing.html#indexing-view-versus-copy\n",
            "  self[k1] = value[k2]\n"
          ],
          "name": "stderr"
        }
      ]
    },
    {
      "cell_type": "code",
      "metadata": {
        "id": "wC3nQ8CYZvE5",
        "colab_type": "code",
        "colab": {}
      },
      "source": [
        "data_df = df.drop(['O2', 'T'], axis = 1)"
      ],
      "execution_count": 0,
      "outputs": []
    },
    {
      "cell_type": "markdown",
      "metadata": {
        "id": "dHMEf3fIZvE7",
        "colab_type": "text"
      },
      "source": [
        "Note that the values for $T$ are going from 0 to 1. To obtin the actual temperature in Celsius degrees, you need to multiply by $45$."
      ]
    },
    {
      "cell_type": "code",
      "metadata": {
        "id": "6lGCP7m5ZvE7",
        "colab_type": "code",
        "outputId": "d9c80eb9-f40e-4b21-b882-6bb88bf5bf8c",
        "colab": {
          "base_uri": "https://localhost:8080/",
          "height": 51
        }
      },
      "source": [
        "print(target_df['T'].unique())\n",
        "print(target_df['T'].unique()*45)"
      ],
      "execution_count": 8,
      "outputs": [
        {
          "output_type": "stream",
          "text": [
            "[0.11111111 0.33333333 0.55555556 0.77777778 1.        ]\n",
            "[ 5. 15. 25. 35. 45.]\n"
          ],
          "name": "stdout"
        }
      ]
    },
    {
      "cell_type": "markdown",
      "metadata": {
        "id": "ZcPxObX6ZvE9",
        "colab_type": "text"
      },
      "source": [
        "## Dimensions"
      ]
    },
    {
      "cell_type": "markdown",
      "metadata": {
        "id": "W5aNFdvBZvE-",
        "colab_type": "text"
      },
      "source": [
        "We have 25'000 observations."
      ]
    },
    {
      "cell_type": "code",
      "metadata": {
        "id": "iq3EzwubZvE-",
        "colab_type": "code",
        "outputId": "a87b7dc3-3264-4566-c4ae-1faf5c85d4bc",
        "colab": {
          "base_uri": "https://localhost:8080/",
          "height": 34
        }
      },
      "source": [
        "data_df.shape"
      ],
      "execution_count": 9,
      "outputs": [
        {
          "output_type": "execute_result",
          "data": {
            "text/plain": [
              "(25000, 16)"
            ]
          },
          "metadata": {
            "tags": []
          },
          "execution_count": 9
        }
      ]
    },
    {
      "cell_type": "code",
      "metadata": {
        "id": "IUFWUzGhZvFA",
        "colab_type": "code",
        "outputId": "c69ce3c7-be76-465e-e7d0-403d0b128140",
        "colab": {
          "base_uri": "https://localhost:8080/",
          "height": 34
        }
      },
      "source": [
        "target_df.shape"
      ],
      "execution_count": 10,
      "outputs": [
        {
          "output_type": "execute_result",
          "data": {
            "text/plain": [
              "(25000, 2)"
            ]
          },
          "metadata": {
            "tags": []
          },
          "execution_count": 10
        }
      ]
    },
    {
      "cell_type": "code",
      "metadata": {
        "id": "DrV36zyBZvFB",
        "colab_type": "code",
        "outputId": "f45cc9e3-24fa-48c3-d936-4b67671a48da",
        "colab": {
          "base_uri": "https://localhost:8080/",
          "height": 34
        }
      },
      "source": [
        "target_df[target_df['T'] == 5./45.].shape"
      ],
      "execution_count": 11,
      "outputs": [
        {
          "output_type": "execute_result",
          "data": {
            "text/plain": [
              "(5000, 2)"
            ]
          },
          "metadata": {
            "tags": []
          },
          "execution_count": 11
        }
      ]
    },
    {
      "cell_type": "markdown",
      "metadata": {
        "id": "MBa0TH6rZvFD",
        "colab_type": "text"
      },
      "source": [
        "To check how many values we have for each temperature we can do easily with ```groupby()```."
      ]
    },
    {
      "cell_type": "code",
      "metadata": {
        "id": "kkXJq1UDZvFD",
        "colab_type": "code",
        "outputId": "abfec91a-bb9f-4f7b-a80f-ed06eef73f32",
        "colab": {
          "base_uri": "https://localhost:8080/",
          "height": 136
        }
      },
      "source": [
        "target_df.groupby('T')['O2'].nunique()"
      ],
      "execution_count": 12,
      "outputs": [
        {
          "output_type": "execute_result",
          "data": {
            "text/plain": [
              "T\n",
              "0.111111    5000\n",
              "0.333333    5000\n",
              "0.555556    5000\n",
              "0.777778    5000\n",
              "1.000000    5000\n",
              "Name: O2, dtype: int64"
            ]
          },
          "metadata": {
            "tags": []
          },
          "execution_count": 12
        }
      ]
    },
    {
      "cell_type": "markdown",
      "metadata": {
        "id": "6oK-zfT_ZvFF",
        "colab_type": "text"
      },
      "source": [
        "Each of the temperature has 5000 observations."
      ]
    },
    {
      "cell_type": "markdown",
      "metadata": {
        "id": "fSqYdC5uZvFF",
        "colab_type": "text"
      },
      "source": [
        "## Reset the index"
      ]
    },
    {
      "cell_type": "code",
      "metadata": {
        "id": "30duZuryZvFF",
        "colab_type": "code",
        "colab": {}
      },
      "source": [
        "data_df = data_df.reset_index(drop = True);\n",
        "target_df = target_df.reset_index(drop = True);"
      ],
      "execution_count": 0,
      "outputs": []
    },
    {
      "cell_type": "markdown",
      "metadata": {
        "id": "w72f8KBRZvFG",
        "colab_type": "text"
      },
      "source": [
        "The unique values of the temperature ($T$) are, as expected"
      ]
    },
    {
      "cell_type": "code",
      "metadata": {
        "id": "YdlvVhd6ZvFH",
        "colab_type": "code",
        "outputId": "0f5a0dc7-60e7-46a4-bf59-df210764f8bf",
        "colab": {
          "base_uri": "https://localhost:8080/",
          "height": 34
        }
      },
      "source": [
        "np.unique(target_df['T'])*45"
      ],
      "execution_count": 14,
      "outputs": [
        {
          "output_type": "execute_result",
          "data": {
            "text/plain": [
              "array([ 5., 15., 25., 35., 45.])"
            ]
          },
          "metadata": {
            "tags": []
          },
          "execution_count": 14
        }
      ]
    },
    {
      "cell_type": "markdown",
      "metadata": {
        "id": "_AGqcSlqZvFI",
        "colab_type": "text"
      },
      "source": [
        "# Frequency values"
      ]
    },
    {
      "cell_type": "code",
      "metadata": {
        "id": "j6DEKz4GZvFI",
        "colab_type": "code",
        "colab": {}
      },
      "source": [
        "wred = [3141.592653589793,\n",
        " 4398.22971502571,\n",
        " 6283.185307179586,\n",
        " 9424.77796076938,\n",
        " 12566.370614359172,\n",
        " 18849.55592153876,\n",
        " 25132.741228718343,\n",
        " 31415.926535897932,\n",
        " 37699.11184307752,\n",
        " 43982.2971502571,\n",
        " 50265.48245743669,\n",
        " 56548.66776461628,\n",
        " 62831.853071795864,\n",
        " 75398.22368615503,\n",
        " 87964.5943005142,\n",
        " 100530.96491487337]"
      ],
      "execution_count": 0,
      "outputs": []
    },
    {
      "cell_type": "markdown",
      "metadata": {
        "id": "H3moo3oEZvFJ",
        "colab_type": "text"
      },
      "source": [
        "# Dataset split"
      ]
    },
    {
      "cell_type": "code",
      "metadata": {
        "id": "syS1hclTZvFK",
        "colab_type": "code",
        "colab": {}
      },
      "source": [
        "np.random.seed(42)\n",
        "rnd = np.random.rand(len(target_df)) < 0.8"
      ],
      "execution_count": 0,
      "outputs": []
    },
    {
      "cell_type": "code",
      "metadata": {
        "id": "7Kt_BJZFZvFL",
        "colab_type": "code",
        "colab": {}
      },
      "source": [
        "data_train = data_df[rnd]\n",
        "data_dev = data_df[~rnd]\n",
        "targets_train = target_df[rnd]\n",
        "targets_dev = target_df[~rnd]"
      ],
      "execution_count": 0,
      "outputs": []
    },
    {
      "cell_type": "code",
      "metadata": {
        "id": "BwflCkBrZvFL",
        "colab_type": "code",
        "outputId": "93c547c8-36a8-472f-fef1-76d4730bf325",
        "colab": {
          "base_uri": "https://localhost:8080/",
          "height": 51
        }
      },
      "source": [
        "print('Number of training data observations is ', data_train.shape)\n",
        "print('Number of dev      data observations is ', data_dev.shape)"
      ],
      "execution_count": 18,
      "outputs": [
        {
          "output_type": "stream",
          "text": [
            "Number of training data observations is  (19983, 16)\n",
            "Number of dev      data observations is  (5017, 16)\n"
          ],
          "name": "stdout"
        }
      ]
    },
    {
      "cell_type": "markdown",
      "metadata": {
        "id": "HWgTxCDuZvFQ",
        "colab_type": "text"
      },
      "source": [
        "## Helper Functions"
      ]
    },
    {
      "cell_type": "code",
      "metadata": {
        "id": "ycNFsXOaZvFR",
        "colab_type": "code",
        "colab": {}
      },
      "source": [
        "def MAE_T_list_generator(targets_dev, preds_df):\n",
        "    T_values = targets_dev['T'].unique()*45.0\n",
        "    MAE_list = []\n",
        "    MAE_xticks = T_values\n",
        "    MAE_boxplot = []\n",
        "    for T_ in T_values:\n",
        "        elmts = (targets_dev['T'] == T_/45.0)\n",
        "        tmp_ = targets_dev[elmts]\n",
        "        tmp2_ = preds_df[elmts]\n",
        "        mae_ = np.mean(45.0*np.abs(tmp2_['T'].values- tmp_['T'].values))\n",
        "\n",
        "        MAE_boxplot.append(list(45.0*np.abs(tmp_['T'].values-tmp2_['T'].values)))\n",
        "\n",
        "        MAE_list.append(mae_)\n",
        "        \n",
        "    return MAE_boxplot, MAE_list, MAE_xticks"
      ],
      "execution_count": 0,
      "outputs": []
    },
    {
      "cell_type": "code",
      "metadata": {
        "id": "7ESrffFUZvFV",
        "colab_type": "code",
        "colab": {}
      },
      "source": [
        "def MAE_O2_list_generator(step, targets_dev, preds_df):\n",
        "    breaks = np.arange(step,101.0, step)\n",
        "    MAE_list = []\n",
        "    MAE_xticks = []\n",
        "    MAE_boxplot = []\n",
        "    for O2_ in breaks:\n",
        "        elmts = (targets_dev['O2'] < O2_/100.0) & (targets_dev['O2'] >= (O2_-step)/100.0)\n",
        "        tmp_ = targets_dev[elmts]\n",
        "        tmp2_ = preds_df[elmts]\n",
        "        mae_ = np.mean(100*np.abs(tmp2_['O2'].values- tmp_['O2'].values))\n",
        "\n",
        "        #print (\"MAE for range [\", int(O2_), \",\", int(O2_-step), \"] is\", mae_)\n",
        "\n",
        "        MAE_boxplot.append(list(100.0*np.abs(tmp_['O2'].values-tmp2_['O2'].values)))\n",
        "\n",
        "        MAE_list.append(mae_)\n",
        "        MAE_xticks.append(\"[\"+ str(int(O2_-step))+ \",\"+ str(int(O2_))+ \"]\")\n",
        "    \n",
        "    return MAE_boxplot, MAE_list, MAE_xticks"
      ],
      "execution_count": 0,
      "outputs": []
    },
    {
      "cell_type": "code",
      "metadata": {
        "id": "ix9iIYTcZvFW",
        "colab_type": "code",
        "colab": {}
      },
      "source": [
        "# Get predictions\n",
        "def get_predictions(model, targets_dev, data_dev):\n",
        "    preds = model.predict(data_dev)\n",
        "    preds_df = pd.DataFrame(preds)\n",
        "    preds_df.columns = ['O2', 'T']\n",
        "    targets_dev_ = targets_dev.reset_index(drop = True)\n",
        "    preds_df_ = preds_df.reset_index(drop = True)\n",
        "    \n",
        "    return targets_dev_, preds_df_"
      ],
      "execution_count": 0,
      "outputs": []
    },
    {
      "cell_type": "code",
      "metadata": {
        "id": "xY5mtw2DZvFW",
        "colab_type": "code",
        "colab": {}
      },
      "source": [
        "class CustomCallback(keras.callbacks.Callback):\n",
        "    def on_epoch_end(self, epoch, logs={}):\n",
        "        if (epoch % 1000 == 0):\n",
        "            print (\"Just finished epoch\", epoch)\n",
        "            print (logs)\n",
        "            return\n",
        "        \n",
        "class CustomCallbackProgress(keras.callbacks.Callback):\n",
        "    \n",
        "    def __init__(self, totalEpochs, step):\n",
        "        self.step = 0\n",
        "        self.totalEpochs = totalEpochs\n",
        "        self.step = step\n",
        "        \n",
        "        \n",
        "    def on_epoch_end(self, epoch, logs={}):\n",
        "        if (epoch % 200 == 0):\n",
        "            i = int(epoch / 200)\n",
        "            \n",
        "            if (i > 0):\n",
        "                numberOfEquals = int(self.totalEpochs/200*i)\n",
        "                percent = 100/(self.totalEpochs/200)*i\n",
        "            else:\n",
        "                numberOfEquals = 0\n",
        "                percent = 0\n",
        "                \n",
        "                \n",
        "            print (\"\\r[%-20s] %d%%\" % ('='*i, percent), end='')\n",
        "            \n",
        "            if(percent == 100):\n",
        "                print('')\n",
        "        "
      ],
      "execution_count": 0,
      "outputs": []
    },
    {
      "cell_type": "code",
      "metadata": {
        "id": "pvugRkk3ZvFX",
        "colab_type": "code",
        "colab": {}
      },
      "source": [
        "def reset_keras():\n",
        "    K.get_session().close()\n",
        "    K.set_session(tf.Session())\n",
        "    K.get_session().run(tf.global_variables_initializer())"
      ],
      "execution_count": 0,
      "outputs": []
    },
    {
      "cell_type": "code",
      "metadata": {
        "id": "hf_xjlejZvFZ",
        "colab_type": "code",
        "colab": {}
      },
      "source": [
        "def average_runs(n_iter, model_):\n",
        "    MAE_O2_boxplot_avg = [0]*9\n",
        "    MAE_T_boxplot_avg = [0]*5\n",
        "\n",
        "    for i in range(n_iter):\n",
        "        print (\"Training iteration \", i)\n",
        "        \n",
        "        model_.fit(data_train, targets_train, epochs=4001, batch_size=1000,verbose = 0,\n",
        "             validation_data= (data_dev, targets_dev), callbacks = [CustomCallbackProgress(4000,200)])\n",
        "\n",
        "        print(\"Getting predictions for iteration \",i)\n",
        "        targets_dev_, preds_df_ = get_predictions(model_, targets_dev, data_dev)\n",
        "        targets_train_, preds_train_ = get_predictions(model_, targets_train, data_train)\n",
        "\n",
        "        print(\"Generating MAE lists for iteration \", i)\n",
        "        MAE_boxplot_, MAE_list_, MAE_xticks_ = MAE_O2_list_generator(10.0, targets_dev_, preds_df_)\n",
        "        MAE_T_boxplot_, MAE_T_list_, MAE_T_xticks_ = MAE_T_list_generator(targets_dev_, preds_df_)\n",
        "        #MAE_boxplot_train_, MAE_list_train_, MAE_xticks_train_ = MAE_list_generator(10.0, targets_train_, preds_train_)\n",
        "\n",
        "        for j in range(len(MAE_boxplot_)):\n",
        "            MAE_O2_boxplot_avg[j] = MAE_O2_boxplot_avg[j] + np.array(MAE_boxplot_[j])/n_iter\n",
        "            \n",
        "        for j in range(len(MAE_T_boxplot_)):\n",
        "            MAE_T_boxplot_avg[j] = MAE_T_boxplot_avg[j] + np.array(MAE_T_boxplot_[j])/n_iter\n",
        "\n",
        "    return MAE_O2_boxplot_avg, MAE_T_boxplot_avg"
      ],
      "execution_count": 0,
      "outputs": []
    },
    {
      "cell_type": "code",
      "metadata": {
        "id": "i5JVJPB1ZvFZ",
        "colab_type": "code",
        "colab": {}
      },
      "source": [
        "def get_mae(MAE_boxplot_):\n",
        "    flat_list = [item for sublist in MAE_boxplot_ for item in sublist]\n",
        "    return np.mean(flat_list)"
      ],
      "execution_count": 0,
      "outputs": []
    },
    {
      "cell_type": "code",
      "metadata": {
        "id": "7IZHaVr-ZvFa",
        "colab_type": "code",
        "outputId": "16056a7c-f1cd-441f-8e9b-018a9644abbf",
        "colab": {
          "base_uri": "https://localhost:8080/",
          "height": 34
        }
      },
      "source": [
        "from time import sleep\n",
        "for i in range(21):\n",
        "    # the exact output you're looking for:\n",
        "    print (\"\\r[%-20s] %d%%\" % ('='*i, 5*i), end='')\n",
        "    sleep(0.25)"
      ],
      "execution_count": 0,
      "outputs": [
        {
          "output_type": "stream",
          "text": [
            "[====================] 100%"
          ],
          "name": "stdout"
        }
      ]
    },
    {
      "cell_type": "markdown",
      "metadata": {
        "id": "qubDL3VCZvFb",
        "colab_type": "text"
      },
      "source": [
        "# Random Seed to get reproducible results"
      ]
    },
    {
      "cell_type": "code",
      "metadata": {
        "id": "jd131E5PZvFc",
        "colab_type": "code",
        "colab": {}
      },
      "source": [
        "K.clear_session()\n",
        "\n",
        "from numpy.random import seed\n",
        "seed(42)\n",
        "from tensorflow import set_random_seed\n",
        "set_random_seed(42)"
      ],
      "execution_count": 0,
      "outputs": []
    },
    {
      "cell_type": "markdown",
      "metadata": {
        "id": "3jXoqPciZvFd",
        "colab_type": "text"
      },
      "source": [
        "# Network C"
      ]
    },
    {
      "cell_type": "code",
      "metadata": {
        "id": "ivJYtwZTZvFe",
        "colab_type": "code",
        "colab": {}
      },
      "source": [
        "class CustomCallback_(keras.callbacks.Callback):\n",
        "    def on_epoch_end(self, epoch, logs={}):\n",
        "        if (epoch % 500 == 0):\n",
        "            print (\"Just finished epoch\", epoch)\n",
        "            print (logs)\n",
        "            return"
      ],
      "execution_count": 0,
      "outputs": []
    },
    {
      "cell_type": "code",
      "metadata": {
        "id": "zolxZDx0ZvFe",
        "colab_type": "code",
        "colab": {}
      },
      "source": [
        "K.clear_session()"
      ],
      "execution_count": 0,
      "outputs": []
    },
    {
      "cell_type": "code",
      "metadata": {
        "id": "Iy4UkWvnZvFf",
        "colab_type": "code",
        "colab": {}
      },
      "source": [
        "input_x = keras.layers.Input(shape = (16,))\n",
        "lay1 = layers.Dense(50,  activation='sigmoid', dtype = tf.float32)(input_x)\n",
        "lay2 = layers.Dense(50, activation='sigmoid')(lay1)\n",
        "lay3 = layers.Dense(50, activation='sigmoid')(lay2)\n",
        "outboth = layers.Dense(2, activation='sigmoid',name=\"both_output\")(lay3)\n",
        "\n",
        "lay4 = layers.Dense(5, activation='sigmoid')(lay3)\n",
        "lay5 = layers.Dense(5, activation='sigmoid')(lay4)\n",
        "outo2 = layers.Dense(1, activation = 'sigmoid',name=\"O2_output\")(lay5)\n",
        "\n",
        "\n",
        "lay6 = layers.Dense(5, activation='sigmoid')(lay3)\n",
        "lay7 = layers.Dense(5, activation='sigmoid')(lay6)\n",
        "outT = layers.Dense(1, activation = 'sigmoid', name = \"T_output\")(lay7)\n",
        "\n",
        "#model = Model(input_x, outl)\n",
        "\n",
        "model4 = Model(\n",
        "    inputs=input_x,\n",
        "    outputs=[outboth, outo2, outT])"
      ],
      "execution_count": 0,
      "outputs": []
    },
    {
      "cell_type": "code",
      "metadata": {
        "id": "vUcbGBnxZvFf",
        "colab_type": "code",
        "outputId": "c8a7ae8e-e454-4abf-eb68-9cd6e93a26c5",
        "colab": {
          "base_uri": "https://localhost:8080/",
          "height": 527
        }
      },
      "source": [
        "model4.summary()"
      ],
      "execution_count": 153,
      "outputs": [
        {
          "output_type": "stream",
          "text": [
            "Model: \"model_2\"\n",
            "__________________________________________________________________________________________________\n",
            "Layer (type)                    Output Shape         Param #     Connected to                     \n",
            "==================================================================================================\n",
            "input_3 (InputLayer)            [(None, 16)]         0                                            \n",
            "__________________________________________________________________________________________________\n",
            "dense_14 (Dense)                (None, 50)           850         input_3[0][0]                    \n",
            "__________________________________________________________________________________________________\n",
            "dense_15 (Dense)                (None, 50)           2550        dense_14[0][0]                   \n",
            "__________________________________________________________________________________________________\n",
            "dense_16 (Dense)                (None, 50)           2550        dense_15[0][0]                   \n",
            "__________________________________________________________________________________________________\n",
            "dense_17 (Dense)                (None, 5)            255         dense_16[0][0]                   \n",
            "__________________________________________________________________________________________________\n",
            "dense_19 (Dense)                (None, 5)            255         dense_16[0][0]                   \n",
            "__________________________________________________________________________________________________\n",
            "dense_18 (Dense)                (None, 5)            30          dense_17[0][0]                   \n",
            "__________________________________________________________________________________________________\n",
            "dense_20 (Dense)                (None, 5)            30          dense_19[0][0]                   \n",
            "__________________________________________________________________________________________________\n",
            "both_output (Dense)             (None, 2)            102         dense_16[0][0]                   \n",
            "__________________________________________________________________________________________________\n",
            "O2_output (Dense)               (None, 1)            6           dense_18[0][0]                   \n",
            "__________________________________________________________________________________________________\n",
            "T_output (Dense)                (None, 1)            6           dense_20[0][0]                   \n",
            "==================================================================================================\n",
            "Total params: 6,634\n",
            "Trainable params: 6,634\n",
            "Non-trainable params: 0\n",
            "__________________________________________________________________________________________________\n"
          ],
          "name": "stdout"
        }
      ]
    },
    {
      "cell_type": "code",
      "metadata": {
        "id": "GaxNArMlZvFg",
        "colab_type": "code",
        "colab": {}
      },
      "source": [
        "losses = {\n",
        "        \"both_output\": \"mse\",\n",
        "        \"O2_output\": \"mse\",\n",
        "        \"T_output\": \"mse\"\n",
        "}\n",
        "\n",
        "lossWeights = {\"both_output\": 0.3, \"O2_output\": 5.0, \"T_output\": 1.0}\n",
        "\n",
        "opt = Adam(lr=0.001)\n",
        "\n",
        "model4.compile(optimizer=opt, loss=losses, loss_weights=lossWeights,\n",
        "        metrics=[\"mae\"])"
      ],
      "execution_count": 0,
      "outputs": []
    },
    {
      "cell_type": "code",
      "metadata": {
        "id": "QAR-gIrbZvFh",
        "colab_type": "code",
        "colab": {}
      },
      "source": [
        "targets_train_O2 = targets_train['O2']\n",
        "targets_dev_O2 = targets_dev['O2']\n",
        "targets_train_T = targets_train['T']\n",
        "targets_dev_T = targets_dev['T']"
      ],
      "execution_count": 0,
      "outputs": []
    },
    {
      "cell_type": "markdown",
      "metadata": {
        "id": "-do_u4EDZvFh",
        "colab_type": "text"
      },
      "source": [
        "### WORKING HERE"
      ]
    },
    {
      "cell_type": "code",
      "metadata": {
        "id": "oer0AVqBVNmu",
        "colab_type": "code",
        "colab": {
          "base_uri": "https://localhost:8080/",
          "height": 34
        },
        "outputId": "b059543e-18be-4fe2-a657-0e1325fb605b"
      },
      "source": [
        "targets_train.shape"
      ],
      "execution_count": 202,
      "outputs": [
        {
          "output_type": "execute_result",
          "data": {
            "text/plain": [
              "(19983, 2)"
            ]
          },
          "metadata": {
            "tags": []
          },
          "execution_count": 202
        }
      ]
    },
    {
      "cell_type": "code",
      "metadata": {
        "id": "5SOLycrnZvFh",
        "colab_type": "code",
        "outputId": "6b7bfff7-c38f-40b5-884e-99f170ca8a33",
        "colab": {
          "base_uri": "https://localhost:8080/",
          "height": 314
        }
      },
      "source": [
        "H = model4.fit(data_train,\n",
        "        {\"both_output\": targets_train, \"O2_output\": targets_train_O2, \"T_output\": targets_train_T},\n",
        "        validation_data=(data_dev,\n",
        "            {\"both_output\": targets_dev, \"O2_output\": targets_dev_O2, \"T_output\": targets_dev_T}),\n",
        "        epochs=4000, batch_size = 19983,\n",
        "        verbose=0, callbacks = [CustomCallback_()])"
      ],
      "execution_count": 203,
      "outputs": [
        {
          "output_type": "stream",
          "text": [
            "Just finished epoch 0\n",
            "{'loss': 0.007154255174100399, 'both_output_loss': 0.0034267954, 'O2_output_loss': 0.00015382678, 'T_output_loss': 0.0053570825, 'both_output_mean_absolute_error': 0.04257509, 'O2_output_mean_absolute_error': 0.009555188, 'T_output_mean_absolute_error': 0.06298853, 'val_loss': 0.21634472906589508, 'val_both_output_loss': 0.07677096, 'val_O2_output_loss': 0.008926461, 'val_T_output_loss': 0.14868113, 'val_both_output_mean_absolute_error': 0.21068531, 'val_O2_output_mean_absolute_error': 0.08661953, 'val_T_output_mean_absolute_error': 0.33599362}\n",
            "Just finished epoch 500\n",
            "{'loss': 0.004790760111063719, 'both_output_loss': 0.002592304, 'O2_output_loss': 7.6976925e-05, 'T_output_loss': 0.0036281843, 'both_output_mean_absolute_error': 0.03537, 'O2_output_mean_absolute_error': 0.0058239666, 'T_output_mean_absolute_error': 0.05101775, 'val_loss': 0.004678466357290745, 'val_both_output_loss': 0.0025438275, 'val_O2_output_loss': 7.8603305e-05, 'val_T_output_loss': 0.0035223016, 'val_both_output_mean_absolute_error': 0.035340212, 'val_O2_output_mean_absolute_error': 0.0058072247, 'val_T_output_mean_absolute_error': 0.05056641}\n",
            "Just finished epoch 1000\n",
            "{'loss': 0.004728350322693586, 'both_output_loss': 0.0025904193, 'O2_output_loss': 7.2980845e-05, 'T_output_loss': 0.0035863202, 'both_output_mean_absolute_error': 0.03537455, 'O2_output_mean_absolute_error': 0.005698255, 'T_output_mean_absolute_error': 0.050825294, 'val_loss': 0.004619582090526819, 'val_both_output_loss': 0.002542, 'val_O2_output_loss': 7.443811e-05, 'val_T_output_loss': 0.0034847916, 'val_both_output_mean_absolute_error': 0.035335008, 'val_O2_output_mean_absolute_error': 0.005675292, 'val_T_output_mean_absolute_error': 0.050378956}\n",
            "Just finished epoch 1500\n",
            "{'loss': 0.004731782246381044, 'both_output_loss': 0.0026116648, 'O2_output_loss': 7.1550865e-05, 'T_output_loss': 0.0035905284, 'both_output_mean_absolute_error': 0.03473071, 'O2_output_mean_absolute_error': 0.005750435, 'T_output_mean_absolute_error': 0.050074566, 'val_loss': 0.004665353335440159, 'val_both_output_loss': 0.0025742662, 'val_O2_output_loss': 7.489306e-05, 'val_T_output_loss': 0.0035186084, 'val_both_output_mean_absolute_error': 0.036297668, 'val_O2_output_mean_absolute_error': 0.005809899, 'val_T_output_mean_absolute_error': 0.052095044}\n",
            "Just finished epoch 2000\n",
            "{'loss': 0.004569449461996555, 'both_output_loss': 0.0025743868, 'O2_output_loss': 6.612622e-05, 'T_output_loss': 0.003466502, 'both_output_mean_absolute_error': 0.03524705, 'O2_output_mean_absolute_error': 0.0054910895, 'T_output_mean_absolute_error': 0.05011025, 'val_loss': 0.0044656540267169476, 'val_both_output_loss': 0.0025267873, 'val_O2_output_loss': 6.724791e-05, 'val_T_output_loss': 0.0033713784, 'val_both_output_mean_absolute_error': 0.03512347, 'val_O2_output_mean_absolute_error': 0.0054535205, 'val_T_output_mean_absolute_error': 0.049532622}\n",
            "Just finished epoch 2500\n",
            "{'loss': 0.004494526423513889, 'both_output_loss': 0.0025644999, 'O2_output_loss': 6.33921e-05, 'T_output_loss': 0.0034082157, 'both_output_mean_absolute_error': 0.03517852, 'O2_output_mean_absolute_error': 0.005387553, 'T_output_mean_absolute_error': 0.04973939, 'val_loss': 0.004394185729324818, 'val_both_output_loss': 0.002517824, 'val_O2_output_loss': 6.4444255e-05, 'val_T_output_loss': 0.0033166173, 'val_both_output_mean_absolute_error': 0.035124116, 'val_O2_output_mean_absolute_error': 0.005342619, 'val_T_output_mean_absolute_error': 0.04928855}\n",
            "Just finished epoch 3000\n",
            "{'loss': 0.004454581066966057, 'both_output_loss': 0.0025649571, 'O2_output_loss': 6.210248e-05, 'T_output_loss': 0.0033745817, 'both_output_mean_absolute_error': 0.0346309, 'O2_output_mean_absolute_error': 0.0053576804, 'T_output_mean_absolute_error': 0.0487454, 'val_loss': 0.004363789223134518, 'val_both_output_loss': 0.002520188, 'val_O2_output_loss': 6.3024745e-05, 'val_T_output_loss': 0.0032926092, 'val_both_output_mean_absolute_error': 0.035535246, 'val_O2_output_mean_absolute_error': 0.0053360397, 'val_T_output_mean_absolute_error': 0.049851276}\n",
            "Just finished epoch 3500\n",
            "{'loss': 0.004385366570204496, 'both_output_loss': 0.0025553335, 'O2_output_loss': 5.9815502e-05, 'T_output_loss': 0.003319689, 'both_output_mean_absolute_error': 0.035506554, 'O2_output_mean_absolute_error': 0.005326532, 'T_output_mean_absolute_error': 0.04991426, 'val_loss': 0.004269726574420929, 'val_both_output_loss': 0.0025049616, 'val_O2_output_loss': 5.997888e-05, 'val_T_output_loss': 0.0032183437, 'val_both_output_mean_absolute_error': 0.03453584, 'val_O2_output_mean_absolute_error': 0.0052002496, 'val_T_output_mean_absolute_error': 0.047943097}\n"
          ],
          "name": "stdout"
        }
      ]
    },
    {
      "cell_type": "code",
      "metadata": {
        "id": "M-UMGLNJZvFi",
        "colab_type": "code",
        "colab": {}
      },
      "source": [
        "(O2T, O2, T) = model4.predict(data_dev)\n",
        "preds_exp_df = pd.DataFrame(O2T)\n",
        "preds_exp_df.columns = ['O2', 'T']\n",
        "preds_exp_o2_df = pd.DataFrame(O2[:,0])\n",
        "preds_exp_o2_df.columns = ['O2']\n",
        "\n",
        "preds_exp_T_df = pd.DataFrame(T[:,0])\n",
        "preds_exp_T_df.columns = ['T']"
      ],
      "execution_count": 0,
      "outputs": []
    },
    {
      "cell_type": "code",
      "metadata": {
        "id": "TAQKhZDjZvFi",
        "colab_type": "code",
        "colab": {}
      },
      "source": [
        "targets_dev = targets_dev.reset_index(drop = True)\n",
        "preds_exp_o2_df = preds_exp_o2_df.reset_index(drop = True)\n",
        "preds_exp_T_df = preds_exp_T_df.reset_index(drop = True)"
      ],
      "execution_count": 0,
      "outputs": []
    },
    {
      "cell_type": "code",
      "metadata": {
        "id": "mzVtcUYsZvFj",
        "colab_type": "code",
        "colab": {}
      },
      "source": [
        "MAE_boxplot_C, MAE_list_C, MAE_xticks_C = MAE_O2_list_generator(10.0, targets_dev, preds_exp_o2_df)\n",
        "MAET_boxplot_C_MTL, MAET_list_C_MTL, MAET_xticks_C_MTL = MAE_T_list_generator(targets_dev, preds_exp_T_df)"
      ],
      "execution_count": 0,
      "outputs": []
    },
    {
      "cell_type": "code",
      "metadata": {
        "id": "XeoJZecyZvFj",
        "colab_type": "code",
        "outputId": "fdbe17c2-c4fd-4f1a-da71-4d1354ba2892",
        "colab": {
          "base_uri": "https://localhost:8080/",
          "height": 187
        }
      },
      "source": [
        "MAE_list_C"
      ],
      "execution_count": 207,
      "outputs": [
        {
          "output_type": "execute_result",
          "data": {
            "text/plain": [
              "[0.35772180047195196,\n",
              " 0.2602036405223689,\n",
              " 0.34345415273366714,\n",
              " 0.3413337305346389,\n",
              " 0.43158246951271756,\n",
              " 0.49294532759092363,\n",
              " 0.38880789339368677,\n",
              " 0.5664205828694714,\n",
              " 1.0311002572428043,\n",
              " 1.3150294521593924]"
            ]
          },
          "metadata": {
            "tags": []
          },
          "execution_count": 207
        }
      ]
    },
    {
      "cell_type": "code",
      "metadata": {
        "id": "TPq8KP8FZvFk",
        "colab_type": "code",
        "outputId": "d5da3ae2-a249-4a00-815d-62e740f4714d",
        "colab": {
          "base_uri": "https://localhost:8080/",
          "height": 34
        }
      },
      "source": [
        "np.mean(MAE_list_C) \n",
        "# 64/32/32 -->\n",
        "# 50       -->\n",
        "# 80       -->"
      ],
      "execution_count": 208,
      "outputs": [
        {
          "output_type": "execute_result",
          "data": {
            "text/plain": [
              "0.5528599307031623"
            ]
          },
          "metadata": {
            "tags": []
          },
          "execution_count": 208
        }
      ]
    },
    {
      "cell_type": "code",
      "metadata": {
        "id": "ic8H7_tdZvFk",
        "colab_type": "code",
        "outputId": "88d502df-71dc-4d40-c5e5-bb6dadd581e9",
        "colab": {
          "base_uri": "https://localhost:8080/",
          "height": 441
        }
      },
      "source": [
        "maxx = 4.0\n",
        "\n",
        "plt.rc('font', family='arial')\n",
        "plt.rc('xtick', labelsize='x-small')\n",
        "plt.rc('ytick', labelsize='x-small')\n",
        "    \n",
        "plt.tight_layout()\n",
        "\n",
        "fig = plt.figure(figsize=(8, 5))\n",
        "\n",
        "ax = fig.add_subplot(1, 1, 1)\n",
        "\n",
        "#bp = ax.scatter(range(1,len(MAE_xticks50)+1),MAE_list50, s = 60, color = 'black', label = 'Network A (50/50/50)')\n",
        "#bp = ax.scatter(range(1,len(MAE_xticks_MTL)+1),MAE_list_MTL, s = 60, color = 'red', label = 'Network B (MTL)')\n",
        "bp = ax.scatter(range(1,len(MAE_xticks_C)+1),MAE_list_C, s = 60, color = 'blue', label = 'Network C (MTL)')\n",
        "plt.ylim(0, 7)\n",
        "plt.xticks(range(1,len(MAE_xticks_C)+1), MAE_xticks_C, size='small', rotation = 'vertical')\n",
        "#plt.grid()\n",
        "plt.ylabel('Mean Absolute Error (% air)', fontsize = 16)\n",
        "plt.xlabel('$[O_2]$ ranges', fontsize = 16)\n",
        "plt.tick_params(labelsize=16)\n",
        "plt.legend(loc = 'upper left', fontsize = 16)\n",
        "#plt.xlim(0,9.5)\n",
        "\n",
        "\n",
        "#fig.savefig('Figures/absolute_error_for_T_boxplots.eps', format='eps', dpi=300,bbox_inches='tight')"
      ],
      "execution_count": 211,
      "outputs": [
        {
          "output_type": "execute_result",
          "data": {
            "text/plain": [
              "<matplotlib.legend.Legend at 0x7f3fab6aa940>"
            ]
          },
          "metadata": {
            "tags": []
          },
          "execution_count": 211
        },
        {
          "output_type": "display_data",
          "data": {
            "text/plain": [
              "<Figure size 432x288 with 0 Axes>"
            ]
          },
          "metadata": {
            "tags": []
          }
        },
        {
          "output_type": "display_data",
          "data": {
            "image/png": "[encoded data removed]",
            "text/plain": [
              "<Figure size 576x360 with 1 Axes>"
            ]
          },
          "metadata": {
            "tags": []
          }
        }
      ]
    },
    {
      "cell_type": "code",
      "metadata": {
        "id": "etGRCxNYdQXu",
        "colab_type": "code",
        "colab": {
          "base_uri": "https://localhost:8080/",
          "height": 265
        },
        "outputId": "06a98aee-2045-4651-dcad-ac7239da992f"
      },
      "source": [
        "plt.boxplot(MAE_boxplot_C)\n",
        "plt.ylim(-0.1, 14.0)\n",
        "plt.show()"
      ],
      "execution_count": 212,
      "outputs": [
        {
          "output_type": "display_data",
          "data": {
            "image/png": "[encoded data removed]",
            "text/plain": [
              "<Figure size 432x288 with 1 Axes>"
            ]
          },
          "metadata": {
            "tags": []
          }
        }
      ]
    },
    {
      "cell_type": "code",
      "metadata": {
        "id": "ZaXv4N3XPgO8",
        "colab_type": "code",
        "colab": {}
      },
      "source": [
        "pdo2 = pd.DataFrame({'MAE_list': MAE_list_C, 'MAE_xticks': MAE_xticks_C, 'MAE_boxplot': MAE_boxplot_C})\n",
        "pdT = pd.DataFrame({'MAET_list': MAET_list_C_MTL,'MAET_boxplot': MAET_boxplot_C_MTL, 'MAET_xticks':MAET_xticks_C_MTL})\n",
        "pdo2.to_csv('/content/gdrive/My Drive/data/netc_O2.csv')\n",
        "pdT.to_csv('/content/gdrive/My Drive/data/netc_T.csv')"
      ],
      "execution_count": 0,
      "outputs": []
    },
    {
      "cell_type": "code",
      "metadata": {
        "id": "KqiYyQDqP2Vq",
        "colab_type": "code",
        "outputId": "be18e320-0a71-4a12-ba72-4b44fd9f9c7b",
        "colab": {
          "base_uri": "https://localhost:8080/",
          "height": 34
        }
      },
      "source": [
        "np.mean(MAE_list_C)"
      ],
      "execution_count": 214,
      "outputs": [
        {
          "output_type": "execute_result",
          "data": {
            "text/plain": [
              "0.5528599307031623"
            ]
          },
          "metadata": {
            "tags": []
          },
          "execution_count": 214
        }
      ]
    },
    {
      "cell_type": "code",
      "metadata": {
        "id": "nKhkjo7Wtk_k",
        "colab_type": "code",
        "colab": {
          "base_uri": "https://localhost:8080/",
          "height": 34
        },
        "outputId": "e5812f91-5960-49e4-fddf-1d9a7101eb0e"
      },
      "source": [
        "np.mean(MAET_list_C_MTL)"
      ],
      "execution_count": 216,
      "outputs": [
        {
          "output_type": "execute_result",
          "data": {
            "text/plain": [
              "2.234788569224844"
            ]
          },
          "metadata": {
            "tags": []
          },
          "execution_count": 216
        }
      ]
    },
    {
      "cell_type": "markdown",
      "metadata": {
        "id": "m7C-IbK3ZvFw",
        "colab_type": "text"
      },
      "source": [
        "# VERSIONS"
      ]
    },
    {
      "cell_type": "code",
      "metadata": {
        "id": "WrPML1U5ZvFx",
        "colab_type": "code",
        "outputId": "db39106a-9008-4bb5-a189-f438de7809b0",
        "colab": {}
      },
      "source": [
        "import tensorflow as tf\n",
        "from tensorflow.keras import layers\n",
        "\n",
        "print(tf.VERSION)\n",
        "print(tf.keras.__version__)"
      ],
      "execution_count": 0,
      "outputs": [
        {
          "output_type": "stream",
          "text": [
            "1.13.1\n",
            "2.2.4-tf\n"
          ],
          "name": "stdout"
        }
      ]
    }
  ]
}