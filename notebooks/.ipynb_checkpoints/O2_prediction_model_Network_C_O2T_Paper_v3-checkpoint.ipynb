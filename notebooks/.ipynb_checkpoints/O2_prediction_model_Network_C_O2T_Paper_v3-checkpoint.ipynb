{
 "cells": [
  {
   "cell_type": "markdown",
   "metadata": {
    "colab_type": "text",
    "id": "view-in-github"
   },
   "source": [
    "<a href=\"https://colab.research.google.com/github/michelucci/O2T-Real-Data-Paper/blob/master/notebooks/O2_prediction_model_Network_C_O2T_Paper_v3.ipynb\" target=\"_parent\"><img src=\"https://colab.research.google.com/assets/colab-badge.svg\" alt=\"Open In Colab\"/></a>"
   ]
  },
  {
   "cell_type": "markdown",
   "metadata": {
    "colab_type": "text",
    "id": "czCW0XAgZvEm"
   },
   "source": [
    "# Code related to the paper on the prediction of $[O2]$ and $T$ at the same time with MTL - Network C  \n",
    "\n",
    "Author: Umberto Michelucci\n",
    "\n",
    "**Version 3.0**\n",
    "\n",
    "\n",
    "## Dataset 1 -- $\\theta / 90$"
   ]
  },
  {
   "cell_type": "markdown",
   "metadata": {
    "colab_type": "text",
    "id": "6hnmirGd2Trf"
   },
   "source": [
    "We first import the libraries we need. Many are non necessary but are useful to write shorter code. For example one you have imported `keras` you don't need to `from tensorflow.keras.models import Sequential` but this makes some of the code shorter. In fact instead of writing `keras.models.Sequential()` you can simply use `Sequential()`."
   ]
  },
  {
   "cell_type": "code",
   "execution_count": 1,
   "metadata": {
    "colab": {
     "base_uri": "https://localhost:8080/",
     "height": 53
    },
    "colab_type": "code",
    "id": "2Tp3iYK_ZvEo",
    "outputId": "f980561f-3563-491c-b878-a40692af4e5e"
   },
   "outputs": [
    {
     "name": "stdout",
     "output_type": "stream",
     "text": [
      "2.1.0-rc1\n"
     ]
    }
   ],
   "source": [
    "# Basics\n",
    "import numpy as np\n",
    "import pandas as pd\n",
    "\n",
    "# for timing measurements\n",
    "import time\n",
    "\n",
    "# Only in Google Colab\n",
    "#%tensorflow_version 2.x\n",
    "\n",
    "import tensorflow as tf\n",
    "\n",
    "# Keras\n",
    "from tensorflow.keras.models import Sequential\n",
    "from tensorflow.keras.optimizers import SGD\n",
    "from tensorflow.keras.optimizers import Adam\n",
    "from tensorflow.keras.layers import Dense\n",
    "from tensorflow.keras import Model\n",
    "from tensorflow.keras import layers\n",
    "import tensorflow.keras as keras\n",
    "import tensorflow.keras.backend as K\n",
    "\n",
    "# Various\n",
    "from numpy import random\n",
    "from scipy.interpolate import interp1d\n",
    "\n",
    "# Plotting\n",
    "import matplotlib.pyplot as plt\n",
    "from matplotlib.lines import Line2D\n",
    "from matplotlib.patches import Patch\n",
    "import seaborn as sns\n",
    "\n",
    "\n",
    "\n",
    "print(tf.__version__)"
   ]
  },
  {
   "cell_type": "markdown",
   "metadata": {
    "colab_type": "text",
    "id": "QF-Rsiyz2Trj"
   },
   "source": [
    "# Input data load\n",
    "\n",
    "Depending if you are running this code on Google Colab or locally run the appropriate cells. Note that if you want to run the notebook on Colab, you will need to have the files in the appropriate directory. In particular you need\n",
    "\n",
    "`../data/train_data1.csv`\n",
    "\n",
    "`../data/train_targets1.csv`\n"
   ]
  },
  {
   "cell_type": "markdown",
   "metadata": {
    "colab_type": "text",
    "id": "gr8mzs4gZvEv"
   },
   "source": [
    "## Read the files (Google Drive)"
   ]
  },
  {
   "cell_type": "code",
   "execution_count": null,
   "metadata": {
    "colab": {
     "base_uri": "https://localhost:8080/",
     "height": 35
    },
    "colab_type": "code",
    "id": "ktBIU99yaC9x",
    "outputId": "870b1ef2-8065-47ea-bab6-490f6abb276b"
   },
   "outputs": [],
   "source": [
    "from google.colab import drive\n",
    "drive.mount('/content/gdrive')"
   ]
  },
  {
   "cell_type": "code",
   "execution_count": null,
   "metadata": {
    "colab": {
     "base_uri": "https://localhost:8080/",
     "height": 35
    },
    "colab_type": "code",
    "id": "EpTMRzu62jL7",
    "outputId": "d17ec5b2-2c74-42c5-9ee8-bc2235e022b4"
   },
   "outputs": [],
   "source": [
    "root_dir = \"/content/gdrive/My Drive/Datasets/O2TRealData\"\n",
    "!ls /content/gdrive/My\\ Drive/Datasets/O2TRealData"
   ]
  },
  {
   "cell_type": "markdown",
   "metadata": {
    "colab_type": "text",
    "id": "_jU_1csB2Trn"
   },
   "source": [
    "## Read the files (Google Drive)\n",
    "\n",
    "Note that this line, **at the moment**, is exactly the same as the local one, since the location of the files is the same. This may change depending on where the files are saved in google drive. "
   ]
  },
  {
   "cell_type": "code",
   "execution_count": null,
   "metadata": {
    "colab": {},
    "colab_type": "code",
    "id": "585dLmzDZvEw"
   },
   "outputs": [],
   "source": [
    "train_data_df = pd.read_csv(root_dir + '/train_data1.csv', header = None)\n",
    "train_target_df = pd.read_csv(root_dir + '/train_targets1.csv', names=['T', 'O2'], header = None)"
   ]
  },
  {
   "cell_type": "markdown",
   "metadata": {
    "colab_type": "text",
    "id": "9goVSn3u2Trr"
   },
   "source": [
    "## Read the files (Local files)"
   ]
  },
  {
   "cell_type": "code",
   "execution_count": 2,
   "metadata": {
    "colab": {
     "base_uri": "https://localhost:8080/",
     "height": 411
    },
    "colab_type": "code",
    "id": "vfNicw2l2Trt",
    "outputId": "8bcda8d2-4374-4651-a813-1e6d41967021"
   },
   "outputs": [],
   "source": [
    "train_data_df = pd.read_csv('../data/train_data1.csv', header = None)\n",
    "train_target_df = pd.read_csv('../data/train_targets1.csv', names=['T', 'O2'], header = None)"
   ]
  },
  {
   "cell_type": "code",
   "execution_count": 3,
   "metadata": {
    "colab": {
     "base_uri": "https://localhost:8080/",
     "height": 35
    },
    "colab_type": "code",
    "id": "res0tl3S2Trw",
    "outputId": "27652957-a4c9-488e-b4c1-13d5f602d66e"
   },
   "outputs": [
    {
     "data": {
      "text/plain": [
       "(3780, 50)"
      ]
     },
     "execution_count": 3,
     "metadata": {},
     "output_type": "execute_result"
    }
   ],
   "source": [
    "train_data_df.shape"
   ]
  },
  {
   "cell_type": "code",
   "execution_count": 4,
   "metadata": {
    "colab": {
     "base_uri": "https://localhost:8080/",
     "height": 224
    },
    "colab_type": "code",
    "id": "nQhfDxlDZvE0",
    "outputId": "45cab1d7-19ae-46c6-e86a-b8600560a3a3"
   },
   "outputs": [
    {
     "data": {
      "text/html": [
       "<div>\n",
       "<style scoped>\n",
       "    .dataframe tbody tr th:only-of-type {\n",
       "        vertical-align: middle;\n",
       "    }\n",
       "\n",
       "    .dataframe tbody tr th {\n",
       "        vertical-align: top;\n",
       "    }\n",
       "\n",
       "    .dataframe thead th {\n",
       "        text-align: right;\n",
       "    }\n",
       "</style>\n",
       "<table border=\"1\" class=\"dataframe\">\n",
       "  <thead>\n",
       "    <tr style=\"text-align: right;\">\n",
       "      <th></th>\n",
       "      <th>0</th>\n",
       "      <th>1</th>\n",
       "      <th>2</th>\n",
       "      <th>3</th>\n",
       "      <th>4</th>\n",
       "      <th>5</th>\n",
       "      <th>6</th>\n",
       "      <th>7</th>\n",
       "      <th>8</th>\n",
       "      <th>9</th>\n",
       "      <th>...</th>\n",
       "      <th>40</th>\n",
       "      <th>41</th>\n",
       "      <th>42</th>\n",
       "      <th>43</th>\n",
       "      <th>44</th>\n",
       "      <th>45</th>\n",
       "      <th>46</th>\n",
       "      <th>47</th>\n",
       "      <th>48</th>\n",
       "      <th>49</th>\n",
       "    </tr>\n",
       "  </thead>\n",
       "  <tbody>\n",
       "    <tr>\n",
       "      <th>0</th>\n",
       "      <td>-0.026933</td>\n",
       "      <td>-0.040467</td>\n",
       "      <td>-0.053667</td>\n",
       "      <td>-0.067067</td>\n",
       "      <td>-0.080400</td>\n",
       "      <td>-0.093333</td>\n",
       "      <td>-0.106267</td>\n",
       "      <td>-0.119067</td>\n",
       "      <td>-0.131733</td>\n",
       "      <td>-0.162200</td>\n",
       "      <td>...</td>\n",
       "      <td>-0.636400</td>\n",
       "      <td>-0.643267</td>\n",
       "      <td>-0.650067</td>\n",
       "      <td>-0.656533</td>\n",
       "      <td>-0.6628</td>\n",
       "      <td>-0.685600</td>\n",
       "      <td>-0.705667</td>\n",
       "      <td>-0.723333</td>\n",
       "      <td>-0.739133</td>\n",
       "      <td>-0.753067</td>\n",
       "    </tr>\n",
       "    <tr>\n",
       "      <th>1</th>\n",
       "      <td>-0.027000</td>\n",
       "      <td>-0.040400</td>\n",
       "      <td>-0.053800</td>\n",
       "      <td>-0.067133</td>\n",
       "      <td>-0.080333</td>\n",
       "      <td>-0.093333</td>\n",
       "      <td>-0.106267</td>\n",
       "      <td>-0.119000</td>\n",
       "      <td>-0.131600</td>\n",
       "      <td>-0.162133</td>\n",
       "      <td>...</td>\n",
       "      <td>-0.636333</td>\n",
       "      <td>-0.643267</td>\n",
       "      <td>-0.650067</td>\n",
       "      <td>-0.656533</td>\n",
       "      <td>-0.6628</td>\n",
       "      <td>-0.685600</td>\n",
       "      <td>-0.705667</td>\n",
       "      <td>-0.723333</td>\n",
       "      <td>-0.739133</td>\n",
       "      <td>-0.753067</td>\n",
       "    </tr>\n",
       "    <tr>\n",
       "      <th>2</th>\n",
       "      <td>-0.027000</td>\n",
       "      <td>-0.040467</td>\n",
       "      <td>-0.053667</td>\n",
       "      <td>-0.067133</td>\n",
       "      <td>-0.080333</td>\n",
       "      <td>-0.093333</td>\n",
       "      <td>-0.106200</td>\n",
       "      <td>-0.119000</td>\n",
       "      <td>-0.131667</td>\n",
       "      <td>-0.162200</td>\n",
       "      <td>...</td>\n",
       "      <td>-0.636467</td>\n",
       "      <td>-0.643400</td>\n",
       "      <td>-0.650200</td>\n",
       "      <td>-0.656533</td>\n",
       "      <td>-0.6628</td>\n",
       "      <td>-0.685600</td>\n",
       "      <td>-0.705667</td>\n",
       "      <td>-0.723467</td>\n",
       "      <td>-0.739133</td>\n",
       "      <td>-0.753067</td>\n",
       "    </tr>\n",
       "    <tr>\n",
       "      <th>3</th>\n",
       "      <td>-0.027000</td>\n",
       "      <td>-0.040400</td>\n",
       "      <td>-0.053867</td>\n",
       "      <td>-0.067267</td>\n",
       "      <td>-0.080267</td>\n",
       "      <td>-0.093400</td>\n",
       "      <td>-0.106267</td>\n",
       "      <td>-0.119000</td>\n",
       "      <td>-0.131733</td>\n",
       "      <td>-0.162200</td>\n",
       "      <td>...</td>\n",
       "      <td>-0.636467</td>\n",
       "      <td>-0.643400</td>\n",
       "      <td>-0.650200</td>\n",
       "      <td>-0.656667</td>\n",
       "      <td>-0.6628</td>\n",
       "      <td>-0.685600</td>\n",
       "      <td>-0.705667</td>\n",
       "      <td>-0.723333</td>\n",
       "      <td>-0.739133</td>\n",
       "      <td>-0.753067</td>\n",
       "    </tr>\n",
       "    <tr>\n",
       "      <th>4</th>\n",
       "      <td>-0.027067</td>\n",
       "      <td>-0.040467</td>\n",
       "      <td>-0.053733</td>\n",
       "      <td>-0.067133</td>\n",
       "      <td>-0.080400</td>\n",
       "      <td>-0.093333</td>\n",
       "      <td>-0.106333</td>\n",
       "      <td>-0.119067</td>\n",
       "      <td>-0.131667</td>\n",
       "      <td>-0.162333</td>\n",
       "      <td>...</td>\n",
       "      <td>-0.636467</td>\n",
       "      <td>-0.643400</td>\n",
       "      <td>-0.650133</td>\n",
       "      <td>-0.656600</td>\n",
       "      <td>-0.6628</td>\n",
       "      <td>-0.685733</td>\n",
       "      <td>-0.705667</td>\n",
       "      <td>-0.723467</td>\n",
       "      <td>-0.739133</td>\n",
       "      <td>-0.753267</td>\n",
       "    </tr>\n",
       "  </tbody>\n",
       "</table>\n",
       "<p>5 rows × 50 columns</p>\n",
       "</div>"
      ],
      "text/plain": [
       "         0         1         2         3         4         5         6   \\\n",
       "0 -0.026933 -0.040467 -0.053667 -0.067067 -0.080400 -0.093333 -0.106267   \n",
       "1 -0.027000 -0.040400 -0.053800 -0.067133 -0.080333 -0.093333 -0.106267   \n",
       "2 -0.027000 -0.040467 -0.053667 -0.067133 -0.080333 -0.093333 -0.106200   \n",
       "3 -0.027000 -0.040400 -0.053867 -0.067267 -0.080267 -0.093400 -0.106267   \n",
       "4 -0.027067 -0.040467 -0.053733 -0.067133 -0.080400 -0.093333 -0.106333   \n",
       "\n",
       "         7         8         9   ...        40        41        42        43  \\\n",
       "0 -0.119067 -0.131733 -0.162200  ... -0.636400 -0.643267 -0.650067 -0.656533   \n",
       "1 -0.119000 -0.131600 -0.162133  ... -0.636333 -0.643267 -0.650067 -0.656533   \n",
       "2 -0.119000 -0.131667 -0.162200  ... -0.636467 -0.643400 -0.650200 -0.656533   \n",
       "3 -0.119000 -0.131733 -0.162200  ... -0.636467 -0.643400 -0.650200 -0.656667   \n",
       "4 -0.119067 -0.131667 -0.162333  ... -0.636467 -0.643400 -0.650133 -0.656600   \n",
       "\n",
       "       44        45        46        47        48        49  \n",
       "0 -0.6628 -0.685600 -0.705667 -0.723333 -0.739133 -0.753067  \n",
       "1 -0.6628 -0.685600 -0.705667 -0.723333 -0.739133 -0.753067  \n",
       "2 -0.6628 -0.685600 -0.705667 -0.723467 -0.739133 -0.753067  \n",
       "3 -0.6628 -0.685600 -0.705667 -0.723333 -0.739133 -0.753067  \n",
       "4 -0.6628 -0.685733 -0.705667 -0.723467 -0.739133 -0.753267  \n",
       "\n",
       "[5 rows x 50 columns]"
      ]
     },
     "execution_count": 4,
     "metadata": {},
     "output_type": "execute_result"
    }
   ],
   "source": [
    "train_data_df.head()"
   ]
  },
  {
   "cell_type": "code",
   "execution_count": 5,
   "metadata": {
    "colab": {
     "base_uri": "https://localhost:8080/",
     "height": 204
    },
    "colab_type": "code",
    "id": "pxznLqEdaYGd",
    "outputId": "2e36ce99-9ddb-4348-fc40-afa5a16fa3ee"
   },
   "outputs": [
    {
     "data": {
      "text/html": [
       "<div>\n",
       "<style scoped>\n",
       "    .dataframe tbody tr th:only-of-type {\n",
       "        vertical-align: middle;\n",
       "    }\n",
       "\n",
       "    .dataframe tbody tr th {\n",
       "        vertical-align: top;\n",
       "    }\n",
       "\n",
       "    .dataframe thead th {\n",
       "        text-align: right;\n",
       "    }\n",
       "</style>\n",
       "<table border=\"1\" class=\"dataframe\">\n",
       "  <thead>\n",
       "    <tr style=\"text-align: right;\">\n",
       "      <th></th>\n",
       "      <th>T</th>\n",
       "      <th>O2</th>\n",
       "    </tr>\n",
       "  </thead>\n",
       "  <tbody>\n",
       "    <tr>\n",
       "      <th>0</th>\n",
       "      <td>20.0</td>\n",
       "      <td>35.0</td>\n",
       "    </tr>\n",
       "    <tr>\n",
       "      <th>1</th>\n",
       "      <td>20.0</td>\n",
       "      <td>35.0</td>\n",
       "    </tr>\n",
       "    <tr>\n",
       "      <th>2</th>\n",
       "      <td>20.0</td>\n",
       "      <td>35.0</td>\n",
       "    </tr>\n",
       "    <tr>\n",
       "      <th>3</th>\n",
       "      <td>20.0</td>\n",
       "      <td>35.0</td>\n",
       "    </tr>\n",
       "    <tr>\n",
       "      <th>4</th>\n",
       "      <td>20.0</td>\n",
       "      <td>35.0</td>\n",
       "    </tr>\n",
       "  </tbody>\n",
       "</table>\n",
       "</div>"
      ],
      "text/plain": [
       "      T    O2\n",
       "0  20.0  35.0\n",
       "1  20.0  35.0\n",
       "2  20.0  35.0\n",
       "3  20.0  35.0\n",
       "4  20.0  35.0"
      ]
     },
     "execution_count": 5,
     "metadata": {},
     "output_type": "execute_result"
    }
   ],
   "source": [
    "train_target_df.head()"
   ]
  },
  {
   "cell_type": "markdown",
   "metadata": {
    "colab_type": "text",
    "id": "kgXPSibJ2Tr4"
   },
   "source": [
    "Note that `T` is measured in degree centigrade ($^\\circ \\ C$), and the oxygen concentration $[O_2]$ in % Air. We normlize to have a maximum of one. This would not be strictly necessary."
   ]
  },
  {
   "cell_type": "code",
   "execution_count": 6,
   "metadata": {
    "colab": {},
    "colab_type": "code",
    "id": "5_8nAYJFZvE2"
   },
   "outputs": [],
   "source": [
    "train_target_df[['O2']] = train_target_df[['O2']]/100.0\n",
    "train_target_df[['T']] = train_target_df[['T']]/45.0"
   ]
  },
  {
   "cell_type": "markdown",
   "metadata": {
    "colab_type": "text",
    "id": "dHMEf3fIZvE7"
   },
   "source": [
    "Note that the values for $T$ are going from 0 to 1. To obtin the actual temperature in Celsius degrees, you need to multiply by $45$."
   ]
  },
  {
   "cell_type": "code",
   "execution_count": 7,
   "metadata": {
    "colab": {
     "base_uri": "https://localhost:8080/",
     "height": 71
    },
    "colab_type": "code",
    "id": "6lGCP7m5ZvE7",
    "outputId": "832df463-b150-4244-ca54-f52ff6704ee9"
   },
   "outputs": [
    {
     "name": "stdout",
     "output_type": "stream",
     "text": [
      "[0.44444444 0.55555556 0.22222222 0.66666667 0.77777778 0.33333333\n",
      " 0.88888889 1.         0.11111111]\n",
      "[20. 25. 10. 30. 35. 15. 40. 45.  5.]\n"
     ]
    }
   ],
   "source": [
    "print(train_target_df['T'].unique())\n",
    "print(train_target_df['T'].unique()*45)"
   ]
  },
  {
   "cell_type": "markdown",
   "metadata": {
    "colab_type": "text",
    "id": "ZcPxObX6ZvE9"
   },
   "source": [
    "## Dataset Dimensions Checks"
   ]
  },
  {
   "cell_type": "code",
   "execution_count": 8,
   "metadata": {
    "colab": {
     "base_uri": "https://localhost:8080/",
     "height": 35
    },
    "colab_type": "code",
    "id": "iq3EzwubZvE-",
    "outputId": "e5623559-bca0-4d3f-8771-21071b9b4786"
   },
   "outputs": [
    {
     "data": {
      "text/plain": [
       "(3780, 50)"
      ]
     },
     "execution_count": 8,
     "metadata": {},
     "output_type": "execute_result"
    }
   ],
   "source": [
    "train_data_df.shape"
   ]
  },
  {
   "cell_type": "code",
   "execution_count": 9,
   "metadata": {
    "colab": {
     "base_uri": "https://localhost:8080/",
     "height": 35
    },
    "colab_type": "code",
    "id": "DrV36zyBZvFB",
    "outputId": "13453c92-55e5-4355-c4ce-9a45b35560ff"
   },
   "outputs": [
    {
     "data": {
      "text/plain": [
       "(420, 2)"
      ]
     },
     "execution_count": 9,
     "metadata": {},
     "output_type": "execute_result"
    }
   ],
   "source": [
    "train_target_df[train_target_df['T'] == 5./45.].shape"
   ]
  },
  {
   "cell_type": "markdown",
   "metadata": {
    "colab_type": "text",
    "id": "MBa0TH6rZvFD"
   },
   "source": [
    "To check how many values we have for each temperature we can do easily with ```groupby()```."
   ]
  },
  {
   "cell_type": "code",
   "execution_count": 10,
   "metadata": {
    "colab": {
     "base_uri": "https://localhost:8080/",
     "height": 359
    },
    "colab_type": "code",
    "id": "kkXJq1UDZvFD",
    "outputId": "c9060ef6-fe19-41ad-c1d5-d88526120035"
   },
   "outputs": [
    {
     "data": {
      "text/html": [
       "<div>\n",
       "<style scoped>\n",
       "    .dataframe tbody tr th:only-of-type {\n",
       "        vertical-align: middle;\n",
       "    }\n",
       "\n",
       "    .dataframe tbody tr th {\n",
       "        vertical-align: top;\n",
       "    }\n",
       "\n",
       "    .dataframe thead th {\n",
       "        text-align: right;\n",
       "    }\n",
       "</style>\n",
       "<table border=\"1\" class=\"dataframe\">\n",
       "  <thead>\n",
       "    <tr style=\"text-align: right;\">\n",
       "      <th></th>\n",
       "      <th>O2</th>\n",
       "    </tr>\n",
       "    <tr>\n",
       "      <th>T</th>\n",
       "      <th></th>\n",
       "    </tr>\n",
       "  </thead>\n",
       "  <tbody>\n",
       "    <tr>\n",
       "      <th>0.111111</th>\n",
       "      <td>420</td>\n",
       "    </tr>\n",
       "    <tr>\n",
       "      <th>0.222222</th>\n",
       "      <td>420</td>\n",
       "    </tr>\n",
       "    <tr>\n",
       "      <th>0.333333</th>\n",
       "      <td>420</td>\n",
       "    </tr>\n",
       "    <tr>\n",
       "      <th>0.444444</th>\n",
       "      <td>420</td>\n",
       "    </tr>\n",
       "    <tr>\n",
       "      <th>0.555556</th>\n",
       "      <td>420</td>\n",
       "    </tr>\n",
       "    <tr>\n",
       "      <th>0.666667</th>\n",
       "      <td>420</td>\n",
       "    </tr>\n",
       "    <tr>\n",
       "      <th>0.777778</th>\n",
       "      <td>420</td>\n",
       "    </tr>\n",
       "    <tr>\n",
       "      <th>0.888889</th>\n",
       "      <td>420</td>\n",
       "    </tr>\n",
       "    <tr>\n",
       "      <th>1.000000</th>\n",
       "      <td>420</td>\n",
       "    </tr>\n",
       "  </tbody>\n",
       "</table>\n",
       "</div>"
      ],
      "text/plain": [
       "           O2\n",
       "T            \n",
       "0.111111  420\n",
       "0.222222  420\n",
       "0.333333  420\n",
       "0.444444  420\n",
       "0.555556  420\n",
       "0.666667  420\n",
       "0.777778  420\n",
       "0.888889  420\n",
       "1.000000  420"
      ]
     },
     "execution_count": 10,
     "metadata": {},
     "output_type": "execute_result"
    }
   ],
   "source": [
    "train_target_df.groupby('T').count()"
   ]
  },
  {
   "cell_type": "markdown",
   "metadata": {
    "colab_type": "text",
    "id": "6oK-zfT_ZvFF"
   },
   "source": [
    "Each of the temperature has 420 observations."
   ]
  },
  {
   "cell_type": "code",
   "execution_count": 11,
   "metadata": {
    "colab": {
     "base_uri": "https://localhost:8080/",
     "height": 359
    },
    "colab_type": "code",
    "id": "-QEgl7jX2TsJ",
    "outputId": "87137488-486b-4fa0-95ca-44049ced4105"
   },
   "outputs": [
    {
     "data": {
      "text/html": [
       "<div>\n",
       "<style scoped>\n",
       "    .dataframe tbody tr th:only-of-type {\n",
       "        vertical-align: middle;\n",
       "    }\n",
       "\n",
       "    .dataframe tbody tr th {\n",
       "        vertical-align: top;\n",
       "    }\n",
       "\n",
       "    .dataframe thead th {\n",
       "        text-align: right;\n",
       "    }\n",
       "</style>\n",
       "<table border=\"1\" class=\"dataframe\">\n",
       "  <thead>\n",
       "    <tr style=\"text-align: right;\">\n",
       "      <th></th>\n",
       "      <th>T</th>\n",
       "      <th>O2</th>\n",
       "    </tr>\n",
       "    <tr>\n",
       "      <th>T</th>\n",
       "      <th></th>\n",
       "      <th></th>\n",
       "    </tr>\n",
       "  </thead>\n",
       "  <tbody>\n",
       "    <tr>\n",
       "      <th>0.111111</th>\n",
       "      <td>1</td>\n",
       "      <td>21</td>\n",
       "    </tr>\n",
       "    <tr>\n",
       "      <th>0.222222</th>\n",
       "      <td>1</td>\n",
       "      <td>21</td>\n",
       "    </tr>\n",
       "    <tr>\n",
       "      <th>0.333333</th>\n",
       "      <td>1</td>\n",
       "      <td>21</td>\n",
       "    </tr>\n",
       "    <tr>\n",
       "      <th>0.444444</th>\n",
       "      <td>1</td>\n",
       "      <td>21</td>\n",
       "    </tr>\n",
       "    <tr>\n",
       "      <th>0.555556</th>\n",
       "      <td>1</td>\n",
       "      <td>21</td>\n",
       "    </tr>\n",
       "    <tr>\n",
       "      <th>0.666667</th>\n",
       "      <td>1</td>\n",
       "      <td>21</td>\n",
       "    </tr>\n",
       "    <tr>\n",
       "      <th>0.777778</th>\n",
       "      <td>1</td>\n",
       "      <td>21</td>\n",
       "    </tr>\n",
       "    <tr>\n",
       "      <th>0.888889</th>\n",
       "      <td>1</td>\n",
       "      <td>21</td>\n",
       "    </tr>\n",
       "    <tr>\n",
       "      <th>1.000000</th>\n",
       "      <td>1</td>\n",
       "      <td>21</td>\n",
       "    </tr>\n",
       "  </tbody>\n",
       "</table>\n",
       "</div>"
      ],
      "text/plain": [
       "          T  O2\n",
       "T              \n",
       "0.111111  1  21\n",
       "0.222222  1  21\n",
       "0.333333  1  21\n",
       "0.444444  1  21\n",
       "0.555556  1  21\n",
       "0.666667  1  21\n",
       "0.777778  1  21\n",
       "0.888889  1  21\n",
       "1.000000  1  21"
      ]
     },
     "execution_count": 11,
     "metadata": {},
     "output_type": "execute_result"
    }
   ],
   "source": [
    "train_target_df.groupby('T').nunique()"
   ]
  },
  {
   "cell_type": "markdown",
   "metadata": {
    "colab_type": "text",
    "id": "VTgsBFfm2TsL"
   },
   "source": [
    "And each temperature has 21 unique values of oxygen concentration."
   ]
  },
  {
   "cell_type": "code",
   "execution_count": 12,
   "metadata": {
    "colab": {
     "base_uri": "https://localhost:8080/",
     "height": 53
    },
    "colab_type": "code",
    "id": "FJOpZ-nj2TsM",
    "outputId": "4ccbc16f-4fb4-48e1-ea67-6bb776915f19"
   },
   "outputs": [
    {
     "data": {
      "text/plain": [
       "array([  0.,   5.,  10.,  15.,  20.,  25.,  30.,  35.,  40.,  45.,  50.,\n",
       "        55.,  60.,  65.,  70.,  75.,  80.,  85.,  90.,  95., 100.])"
      ]
     },
     "execution_count": 12,
     "metadata": {},
     "output_type": "execute_result"
    }
   ],
   "source": [
    "np.sort(train_target_df[train_target_df['T'] == 5./45.]['O2'].unique())*100"
   ]
  },
  {
   "cell_type": "markdown",
   "metadata": {
    "colab_type": "text",
    "id": "fSqYdC5uZvFF"
   },
   "source": [
    "## Reset the index"
   ]
  },
  {
   "cell_type": "code",
   "execution_count": 13,
   "metadata": {
    "colab": {},
    "colab_type": "code",
    "id": "30duZuryZvFF"
   },
   "outputs": [],
   "source": [
    "train_data_df = train_data_df.reset_index(drop = True);\n",
    "train_target_df = train_target_df.reset_index(drop = True);"
   ]
  },
  {
   "cell_type": "markdown",
   "metadata": {
    "colab_type": "text",
    "id": "w72f8KBRZvFG"
   },
   "source": [
    "The unique values of the temperature ($T$) are, as expected"
   ]
  },
  {
   "cell_type": "code",
   "execution_count": 14,
   "metadata": {
    "colab": {
     "base_uri": "https://localhost:8080/",
     "height": 35
    },
    "colab_type": "code",
    "id": "YdlvVhd6ZvFH",
    "outputId": "221f63b2-5924-4c5d-c203-458ef2edcc21"
   },
   "outputs": [
    {
     "data": {
      "text/plain": [
       "array([ 5., 10., 15., 20., 25., 30., 35., 40., 45.])"
      ]
     },
     "execution_count": 14,
     "metadata": {},
     "output_type": "execute_result"
    }
   ],
   "source": [
    "np.unique(train_target_df['T'])*45"
   ]
  },
  {
   "cell_type": "markdown",
   "metadata": {
    "colab_type": "text",
    "id": "_AGqcSlqZvFI"
   },
   "source": [
    "# Frequency values"
   ]
  },
  {
   "cell_type": "code",
   "execution_count": 15,
   "metadata": {
    "colab": {},
    "colab_type": "code",
    "id": "j6DEKz4GZvFI"
   },
   "outputs": [],
   "source": [
    "wred = [  200.,   300.,   400.,   500.,   600.,   700.,   800.,   900.,\n",
    "        1000.,  1250.,  1500.,  1750.,  2000.,  2250.,  2500.,  2750.,\n",
    "        3000.,  3250.,  3500.,  3750.,  4000.,  4250.,  4500.,  4750.,\n",
    "        5000.,  5250.,  5500.,  5750.,  6000.,  6250.,  6500.,  6750.,\n",
    "        7000.,  7250.,  7500.,  7750.,  8000.,  8250.,  8500.,  8750.,\n",
    "        9000.,  9250.,  9500.,  9750., 10000., 11000., 12000., 13000.,\n",
    "       14000., 15000.]"
   ]
  },
  {
   "cell_type": "markdown",
   "metadata": {
    "colab_type": "text",
    "id": "H3moo3oEZvFJ"
   },
   "source": [
    "# Dataset split"
   ]
  },
  {
   "cell_type": "code",
   "execution_count": 16,
   "metadata": {
    "colab": {},
    "colab_type": "code",
    "id": "syS1hclTZvFK"
   },
   "outputs": [],
   "source": [
    "np.random.seed(42)\n",
    "rnd = np.random.rand(len(train_target_df)) < 0.8"
   ]
  },
  {
   "cell_type": "markdown",
   "metadata": {
    "colab_type": "text",
    "id": "Dw1JEWMH2Tsa"
   },
   "source": [
    "Note that the values of $\\theta$ are negative in the original dataset, and therefore we convert it to positive. This was a test to see if learning was more efficient. A complete comparison has not have been done and is not clear if this really brings benefits. At the moment the working hypothesis is that positive values works better."
   ]
  },
  {
   "cell_type": "code",
   "execution_count": 17,
   "metadata": {
    "colab": {},
    "colab_type": "code",
    "id": "7Kt_BJZFZvFL"
   },
   "outputs": [],
   "source": [
    "data_train = -train_data_df[rnd]\n",
    "data_dev = -train_data_df[~rnd]\n",
    "targets_train = train_target_df[rnd]\n",
    "targets_dev = train_target_df[~rnd]"
   ]
  },
  {
   "cell_type": "markdown",
   "metadata": {
    "colab_type": "text",
    "id": "ZQo6dWSZ2Tsd"
   },
   "source": [
    "Since the inputs are measurements of a phase divided by 90, the values will remain below 1."
   ]
  },
  {
   "cell_type": "code",
   "execution_count": 18,
   "metadata": {
    "colab": {
     "base_uri": "https://localhost:8080/",
     "height": 53
    },
    "colab_type": "code",
    "id": "04MKZ6ak2Tsd",
    "outputId": "cbc33c67-ea7b-4296-b794-24266c758395"
   },
   "outputs": [
    {
     "name": "stdout",
     "output_type": "stream",
     "text": [
      "0.8895333333333335\n",
      "0.015\n"
     ]
    }
   ],
   "source": [
    "print(np.max(np.max(data_train)))\n",
    "print(np.min(np.min(data_train)))"
   ]
  },
  {
   "cell_type": "code",
   "execution_count": 19,
   "metadata": {
    "colab": {
     "base_uri": "https://localhost:8080/",
     "height": 53
    },
    "colab_type": "code",
    "id": "BwflCkBrZvFL",
    "outputId": "15571a04-1cfe-4b47-a6d2-9b65cea3f0be"
   },
   "outputs": [
    {
     "name": "stdout",
     "output_type": "stream",
     "text": [
      "Number of training data observations is  (3024, 50)\n",
      "Number of dev      data observations is  (756, 50)\n"
     ]
    }
   ],
   "source": [
    "print('Number of training data observations is ', data_train.shape)\n",
    "print('Number of dev      data observations is ', data_dev.shape)"
   ]
  },
  {
   "cell_type": "markdown",
   "metadata": {
    "colab_type": "text",
    "id": "sHOTP-_C2Tsh"
   },
   "source": [
    "# Plot 1"
   ]
  },
  {
   "cell_type": "markdown",
   "metadata": {
    "colab_type": "text",
    "id": "Q9OEgp9q2Tsi"
   },
   "source": [
    "Let's check some data observations to get an idea of how they looks like."
   ]
  },
  {
   "cell_type": "code",
   "execution_count": 22,
   "metadata": {
    "colab": {
     "base_uri": "https://localhost:8080/",
     "height": 71
    },
    "colab_type": "code",
    "id": "ZFLtfsMu2Tsj",
    "outputId": "9a2a41c9-b2e0-4a29-aeaf-d79ab4a8d7db"
   },
   "outputs": [
    {
     "data": {
      "text/plain": [
       "T     0.111111\n",
       "O2    0.050000\n",
       "Name: 1760, dtype: float64"
      ]
     },
     "execution_count": 22,
     "metadata": {},
     "output_type": "execute_result"
    }
   ],
   "source": [
    "train_target_df[(train_target_df['T'] == 5./45.) & (train_target_df['O2'] == 5./100.)].iloc[0]"
   ]
  },
  {
   "cell_type": "code",
   "execution_count": 23,
   "metadata": {
    "colab": {
     "base_uri": "https://localhost:8080/",
     "height": 344
    },
    "colab_type": "code",
    "id": "bm_2ckU62Tsl",
    "outputId": "f0bc7f9a-3915-4e53-d02c-1ba560b55f5a"
   },
   "outputs": [
    {
     "data": {
      "image/png": "[encoded data removed]",
      "text/plain": [
       "<Figure size 1152x360 with 2 Axes>"
      ]
     },
     "metadata": {
      "needs_background": "light"
     },
     "output_type": "display_data"
    }
   ],
   "source": [
    "fig = plt.figure(figsize=(16, 5))\n",
    "\n",
    "\n",
    "\n",
    "ax = fig.add_subplot(1, 2, 1)\n",
    "\n",
    "ax.plot(wred, -train_data_df[(train_target_df['T'] == 5./45.) & (train_target_df['O2'] == 5./100.)].iloc[0], label = '$T=5, [O_2]=5 \\%$' )\n",
    "ax.plot(wred, -train_data_df[(train_target_df['T'] == 5./45.) & (train_target_df['O2'] == 25./100.)].iloc[0], label = '$T=5, [O_2]=25 \\%$' )\n",
    "ax.plot(wred, -train_data_df[(train_target_df['T'] == 5./45.) & (train_target_df['O2'] == 45./100.)].iloc[0], label = '$T=5, [O_2]=45 \\%$' )\n",
    "ax.legend(fontsize = 16)\n",
    "ax.tick_params(labelsize=16)\n",
    "plt.xlabel ('Frequency (Hz)', fontsize = 16)\n",
    "plt.ylabel (r'$\\theta / 90$', fontsize = 16)\n",
    "\n",
    "\n",
    "ax2 = fig.add_subplot(1, 2, 2)\n",
    "\n",
    "\n",
    "ax2.plot(wred, -train_data_df[(train_target_df['T'] == 5./45.) & (train_target_df['O2'] == 5./100.)].iloc[0], label = '$T=5, [O_2]=5 \\%$' )\n",
    "ax2.plot(wred, -train_data_df[(train_target_df['T'] == 25./45.) & (train_target_df['O2'] == 5./100.)].iloc[0], label = '$T=25, [O_2]=5 \\%$' )\n",
    "ax2.plot(wred, -train_data_df[(train_target_df['T'] == 45./45.) & (train_target_df['O2'] == 5./100.)].iloc[0], label = '$T=45, [O_2]=5 \\%$' )\n",
    "ax2.legend(fontsize = 16)\n",
    "ax2.tick_params(labelsize=16)\n",
    "plt.xlabel ('Frequency (Hz)', fontsize = 16)\n",
    "plt.ylabel (r'$\\theta / 90$', fontsize = 16)\n",
    "plt.show()"
   ]
  },
  {
   "cell_type": "code",
   "execution_count": 24,
   "metadata": {
    "colab": {
     "base_uri": "https://localhost:8080/",
     "height": 307
    },
    "colab_type": "code",
    "id": "lgTN9TFn2Tso",
    "outputId": "1a8d8107-accd-413c-fdf4-e1c548aaca0c"
   },
   "outputs": [
    {
     "data": {
      "text/plain": [
       "Text(0, 0.5, '$\\\\theta / 90$')"
      ]
     },
     "execution_count": 24,
     "metadata": {},
     "output_type": "execute_result"
    },
    {
     "data": {
      "image/png": "[encoded data removed]",
      "text/plain": [
       "<Figure size 432x288 with 1 Axes>"
      ]
     },
     "metadata": {
      "needs_background": "light"
     },
     "output_type": "display_data"
    }
   ],
   "source": [
    "plt.plot(wred, -train_data_df[(train_target_df['T'] == 5./45.) & (train_target_df['O2'] == 5./100.)].iloc[0], label = '$T=5, [O_2]=5 \\%$' )\n",
    "plt.plot(wred, -train_data_df[(train_target_df['T'] == 15./45.) & (train_target_df['O2'] == 5./100.)].iloc[0], label = '$T=15, [O_2]=5 \\%$' )\n",
    "#plt.plot(wred, -train_data_df[(train_target_df['T'] == 5./45.) & (train_target_df['O2'] == 45./100.)].iloc[0], label = '$T=5, [O_2]=45 \\%$' )\n",
    "plt.legend(fontsize = 16)\n",
    "plt.tick_params(labelsize=16)\n",
    "plt.xlabel ('Frequency (Hz)', fontsize = 16)\n",
    "plt.ylabel (r'$\\theta / 90$', fontsize = 16)"
   ]
  },
  {
   "cell_type": "markdown",
   "metadata": {
    "colab_type": "text",
    "id": "2xK3NNdK2Tsq"
   },
   "source": [
    "**NOTE**: looking at how similar those two curves are, we expect that detecting the temperature will be more difficult."
   ]
  },
  {
   "cell_type": "markdown",
   "metadata": {
    "colab_type": "text",
    "id": "HWgTxCDuZvFQ"
   },
   "source": [
    "## Helper Functions"
   ]
  },
  {
   "cell_type": "code",
   "execution_count": 20,
   "metadata": {
    "colab": {},
    "colab_type": "code",
    "id": "ycNFsXOaZvFR"
   },
   "outputs": [],
   "source": [
    "def MAE_T_list_generator(targets_dev, preds_df):\n",
    "    T_values = targets_dev['T'].unique()*45.0\n",
    "    MAE_list = []\n",
    "    MAE_xticks = T_values\n",
    "    MAE_boxplot = []\n",
    "    for T_ in T_values:\n",
    "        elmts = (targets_dev['T'] == T_/45.0)\n",
    "        tmp_ = targets_dev[elmts]\n",
    "        tmp2_ = preds_df[elmts]\n",
    "        mae_ = np.mean(45.0*np.abs(tmp2_['T'].values- tmp_['T'].values))\n",
    "\n",
    "        MAE_boxplot.append(list(45.0*np.abs(tmp_['T'].values-tmp2_['T'].values)))\n",
    "\n",
    "        MAE_list.append(mae_)\n",
    "        \n",
    "    return MAE_boxplot, MAE_list, MAE_xticks"
   ]
  },
  {
   "cell_type": "code",
   "execution_count": 21,
   "metadata": {
    "colab": {},
    "colab_type": "code",
    "id": "7ESrffFUZvFV"
   },
   "outputs": [],
   "source": [
    "def MAE_O2_list_generator(step, targets_dev, preds_df):\n",
    "    breaks = np.arange(step,101.0, step)\n",
    "    MAE_list = []\n",
    "    MAE_xticks = []\n",
    "    MAE_boxplot = []\n",
    "    for O2_ in breaks:\n",
    "        elmts = (targets_dev['O2'] < O2_/100.0) & (targets_dev['O2'] >= (O2_-step)/100.0)\n",
    "        tmp_ = targets_dev[elmts]\n",
    "        tmp2_ = preds_df[elmts]\n",
    "        mae_ = np.mean(100*np.abs(tmp2_['O2'].values- tmp_['O2'].values))\n",
    "\n",
    "        #print (\"MAE for range [\", int(O2_), \",\", int(O2_-step), \"] is\", mae_)\n",
    "\n",
    "        MAE_boxplot.append(list(100.0*np.abs(tmp_['O2'].values-tmp2_['O2'].values)))\n",
    "\n",
    "        MAE_list.append(mae_)\n",
    "        MAE_xticks.append(\"[\"+ str(int(O2_-step))+ \",\"+ str(int(O2_))+ \"]\")\n",
    "    \n",
    "    return MAE_boxplot, MAE_list, MAE_xticks"
   ]
  },
  {
   "cell_type": "code",
   "execution_count": 22,
   "metadata": {
    "colab": {},
    "colab_type": "code",
    "id": "ix9iIYTcZvFW"
   },
   "outputs": [],
   "source": [
    "# Get predictions\n",
    "def get_predictions(model, targets_dev, data_dev):\n",
    "    preds = model.predict(data_dev)\n",
    "    preds_df = pd.DataFrame(preds)\n",
    "    preds_df.columns = ['O2', 'T']\n",
    "    targets_dev_ = targets_dev.reset_index(drop = True)\n",
    "    preds_df_ = preds_df.reset_index(drop = True)\n",
    "    \n",
    "    return targets_dev_, preds_df_"
   ]
  },
  {
   "cell_type": "code",
   "execution_count": 23,
   "metadata": {
    "colab": {},
    "colab_type": "code",
    "id": "xY5mtw2DZvFW"
   },
   "outputs": [],
   "source": [
    "class CustomCallback(keras.callbacks.Callback):\n",
    "    def on_epoch_end(self, epoch, logs={}):\n",
    "        if (epoch % 1000 == 0):\n",
    "            print (\"Just finished epoch\", epoch)\n",
    "            print (logs)\n",
    "            return\n",
    "        \n",
    "class CustomCallbackProgress(keras.callbacks.Callback):\n",
    "    \n",
    "    def __init__(self, totalEpochs, step):\n",
    "        self.step = 0\n",
    "        self.totalEpochs = totalEpochs\n",
    "        self.step = step\n",
    "        \n",
    "        \n",
    "    def on_epoch_end(self, epoch, logs={}):\n",
    "        if (epoch % 200 == 0):\n",
    "            i = int(epoch / 200)\n",
    "            \n",
    "            if (i > 0):\n",
    "                numberOfEquals = int(self.totalEpochs/200*i)\n",
    "                percent = 100/(self.totalEpochs/200)*i\n",
    "            else:\n",
    "                numberOfEquals = 0\n",
    "                percent = 0\n",
    "                \n",
    "                \n",
    "            print (\"\\r[%-20s] %d%%\" % ('='*i, percent), end='')\n",
    "            \n",
    "            if(percent == 100):\n",
    "                print('')\n",
    "        "
   ]
  },
  {
   "cell_type": "code",
   "execution_count": 24,
   "metadata": {
    "colab": {},
    "colab_type": "code",
    "id": "pvugRkk3ZvFX"
   },
   "outputs": [],
   "source": [
    "def reset_keras():\n",
    "    K.get_session().close()\n",
    "    K.set_session(tf.Session())\n",
    "    K.get_session().run(tf.global_variables_initializer())"
   ]
  },
  {
   "cell_type": "code",
   "execution_count": 25,
   "metadata": {
    "colab": {},
    "colab_type": "code",
    "id": "hf_xjlejZvFZ"
   },
   "outputs": [],
   "source": [
    "def average_runs(n_iter, model_):\n",
    "    MAE_O2_boxplot_avg = [0]*9\n",
    "    MAE_T_boxplot_avg = [0]*5\n",
    "\n",
    "    for i in range(n_iter):\n",
    "        print (\"Training iteration \", i)\n",
    "        \n",
    "        model_.fit(data_train, targets_train, epochs=4001, batch_size=1000,verbose = 0,\n",
    "             validation_data= (data_dev, targets_dev), callbacks = [CustomCallbackProgress(4000,200)])\n",
    "\n",
    "        print(\"Getting predictions for iteration \",i)\n",
    "        targets_dev_, preds_df_ = get_predictions(model_, targets_dev, data_dev)\n",
    "        targets_train_, preds_train_ = get_predictions(model_, targets_train, data_train)\n",
    "\n",
    "        print(\"Generating MAE lists for iteration \", i)\n",
    "        MAE_boxplot_, MAE_list_, MAE_xticks_ = MAE_O2_list_generator(10.0, targets_dev_, preds_df_)\n",
    "        MAE_T_boxplot_, MAE_T_list_, MAE_T_xticks_ = MAE_T_list_generator(targets_dev_, preds_df_)\n",
    "        #MAE_boxplot_train_, MAE_list_train_, MAE_xticks_train_ = MAE_list_generator(10.0, targets_train_, preds_train_)\n",
    "\n",
    "        for j in range(len(MAE_boxplot_)):\n",
    "            MAE_O2_boxplot_avg[j] = MAE_O2_boxplot_avg[j] + np.array(MAE_boxplot_[j])/n_iter\n",
    "            \n",
    "        for j in range(len(MAE_T_boxplot_)):\n",
    "            MAE_T_boxplot_avg[j] = MAE_T_boxplot_avg[j] + np.array(MAE_T_boxplot_[j])/n_iter\n",
    "\n",
    "    return MAE_O2_boxplot_avg, MAE_T_boxplot_avg"
   ]
  },
  {
   "cell_type": "code",
   "execution_count": 26,
   "metadata": {
    "colab": {},
    "colab_type": "code",
    "id": "i5JVJPB1ZvFZ"
   },
   "outputs": [],
   "source": [
    "def get_mae(MAE_boxplot_):\n",
    "    flat_list = [item for sublist in MAE_boxplot_ for item in sublist]\n",
    "    return np.mean(flat_list)"
   ]
  },
  {
   "cell_type": "markdown",
   "metadata": {},
   "source": [
    "# Decorators"
   ]
  },
  {
   "cell_type": "code",
   "execution_count": 27,
   "metadata": {},
   "outputs": [],
   "source": [
    "from functools import wraps\n",
    "from time import time\n",
    "\n",
    "\n",
    "def timing(f):\n",
    "    @wraps(f)\n",
    "    def wrapper(*args, **kwargs):\n",
    "        start = time()\n",
    "        result = f(*args, **kwargs)\n",
    "        end = time()\n",
    "        \n",
    "        elapsed = (end-start)\n",
    "        \n",
    "        h = elapsed // 3600\n",
    "        m = elapsed % 3600 // 60\n",
    "        s = elapsed % 3600 % 60\n",
    "        \n",
    "        print ('Total Elapsed time: {:d} hours, {:d} minutes, {:d} seconds'.format(int(h), int(m), int(s)))\n",
    "        return result\n",
    "    return wrapper"
   ]
  },
  {
   "cell_type": "markdown",
   "metadata": {
    "colab_type": "text",
    "id": "qubDL3VCZvFb"
   },
   "source": [
    "# Random Seed to get reproducible results"
   ]
  },
  {
   "cell_type": "code",
   "execution_count": 28,
   "metadata": {
    "colab": {},
    "colab_type": "code",
    "id": "jd131E5PZvFc"
   },
   "outputs": [],
   "source": [
    "K.clear_session()\n",
    "\n",
    "from numpy.random import seed\n",
    "seed(42)\n",
    "#from tensorflow import set_random_seed\n",
    "#set_random_seed(42)"
   ]
  },
  {
   "cell_type": "markdown",
   "metadata": {},
   "source": [
    "# Custom Callback functions"
   ]
  },
  {
   "cell_type": "code",
   "execution_count": 29,
   "metadata": {
    "colab": {},
    "colab_type": "code",
    "id": "ivJYtwZTZvFe"
   },
   "outputs": [],
   "source": [
    "class CustomCallback_(keras.callbacks.Callback):\n",
    "    def on_epoch_end(self, epoch, logs={}):\n",
    "        #print(logs)\n",
    "        if (epoch % 1000 == 0):\n",
    "            print (\"Just finished epoch\", epoch)\n",
    "            #print(logs)\n",
    "            print (\"Loss.             = \", float(logs.get(\"O2_output_loss\")))\n",
    "            print (\"Validation MAE_O2 = \", 100*float(logs.get(\"val_O2_output_mae\")))\n",
    "            print (\"Validation MAE_T  = \", 45*float(logs.get(\"val_T_output_mae\")))\n",
    "            print (\"Training   MAE_O2 = \", 100*float(logs.get(\"O2_output_mae\")))\n",
    "            print (\"Training   MAE_T  = \", 45*float(logs.get(\"T_output_mae\")))\n",
    "            \n",
    "            return\n",
    "\n",
    "class CustomCallback_epochs_count(keras.callbacks.Callback):\n",
    "    \n",
    "    def __init__(self, n):\n",
    "      self.number_of_epochs = n\n",
    "    \n",
    "    \n",
    "    def on_epoch_end(self, epoch, logs={}):\n",
    "        \n",
    "        if (epoch % self.number_of_epochs == 0):\n",
    "            print (\"Just finished epoch\", epoch)\n",
    "            \n",
    "            return\n",
    "\n",
    "import datetime\n",
    "class CustomCallback_measure_time(keras.callbacks.Callback):\n",
    "\n",
    "    def __init__(self, n):\n",
    "      self.number_of_epochs = n\n",
    "\n",
    "    def on_epoch_begin(self, epoch, logs={}):\n",
    "          self.batch_start_time = datetime.datetime.now()\n",
    "\n",
    "    def on_epoch_end(self, epoch, logs={}):\n",
    "      single_epoch_time_elapsed = datetime.datetime.now() - self.batch_start_time\n",
    "      if ((epoch % self.number_of_epochs == 0) & (epoch > 0)):\n",
    "        estimate_multiple_epochs_time_elapsed = single_epoch_time_elapsed * self.number_of_epochs\n",
    "        estimate_multiple_epochs_time_elapsed = estimate_multiple_epochs_time_elapsed.total_seconds()\n",
    "        msg = str(self.number_of_epochs) + \" epochs - Estimated time to run: {:.2f} seconds, {:.2f} minutes, {:.2f} hours.\"\n",
    "        print(msg.format(estimate_multiple_epochs_time_elapsed, estimate_multiple_epochs_time_elapsed/60.0, estimate_multiple_epochs_time_elapsed/3600.0))"
   ]
  },
  {
   "cell_type": "markdown",
   "metadata": {},
   "source": [
    "# Function to get predictions"
   ]
  },
  {
   "cell_type": "code",
   "execution_count": 30,
   "metadata": {},
   "outputs": [],
   "source": [
    "def get_predictions(model):\n",
    "    (O2T, O2, T) = model.predict(data_dev)\n",
    "    preds_exp_df = pd.DataFrame(O2T)\n",
    "    preds_exp_df.columns = ['O2', 'T']\n",
    "    preds_exp_o2_df = pd.DataFrame(O2[:,0])\n",
    "    preds_exp_o2_df.columns = ['O2']\n",
    "\n",
    "    preds_exp_T_df = pd.DataFrame(T[:,0])\n",
    "    preds_exp_T_df.columns = ['T']\n",
    "    \n",
    "    preds_exp_o2_df = preds_exp_o2_df.reset_index(drop = True)\n",
    "    preds_exp_T_df = preds_exp_T_df.reset_index(drop = True)\n",
    "    \n",
    "    return preds_exp_o2_df, preds_exp_T_df"
   ]
  },
  {
   "cell_type": "markdown",
   "metadata": {
    "colab_type": "text",
    "id": "3jXoqPciZvFd"
   },
   "source": [
    "# Network C"
   ]
  },
  {
   "cell_type": "code",
   "execution_count": 31,
   "metadata": {},
   "outputs": [],
   "source": [
    "def get_compiled_model_1():\n",
    "    K.clear_session()\n",
    "    \n",
    "    input_x = keras.layers.Input(shape = (50,))\n",
    "    lay1 = layers.Dense(50,  activation='sigmoid', dtype = tf.float32)(input_x)\n",
    "    lay2 = layers.Dense(50, activation='sigmoid')(lay1)\n",
    "    lay3 = layers.Dense(50, activation='sigmoid')(lay2)\n",
    "    outboth = layers.Dense(2, activation='sigmoid',name=\"both_output\")(lay3)\n",
    "\n",
    "    lay4 = layers.Dense(5, activation='sigmoid')(lay3)\n",
    "    lay5 = layers.Dense(5, activation='sigmoid')(lay4)\n",
    "    outo2 = layers.Dense(1, activation = 'sigmoid',name=\"O2_output\")(lay5)\n",
    "\n",
    "\n",
    "    lay6 = layers.Dense(5, activation='sigmoid')(lay3)\n",
    "    lay7 = layers.Dense(5, activation='sigmoid')(lay6)\n",
    "    outT = layers.Dense(1, activation = 'sigmoid', name = \"T_output\")(lay7)\n",
    "\n",
    "    #model = Model(input_x, outl)\n",
    "\n",
    "    model = Model(\n",
    "        inputs=input_x,\n",
    "        outputs=[outboth, outo2, outT])\n",
    "    \n",
    "    losses = {\n",
    "        \"both_output\": \"mse\",\n",
    "        \"O2_output\": \"mse\",\n",
    "        \"T_output\": \"mse\"\n",
    "    }\n",
    "\n",
    "    lossWeights = {\"both_output\": 0.3, \"O2_output\": 5.0, \"T_output\": 5.0}\n",
    "\n",
    "    opt = Adam(lr=0.001)\n",
    "    model.compile(optimizer=opt, loss=losses, loss_weights=lossWeights,\n",
    "            metrics=[\"mae\"])\n",
    "    \n",
    "    return model"
   ]
  },
  {
   "cell_type": "code",
   "execution_count": 32,
   "metadata": {},
   "outputs": [],
   "source": [
    "def get_compiled_model():\n",
    "    K.clear_session()\n",
    "    \n",
    "    input_x = keras.layers.Input(shape = (50,))\n",
    "    lay1 = layers.Dense(50,  activation='sigmoid', dtype = tf.float32)(input_x)\n",
    "    lay2 = layers.Dense(50, activation='sigmoid')(lay1)\n",
    "    lay3 = layers.Dense(50, activation='sigmoid')(lay2)\n",
    "    lay4 = layers.Dense(50, activation='sigmoid')(lay3)\n",
    "    outboth = layers.Dense(2, activation='sigmoid',name=\"both_output\")(lay4)\n",
    "\n",
    "    lay4 = layers.Dense(15, activation='sigmoid')(lay3)\n",
    "    lay5 = layers.Dense(15, activation='sigmoid')(lay4)\n",
    "    lay6 = layers.Dense(15, activation='sigmoid')(lay5)\n",
    "    outo2 = layers.Dense(1, activation = 'sigmoid',name=\"O2_output\")(lay6)\n",
    "\n",
    "\n",
    "    lay6 = layers.Dense(15, activation='sigmoid')(lay3)\n",
    "    lay7 = layers.Dense(15, activation='sigmoid')(lay6)\n",
    "    lay8 = layers.Dense(15, activation='sigmoid')(lay7)\n",
    "    outT = layers.Dense(1, activation = 'sigmoid', name = \"T_output\")(lay8)\n",
    "\n",
    "    #model = Model(input_x, outl)\n",
    "\n",
    "    model = Model(\n",
    "        inputs=input_x,\n",
    "        outputs=[outboth, outo2, outT])\n",
    "    \n",
    "    losses = {\n",
    "        \"both_output\": \"mse\",\n",
    "        \"O2_output\": \"mse\",\n",
    "        \"T_output\": \"mse\"\n",
    "    }\n",
    "\n",
    "    lossWeights = {\"both_output\": 0.3, \"O2_output\": 5.0, \"T_output\": 5.0}\n",
    "\n",
    "    opt = Adam(lr=0.001)\n",
    "    model.compile(optimizer=opt, loss=losses, loss_weights=lossWeights,\n",
    "            metrics=[\"mae\"])\n",
    "    \n",
    "    return model"
   ]
  },
  {
   "cell_type": "code",
   "execution_count": 33,
   "metadata": {
    "colab": {},
    "colab_type": "code",
    "id": "zolxZDx0ZvFe"
   },
   "outputs": [],
   "source": [
    "K.clear_session()"
   ]
  },
  {
   "cell_type": "code",
   "execution_count": 100,
   "metadata": {
    "colab": {},
    "colab_type": "code",
    "id": "Iy4UkWvnZvFf"
   },
   "outputs": [],
   "source": [
    "input_x = keras.layers.Input(shape = (50,))\n",
    "lay1 = layers.Dense(50,  activation='sigmoid', dtype = tf.float32)(input_x)\n",
    "lay2 = layers.Dense(50, activation='sigmoid')(lay1)\n",
    "lay3 = layers.Dense(50, activation='sigmoid')(lay2)\n",
    "lay4 = layers.Dense(50, activation='sigmoid')(lay3)\n",
    "outboth = layers.Dense(2, activation='sigmoid',name=\"both_output\")(lay4)\n",
    "\n",
    "lay4 = layers.Dense(15, activation='sigmoid')(lay3)\n",
    "lay5 = layers.Dense(15, activation='sigmoid')(lay4)\n",
    "lay6 = layers.Dense(15, activation='sigmoid')(lay5)\n",
    "outo2 = layers.Dense(1, activation = 'sigmoid',name=\"O2_output\")(lay6)\n",
    "\n",
    "\n",
    "lay6 = layers.Dense(15, activation='sigmoid')(lay3)\n",
    "lay7 = layers.Dense(15, activation='sigmoid')(lay6)\n",
    "lay8 = layers.Dense(15, activation='sigmoid')(lay7)\n",
    "outT = layers.Dense(1, activation = 'sigmoid', name = \"T_output\")(lay8)\n",
    "\n",
    "#model = Model(input_x, outl)\n",
    "\n",
    "model4 = Model(\n",
    "    inputs=input_x,\n",
    "    outputs=[outboth, outo2, outT])"
   ]
  },
  {
   "cell_type": "code",
   "execution_count": 102,
   "metadata": {
    "colab": {},
    "colab_type": "code",
    "id": "GaxNArMlZvFg"
   },
   "outputs": [],
   "source": [
    "losses = {\n",
    "        \"both_output\": \"mse\",\n",
    "        \"O2_output\": \"mse\",\n",
    "        \"T_output\": \"mse\"\n",
    "}\n",
    "\n",
    "lossWeights = {\"both_output\": 0.3, \"O2_output\": 5.0, \"T_output\": 5.0}\n",
    "\n",
    "opt = Adam(lr=0.001)\n",
    "#opt = SGD(lr = 0.001)\n",
    "\n",
    "#opt = SGD(lr=1e-3, momentum=0.9, decay=1e-2/epochs)\n",
    "\n",
    "model4.compile(optimizer=opt, loss=losses, loss_weights=lossWeights,\n",
    "        metrics=[\"mae\"])"
   ]
  },
  {
   "cell_type": "code",
   "execution_count": 34,
   "metadata": {
    "colab": {},
    "colab_type": "code",
    "id": "QAR-gIrbZvFh"
   },
   "outputs": [],
   "source": [
    "targets_train_O2 = targets_train['O2']\n",
    "targets_dev_O2 = targets_dev['O2']\n",
    "targets_train_T = targets_train['T']\n",
    "targets_dev_T = targets_dev['T']"
   ]
  },
  {
   "cell_type": "markdown",
   "metadata": {
    "colab_type": "text",
    "id": "-do_u4EDZvFh"
   },
   "source": [
    "### WORKING HERE"
   ]
  },
  {
   "cell_type": "code",
   "execution_count": 35,
   "metadata": {
    "colab": {
     "base_uri": "https://localhost:8080/",
     "height": 555
    },
    "colab_type": "code",
    "id": "5SOLycrnZvFh",
    "outputId": "20aee6ff-daf1-4e38-fb4c-96975f3390c2"
   },
   "outputs": [],
   "source": [
    "@timing\n",
    "def fit_model(model, in_epochs = 1000, in_batch_size = 32, \n",
    "              in_epoch_interval_measure_time = 500,\n",
    "              in_epoch_interval_print_progress = 200):\n",
    "    H = model.fit(data_train,\n",
    "            {\"both_output\": targets_train, \"O2_output\": targets_train_O2, \"T_output\": targets_train_T},\n",
    "            validation_data=(data_dev,\n",
    "                {\"both_output\": targets_dev, \"O2_output\": targets_dev_O2, \"T_output\": targets_dev_T}),\n",
    "            epochs=in_epochs, batch_size = in_batch_size,\n",
    "            verbose=0, \n",
    "            callbacks = [CustomCallback_(), \n",
    "                         CustomCallback_measure_time(in_epoch_interval_measure_time), \n",
    "                         CustomCallback_epochs_count(in_epoch_interval_print_progress)])\n",
    "\n",
    "    return H"
   ]
  },
  {
   "cell_type": "code",
   "execution_count": 112,
   "metadata": {},
   "outputs": [
    {
     "name": "stdout",
     "output_type": "stream",
     "text": [
      "Just finished epoch 0\n",
      "Loss.             =  0.0916363075375557\n",
      "Validation MAE_O2 =  26.470649242401123\n",
      "Validation MAE_T  =  11.320123672485352\n",
      "Training   MAE_O2 =  26.191306114196777\n",
      "Training   MAE_T  =  11.49484008550644\n",
      "Just finished epoch 0\n",
      "500 epochs - Estimated time to run: 88.47 seconds, 1.47 minutes, 0.02 hours.\n",
      "Just finished epoch 500\n",
      "Just finished epoch 1000\n",
      "Loss.             =  0.010107869282364845\n",
      "Validation MAE_O2 =  8.048204332590103\n",
      "Validation MAE_T  =  10.0086260586977\n",
      "Training   MAE_O2 =  8.001871407032013\n",
      "Training   MAE_T  =  9.811137691140175\n",
      "500 epochs - Estimated time to run: 88.57 seconds, 1.48 minutes, 0.02 hours.\n",
      "Just finished epoch 1000\n",
      "500 epochs - Estimated time to run: 83.27 seconds, 1.39 minutes, 0.02 hours.\n",
      "Just finished epoch 1500\n",
      "Just finished epoch 2000\n",
      "Loss.             =  0.010257662273943424\n",
      "Validation MAE_O2 =  8.086912333965302\n",
      "Validation MAE_T  =  9.899980500340462\n",
      "Training   MAE_O2 =  8.02663266658783\n",
      "Training   MAE_T  =  9.750262945890427\n",
      "500 epochs - Estimated time to run: 83.90 seconds, 1.40 minutes, 0.02 hours.\n",
      "Just finished epoch 2000\n",
      "500 epochs - Estimated time to run: 84.78 seconds, 1.41 minutes, 0.02 hours.\n",
      "Just finished epoch 2500\n",
      "Just finished epoch 3000\n",
      "Loss.             =  0.010179306380450726\n",
      "Validation MAE_O2 =  8.126170188188553\n",
      "Validation MAE_T  =  9.872689694166183\n",
      "Training   MAE_O2 =  7.993921637535095\n",
      "Training   MAE_T  =  9.660980254411697\n",
      "500 epochs - Estimated time to run: 89.34 seconds, 1.49 minutes, 0.02 hours.\n",
      "Just finished epoch 3000\n",
      "500 epochs - Estimated time to run: 82.22 seconds, 1.37 minutes, 0.02 hours.\n",
      "Just finished epoch 3500\n",
      "Just finished epoch 4000\n",
      "Loss.             =  0.0017655957490205765\n",
      "Validation MAE_O2 =  2.737593837082386\n",
      "Validation MAE_T  =  4.072171300649643\n",
      "Training   MAE_O2 =  3.3455748111009598\n",
      "Training   MAE_T  =  4.077317789196968\n",
      "500 epochs - Estimated time to run: 83.82 seconds, 1.40 minutes, 0.02 hours.\n",
      "Just finished epoch 4000\n",
      "500 epochs - Estimated time to run: 82.65 seconds, 1.38 minutes, 0.02 hours.\n",
      "Just finished epoch 4500\n",
      "Just finished epoch 5000\n",
      "Loss.             =  0.001327275182120502\n",
      "Validation MAE_O2 =  1.4395524747669697\n",
      "Validation MAE_T  =  2.0646956004202366\n",
      "Training   MAE_O2 =  2.6576321572065353\n",
      "Training   MAE_T  =  3.5784487053751945\n",
      "500 epochs - Estimated time to run: 82.95 seconds, 1.38 minutes, 0.02 hours.\n",
      "Just finished epoch 5000\n",
      "500 epochs - Estimated time to run: 82.44 seconds, 1.37 minutes, 0.02 hours.\n",
      "Just finished epoch 5500\n",
      "Just finished epoch 6000\n",
      "Loss.             =  0.0004825284122489393\n",
      "Validation MAE_O2 =  1.7985939979553223\n",
      "Validation MAE_T  =  3.081473261117935\n",
      "Training   MAE_O2 =  1.710258424282074\n",
      "Training   MAE_T  =  2.676311172544956\n",
      "500 epochs - Estimated time to run: 82.88 seconds, 1.38 minutes, 0.02 hours.\n",
      "Just finished epoch 6000\n",
      "500 epochs - Estimated time to run: 82.62 seconds, 1.38 minutes, 0.02 hours.\n",
      "Just finished epoch 6500\n",
      "Just finished epoch 7000\n",
      "Loss.             =  0.0005242928164079785\n",
      "Validation MAE_O2 =  2.175479382276535\n",
      "Validation MAE_T  =  3.4452947974205017\n",
      "Training   MAE_O2 =  1.7712196335196495\n",
      "Training   MAE_T  =  2.6741382479667664\n",
      "500 epochs - Estimated time to run: 83.45 seconds, 1.39 minutes, 0.02 hours.\n",
      "Just finished epoch 7000\n",
      "500 epochs - Estimated time to run: 85.43 seconds, 1.42 minutes, 0.02 hours.\n",
      "Just finished epoch 7500\n",
      "Just finished epoch 8000\n",
      "Loss.             =  0.000401313096517697\n",
      "Validation MAE_O2 =  2.2168464958667755\n",
      "Validation MAE_T  =  2.695328202098608\n",
      "Training   MAE_O2 =  1.5847865492105484\n",
      "Training   MAE_T  =  2.4677189625799656\n",
      "500 epochs - Estimated time to run: 82.52 seconds, 1.38 minutes, 0.02 hours.\n",
      "Just finished epoch 8000\n",
      "500 epochs - Estimated time to run: 83.29 seconds, 1.39 minutes, 0.02 hours.\n",
      "Just finished epoch 8500\n",
      "Just finished epoch 9000\n",
      "Loss.             =  0.000395435985410586\n",
      "Validation MAE_O2 =  1.079960260540247\n",
      "Validation MAE_T  =  2.1609220281243324\n",
      "Training   MAE_O2 =  1.5028092078864574\n",
      "Training   MAE_T  =  2.391535174101591\n",
      "500 epochs - Estimated time to run: 86.60 seconds, 1.44 minutes, 0.02 hours.\n",
      "Just finished epoch 9000\n",
      "500 epochs - Estimated time to run: 87.85 seconds, 1.46 minutes, 0.02 hours.\n",
      "Just finished epoch 9500\n",
      "Just finished epoch 10000\n",
      "Loss.             =  0.00021247428958304226\n",
      "Validation MAE_O2 =  1.1901802383363247\n",
      "Validation MAE_T  =  1.4260328002274036\n",
      "Training   MAE_O2 =  1.080216933041811\n",
      "Training   MAE_T  =  1.7285331711173058\n",
      "500 epochs - Estimated time to run: 87.10 seconds, 1.45 minutes, 0.02 hours.\n",
      "Just finished epoch 10000\n",
      "500 epochs - Estimated time to run: 88.71 seconds, 1.48 minutes, 0.02 hours.\n",
      "Just finished epoch 10500\n",
      "Just finished epoch 11000\n",
      "Loss.             =  0.00022798754798714072\n",
      "Validation MAE_O2 =  1.9642019644379616\n",
      "Validation MAE_T  =  2.517028357833624\n",
      "Training   MAE_O2 =  1.0865574702620506\n",
      "Training   MAE_T  =  1.73996239900589\n",
      "500 epochs - Estimated time to run: 107.72 seconds, 1.80 minutes, 0.03 hours.\n",
      "Just finished epoch 11000\n",
      "500 epochs - Estimated time to run: 76.42 seconds, 1.27 minutes, 0.02 hours.\n",
      "Just finished epoch 11500\n",
      "Just finished epoch 12000\n",
      "Loss.             =  0.0003142520727124065\n",
      "Validation MAE_O2 =  0.8991686627268791\n",
      "Validation MAE_T  =  1.4982972107827663\n",
      "Training   MAE_O2 =  1.3646263629198074\n",
      "Training   MAE_T  =  2.016697134822607\n",
      "500 epochs - Estimated time to run: 78.71 seconds, 1.31 minutes, 0.02 hours.\n",
      "Just finished epoch 12000\n",
      "500 epochs - Estimated time to run: 79.03 seconds, 1.32 minutes, 0.02 hours.\n",
      "Just finished epoch 12500\n",
      "Just finished epoch 13000\n",
      "Loss.             =  0.0003241717640776187\n",
      "Validation MAE_O2 =  2.9983192682266235\n",
      "Validation MAE_T  =  4.562424793839455\n",
      "Training   MAE_O2 =  1.3213240541517735\n",
      "Training   MAE_T  =  2.0286039635539055\n",
      "500 epochs - Estimated time to run: 79.84 seconds, 1.33 minutes, 0.02 hours.\n",
      "Just finished epoch 13000\n",
      "500 epochs - Estimated time to run: 96.76 seconds, 1.61 minutes, 0.03 hours.\n",
      "Just finished epoch 13500\n",
      "Just finished epoch 14000\n",
      "Loss.             =  0.00026030009030364454\n",
      "Validation MAE_O2 =  1.309213601052761\n",
      "Validation MAE_T  =  2.277644220739603\n",
      "Training   MAE_O2 =  1.234078872948885\n",
      "Training   MAE_T  =  1.790059357881546\n",
      "500 epochs - Estimated time to run: 90.96 seconds, 1.52 minutes, 0.03 hours.\n",
      "Just finished epoch 14000\n",
      "500 epochs - Estimated time to run: 115.02 seconds, 1.92 minutes, 0.03 hours.\n",
      "Just finished epoch 14500\n",
      "Just finished epoch 15000\n",
      "Loss.             =  0.00024501903681084514\n",
      "Validation MAE_O2 =  0.8188827894628048\n",
      "Validation MAE_T  =  0.8094787783920765\n",
      "Training   MAE_O2 =  1.1717191897332668\n",
      "Training   MAE_T  =  1.6875164955854416\n",
      "500 epochs - Estimated time to run: 90.53 seconds, 1.51 minutes, 0.03 hours.\n",
      "Just finished epoch 15000\n",
      "500 epochs - Estimated time to run: 93.92 seconds, 1.57 minutes, 0.03 hours.\n",
      "Just finished epoch 15500\n",
      "Just finished epoch 16000\n",
      "Loss.             =  0.00013214832870289683\n",
      "Validation MAE_O2 =  1.0204068385064602\n",
      "Validation MAE_T  =  1.226049056276679\n",
      "Training   MAE_O2 =  0.83869444206357\n",
      "Training   MAE_T  =  1.2577464804053307\n",
      "500 epochs - Estimated time to run: 96.12 seconds, 1.60 minutes, 0.03 hours.\n",
      "Just finished epoch 16000\n",
      "500 epochs - Estimated time to run: 87.84 seconds, 1.46 minutes, 0.02 hours.\n",
      "Just finished epoch 16500\n",
      "Just finished epoch 17000\n",
      "Loss.             =  0.00020753496210090816\n",
      "Validation MAE_O2 =  0.5462959408760071\n",
      "Validation MAE_T  =  0.7693072501569986\n",
      "Training   MAE_O2 =  1.0406254790723324\n",
      "Training   MAE_T  =  1.5594259276986122\n",
      "500 epochs - Estimated time to run: 82.70 seconds, 1.38 minutes, 0.02 hours.\n",
      "Just finished epoch 17000\n",
      "500 epochs - Estimated time to run: 97.59 seconds, 1.63 minutes, 0.03 hours.\n",
      "Just finished epoch 17500\n",
      "Just finished epoch 18000\n",
      "Loss.             =  0.00017701202887110412\n",
      "Validation MAE_O2 =  0.996501836925745\n",
      "Validation MAE_T  =  1.4392294362187386\n",
      "Training   MAE_O2 =  1.0140415281057358\n",
      "Training   MAE_T  =  1.4568160101771355\n",
      "500 epochs - Estimated time to run: 91.14 seconds, 1.52 minutes, 0.03 hours.\n",
      "Just finished epoch 18000\n",
      "500 epochs - Estimated time to run: 82.42 seconds, 1.37 minutes, 0.02 hours.\n",
      "Just finished epoch 18500\n",
      "Just finished epoch 19000\n",
      "Loss.             =  0.00024289681459777057\n",
      "Validation MAE_O2 =  0.4922707565128803\n",
      "Validation MAE_T  =  0.9199683554470539\n",
      "Training   MAE_O2 =  1.1505546048283577\n",
      "Training   MAE_T  =  1.6298604011535645\n",
      "500 epochs - Estimated time to run: 95.77 seconds, 1.60 minutes, 0.03 hours.\n",
      "Just finished epoch 19000\n",
      "500 epochs - Estimated time to run: 97.60 seconds, 1.63 minutes, 0.03 hours.\n",
      "Just finished epoch 19500\n",
      "Just finished epoch 20000\n",
      "Loss.             =  0.00012018291454296559\n",
      "Validation MAE_O2 =  1.5200063586235046\n",
      "Validation MAE_T  =  1.9783844612538815\n",
      "Training   MAE_O2 =  0.8254070766270161\n",
      "Training   MAE_T  =  1.1555256508290768\n",
      "500 epochs - Estimated time to run: 81.85 seconds, 1.36 minutes, 0.02 hours.\n",
      "Just finished epoch 20000\n",
      "Total Elapsed time: 0 hours, 58 minutes, 42 seconds\n"
     ]
    }
   ],
   "source": [
    "model4 = get_compiled_model()\n",
    "H = fit_model(model4, in_epochs = 20001, in_batch_size = 32, in_epoch_interval_measure_time = 500, in_epoch_interval_print_progress = 500)"
   ]
  },
  {
   "cell_type": "code",
   "execution_count": 117,
   "metadata": {},
   "outputs": [
    {
     "name": "stdout",
     "output_type": "stream",
     "text": [
      "Saved model to disk\n"
     ]
    }
   ],
   "source": [
    "# Total Elapsed time: 0 hours, 58 minutes, 42 seconds\n",
    "model4.save(\"model_20001_32_1e-3_4x50_3x15_3x15.h5\")\n",
    "print(\"Saved model to disk\")"
   ]
  },
  {
   "cell_type": "code",
   "execution_count": 118,
   "metadata": {
    "colab": {},
    "colab_type": "code",
    "id": "FQsWWKRg2TtQ",
    "outputId": "f84d5a99-e670-42e4-97d8-0cd67977d9e5"
   },
   "outputs": [
    {
     "data": {
      "image/png": "[encoded data removed]",
      "text/plain": [
       "<Figure size 432x288 with 1 Axes>"
      ]
     },
     "metadata": {
      "needs_background": "light"
     },
     "output_type": "display_data"
    }
   ],
   "source": [
    "plt.plot(H.history['loss'])\n",
    "plt.plot(H.history['val_loss'])\n",
    "plt.title('Model loss')\n",
    "plt.ylabel('Loss')\n",
    "plt.xlabel('Epoch')\n",
    "plt.legend(['Train', 'Test'], loc='upper left')\n",
    "#plt.xlim(90000, None)\n",
    "#plt.ylim(None, 0.1)\n",
    "plt.show()"
   ]
  },
  {
   "cell_type": "code",
   "execution_count": null,
   "metadata": {},
   "outputs": [],
   "source": [
    "# eventually load the model again\n",
    "model = load_model(\"model_20001_32_1e-3_4x50_3x15_3x15.h5\")"
   ]
  },
  {
   "cell_type": "code",
   "execution_count": 139,
   "metadata": {},
   "outputs": [],
   "source": [
    "targets_dev = targets_dev.reset_index(drop = True)\n",
    "preds_exp_o2_df, preds_exp_T_df = get_predictions(model4)"
   ]
  },
  {
   "cell_type": "code",
   "execution_count": 140,
   "metadata": {},
   "outputs": [],
   "source": [
    "MAE_boxplot_C, MAE_list_C, MAE_xticks_C = MAE_O2_list_generator(10.0, targets_dev, preds_exp_o2_df)\n",
    "MAET_boxplot_C_MTL, MAET_list_C_MTL, MAET_xticks_C_MTL = MAE_T_list_generator(targets_dev, preds_exp_T_df)\n",
    "MAE_boxplot_C_flat = [item for sublist in MAE_boxplot_C for item in sublist]\n",
    "MAET_boxplot_C_MTL_flat = [item for sublist in MAET_boxplot_C_MTL for item in sublist]"
   ]
  },
  {
   "cell_type": "code",
   "execution_count": 141,
   "metadata": {},
   "outputs": [
    {
     "name": "stdout",
     "output_type": "stream",
     "text": [
      "[0.06873983441961269, 1.3901613285280254, 1.131828108303983, 1.3717486129866725, 1.6567139228185004, 1.5664960107495685, 1.8273449885217767, 1.9478440586524695, 2.417588580738414, 2.630367453505354]\n",
      "1.6008832899224377\n"
     ]
    }
   ],
   "source": [
    "print(MAE_list_C)\n",
    "print(np.mean(MAE_list_C))"
   ]
  },
  {
   "cell_type": "code",
   "execution_count": 142,
   "metadata": {},
   "outputs": [
    {
     "data": {
      "text/plain": [
       "(-0.1, 10)"
      ]
     },
     "execution_count": 142,
     "metadata": {},
     "output_type": "execute_result"
    },
    {
     "data": {
      "text/plain": [
       "<Figure size 432x288 with 0 Axes>"
      ]
     },
     "metadata": {},
     "output_type": "display_data"
    },
    {
     "data": {
      "image/png": "[encoded data removed]",
      "text/plain": [
       "<Figure size 1152x360 with 2 Axes>"
      ]
     },
     "metadata": {
      "needs_background": "light"
     },
     "output_type": "display_data"
    }
   ],
   "source": [
    "maxy = 10.0\n",
    "\n",
    "\n",
    "plt.rc('font', family='arial')\n",
    "plt.rc('xtick', labelsize='x-small')\n",
    "plt.rc('ytick', labelsize='x-small')\n",
    "    \n",
    "plt.tight_layout()\n",
    "\n",
    "fig = plt.figure(figsize=(16, 5))\n",
    "\n",
    "\n",
    "\n",
    "ax = fig.add_subplot(1, 2, 1)\n",
    "\n",
    "\n",
    "\n",
    "bp = ax.boxplot(MAE_boxplot_C, whis = 'range')\n",
    "ax.set_xticklabels([5, 15, 25, 35, 45])\n",
    "\n",
    "for whisker in bp['whiskers']:\n",
    "    whisker.set(color = 'black', linewidth = 2)\n",
    "for cap in bp['caps']:\n",
    "    cap.set(color = 'black', linewidth = 2)\n",
    "for box in bp['boxes']:\n",
    "    box.set(color = 'black', linewidth = 2)\n",
    "for median in bp['medians']:\n",
    "    median.set(color = 'red', linewidth = 2)\n",
    "for outl in bp['fliers']:\n",
    "    outl.set(linewidth = 0, ms = 0, mew = 1.4, markerfacecolor = 'none')\n",
    "    \n",
    "#plt.ylim(-0.2, 2.9)\n",
    "    \n",
    "#ax.text(1, 1.5, 'Value for $[O_2] = 100$ % Air', fontsize = 18)\n",
    "\n",
    "legend_elements = [\n",
    "                  Line2D([0], [0],  lw = 2, color='red', label='epochs=20k; mb=32; 4x50,3x15,3x15',\n",
    "                          markerfacecolor='none', markeredgewidth=1.4, markersize=8)]\n",
    "ax.legend(handles=legend_elements, loc='upper left', fontsize = 16)\n",
    "\n",
    "plt.xticks(range(1,len(MAE_xticks_C)+1), MAE_xticks_C, size='small', rotation = 'vertical')\n",
    "\n",
    "#plt.grid()\n",
    "\n",
    "plt.ylabel('Absolute Error (% air)', fontsize = 16)\n",
    "plt.xlabel('$[O_2]$ ranges (% air)', fontsize = 16)\n",
    "plt.tick_params(labelsize=16)\n",
    "plt.ylim(-0.1,maxy)\n",
    "\n",
    "\n",
    "\n",
    "\n",
    "ax = fig.add_subplot(1, 2, 2)\n",
    "\n",
    "\n",
    "bp = ax.boxplot(MAET_boxplot_C_MTL, whis = 'range')\n",
    "ax.set_xticklabels([5, 15, 25, 35, 45])\n",
    "\n",
    "for whisker in bp['whiskers']:\n",
    "    whisker.set(color = 'black', linewidth = 2)\n",
    "for cap in bp['caps']:\n",
    "    cap.set(color = 'black', linewidth = 2)\n",
    "for box in bp['boxes']:\n",
    "    box.set(color = 'black', linewidth = 2)\n",
    "for median in bp['medians']:\n",
    "    median.set(color = 'red', linewidth = 2)\n",
    "for outl in bp['fliers']:\n",
    "    outl.set(linewidth = 0, ms = 0, mew = 1.4, markerfacecolor = 'none')\n",
    "    \n",
    "#plt.ylim(-0.2, 2.9)\n",
    "    \n",
    "#ax.text(1, 1.5, 'Value for $[O_2] = 100$ % Air', fontsize = 18)\n",
    "\n",
    "legend_elements = [\n",
    "                  Line2D([0], [0],  lw = 2, color='red', label='epochs=20k; mb=32; 4x50,3x15,3x15',\n",
    "                          markerfacecolor='none', markeredgewidth=1.4, markersize=8)]\n",
    "ax.legend(handles=legend_elements, loc='upper left', fontsize = 16)\n",
    "\n",
    "plt.xticks(range(1,len(MAET_xticks_C_MTL)+1), MAET_xticks_C_MTL, size='small', rotation = 'vertical')\n",
    "\n",
    "#plt.grid()\n",
    "\n",
    "plt.ylabel('Absolute Error ($^\\circ$ C)', fontsize = 16)\n",
    "plt.xlabel('T ($^\\circ$ C)', fontsize = 16)\n",
    "plt.tick_params(labelsize=16)\n",
    "plt.ylim(-0.1,10)\n",
    "\n",
    "#fig.savefig('../paper/results_theta90.eps')"
   ]
  },
  {
   "cell_type": "markdown",
   "metadata": {},
   "source": [
    "## KDEs"
   ]
  },
  {
   "cell_type": "code",
   "execution_count": 291,
   "metadata": {},
   "outputs": [
    {
     "data": {
      "text/plain": [
       "<Figure size 432x288 with 0 Axes>"
      ]
     },
     "metadata": {},
     "output_type": "display_data"
    },
    {
     "data": {
      "image/png": "[encoded data removed]",
      "text/plain": [
       "<Figure size 1152x360 with 2 Axes>"
      ]
     },
     "metadata": {
      "needs_background": "light"
     },
     "output_type": "display_data"
    },
    {
     "name": "stderr",
     "output_type": "stream",
     "text": [
      "W0220 18:10:42.126319 4642483648 backend_ps.py:804] The PostScript backend does not support transparency; partially transparent artists will be rendered opaque.\n",
      "W0220 18:10:42.126940 4642483648 backend_ps.py:804] The PostScript backend does not support transparency; partially transparent artists will be rendered opaque.\n",
      "W0220 18:10:42.178219 4642483648 backend_ps.py:804] The PostScript backend does not support transparency; partially transparent artists will be rendered opaque.\n",
      "W0220 18:10:42.178786 4642483648 backend_ps.py:804] The PostScript backend does not support transparency; partially transparent artists will be rendered opaque.\n",
      "W0220 18:10:42.384837 4642483648 backend_ps.py:804] The PostScript backend does not support transparency; partially transparent artists will be rendered opaque.\n",
      "W0220 18:10:42.385418 4642483648 backend_ps.py:804] The PostScript backend does not support transparency; partially transparent artists will be rendered opaque.\n",
      "W0220 18:10:42.431041 4642483648 backend_ps.py:804] The PostScript backend does not support transparency; partially transparent artists will be rendered opaque.\n",
      "W0220 18:10:42.431596 4642483648 backend_ps.py:804] The PostScript backend does not support transparency; partially transparent artists will be rendered opaque.\n"
     ]
    }
   ],
   "source": [
    "\n",
    "    \n",
    "plt.tight_layout()\n",
    "\n",
    "fig = plt.figure(figsize=(16, 5))\n",
    "\n",
    "\n",
    "\n",
    "ax = fig.add_subplot(1, 2, 1)\n",
    "\n",
    "\n",
    "sns.distplot(MAE_boxplot_C_flat, color = 'gray', hist = True, label = 'AE$_{[O_2]}$ KDE',rug_kws={\"color\": \"gray\"},\n",
    "                  kde_kws={\"color\": \"k\", \"lw\": 3, \"label\": \"KDE\"},\n",
    "                   hist_kws={\"histtype\": \"bar\", \"linewidth\": 0,\n",
    "                             \"alpha\": 1, \"color\": \"gray\"})\n",
    "\n",
    "\n",
    "custom_lines = [Patch(facecolor='gray', edgecolor='gray',\n",
    "                         label='$AE_T$ KDE'),\n",
    "                Line2D([0], [0], color='blue', lw=4)\n",
    "                ]\n",
    "\n",
    "ax.legend(custom_lines, ['AE$_{[O_2]}$ KDE', 'MAE$_{[O_2]}$'], fontsize = 16)\n",
    "\n",
    "#plt.xticks(range(1,len(neta50_O2['MAE_xticks'])+1), neta50_O2['MAE_xticks'], size='small', rotation = 'vertical')\n",
    "\n",
    "#plt.grid()\n",
    "\n",
    "plt.ylabel('Counts (normalized)', fontsize = 16)\n",
    "plt.xlabel('AE$_{[O_2]}$ (% air)', fontsize = 16)\n",
    "plt.tick_params(labelsize=16)\n",
    "plt.ylim(0, 1.0)\n",
    "plt.xlim(0, 10)\n",
    "\n",
    "m_ = np.mean(MAE_boxplot_C_flat)\n",
    "\n",
    "plt.plot([m_, m_], [0, 0.555], lw = 4, color = 'blue')\n",
    "\n",
    "\n",
    "ax = fig.add_subplot(1, 2,2)\n",
    "# MAE_boxplot_C, MAE_list_C, MAE_xticks_C\n",
    "sns.distplot(MAET_boxplot_C_MTL_flat,   hist = True, label = '$AE_T$ KDE',rug_kws={\"color\": \"gray\"},\n",
    "                  kde_kws={\"color\": \"k\", \"lw\": 3, \"label\": \"KDE\"},\n",
    "                   hist_kws={\"histtype\": \"bar\", \"linewidth\": 0,\n",
    "                             \"alpha\": 1, \"color\": \"gray\"})\n",
    "    \n",
    "#plt.ylim(-0.2, 2.9)\n",
    "    \n",
    "#ax.text(1, 1.5, 'Value for $[O_2] = 100$ % Air', fontsize = 18)\n",
    "\n",
    "plt.xlabel('$AE_T$ ($^\\circ$C)', fontsize = 16)\n",
    "plt.tick_params(labelsize=16)\n",
    "\n",
    "custom_lines = [Patch(facecolor='gray', edgecolor='gray',\n",
    "                         label='$AE_T$ KDE'),\n",
    "                Line2D([0], [0], color='blue', lw=4)\n",
    "                ]\n",
    "\n",
    "ax.legend(custom_lines, ['$AE_T$ KDE', 'MAE$_T$'], fontsize = 16)\n",
    "#ax.legend( fontsize = 16)\n",
    "plt.ylim(0, 1.0)\n",
    "plt.xlim(0, 10)\n",
    "\n",
    "m_ = np.mean(MAET_boxplot_C_MTL_flat)\n",
    "\n",
    "plt.plot([m_, m_], [0, 0.56], lw = 4, color = 'blue')\n",
    "\n",
    "\n",
    "plt.show()\n",
    "\n",
    "#fig.savefig('/content/gdrive/My Drive/plot3.eps', format='eps', dpi=300,bbox_inches='tight')\n",
    "\n",
    "\n",
    "\n",
    "fig.savefig('../paper/model_20001_32_1e-3_4x50_3x15_3x15_theta90.eps', format='eps', dpi=300,bbox_inches='tight')"
   ]
  },
  {
   "cell_type": "code",
   "execution_count": 292,
   "metadata": {},
   "outputs": [
    {
     "data": {
      "text/plain": [
       "0.8008241758241759"
      ]
     },
     "execution_count": 292,
     "metadata": {},
     "output_type": "execute_result"
    }
   ],
   "source": [
    "np.sum(np.array(MAE_boxplot_C_flat) < 2.19)/len(MAE_boxplot_C_flat)"
   ]
  },
  {
   "cell_type": "code",
   "execution_count": 277,
   "metadata": {},
   "outputs": [
    {
     "name": "stdout",
     "output_type": "stream",
     "text": [
      "100% ->  3.9000000000000004\n",
      "80% ->  2.19\n"
     ]
    },
    {
     "data": {
      "image/png": "[encoded data removed]",
      "text/plain": [
       "<Figure size 432x288 with 1 Axes>"
      ]
     },
     "metadata": {
      "needs_background": "light"
     },
     "output_type": "display_data"
    }
   ],
   "source": [
    "ax = []\n",
    "xarray = np.arange(0, 5, 0.1)\n",
    "for x_ in xarray:\n",
    "    ax.append(np.sum(np.array(MAE_boxplot_C_flat) < x_)/len(MAE_boxplot_C_flat))\n",
    "    \n",
    "minidx = np.min(np.where(np.array(ax) > 0.9999))\n",
    "\n",
    "\n",
    "fig = plt.figure()\n",
    "plt.plot(np.arange(0, 5, 0.1), ax, lw = 3)\n",
    "plt.tick_params(labelsize=16)\n",
    "plt.xlabel('AE$_{[O_2]}$ (% air)', fontsize = 16)\n",
    "plt.ylabel('Error Limited Accuracy', fontsize = 16)\n",
    "plt.xlim(0,None)\n",
    "plt.ylim(0, None)\n",
    "\n",
    "#plt.plot([1.1957, 1.1957], [0, 0.25], lw = 2, color = 'black')\n",
    "#plt.text(0.3,0.3,'25%', fontsize = 16)\n",
    "\n",
    "plt.plot([2.19, 2.19], [0, 0.8], lw = 2, color = 'black')\n",
    "#plt.plot([0, 2.19], [0.8, 0.8], lw = 2, color = 'black')\n",
    "plt.text(1.2,0.1,'80%', fontsize = 16)\n",
    "\n",
    "\n",
    "plt.plot([xarray[minidx], xarray[minidx]], [0, 1.0], lw = 2, color = 'red')\n",
    "\n",
    "plt.text(4.2,0.1,'100%', fontsize = 16, color = 'red')\n",
    "print('100% -> ', xarray[minidx])\n",
    "print('80% -> ', 2.19)\n",
    "\n",
    "plt.show()\n",
    "\n",
    "fig.savefig('../paper/ELA_model_20001_32_1e-3_4x50_3x15_3x15_theta90.eps', format='eps', dpi=300,bbox_inches='tight')"
   ]
  },
  {
   "cell_type": "markdown",
   "metadata": {},
   "source": [
    "## Simpler network"
   ]
  },
  {
   "cell_type": "code",
   "execution_count": null,
   "metadata": {},
   "outputs": [
    {
     "name": "stdout",
     "output_type": "stream",
     "text": [
      "Just finished epoch 0\n",
      "Loss.             =  0.09247762709856033\n",
      "Validation MAE_O2 =  26.504501700401306\n",
      "Validation MAE_T  =  12.393270134925842\n",
      "Training   MAE_O2 =  26.25834047794342\n",
      "Training   MAE_T  =  12.861862778663635\n",
      "Just finished epoch 0\n",
      "500 epochs - Estimated time to run: 76.28 seconds, 1.27 minutes, 0.02 hours.\n",
      "Just finished epoch 500\n"
     ]
    }
   ],
   "source": [
    "model2 = get_compiled_model_1() # Simpler network\n",
    "H2 = fit_model(model2, in_epochs = 20001, in_batch_size = 32, in_epoch_interval_measure_time = 500, in_epoch_interval_print_progress = 500)\n",
    "model2.save(\"model_20001_32_1e-3_3x50_2x5_2x5.h5\")"
   ]
  },
  {
   "cell_type": "code",
   "execution_count": null,
   "metadata": {},
   "outputs": [],
   "source": [
    "plt.plot(H2.history['loss'])\n",
    "plt.plot(H2.history['val_loss'])\n",
    "plt.title('Model loss')\n",
    "plt.ylabel('Loss')\n",
    "plt.xlabel('Epoch')\n",
    "plt.legend(['Train', 'Test'], loc='upper left')\n",
    "#plt.xlim(90000, None)\n",
    "#plt.ylim(None, 0.1)\n",
    "plt.show()"
   ]
  },
  {
   "cell_type": "code",
   "execution_count": null,
   "metadata": {},
   "outputs": [],
   "source": [
    "# Eventually load the model again\n",
    "model = load_model(\"model_20001_32_1e-3_3x50_2x5_2x5.h5\")"
   ]
  },
  {
   "cell_type": "code",
   "execution_count": null,
   "metadata": {},
   "outputs": [],
   "source": [
    "targets_dev = targets_dev.reset_index(drop = True)\n",
    "preds_exp_o2_df, preds_exp_T_df = get_predictions(model2)"
   ]
  },
  {
   "cell_type": "code",
   "execution_count": null,
   "metadata": {},
   "outputs": [],
   "source": [
    "MAE_boxplot_C, MAE_list_C, MAE_xticks_C = MAE_O2_list_generator(10.0, targets_dev, preds_exp_o2_df)\n",
    "MAET_boxplot_C_MTL, MAET_list_C_MTL, MAET_xticks_C_MTL = MAE_T_list_generator(targets_dev, preds_exp_T_df)\n",
    "MAE_boxplot_C_flat = [item for sublist in MAE_boxplot_C for item in sublist]\n",
    "MAET_boxplot_C_MTL_flat = [item for sublist in MAET_boxplot_C_MTL for item in sublist]"
   ]
  },
  {
   "cell_type": "code",
   "execution_count": null,
   "metadata": {},
   "outputs": [],
   "source": [
    "print(MAE_list_C)\n",
    "print(np.mean(MAE_list_C))"
   ]
  },
  {
   "cell_type": "code",
   "execution_count": null,
   "metadata": {},
   "outputs": [],
   "source": [
    "maxy = 10.0\n",
    "\n",
    "\n",
    "plt.rc('font', family='arial')\n",
    "plt.rc('xtick', labelsize='x-small')\n",
    "plt.rc('ytick', labelsize='x-small')\n",
    "    \n",
    "plt.tight_layout()\n",
    "\n",
    "fig = plt.figure(figsize=(16, 5))\n",
    "\n",
    "\n",
    "\n",
    "ax = fig.add_subplot(1, 2, 1)\n",
    "\n",
    "\n",
    "\n",
    "bp = ax.boxplot(MAE_boxplot_C, whis = 'range')\n",
    "ax.set_xticklabels([5, 15, 25, 35, 45])\n",
    "\n",
    "for whisker in bp['whiskers']:\n",
    "    whisker.set(color = 'black', linewidth = 2)\n",
    "for cap in bp['caps']:\n",
    "    cap.set(color = 'black', linewidth = 2)\n",
    "for box in bp['boxes']:\n",
    "    box.set(color = 'black', linewidth = 2)\n",
    "for median in bp['medians']:\n",
    "    median.set(color = 'red', linewidth = 2)\n",
    "for outl in bp['fliers']:\n",
    "    outl.set(linewidth = 0, ms = 0, mew = 1.4, markerfacecolor = 'none')\n",
    "    \n",
    "#plt.ylim(-0.2, 2.9)\n",
    "    \n",
    "#ax.text(1, 1.5, 'Value for $[O_2] = 100$ % Air', fontsize = 18)\n",
    "\n",
    "legend_elements = [\n",
    "                  Line2D([0], [0],  lw = 2, color='red', label='epochs=20k; mb=32; 4x50,3x15,3x15',\n",
    "                          markerfacecolor='none', markeredgewidth=1.4, markersize=8)]\n",
    "ax.legend(handles=legend_elements, loc='upper left', fontsize = 16)\n",
    "\n",
    "plt.xticks(range(1,len(MAE_xticks_C)+1), MAE_xticks_C, size='small', rotation = 'vertical')\n",
    "\n",
    "#plt.grid()\n",
    "\n",
    "plt.ylabel('Absolute Error (% air)', fontsize = 16)\n",
    "plt.xlabel('$[O_2]$ ranges (% air)', fontsize = 16)\n",
    "plt.tick_params(labelsize=16)\n",
    "plt.ylim(-0.1,maxy)\n",
    "\n",
    "\n",
    "\n",
    "\n",
    "ax = fig.add_subplot(1, 2, 2)\n",
    "\n",
    "\n",
    "bp = ax.boxplot(MAET_boxplot_C_MTL, whis = 'range')\n",
    "ax.set_xticklabels([5, 15, 25, 35, 45])\n",
    "\n",
    "for whisker in bp['whiskers']:\n",
    "    whisker.set(color = 'black', linewidth = 2)\n",
    "for cap in bp['caps']:\n",
    "    cap.set(color = 'black', linewidth = 2)\n",
    "for box in bp['boxes']:\n",
    "    box.set(color = 'black', linewidth = 2)\n",
    "for median in bp['medians']:\n",
    "    median.set(color = 'red', linewidth = 2)\n",
    "for outl in bp['fliers']:\n",
    "    outl.set(linewidth = 0, ms = 0, mew = 1.4, markerfacecolor = 'none')\n",
    "    \n",
    "#plt.ylim(-0.2, 2.9)\n",
    "    \n",
    "#ax.text(1, 1.5, 'Value for $[O_2] = 100$ % Air', fontsize = 18)\n",
    "\n",
    "legend_elements = [\n",
    "                  Line2D([0], [0],  lw = 2, color='red', label='epochs=20k; mb=32; 4x50,3x15,3x15',\n",
    "                          markerfacecolor='none', markeredgewidth=1.4, markersize=8)]\n",
    "ax.legend(handles=legend_elements, loc='upper left', fontsize = 16)\n",
    "\n",
    "plt.xticks(range(1,len(MAET_xticks_C_MTL)+1), MAET_xticks_C_MTL, size='small', rotation = 'vertical')\n",
    "\n",
    "#plt.grid()\n",
    "\n",
    "plt.ylabel('Absolute Error ($^\\circ$ C)', fontsize = 16)\n",
    "plt.xlabel('T ($^\\circ$ C)', fontsize = 16)\n",
    "plt.tick_params(labelsize=16)\n",
    "plt.ylim(-0.1,10)\n",
    "\n",
    "#fig.savefig('../paper/results_theta90.eps')"
   ]
  },
  {
   "cell_type": "markdown",
   "metadata": {},
   "source": [
    "# Predictions of models"
   ]
  },
  {
   "cell_type": "markdown",
   "metadata": {},
   "source": [
    "## Functions to get the predictions"
   ]
  },
  {
   "cell_type": "code",
   "execution_count": 120,
   "metadata": {},
   "outputs": [],
   "source": [
    "targets_dev = targets_dev.reset_index(drop = True)\n",
    "preds_exp_o2_df, preds_exp_T_df = get_predictions(model4)"
   ]
  },
  {
   "cell_type": "code",
   "execution_count": 121,
   "metadata": {
    "colab": {},
    "colab_type": "code",
    "id": "M-UMGLNJZvFi"
   },
   "outputs": [],
   "source": [
    "#(O2T, O2, T) = model4.predict(data_dev)\n",
    "#preds_exp_df = pd.DataFrame(O2T)\n",
    "#preds_exp_df.columns = ['O2', 'T']\n",
    "#preds_exp_o2_df = pd.DataFrame(O2[:,0])\n",
    "#preds_exp_o2_df.columns = ['O2']\n",
    "\n",
    "#preds_exp_T_df = pd.DataFrame(T[:,0])\n",
    "#preds_exp_T_df.columns = ['T']"
   ]
  },
  {
   "cell_type": "code",
   "execution_count": 122,
   "metadata": {
    "colab": {},
    "colab_type": "code",
    "id": "TAQKhZDjZvFi"
   },
   "outputs": [],
   "source": [
    "#targets_dev = targets_dev.reset_index(drop = True)\n",
    "#preds_exp_o2_df = preds_exp_o2_df.reset_index(drop = True)\n",
    "#preds_exp_T_df = preds_exp_T_df.reset_index(drop = True)"
   ]
  },
  {
   "cell_type": "code",
   "execution_count": 123,
   "metadata": {
    "colab": {},
    "colab_type": "code",
    "id": "mzVtcUYsZvFj"
   },
   "outputs": [],
   "source": [
    "MAE_boxplot_C, MAE_list_C, MAE_xticks_C = MAE_O2_list_generator(10.0, targets_dev, preds_exp_o2_df)\n",
    "MAET_boxplot_C_MTL, MAET_list_C_MTL, MAET_xticks_C_MTL = MAE_T_list_generator(targets_dev, preds_exp_T_df)"
   ]
  },
  {
   "cell_type": "code",
   "execution_count": 124,
   "metadata": {
    "colab": {
     "base_uri": "https://localhost:8080/",
     "height": 197
    },
    "colab_type": "code",
    "id": "XeoJZecyZvFj",
    "outputId": "7e78f0e9-41ec-4bbd-dffe-2258a145120e"
   },
   "outputs": [
    {
     "data": {
      "text/plain": [
       "[0.06873983441961269,\n",
       " 1.3901613285280254,\n",
       " 1.131828108303983,\n",
       " 1.3717486129866725,\n",
       " 1.6567139228185004,\n",
       " 1.5664960107495685,\n",
       " 1.8273449885217767,\n",
       " 1.9478440586524695,\n",
       " 2.417588580738414,\n",
       " 2.630367453505354]"
      ]
     },
     "execution_count": 124,
     "metadata": {},
     "output_type": "execute_result"
    }
   ],
   "source": [
    "MAE_list_C"
   ]
  },
  {
   "cell_type": "code",
   "execution_count": 125,
   "metadata": {
    "colab": {
     "base_uri": "https://localhost:8080/",
     "height": 35
    },
    "colab_type": "code",
    "id": "TPq8KP8FZvFk",
    "outputId": "d8b6af4a-487c-48f5-ac8b-b54b2b8a4eb5"
   },
   "outputs": [
    {
     "data": {
      "text/plain": [
       "1.6008832899224377"
      ]
     },
     "execution_count": 125,
     "metadata": {},
     "output_type": "execute_result"
    }
   ],
   "source": [
    "np.mean(MAE_list_C) \n",
    "# 64/32/32 -->\n",
    "# 50       -->\n",
    "# 80       -->"
   ]
  },
  {
   "cell_type": "code",
   "execution_count": 126,
   "metadata": {
    "colab": {
     "base_uri": "https://localhost:8080/",
     "height": 443
    },
    "colab_type": "code",
    "id": "ic8H7_tdZvFk",
    "outputId": "3e9744f5-3694-4d8b-e73c-b8778d5d7982"
   },
   "outputs": [
    {
     "data": {
      "text/plain": [
       "<matplotlib.legend.Legend at 0x7f8890f32a20>"
      ]
     },
     "execution_count": 126,
     "metadata": {},
     "output_type": "execute_result"
    },
    {
     "data": {
      "text/plain": [
       "<Figure size 432x288 with 0 Axes>"
      ]
     },
     "metadata": {},
     "output_type": "display_data"
    },
    {
     "data": {
      "image/png": "[encoded data removed]",
      "text/plain": [
       "<Figure size 576x360 with 1 Axes>"
      ]
     },
     "metadata": {
      "needs_background": "light"
     },
     "output_type": "display_data"
    }
   ],
   "source": [
    "maxx = 4.0\n",
    "\n",
    "plt.rc('font', family='arial')\n",
    "plt.rc('xtick', labelsize='x-small')\n",
    "plt.rc('ytick', labelsize='x-small')\n",
    "    \n",
    "plt.tight_layout()\n",
    "\n",
    "fig = plt.figure(figsize=(8, 5))\n",
    "\n",
    "ax = fig.add_subplot(1, 1, 1)\n",
    "\n",
    "#bp = ax.scatter(range(1,len(MAE_xticks50)+1),MAE_list50, s = 60, color = 'black', label = 'Network A (50/50/50)')\n",
    "#bp = ax.scatter(range(1,len(MAE_xticks_MTL)+1),MAE_list_MTL, s = 60, color = 'red', label = 'Network B (MTL)')\n",
    "bp = ax.scatter(range(1,len(MAE_xticks_C)+1),MAE_list_C, s = 60, color = 'blue', label = 'Network C (MTL)')\n",
    "plt.ylim(0, 2)\n",
    "plt.xticks(range(1,len(MAE_xticks_C)+1), MAE_xticks_C, size='small', rotation = 'vertical')\n",
    "#plt.grid()\n",
    "plt.ylabel('Mean Absolute Error (% air)', fontsize = 16)\n",
    "plt.xlabel('$[O_2]$ ranges', fontsize = 16)\n",
    "plt.tick_params(labelsize=16)\n",
    "plt.legend(loc = 'upper left', fontsize = 16)\n",
    "#plt.xlim(0,9.5)\n",
    "\n",
    "\n",
    "#fig.savefig('Figures/absolute_error_for_T_boxplots.eps', format='eps', dpi=300,bbox_inches='tight')"
   ]
  },
  {
   "cell_type": "code",
   "execution_count": 127,
   "metadata": {
    "colab": {
     "base_uri": "https://localhost:8080/",
     "height": 443
    },
    "colab_type": "code",
    "id": "etGRCxNYdQXu",
    "outputId": "da4a0bc9-dd64-43fd-8d96-7753f9d333af"
   },
   "outputs": [
    {
     "name": "stderr",
     "output_type": "stream",
     "text": [
      "W0220 16:34:13.607456 4642483648 backend_ps.py:804] The PostScript backend does not support transparency; partially transparent artists will be rendered opaque.\n",
      "W0220 16:34:13.608336 4642483648 backend_ps.py:804] The PostScript backend does not support transparency; partially transparent artists will be rendered opaque.\n",
      "W0220 16:34:13.698975 4642483648 backend_ps.py:804] The PostScript backend does not support transparency; partially transparent artists will be rendered opaque.\n",
      "W0220 16:34:13.699743 4642483648 backend_ps.py:804] The PostScript backend does not support transparency; partially transparent artists will be rendered opaque.\n"
     ]
    },
    {
     "data": {
      "text/plain": [
       "<Figure size 432x288 with 0 Axes>"
      ]
     },
     "metadata": {},
     "output_type": "display_data"
    },
    {
     "data": {
      "image/png": "[encoded data removed]",
      "text/plain": [
       "<Figure size 1152x360 with 2 Axes>"
      ]
     },
     "metadata": {
      "needs_background": "light"
     },
     "output_type": "display_data"
    }
   ],
   "source": [
    "maxy = 20.0\n",
    "\n",
    "\n",
    "plt.rc('font', family='arial')\n",
    "plt.rc('xtick', labelsize='x-small')\n",
    "plt.rc('ytick', labelsize='x-small')\n",
    "    \n",
    "plt.tight_layout()\n",
    "\n",
    "fig = plt.figure(figsize=(16, 5))\n",
    "\n",
    "\n",
    "\n",
    "ax = fig.add_subplot(1, 2, 1)\n",
    "\n",
    "\n",
    "\n",
    "bp = ax.boxplot(MAE_boxplot_C, whis = 'range')\n",
    "ax.set_xticklabels([5, 15, 25, 35, 45])\n",
    "\n",
    "for whisker in bp['whiskers']:\n",
    "    whisker.set(color = 'black', linewidth = 2)\n",
    "for cap in bp['caps']:\n",
    "    cap.set(color = 'black', linewidth = 2)\n",
    "for box in bp['boxes']:\n",
    "    box.set(color = 'black', linewidth = 2)\n",
    "for median in bp['medians']:\n",
    "    median.set(color = 'red', linewidth = 2)\n",
    "for outl in bp['fliers']:\n",
    "    outl.set(linewidth = 0, ms = 0, mew = 1.4, markerfacecolor = 'none')\n",
    "    \n",
    "#plt.ylim(-0.2, 2.9)\n",
    "    \n",
    "#ax.text(1, 1.5, 'Value for $[O_2] = 100$ % Air', fontsize = 18)\n",
    "\n",
    "legend_elements = [\n",
    "                  Line2D([0], [0],  lw = 2, color='red', label='Network C',\n",
    "                          markerfacecolor='none', markeredgewidth=1.4, markersize=8)]\n",
    "ax.legend(handles=legend_elements, loc='upper left', fontsize = 16)\n",
    "\n",
    "plt.xticks(range(1,len(MAE_xticks_C)+1), MAE_xticks_C, size='small', rotation = 'vertical')\n",
    "\n",
    "#plt.grid()\n",
    "\n",
    "plt.ylabel('Absolute Error (% air)', fontsize = 16)\n",
    "plt.xlabel('$[O_2]$ ranges (% air)', fontsize = 16)\n",
    "plt.tick_params(labelsize=16)\n",
    "plt.ylim(-0.1,maxy)\n",
    "\n",
    "\n",
    "\n",
    "\n",
    "ax = fig.add_subplot(1, 2, 2)\n",
    "\n",
    "\n",
    "bp = ax.boxplot(MAET_boxplot_C_MTL, whis = 'range')\n",
    "ax.set_xticklabels([5, 15, 25, 35, 45])\n",
    "\n",
    "for whisker in bp['whiskers']:\n",
    "    whisker.set(color = 'black', linewidth = 2)\n",
    "for cap in bp['caps']:\n",
    "    cap.set(color = 'black', linewidth = 2)\n",
    "for box in bp['boxes']:\n",
    "    box.set(color = 'black', linewidth = 2)\n",
    "for median in bp['medians']:\n",
    "    median.set(color = 'red', linewidth = 2)\n",
    "for outl in bp['fliers']:\n",
    "    outl.set(linewidth = 0, ms = 0, mew = 1.4, markerfacecolor = 'none')\n",
    "    \n",
    "#plt.ylim(-0.2, 2.9)\n",
    "    \n",
    "#ax.text(1, 1.5, 'Value for $[O_2] = 100$ % Air', fontsize = 18)\n",
    "\n",
    "legend_elements = [\n",
    "                  Line2D([0], [0],  lw = 2, color='red', label='Network C',\n",
    "                          markerfacecolor='none', markeredgewidth=1.4, markersize=8)]\n",
    "ax.legend(handles=legend_elements, loc='upper left', fontsize = 16)\n",
    "\n",
    "plt.xticks(range(1,len(MAET_xticks_C_MTL)+1), MAET_xticks_C_MTL, size='small', rotation = 'vertical')\n",
    "\n",
    "#plt.grid()\n",
    "\n",
    "plt.ylabel('Absolute Error ($^\\circ$ C)', fontsize = 16)\n",
    "plt.xlabel('T ($^\\circ$ C)', fontsize = 16)\n",
    "plt.tick_params(labelsize=16)\n",
    "plt.ylim(-0.1,45)\n",
    "\n",
    "fig.savefig('../paper/results_theta90.eps')"
   ]
  },
  {
   "cell_type": "code",
   "execution_count": null,
   "metadata": {
    "colab": {},
    "colab_type": "code",
    "id": "ZaXv4N3XPgO8",
    "outputId": "0d984aef-70fc-42b4-ece4-2d65493fe1f4"
   },
   "outputs": [
    {
     "ename": "FileNotFoundError",
     "evalue": "[Errno 2] No such file or directory: '/content/gdrive/My Drive/data/netc_O2.csv'",
     "output_type": "error",
     "traceback": [
      "\u001b[0;31m---------------------------------------------------------------------------\u001b[0m",
      "\u001b[0;31mFileNotFoundError\u001b[0m                         Traceback (most recent call last)",
      "\u001b[0;32m<ipython-input-55-c8f9775d89c6>\u001b[0m in \u001b[0;36m<module>\u001b[0;34m\u001b[0m\n\u001b[1;32m      1\u001b[0m \u001b[0mpdo2\u001b[0m \u001b[0;34m=\u001b[0m \u001b[0mpd\u001b[0m\u001b[0;34m.\u001b[0m\u001b[0mDataFrame\u001b[0m\u001b[0;34m(\u001b[0m\u001b[0;34m{\u001b[0m\u001b[0;34m'MAE_list'\u001b[0m\u001b[0;34m:\u001b[0m \u001b[0mMAE_list_C\u001b[0m\u001b[0;34m,\u001b[0m \u001b[0;34m'MAE_xticks'\u001b[0m\u001b[0;34m:\u001b[0m \u001b[0mMAE_xticks_C\u001b[0m\u001b[0;34m,\u001b[0m \u001b[0;34m'MAE_boxplot'\u001b[0m\u001b[0;34m:\u001b[0m \u001b[0mMAE_boxplot_C\u001b[0m\u001b[0;34m}\u001b[0m\u001b[0;34m)\u001b[0m\u001b[0;34m\u001b[0m\u001b[0;34m\u001b[0m\u001b[0m\n\u001b[1;32m      2\u001b[0m \u001b[0mpdT\u001b[0m \u001b[0;34m=\u001b[0m \u001b[0mpd\u001b[0m\u001b[0;34m.\u001b[0m\u001b[0mDataFrame\u001b[0m\u001b[0;34m(\u001b[0m\u001b[0;34m{\u001b[0m\u001b[0;34m'MAET_list'\u001b[0m\u001b[0;34m:\u001b[0m \u001b[0mMAET_list_C_MTL\u001b[0m\u001b[0;34m,\u001b[0m\u001b[0;34m'MAET_boxplot'\u001b[0m\u001b[0;34m:\u001b[0m \u001b[0mMAET_boxplot_C_MTL\u001b[0m\u001b[0;34m,\u001b[0m \u001b[0;34m'MAET_xticks'\u001b[0m\u001b[0;34m:\u001b[0m\u001b[0mMAET_xticks_C_MTL\u001b[0m\u001b[0;34m}\u001b[0m\u001b[0;34m)\u001b[0m\u001b[0;34m\u001b[0m\u001b[0;34m\u001b[0m\u001b[0m\n\u001b[0;32m----> 3\u001b[0;31m \u001b[0mpdo2\u001b[0m\u001b[0;34m.\u001b[0m\u001b[0mto_csv\u001b[0m\u001b[0;34m(\u001b[0m\u001b[0;34m'/content/gdrive/My Drive/data/netc_O2.csv'\u001b[0m\u001b[0;34m)\u001b[0m\u001b[0;34m\u001b[0m\u001b[0;34m\u001b[0m\u001b[0m\n\u001b[0m\u001b[1;32m      4\u001b[0m \u001b[0mpdT\u001b[0m\u001b[0;34m.\u001b[0m\u001b[0mto_csv\u001b[0m\u001b[0;34m(\u001b[0m\u001b[0;34m'/content/gdrive/My Drive/data/netc_T.csv'\u001b[0m\u001b[0;34m)\u001b[0m\u001b[0;34m\u001b[0m\u001b[0;34m\u001b[0m\u001b[0m\n",
      "\u001b[0;32m~/Python-Environments/tfenv2/lib/python3.7/site-packages/pandas/core/generic.py\u001b[0m in \u001b[0;36mto_csv\u001b[0;34m(self, path_or_buf, sep, na_rep, float_format, columns, header, index, index_label, mode, encoding, compression, quoting, quotechar, line_terminator, chunksize, date_format, doublequote, escapechar, decimal)\u001b[0m\n\u001b[1;32m   3226\u001b[0m             \u001b[0mdecimal\u001b[0m\u001b[0;34m=\u001b[0m\u001b[0mdecimal\u001b[0m\u001b[0;34m,\u001b[0m\u001b[0;34m\u001b[0m\u001b[0;34m\u001b[0m\u001b[0m\n\u001b[1;32m   3227\u001b[0m         )\n\u001b[0;32m-> 3228\u001b[0;31m         \u001b[0mformatter\u001b[0m\u001b[0;34m.\u001b[0m\u001b[0msave\u001b[0m\u001b[0;34m(\u001b[0m\u001b[0;34m)\u001b[0m\u001b[0;34m\u001b[0m\u001b[0;34m\u001b[0m\u001b[0m\n\u001b[0m\u001b[1;32m   3229\u001b[0m \u001b[0;34m\u001b[0m\u001b[0m\n\u001b[1;32m   3230\u001b[0m         \u001b[0;32mif\u001b[0m \u001b[0mpath_or_buf\u001b[0m \u001b[0;32mis\u001b[0m \u001b[0;32mNone\u001b[0m\u001b[0;34m:\u001b[0m\u001b[0;34m\u001b[0m\u001b[0;34m\u001b[0m\u001b[0m\n",
      "\u001b[0;32m~/Python-Environments/tfenv2/lib/python3.7/site-packages/pandas/io/formats/csvs.py\u001b[0m in \u001b[0;36msave\u001b[0;34m(self)\u001b[0m\n\u001b[1;32m    181\u001b[0m                 \u001b[0mself\u001b[0m\u001b[0;34m.\u001b[0m\u001b[0mmode\u001b[0m\u001b[0;34m,\u001b[0m\u001b[0;34m\u001b[0m\u001b[0;34m\u001b[0m\u001b[0m\n\u001b[1;32m    182\u001b[0m                 \u001b[0mencoding\u001b[0m\u001b[0;34m=\u001b[0m\u001b[0mself\u001b[0m\u001b[0;34m.\u001b[0m\u001b[0mencoding\u001b[0m\u001b[0;34m,\u001b[0m\u001b[0;34m\u001b[0m\u001b[0;34m\u001b[0m\u001b[0m\n\u001b[0;32m--> 183\u001b[0;31m                 \u001b[0mcompression\u001b[0m\u001b[0;34m=\u001b[0m\u001b[0mself\u001b[0m\u001b[0;34m.\u001b[0m\u001b[0mcompression\u001b[0m\u001b[0;34m,\u001b[0m\u001b[0;34m\u001b[0m\u001b[0;34m\u001b[0m\u001b[0m\n\u001b[0m\u001b[1;32m    184\u001b[0m             )\n\u001b[1;32m    185\u001b[0m             \u001b[0mclose\u001b[0m \u001b[0;34m=\u001b[0m \u001b[0;32mTrue\u001b[0m\u001b[0;34m\u001b[0m\u001b[0;34m\u001b[0m\u001b[0m\n",
      "\u001b[0;32m~/Python-Environments/tfenv2/lib/python3.7/site-packages/pandas/io/common.py\u001b[0m in \u001b[0;36m_get_handle\u001b[0;34m(path_or_buf, mode, encoding, compression, memory_map, is_text)\u001b[0m\n\u001b[1;32m    397\u001b[0m         \u001b[0;32mif\u001b[0m \u001b[0mencoding\u001b[0m\u001b[0;34m:\u001b[0m\u001b[0;34m\u001b[0m\u001b[0;34m\u001b[0m\u001b[0m\n\u001b[1;32m    398\u001b[0m             \u001b[0;31m# Encoding\u001b[0m\u001b[0;34m\u001b[0m\u001b[0;34m\u001b[0m\u001b[0;34m\u001b[0m\u001b[0m\n\u001b[0;32m--> 399\u001b[0;31m             \u001b[0mf\u001b[0m \u001b[0;34m=\u001b[0m \u001b[0mopen\u001b[0m\u001b[0;34m(\u001b[0m\u001b[0mpath_or_buf\u001b[0m\u001b[0;34m,\u001b[0m \u001b[0mmode\u001b[0m\u001b[0;34m,\u001b[0m \u001b[0mencoding\u001b[0m\u001b[0;34m=\u001b[0m\u001b[0mencoding\u001b[0m\u001b[0;34m,\u001b[0m \u001b[0mnewline\u001b[0m\u001b[0;34m=\u001b[0m\u001b[0;34m\"\"\u001b[0m\u001b[0;34m)\u001b[0m\u001b[0;34m\u001b[0m\u001b[0;34m\u001b[0m\u001b[0m\n\u001b[0m\u001b[1;32m    400\u001b[0m         \u001b[0;32melif\u001b[0m \u001b[0mis_text\u001b[0m\u001b[0;34m:\u001b[0m\u001b[0;34m\u001b[0m\u001b[0;34m\u001b[0m\u001b[0m\n\u001b[1;32m    401\u001b[0m             \u001b[0;31m# No explicit encoding\u001b[0m\u001b[0;34m\u001b[0m\u001b[0;34m\u001b[0m\u001b[0;34m\u001b[0m\u001b[0m\n",
      "\u001b[0;31mFileNotFoundError\u001b[0m: [Errno 2] No such file or directory: '/content/gdrive/My Drive/data/netc_O2.csv'"
     ]
    }
   ],
   "source": [
    "pdo2 = pd.DataFrame({'MAE_list': MAE_list_C, 'MAE_xticks': MAE_xticks_C, 'MAE_boxplot': MAE_boxplot_C})\n",
    "pdT = pd.DataFrame({'MAET_list': MAET_list_C_MTL,'MAET_boxplot': MAET_boxplot_C_MTL, 'MAET_xticks':MAET_xticks_C_MTL})\n",
    "pdo2.to_csv('/content/gdrive/My Drive/data/netc_O2.csv')\n",
    "pdT.to_csv('/content/gdrive/My Drive/data/netc_T.csv')"
   ]
  },
  {
   "cell_type": "code",
   "execution_count": null,
   "metadata": {
    "colab": {
     "base_uri": "https://localhost:8080/",
     "height": 35
    },
    "colab_type": "code",
    "id": "KqiYyQDqP2Vq",
    "outputId": "b4d2c13c-ec0c-48fc-ccd1-a8bebc36ec93"
   },
   "outputs": [
    {
     "data": {
      "text/plain": [
       "1.7852302603341024"
      ]
     },
     "execution_count": 185,
     "metadata": {
      "tags": []
     },
     "output_type": "execute_result"
    }
   ],
   "source": [
    "np.mean(MAE_list_C)"
   ]
  },
  {
   "cell_type": "code",
   "execution_count": null,
   "metadata": {
    "colab": {
     "base_uri": "https://localhost:8080/",
     "height": 35
    },
    "colab_type": "code",
    "id": "nKhkjo7Wtk_k",
    "outputId": "8aaa38bf-5b67-4c20-8468-ccde92757795"
   },
   "outputs": [
    {
     "data": {
      "text/plain": [
       "2.105622284124125"
      ]
     },
     "execution_count": 186,
     "metadata": {
      "tags": []
     },
     "output_type": "execute_result"
    }
   ],
   "source": [
    "np.mean(MAET_list_C_MTL)"
   ]
  },
  {
   "cell_type": "code",
   "execution_count": null,
   "metadata": {
    "colab": {},
    "colab_type": "code",
    "id": "wML_1MgiIn3-"
   },
   "outputs": [],
   "source": [
    "MAE_boxplot_C_flat = [item for sublist in MAE_boxplot_C for item in sublist]\n",
    "MAET_boxplot_C_MTL_flat = [item for sublist in MAET_boxplot_C_MTL for item in sublist]\n",
    "#type(MAE_boxplot_C)"
   ]
  },
  {
   "cell_type": "code",
   "execution_count": null,
   "metadata": {
    "colab": {
     "base_uri": "https://localhost:8080/",
     "height": 373
    },
    "colab_type": "code",
    "id": "o60W8avLIZmv",
    "outputId": "fc55f5e4-dd8c-4601-b26e-78067e8c34c1"
   },
   "outputs": [
    {
     "data": {
      "text/plain": [
       "<Figure size 432x288 with 0 Axes>"
      ]
     },
     "metadata": {
      "tags": []
     },
     "output_type": "display_data"
    },
    {
     "data": {
      "image/png": "[encoded data removed]",
      "text/plain": [
       "<Figure size 1152x360 with 2 Axes>"
      ]
     },
     "metadata": {
      "needs_background": "light",
      "tags": []
     },
     "output_type": "display_data"
    }
   ],
   "source": [
    "\n",
    "    \n",
    "plt.tight_layout()\n",
    "\n",
    "fig = plt.figure(figsize=(16, 5))\n",
    "\n",
    "\n",
    "\n",
    "ax = fig.add_subplot(1, 2, 1)\n",
    "\n",
    "\n",
    "sns.distplot(MAE_boxplot_C_flat, color = 'black', hist = False, label = 'AE$_{[O_2]}$ KDE')\n",
    "\n",
    "\n",
    "ax.legend( fontsize = 16)\n",
    "\n",
    "#plt.xticks(range(1,len(neta50_O2['MAE_xticks'])+1), neta50_O2['MAE_xticks'], size='small', rotation = 'vertical')\n",
    "\n",
    "#plt.grid()\n",
    "\n",
    "plt.ylabel('Counts (normalized)', fontsize = 16)\n",
    "plt.xlabel('AE$_{[O_2]}$ (% air)', fontsize = 16)\n",
    "plt.tick_params(labelsize=16)\n",
    "plt.ylim(0, 0.5)\n",
    "plt.xlim(0, 20)\n",
    "\n",
    "\n",
    "ax = fig.add_subplot(1, 2,2)\n",
    "# MAE_boxplot_C, MAE_list_C, MAE_xticks_C\n",
    "sns.distplot(MAET_boxplot_C_MTL_flat,  color = 'black', hist = False, label = 'Temperature KDE')\n",
    "    \n",
    "#plt.ylim(-0.2, 2.9)\n",
    "    \n",
    "#ax.text(1, 1.5, 'Value for $[O_2] = 100$ % Air', fontsize = 18)\n",
    "\n",
    "plt.xlabel('T (C)', fontsize = 16)\n",
    "plt.tick_params(labelsize=16)\n",
    "ax.legend( fontsize = 16)\n",
    "plt.ylim(0, 0.5)\n",
    "plt.xlim(0, 20)\n",
    "\n",
    "\n",
    "\n",
    "\n",
    "plt.show()\n",
    "\n",
    "#fig.savefig('/content/gdrive/My Drive/plot3.eps', format='eps', dpi=300,bbox_inches='tight')\n",
    "\n",
    "\n",
    "\n",
    "#fig.savefig('Figures/absolute_error_for_T_boxplots.eps', format='eps', dpi=300,bbox_inches='tight')"
   ]
  },
  {
   "cell_type": "markdown",
   "metadata": {
    "colab_type": "text",
    "id": "m7C-IbK3ZvFw"
   },
   "source": [
    "# VERSIONS"
   ]
  },
  {
   "cell_type": "code",
   "execution_count": null,
   "metadata": {
    "colab": {},
    "colab_type": "code",
    "id": "WrPML1U5ZvFx"
   },
   "outputs": [],
   "source": [
    "import tensorflow as tf\n",
    "from tensorflow.keras import layers\n",
    "\n",
    "print(tf.VERSION)\n",
    "print(tf.keras.__version__)"
   ]
  },
  {
   "cell_type": "code",
   "execution_count": null,
   "metadata": {
    "colab": {},
    "colab_type": "code",
    "id": "wOiy_88tJv10"
   },
   "outputs": [],
   "source": [
    "p"
   ]
  }
 ],
 "metadata": {
  "accelerator": "GPU",
  "colab": {
   "collapsed_sections": [],
   "include_colab_link": true,
   "name": "O2 prediction model - Network C O2T Paper-v3.ipynb",
   "provenance": []
  },
  "kernelspec": {
   "display_name": "Python 3",
   "language": "python",
   "name": "python3"
  },
  "language_info": {
   "codemirror_mode": {
    "name": "ipython",
    "version": 3
   },
   "file_extension": ".py",
   "mimetype": "text/x-python",
   "name": "python",
   "nbconvert_exporter": "python",
   "pygments_lexer": "ipython3",
   "version": "3.7.2"
  }
 },
 "nbformat": 4,
 "nbformat_minor": 2
}
