{
 "cells": [
  {
   "cell_type": "markdown",
   "metadata": {
    "colab_type": "text",
    "id": "view-in-github"
   },
   "source": [
    "<a href=\"https://colab.research.google.com/github/michelucci/O2T-Real-Data-Paper/blob/master/notebooks/o2t_data_preparation_v2_0.ipynb\" target=\"_parent\"><img src=\"https://colab.research.google.com/assets/colab-badge.svg\" alt=\"Open In Colab\"/></a>"
   ]
  },
  {
   "cell_type": "markdown",
   "metadata": {
    "colab_type": "text",
    "id": "He4RexDVpZy9"
   },
   "source": [
    "# Data preparation\n",
    "\n",
    "This notebook has the goal of reading the data in the original format and put it in a more reasonable format (pandas). So that we could actually work with them.\n",
    "\n",
    "Version 0.1 - 2.6.2019"
   ]
  },
  {
   "cell_type": "code",
   "execution_count": 1,
   "metadata": {
    "colab": {},
    "colab_type": "code",
    "id": "2d86cKE_pZy_"
   },
   "outputs": [],
   "source": [
    "import numpy as np\n",
    "import pandas as pd\n",
    "import matplotlib.pyplot as plt\n",
    "import re\n",
    "from os import walk"
   ]
  },
  {
   "cell_type": "code",
   "execution_count": 2,
   "metadata": {
    "colab": {
     "base_uri": "https://localhost:8080/",
     "height": 703
    },
    "colab_type": "code",
    "id": "K9P1DpOyqYq6",
    "outputId": "1e5b9c00-19a1-4489-ef5d-42f8d75caece"
   },
   "outputs": [
    {
     "name": "stdout",
     "output_type": "stream",
     "text": [
      "Collecting tensorflow-gpu\n",
      "\u001b[31m  ERROR: Could not find a version that satisfies the requirement tensorflow-gpu (from versions: none)\u001b[0m\n",
      "\u001b[31mERROR: No matching distribution found for tensorflow-gpu\u001b[0m\n",
      "\u001b[33mWARNING: You are using pip version 19.1.1, however version 19.3.1 is available.\n",
      "You should consider upgrading via the 'pip install --upgrade pip' command.\u001b[0m\n"
     ]
    }
   ],
   "source": [
    "!pip install tensorflow-gpu\n",
    "import tensorflow as tf"
   ]
  },
  {
   "cell_type": "code",
   "execution_count": 190,
   "metadata": {
    "colab": {
     "base_uri": "https://localhost:8080/",
     "height": 35
    },
    "colab_type": "code",
    "id": "oWqZ-Mo9qhv0",
    "outputId": "119603ba-09dc-4dd5-fd94-200652b9e57f"
   },
   "outputs": [
    {
     "name": "stdout",
     "output_type": "stream",
     "text": [
      "Mounted at /content/drive\n"
     ]
    }
   ],
   "source": [
    "from google.colab import drive\n",
    "drive.mount('/content/drive')"
   ]
  },
  {
   "cell_type": "code",
   "execution_count": 3,
   "metadata": {
    "colab": {},
    "colab_type": "code",
    "id": "IyV-OUsNqyqb"
   },
   "outputs": [],
   "source": [
    "# root_folder = \"/content/drive/My Drive/data/O2T/\" # Google Drive Folder\n",
    "root_folder = \"../data/\""
   ]
  },
  {
   "cell_type": "markdown",
   "metadata": {
    "colab_type": "text",
    "id": "UmnjucJApZzB"
   },
   "source": [
    "## Functions"
   ]
  },
  {
   "cell_type": "code",
   "execution_count": 4,
   "metadata": {
    "colab": {},
    "colab_type": "code",
    "id": "vdprfyzwpZzC"
   },
   "outputs": [],
   "source": [
    "def read_data_file(name):\n",
    "    d = {}\n",
    "    with open(name, encoding=\"iso8859-1\") as f:\n",
    "        for line in f:\n",
    "            if (\"=\" in line):\n",
    "                (key, val) = line.split('=')\n",
    "                d[key] = val\n",
    "    return d"
   ]
  },
  {
   "cell_type": "code",
   "execution_count": 5,
   "metadata": {
    "colab": {},
    "colab_type": "code",
    "id": "tGIzOztapZzE"
   },
   "outputs": [],
   "source": [
    "def print_dict(d):\n",
    "    for key, val in d.items():\n",
    "        print (key)\n",
    "        print (val)\n",
    "        print (\"----\")"
   ]
  },
  {
   "cell_type": "code",
   "execution_count": 6,
   "metadata": {
    "colab": {},
    "colab_type": "code",
    "id": "KZl1dFaipZzG"
   },
   "outputs": [],
   "source": [
    "def convert_dictionary(d):\n",
    "    d_ = {'T': -1, 'O2': -1, 'iter':-1, 'freq':[0], 'data': [0]}\n",
    "    d_['T'] = int(d['Temperature (°C)'].rstrip())\n",
    "    d_['O2'] = int(d['Concentration O2Air (%)'].rstrip())\n",
    "    d_['iter'] = int(d['Iterations'].rstrip())\n",
    "    d_['freq'] = np.array(re.sub(r'\\<.*\\>', '', d['Frequency (Hz)']).rstrip().split(\",\"))\n",
    "    d_['data'] = np.array(re.sub(r'\\<.*\\>', '', d['Phi Comp (°)']).rstrip().split(\",\")).reshape(d_['iter'], d_['freq'].shape[0])\n",
    "    \n",
    "    d_['freq'] = [d_['freq']]\n",
    "    d_['data'] = [d_['data']]\n",
    "    \n",
    "    p = pd.DataFrame.from_dict(d_)\n",
    "    return p"
   ]
  },
  {
   "cell_type": "code",
   "execution_count": 7,
   "metadata": {
    "colab": {},
    "colab_type": "code",
    "id": "p0g-ByTZpZzI"
   },
   "outputs": [],
   "source": [
    "def generate_dataframe_from_directory(path):\n",
    "    df = pd.DataFrame()\n",
    "\n",
    "    for (dirpath, dirnames, filenames) in walk(path):\n",
    "        for filename in filenames:\n",
    "            # Read the files\n",
    "            if (filename.lower().endswith('txt') and filename.lower().startswith('temp')):\n",
    "                #print('Reading '+filename)\n",
    "                d = read_data_file(root_folder+filename)\n",
    "                p = convert_dictionary(d)\n",
    "                df = df.append(p)\n",
    "                \n",
    "    return df"
   ]
  },
  {
   "cell_type": "markdown",
   "metadata": {
    "colab_type": "text",
    "id": "gYgdJvQYpZzK"
   },
   "source": [
    "## Study and test data format"
   ]
  },
  {
   "cell_type": "code",
   "execution_count": 8,
   "metadata": {
    "colab": {
     "base_uri": "https://localhost:8080/",
     "height": 685
    },
    "colab_type": "code",
    "id": "1GPJ02BFpZzL",
    "outputId": "fe48d3e0-b8b7-49ff-cb4e-72895c38dd54"
   },
   "outputs": [
    {
     "name": "stdout",
     "output_type": "stream",
     "text": [
      "MGI RWA Section Options\n",
      "2.0.1 %04Y%02m%02d %02H%02M%S%25u*~\u001b|.\u0017%d*~\u001b|.\u0017,*~\u001b|.\u0017%#_13g\n",
      "\n",
      "----\n",
      "File\n",
      "C:\\Projekte\\LuminescenceAI\\RealProbe5mm\\Data\\Temp_25deg_Conc_100perc.txt\n",
      "\n",
      "----\n",
      "Date, Time\n",
      "26.04.2019, 12:52\n",
      "\n",
      "----\n",
      "Temperature (°C)\n",
      "25\n",
      "\n",
      "----\n",
      "Concentration O2Air (%)\n",
      "100\n",
      "\n",
      "----\n",
      "Iterations\n",
      "1\n",
      "\n",
      "----\n",
      "Frequency (Hz)\n",
      "<50>200,300,400,500,600,700,800,900,1000,1250,1500,1750,2000,2250,2500,2750,3000,3250,3500,3750,4000,4250,4500,4750,5000,5250,5500,5750,6000,6250,6500,6750,7000,7250,7500,7750,8000,8250,8500,8750,9000,9250,9500,9750,10000,11000,12000,13000,14000,15000\n",
      "\n",
      "----\n",
      "Phi Comp (°)\n",
      "<50>-0.354,-0.57,-0.786,-0.99,-1.194,-1.404,-1.602,-1.8,-1.998,-2.502,-3,-3.51,-4.002,-4.506,-5.016,-5.508,-6.012,-6.516,-7.014,-7.512,-8.004,-8.502,-9,-9.492,-9.984,-10.482,-10.974,-11.466,-11.952,-12.444,-12.93,-13.416,-13.902,-14.388,-14.874,-15.36,-15.84,-16.32,-16.8,-17.274,-17.754,-18.234,-18.702,-19.176,-19.644,-21.522,-23.37,-25.2,-26.994,-28.776\n",
      "\n",
      "----\n",
      "R (V)\n",
      "<50>0.298922,0.298952,0.298983,0.298922,0.298861,0.29883,0.29883,0.29883,0.298769,0.298738,0.298647,0.298555,0.298464,0.298311,0.298128,0.298006,0.297823,0.29764,0.297426,0.297213,0.296968,0.296785,0.296511,0.296236,0.295931,0.295656,0.295321,0.294954,0.29468,0.294313,0.293917,0.29355,0.293184,0.292757,0.29233,0.291933,0.291445,0.291018,0.29059,0.290133,0.289644,0.289125,0.288637,0.288088,0.2876,0.285402,0.283022,0.280519,0.277895,0.275179\n",
      "\n",
      "----\n"
     ]
    }
   ],
   "source": [
    "d = read_data_file(root_folder + \"Reference.txt\")\n",
    "print_dict(d)"
   ]
  },
  {
   "cell_type": "code",
   "execution_count": 9,
   "metadata": {
    "colab": {},
    "colab_type": "code",
    "id": "FO1PzrZ0pZzN"
   },
   "outputs": [],
   "source": [
    "d = read_data_file(root_folder + \"Temp_5deg_Conc_0perc.txt\")\n",
    "d = convert_dictionary(d)"
   ]
  },
  {
   "cell_type": "markdown",
   "metadata": {
    "colab_type": "text",
    "id": "umaECFz5FMbC"
   },
   "source": [
    "## Load the reference file"
   ]
  },
  {
   "cell_type": "markdown",
   "metadata": {
    "colab_type": "text",
    "id": "AUkxLwzdFICA"
   },
   "source": [
    "We load now the reference file. This needs to be subtracted by all other measurements."
   ]
  },
  {
   "cell_type": "code",
   "execution_count": 10,
   "metadata": {
    "colab": {},
    "colab_type": "code",
    "id": "x5uc32NoE_Yf"
   },
   "outputs": [],
   "source": [
    "ref = read_data_file(root_folder + \"Reference.txt\")\n",
    "ref = convert_dictionary(ref)\n",
    "ref_data = ref.data[0].astype(np.float)"
   ]
  },
  {
   "cell_type": "markdown",
   "metadata": {
    "colab_type": "text",
    "id": "pojx-sMspZzP"
   },
   "source": [
    "# Loop over files in the directory"
   ]
  },
  {
   "cell_type": "code",
   "execution_count": 11,
   "metadata": {
    "colab": {},
    "colab_type": "code",
    "id": "4pMZmTgtpZzQ"
   },
   "outputs": [],
   "source": [
    "df = generate_dataframe_from_directory(root_folder)"
   ]
  },
  {
   "cell_type": "code",
   "execution_count": 12,
   "metadata": {
    "colab": {
     "base_uri": "https://localhost:8080/",
     "height": 204
    },
    "colab_type": "code",
    "id": "ADnIo58bpZzS",
    "outputId": "14a75b73-2613-468b-b6ef-555c47f21db8"
   },
   "outputs": [
    {
     "data": {
      "text/html": [
       "<div>\n",
       "<style scoped>\n",
       "    .dataframe tbody tr th:only-of-type {\n",
       "        vertical-align: middle;\n",
       "    }\n",
       "\n",
       "    .dataframe tbody tr th {\n",
       "        vertical-align: top;\n",
       "    }\n",
       "\n",
       "    .dataframe thead th {\n",
       "        text-align: right;\n",
       "    }\n",
       "</style>\n",
       "<table border=\"1\" class=\"dataframe\">\n",
       "  <thead>\n",
       "    <tr style=\"text-align: right;\">\n",
       "      <th></th>\n",
       "      <th>T</th>\n",
       "      <th>O2</th>\n",
       "      <th>iter</th>\n",
       "      <th>freq</th>\n",
       "      <th>data</th>\n",
       "    </tr>\n",
       "  </thead>\n",
       "  <tbody>\n",
       "    <tr>\n",
       "      <th>0</th>\n",
       "      <td>20</td>\n",
       "      <td>35</td>\n",
       "      <td>20</td>\n",
       "      <td>[200, 300, 400, 500, 600, 700, 800, 900, 1000,...</td>\n",
       "      <td>[[-2.424, -3.642, -4.83, -6.036, -7.236, -8.4,...</td>\n",
       "    </tr>\n",
       "    <tr>\n",
       "      <th>0</th>\n",
       "      <td>20</td>\n",
       "      <td>25</td>\n",
       "      <td>20</td>\n",
       "      <td>[200, 300, 400, 500, 600, 700, 800, 900, 1000,...</td>\n",
       "      <td>[[-2.706, -4.05, -5.388, -6.726, -8.034, -9.33...</td>\n",
       "    </tr>\n",
       "    <tr>\n",
       "      <th>0</th>\n",
       "      <td>25</td>\n",
       "      <td>10</td>\n",
       "      <td>20</td>\n",
       "      <td>[200, 300, 400, 500, 600, 700, 800, 900, 1000,...</td>\n",
       "      <td>[[-3.288, -4.926, -6.552, -8.166, -9.762, -11....</td>\n",
       "    </tr>\n",
       "    <tr>\n",
       "      <th>0</th>\n",
       "      <td>10</td>\n",
       "      <td>95</td>\n",
       "      <td>20</td>\n",
       "      <td>[200, 300, 400, 500, 600, 700, 800, 900, 1000,...</td>\n",
       "      <td>[[-1.776, -2.682, -3.564, -4.452, -5.334, -6.1...</td>\n",
       "    </tr>\n",
       "    <tr>\n",
       "      <th>0</th>\n",
       "      <td>10</td>\n",
       "      <td>85</td>\n",
       "      <td>20</td>\n",
       "      <td>[200, 300, 400, 500, 600, 700, 800, 900, 1000,...</td>\n",
       "      <td>[[-1.86, -2.808, -3.732, -4.662, -5.58, -6.48,...</td>\n",
       "    </tr>\n",
       "  </tbody>\n",
       "</table>\n",
       "</div>"
      ],
      "text/plain": [
       "    T  O2  iter                                               freq  \\\n",
       "0  20  35    20  [200, 300, 400, 500, 600, 700, 800, 900, 1000,...   \n",
       "0  20  25    20  [200, 300, 400, 500, 600, 700, 800, 900, 1000,...   \n",
       "0  25  10    20  [200, 300, 400, 500, 600, 700, 800, 900, 1000,...   \n",
       "0  10  95    20  [200, 300, 400, 500, 600, 700, 800, 900, 1000,...   \n",
       "0  10  85    20  [200, 300, 400, 500, 600, 700, 800, 900, 1000,...   \n",
       "\n",
       "                                                data  \n",
       "0  [[-2.424, -3.642, -4.83, -6.036, -7.236, -8.4,...  \n",
       "0  [[-2.706, -4.05, -5.388, -6.726, -8.034, -9.33...  \n",
       "0  [[-3.288, -4.926, -6.552, -8.166, -9.762, -11....  \n",
       "0  [[-1.776, -2.682, -3.564, -4.452, -5.334, -6.1...  \n",
       "0  [[-1.86, -2.808, -3.732, -4.662, -5.58, -6.48,...  "
      ]
     },
     "execution_count": 12,
     "metadata": {},
     "output_type": "execute_result"
    }
   ],
   "source": [
    "df.head()"
   ]
  },
  {
   "cell_type": "code",
   "execution_count": 13,
   "metadata": {
    "colab": {
     "base_uri": "https://localhost:8080/",
     "height": 233
    },
    "colab_type": "code",
    "id": "aqY3ClE3G1-U",
    "outputId": "622ece91-d430-4e3d-8cb2-02f9a4c5d3ff"
   },
   "outputs": [
    {
     "data": {
      "text/plain": [
       "0    [[-2.424, -3.642, -4.83, -6.036, -7.236, -8.4,...\n",
       "0    [[-2.706, -4.05, -5.388, -6.726, -8.034, -9.33...\n",
       "0    [[-3.288, -4.926, -6.552, -8.166, -9.762, -11....\n",
       "0    [[-1.776, -2.682, -3.564, -4.452, -5.334, -6.1...\n",
       "0    [[-1.86, -2.808, -3.732, -4.662, -5.58, -6.48,...\n",
       "                           ...                        \n",
       "0    [[-1.83, -2.736, -3.642, -4.554, -5.442, -6.33...\n",
       "0    [[-2.808, -4.23, -5.622, -7.014, -8.388, -9.74...\n",
       "0    [[-2.88, -4.314, -5.748, -7.158, -8.562, -9.94...\n",
       "0    [[-2.556, -3.828, -5.088, -6.354, -7.602, -8.8...\n",
       "0    [[-3.006, -4.512, -6, -7.476, -8.934, -10.38, ...\n",
       "Name: data, Length: 189, dtype: object"
      ]
     },
     "execution_count": 13,
     "metadata": {},
     "output_type": "execute_result"
    }
   ],
   "source": [
    "df.data[0].iloc[0]\n",
    "\n",
    "df.data[0]"
   ]
  },
  {
   "cell_type": "markdown",
   "metadata": {
    "colab_type": "text",
    "id": "zJmsbGnnOMYD"
   },
   "source": [
    "# Creation of the dataframe with just values for [O2]=0 % air\n",
    "\n",
    "__note__: we will average the 20 measurements into one and use that to divide the other data."
   ]
  },
  {
   "cell_type": "code",
   "execution_count": 14,
   "metadata": {
    "colab": {
     "base_uri": "https://localhost:8080/",
     "height": 328
    },
    "colab_type": "code",
    "id": "TxosjpTDORXD",
    "outputId": "090f039b-2cd0-429b-bf47-39aae2444e4d"
   },
   "outputs": [
    {
     "data": {
      "text/html": [
       "<div>\n",
       "<style scoped>\n",
       "    .dataframe tbody tr th:only-of-type {\n",
       "        vertical-align: middle;\n",
       "    }\n",
       "\n",
       "    .dataframe tbody tr th {\n",
       "        vertical-align: top;\n",
       "    }\n",
       "\n",
       "    .dataframe thead th {\n",
       "        text-align: right;\n",
       "    }\n",
       "</style>\n",
       "<table border=\"1\" class=\"dataframe\">\n",
       "  <thead>\n",
       "    <tr style=\"text-align: right;\">\n",
       "      <th></th>\n",
       "      <th>T</th>\n",
       "      <th>O2</th>\n",
       "      <th>iter</th>\n",
       "      <th>freq</th>\n",
       "      <th>data</th>\n",
       "    </tr>\n",
       "  </thead>\n",
       "  <tbody>\n",
       "    <tr>\n",
       "      <th>0</th>\n",
       "      <td>30</td>\n",
       "      <td>0</td>\n",
       "      <td>20</td>\n",
       "      <td>[200, 300, 400, 500, 600, 700, 800, 900, 1000,...</td>\n",
       "      <td>[[-4.338, -6.492, -8.616, -10.716, -12.78, -14...</td>\n",
       "    </tr>\n",
       "    <tr>\n",
       "      <th>0</th>\n",
       "      <td>35</td>\n",
       "      <td>0</td>\n",
       "      <td>20</td>\n",
       "      <td>[200, 300, 400, 500, 600, 700, 800, 900, 1000,...</td>\n",
       "      <td>[[-4.242, -6.354, -8.43, -10.5, -12.516, -14.5...</td>\n",
       "    </tr>\n",
       "    <tr>\n",
       "      <th>0</th>\n",
       "      <td>5</td>\n",
       "      <td>0</td>\n",
       "      <td>20</td>\n",
       "      <td>[200, 300, 400, 500, 600, 700, 800, 900, 1000,...</td>\n",
       "      <td>[[-4.83, -7.23, -9.594, -11.922, -14.202, -16....</td>\n",
       "    </tr>\n",
       "    <tr>\n",
       "      <th>0</th>\n",
       "      <td>15</td>\n",
       "      <td>0</td>\n",
       "      <td>20</td>\n",
       "      <td>[200, 300, 400, 500, 600, 700, 800, 900, 1000,...</td>\n",
       "      <td>[[-4.626, -6.918, -9.174, -11.406, -13.59, -15...</td>\n",
       "    </tr>\n",
       "    <tr>\n",
       "      <th>0</th>\n",
       "      <td>10</td>\n",
       "      <td>0</td>\n",
       "      <td>20</td>\n",
       "      <td>[200, 300, 400, 500, 600, 700, 800, 900, 1000,...</td>\n",
       "      <td>[[-4.728, -7.062, -9.372, -11.646, -13.884, -1...</td>\n",
       "    </tr>\n",
       "    <tr>\n",
       "      <th>0</th>\n",
       "      <td>20</td>\n",
       "      <td>0</td>\n",
       "      <td>20</td>\n",
       "      <td>[200, 300, 400, 500, 600, 700, 800, 900, 1000,...</td>\n",
       "      <td>[[-4.53, -6.768, -8.988, -11.172, -13.32, -15....</td>\n",
       "    </tr>\n",
       "    <tr>\n",
       "      <th>0</th>\n",
       "      <td>25</td>\n",
       "      <td>0</td>\n",
       "      <td>20</td>\n",
       "      <td>[200, 300, 400, 500, 600, 700, 800, 900, 1000,...</td>\n",
       "      <td>[[-4.428, -6.63, -8.796, -10.95, -13.056, -15....</td>\n",
       "    </tr>\n",
       "    <tr>\n",
       "      <th>0</th>\n",
       "      <td>45</td>\n",
       "      <td>0</td>\n",
       "      <td>20</td>\n",
       "      <td>[200, 300, 400, 500, 600, 700, 800, 900, 1000,...</td>\n",
       "      <td>[[-4.05, -6.078, -8.07, -10.038, -11.982, -13....</td>\n",
       "    </tr>\n",
       "    <tr>\n",
       "      <th>0</th>\n",
       "      <td>40</td>\n",
       "      <td>0</td>\n",
       "      <td>20</td>\n",
       "      <td>[200, 300, 400, 500, 600, 700, 800, 900, 1000,...</td>\n",
       "      <td>[[-4.146, -6.21, -8.25, -10.26, -12.252, -14.1...</td>\n",
       "    </tr>\n",
       "  </tbody>\n",
       "</table>\n",
       "</div>"
      ],
      "text/plain": [
       "    T  O2  iter                                               freq  \\\n",
       "0  30   0    20  [200, 300, 400, 500, 600, 700, 800, 900, 1000,...   \n",
       "0  35   0    20  [200, 300, 400, 500, 600, 700, 800, 900, 1000,...   \n",
       "0   5   0    20  [200, 300, 400, 500, 600, 700, 800, 900, 1000,...   \n",
       "0  15   0    20  [200, 300, 400, 500, 600, 700, 800, 900, 1000,...   \n",
       "0  10   0    20  [200, 300, 400, 500, 600, 700, 800, 900, 1000,...   \n",
       "0  20   0    20  [200, 300, 400, 500, 600, 700, 800, 900, 1000,...   \n",
       "0  25   0    20  [200, 300, 400, 500, 600, 700, 800, 900, 1000,...   \n",
       "0  45   0    20  [200, 300, 400, 500, 600, 700, 800, 900, 1000,...   \n",
       "0  40   0    20  [200, 300, 400, 500, 600, 700, 800, 900, 1000,...   \n",
       "\n",
       "                                                data  \n",
       "0  [[-4.338, -6.492, -8.616, -10.716, -12.78, -14...  \n",
       "0  [[-4.242, -6.354, -8.43, -10.5, -12.516, -14.5...  \n",
       "0  [[-4.83, -7.23, -9.594, -11.922, -14.202, -16....  \n",
       "0  [[-4.626, -6.918, -9.174, -11.406, -13.59, -15...  \n",
       "0  [[-4.728, -7.062, -9.372, -11.646, -13.884, -1...  \n",
       "0  [[-4.53, -6.768, -8.988, -11.172, -13.32, -15....  \n",
       "0  [[-4.428, -6.63, -8.796, -10.95, -13.056, -15....  \n",
       "0  [[-4.05, -6.078, -8.07, -10.038, -11.982, -13....  \n",
       "0  [[-4.146, -6.21, -8.25, -10.26, -12.252, -14.1...  "
      ]
     },
     "execution_count": 14,
     "metadata": {},
     "output_type": "execute_result"
    }
   ],
   "source": [
    "df_zero = df[df['O2'] == 0]\n",
    "df_zero"
   ]
  },
  {
   "cell_type": "markdown",
   "metadata": {
    "colab_type": "text",
    "id": "KkKYcQhcOl4q"
   },
   "source": [
    "Now we can average for each values of $T$ the 20 measurements contained into `data`"
   ]
  },
  {
   "cell_type": "code",
   "execution_count": 15,
   "metadata": {
    "colab": {
     "base_uri": "https://localhost:8080/",
     "height": 145
    },
    "colab_type": "code",
    "id": "J8Qt79RlOre4",
    "outputId": "5df81006-b435-47f0-a999-93c6c042b939"
   },
   "outputs": [
    {
     "name": "stderr",
     "output_type": "stream",
     "text": [
      "/Users/umberto/Python-Environments/tfenv2/lib/python3.7/site-packages/ipykernel_launcher.py:8: SettingWithCopyWarning: \n",
      "A value is trying to be set on a copy of a slice from a DataFrame.\n",
      "Try using .loc[row_indexer,col_indexer] = value instead\n",
      "\n",
      "See the caveats in the documentation: http://pandas.pydata.org/pandas-docs/stable/user_guide/indexing.html#returning-a-view-versus-a-copy\n",
      "  \n"
     ]
    }
   ],
   "source": [
    "average_data = []\n",
    "for index, row in df_zero.iterrows():\n",
    "  #print(np.array(row['data']))\n",
    "  avg_ = np.mean(np.array(row['data']).astype(np.float), axis = 0)\n",
    "  #print(avg_)\n",
    "  average_data.append(avg_)\n",
    "\n",
    "df_zero['average'] = average_data"
   ]
  },
  {
   "cell_type": "code",
   "execution_count": 16,
   "metadata": {
    "colab": {
     "base_uri": "https://localhost:8080/",
     "height": 204
    },
    "colab_type": "code",
    "id": "Gy75cM60Pu7P",
    "outputId": "9a8b515e-5ff6-41b9-bf7b-f2690dcd3913"
   },
   "outputs": [
    {
     "data": {
      "text/html": [
       "<div>\n",
       "<style scoped>\n",
       "    .dataframe tbody tr th:only-of-type {\n",
       "        vertical-align: middle;\n",
       "    }\n",
       "\n",
       "    .dataframe tbody tr th {\n",
       "        vertical-align: top;\n",
       "    }\n",
       "\n",
       "    .dataframe thead th {\n",
       "        text-align: right;\n",
       "    }\n",
       "</style>\n",
       "<table border=\"1\" class=\"dataframe\">\n",
       "  <thead>\n",
       "    <tr style=\"text-align: right;\">\n",
       "      <th></th>\n",
       "      <th>T</th>\n",
       "      <th>O2</th>\n",
       "      <th>iter</th>\n",
       "      <th>freq</th>\n",
       "      <th>data</th>\n",
       "      <th>average</th>\n",
       "    </tr>\n",
       "  </thead>\n",
       "  <tbody>\n",
       "    <tr>\n",
       "      <th>0</th>\n",
       "      <td>30</td>\n",
       "      <td>0</td>\n",
       "      <td>20</td>\n",
       "      <td>[200, 300, 400, 500, 600, 700, 800, 900, 1000,...</td>\n",
       "      <td>[[-4.338, -6.492, -8.616, -10.716, -12.78, -14...</td>\n",
       "      <td>[-4.3397999999999985, -6.492600000000001, -8.6...</td>\n",
       "    </tr>\n",
       "    <tr>\n",
       "      <th>0</th>\n",
       "      <td>35</td>\n",
       "      <td>0</td>\n",
       "      <td>20</td>\n",
       "      <td>[200, 300, 400, 500, 600, 700, 800, 900, 1000,...</td>\n",
       "      <td>[[-4.242, -6.354, -8.43, -10.5, -12.516, -14.5...</td>\n",
       "      <td>[-4.2456000000000005, -6.354, -8.4354000000000...</td>\n",
       "    </tr>\n",
       "    <tr>\n",
       "      <th>0</th>\n",
       "      <td>5</td>\n",
       "      <td>0</td>\n",
       "      <td>20</td>\n",
       "      <td>[200, 300, 400, 500, 600, 700, 800, 900, 1000,...</td>\n",
       "      <td>[[-4.83, -7.23, -9.594, -11.922, -14.202, -16....</td>\n",
       "      <td>[-4.836899999999999, -7.229700000000001, -9.59...</td>\n",
       "    </tr>\n",
       "    <tr>\n",
       "      <th>0</th>\n",
       "      <td>15</td>\n",
       "      <td>0</td>\n",
       "      <td>20</td>\n",
       "      <td>[200, 300, 400, 500, 600, 700, 800, 900, 1000,...</td>\n",
       "      <td>[[-4.626, -6.918, -9.174, -11.406, -13.59, -15...</td>\n",
       "      <td>[-4.6248000000000005, -6.916800000000004, -9.1...</td>\n",
       "    </tr>\n",
       "    <tr>\n",
       "      <th>0</th>\n",
       "      <td>10</td>\n",
       "      <td>0</td>\n",
       "      <td>20</td>\n",
       "      <td>[200, 300, 400, 500, 600, 700, 800, 900, 1000,...</td>\n",
       "      <td>[[-4.728, -7.062, -9.372, -11.646, -13.884, -1...</td>\n",
       "      <td>[-4.724099999999998, -7.064099999999999, -9.37...</td>\n",
       "    </tr>\n",
       "  </tbody>\n",
       "</table>\n",
       "</div>"
      ],
      "text/plain": [
       "    T  O2  iter                                               freq  \\\n",
       "0  30   0    20  [200, 300, 400, 500, 600, 700, 800, 900, 1000,...   \n",
       "0  35   0    20  [200, 300, 400, 500, 600, 700, 800, 900, 1000,...   \n",
       "0   5   0    20  [200, 300, 400, 500, 600, 700, 800, 900, 1000,...   \n",
       "0  15   0    20  [200, 300, 400, 500, 600, 700, 800, 900, 1000,...   \n",
       "0  10   0    20  [200, 300, 400, 500, 600, 700, 800, 900, 1000,...   \n",
       "\n",
       "                                                data  \\\n",
       "0  [[-4.338, -6.492, -8.616, -10.716, -12.78, -14...   \n",
       "0  [[-4.242, -6.354, -8.43, -10.5, -12.516, -14.5...   \n",
       "0  [[-4.83, -7.23, -9.594, -11.922, -14.202, -16....   \n",
       "0  [[-4.626, -6.918, -9.174, -11.406, -13.59, -15...   \n",
       "0  [[-4.728, -7.062, -9.372, -11.646, -13.884, -1...   \n",
       "\n",
       "                                             average  \n",
       "0  [-4.3397999999999985, -6.492600000000001, -8.6...  \n",
       "0  [-4.2456000000000005, -6.354, -8.4354000000000...  \n",
       "0  [-4.836899999999999, -7.229700000000001, -9.59...  \n",
       "0  [-4.6248000000000005, -6.916800000000004, -9.1...  \n",
       "0  [-4.724099999999998, -7.064099999999999, -9.37...  "
      ]
     },
     "execution_count": 16,
     "metadata": {},
     "output_type": "execute_result"
    }
   ],
   "source": [
    "df_zero.head()"
   ]
  },
  {
   "cell_type": "markdown",
   "metadata": {
    "colab_type": "text",
    "id": "Ez7Wgmm-FdG0"
   },
   "source": [
    "# Transformation of the dataframe\n",
    "\n",
    "Now we need to create two numpy arrays. One with the \"expected values\" containing $T$ and $O2$ and one with all the measurements.\n",
    "\n",
    "We have a certain amount of iterations contained in the column `iter` therefore we will need do duplicate the values of $T$ and $O2$ `iter` times."
   ]
  },
  {
   "cell_type": "code",
   "execution_count": 17,
   "metadata": {
    "colab": {
     "base_uri": "https://localhost:8080/",
     "height": 143
    },
    "colab_type": "code",
    "id": "jEEM5fejTQHf",
    "outputId": "6de2d3cd-9dc8-48dd-e934-0e379bc51804"
   },
   "outputs": [
    {
     "data": {
      "text/plain": [
       "array([  200.,   300.,   400.,   500.,   600.,   700.,   800.,   900.,\n",
       "        1000.,  1250.,  1500.,  1750.,  2000.,  2250.,  2500.,  2750.,\n",
       "        3000.,  3250.,  3500.,  3750.,  4000.,  4250.,  4500.,  4750.,\n",
       "        5000.,  5250.,  5500.,  5750.,  6000.,  6250.,  6500.,  6750.,\n",
       "        7000.,  7250.,  7500.,  7750.,  8000.,  8250.,  8500.,  8750.,\n",
       "        9000.,  9250.,  9500.,  9750., 10000., 11000., 12000., 13000.,\n",
       "       14000., 15000.])"
      ]
     },
     "execution_count": 17,
     "metadata": {},
     "output_type": "execute_result"
    }
   ],
   "source": [
    "x = df.iloc[0]['freq'].astype(np.float)\n",
    "x"
   ]
  },
  {
   "cell_type": "code",
   "execution_count": 18,
   "metadata": {
    "colab": {
     "base_uri": "https://localhost:8080/",
     "height": 53
    },
    "colab_type": "code",
    "id": "KSRg2o3iFusx",
    "outputId": "9c614d8b-3cd0-42c5-bf19-a41ca232a389"
   },
   "outputs": [
    {
     "name": "stdout",
     "output_type": "stream",
     "text": [
      "(3780, 50)\n",
      "(3780, 2)\n"
     ]
    }
   ],
   "source": [
    "targets = []\n",
    "train_data = []\n",
    "for index, row in df.iterrows():\n",
    "  list_ = [[row['T'], row['O2']]]*row['iter']\n",
    "  #print(np.array(list_).shape)\n",
    "  targets.extend(list_)\n",
    "\n",
    "  # Then we need to create a list with all the measurements. \n",
    "  # There are row['iter'] of them.\n",
    "  data_ = row['data'] # Shape (20,50)\n",
    "  assert (data_.shape) == (row['iter'], len(row.freq)), \"Size mismatch.\"\n",
    "  \n",
    "  for i in range(0, row['iter']):\n",
    "    train_data.append(data_[i])\n",
    "\n",
    "train_data_np = np.array(train_data).astype(np.float)\n",
    "train_targets_np = np.array(targets).astype(np.float)\n",
    "\n",
    "print(train_data_np.shape)\n",
    "print(train_targets_np.shape)"
   ]
  },
  {
   "cell_type": "code",
   "execution_count": 19,
   "metadata": {
    "colab": {
     "base_uri": "https://localhost:8080/",
     "height": 161
    },
    "colab_type": "code",
    "id": "V25m1DcjT4PQ",
    "outputId": "72c6c44b-cacb-4b93-b187-08d7ebf37aa6"
   },
   "outputs": [
    {
     "data": {
      "text/plain": [
       "array([ -2.424,  -3.642,  -4.83 ,  -6.036,  -7.236,  -8.4  ,  -9.564,\n",
       "       -10.716, -11.856, -14.598, -17.25 , -19.77 , -22.176, -24.45 ,\n",
       "       -26.604, -28.662, -30.594, -32.436, -34.176, -35.826, -37.404,\n",
       "       -38.892, -40.308, -41.664, -42.942, -44.16 , -45.33 , -46.446,\n",
       "       -47.502, -48.522, -49.494, -50.424, -51.318, -52.164, -52.998,\n",
       "       -53.778, -54.528, -55.266, -55.956, -56.634, -57.276, -57.894,\n",
       "       -58.506, -59.088, -59.652, -61.704, -63.51 , -65.1  , -66.522,\n",
       "       -67.776])"
      ]
     },
     "execution_count": 19,
     "metadata": {},
     "output_type": "execute_result"
    }
   ],
   "source": [
    "# quick check to see how the data looks like. So far so good.\n",
    "train_data_np[0]"
   ]
  },
  {
   "cell_type": "code",
   "execution_count": 20,
   "metadata": {},
   "outputs": [
    {
     "ename": "NameError",
     "evalue": "name 'df_1' is not defined",
     "output_type": "error",
     "traceback": [
      "\u001b[0;31m---------------------------------------------------------------------------\u001b[0m",
      "\u001b[0;31mNameError\u001b[0m                                 Traceback (most recent call last)",
      "\u001b[0;32m<ipython-input-20-90000d484d65>\u001b[0m in \u001b[0;36m<module>\u001b[0;34m\u001b[0m\n\u001b[0;32m----> 1\u001b[0;31m \u001b[0mdf_1\u001b[0m\u001b[0;34m\u001b[0m\u001b[0;34m\u001b[0m\u001b[0m\n\u001b[0m",
      "\u001b[0;31mNameError\u001b[0m: name 'df_1' is not defined"
     ]
    }
   ],
   "source": [
    "df_1"
   ]
  },
  {
   "cell_type": "markdown",
   "metadata": {},
   "source": [
    "# Plot 1 for different values of O2 and T = 25"
   ]
  },
  {
   "cell_type": "code",
   "execution_count": 92,
   "metadata": {
    "colab": {
     "base_uri": "https://localhost:8080/",
     "height": 35
    },
    "colab_type": "code",
    "id": "Aqmo1q6XLBwa",
    "outputId": "6d36db42-821f-4bfd-db22-9d6425f6cee9"
   },
   "outputs": [],
   "source": [
    "df_1 = df[(df['O2'] == 0) & (df['T'] == 25)].data[0][0].astype(np.float)\n",
    "df_2 = df[(df['O2'] == 20) & (df['T'] == 25)].data[0][0].astype(np.float)\n",
    "df_3 = df[(df['O2'] == 40) & (df['T'] == 25)].data[0][0].astype(np.float)\n",
    "df_4 = df[(df['O2'] == 60) & (df['T'] == 25)].data[0][0].astype(np.float)\n",
    "df_5 = df[(df['O2'] == 80) & (df['T'] == 25)].data[0][0].astype(np.float)\n",
    "df_6 = df[(df['O2'] == 100) & (df['T'] == 25)].data[0][0].astype(np.float)\n",
    "#df_1_data = df_1.data[0][0].astype(np.float)"
   ]
  },
  {
   "cell_type": "code",
   "execution_count": 128,
   "metadata": {},
   "outputs": [
    {
     "name": "stderr",
     "output_type": "stream",
     "text": [
      "The PostScript backend does not support transparency; partially transparent artists will be rendered opaque.\n",
      "The PostScript backend does not support transparency; partially transparent artists will be rendered opaque.\n"
     ]
    },
    {
     "data": {
      "image/png": "[encoded data removed]",
      "text/plain": [
       "<Figure size 576x360 with 1 Axes>"
      ]
     },
     "metadata": {
      "needs_background": "light"
     },
     "output_type": "display_data"
    }
   ],
   "source": [
    "fig = plt.figure(figsize = (8,5))\n",
    "plt.plot(x,-df_1, marker= 'o', label = '[O2] = 0% air')\n",
    "plt.plot(x,-df_2, marker= 'o', label = '[O2] = 20% air')\n",
    "plt.plot(x,-df_3, marker= 'o', label = '[O2] = 40% air')\n",
    "plt.plot(x,-df_4, marker= 'o', label = '[O2] = 60% air')\n",
    "plt.plot(x,-df_5, marker= 'o', label = '[O2] = 80% air')\n",
    "plt.plot(x,-df_6, marker= 'o', label = '[O2] = 100% air')\n",
    "plt.tick_params(labelsize=16)\n",
    "plt.legend(fontsize = 16)\n",
    "plt.ylim(0, 90)\n",
    "plt.xlim(100, 20000)\n",
    "plt.xlabel('Frequency (Hz)', fontsize = 16)\n",
    "plt.ylabel('Phase shift ($^\\circ$)', fontsize = 16)\n",
    "plt.xscale('log')\n",
    "fig.savefig('../paper/expdata1.eps')"
   ]
  },
  {
   "cell_type": "markdown",
   "metadata": {},
   "source": [
    "# Plot 2 for different values of T and O2 = 100%"
   ]
  },
  {
   "cell_type": "code",
   "execution_count": 116,
   "metadata": {},
   "outputs": [],
   "source": [
    "OXY = 20\n",
    "\n",
    "df_21 = df[(df['O2'] == OXY) & (df['T'] == 5)].data[0][0].astype(np.float)\n",
    "df_22 = df[(df['O2'] == OXY) & (df['T'] == 15)].data[0][0].astype(np.float)\n",
    "df_23 = df[(df['O2'] == OXY) & (df['T'] == 25)].data[0][0].astype(np.float)\n",
    "df_24 = df[(df['O2'] == OXY) & (df['T'] == 35)].data[0][0].astype(np.float)\n",
    "df_25 = df[(df['O2'] == OXY) & (df['T'] == 45)].data[0][0].astype(np.float)\n",
    "#df_1_data = df_1.data[0][0].astype(np.float)"
   ]
  },
  {
   "cell_type": "code",
   "execution_count": 131,
   "metadata": {},
   "outputs": [
    {
     "name": "stderr",
     "output_type": "stream",
     "text": [
      "The PostScript backend does not support transparency; partially transparent artists will be rendered opaque.\n",
      "The PostScript backend does not support transparency; partially transparent artists will be rendered opaque.\n"
     ]
    },
    {
     "data": {
      "image/png": "[encoded data removed]",
      "text/plain": [
       "<Figure size 576x360 with 1 Axes>"
      ]
     },
     "metadata": {
      "needs_background": "light"
     },
     "output_type": "display_data"
    }
   ],
   "source": [
    "fig = plt.figure(figsize = (8,5))\n",
    "plt.plot(x,-df_21, marker= 'o', label = '[T] = 5, [O2] = '+str(OXY)+'% air')\n",
    "plt.plot(x,-df_22, marker= 'o', label = '[T] = 15, [O2] = '+str(OXY)+'% air')\n",
    "plt.plot(x,-df_23, marker= 'o', label = '[T] = 25, [O2] = '+str(OXY)+'% air')\n",
    "plt.plot(x,-df_24, marker= 'o', label = '[T] = 35, [O2] = '+str(OXY)+'% air')\n",
    "plt.plot(x,-df_25, marker= 'o', label = '[T] = 45, [O2] = '+str(OXY)+'% air')\n",
    "plt.tick_params(labelsize=16)\n",
    "plt.legend(fontsize = 16)\n",
    "plt.ylim(0, 90)\n",
    "plt.xlim(100, 20000)\n",
    "plt.xlabel('Frequency (Hz)', fontsize = 16)\n",
    "plt.ylabel('Phase shift ($^\\circ$)', fontsize = 16)\n",
    "plt.xscale('log')\n",
    "fig.savefig('../paper/expdata2.eps')"
   ]
  },
  {
   "cell_type": "markdown",
   "metadata": {
    "colab_type": "text",
    "id": "i-H-JjlyFVQa"
   },
   "source": [
    "# Subtracting the reference (AT THE MOMENT WE SKIP THIS STEP)\n",
    "\n",
    "**In clarification with Michi from Francesca**\n",
    "\n",
    "Now let's first subtract the reference."
   ]
  },
  {
   "cell_type": "code",
   "execution_count": null,
   "metadata": {
    "colab": {},
    "colab_type": "code",
    "id": "0XEPfaHdKolE"
   },
   "outputs": [],
   "source": [
    "# for i in range (train_data_np.shape[0]):\n",
    "#  train_data_np[i] = train_data_np[i] - ref_data"
   ]
  },
  {
   "cell_type": "markdown",
   "metadata": {},
   "source": [
    "# Options for saving data for training"
   ]
  },
  {
   "cell_type": "markdown",
   "metadata": {},
   "source": [
    "1. $\\theta / \\ 90$\n",
    "2. $\\theta / \\theta_0$\n",
    "3. $\\tan \\theta / \\tan \\theta_0$\n",
    "4. $\\theta_0 / \\theta$"
   ]
  },
  {
   "cell_type": "markdown",
   "metadata": {},
   "source": [
    "# Case 1- $\\theta / 90$"
   ]
  },
  {
   "cell_type": "code",
   "execution_count": 139,
   "metadata": {},
   "outputs": [],
   "source": [
    "train_data_np_norm = np.zeros(train_data_np.shape)\n",
    "train_data_np_norm = train_data_np / 90.0"
   ]
  },
  {
   "cell_type": "markdown",
   "metadata": {
    "colab_type": "text",
    "id": "oj3b36oJs-_b"
   },
   "source": [
    "# Save the data"
   ]
  },
  {
   "cell_type": "markdown",
   "metadata": {
    "colab_type": "text",
    "id": "7iLPQNP_YFr3"
   },
   "source": [
    "## Save data"
   ]
  },
  {
   "cell_type": "code",
   "execution_count": 140,
   "metadata": {
    "colab": {},
    "colab_type": "code",
    "id": "w6cPH6jSYL-J"
   },
   "outputs": [],
   "source": [
    "np.savetxt(root_folder + 'train_data1.csv', train_data_np_norm, delimiter=',')"
   ]
  },
  {
   "cell_type": "markdown",
   "metadata": {
    "colab_type": "text",
    "id": "pBR6HCYgYKBf"
   },
   "source": [
    "## Save targets"
   ]
  },
  {
   "cell_type": "code",
   "execution_count": 141,
   "metadata": {
    "colab": {},
    "colab_type": "code",
    "id": "AauywICjYLEw"
   },
   "outputs": [],
   "source": [
    "np.savetxt(root_folder + 'train_targets1.csv', train_targets_np, delimiter=',')"
   ]
  },
  {
   "cell_type": "markdown",
   "metadata": {},
   "source": [
    "# Case 2- $\\theta / \\theta_0$"
   ]
  },
  {
   "cell_type": "code",
   "execution_count": 143,
   "metadata": {},
   "outputs": [],
   "source": [
    "train_data_norm = []\n",
    "\n",
    "for i in range (train_data_np.shape[0]):\n",
    "  # for each values of T and O2 identify the right dataset\n",
    "\n",
    "  T_ = train_targets_np[i][0]\n",
    "  zero_ = df_zero[(df_zero['T'] == T_)].iloc[0]\n",
    "  \n",
    "\n",
    "  #res_ = np.divide(train_data_np[i], zero_['average'])\n",
    "  res_ = np.divide(train_data_np[i], zero_['average'])\n",
    "  \n",
    "  train_data_norm.append(res_)\n",
    "  \n",
    "\n",
    "train_data_norm_np = np.array(train_data_norm)"
   ]
  },
  {
   "cell_type": "markdown",
   "metadata": {
    "colab_type": "text",
    "id": "oj3b36oJs-_b"
   },
   "source": [
    "# Save the data"
   ]
  },
  {
   "cell_type": "markdown",
   "metadata": {
    "colab_type": "text",
    "id": "7iLPQNP_YFr3"
   },
   "source": [
    "## Save data"
   ]
  },
  {
   "cell_type": "code",
   "execution_count": 144,
   "metadata": {
    "colab": {},
    "colab_type": "code",
    "id": "w6cPH6jSYL-J"
   },
   "outputs": [],
   "source": [
    "np.savetxt(root_folder + 'train_data2.csv', train_data_np_norm, delimiter=',')"
   ]
  },
  {
   "cell_type": "markdown",
   "metadata": {
    "colab_type": "text",
    "id": "pBR6HCYgYKBf"
   },
   "source": [
    "## Save targets"
   ]
  },
  {
   "cell_type": "code",
   "execution_count": 145,
   "metadata": {
    "colab": {},
    "colab_type": "code",
    "id": "AauywICjYLEw"
   },
   "outputs": [],
   "source": [
    "np.savetxt(root_folder + 'train_targets2.csv', train_targets_np, delimiter=',')"
   ]
  },
  {
   "cell_type": "markdown",
   "metadata": {},
   "source": [
    "# Case 3 - $\\tan \\theta / \\tan \\theta_0$"
   ]
  },
  {
   "cell_type": "code",
   "execution_count": 24,
   "metadata": {},
   "outputs": [],
   "source": [
    "\n",
    "\n",
    "train_data_norm = []\n",
    "\n",
    "for i in range (train_data_np.shape[0]):\n",
    "  # for each values of T and O2 identify the right dataset\n",
    "\n",
    "  T_ = train_targets_np[i][0]\n",
    "  zero_ = df_zero[(df_zero['T'] == T_)].iloc[0]\n",
    "  \n",
    "\n",
    "  #res_ = np.divide(train_data_np[i], zero_['average'])\n",
    "  res_ = np.divide(np.tan(train_data_np[i]*np.pi/180.0), np.tan(zero_['average']*np.pi/180.0))\n",
    "  \n",
    "  train_data_norm.append(res_)\n",
    "  \n",
    "\n",
    "train_data_norm_np = np.array(train_data_norm)"
   ]
  },
  {
   "cell_type": "markdown",
   "metadata": {
    "colab_type": "text",
    "id": "oj3b36oJs-_b"
   },
   "source": [
    "# Save the data"
   ]
  },
  {
   "cell_type": "markdown",
   "metadata": {
    "colab_type": "text",
    "id": "7iLPQNP_YFr3"
   },
   "source": [
    "## Save data"
   ]
  },
  {
   "cell_type": "code",
   "execution_count": 25,
   "metadata": {
    "colab": {},
    "colab_type": "code",
    "id": "w6cPH6jSYL-J"
   },
   "outputs": [],
   "source": [
    "np.savetxt(root_folder + 'train_data3.csv', train_data_norm_np, delimiter=',')"
   ]
  },
  {
   "cell_type": "markdown",
   "metadata": {
    "colab_type": "text",
    "id": "pBR6HCYgYKBf"
   },
   "source": [
    "## Save targets"
   ]
  },
  {
   "cell_type": "code",
   "execution_count": 26,
   "metadata": {
    "colab": {},
    "colab_type": "code",
    "id": "AauywICjYLEw"
   },
   "outputs": [],
   "source": [
    "np.savetxt(root_folder + 'train_targets3.csv', train_targets_np, delimiter=',')"
   ]
  },
  {
   "cell_type": "markdown",
   "metadata": {},
   "source": [
    "# Case 4 - $\\theta_0 / \\theta$"
   ]
  },
  {
   "cell_type": "markdown",
   "metadata": {
    "colab_type": "text",
    "id": "yh-QLtmZFZ27"
   },
   "source": [
    "# diving by the values at 0 %"
   ]
  },
  {
   "cell_type": "code",
   "execution_count": 132,
   "metadata": {
    "colab": {},
    "colab_type": "code",
    "id": "FUocclHaNm9Y"
   },
   "outputs": [],
   "source": [
    "train_data_norm = []\n",
    "\n",
    "for i in range (train_data_np.shape[0]):\n",
    "  # for each values of T and O2 identify the right dataset\n",
    "\n",
    "  T_ = train_targets_np[i][0]\n",
    "  zero_ = df_zero[(df_zero['T'] == T_)].iloc[0]\n",
    "  \n",
    "\n",
    "  #res_ = np.divide(train_data_np[i], zero_['average'])\n",
    "  res_ = np.divide(zero_['average'], train_data_np[i])\n",
    "  \n",
    "  train_data_norm.append(res_)\n",
    "  \n",
    "\n",
    "train_data_norm_np = np.array(train_data_norm)"
   ]
  },
  {
   "cell_type": "markdown",
   "metadata": {
    "colab_type": "text",
    "id": "k-mHjHGyTJz5"
   },
   "source": [
    "Now let's print one to check how it looks like."
   ]
  },
  {
   "cell_type": "markdown",
   "metadata": {
    "colab_type": "text",
    "id": "oj3b36oJs-_b"
   },
   "source": [
    "# Save the data"
   ]
  },
  {
   "cell_type": "markdown",
   "metadata": {
    "colab_type": "text",
    "id": "7iLPQNP_YFr3"
   },
   "source": [
    "## Save data"
   ]
  },
  {
   "cell_type": "code",
   "execution_count": 133,
   "metadata": {
    "colab": {},
    "colab_type": "code",
    "id": "w6cPH6jSYL-J"
   },
   "outputs": [],
   "source": [
    "np.savetxt(root_folder + 'train_data4.csv', train_data_norm_np, delimiter=',')"
   ]
  },
  {
   "cell_type": "markdown",
   "metadata": {
    "colab_type": "text",
    "id": "pBR6HCYgYKBf"
   },
   "source": [
    "## Save targets"
   ]
  },
  {
   "cell_type": "code",
   "execution_count": 134,
   "metadata": {
    "colab": {},
    "colab_type": "code",
    "id": "AauywICjYLEw"
   },
   "outputs": [],
   "source": [
    "np.savetxt(root_folder + 'train_targets4.csv', train_targets_np, delimiter=',')"
   ]
  },
  {
   "cell_type": "markdown",
   "metadata": {},
   "source": [
    "# Frequency values"
   ]
  },
  {
   "cell_type": "code",
   "execution_count": 195,
   "metadata": {
    "colab": {
     "base_uri": "https://localhost:8080/",
     "height": 143
    },
    "colab_type": "code",
    "id": "9xsE3SraY-7o",
    "outputId": "3fdd293d-7425-4ead-ed47-03c44719cc3d"
   },
   "outputs": [
    {
     "data": {
      "text/plain": [
       "array([  200.,   300.,   400.,   500.,   600.,   700.,   800.,   900.,\n",
       "        1000.,  1250.,  1500.,  1750.,  2000.,  2250.,  2500.,  2750.,\n",
       "        3000.,  3250.,  3500.,  3750.,  4000.,  4250.,  4500.,  4750.,\n",
       "        5000.,  5250.,  5500.,  5750.,  6000.,  6250.,  6500.,  6750.,\n",
       "        7000.,  7250.,  7500.,  7750.,  8000.,  8250.,  8500.,  8750.,\n",
       "        9000.,  9250.,  9500.,  9750., 10000., 11000., 12000., 13000.,\n",
       "       14000., 15000.])"
      ]
     },
     "execution_count": 195,
     "metadata": {
      "tags": []
     },
     "output_type": "execute_result"
    }
   ],
   "source": [
    "x"
   ]
  }
 ],
 "metadata": {
  "accelerator": "GPU",
  "colab": {
   "collapsed_sections": [],
   "include_colab_link": true,
   "name": "o2t_data_preparation v2.0.ipynb",
   "provenance": []
  },
  "kernelspec": {
   "display_name": "Python 3",
   "language": "python",
   "name": "python3"
  },
  "language_info": {
   "codemirror_mode": {
    "name": "ipython",
    "version": 3
   },
   "file_extension": ".py",
   "mimetype": "text/x-python",
   "name": "python",
   "nbconvert_exporter": "python",
   "pygments_lexer": "ipython3",
   "version": "3.7.2"
  }
 },
 "nbformat": 4,
 "nbformat_minor": 2
}
