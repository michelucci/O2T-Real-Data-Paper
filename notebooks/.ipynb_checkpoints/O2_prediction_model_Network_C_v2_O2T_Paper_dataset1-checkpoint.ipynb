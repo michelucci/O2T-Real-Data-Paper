{
 "cells": [
  {
   "cell_type": "markdown",
   "metadata": {
    "colab_type": "text",
    "id": "view-in-github"
   },
   "source": [
    "<a href=\"https://colab.research.google.com/github/michelucci/O2T-Real-Data-Paper/blob/master/notebooks/O2_prediction_model_Network_C_v2_O2T_Paper.ipynb\" target=\"_parent\"><img src=\"https://colab.research.google.com/assets/colab-badge.svg\" alt=\"Open In Colab\"/></a>"
   ]
  },
  {
   "cell_type": "markdown",
   "metadata": {
    "colab_type": "text",
    "id": "czCW0XAgZvEm"
   },
   "source": [
    "# Code related to the paper on the prediction of $[O2]$ and $T$ at the same time with MTL - Network C\n",
    "\n",
    "## Dataset 1 -- $\\theta / 90$"
   ]
  },
  {
   "cell_type": "code",
   "execution_count": 1,
   "metadata": {
    "colab": {
     "base_uri": "https://localhost:8080/",
     "height": 82
    },
    "colab_type": "code",
    "id": "2Tp3iYK_ZvEo",
    "outputId": "cc5ad6d8-ffa9-486b-86c8-4f77b51c0dbc"
   },
   "outputs": [
    {
     "name": "stderr",
     "output_type": "stream",
     "text": [
      "Using TensorFlow backend.\n"
     ]
    }
   ],
   "source": [
    "import numpy as np\n",
    "import pandas as pd\n",
    "\n",
    "import matplotlib.pyplot as plt\n",
    "\n",
    "import tensorflow as tf\n",
    "\n",
    "# Keras\n",
    "\n",
    "from tensorflow.keras.models import Sequential\n",
    "\n",
    "#from tensorflow.keras.layers import Activation\n",
    "from tensorflow.keras.optimizers import SGD\n",
    "from tensorflow.keras.optimizers import Adam\n",
    "from tensorflow.keras.layers import Dense\n",
    "from tensorflow.keras import Model\n",
    "\n",
    "from tensorflow.keras import layers\n",
    "import tensorflow.keras as keras\n",
    "\n",
    "from keras.utils.vis_utils import plot_model\n",
    "\n",
    "import tensorflow.keras.backend as K\n",
    "\n",
    "from numpy import random\n",
    "\n",
    "from scipy.interpolate import interp1d\n",
    "\n",
    "from matplotlib.lines import Line2D\n",
    "\n",
    "import seaborn as sns"
   ]
  },
  {
   "cell_type": "markdown",
   "metadata": {
    "colab_type": "text",
    "id": "gr8mzs4gZvEv"
   },
   "source": [
    "# Read the files (Google Drive)"
   ]
  },
  {
   "cell_type": "code",
   "execution_count": 2,
   "metadata": {
    "colab": {
     "base_uri": "https://localhost:8080/",
     "height": 127
    },
    "colab_type": "code",
    "id": "ktBIU99yaC9x",
    "outputId": "c83faa66-b116-48e2-cb65-70ee513eba87"
   },
   "outputs": [
    {
     "ename": "ModuleNotFoundError",
     "evalue": "No module named 'google.colab'",
     "output_type": "error",
     "traceback": [
      "\u001b[0;31m---------------------------------------------------------------------------\u001b[0m",
      "\u001b[0;31mModuleNotFoundError\u001b[0m                       Traceback (most recent call last)",
      "\u001b[0;32m<ipython-input-2-4996ee3d8d09>\u001b[0m in \u001b[0;36m<module>\u001b[0;34m\u001b[0m\n\u001b[0;32m----> 1\u001b[0;31m \u001b[0;32mfrom\u001b[0m \u001b[0mgoogle\u001b[0m\u001b[0;34m.\u001b[0m\u001b[0mcolab\u001b[0m \u001b[0;32mimport\u001b[0m \u001b[0mdrive\u001b[0m\u001b[0;34m\u001b[0m\u001b[0;34m\u001b[0m\u001b[0m\n\u001b[0m\u001b[1;32m      2\u001b[0m \u001b[0mdrive\u001b[0m\u001b[0;34m.\u001b[0m\u001b[0mmount\u001b[0m\u001b[0;34m(\u001b[0m\u001b[0;34m'/content/gdrive'\u001b[0m\u001b[0;34m)\u001b[0m\u001b[0;34m\u001b[0m\u001b[0;34m\u001b[0m\u001b[0m\n",
      "\u001b[0;31mModuleNotFoundError\u001b[0m: No module named 'google.colab'"
     ]
    }
   ],
   "source": [
    "from google.colab import drive\n",
    "drive.mount('/content/gdrive')"
   ]
  },
  {
   "cell_type": "code",
   "execution_count": 2,
   "metadata": {
    "colab": {},
    "colab_type": "code",
    "id": "585dLmzDZvEw"
   },
   "outputs": [],
   "source": [
    "train_data_df = pd.read_csv('../data/train_data1.csv', header = None)\n",
    "train_target_df = pd.read_csv('../data/train_targets1.csv', names=['T', 'O2'], header = None)"
   ]
  },
  {
   "cell_type": "markdown",
   "metadata": {},
   "source": [
    "# Read the files (Local files)"
   ]
  },
  {
   "cell_type": "code",
   "execution_count": 360,
   "metadata": {},
   "outputs": [],
   "source": [
    "train_data_df = pd.read_csv('../data/train_data1.csv', header = None)\n",
    "train_target_df = pd.read_csv('../data/train_targets1.csv', names=['T', 'O2'], header = None)"
   ]
  },
  {
   "cell_type": "code",
   "execution_count": 361,
   "metadata": {
    "colab": {
     "base_uri": "https://localhost:8080/",
     "height": 224
    },
    "colab_type": "code",
    "id": "nQhfDxlDZvE0",
    "outputId": "eec23715-158d-4e4f-8db0-c7a57aaaa8d9"
   },
   "outputs": [
    {
     "data": {
      "text/html": [
       "<div>\n",
       "<style scoped>\n",
       "    .dataframe tbody tr th:only-of-type {\n",
       "        vertical-align: middle;\n",
       "    }\n",
       "\n",
       "    .dataframe tbody tr th {\n",
       "        vertical-align: top;\n",
       "    }\n",
       "\n",
       "    .dataframe thead th {\n",
       "        text-align: right;\n",
       "    }\n",
       "</style>\n",
       "<table border=\"1\" class=\"dataframe\">\n",
       "  <thead>\n",
       "    <tr style=\"text-align: right;\">\n",
       "      <th></th>\n",
       "      <th>0</th>\n",
       "      <th>1</th>\n",
       "      <th>2</th>\n",
       "      <th>3</th>\n",
       "      <th>4</th>\n",
       "      <th>5</th>\n",
       "      <th>6</th>\n",
       "      <th>7</th>\n",
       "      <th>8</th>\n",
       "      <th>9</th>\n",
       "      <th>...</th>\n",
       "      <th>40</th>\n",
       "      <th>41</th>\n",
       "      <th>42</th>\n",
       "      <th>43</th>\n",
       "      <th>44</th>\n",
       "      <th>45</th>\n",
       "      <th>46</th>\n",
       "      <th>47</th>\n",
       "      <th>48</th>\n",
       "      <th>49</th>\n",
       "    </tr>\n",
       "  </thead>\n",
       "  <tbody>\n",
       "    <tr>\n",
       "      <th>0</th>\n",
       "      <td>-0.026933</td>\n",
       "      <td>-0.040467</td>\n",
       "      <td>-0.053667</td>\n",
       "      <td>-0.067067</td>\n",
       "      <td>-0.080400</td>\n",
       "      <td>-0.093333</td>\n",
       "      <td>-0.106267</td>\n",
       "      <td>-0.119067</td>\n",
       "      <td>-0.131733</td>\n",
       "      <td>-0.162200</td>\n",
       "      <td>...</td>\n",
       "      <td>-0.636400</td>\n",
       "      <td>-0.643267</td>\n",
       "      <td>-0.650067</td>\n",
       "      <td>-0.656533</td>\n",
       "      <td>-0.6628</td>\n",
       "      <td>-0.685600</td>\n",
       "      <td>-0.705667</td>\n",
       "      <td>-0.723333</td>\n",
       "      <td>-0.739133</td>\n",
       "      <td>-0.753067</td>\n",
       "    </tr>\n",
       "    <tr>\n",
       "      <th>1</th>\n",
       "      <td>-0.027000</td>\n",
       "      <td>-0.040400</td>\n",
       "      <td>-0.053800</td>\n",
       "      <td>-0.067133</td>\n",
       "      <td>-0.080333</td>\n",
       "      <td>-0.093333</td>\n",
       "      <td>-0.106267</td>\n",
       "      <td>-0.119000</td>\n",
       "      <td>-0.131600</td>\n",
       "      <td>-0.162133</td>\n",
       "      <td>...</td>\n",
       "      <td>-0.636333</td>\n",
       "      <td>-0.643267</td>\n",
       "      <td>-0.650067</td>\n",
       "      <td>-0.656533</td>\n",
       "      <td>-0.6628</td>\n",
       "      <td>-0.685600</td>\n",
       "      <td>-0.705667</td>\n",
       "      <td>-0.723333</td>\n",
       "      <td>-0.739133</td>\n",
       "      <td>-0.753067</td>\n",
       "    </tr>\n",
       "    <tr>\n",
       "      <th>2</th>\n",
       "      <td>-0.027000</td>\n",
       "      <td>-0.040467</td>\n",
       "      <td>-0.053667</td>\n",
       "      <td>-0.067133</td>\n",
       "      <td>-0.080333</td>\n",
       "      <td>-0.093333</td>\n",
       "      <td>-0.106200</td>\n",
       "      <td>-0.119000</td>\n",
       "      <td>-0.131667</td>\n",
       "      <td>-0.162200</td>\n",
       "      <td>...</td>\n",
       "      <td>-0.636467</td>\n",
       "      <td>-0.643400</td>\n",
       "      <td>-0.650200</td>\n",
       "      <td>-0.656533</td>\n",
       "      <td>-0.6628</td>\n",
       "      <td>-0.685600</td>\n",
       "      <td>-0.705667</td>\n",
       "      <td>-0.723467</td>\n",
       "      <td>-0.739133</td>\n",
       "      <td>-0.753067</td>\n",
       "    </tr>\n",
       "    <tr>\n",
       "      <th>3</th>\n",
       "      <td>-0.027000</td>\n",
       "      <td>-0.040400</td>\n",
       "      <td>-0.053867</td>\n",
       "      <td>-0.067267</td>\n",
       "      <td>-0.080267</td>\n",
       "      <td>-0.093400</td>\n",
       "      <td>-0.106267</td>\n",
       "      <td>-0.119000</td>\n",
       "      <td>-0.131733</td>\n",
       "      <td>-0.162200</td>\n",
       "      <td>...</td>\n",
       "      <td>-0.636467</td>\n",
       "      <td>-0.643400</td>\n",
       "      <td>-0.650200</td>\n",
       "      <td>-0.656667</td>\n",
       "      <td>-0.6628</td>\n",
       "      <td>-0.685600</td>\n",
       "      <td>-0.705667</td>\n",
       "      <td>-0.723333</td>\n",
       "      <td>-0.739133</td>\n",
       "      <td>-0.753067</td>\n",
       "    </tr>\n",
       "    <tr>\n",
       "      <th>4</th>\n",
       "      <td>-0.027067</td>\n",
       "      <td>-0.040467</td>\n",
       "      <td>-0.053733</td>\n",
       "      <td>-0.067133</td>\n",
       "      <td>-0.080400</td>\n",
       "      <td>-0.093333</td>\n",
       "      <td>-0.106333</td>\n",
       "      <td>-0.119067</td>\n",
       "      <td>-0.131667</td>\n",
       "      <td>-0.162333</td>\n",
       "      <td>...</td>\n",
       "      <td>-0.636467</td>\n",
       "      <td>-0.643400</td>\n",
       "      <td>-0.650133</td>\n",
       "      <td>-0.656600</td>\n",
       "      <td>-0.6628</td>\n",
       "      <td>-0.685733</td>\n",
       "      <td>-0.705667</td>\n",
       "      <td>-0.723467</td>\n",
       "      <td>-0.739133</td>\n",
       "      <td>-0.753267</td>\n",
       "    </tr>\n",
       "  </tbody>\n",
       "</table>\n",
       "<p>5 rows × 50 columns</p>\n",
       "</div>"
      ],
      "text/plain": [
       "         0         1         2         3         4         5         6   \\\n",
       "0 -0.026933 -0.040467 -0.053667 -0.067067 -0.080400 -0.093333 -0.106267   \n",
       "1 -0.027000 -0.040400 -0.053800 -0.067133 -0.080333 -0.093333 -0.106267   \n",
       "2 -0.027000 -0.040467 -0.053667 -0.067133 -0.080333 -0.093333 -0.106200   \n",
       "3 -0.027000 -0.040400 -0.053867 -0.067267 -0.080267 -0.093400 -0.106267   \n",
       "4 -0.027067 -0.040467 -0.053733 -0.067133 -0.080400 -0.093333 -0.106333   \n",
       "\n",
       "         7         8         9   ...        40        41        42        43  \\\n",
       "0 -0.119067 -0.131733 -0.162200  ... -0.636400 -0.643267 -0.650067 -0.656533   \n",
       "1 -0.119000 -0.131600 -0.162133  ... -0.636333 -0.643267 -0.650067 -0.656533   \n",
       "2 -0.119000 -0.131667 -0.162200  ... -0.636467 -0.643400 -0.650200 -0.656533   \n",
       "3 -0.119000 -0.131733 -0.162200  ... -0.636467 -0.643400 -0.650200 -0.656667   \n",
       "4 -0.119067 -0.131667 -0.162333  ... -0.636467 -0.643400 -0.650133 -0.656600   \n",
       "\n",
       "       44        45        46        47        48        49  \n",
       "0 -0.6628 -0.685600 -0.705667 -0.723333 -0.739133 -0.753067  \n",
       "1 -0.6628 -0.685600 -0.705667 -0.723333 -0.739133 -0.753067  \n",
       "2 -0.6628 -0.685600 -0.705667 -0.723467 -0.739133 -0.753067  \n",
       "3 -0.6628 -0.685600 -0.705667 -0.723333 -0.739133 -0.753067  \n",
       "4 -0.6628 -0.685733 -0.705667 -0.723467 -0.739133 -0.753267  \n",
       "\n",
       "[5 rows x 50 columns]"
      ]
     },
     "execution_count": 361,
     "metadata": {},
     "output_type": "execute_result"
    }
   ],
   "source": [
    "train_data_df.head()"
   ]
  },
  {
   "cell_type": "code",
   "execution_count": 362,
   "metadata": {
    "colab": {
     "base_uri": "https://localhost:8080/",
     "height": 204
    },
    "colab_type": "code",
    "id": "pxznLqEdaYGd",
    "outputId": "32bdef47-5b00-49b4-ff7f-d23fcc45cae1"
   },
   "outputs": [
    {
     "data": {
      "text/html": [
       "<div>\n",
       "<style scoped>\n",
       "    .dataframe tbody tr th:only-of-type {\n",
       "        vertical-align: middle;\n",
       "    }\n",
       "\n",
       "    .dataframe tbody tr th {\n",
       "        vertical-align: top;\n",
       "    }\n",
       "\n",
       "    .dataframe thead th {\n",
       "        text-align: right;\n",
       "    }\n",
       "</style>\n",
       "<table border=\"1\" class=\"dataframe\">\n",
       "  <thead>\n",
       "    <tr style=\"text-align: right;\">\n",
       "      <th></th>\n",
       "      <th>T</th>\n",
       "      <th>O2</th>\n",
       "    </tr>\n",
       "  </thead>\n",
       "  <tbody>\n",
       "    <tr>\n",
       "      <th>0</th>\n",
       "      <td>20.0</td>\n",
       "      <td>35.0</td>\n",
       "    </tr>\n",
       "    <tr>\n",
       "      <th>1</th>\n",
       "      <td>20.0</td>\n",
       "      <td>35.0</td>\n",
       "    </tr>\n",
       "    <tr>\n",
       "      <th>2</th>\n",
       "      <td>20.0</td>\n",
       "      <td>35.0</td>\n",
       "    </tr>\n",
       "    <tr>\n",
       "      <th>3</th>\n",
       "      <td>20.0</td>\n",
       "      <td>35.0</td>\n",
       "    </tr>\n",
       "    <tr>\n",
       "      <th>4</th>\n",
       "      <td>20.0</td>\n",
       "      <td>35.0</td>\n",
       "    </tr>\n",
       "  </tbody>\n",
       "</table>\n",
       "</div>"
      ],
      "text/plain": [
       "      T    O2\n",
       "0  20.0  35.0\n",
       "1  20.0  35.0\n",
       "2  20.0  35.0\n",
       "3  20.0  35.0\n",
       "4  20.0  35.0"
      ]
     },
     "execution_count": 362,
     "metadata": {},
     "output_type": "execute_result"
    }
   ],
   "source": [
    "train_target_df.head()"
   ]
  },
  {
   "cell_type": "code",
   "execution_count": 363,
   "metadata": {
    "colab": {},
    "colab_type": "code",
    "id": "5_8nAYJFZvE2"
   },
   "outputs": [],
   "source": [
    "train_target_df[['O2']] = train_target_df[['O2']]/100.0\n",
    "train_target_df[['T']] = train_target_df[['T']]/45.0"
   ]
  },
  {
   "cell_type": "markdown",
   "metadata": {
    "colab_type": "text",
    "id": "dHMEf3fIZvE7"
   },
   "source": [
    "Note that the values for $T$ are going from 0 to 1. To obtin the actual temperature in Celsius degrees, you need to multiply by $45$."
   ]
  },
  {
   "cell_type": "code",
   "execution_count": 364,
   "metadata": {
    "colab": {
     "base_uri": "https://localhost:8080/",
     "height": 71
    },
    "colab_type": "code",
    "id": "6lGCP7m5ZvE7",
    "outputId": "022d8fb4-876a-41b1-d332-50e550ceeb4e"
   },
   "outputs": [
    {
     "name": "stdout",
     "output_type": "stream",
     "text": [
      "[0.44444444 0.55555556 0.22222222 0.66666667 0.77777778 0.33333333\n",
      " 0.88888889 1.         0.11111111]\n",
      "[20. 25. 10. 30. 35. 15. 40. 45.  5.]\n"
     ]
    }
   ],
   "source": [
    "print(train_target_df['T'].unique())\n",
    "print(train_target_df['T'].unique()*45)"
   ]
  },
  {
   "cell_type": "markdown",
   "metadata": {
    "colab_type": "text",
    "id": "ZcPxObX6ZvE9"
   },
   "source": [
    "## Dimensions"
   ]
  },
  {
   "cell_type": "code",
   "execution_count": 365,
   "metadata": {
    "colab": {
     "base_uri": "https://localhost:8080/",
     "height": 35
    },
    "colab_type": "code",
    "id": "iq3EzwubZvE-",
    "outputId": "e68a7651-d672-4e74-b8af-61f568197cf8"
   },
   "outputs": [
    {
     "data": {
      "text/plain": [
       "(3780, 50)"
      ]
     },
     "execution_count": 365,
     "metadata": {},
     "output_type": "execute_result"
    }
   ],
   "source": [
    "train_data_df.shape"
   ]
  },
  {
   "cell_type": "code",
   "execution_count": 366,
   "metadata": {
    "colab": {
     "base_uri": "https://localhost:8080/",
     "height": 35
    },
    "colab_type": "code",
    "id": "DrV36zyBZvFB",
    "outputId": "2281b8ad-2796-4f1e-fcc1-4be29dd05ffd"
   },
   "outputs": [
    {
     "data": {
      "text/plain": [
       "(420, 2)"
      ]
     },
     "execution_count": 366,
     "metadata": {},
     "output_type": "execute_result"
    }
   ],
   "source": [
    "train_target_df[train_target_df['T'] == 5./45.].shape"
   ]
  },
  {
   "cell_type": "markdown",
   "metadata": {
    "colab_type": "text",
    "id": "MBa0TH6rZvFD"
   },
   "source": [
    "To check how many values we have for each temperature we can do easily with ```groupby()```."
   ]
  },
  {
   "cell_type": "code",
   "execution_count": 367,
   "metadata": {
    "colab": {
     "base_uri": "https://localhost:8080/",
     "height": 215
    },
    "colab_type": "code",
    "id": "kkXJq1UDZvFD",
    "outputId": "63b88eca-ee32-4d9a-e80b-25fcf1818980"
   },
   "outputs": [
    {
     "data": {
      "text/plain": [
       "T\n",
       "0.111111    21\n",
       "0.222222    21\n",
       "0.333333    21\n",
       "0.444444    21\n",
       "0.555556    21\n",
       "0.666667    21\n",
       "0.777778    21\n",
       "0.888889    21\n",
       "1.000000    21\n",
       "Name: O2, dtype: int64"
      ]
     },
     "execution_count": 367,
     "metadata": {},
     "output_type": "execute_result"
    }
   ],
   "source": [
    "train_target_df.groupby('T')['O2'].nunique()"
   ]
  },
  {
   "cell_type": "markdown",
   "metadata": {
    "colab_type": "text",
    "id": "6oK-zfT_ZvFF"
   },
   "source": [
    "Each of the temperature has 5000 observations."
   ]
  },
  {
   "cell_type": "markdown",
   "metadata": {
    "colab_type": "text",
    "id": "fSqYdC5uZvFF"
   },
   "source": [
    "## Reset the index"
   ]
  },
  {
   "cell_type": "code",
   "execution_count": 368,
   "metadata": {
    "colab": {},
    "colab_type": "code",
    "id": "30duZuryZvFF"
   },
   "outputs": [],
   "source": [
    "train_data_df = train_data_df.reset_index(drop = True);\n",
    "train_target_df = train_target_df.reset_index(drop = True);"
   ]
  },
  {
   "cell_type": "markdown",
   "metadata": {
    "colab_type": "text",
    "id": "w72f8KBRZvFG"
   },
   "source": [
    "The unique values of the temperature ($T$) are, as expected"
   ]
  },
  {
   "cell_type": "code",
   "execution_count": 369,
   "metadata": {
    "colab": {
     "base_uri": "https://localhost:8080/",
     "height": 35
    },
    "colab_type": "code",
    "id": "YdlvVhd6ZvFH",
    "outputId": "f9185658-f591-41a3-8b56-dd79377e783f"
   },
   "outputs": [
    {
     "data": {
      "text/plain": [
       "array([ 5., 10., 15., 20., 25., 30., 35., 40., 45.])"
      ]
     },
     "execution_count": 369,
     "metadata": {},
     "output_type": "execute_result"
    }
   ],
   "source": [
    "np.unique(train_target_df['T'])*45"
   ]
  },
  {
   "cell_type": "markdown",
   "metadata": {
    "colab_type": "text",
    "id": "_AGqcSlqZvFI"
   },
   "source": [
    "# Frequency values"
   ]
  },
  {
   "cell_type": "code",
   "execution_count": 370,
   "metadata": {
    "colab": {},
    "colab_type": "code",
    "id": "j6DEKz4GZvFI"
   },
   "outputs": [],
   "source": [
    "wred = [  200.,   300.,   400.,   500.,   600.,   700.,   800.,   900.,\n",
    "        1000.,  1250.,  1500.,  1750.,  2000.,  2250.,  2500.,  2750.,\n",
    "        3000.,  3250.,  3500.,  3750.,  4000.,  4250.,  4500.,  4750.,\n",
    "        5000.,  5250.,  5500.,  5750.,  6000.,  6250.,  6500.,  6750.,\n",
    "        7000.,  7250.,  7500.,  7750.,  8000.,  8250.,  8500.,  8750.,\n",
    "        9000.,  9250.,  9500.,  9750., 10000., 11000., 12000., 13000.,\n",
    "       14000., 15000.]"
   ]
  },
  {
   "cell_type": "markdown",
   "metadata": {
    "colab_type": "text",
    "id": "H3moo3oEZvFJ"
   },
   "source": [
    "# Dataset split"
   ]
  },
  {
   "cell_type": "code",
   "execution_count": 371,
   "metadata": {
    "colab": {},
    "colab_type": "code",
    "id": "syS1hclTZvFK"
   },
   "outputs": [],
   "source": [
    "np.random.seed(42)\n",
    "rnd = np.random.rand(len(train_target_df)) < 0.8"
   ]
  },
  {
   "cell_type": "code",
   "execution_count": 372,
   "metadata": {
    "colab": {},
    "colab_type": "code",
    "id": "7Kt_BJZFZvFL"
   },
   "outputs": [],
   "source": [
    "data_train = -train_data_df[rnd]\n",
    "data_dev = -train_data_df[~rnd]\n",
    "targets_train = train_target_df[rnd]\n",
    "targets_dev = train_target_df[~rnd]"
   ]
  },
  {
   "cell_type": "code",
   "execution_count": 373,
   "metadata": {},
   "outputs": [
    {
     "data": {
      "text/plain": [
       "0.8895333333333335"
      ]
     },
     "execution_count": 373,
     "metadata": {},
     "output_type": "execute_result"
    }
   ],
   "source": [
    "np.max(np.max(data_train))"
   ]
  },
  {
   "cell_type": "code",
   "execution_count": 374,
   "metadata": {
    "colab": {
     "base_uri": "https://localhost:8080/",
     "height": 53
    },
    "colab_type": "code",
    "id": "BwflCkBrZvFL",
    "outputId": "4bf9ba84-bcda-4a5a-b2ab-89bda87b80dd"
   },
   "outputs": [
    {
     "name": "stdout",
     "output_type": "stream",
     "text": [
      "Number of training data observations is  (3024, 50)\n",
      "Number of dev      data observations is  (756, 50)\n"
     ]
    }
   ],
   "source": [
    "print('Number of training data observations is ', data_train.shape)\n",
    "print('Number of dev      data observations is ', data_dev.shape)"
   ]
  },
  {
   "cell_type": "markdown",
   "metadata": {},
   "source": [
    "# Plot 1"
   ]
  },
  {
   "cell_type": "code",
   "execution_count": 375,
   "metadata": {},
   "outputs": [
    {
     "data": {
      "text/plain": [
       "[<matplotlib.lines.Line2D at 0x7fc7f952ce48>]"
      ]
     },
     "execution_count": 375,
     "metadata": {},
     "output_type": "execute_result"
    },
    {
     "data": {
      "image/png": "[encoded data removed]",
      "text/plain": [
       "<Figure size 432x288 with 1 Axes>"
      ]
     },
     "metadata": {
      "needs_background": "light"
     },
     "output_type": "display_data"
    }
   ],
   "source": [
    "plt.plot(wred, data_train.iloc[500])"
   ]
  },
  {
   "cell_type": "markdown",
   "metadata": {
    "colab_type": "text",
    "id": "HWgTxCDuZvFQ"
   },
   "source": [
    "## Helper Functions"
   ]
  },
  {
   "cell_type": "code",
   "execution_count": 272,
   "metadata": {
    "colab": {},
    "colab_type": "code",
    "id": "ycNFsXOaZvFR"
   },
   "outputs": [],
   "source": [
    "def MAE_T_list_generator(targets_dev, preds_df):\n",
    "    T_values = targets_dev['T'].unique()*45.0\n",
    "    MAE_list = []\n",
    "    MAE_xticks = T_values\n",
    "    MAE_boxplot = []\n",
    "    for T_ in T_values:\n",
    "        elmts = (targets_dev['T'] == T_/45.0)\n",
    "        tmp_ = targets_dev[elmts]\n",
    "        tmp2_ = preds_df[elmts]\n",
    "        mae_ = np.mean(45.0*np.abs(tmp2_['T'].values- tmp_['T'].values))\n",
    "\n",
    "        MAE_boxplot.append(list(45.0*np.abs(tmp_['T'].values-tmp2_['T'].values)))\n",
    "\n",
    "        MAE_list.append(mae_)\n",
    "        \n",
    "    return MAE_boxplot, MAE_list, MAE_xticks"
   ]
  },
  {
   "cell_type": "code",
   "execution_count": 62,
   "metadata": {
    "colab": {},
    "colab_type": "code",
    "id": "7ESrffFUZvFV"
   },
   "outputs": [],
   "source": [
    "def MAE_O2_list_generator(step, targets_dev, preds_df):\n",
    "    breaks = np.arange(step,101.0, step)\n",
    "    MAE_list = []\n",
    "    MAE_xticks = []\n",
    "    MAE_boxplot = []\n",
    "    for O2_ in breaks:\n",
    "        elmts = (targets_dev['O2'] < O2_/100.0) & (targets_dev['O2'] >= (O2_-step)/100.0)\n",
    "        tmp_ = targets_dev[elmts]\n",
    "        tmp2_ = preds_df[elmts]\n",
    "        mae_ = np.mean(100*np.abs(tmp2_['O2'].values- tmp_['O2'].values))\n",
    "\n",
    "        #print (\"MAE for range [\", int(O2_), \",\", int(O2_-step), \"] is\", mae_)\n",
    "\n",
    "        MAE_boxplot.append(list(100.0*np.abs(tmp_['O2'].values-tmp2_['O2'].values)))\n",
    "\n",
    "        MAE_list.append(mae_)\n",
    "        MAE_xticks.append(\"[\"+ str(int(O2_-step))+ \",\"+ str(int(O2_))+ \"]\")\n",
    "    \n",
    "    return MAE_boxplot, MAE_list, MAE_xticks"
   ]
  },
  {
   "cell_type": "code",
   "execution_count": 63,
   "metadata": {
    "colab": {},
    "colab_type": "code",
    "id": "ix9iIYTcZvFW"
   },
   "outputs": [],
   "source": [
    "# Get predictions\n",
    "def get_predictions(model, targets_dev, data_dev):\n",
    "    preds = model.predict(data_dev)\n",
    "    preds_df = pd.DataFrame(preds)\n",
    "    preds_df.columns = ['O2', 'T']\n",
    "    targets_dev_ = targets_dev.reset_index(drop = True)\n",
    "    preds_df_ = preds_df.reset_index(drop = True)\n",
    "    \n",
    "    return targets_dev_, preds_df_"
   ]
  },
  {
   "cell_type": "code",
   "execution_count": 154,
   "metadata": {
    "colab": {},
    "colab_type": "code",
    "id": "xY5mtw2DZvFW"
   },
   "outputs": [],
   "source": [
    "class CustomCallback(keras.callbacks.Callback):\n",
    "    def on_epoch_end(self, epoch, logs={}):\n",
    "        if (epoch % 1000 == 0):\n",
    "            print (\"Just finished epoch\", epoch)\n",
    "            print (logs)\n",
    "            return\n",
    "        \n",
    "class CustomCallbackProgress(keras.callbacks.Callback):\n",
    "    \n",
    "    def __init__(self, totalEpochs, step):\n",
    "        self.step = 0\n",
    "        self.totalEpochs = totalEpochs\n",
    "        self.step = step\n",
    "        \n",
    "        \n",
    "    def on_epoch_end(self, epoch, logs={}):\n",
    "        if (epoch % 200 == 0):\n",
    "            i = int(epoch / 200)\n",
    "            \n",
    "            if (i > 0):\n",
    "                numberOfEquals = int(self.totalEpochs/200*i)\n",
    "                percent = 100/(self.totalEpochs/200)*i\n",
    "            else:\n",
    "                numberOfEquals = 0\n",
    "                percent = 0\n",
    "                \n",
    "                \n",
    "            print (\"\\r[%-20s] %d%%\" % ('='*i, percent), end='')\n",
    "            \n",
    "            if(percent == 100):\n",
    "                print('')\n",
    "        "
   ]
  },
  {
   "cell_type": "code",
   "execution_count": 376,
   "metadata": {
    "colab": {},
    "colab_type": "code",
    "id": "pvugRkk3ZvFX"
   },
   "outputs": [],
   "source": [
    "def reset_keras():\n",
    "    K.get_session().close()\n",
    "    K.set_session(tf.Session())\n",
    "    K.get_session().run(tf.global_variables_initializer())"
   ]
  },
  {
   "cell_type": "code",
   "execution_count": 377,
   "metadata": {
    "colab": {},
    "colab_type": "code",
    "id": "hf_xjlejZvFZ"
   },
   "outputs": [],
   "source": [
    "def average_runs(n_iter, model_):\n",
    "    MAE_O2_boxplot_avg = [0]*9\n",
    "    MAE_T_boxplot_avg = [0]*5\n",
    "\n",
    "    for i in range(n_iter):\n",
    "        print (\"Training iteration \", i)\n",
    "        \n",
    "        model_.fit(data_train, targets_train, epochs=4001, batch_size=1000,verbose = 0,\n",
    "             validation_data= (data_dev, targets_dev), callbacks = [CustomCallbackProgress(4000,200)])\n",
    "\n",
    "        print(\"Getting predictions for iteration \",i)\n",
    "        targets_dev_, preds_df_ = get_predictions(model_, targets_dev, data_dev)\n",
    "        targets_train_, preds_train_ = get_predictions(model_, targets_train, data_train)\n",
    "\n",
    "        print(\"Generating MAE lists for iteration \", i)\n",
    "        MAE_boxplot_, MAE_list_, MAE_xticks_ = MAE_O2_list_generator(10.0, targets_dev_, preds_df_)\n",
    "        MAE_T_boxplot_, MAE_T_list_, MAE_T_xticks_ = MAE_T_list_generator(targets_dev_, preds_df_)\n",
    "        #MAE_boxplot_train_, MAE_list_train_, MAE_xticks_train_ = MAE_list_generator(10.0, targets_train_, preds_train_)\n",
    "\n",
    "        for j in range(len(MAE_boxplot_)):\n",
    "            MAE_O2_boxplot_avg[j] = MAE_O2_boxplot_avg[j] + np.array(MAE_boxplot_[j])/n_iter\n",
    "            \n",
    "        for j in range(len(MAE_T_boxplot_)):\n",
    "            MAE_T_boxplot_avg[j] = MAE_T_boxplot_avg[j] + np.array(MAE_T_boxplot_[j])/n_iter\n",
    "\n",
    "    return MAE_O2_boxplot_avg, MAE_T_boxplot_avg"
   ]
  },
  {
   "cell_type": "code",
   "execution_count": 378,
   "metadata": {
    "colab": {},
    "colab_type": "code",
    "id": "i5JVJPB1ZvFZ"
   },
   "outputs": [],
   "source": [
    "def get_mae(MAE_boxplot_):\n",
    "    flat_list = [item for sublist in MAE_boxplot_ for item in sublist]\n",
    "    return np.mean(flat_list)"
   ]
  },
  {
   "cell_type": "markdown",
   "metadata": {
    "colab_type": "text",
    "id": "qubDL3VCZvFb"
   },
   "source": [
    "# Random Seed to get reproducible results"
   ]
  },
  {
   "cell_type": "code",
   "execution_count": 379,
   "metadata": {
    "colab": {},
    "colab_type": "code",
    "id": "jd131E5PZvFc"
   },
   "outputs": [],
   "source": [
    "K.clear_session()\n",
    "\n",
    "from numpy.random import seed\n",
    "seed(42)\n",
    "#from tensorflow import set_random_seed\n",
    "#set_random_seed(42)"
   ]
  },
  {
   "cell_type": "markdown",
   "metadata": {
    "colab_type": "text",
    "id": "3jXoqPciZvFd"
   },
   "source": [
    "# Network C"
   ]
  },
  {
   "cell_type": "code",
   "execution_count": 380,
   "metadata": {
    "colab": {},
    "colab_type": "code",
    "id": "ivJYtwZTZvFe"
   },
   "outputs": [],
   "source": [
    "class CustomCallback_(keras.callbacks.Callback):\n",
    "    def on_epoch_end(self, epoch, logs={}):\n",
    "        if (epoch % 1000 == 0):\n",
    "            print (\"Just finished epoch\", epoch)\n",
    "            #print(logs)\n",
    "            print (\"Loss.             = \", float(logs.get(\"O2_output_loss\")))\n",
    "            print (\"Validation MAE_O2 = \", 100*float(logs.get(\"val_O2_output_mae\")))\n",
    "            print (\"Validation MAE_T  = \", 45*float(logs.get(\"val_T_output_mae\")))\n",
    "            print (\"Training   MAE_O2 = \", 100*float(logs.get(\"O2_output_mae\")))\n",
    "            print (\"Training   MAE_T  = \", 45*float(logs.get(\"T_output_mae\")))\n",
    "            \n",
    "            return"
   ]
  },
  {
   "cell_type": "code",
   "execution_count": 381,
   "metadata": {
    "colab": {},
    "colab_type": "code",
    "id": "zolxZDx0ZvFe"
   },
   "outputs": [],
   "source": [
    "K.clear_session()"
   ]
  },
  {
   "cell_type": "code",
   "execution_count": 382,
   "metadata": {
    "colab": {},
    "colab_type": "code",
    "id": "Iy4UkWvnZvFf"
   },
   "outputs": [],
   "source": [
    "input_x = keras.layers.Input(shape = (50,))\n",
    "lay1 = layers.Dense(50,  activation='sigmoid', dtype = tf.float32)(input_x)\n",
    "lay2 = layers.Dense(50, activation='sigmoid')(lay1)\n",
    "lay3 = layers.Dense(50, activation='sigmoid')(lay2)\n",
    "lay4 = layers.Dense(50, activation='sigmoid')(lay3)\n",
    "outboth = layers.Dense(2, activation='sigmoid',name=\"both_output\")(lay4)\n",
    "\n",
    "lay4 = layers.Dense(15, activation='sigmoid')(lay3)\n",
    "lay5 = layers.Dense(15, activation='sigmoid')(lay4)\n",
    "lay6 = layers.Dense(15, activation='sigmoid')(lay5)\n",
    "outo2 = layers.Dense(1, activation = 'sigmoid',name=\"O2_output\")(lay6)\n",
    "\n",
    "\n",
    "lay6 = layers.Dense(15, activation='sigmoid')(lay3)\n",
    "lay7 = layers.Dense(15, activation='sigmoid')(lay6)\n",
    "lay8 = layers.Dense(15, activation='sigmoid')(lay7)\n",
    "outT = layers.Dense(1, activation = 'sigmoid', name = \"T_output\")(lay8)\n",
    "\n",
    "#model = Model(input_x, outl)\n",
    "\n",
    "model4 = Model(\n",
    "    inputs=input_x,\n",
    "    outputs=[outboth, outo2, outT])"
   ]
  },
  {
   "cell_type": "code",
   "execution_count": 383,
   "metadata": {
    "colab": {
     "base_uri": "https://localhost:8080/",
     "height": 557
    },
    "colab_type": "code",
    "id": "vUcbGBnxZvFf",
    "outputId": "9946374a-ec63-480f-ae0a-2eb59e9cc154"
   },
   "outputs": [
    {
     "name": "stdout",
     "output_type": "stream",
     "text": [
      "Model: \"model\"\n",
      "__________________________________________________________________________________________________\n",
      "Layer (type)                    Output Shape         Param #     Connected to                     \n",
      "==================================================================================================\n",
      "input_1 (InputLayer)            [(None, 50)]         0                                            \n",
      "__________________________________________________________________________________________________\n",
      "dense (Dense)                   (None, 50)           2550        input_1[0][0]                    \n",
      "__________________________________________________________________________________________________\n",
      "dense_1 (Dense)                 (None, 50)           2550        dense[0][0]                      \n",
      "__________________________________________________________________________________________________\n",
      "dense_2 (Dense)                 (None, 50)           2550        dense_1[0][0]                    \n",
      "__________________________________________________________________________________________________\n",
      "dense_4 (Dense)                 (None, 15)           765         dense_2[0][0]                    \n",
      "__________________________________________________________________________________________________\n",
      "dense_7 (Dense)                 (None, 15)           765         dense_2[0][0]                    \n",
      "__________________________________________________________________________________________________\n",
      "dense_5 (Dense)                 (None, 15)           240         dense_4[0][0]                    \n",
      "__________________________________________________________________________________________________\n",
      "dense_8 (Dense)                 (None, 15)           240         dense_7[0][0]                    \n",
      "__________________________________________________________________________________________________\n",
      "dense_3 (Dense)                 (None, 50)           2550        dense_2[0][0]                    \n",
      "__________________________________________________________________________________________________\n",
      "dense_6 (Dense)                 (None, 15)           240         dense_5[0][0]                    \n",
      "__________________________________________________________________________________________________\n",
      "dense_9 (Dense)                 (None, 15)           240         dense_8[0][0]                    \n",
      "__________________________________________________________________________________________________\n",
      "both_output (Dense)             (None, 2)            102         dense_3[0][0]                    \n",
      "__________________________________________________________________________________________________\n",
      "O2_output (Dense)               (None, 1)            16          dense_6[0][0]                    \n",
      "__________________________________________________________________________________________________\n",
      "T_output (Dense)                (None, 1)            16          dense_9[0][0]                    \n",
      "==================================================================================================\n",
      "Total params: 12,824\n",
      "Trainable params: 12,824\n",
      "Non-trainable params: 0\n",
      "__________________________________________________________________________________________________\n"
     ]
    }
   ],
   "source": [
    "model4.summary()"
   ]
  },
  {
   "cell_type": "code",
   "execution_count": 384,
   "metadata": {
    "colab": {},
    "colab_type": "code",
    "id": "GaxNArMlZvFg"
   },
   "outputs": [],
   "source": [
    "losses = {\n",
    "        \"both_output\": \"mse\",\n",
    "        \"O2_output\": \"mse\",\n",
    "        \"T_output\": \"mse\"\n",
    "}\n",
    "\n",
    "lossWeights = {\"both_output\": 0.3, \"O2_output\": 5.0, \"T_output\": 5.0}\n",
    "\n",
    "opt = Adam(lr=0.001)\n",
    "#opt = SGD(lr = 0.001)\n",
    "\n",
    "#opt = SGD(lr=1e-3, momentum=0.9, decay=1e-2/epochs)\n",
    "\n",
    "model4.compile(optimizer=opt, loss=losses, loss_weights=lossWeights,\n",
    "        metrics=[\"mae\"])"
   ]
  },
  {
   "cell_type": "code",
   "execution_count": 385,
   "metadata": {
    "colab": {},
    "colab_type": "code",
    "id": "QAR-gIrbZvFh"
   },
   "outputs": [],
   "source": [
    "targets_train_O2 = targets_train['O2']\n",
    "targets_dev_O2 = targets_dev['O2']\n",
    "targets_train_T = targets_train['T']\n",
    "targets_dev_T = targets_dev['T']"
   ]
  },
  {
   "cell_type": "markdown",
   "metadata": {
    "colab_type": "text",
    "id": "-do_u4EDZvFh"
   },
   "source": [
    "### WORKING HERE"
   ]
  },
  {
   "cell_type": "code",
   "execution_count": 386,
   "metadata": {
    "colab": {
     "base_uri": "https://localhost:8080/",
     "height": 1000
    },
    "colab_type": "code",
    "id": "5SOLycrnZvFh",
    "outputId": "395a8a6d-324e-4068-ab11-115d1dd7daeb"
   },
   "outputs": [
    {
     "name": "stdout",
     "output_type": "stream",
     "text": [
      "Just finished epoch 0\n",
      "Loss.             =  0.10043689608573914\n",
      "Validation MAE_O2 =  26.47305727005005\n",
      "Validation MAE_T  =  11.295570731163025\n",
      "Training   MAE_O2 =  27.1236389875412\n",
      "Training   MAE_T  =  11.694050431251526\n",
      "Just finished epoch 1000\n",
      "Loss.             =  0.010315453633666039\n",
      "Validation MAE_O2 =  8.131854236125946\n",
      "Validation MAE_T  =  10.014220476150513\n",
      "Training   MAE_O2 =  8.03602933883667\n",
      "Training   MAE_T  =  9.793645665049553\n",
      "Just finished epoch 2000\n",
      "Loss.             =  0.0010580589296296239\n",
      "Validation MAE_O2 =  2.384834364056587\n",
      "Validation MAE_T  =  3.6000337824225426\n",
      "Training   MAE_O2 =  2.5488952174782753\n",
      "Training   MAE_T  =  3.805484287440777\n",
      "Just finished epoch 3000\n",
      "Loss.             =  0.0009770283941179514\n",
      "Validation MAE_O2 =  3.7793342024087906\n",
      "Validation MAE_T  =  5.34574817866087\n",
      "Training   MAE_O2 =  2.491600066423416\n",
      "Training   MAE_T  =  3.355681858956814\n",
      "Just finished epoch 4000\n",
      "Loss.             =  0.0006268707220442593\n",
      "Validation MAE_O2 =  1.9425010308623314\n",
      "Validation MAE_T  =  2.7211411111056805\n",
      "Training   MAE_O2 =  1.9367408007383347\n",
      "Training   MAE_T  =  2.764785848557949\n",
      "Just finished epoch 5000\n",
      "Loss.             =  0.0004950719303451478\n",
      "Validation MAE_O2 =  0.8834791369736195\n",
      "Validation MAE_T  =  1.450738962739706\n",
      "Training   MAE_O2 =  1.725342497229576\n",
      "Training   MAE_T  =  2.428160235285759\n",
      "Just finished epoch 6000\n",
      "Loss.             =  0.00043706290307454765\n",
      "Validation MAE_O2 =  1.3938665390014648\n",
      "Validation MAE_T  =  1.842604335397482\n",
      "Training   MAE_O2 =  1.5883686020970345\n",
      "Training   MAE_T  =  2.1619551815092564\n",
      "Just finished epoch 7000\n",
      "Loss.             =  0.00026802366483025253\n",
      "Validation MAE_O2 =  1.077105663716793\n",
      "Validation MAE_T  =  1.431722603738308\n",
      "Training   MAE_O2 =  1.2131218798458576\n",
      "Training   MAE_T  =  1.7526576295495033\n",
      "Just finished epoch 8000\n",
      "Loss.             =  0.000382399681257084\n",
      "Validation MAE_O2 =  1.0286015458405018\n",
      "Validation MAE_T  =  1.8699824810028076\n",
      "Training   MAE_O2 =  1.4502215199172497\n",
      "Training   MAE_T  =  1.9842294976115227\n",
      "Just finished epoch 9000\n",
      "Loss.             =  0.000481337629025802\n",
      "Validation MAE_O2 =  1.033821888267994\n",
      "Validation MAE_T  =  1.5950161591172218\n",
      "Training   MAE_O2 =  1.7026107758283615\n",
      "Training   MAE_T  =  2.1971536427736282\n",
      "Just finished epoch 10000\n",
      "Loss.             =  0.00038423939258791506\n",
      "Validation MAE_O2 =  0.604785606265068\n",
      "Validation MAE_T  =  1.3201996218413115\n",
      "Training   MAE_O2 =  1.50929382070899\n",
      "Training   MAE_T  =  2.042573243379593\n",
      "Just finished epoch 11000\n",
      "Loss.             =  0.00019307673210278153\n",
      "Validation MAE_O2 =  2.6024186983704567\n",
      "Validation MAE_T  =  2.854309603571892\n",
      "Training   MAE_O2 =  1.0756595991551876\n",
      "Training   MAE_T  =  1.4142262190580368\n",
      "Just finished epoch 12000\n",
      "Loss.             =  0.0001967626012628898\n",
      "Validation MAE_O2 =  0.9961056523025036\n",
      "Validation MAE_T  =  1.1683977395296097\n",
      "Training   MAE_O2 =  1.0277065448462963\n",
      "Training   MAE_T  =  1.2849779427051544\n",
      "Just finished epoch 13000\n",
      "Loss.             =  7.849063695175573e-05\n",
      "Validation MAE_O2 =  0.5558732897043228\n",
      "Validation MAE_T  =  0.6650419905781746\n",
      "Training   MAE_O2 =  0.6645467597991228\n",
      "Training   MAE_T  =  0.7950734719634056\n",
      "Just finished epoch 14000\n",
      "Loss.             =  0.00013019898324273527\n",
      "Validation MAE_O2 =  1.0559499263763428\n",
      "Validation MAE_T  =  1.348233986645937\n",
      "Training   MAE_O2 =  0.8606191724538803\n",
      "Training   MAE_T  =  1.0524840652942657\n",
      "Just finished epoch 15000\n",
      "Loss.             =  0.00013882228813599795\n",
      "Validation MAE_O2 =  0.43090819381177425\n",
      "Validation MAE_T  =  0.46002788934856653\n",
      "Training   MAE_O2 =  0.8715568110346794\n",
      "Training   MAE_T  =  1.0979926865547895\n",
      "Just finished epoch 16000\n",
      "Loss.             =  0.00037125509697943926\n",
      "Validation MAE_O2 =  2.85512488335371\n",
      "Validation MAE_T  =  3.169950619339943\n",
      "Training   MAE_O2 =  1.468054112046957\n",
      "Training   MAE_T  =  1.7721678502857685\n",
      "Just finished epoch 17000\n",
      "Loss.             =  9.739228698890656e-05\n",
      "Validation MAE_O2 =  0.6264172028750181\n",
      "Validation MAE_T  =  0.9080476127564907\n",
      "Training   MAE_O2 =  0.7383525837212801\n",
      "Training   MAE_T  =  0.8261250704526901\n",
      "Just finished epoch 18000\n",
      "Loss.             =  0.00115919706877321\n",
      "Validation MAE_O2 =  3.7605751305818558\n",
      "Validation MAE_T  =  5.006655603647232\n",
      "Training   MAE_O2 =  2.27110143750906\n",
      "Training   MAE_T  =  2.821912206709385\n",
      "Just finished epoch 19000\n",
      "Loss.             =  0.0002261791523778811\n",
      "Validation MAE_O2 =  1.653125323355198\n",
      "Validation MAE_T  =  2.1088343672454357\n",
      "Training   MAE_O2 =  1.125673484057188\n",
      "Training   MAE_T  =  1.3169761933386326\n",
      "Just finished epoch 20000\n",
      "Loss.             =  0.0001200805781991221\n",
      "Validation MAE_O2 =  1.3032513670623302\n",
      "Validation MAE_T  =  1.6361652687191963\n",
      "Training   MAE_O2 =  0.7713611703366041\n",
      "Training   MAE_T  =  0.8798332046717405\n",
      "Just finished epoch 21000\n",
      "Loss.             =  0.00018015244859270751\n",
      "Validation MAE_O2 =  0.6296462379395962\n",
      "Validation MAE_T  =  0.9554005041718483\n",
      "Training   MAE_O2 =  0.995523389428854\n",
      "Training   MAE_T  =  1.2715203780680895\n",
      "Just finished epoch 22000\n",
      "Loss.             =  0.0003697401552926749\n",
      "Validation MAE_O2 =  0.7975881919264793\n",
      "Validation MAE_T  =  1.099641239270568\n",
      "Training   MAE_O2 =  1.3150639832019806\n",
      "Training   MAE_T  =  1.697634793817997\n",
      "Just finished epoch 23000\n",
      "Loss.             =  0.00011559336417121813\n",
      "Validation MAE_O2 =  0.6835026200860739\n",
      "Validation MAE_T  =  1.2214545160531998\n",
      "Training   MAE_O2 =  0.7701804395765066\n",
      "Training   MAE_T  =  1.0342258494347334\n",
      "Just finished epoch 24000\n",
      "Loss.             =  0.0001796720316633582\n",
      "Validation MAE_O2 =  1.9035929813981056\n",
      "Validation MAE_T  =  1.710075382143259\n",
      "Training   MAE_O2 =  0.9382202289998531\n",
      "Training   MAE_T  =  1.2716441787779331\n",
      "Just finished epoch 25000\n",
      "Loss.             =  7.056124741211534e-05\n",
      "Validation MAE_O2 =  0.39207562804222107\n",
      "Validation MAE_T  =  0.6817232351750135\n",
      "Training   MAE_O2 =  0.5806149449199438\n",
      "Training   MAE_T  =  0.9449077025055885\n",
      "Just finished epoch 26000\n",
      "Loss.             =  0.00024301304074469954\n",
      "Validation MAE_O2 =  0.8770343847572803\n",
      "Validation MAE_T  =  1.1269845999777317\n",
      "Training   MAE_O2 =  1.0435795411467552\n",
      "Training   MAE_T  =  1.3897023629397154\n",
      "Just finished epoch 27000\n",
      "Loss.             =  5.404841431300156e-05\n",
      "Validation MAE_O2 =  1.7085358500480652\n",
      "Validation MAE_T  =  2.5905488803982735\n",
      "Training   MAE_O2 =  0.46312566846609116\n",
      "Training   MAE_T  =  0.5910204816609621\n",
      "Just finished epoch 28000\n",
      "Loss.             =  8.088856702670455e-05\n",
      "Validation MAE_O2 =  0.8468998596072197\n",
      "Validation MAE_T  =  1.2175620440393686\n",
      "Training   MAE_O2 =  0.6421793717890978\n",
      "Training   MAE_T  =  0.8602010272443295\n",
      "Just finished epoch 29000\n",
      "Loss.             =  9.573884017299861e-05\n",
      "Validation MAE_O2 =  1.4405664056539536\n",
      "Validation MAE_T  =  2.047428712248802\n",
      "Training   MAE_O2 =  0.6682136096060276\n",
      "Training   MAE_T  =  0.8822507131844759\n",
      "Just finished epoch 30000\n",
      "Loss.             =  4.701616853708401e-05\n",
      "Validation MAE_O2 =  0.5430415738373995\n",
      "Validation MAE_T  =  0.7320290710777044\n",
      "Training   MAE_O2 =  0.47406433150172234\n",
      "Training   MAE_T  =  0.6486310204491019\n",
      "Just finished epoch 31000\n",
      "Loss.             =  1.9793327737716027e-05\n",
      "Validation MAE_O2 =  0.4452688153833151\n",
      "Validation MAE_T  =  0.45571007765829563\n",
      "Training   MAE_O2 =  0.30735996551811695\n",
      "Training   MAE_T  =  0.3316235030069947\n",
      "Just finished epoch 32000\n",
      "Loss.             =  4.492516745813191e-05\n",
      "Validation MAE_O2 =  1.2729047797620296\n",
      "Validation MAE_T  =  1.3628254551440477\n",
      "Training   MAE_O2 =  0.4533146508038044\n",
      "Training   MAE_T  =  0.5336413672193885\n",
      "Just finished epoch 33000\n",
      "Loss.             =  1.7348953406326473e-05\n",
      "Validation MAE_O2 =  0.19517275504767895\n",
      "Validation MAE_T  =  0.2675623563118279\n",
      "Training   MAE_O2 =  0.2841247711330652\n",
      "Training   MAE_T  =  0.33760562539100647\n",
      "Just finished epoch 34000\n",
      "Loss.             =  8.431314199697226e-05\n",
      "Validation MAE_O2 =  0.4008124116808176\n",
      "Validation MAE_T  =  0.5442069657146931\n",
      "Training   MAE_O2 =  0.575490016490221\n",
      "Training   MAE_T  =  0.7025522645562887\n",
      "Just finished epoch 35000\n",
      "Loss.             =  7.972270395839587e-05\n",
      "Validation MAE_O2 =  0.606814818456769\n",
      "Validation MAE_T  =  0.4985126852989197\n",
      "Training   MAE_O2 =  0.5610136315226555\n",
      "Training   MAE_T  =  0.6607117736712098\n",
      "Just finished epoch 36000\n",
      "Loss.             =  7.298155833268538e-05\n",
      "Validation MAE_O2 =  0.9932661429047585\n",
      "Validation MAE_T  =  1.2288239691406488\n",
      "Training   MAE_O2 =  0.5658695939928293\n",
      "Training   MAE_T  =  0.7681767828762531\n",
      "Just finished epoch 37000\n",
      "Loss.             =  0.0003701188543345779\n",
      "Validation MAE_O2 =  0.9587741456925869\n",
      "Validation MAE_T  =  1.3868280407041311\n",
      "Training   MAE_O2 =  1.1976029723882675\n",
      "Training   MAE_T  =  1.7712719924747944\n",
      "Just finished epoch 38000\n",
      "Loss.             =  0.00011626249033724889\n",
      "Validation MAE_O2 =  0.4008965101093054\n",
      "Validation MAE_T  =  0.6468600919470191\n",
      "Training   MAE_O2 =  0.6879091262817383\n",
      "Training   MAE_T  =  0.9461801592260599\n",
      "Just finished epoch 39000\n",
      "Loss.             =  0.00030522761517204344\n",
      "Validation MAE_O2 =  1.156872883439064\n",
      "Validation MAE_T  =  1.3563468307256699\n",
      "Training   MAE_O2 =  1.1804619804024696\n",
      "Training   MAE_T  =  1.6336102969944477\n",
      "Just finished epoch 40000\n",
      "Loss.             =  0.0001940221554832533\n",
      "Validation MAE_O2 =  0.8683576248586178\n",
      "Validation MAE_T  =  1.3523183204233646\n",
      "Training   MAE_O2 =  1.0172723792493343\n",
      "Training   MAE_T  =  1.4748169854283333\n",
      "Just finished epoch 41000\n",
      "Loss.             =  0.0001319054135819897\n",
      "Validation MAE_O2 =  1.2520425952970982\n",
      "Validation MAE_T  =  1.564035639166832\n",
      "Training   MAE_O2 =  0.7192410994321108\n",
      "Training   MAE_T  =  1.1112871393561363\n",
      "Just finished epoch 42000\n",
      "Loss.             =  0.00010656790982466191\n",
      "Validation MAE_O2 =  0.4124028142541647\n",
      "Validation MAE_T  =  0.5216822354122996\n",
      "Training   MAE_O2 =  0.6826657336205244\n",
      "Training   MAE_T  =  0.8612565603107214\n",
      "Just finished epoch 43000\n",
      "Loss.             =  7.665344310225919e-05\n",
      "Validation MAE_O2 =  0.540383905172348\n",
      "Validation MAE_T  =  0.7530813943594694\n",
      "Training   MAE_O2 =  0.564991682767868\n",
      "Training   MAE_T  =  0.7101497054100037\n",
      "Just finished epoch 44000\n",
      "Loss.             =  5.72316930629313e-05\n",
      "Validation MAE_O2 =  0.5496114026755095\n",
      "Validation MAE_T  =  0.6044540321454406\n",
      "Training   MAE_O2 =  0.4933308809995651\n",
      "Training   MAE_T  =  0.588091048412025\n",
      "Just finished epoch 45000\n",
      "Loss.             =  0.0003791078052017838\n",
      "Validation MAE_O2 =  1.9269226118922234\n",
      "Validation MAE_T  =  2.9583652317523956\n",
      "Training   MAE_O2 =  1.176715362817049\n",
      "Training   MAE_T  =  1.407900732010603\n",
      "Just finished epoch 46000\n",
      "Loss.             =  0.00017632075469009578\n",
      "Validation MAE_O2 =  1.5245964750647545\n",
      "Validation MAE_T  =  1.6591152548789978\n",
      "Training   MAE_O2 =  0.968618132174015\n",
      "Training   MAE_T  =  1.3427121564745903\n",
      "Just finished epoch 47000\n",
      "Loss.             =  3.80449891963508e-05\n",
      "Validation MAE_O2 =  1.1186514981091022\n",
      "Validation MAE_T  =  1.4396961405873299\n",
      "Training   MAE_O2 =  0.4631058778613806\n",
      "Training   MAE_T  =  0.6489168014377356\n",
      "Just finished epoch 48000\n",
      "Loss.             =  0.00015072531823534518\n",
      "Validation MAE_O2 =  0.9347014129161835\n",
      "Validation MAE_T  =  1.3465995155274868\n",
      "Training   MAE_O2 =  0.8899125270545483\n",
      "Training   MAE_T  =  1.2818118464201689\n",
      "Just finished epoch 49000\n",
      "Loss.             =  5.38799176865723e-05\n",
      "Validation MAE_O2 =  0.653759902343154\n",
      "Validation MAE_T  =  0.9805195592343807\n",
      "Training   MAE_O2 =  0.5254887975752354\n",
      "Training   MAE_T  =  0.6899365363642573\n",
      "Just finished epoch 50000\n",
      "Loss.             =  1.2588818208314478e-05\n",
      "Validation MAE_O2 =  0.19757486879825592\n",
      "Validation MAE_T  =  0.27053321711719036\n",
      "Training   MAE_O2 =  0.24769736919552088\n",
      "Training   MAE_T  =  0.29854924650862813\n",
      "Just finished epoch 51000\n",
      "Loss.             =  0.0004755542322527617\n",
      "Validation MAE_O2 =  0.7735779043287039\n",
      "Validation MAE_T  =  1.0909431707113981\n",
      "Training   MAE_O2 =  1.6093632206320763\n",
      "Training   MAE_T  =  1.9734609313309193\n",
      "Just finished epoch 52000\n",
      "Loss.             =  0.00014358159387484193\n",
      "Validation MAE_O2 =  1.6717705875635147\n",
      "Validation MAE_T  =  2.2282786667346954\n",
      "Training   MAE_O2 =  0.7852151058614254\n",
      "Training   MAE_T  =  1.0832644253969193\n",
      "Just finished epoch 53000\n",
      "Loss.             =  5.75694975850638e-05\n",
      "Validation MAE_O2 =  0.2804841846227646\n",
      "Validation MAE_T  =  0.45540870632976294\n",
      "Training   MAE_O2 =  0.527862086892128\n",
      "Training   MAE_T  =  0.7630601339042187\n",
      "Just finished epoch 54000\n",
      "Loss.             =  0.00019519780471455306\n",
      "Validation MAE_O2 =  0.3762090113013983\n",
      "Validation MAE_T  =  0.536677879281342\n",
      "Training   MAE_O2 =  0.9123221971094608\n",
      "Training   MAE_T  =  1.2641181517392397\n",
      "Just finished epoch 55000\n",
      "Loss.             =  3.834511153399944e-05\n",
      "Validation MAE_O2 =  0.3840802935883403\n",
      "Validation MAE_T  =  0.44977405574172735\n",
      "Training   MAE_O2 =  0.427879486232996\n",
      "Training   MAE_T  =  0.5928243510425091\n",
      "Just finished epoch 56000\n",
      "Loss.             =  0.00012524533667601645\n",
      "Validation MAE_O2 =  0.8926160633563995\n",
      "Validation MAE_T  =  0.8929356280714273\n",
      "Training   MAE_O2 =  0.7503263652324677\n",
      "Training   MAE_T  =  1.0407701041549444\n",
      "Just finished epoch 57000\n",
      "Loss.             =  9.966436482500285e-05\n",
      "Validation MAE_O2 =  0.4208804573863745\n",
      "Validation MAE_T  =  0.9714842028915882\n",
      "Training   MAE_O2 =  0.7052217144519091\n",
      "Training   MAE_T  =  1.3559923600405455\n",
      "Just finished epoch 58000\n",
      "Loss.             =  0.00027704250533133745\n",
      "Validation MAE_O2 =  1.7214592546224594\n",
      "Validation MAE_T  =  2.3689372278749943\n",
      "Training   MAE_O2 =  1.1045914143323898\n",
      "Training   MAE_T  =  1.4286885224282742\n",
      "Just finished epoch 59000\n",
      "Loss.             =  0.00015203910879790783\n",
      "Validation MAE_O2 =  0.6931380834430456\n",
      "Validation MAE_T  =  1.136766280978918\n",
      "Training   MAE_O2 =  0.9195010177791119\n",
      "Training   MAE_T  =  1.3676528446376324\n",
      "Just finished epoch 60000\n",
      "Loss.             =  0.0010549963917583227\n",
      "Validation MAE_O2 =  2.017143927514553\n",
      "Validation MAE_T  =  2.8443576022982597\n",
      "Training   MAE_O2 =  2.438965253531933\n",
      "Training   MAE_T  =  3.409058153629303\n",
      "Just finished epoch 61000\n",
      "Loss.             =  0.0001718410203466192\n",
      "Validation MAE_O2 =  1.487046293914318\n",
      "Validation MAE_T  =  2.207594309002161\n",
      "Training   MAE_O2 =  0.8779000490903854\n",
      "Training   MAE_T  =  1.3118630647659302\n",
      "Just finished epoch 62000\n",
      "Loss.             =  0.00024249863054137677\n",
      "Validation MAE_O2 =  1.5133722685277462\n",
      "Validation MAE_T  =  2.090817466378212\n",
      "Training   MAE_O2 =  1.1136112734675407\n",
      "Training   MAE_T  =  1.5658868663012981\n",
      "Just finished epoch 63000\n",
      "Loss.             =  0.00016392811085097492\n",
      "Validation MAE_O2 =  1.026428211480379\n",
      "Validation MAE_T  =  1.2846958916634321\n",
      "Training   MAE_O2 =  0.9209782816469669\n",
      "Training   MAE_T  =  1.3046805281192064\n",
      "Just finished epoch 64000\n",
      "Loss.             =  0.0006443823804147542\n",
      "Validation MAE_O2 =  0.6514766253530979\n",
      "Validation MAE_T  =  1.0434383153915405\n",
      "Training   MAE_O2 =  1.8656907603144646\n",
      "Training   MAE_T  =  2.5454237312078476\n",
      "Just finished epoch 65000\n",
      "Loss.             =  0.0002122991718351841\n",
      "Validation MAE_O2 =  0.5133884027600288\n",
      "Validation MAE_T  =  0.879907887428999\n",
      "Training   MAE_O2 =  1.020955666899681\n",
      "Training   MAE_T  =  1.4156402461230755\n",
      "Just finished epoch 66000\n",
      "Loss.             =  0.0001364982163067907\n",
      "Validation MAE_O2 =  0.6068834569305182\n",
      "Validation MAE_T  =  0.8722264599055052\n",
      "Training   MAE_O2 =  0.8291603066027164\n",
      "Training   MAE_T  =  1.1423514783382416\n",
      "Just finished epoch 67000\n",
      "Loss.             =  0.00019758105918299407\n",
      "Validation MAE_O2 =  0.4421935882419348\n",
      "Validation MAE_T  =  0.7432524394243956\n",
      "Training   MAE_O2 =  1.0133158415555954\n",
      "Training   MAE_T  =  1.3403472863137722\n",
      "Just finished epoch 68000\n",
      "Loss.             =  0.0001721324515528977\n",
      "Validation MAE_O2 =  0.5518933292478323\n",
      "Validation MAE_T  =  1.0568004939705133\n",
      "Training   MAE_O2 =  0.9622045792639256\n",
      "Training   MAE_T  =  1.3260273914784193\n",
      "Just finished epoch 69000\n",
      "Loss.             =  0.00018131292017642409\n",
      "Validation MAE_O2 =  0.564053887501359\n",
      "Validation MAE_T  =  0.8774205576628447\n",
      "Training   MAE_O2 =  0.9373338893055916\n",
      "Training   MAE_T  =  1.2306299339979887\n",
      "Just finished epoch 70000\n",
      "Loss.             =  0.00014989280316513032\n",
      "Validation MAE_O2 =  2.082737348973751\n",
      "Validation MAE_T  =  2.5716346129775047\n",
      "Training   MAE_O2 =  0.8948984555900097\n",
      "Training   MAE_T  =  1.2139372900128365\n",
      "Just finished epoch 71000\n",
      "Loss.             =  0.00012347566371317953\n",
      "Validation MAE_O2 =  0.9125393815338612\n",
      "Validation MAE_T  =  1.3908172398805618\n",
      "Training   MAE_O2 =  0.7586865220218897\n",
      "Training   MAE_T  =  1.0046741925179958\n",
      "Just finished epoch 72000\n",
      "Loss.             =  0.0004328647628426552\n",
      "Validation MAE_O2 =  1.374113280326128\n",
      "Validation MAE_T  =  2.3076267912983894\n",
      "Training   MAE_O2 =  1.4736161567270756\n",
      "Training   MAE_T  =  1.84432715177536\n",
      "Just finished epoch 73000\n",
      "Loss.             =  8.294465078506619e-05\n",
      "Validation MAE_O2 =  0.5378295667469501\n",
      "Validation MAE_T  =  0.7527153566479683\n",
      "Training   MAE_O2 =  0.6129473447799683\n",
      "Training   MAE_T  =  0.8652645349502563\n",
      "Just finished epoch 74000\n",
      "Loss.             =  4.7126446588663384e-05\n",
      "Validation MAE_O2 =  0.4531539976596832\n",
      "Validation MAE_T  =  0.45920243952423334\n",
      "Training   MAE_O2 =  0.4949986469000578\n",
      "Training   MAE_T  =  0.5582634592428803\n",
      "Just finished epoch 75000\n",
      "Loss.             =  0.00014805329556111246\n",
      "Validation MAE_O2 =  0.7491883356124163\n",
      "Validation MAE_T  =  1.4965574629604816\n",
      "Training   MAE_O2 =  0.8046039380133152\n",
      "Training   MAE_T  =  1.3231902848929167\n",
      "Just finished epoch 76000\n",
      "Loss.             =  0.00020705604401882738\n",
      "Validation MAE_O2 =  0.4858030937612057\n",
      "Validation MAE_T  =  0.7651152927428484\n",
      "Training   MAE_O2 =  1.03782182559371\n",
      "Training   MAE_T  =  1.3923738431185484\n",
      "Just finished epoch 77000\n",
      "Loss.             =  9.144173964159563e-05\n",
      "Validation MAE_O2 =  0.678456574678421\n",
      "Validation MAE_T  =  0.881353598088026\n",
      "Training   MAE_O2 =  0.6848545279353857\n",
      "Training   MAE_T  =  0.8313466608524323\n",
      "Just finished epoch 78000\n",
      "Loss.             =  0.0002506923337932676\n",
      "Validation MAE_O2 =  0.6733363494277\n",
      "Validation MAE_T  =  0.9272976592183113\n",
      "Training   MAE_O2 =  1.1522335931658745\n",
      "Training   MAE_T  =  1.7507742159068584\n",
      "Just finished epoch 79000\n",
      "Loss.             =  0.0005469087627716362\n",
      "Validation MAE_O2 =  0.655549019575119\n",
      "Validation MAE_T  =  1.1837386339902878\n",
      "Training   MAE_O2 =  1.5313581563532352\n",
      "Training   MAE_T  =  2.1303644590079784\n",
      "Just finished epoch 80000\n",
      "Loss.             =  0.00015719857765361667\n",
      "Validation MAE_O2 =  0.9358739480376244\n",
      "Validation MAE_T  =  1.470181792974472\n",
      "Training   MAE_O2 =  0.8419428952038288\n",
      "Training   MAE_T  =  1.3769551645964384\n",
      "Just finished epoch 81000\n",
      "Loss.             =  9.973158012144268e-05\n",
      "Validation MAE_O2 =  0.5362877622246742\n",
      "Validation MAE_T  =  0.9851309470832348\n",
      "Training   MAE_O2 =  0.7012559566646814\n",
      "Training   MAE_T  =  1.0125691909343004\n",
      "Just finished epoch 82000\n",
      "Loss.             =  0.00012051434896420687\n",
      "Validation MAE_O2 =  0.8747624233365059\n",
      "Validation MAE_T  =  1.1514932848513126\n",
      "Training   MAE_O2 =  0.785376038402319\n",
      "Training   MAE_T  =  1.0664467234164476\n",
      "Just finished epoch 83000\n",
      "Loss.             =  0.0003679479123093188\n",
      "Validation MAE_O2 =  0.666548078879714\n",
      "Validation MAE_T  =  1.18791114538908\n",
      "Training   MAE_O2 =  1.3429820537567139\n",
      "Training   MAE_T  =  1.5181251056492329\n",
      "Just finished epoch 84000\n",
      "Loss.             =  0.00019675621297210455\n",
      "Validation MAE_O2 =  1.5648895874619484\n",
      "Validation MAE_T  =  1.3432775158435106\n",
      "Training   MAE_O2 =  0.9886752814054489\n",
      "Training   MAE_T  =  1.1811222229152918\n",
      "Just finished epoch 85000\n",
      "Loss.             =  0.00027523073367774487\n",
      "Validation MAE_O2 =  1.0868552140891552\n",
      "Validation MAE_T  =  1.567936073988676\n",
      "Training   MAE_O2 =  1.183929294347763\n",
      "Training   MAE_T  =  1.3851280231028795\n",
      "Just finished epoch 86000\n",
      "Loss.             =  9.862719889497384e-05\n",
      "Validation MAE_O2 =  0.6943722255527973\n",
      "Validation MAE_T  =  0.9276692289859056\n",
      "Training   MAE_O2 =  0.730803469195962\n",
      "Training   MAE_T  =  0.8469572849571705\n",
      "Just finished epoch 87000\n",
      "Loss.             =  0.0011653982801362872\n",
      "Validation MAE_O2 =  1.7685262486338615\n",
      "Validation MAE_T  =  3.6646760255098343\n",
      "Training   MAE_O2 =  2.5993041694164276\n",
      "Training   MAE_T  =  4.639297239482403\n",
      "Just finished epoch 88000\n",
      "Loss.             =  0.00021854363149031997\n",
      "Validation MAE_O2 =  0.7509175222367048\n",
      "Validation MAE_T  =  0.934009300544858\n",
      "Training   MAE_O2 =  1.016076933592558\n",
      "Training   MAE_T  =  1.166338473558426\n",
      "Just finished epoch 89000\n",
      "Loss.             =  0.0003231674782000482\n",
      "Validation MAE_O2 =  1.0897818021476269\n",
      "Validation MAE_T  =  1.2360585574060678\n",
      "Training   MAE_O2 =  1.334481779485941\n",
      "Training   MAE_T  =  1.5892968513071537\n",
      "Just finished epoch 90000\n",
      "Loss.             =  0.0002802895614877343\n",
      "Validation MAE_O2 =  0.6505027879029512\n",
      "Validation MAE_T  =  0.6843800889328122\n",
      "Training   MAE_O2 =  1.1571562848985195\n",
      "Training   MAE_T  =  1.4442109689116478\n",
      "Just finished epoch 91000\n",
      "Loss.             =  0.0005608279025182128\n",
      "Validation MAE_O2 =  1.42148919403553\n",
      "Validation MAE_T  =  2.737612724304199\n",
      "Training   MAE_O2 =  1.724255084991455\n",
      "Training   MAE_T  =  2.6329115219414234\n",
      "Just finished epoch 92000\n",
      "Loss.             =  0.0001014445660985075\n",
      "Validation MAE_O2 =  0.9021802805364132\n",
      "Validation MAE_T  =  1.4880000427365303\n",
      "Training   MAE_O2 =  0.7182002067565918\n",
      "Training   MAE_T  =  0.955616757273674\n",
      "Just finished epoch 93000\n",
      "Loss.             =  0.000449852755991742\n",
      "Validation MAE_O2 =  0.8511174470186234\n",
      "Validation MAE_T  =  1.0206242837011814\n",
      "Training   MAE_O2 =  1.5835393220186234\n",
      "Training   MAE_T  =  2.1578473784029484\n",
      "Just finished epoch 94000\n",
      "Loss.             =  0.00013205005961935967\n",
      "Validation MAE_O2 =  0.8876330219209194\n",
      "Validation MAE_T  =  0.8113532233983278\n",
      "Training   MAE_O2 =  0.8261636830866337\n",
      "Training   MAE_T  =  1.0926128458231688\n",
      "Just finished epoch 95000\n",
      "Loss.             =  8.205066114896908e-05\n",
      "Validation MAE_O2 =  0.41585671715438366\n",
      "Validation MAE_T  =  0.8228293899446726\n",
      "Training   MAE_O2 =  0.6648642476648092\n",
      "Training   MAE_T  =  0.7892696745693684\n",
      "Just finished epoch 96000\n",
      "Loss.             =  0.00010568554716883227\n",
      "Validation MAE_O2 =  0.6772753316909075\n",
      "Validation MAE_T  =  1.3022888358682394\n",
      "Training   MAE_O2 =  0.665030162781477\n",
      "Training   MAE_T  =  0.9040128998458385\n",
      "Just finished epoch 97000\n",
      "Loss.             =  5.957975736237131e-05\n",
      "Validation MAE_O2 =  0.3208360867574811\n",
      "Validation MAE_T  =  0.4485161416232586\n",
      "Training   MAE_O2 =  0.5610075779259205\n",
      "Training   MAE_T  =  0.7543320581316948\n",
      "Just finished epoch 98000\n",
      "Loss.             =  0.00012456222611945122\n",
      "Validation MAE_O2 =  0.32569842878729105\n",
      "Validation MAE_T  =  0.5593040306121111\n",
      "Training   MAE_O2 =  0.7643215358257294\n",
      "Training   MAE_T  =  0.9950769133865833\n",
      "Just finished epoch 99000\n",
      "Loss.             =  9.065517224371433e-05\n",
      "Validation MAE_O2 =  0.4476508591324091\n",
      "Validation MAE_T  =  0.6918725883588195\n",
      "Training   MAE_O2 =  0.696125254034996\n",
      "Training   MAE_T  =  0.9616912063211203\n"
     ]
    }
   ],
   "source": [
    "#def lr_scheduler(epoch, lr):\n",
    "#    decay_rate = 0.5\n",
    "#    decay_step = 3000\n",
    "#    if epoch % decay_step == 0 and epoch:\n",
    "#        return lr * decay_rate\n",
    "#    return lr\n",
    "\n",
    "#reduce_lr = tf.keras.callbacks.LearningRateScheduler(lr_scheduler)\n",
    "\n",
    "H = model4.fit(data_train,\n",
    "        {\"both_output\": targets_train, \"O2_output\": targets_train_O2, \"T_output\": targets_train_T},\n",
    "        validation_data=(data_dev,\n",
    "            {\"both_output\": targets_dev, \"O2_output\": targets_dev_O2, \"T_output\": targets_dev_T}),\n",
    "        epochs=100000, batch_size = 32,\n",
    "        verbose=0, callbacks = [CustomCallback_()])"
   ]
  },
  {
   "cell_type": "code",
   "execution_count": 387,
   "metadata": {},
   "outputs": [
    {
     "data": {
      "image/png": "[encoded data removed]",
      "text/plain": [
       "<Figure size 432x288 with 1 Axes>"
      ]
     },
     "metadata": {
      "needs_background": "light"
     },
     "output_type": "display_data"
    }
   ],
   "source": [
    "plt.plot(H.history['loss'])\n",
    "plt.plot(H.history['val_loss'])\n",
    "plt.title('Model loss')\n",
    "plt.ylabel('Loss')\n",
    "plt.xlabel('Epoch')\n",
    "plt.legend(['Train', 'Test'], loc='upper left')\n",
    "#plt.xlim(90000, None)\n",
    "#plt.ylim(None, 0.1)\n",
    "plt.show()"
   ]
  },
  {
   "cell_type": "code",
   "execution_count": 388,
   "metadata": {
    "colab": {},
    "colab_type": "code",
    "id": "M-UMGLNJZvFi"
   },
   "outputs": [],
   "source": [
    "(O2T, O2, T) = model4.predict(data_dev)\n",
    "preds_exp_df = pd.DataFrame(O2T)\n",
    "preds_exp_df.columns = ['O2', 'T']\n",
    "preds_exp_o2_df = pd.DataFrame(O2[:,0])\n",
    "preds_exp_o2_df.columns = ['O2']\n",
    "\n",
    "preds_exp_T_df = pd.DataFrame(T[:,0])\n",
    "preds_exp_T_df.columns = ['T']"
   ]
  },
  {
   "cell_type": "code",
   "execution_count": 389,
   "metadata": {
    "colab": {},
    "colab_type": "code",
    "id": "TAQKhZDjZvFi"
   },
   "outputs": [],
   "source": [
    "targets_dev = targets_dev.reset_index(drop = True)\n",
    "preds_exp_o2_df = preds_exp_o2_df.reset_index(drop = True)\n",
    "preds_exp_T_df = preds_exp_T_df.reset_index(drop = True)"
   ]
  },
  {
   "cell_type": "code",
   "execution_count": 390,
   "metadata": {
    "colab": {},
    "colab_type": "code",
    "id": "mzVtcUYsZvFj"
   },
   "outputs": [],
   "source": [
    "MAE_boxplot_C, MAE_list_C, MAE_xticks_C = MAE_O2_list_generator(10.0, targets_dev, preds_exp_o2_df)\n",
    "MAET_boxplot_C_MTL, MAET_list_C_MTL, MAET_xticks_C_MTL = MAE_T_list_generator(targets_dev, preds_exp_T_df)"
   ]
  },
  {
   "cell_type": "code",
   "execution_count": 391,
   "metadata": {
    "colab": {
     "base_uri": "https://localhost:8080/",
     "height": 197
    },
    "colab_type": "code",
    "id": "XeoJZecyZvFj",
    "outputId": "7e78f0e9-41ec-4bbd-dffe-2258a145120e"
   },
   "outputs": [
    {
     "data": {
      "text/plain": [
       "[0.2272705598094961,\n",
       " 1.5435256431364033,\n",
       " 0.9572116757782412,\n",
       " 1.0196821143229817,\n",
       " 1.2435029347737616,\n",
       " 1.107060909271238,\n",
       " 1.1195058728519243,\n",
       " 0.9638013266309928,\n",
       " 0.8506120768460343,\n",
       " 0.7067957011664795]"
      ]
     },
     "execution_count": 391,
     "metadata": {},
     "output_type": "execute_result"
    }
   ],
   "source": [
    "MAE_list_C"
   ]
  },
  {
   "cell_type": "code",
   "execution_count": 392,
   "metadata": {
    "colab": {
     "base_uri": "https://localhost:8080/",
     "height": 35
    },
    "colab_type": "code",
    "id": "TPq8KP8FZvFk",
    "outputId": "d8b6af4a-487c-48f5-ac8b-b54b2b8a4eb5"
   },
   "outputs": [
    {
     "data": {
      "text/plain": [
       "0.9738968814587553"
      ]
     },
     "execution_count": 392,
     "metadata": {},
     "output_type": "execute_result"
    }
   ],
   "source": [
    "np.mean(MAE_list_C) \n",
    "# 64/32/32 -->\n",
    "# 50       -->\n",
    "# 80       -->"
   ]
  },
  {
   "cell_type": "code",
   "execution_count": 394,
   "metadata": {
    "colab": {
     "base_uri": "https://localhost:8080/",
     "height": 443
    },
    "colab_type": "code",
    "id": "ic8H7_tdZvFk",
    "outputId": "3e9744f5-3694-4d8b-e73c-b8778d5d7982"
   },
   "outputs": [
    {
     "data": {
      "text/plain": [
       "<matplotlib.legend.Legend at 0x7fc7f90566a0>"
      ]
     },
     "execution_count": 394,
     "metadata": {},
     "output_type": "execute_result"
    },
    {
     "data": {
      "text/plain": [
       "<Figure size 432x288 with 0 Axes>"
      ]
     },
     "metadata": {},
     "output_type": "display_data"
    },
    {
     "data": {
      "image/png": "[encoded data removed]",
      "text/plain": [
       "<Figure size 576x360 with 1 Axes>"
      ]
     },
     "metadata": {
      "needs_background": "light"
     },
     "output_type": "display_data"
    }
   ],
   "source": [
    "maxx = 4.0\n",
    "\n",
    "plt.rc('font', family='arial')\n",
    "plt.rc('xtick', labelsize='x-small')\n",
    "plt.rc('ytick', labelsize='x-small')\n",
    "    \n",
    "plt.tight_layout()\n",
    "\n",
    "fig = plt.figure(figsize=(8, 5))\n",
    "\n",
    "ax = fig.add_subplot(1, 1, 1)\n",
    "\n",
    "#bp = ax.scatter(range(1,len(MAE_xticks50)+1),MAE_list50, s = 60, color = 'black', label = 'Network A (50/50/50)')\n",
    "#bp = ax.scatter(range(1,len(MAE_xticks_MTL)+1),MAE_list_MTL, s = 60, color = 'red', label = 'Network B (MTL)')\n",
    "bp = ax.scatter(range(1,len(MAE_xticks_C)+1),MAE_list_C, s = 60, color = 'blue', label = 'Network C (MTL)')\n",
    "plt.ylim(0, 2)\n",
    "plt.xticks(range(1,len(MAE_xticks_C)+1), MAE_xticks_C, size='small', rotation = 'vertical')\n",
    "#plt.grid()\n",
    "plt.ylabel('Mean Absolute Error (% air)', fontsize = 16)\n",
    "plt.xlabel('$[O_2]$ ranges', fontsize = 16)\n",
    "plt.tick_params(labelsize=16)\n",
    "plt.legend(loc = 'upper left', fontsize = 16)\n",
    "#plt.xlim(0,9.5)\n",
    "\n",
    "\n",
    "#fig.savefig('Figures/absolute_error_for_T_boxplots.eps', format='eps', dpi=300,bbox_inches='tight')"
   ]
  },
  {
   "cell_type": "code",
   "execution_count": 393,
   "metadata": {
    "colab": {
     "base_uri": "https://localhost:8080/",
     "height": 443
    },
    "colab_type": "code",
    "id": "etGRCxNYdQXu",
    "outputId": "da4a0bc9-dd64-43fd-8d96-7753f9d333af"
   },
   "outputs": [
    {
     "name": "stderr",
     "output_type": "stream",
     "text": [
      "W0218 02:15:38.227710 4376894912 backend_ps.py:804] The PostScript backend does not support transparency; partially transparent artists will be rendered opaque.\n",
      "W0218 02:15:38.228367 4376894912 backend_ps.py:804] The PostScript backend does not support transparency; partially transparent artists will be rendered opaque.\n",
      "W0218 02:15:38.265383 4376894912 backend_ps.py:804] The PostScript backend does not support transparency; partially transparent artists will be rendered opaque.\n",
      "W0218 02:15:38.266026 4376894912 backend_ps.py:804] The PostScript backend does not support transparency; partially transparent artists will be rendered opaque.\n"
     ]
    },
    {
     "data": {
      "text/plain": [
       "<Figure size 432x288 with 0 Axes>"
      ]
     },
     "metadata": {},
     "output_type": "display_data"
    },
    {
     "data": {
      "image/png": "[encoded data removed]",
      "text/plain": [
       "<Figure size 1152x360 with 2 Axes>"
      ]
     },
     "metadata": {
      "needs_background": "light"
     },
     "output_type": "display_data"
    }
   ],
   "source": [
    "maxy = 20.0\n",
    "\n",
    "\n",
    "plt.rc('font', family='arial')\n",
    "plt.rc('xtick', labelsize='x-small')\n",
    "plt.rc('ytick', labelsize='x-small')\n",
    "    \n",
    "plt.tight_layout()\n",
    "\n",
    "fig = plt.figure(figsize=(16, 5))\n",
    "\n",
    "\n",
    "\n",
    "ax = fig.add_subplot(1, 2, 1)\n",
    "\n",
    "\n",
    "bp = ax.boxplot(MAE_boxplot_C, whis = 'range')\n",
    "ax.set_xticklabels([5, 15, 25, 35, 45])\n",
    "\n",
    "for whisker in bp['whiskers']:\n",
    "    whisker.set(color = 'black', linewidth = 2)\n",
    "for cap in bp['caps']:\n",
    "    cap.set(color = 'black', linewidth = 2)\n",
    "for box in bp['boxes']:\n",
    "    box.set(color = 'black', linewidth = 2)\n",
    "for median in bp['medians']:\n",
    "    median.set(color = 'red', linewidth = 2)\n",
    "for outl in bp['fliers']:\n",
    "    outl.set(linewidth = 0, ms = 0, mew = 1.4, markerfacecolor = 'none')\n",
    "    \n",
    "#plt.ylim(-0.2, 2.9)\n",
    "    \n",
    "#ax.text(1, 1.5, 'Value for $[O_2] = 100$ % Air', fontsize = 18)\n",
    "\n",
    "legend_elements = [\n",
    "                  Line2D([0], [0],  lw = 2, color='red', label='Network C',\n",
    "                          markerfacecolor='none', markeredgewidth=1.4, markersize=8)]\n",
    "ax.legend(handles=legend_elements, loc='upper left', fontsize = 16)\n",
    "\n",
    "plt.xticks(range(1,len(MAE_xticks_C)+1), MAE_xticks_C, size='small', rotation = 'vertical')\n",
    "\n",
    "#plt.grid()\n",
    "\n",
    "plt.ylabel('Absolute Error (% air)', fontsize = 16)\n",
    "plt.xlabel('$[O_2]$ ranges (% air)', fontsize = 16)\n",
    "plt.tick_params(labelsize=16)\n",
    "plt.ylim(-0.1,maxy)\n",
    "\n",
    "\n",
    "\n",
    "\n",
    "ax = fig.add_subplot(1, 2, 2)\n",
    "\n",
    "\n",
    "bp = ax.boxplot(MAET_boxplot_C_MTL, whis = 'range')\n",
    "ax.set_xticklabels([5, 15, 25, 35, 45])\n",
    "\n",
    "for whisker in bp['whiskers']:\n",
    "    whisker.set(color = 'black', linewidth = 2)\n",
    "for cap in bp['caps']:\n",
    "    cap.set(color = 'black', linewidth = 2)\n",
    "for box in bp['boxes']:\n",
    "    box.set(color = 'black', linewidth = 2)\n",
    "for median in bp['medians']:\n",
    "    median.set(color = 'red', linewidth = 2)\n",
    "for outl in bp['fliers']:\n",
    "    outl.set(linewidth = 0, ms = 0, mew = 1.4, markerfacecolor = 'none')\n",
    "    \n",
    "#plt.ylim(-0.2, 2.9)\n",
    "    \n",
    "#ax.text(1, 1.5, 'Value for $[O_2] = 100$ % Air', fontsize = 18)\n",
    "\n",
    "legend_elements = [\n",
    "                  Line2D([0], [0],  lw = 2, color='red', label='Network C',\n",
    "                          markerfacecolor='none', markeredgewidth=1.4, markersize=8)]\n",
    "ax.legend(handles=legend_elements, loc='upper left', fontsize = 16)\n",
    "\n",
    "plt.xticks(range(1,len(MAET_xticks_C_MTL)+1), MAET_xticks_C_MTL, size='small', rotation = 'vertical')\n",
    "\n",
    "#plt.grid()\n",
    "\n",
    "plt.ylabel('Absolute Error ($^\\circ$ C)', fontsize = 16)\n",
    "plt.xlabel('T ($^\\circ$ C)', fontsize = 16)\n",
    "plt.tick_params(labelsize=16)\n",
    "plt.ylim(-0.1,45)\n",
    "\n",
    "fig.savefig('../paper/results_theta90.eps')"
   ]
  },
  {
   "cell_type": "raw",
   "metadata": {},
   "source": []
  },
  {
   "cell_type": "code",
   "execution_count": 55,
   "metadata": {
    "colab": {},
    "colab_type": "code",
    "id": "ZaXv4N3XPgO8"
   },
   "outputs": [
    {
     "ename": "FileNotFoundError",
     "evalue": "[Errno 2] No such file or directory: '/content/gdrive/My Drive/data/netc_O2.csv'",
     "output_type": "error",
     "traceback": [
      "\u001b[0;31m---------------------------------------------------------------------------\u001b[0m",
      "\u001b[0;31mFileNotFoundError\u001b[0m                         Traceback (most recent call last)",
      "\u001b[0;32m<ipython-input-55-c8f9775d89c6>\u001b[0m in \u001b[0;36m<module>\u001b[0;34m\u001b[0m\n\u001b[1;32m      1\u001b[0m \u001b[0mpdo2\u001b[0m \u001b[0;34m=\u001b[0m \u001b[0mpd\u001b[0m\u001b[0;34m.\u001b[0m\u001b[0mDataFrame\u001b[0m\u001b[0;34m(\u001b[0m\u001b[0;34m{\u001b[0m\u001b[0;34m'MAE_list'\u001b[0m\u001b[0;34m:\u001b[0m \u001b[0mMAE_list_C\u001b[0m\u001b[0;34m,\u001b[0m \u001b[0;34m'MAE_xticks'\u001b[0m\u001b[0;34m:\u001b[0m \u001b[0mMAE_xticks_C\u001b[0m\u001b[0;34m,\u001b[0m \u001b[0;34m'MAE_boxplot'\u001b[0m\u001b[0;34m:\u001b[0m \u001b[0mMAE_boxplot_C\u001b[0m\u001b[0;34m}\u001b[0m\u001b[0;34m)\u001b[0m\u001b[0;34m\u001b[0m\u001b[0;34m\u001b[0m\u001b[0m\n\u001b[1;32m      2\u001b[0m \u001b[0mpdT\u001b[0m \u001b[0;34m=\u001b[0m \u001b[0mpd\u001b[0m\u001b[0;34m.\u001b[0m\u001b[0mDataFrame\u001b[0m\u001b[0;34m(\u001b[0m\u001b[0;34m{\u001b[0m\u001b[0;34m'MAET_list'\u001b[0m\u001b[0;34m:\u001b[0m \u001b[0mMAET_list_C_MTL\u001b[0m\u001b[0;34m,\u001b[0m\u001b[0;34m'MAET_boxplot'\u001b[0m\u001b[0;34m:\u001b[0m \u001b[0mMAET_boxplot_C_MTL\u001b[0m\u001b[0;34m,\u001b[0m \u001b[0;34m'MAET_xticks'\u001b[0m\u001b[0;34m:\u001b[0m\u001b[0mMAET_xticks_C_MTL\u001b[0m\u001b[0;34m}\u001b[0m\u001b[0;34m)\u001b[0m\u001b[0;34m\u001b[0m\u001b[0;34m\u001b[0m\u001b[0m\n\u001b[0;32m----> 3\u001b[0;31m \u001b[0mpdo2\u001b[0m\u001b[0;34m.\u001b[0m\u001b[0mto_csv\u001b[0m\u001b[0;34m(\u001b[0m\u001b[0;34m'/content/gdrive/My Drive/data/netc_O2.csv'\u001b[0m\u001b[0;34m)\u001b[0m\u001b[0;34m\u001b[0m\u001b[0;34m\u001b[0m\u001b[0m\n\u001b[0m\u001b[1;32m      4\u001b[0m \u001b[0mpdT\u001b[0m\u001b[0;34m.\u001b[0m\u001b[0mto_csv\u001b[0m\u001b[0;34m(\u001b[0m\u001b[0;34m'/content/gdrive/My Drive/data/netc_T.csv'\u001b[0m\u001b[0;34m)\u001b[0m\u001b[0;34m\u001b[0m\u001b[0;34m\u001b[0m\u001b[0m\n",
      "\u001b[0;32m~/Python-Environments/tfenv2/lib/python3.7/site-packages/pandas/core/generic.py\u001b[0m in \u001b[0;36mto_csv\u001b[0;34m(self, path_or_buf, sep, na_rep, float_format, columns, header, index, index_label, mode, encoding, compression, quoting, quotechar, line_terminator, chunksize, date_format, doublequote, escapechar, decimal)\u001b[0m\n\u001b[1;32m   3226\u001b[0m             \u001b[0mdecimal\u001b[0m\u001b[0;34m=\u001b[0m\u001b[0mdecimal\u001b[0m\u001b[0;34m,\u001b[0m\u001b[0;34m\u001b[0m\u001b[0;34m\u001b[0m\u001b[0m\n\u001b[1;32m   3227\u001b[0m         )\n\u001b[0;32m-> 3228\u001b[0;31m         \u001b[0mformatter\u001b[0m\u001b[0;34m.\u001b[0m\u001b[0msave\u001b[0m\u001b[0;34m(\u001b[0m\u001b[0;34m)\u001b[0m\u001b[0;34m\u001b[0m\u001b[0;34m\u001b[0m\u001b[0m\n\u001b[0m\u001b[1;32m   3229\u001b[0m \u001b[0;34m\u001b[0m\u001b[0m\n\u001b[1;32m   3230\u001b[0m         \u001b[0;32mif\u001b[0m \u001b[0mpath_or_buf\u001b[0m \u001b[0;32mis\u001b[0m \u001b[0;32mNone\u001b[0m\u001b[0;34m:\u001b[0m\u001b[0;34m\u001b[0m\u001b[0;34m\u001b[0m\u001b[0m\n",
      "\u001b[0;32m~/Python-Environments/tfenv2/lib/python3.7/site-packages/pandas/io/formats/csvs.py\u001b[0m in \u001b[0;36msave\u001b[0;34m(self)\u001b[0m\n\u001b[1;32m    181\u001b[0m                 \u001b[0mself\u001b[0m\u001b[0;34m.\u001b[0m\u001b[0mmode\u001b[0m\u001b[0;34m,\u001b[0m\u001b[0;34m\u001b[0m\u001b[0;34m\u001b[0m\u001b[0m\n\u001b[1;32m    182\u001b[0m                 \u001b[0mencoding\u001b[0m\u001b[0;34m=\u001b[0m\u001b[0mself\u001b[0m\u001b[0;34m.\u001b[0m\u001b[0mencoding\u001b[0m\u001b[0;34m,\u001b[0m\u001b[0;34m\u001b[0m\u001b[0;34m\u001b[0m\u001b[0m\n\u001b[0;32m--> 183\u001b[0;31m                 \u001b[0mcompression\u001b[0m\u001b[0;34m=\u001b[0m\u001b[0mself\u001b[0m\u001b[0;34m.\u001b[0m\u001b[0mcompression\u001b[0m\u001b[0;34m,\u001b[0m\u001b[0;34m\u001b[0m\u001b[0;34m\u001b[0m\u001b[0m\n\u001b[0m\u001b[1;32m    184\u001b[0m             )\n\u001b[1;32m    185\u001b[0m             \u001b[0mclose\u001b[0m \u001b[0;34m=\u001b[0m \u001b[0;32mTrue\u001b[0m\u001b[0;34m\u001b[0m\u001b[0;34m\u001b[0m\u001b[0m\n",
      "\u001b[0;32m~/Python-Environments/tfenv2/lib/python3.7/site-packages/pandas/io/common.py\u001b[0m in \u001b[0;36m_get_handle\u001b[0;34m(path_or_buf, mode, encoding, compression, memory_map, is_text)\u001b[0m\n\u001b[1;32m    397\u001b[0m         \u001b[0;32mif\u001b[0m \u001b[0mencoding\u001b[0m\u001b[0;34m:\u001b[0m\u001b[0;34m\u001b[0m\u001b[0;34m\u001b[0m\u001b[0m\n\u001b[1;32m    398\u001b[0m             \u001b[0;31m# Encoding\u001b[0m\u001b[0;34m\u001b[0m\u001b[0;34m\u001b[0m\u001b[0;34m\u001b[0m\u001b[0m\n\u001b[0;32m--> 399\u001b[0;31m             \u001b[0mf\u001b[0m \u001b[0;34m=\u001b[0m \u001b[0mopen\u001b[0m\u001b[0;34m(\u001b[0m\u001b[0mpath_or_buf\u001b[0m\u001b[0;34m,\u001b[0m \u001b[0mmode\u001b[0m\u001b[0;34m,\u001b[0m \u001b[0mencoding\u001b[0m\u001b[0;34m=\u001b[0m\u001b[0mencoding\u001b[0m\u001b[0;34m,\u001b[0m \u001b[0mnewline\u001b[0m\u001b[0;34m=\u001b[0m\u001b[0;34m\"\"\u001b[0m\u001b[0;34m)\u001b[0m\u001b[0;34m\u001b[0m\u001b[0;34m\u001b[0m\u001b[0m\n\u001b[0m\u001b[1;32m    400\u001b[0m         \u001b[0;32melif\u001b[0m \u001b[0mis_text\u001b[0m\u001b[0;34m:\u001b[0m\u001b[0;34m\u001b[0m\u001b[0;34m\u001b[0m\u001b[0m\n\u001b[1;32m    401\u001b[0m             \u001b[0;31m# No explicit encoding\u001b[0m\u001b[0;34m\u001b[0m\u001b[0;34m\u001b[0m\u001b[0;34m\u001b[0m\u001b[0m\n",
      "\u001b[0;31mFileNotFoundError\u001b[0m: [Errno 2] No such file or directory: '/content/gdrive/My Drive/data/netc_O2.csv'"
     ]
    }
   ],
   "source": [
    "pdo2 = pd.DataFrame({'MAE_list': MAE_list_C, 'MAE_xticks': MAE_xticks_C, 'MAE_boxplot': MAE_boxplot_C})\n",
    "pdT = pd.DataFrame({'MAET_list': MAET_list_C_MTL,'MAET_boxplot': MAET_boxplot_C_MTL, 'MAET_xticks':MAET_xticks_C_MTL})\n",
    "pdo2.to_csv('/content/gdrive/My Drive/data/netc_O2.csv')\n",
    "pdT.to_csv('/content/gdrive/My Drive/data/netc_T.csv')"
   ]
  },
  {
   "cell_type": "code",
   "execution_count": 185,
   "metadata": {
    "colab": {
     "base_uri": "https://localhost:8080/",
     "height": 35
    },
    "colab_type": "code",
    "id": "KqiYyQDqP2Vq",
    "outputId": "b4d2c13c-ec0c-48fc-ccd1-a8bebc36ec93"
   },
   "outputs": [
    {
     "data": {
      "text/plain": [
       "1.7852302603341024"
      ]
     },
     "execution_count": 185,
     "metadata": {},
     "output_type": "execute_result"
    }
   ],
   "source": [
    "np.mean(MAE_list_C)"
   ]
  },
  {
   "cell_type": "code",
   "execution_count": 186,
   "metadata": {
    "colab": {
     "base_uri": "https://localhost:8080/",
     "height": 35
    },
    "colab_type": "code",
    "id": "nKhkjo7Wtk_k",
    "outputId": "8aaa38bf-5b67-4c20-8468-ccde92757795"
   },
   "outputs": [
    {
     "data": {
      "text/plain": [
       "2.105622284124125"
      ]
     },
     "execution_count": 186,
     "metadata": {},
     "output_type": "execute_result"
    }
   ],
   "source": [
    "np.mean(MAET_list_C_MTL)"
   ]
  },
  {
   "cell_type": "code",
   "execution_count": 187,
   "metadata": {
    "colab": {},
    "colab_type": "code",
    "id": "wML_1MgiIn3-"
   },
   "outputs": [],
   "source": [
    "MAE_boxplot_C_flat = [item for sublist in MAE_boxplot_C for item in sublist]\n",
    "MAET_boxplot_C_MTL_flat = [item for sublist in MAET_boxplot_C_MTL for item in sublist]\n",
    "#type(MAE_boxplot_C)"
   ]
  },
  {
   "cell_type": "code",
   "execution_count": 397,
   "metadata": {
    "colab": {
     "base_uri": "https://localhost:8080/",
     "height": 373
    },
    "colab_type": "code",
    "id": "o60W8avLIZmv",
    "outputId": "fc55f5e4-dd8c-4601-b26e-78067e8c34c1"
   },
   "outputs": [
    {
     "data": {
      "text/plain": [
       "<Figure size 432x288 with 0 Axes>"
      ]
     },
     "metadata": {},
     "output_type": "display_data"
    },
    {
     "data": {
      "image/png": "[encoded data removed]",
      "text/plain": [
       "<Figure size 1152x360 with 2 Axes>"
      ]
     },
     "metadata": {
      "needs_background": "light"
     },
     "output_type": "display_data"
    }
   ],
   "source": [
    "\n",
    "    \n",
    "plt.tight_layout()\n",
    "\n",
    "fig = plt.figure(figsize=(16, 5))\n",
    "\n",
    "\n",
    "\n",
    "ax = fig.add_subplot(1, 2, 1)\n",
    "\n",
    "\n",
    "sns.distplot(MAE_boxplot_C_flat, color = 'black', hist = False, label = 'AE$_{[O_2]}$ KDE')\n",
    "\n",
    "\n",
    "ax.legend( fontsize = 16)\n",
    "\n",
    "#plt.xticks(range(1,len(neta50_O2['MAE_xticks'])+1), neta50_O2['MAE_xticks'], size='small', rotation = 'vertical')\n",
    "\n",
    "#plt.grid()\n",
    "\n",
    "plt.ylabel('Counts (normalized)', fontsize = 16)\n",
    "plt.xlabel('AE$_{[O_2]}$ (% air)', fontsize = 16)\n",
    "plt.tick_params(labelsize=16)\n",
    "plt.ylim(0, 0.5)\n",
    "plt.xlim(0, 20)\n",
    "\n",
    "\n",
    "ax = fig.add_subplot(1, 2,2)\n",
    "# MAE_boxplot_C, MAE_list_C, MAE_xticks_C\n",
    "sns.distplot(MAET_boxplot_C_MTL_flat,  color = 'black', hist = False, label = 'Temperature KDE')\n",
    "    \n",
    "#plt.ylim(-0.2, 2.9)\n",
    "    \n",
    "#ax.text(1, 1.5, 'Value for $[O_2] = 100$ % Air', fontsize = 18)\n",
    "\n",
    "plt.xlabel('T (C)', fontsize = 16)\n",
    "plt.tick_params(labelsize=16)\n",
    "ax.legend( fontsize = 16)\n",
    "plt.ylim(0, 0.5)\n",
    "plt.xlim(0, 20)\n",
    "\n",
    "\n",
    "\n",
    "\n",
    "plt.show()\n",
    "\n",
    "#fig.savefig('/content/gdrive/My Drive/plot3.eps', format='eps', dpi=300,bbox_inches='tight')\n",
    "\n",
    "\n",
    "\n",
    "#fig.savefig('Figures/absolute_error_for_T_boxplots.eps', format='eps', dpi=300,bbox_inches='tight')"
   ]
  },
  {
   "cell_type": "markdown",
   "metadata": {
    "colab_type": "text",
    "id": "m7C-IbK3ZvFw"
   },
   "source": [
    "# VERSIONS"
   ]
  },
  {
   "cell_type": "code",
   "execution_count": null,
   "metadata": {
    "colab": {
     "base_uri": "https://localhost:8080/",
     "height": 53
    },
    "colab_type": "code",
    "id": "WrPML1U5ZvFx",
    "outputId": "d0049d44-9ee6-408e-9dae-4da7a635d6f6"
   },
   "outputs": [],
   "source": [
    "import tensorflow as tf\n",
    "from tensorflow.keras import layers\n",
    "\n",
    "print(tf.VERSION)\n",
    "print(tf.keras.__version__)"
   ]
  },
  {
   "cell_type": "code",
   "execution_count": null,
   "metadata": {
    "colab": {},
    "colab_type": "code",
    "id": "wOiy_88tJv10"
   },
   "outputs": [],
   "source": [
    "p"
   ]
  }
 ],
 "metadata": {
  "accelerator": "GPU",
  "colab": {
   "collapsed_sections": [],
   "include_colab_link": true,
   "name": "O2 prediction model - Network C v2 O2T Paper.ipynb",
   "provenance": []
  },
  "kernelspec": {
   "display_name": "Python 3",
   "language": "python",
   "name": "python3"
  },
  "language_info": {
   "codemirror_mode": {
    "name": "ipython",
    "version": 3
   },
   "file_extension": ".py",
   "mimetype": "text/x-python",
   "name": "python",
   "nbconvert_exporter": "python",
   "pygments_lexer": "ipython3",
   "version": "3.7.2"
  }
 },
 "nbformat": 4,
 "nbformat_minor": 2
}
